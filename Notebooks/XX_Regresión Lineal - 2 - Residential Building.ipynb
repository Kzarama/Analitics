{
 "cells": [
  {
   "cell_type": "markdown",
   "metadata": {},
   "source": [
    "# Regresión lineal"
   ]
  },
  {
   "cell_type": "markdown",
   "metadata": {},
   "source": [
    "Importamos las librerías que vamos a utilizar"
   ]
  },
  {
   "cell_type": "code",
   "execution_count": 1,
   "metadata": {},
   "outputs": [],
   "source": [
    "import numpy as np #operaciones matriciales y con vectores\n",
    "import pandas as pd #tratamiento de datos\n",
    "import matplotlib.pyplot as plt #gráficos\n",
    "from sklearn import datasets, linear_model #datasets y modelos de aprendizaje automático (ML)\n",
    "from sklearn.model_selection import train_test_split #metodo de particionamiento de datasets para evaluación\n",
    "from sklearn.model_selection import cross_val_score, cross_validate #método para evaluar varios particionamientos de C-V\n",
    "from sklearn.metrics import mean_squared_error, r2_score\n",
    "import seaborn as sns\n",
    "\n",
    "from scipy import stats #para poder hacer cálculos científicos --> valores p\n",
    "import statsmodels.api as sm"
   ]
  },
  {
   "cell_type": "markdown",
   "metadata": {},
   "source": [
    "## Preparación de los datos"
   ]
  },
  {
   "cell_type": "markdown",
   "metadata": {},
   "source": [
    "Vamos a cargar en un **dataframe** de ***pandas*** el datset \"ResidentialBuiliding\" que se encuentra en un archivo EXCEL."
   ]
  },
  {
   "cell_type": "code",
   "execution_count": 2,
   "metadata": {},
   "outputs": [],
   "source": [
    "data = pd.read_excel(\"03_ResidentialBuilding.xlsx\")"
   ]
  },
  {
   "cell_type": "code",
   "execution_count": 3,
   "metadata": {},
   "outputs": [
    {
     "name": "stdout",
     "output_type": "stream",
     "text": [
      "(372, 8)\n"
     ]
    },
    {
     "data": {
      "text/html": [
       "<div>\n",
       "<style scoped>\n",
       "    .dataframe tbody tr th:only-of-type {\n",
       "        vertical-align: middle;\n",
       "    }\n",
       "\n",
       "    .dataframe tbody tr th {\n",
       "        vertical-align: top;\n",
       "    }\n",
       "\n",
       "    .dataframe thead th {\n",
       "        text-align: right;\n",
       "    }\n",
       "</style>\n",
       "<table border=\"1\" class=\"dataframe\">\n",
       "  <thead>\n",
       "    <tr style=\"text-align: right;\">\n",
       "      <th></th>\n",
       "      <th>zipcode</th>\n",
       "      <th>total_floor_area</th>\n",
       "      <th>lot_area</th>\n",
       "      <th>total_cost_preliminary_estimation</th>\n",
       "      <th>duration_construction</th>\n",
       "      <th>price_unit_begining_project</th>\n",
       "      <th>total_population</th>\n",
       "      <th>actual_construction_cost</th>\n",
       "    </tr>\n",
       "  </thead>\n",
       "  <tbody>\n",
       "    <tr>\n",
       "      <th>0</th>\n",
       "      <td>1</td>\n",
       "      <td>3150.0</td>\n",
       "      <td>920.0</td>\n",
       "      <td>598.5</td>\n",
       "      <td>16</td>\n",
       "      <td>1200</td>\n",
       "      <td>41407.0</td>\n",
       "      <td>410</td>\n",
       "    </tr>\n",
       "    <tr>\n",
       "      <th>1</th>\n",
       "      <td>1</td>\n",
       "      <td>7600.0</td>\n",
       "      <td>1140.0</td>\n",
       "      <td>3040.0</td>\n",
       "      <td>23</td>\n",
       "      <td>2900</td>\n",
       "      <td>44835.0</td>\n",
       "      <td>1000</td>\n",
       "    </tr>\n",
       "    <tr>\n",
       "      <th>2</th>\n",
       "      <td>1</td>\n",
       "      <td>4800.0</td>\n",
       "      <td>840.0</td>\n",
       "      <td>480.0</td>\n",
       "      <td>15</td>\n",
       "      <td>630</td>\n",
       "      <td>37933.0</td>\n",
       "      <td>170</td>\n",
       "    </tr>\n",
       "    <tr>\n",
       "      <th>3</th>\n",
       "      <td>1</td>\n",
       "      <td>685.0</td>\n",
       "      <td>202.0</td>\n",
       "      <td>13.7</td>\n",
       "      <td>4</td>\n",
       "      <td>140</td>\n",
       "      <td>8194.0</td>\n",
       "      <td>30</td>\n",
       "    </tr>\n",
       "    <tr>\n",
       "      <th>4</th>\n",
       "      <td>1</td>\n",
       "      <td>3000.0</td>\n",
       "      <td>800.0</td>\n",
       "      <td>1230.0</td>\n",
       "      <td>13</td>\n",
       "      <td>5000</td>\n",
       "      <td>48260.0</td>\n",
       "      <td>700</td>\n",
       "    </tr>\n",
       "  </tbody>\n",
       "</table>\n",
       "</div>"
      ],
      "text/plain": [
       "   zipcode  total_floor_area  lot_area  total_cost_preliminary_estimation  \\\n",
       "0        1            3150.0     920.0                              598.5   \n",
       "1        1            7600.0    1140.0                             3040.0   \n",
       "2        1            4800.0     840.0                              480.0   \n",
       "3        1             685.0     202.0                               13.7   \n",
       "4        1            3000.0     800.0                             1230.0   \n",
       "\n",
       "   duration_construction  price_unit_begining_project  total_population  \\\n",
       "0                     16                         1200           41407.0   \n",
       "1                     23                         2900           44835.0   \n",
       "2                     15                          630           37933.0   \n",
       "3                      4                          140            8194.0   \n",
       "4                     13                         5000           48260.0   \n",
       "\n",
       "   actual_construction_cost  \n",
       "0                       410  \n",
       "1                      1000  \n",
       "2                       170  \n",
       "3                        30  \n",
       "4                       700  "
      ]
     },
     "execution_count": 3,
     "metadata": {},
     "output_type": "execute_result"
    }
   ],
   "source": [
    "print(data.shape)\n",
    "data.head()"
   ]
  },
  {
   "cell_type": "markdown",
   "metadata": {},
   "source": [
    "Hay 372 registros con 8 variables.\n",
    "Vamos a analizar si hay problemas de datos con respecto a valores faltantes y outliers"
   ]
  },
  {
   "cell_type": "code",
   "execution_count": 4,
   "metadata": {},
   "outputs": [
    {
     "data": {
      "text/html": [
       "<div>\n",
       "<style scoped>\n",
       "    .dataframe tbody tr th:only-of-type {\n",
       "        vertical-align: middle;\n",
       "    }\n",
       "\n",
       "    .dataframe tbody tr th {\n",
       "        vertical-align: top;\n",
       "    }\n",
       "\n",
       "    .dataframe thead th {\n",
       "        text-align: right;\n",
       "    }\n",
       "</style>\n",
       "<table border=\"1\" class=\"dataframe\">\n",
       "  <thead>\n",
       "    <tr style=\"text-align: right;\">\n",
       "      <th></th>\n",
       "      <th>count</th>\n",
       "      <th>mean</th>\n",
       "      <th>std</th>\n",
       "      <th>min</th>\n",
       "      <th>25%</th>\n",
       "      <th>50%</th>\n",
       "      <th>75%</th>\n",
       "      <th>max</th>\n",
       "    </tr>\n",
       "  </thead>\n",
       "  <tbody>\n",
       "    <tr>\n",
       "      <th>zipcode</th>\n",
       "      <td>372.0</td>\n",
       "      <td>9.728495</td>\n",
       "      <td>6.563309</td>\n",
       "      <td>1.0</td>\n",
       "      <td>4.0</td>\n",
       "      <td>8.00</td>\n",
       "      <td>17.00</td>\n",
       "      <td>20.0</td>\n",
       "    </tr>\n",
       "    <tr>\n",
       "      <th>total_floor_area</th>\n",
       "      <td>372.0</td>\n",
       "      <td>1729.044355</td>\n",
       "      <td>1802.371491</td>\n",
       "      <td>200.0</td>\n",
       "      <td>720.0</td>\n",
       "      <td>1220.00</td>\n",
       "      <td>2100.00</td>\n",
       "      <td>15670.0</td>\n",
       "    </tr>\n",
       "    <tr>\n",
       "      <th>lot_area</th>\n",
       "      <td>372.0</td>\n",
       "      <td>426.114247</td>\n",
       "      <td>490.076498</td>\n",
       "      <td>60.0</td>\n",
       "      <td>190.0</td>\n",
       "      <td>300.00</td>\n",
       "      <td>490.50</td>\n",
       "      <td>5000.0</td>\n",
       "    </tr>\n",
       "    <tr>\n",
       "      <th>total_cost_preliminary_estimation</th>\n",
       "      <td>372.0</td>\n",
       "      <td>327.904086</td>\n",
       "      <td>563.544337</td>\n",
       "      <td>3.7</td>\n",
       "      <td>67.8</td>\n",
       "      <td>164.70</td>\n",
       "      <td>366.05</td>\n",
       "      <td>7208.2</td>\n",
       "    </tr>\n",
       "    <tr>\n",
       "      <th>duration_construction</th>\n",
       "      <td>372.0</td>\n",
       "      <td>6.266129</td>\n",
       "      <td>2.096495</td>\n",
       "      <td>2.0</td>\n",
       "      <td>5.0</td>\n",
       "      <td>6.00</td>\n",
       "      <td>7.00</td>\n",
       "      <td>23.0</td>\n",
       "    </tr>\n",
       "    <tr>\n",
       "      <th>price_unit_begining_project</th>\n",
       "      <td>372.0</td>\n",
       "      <td>1088.118280</td>\n",
       "      <td>995.826172</td>\n",
       "      <td>40.0</td>\n",
       "      <td>440.0</td>\n",
       "      <td>805.00</td>\n",
       "      <td>1300.00</td>\n",
       "      <td>5700.0</td>\n",
       "    </tr>\n",
       "    <tr>\n",
       "      <th>total_population</th>\n",
       "      <td>372.0</td>\n",
       "      <td>27551.883065</td>\n",
       "      <td>13516.283345</td>\n",
       "      <td>8194.0</td>\n",
       "      <td>12065.0</td>\n",
       "      <td>25758.75</td>\n",
       "      <td>40234.00</td>\n",
       "      <td>49572.0</td>\n",
       "    </tr>\n",
       "    <tr>\n",
       "      <th>actual_construction_cost</th>\n",
       "      <td>372.0</td>\n",
       "      <td>232.647849</td>\n",
       "      <td>162.627656</td>\n",
       "      <td>20.0</td>\n",
       "      <td>110.0</td>\n",
       "      <td>190.00</td>\n",
       "      <td>330.00</td>\n",
       "      <td>1000.0</td>\n",
       "    </tr>\n",
       "  </tbody>\n",
       "</table>\n",
       "</div>"
      ],
      "text/plain": [
       "                                   count          mean           std     min  \\\n",
       "zipcode                            372.0      9.728495      6.563309     1.0   \n",
       "total_floor_area                   372.0   1729.044355   1802.371491   200.0   \n",
       "lot_area                           372.0    426.114247    490.076498    60.0   \n",
       "total_cost_preliminary_estimation  372.0    327.904086    563.544337     3.7   \n",
       "duration_construction              372.0      6.266129      2.096495     2.0   \n",
       "price_unit_begining_project        372.0   1088.118280    995.826172    40.0   \n",
       "total_population                   372.0  27551.883065  13516.283345  8194.0   \n",
       "actual_construction_cost           372.0    232.647849    162.627656    20.0   \n",
       "\n",
       "                                       25%       50%       75%      max  \n",
       "zipcode                                4.0      8.00     17.00     20.0  \n",
       "total_floor_area                     720.0   1220.00   2100.00  15670.0  \n",
       "lot_area                             190.0    300.00    490.50   5000.0  \n",
       "total_cost_preliminary_estimation     67.8    164.70    366.05   7208.2  \n",
       "duration_construction                  5.0      6.00      7.00     23.0  \n",
       "price_unit_begining_project          440.0    805.00   1300.00   5700.0  \n",
       "total_population                   12065.0  25758.75  40234.00  49572.0  \n",
       "actual_construction_cost             110.0    190.00    330.00   1000.0  "
      ]
     },
     "execution_count": 4,
     "metadata": {},
     "output_type": "execute_result"
    }
   ],
   "source": [
    "data.describe().transpose()"
   ]
  },
  {
   "cell_type": "markdown",
   "metadata": {},
   "source": [
    "No hay problemas de valores faltantes.\n",
    "Sin embargo, el zipcode se está considerando como un dato numérico, cuando en realidad es un dato categórico que utiliza una codificación numérica par diferenciar diferentes zonas de la ciudad."
   ]
  },
  {
   "cell_type": "code",
   "execution_count": 5,
   "metadata": {},
   "outputs": [
    {
     "data": {
      "text/html": [
       "<div>\n",
       "<style scoped>\n",
       "    .dataframe tbody tr th:only-of-type {\n",
       "        vertical-align: middle;\n",
       "    }\n",
       "\n",
       "    .dataframe tbody tr th {\n",
       "        vertical-align: top;\n",
       "    }\n",
       "\n",
       "    .dataframe thead th {\n",
       "        text-align: right;\n",
       "    }\n",
       "</style>\n",
       "<table border=\"1\" class=\"dataframe\">\n",
       "  <thead>\n",
       "    <tr style=\"text-align: right;\">\n",
       "      <th></th>\n",
       "      <th>zipcode</th>\n",
       "      <th>total_floor_area</th>\n",
       "      <th>lot_area</th>\n",
       "      <th>total_cost_preliminary_estimation</th>\n",
       "      <th>duration_construction</th>\n",
       "      <th>price_unit_begining_project</th>\n",
       "      <th>total_population</th>\n",
       "      <th>actual_construction_cost</th>\n",
       "    </tr>\n",
       "  </thead>\n",
       "  <tbody>\n",
       "    <tr>\n",
       "      <th>count</th>\n",
       "      <td>372</td>\n",
       "      <td>372.000000</td>\n",
       "      <td>372.000000</td>\n",
       "      <td>372.000000</td>\n",
       "      <td>372.000000</td>\n",
       "      <td>372.000000</td>\n",
       "      <td>372.000000</td>\n",
       "      <td>372.000000</td>\n",
       "    </tr>\n",
       "    <tr>\n",
       "      <th>unique</th>\n",
       "      <td>20</td>\n",
       "      <td>NaN</td>\n",
       "      <td>NaN</td>\n",
       "      <td>NaN</td>\n",
       "      <td>NaN</td>\n",
       "      <td>NaN</td>\n",
       "      <td>NaN</td>\n",
       "      <td>NaN</td>\n",
       "    </tr>\n",
       "    <tr>\n",
       "      <th>top</th>\n",
       "      <td>4</td>\n",
       "      <td>NaN</td>\n",
       "      <td>NaN</td>\n",
       "      <td>NaN</td>\n",
       "      <td>NaN</td>\n",
       "      <td>NaN</td>\n",
       "      <td>NaN</td>\n",
       "      <td>NaN</td>\n",
       "    </tr>\n",
       "    <tr>\n",
       "      <th>freq</th>\n",
       "      <td>33</td>\n",
       "      <td>NaN</td>\n",
       "      <td>NaN</td>\n",
       "      <td>NaN</td>\n",
       "      <td>NaN</td>\n",
       "      <td>NaN</td>\n",
       "      <td>NaN</td>\n",
       "      <td>NaN</td>\n",
       "    </tr>\n",
       "    <tr>\n",
       "      <th>mean</th>\n",
       "      <td>NaN</td>\n",
       "      <td>1729.044355</td>\n",
       "      <td>426.114247</td>\n",
       "      <td>327.904086</td>\n",
       "      <td>6.266129</td>\n",
       "      <td>1088.118280</td>\n",
       "      <td>27551.883065</td>\n",
       "      <td>232.647849</td>\n",
       "    </tr>\n",
       "    <tr>\n",
       "      <th>std</th>\n",
       "      <td>NaN</td>\n",
       "      <td>1802.371491</td>\n",
       "      <td>490.076498</td>\n",
       "      <td>563.544337</td>\n",
       "      <td>2.096495</td>\n",
       "      <td>995.826172</td>\n",
       "      <td>13516.283345</td>\n",
       "      <td>162.627656</td>\n",
       "    </tr>\n",
       "    <tr>\n",
       "      <th>min</th>\n",
       "      <td>NaN</td>\n",
       "      <td>200.000000</td>\n",
       "      <td>60.000000</td>\n",
       "      <td>3.700000</td>\n",
       "      <td>2.000000</td>\n",
       "      <td>40.000000</td>\n",
       "      <td>8194.000000</td>\n",
       "      <td>20.000000</td>\n",
       "    </tr>\n",
       "    <tr>\n",
       "      <th>25%</th>\n",
       "      <td>NaN</td>\n",
       "      <td>720.000000</td>\n",
       "      <td>190.000000</td>\n",
       "      <td>67.800000</td>\n",
       "      <td>5.000000</td>\n",
       "      <td>440.000000</td>\n",
       "      <td>12065.000000</td>\n",
       "      <td>110.000000</td>\n",
       "    </tr>\n",
       "    <tr>\n",
       "      <th>50%</th>\n",
       "      <td>NaN</td>\n",
       "      <td>1220.000000</td>\n",
       "      <td>300.000000</td>\n",
       "      <td>164.700000</td>\n",
       "      <td>6.000000</td>\n",
       "      <td>805.000000</td>\n",
       "      <td>25758.750000</td>\n",
       "      <td>190.000000</td>\n",
       "    </tr>\n",
       "    <tr>\n",
       "      <th>75%</th>\n",
       "      <td>NaN</td>\n",
       "      <td>2100.000000</td>\n",
       "      <td>490.500000</td>\n",
       "      <td>366.050000</td>\n",
       "      <td>7.000000</td>\n",
       "      <td>1300.000000</td>\n",
       "      <td>40234.000000</td>\n",
       "      <td>330.000000</td>\n",
       "    </tr>\n",
       "    <tr>\n",
       "      <th>max</th>\n",
       "      <td>NaN</td>\n",
       "      <td>15670.000000</td>\n",
       "      <td>5000.000000</td>\n",
       "      <td>7208.200000</td>\n",
       "      <td>23.000000</td>\n",
       "      <td>5700.000000</td>\n",
       "      <td>49572.000000</td>\n",
       "      <td>1000.000000</td>\n",
       "    </tr>\n",
       "  </tbody>\n",
       "</table>\n",
       "</div>"
      ],
      "text/plain": [
       "       zipcode  total_floor_area     lot_area  \\\n",
       "count      372        372.000000   372.000000   \n",
       "unique      20               NaN          NaN   \n",
       "top          4               NaN          NaN   \n",
       "freq        33               NaN          NaN   \n",
       "mean       NaN       1729.044355   426.114247   \n",
       "std        NaN       1802.371491   490.076498   \n",
       "min        NaN        200.000000    60.000000   \n",
       "25%        NaN        720.000000   190.000000   \n",
       "50%        NaN       1220.000000   300.000000   \n",
       "75%        NaN       2100.000000   490.500000   \n",
       "max        NaN      15670.000000  5000.000000   \n",
       "\n",
       "        total_cost_preliminary_estimation  duration_construction  \\\n",
       "count                          372.000000             372.000000   \n",
       "unique                                NaN                    NaN   \n",
       "top                                   NaN                    NaN   \n",
       "freq                                  NaN                    NaN   \n",
       "mean                           327.904086               6.266129   \n",
       "std                            563.544337               2.096495   \n",
       "min                              3.700000               2.000000   \n",
       "25%                             67.800000               5.000000   \n",
       "50%                            164.700000               6.000000   \n",
       "75%                            366.050000               7.000000   \n",
       "max                           7208.200000              23.000000   \n",
       "\n",
       "        price_unit_begining_project  total_population  \\\n",
       "count                    372.000000        372.000000   \n",
       "unique                          NaN               NaN   \n",
       "top                             NaN               NaN   \n",
       "freq                            NaN               NaN   \n",
       "mean                    1088.118280      27551.883065   \n",
       "std                      995.826172      13516.283345   \n",
       "min                       40.000000       8194.000000   \n",
       "25%                      440.000000      12065.000000   \n",
       "50%                      805.000000      25758.750000   \n",
       "75%                     1300.000000      40234.000000   \n",
       "max                     5700.000000      49572.000000   \n",
       "\n",
       "        actual_construction_cost  \n",
       "count                 372.000000  \n",
       "unique                       NaN  \n",
       "top                          NaN  \n",
       "freq                         NaN  \n",
       "mean                  232.647849  \n",
       "std                   162.627656  \n",
       "min                    20.000000  \n",
       "25%                   110.000000  \n",
       "50%                   190.000000  \n",
       "75%                   330.000000  \n",
       "max                  1000.000000  "
      ]
     },
     "execution_count": 5,
     "metadata": {},
     "output_type": "execute_result"
    }
   ],
   "source": [
    "data.zipcode = data.zipcode.astype(str)\n",
    "data.columns\n",
    "data.describe(include='all')"
   ]
  },
  {
   "cell_type": "markdown",
   "metadata": {},
   "source": [
    "Es necesario crear variables dummy para cada uno de sus 20 valores."
   ]
  },
  {
   "cell_type": "code",
   "execution_count": 6,
   "metadata": {},
   "outputs": [
    {
     "data": {
      "text/html": [
       "<div>\n",
       "<style scoped>\n",
       "    .dataframe tbody tr th:only-of-type {\n",
       "        vertical-align: middle;\n",
       "    }\n",
       "\n",
       "    .dataframe tbody tr th {\n",
       "        vertical-align: top;\n",
       "    }\n",
       "\n",
       "    .dataframe thead th {\n",
       "        text-align: right;\n",
       "    }\n",
       "</style>\n",
       "<table border=\"1\" class=\"dataframe\">\n",
       "  <thead>\n",
       "    <tr style=\"text-align: right;\">\n",
       "      <th></th>\n",
       "      <th>1</th>\n",
       "      <th>10</th>\n",
       "      <th>11</th>\n",
       "      <th>12</th>\n",
       "      <th>13</th>\n",
       "      <th>14</th>\n",
       "      <th>15</th>\n",
       "      <th>16</th>\n",
       "      <th>17</th>\n",
       "      <th>18</th>\n",
       "      <th>19</th>\n",
       "      <th>2</th>\n",
       "      <th>20</th>\n",
       "      <th>3</th>\n",
       "      <th>4</th>\n",
       "      <th>5</th>\n",
       "      <th>6</th>\n",
       "      <th>7</th>\n",
       "      <th>8</th>\n",
       "      <th>9</th>\n",
       "    </tr>\n",
       "  </thead>\n",
       "  <tbody>\n",
       "    <tr>\n",
       "      <th>0</th>\n",
       "      <td>1</td>\n",
       "      <td>0</td>\n",
       "      <td>0</td>\n",
       "      <td>0</td>\n",
       "      <td>0</td>\n",
       "      <td>0</td>\n",
       "      <td>0</td>\n",
       "      <td>0</td>\n",
       "      <td>0</td>\n",
       "      <td>0</td>\n",
       "      <td>0</td>\n",
       "      <td>0</td>\n",
       "      <td>0</td>\n",
       "      <td>0</td>\n",
       "      <td>0</td>\n",
       "      <td>0</td>\n",
       "      <td>0</td>\n",
       "      <td>0</td>\n",
       "      <td>0</td>\n",
       "      <td>0</td>\n",
       "    </tr>\n",
       "    <tr>\n",
       "      <th>1</th>\n",
       "      <td>1</td>\n",
       "      <td>0</td>\n",
       "      <td>0</td>\n",
       "      <td>0</td>\n",
       "      <td>0</td>\n",
       "      <td>0</td>\n",
       "      <td>0</td>\n",
       "      <td>0</td>\n",
       "      <td>0</td>\n",
       "      <td>0</td>\n",
       "      <td>0</td>\n",
       "      <td>0</td>\n",
       "      <td>0</td>\n",
       "      <td>0</td>\n",
       "      <td>0</td>\n",
       "      <td>0</td>\n",
       "      <td>0</td>\n",
       "      <td>0</td>\n",
       "      <td>0</td>\n",
       "      <td>0</td>\n",
       "    </tr>\n",
       "    <tr>\n",
       "      <th>2</th>\n",
       "      <td>1</td>\n",
       "      <td>0</td>\n",
       "      <td>0</td>\n",
       "      <td>0</td>\n",
       "      <td>0</td>\n",
       "      <td>0</td>\n",
       "      <td>0</td>\n",
       "      <td>0</td>\n",
       "      <td>0</td>\n",
       "      <td>0</td>\n",
       "      <td>0</td>\n",
       "      <td>0</td>\n",
       "      <td>0</td>\n",
       "      <td>0</td>\n",
       "      <td>0</td>\n",
       "      <td>0</td>\n",
       "      <td>0</td>\n",
       "      <td>0</td>\n",
       "      <td>0</td>\n",
       "      <td>0</td>\n",
       "    </tr>\n",
       "    <tr>\n",
       "      <th>3</th>\n",
       "      <td>1</td>\n",
       "      <td>0</td>\n",
       "      <td>0</td>\n",
       "      <td>0</td>\n",
       "      <td>0</td>\n",
       "      <td>0</td>\n",
       "      <td>0</td>\n",
       "      <td>0</td>\n",
       "      <td>0</td>\n",
       "      <td>0</td>\n",
       "      <td>0</td>\n",
       "      <td>0</td>\n",
       "      <td>0</td>\n",
       "      <td>0</td>\n",
       "      <td>0</td>\n",
       "      <td>0</td>\n",
       "      <td>0</td>\n",
       "      <td>0</td>\n",
       "      <td>0</td>\n",
       "      <td>0</td>\n",
       "    </tr>\n",
       "    <tr>\n",
       "      <th>4</th>\n",
       "      <td>1</td>\n",
       "      <td>0</td>\n",
       "      <td>0</td>\n",
       "      <td>0</td>\n",
       "      <td>0</td>\n",
       "      <td>0</td>\n",
       "      <td>0</td>\n",
       "      <td>0</td>\n",
       "      <td>0</td>\n",
       "      <td>0</td>\n",
       "      <td>0</td>\n",
       "      <td>0</td>\n",
       "      <td>0</td>\n",
       "      <td>0</td>\n",
       "      <td>0</td>\n",
       "      <td>0</td>\n",
       "      <td>0</td>\n",
       "      <td>0</td>\n",
       "      <td>0</td>\n",
       "      <td>0</td>\n",
       "    </tr>\n",
       "  </tbody>\n",
       "</table>\n",
       "</div>"
      ],
      "text/plain": [
       "   1  10  11  12  13  14  15  16  17  18  19  2  20  3  4  5  6  7  8  9\n",
       "0  1   0   0   0   0   0   0   0   0   0   0  0   0  0  0  0  0  0  0  0\n",
       "1  1   0   0   0   0   0   0   0   0   0   0  0   0  0  0  0  0  0  0  0\n",
       "2  1   0   0   0   0   0   0   0   0   0   0  0   0  0  0  0  0  0  0  0\n",
       "3  1   0   0   0   0   0   0   0   0   0   0  0   0  0  0  0  0  0  0  0\n",
       "4  1   0   0   0   0   0   0   0   0   0   0  0   0  0  0  0  0  0  0  0"
      ]
     },
     "execution_count": 6,
     "metadata": {},
     "output_type": "execute_result"
    }
   ],
   "source": [
    "dummyCols=pd.get_dummies(data.zipcode)\n",
    "dummyCols.head()"
   ]
  },
  {
   "cell_type": "code",
   "execution_count": 7,
   "metadata": {},
   "outputs": [],
   "source": [
    "dummyCols=pd.get_dummies(data.zipcode)\n",
    "del data['zipcode']"
   ]
  },
  {
   "cell_type": "code",
   "execution_count": 8,
   "metadata": {},
   "outputs": [
    {
     "data": {
      "text/plain": [
       "Index(['zip_1', 'zip_10', 'zip_11', 'zip_12', 'zip_13', 'zip_14', 'zip_15',\n",
       "       'zip_16', 'zip_17', 'zip_18', 'zip_19', 'zip_2', 'zip_20', 'zip_3',\n",
       "       'zip_4', 'zip_5', 'zip_6', 'zip_7', 'zip_8', 'zip_9'],\n",
       "      dtype='object')"
      ]
     },
     "execution_count": 8,
     "metadata": {},
     "output_type": "execute_result"
    }
   ],
   "source": [
    "dummyCols.columns = 'zip_' + dummyCols.columns\n",
    "dummyCols.columns"
   ]
  },
  {
   "cell_type": "code",
   "execution_count": 9,
   "metadata": {},
   "outputs": [],
   "source": [
    "data = data.join(dummyCols)"
   ]
  },
  {
   "cell_type": "code",
   "execution_count": 10,
   "metadata": {},
   "outputs": [
    {
     "data": {
      "text/html": [
       "<div>\n",
       "<style scoped>\n",
       "    .dataframe tbody tr th:only-of-type {\n",
       "        vertical-align: middle;\n",
       "    }\n",
       "\n",
       "    .dataframe tbody tr th {\n",
       "        vertical-align: top;\n",
       "    }\n",
       "\n",
       "    .dataframe thead th {\n",
       "        text-align: right;\n",
       "    }\n",
       "</style>\n",
       "<table border=\"1\" class=\"dataframe\">\n",
       "  <thead>\n",
       "    <tr style=\"text-align: right;\">\n",
       "      <th></th>\n",
       "      <th>count</th>\n",
       "      <th>mean</th>\n",
       "      <th>std</th>\n",
       "      <th>min</th>\n",
       "      <th>25%</th>\n",
       "      <th>50%</th>\n",
       "      <th>75%</th>\n",
       "      <th>max</th>\n",
       "    </tr>\n",
       "  </thead>\n",
       "  <tbody>\n",
       "    <tr>\n",
       "      <th>total_floor_area</th>\n",
       "      <td>372.0</td>\n",
       "      <td>1729.044355</td>\n",
       "      <td>1802.371491</td>\n",
       "      <td>200.0</td>\n",
       "      <td>720.0</td>\n",
       "      <td>1220.00</td>\n",
       "      <td>2100.00</td>\n",
       "      <td>15670.0</td>\n",
       "    </tr>\n",
       "    <tr>\n",
       "      <th>lot_area</th>\n",
       "      <td>372.0</td>\n",
       "      <td>426.114247</td>\n",
       "      <td>490.076498</td>\n",
       "      <td>60.0</td>\n",
       "      <td>190.0</td>\n",
       "      <td>300.00</td>\n",
       "      <td>490.50</td>\n",
       "      <td>5000.0</td>\n",
       "    </tr>\n",
       "    <tr>\n",
       "      <th>total_cost_preliminary_estimation</th>\n",
       "      <td>372.0</td>\n",
       "      <td>327.904086</td>\n",
       "      <td>563.544337</td>\n",
       "      <td>3.7</td>\n",
       "      <td>67.8</td>\n",
       "      <td>164.70</td>\n",
       "      <td>366.05</td>\n",
       "      <td>7208.2</td>\n",
       "    </tr>\n",
       "    <tr>\n",
       "      <th>duration_construction</th>\n",
       "      <td>372.0</td>\n",
       "      <td>6.266129</td>\n",
       "      <td>2.096495</td>\n",
       "      <td>2.0</td>\n",
       "      <td>5.0</td>\n",
       "      <td>6.00</td>\n",
       "      <td>7.00</td>\n",
       "      <td>23.0</td>\n",
       "    </tr>\n",
       "    <tr>\n",
       "      <th>price_unit_begining_project</th>\n",
       "      <td>372.0</td>\n",
       "      <td>1088.118280</td>\n",
       "      <td>995.826172</td>\n",
       "      <td>40.0</td>\n",
       "      <td>440.0</td>\n",
       "      <td>805.00</td>\n",
       "      <td>1300.00</td>\n",
       "      <td>5700.0</td>\n",
       "    </tr>\n",
       "    <tr>\n",
       "      <th>total_population</th>\n",
       "      <td>372.0</td>\n",
       "      <td>27551.883065</td>\n",
       "      <td>13516.283345</td>\n",
       "      <td>8194.0</td>\n",
       "      <td>12065.0</td>\n",
       "      <td>25758.75</td>\n",
       "      <td>40234.00</td>\n",
       "      <td>49572.0</td>\n",
       "    </tr>\n",
       "    <tr>\n",
       "      <th>actual_construction_cost</th>\n",
       "      <td>372.0</td>\n",
       "      <td>232.647849</td>\n",
       "      <td>162.627656</td>\n",
       "      <td>20.0</td>\n",
       "      <td>110.0</td>\n",
       "      <td>190.00</td>\n",
       "      <td>330.00</td>\n",
       "      <td>1000.0</td>\n",
       "    </tr>\n",
       "    <tr>\n",
       "      <th>zip_1</th>\n",
       "      <td>372.0</td>\n",
       "      <td>0.080645</td>\n",
       "      <td>0.272656</td>\n",
       "      <td>0.0</td>\n",
       "      <td>0.0</td>\n",
       "      <td>0.00</td>\n",
       "      <td>0.00</td>\n",
       "      <td>1.0</td>\n",
       "    </tr>\n",
       "    <tr>\n",
       "      <th>zip_10</th>\n",
       "      <td>372.0</td>\n",
       "      <td>0.018817</td>\n",
       "      <td>0.136062</td>\n",
       "      <td>0.0</td>\n",
       "      <td>0.0</td>\n",
       "      <td>0.00</td>\n",
       "      <td>0.00</td>\n",
       "      <td>1.0</td>\n",
       "    </tr>\n",
       "    <tr>\n",
       "      <th>zip_11</th>\n",
       "      <td>372.0</td>\n",
       "      <td>0.010753</td>\n",
       "      <td>0.103275</td>\n",
       "      <td>0.0</td>\n",
       "      <td>0.0</td>\n",
       "      <td>0.00</td>\n",
       "      <td>0.00</td>\n",
       "      <td>1.0</td>\n",
       "    </tr>\n",
       "    <tr>\n",
       "      <th>zip_12</th>\n",
       "      <td>372.0</td>\n",
       "      <td>0.034946</td>\n",
       "      <td>0.183891</td>\n",
       "      <td>0.0</td>\n",
       "      <td>0.0</td>\n",
       "      <td>0.00</td>\n",
       "      <td>0.00</td>\n",
       "      <td>1.0</td>\n",
       "    </tr>\n",
       "    <tr>\n",
       "      <th>zip_13</th>\n",
       "      <td>372.0</td>\n",
       "      <td>0.034946</td>\n",
       "      <td>0.183891</td>\n",
       "      <td>0.0</td>\n",
       "      <td>0.0</td>\n",
       "      <td>0.00</td>\n",
       "      <td>0.00</td>\n",
       "      <td>1.0</td>\n",
       "    </tr>\n",
       "    <tr>\n",
       "      <th>zip_14</th>\n",
       "      <td>372.0</td>\n",
       "      <td>0.056452</td>\n",
       "      <td>0.231103</td>\n",
       "      <td>0.0</td>\n",
       "      <td>0.0</td>\n",
       "      <td>0.00</td>\n",
       "      <td>0.00</td>\n",
       "      <td>1.0</td>\n",
       "    </tr>\n",
       "    <tr>\n",
       "      <th>zip_15</th>\n",
       "      <td>372.0</td>\n",
       "      <td>0.026882</td>\n",
       "      <td>0.161956</td>\n",
       "      <td>0.0</td>\n",
       "      <td>0.0</td>\n",
       "      <td>0.00</td>\n",
       "      <td>0.00</td>\n",
       "      <td>1.0</td>\n",
       "    </tr>\n",
       "    <tr>\n",
       "      <th>zip_16</th>\n",
       "      <td>372.0</td>\n",
       "      <td>0.018817</td>\n",
       "      <td>0.136062</td>\n",
       "      <td>0.0</td>\n",
       "      <td>0.0</td>\n",
       "      <td>0.00</td>\n",
       "      <td>0.00</td>\n",
       "      <td>1.0</td>\n",
       "    </tr>\n",
       "    <tr>\n",
       "      <th>zip_17</th>\n",
       "      <td>372.0</td>\n",
       "      <td>0.056452</td>\n",
       "      <td>0.231103</td>\n",
       "      <td>0.0</td>\n",
       "      <td>0.0</td>\n",
       "      <td>0.00</td>\n",
       "      <td>0.00</td>\n",
       "      <td>1.0</td>\n",
       "    </tr>\n",
       "    <tr>\n",
       "      <th>zip_18</th>\n",
       "      <td>372.0</td>\n",
       "      <td>0.053763</td>\n",
       "      <td>0.225854</td>\n",
       "      <td>0.0</td>\n",
       "      <td>0.0</td>\n",
       "      <td>0.00</td>\n",
       "      <td>0.00</td>\n",
       "      <td>1.0</td>\n",
       "    </tr>\n",
       "    <tr>\n",
       "      <th>zip_19</th>\n",
       "      <td>372.0</td>\n",
       "      <td>0.053763</td>\n",
       "      <td>0.225854</td>\n",
       "      <td>0.0</td>\n",
       "      <td>0.0</td>\n",
       "      <td>0.00</td>\n",
       "      <td>0.00</td>\n",
       "      <td>1.0</td>\n",
       "    </tr>\n",
       "    <tr>\n",
       "      <th>zip_2</th>\n",
       "      <td>372.0</td>\n",
       "      <td>0.067204</td>\n",
       "      <td>0.250713</td>\n",
       "      <td>0.0</td>\n",
       "      <td>0.0</td>\n",
       "      <td>0.00</td>\n",
       "      <td>0.00</td>\n",
       "      <td>1.0</td>\n",
       "    </tr>\n",
       "    <tr>\n",
       "      <th>zip_20</th>\n",
       "      <td>372.0</td>\n",
       "      <td>0.088710</td>\n",
       "      <td>0.284707</td>\n",
       "      <td>0.0</td>\n",
       "      <td>0.0</td>\n",
       "      <td>0.00</td>\n",
       "      <td>0.00</td>\n",
       "      <td>1.0</td>\n",
       "    </tr>\n",
       "    <tr>\n",
       "      <th>zip_3</th>\n",
       "      <td>372.0</td>\n",
       "      <td>0.080645</td>\n",
       "      <td>0.272656</td>\n",
       "      <td>0.0</td>\n",
       "      <td>0.0</td>\n",
       "      <td>0.00</td>\n",
       "      <td>0.00</td>\n",
       "      <td>1.0</td>\n",
       "    </tr>\n",
       "    <tr>\n",
       "      <th>zip_4</th>\n",
       "      <td>372.0</td>\n",
       "      <td>0.088710</td>\n",
       "      <td>0.284707</td>\n",
       "      <td>0.0</td>\n",
       "      <td>0.0</td>\n",
       "      <td>0.00</td>\n",
       "      <td>0.00</td>\n",
       "      <td>1.0</td>\n",
       "    </tr>\n",
       "    <tr>\n",
       "      <th>zip_5</th>\n",
       "      <td>372.0</td>\n",
       "      <td>0.053763</td>\n",
       "      <td>0.225854</td>\n",
       "      <td>0.0</td>\n",
       "      <td>0.0</td>\n",
       "      <td>0.00</td>\n",
       "      <td>0.00</td>\n",
       "      <td>1.0</td>\n",
       "    </tr>\n",
       "    <tr>\n",
       "      <th>zip_6</th>\n",
       "      <td>372.0</td>\n",
       "      <td>0.051075</td>\n",
       "      <td>0.220448</td>\n",
       "      <td>0.0</td>\n",
       "      <td>0.0</td>\n",
       "      <td>0.00</td>\n",
       "      <td>0.00</td>\n",
       "      <td>1.0</td>\n",
       "    </tr>\n",
       "    <tr>\n",
       "      <th>zip_7</th>\n",
       "      <td>372.0</td>\n",
       "      <td>0.056452</td>\n",
       "      <td>0.231103</td>\n",
       "      <td>0.0</td>\n",
       "      <td>0.0</td>\n",
       "      <td>0.00</td>\n",
       "      <td>0.00</td>\n",
       "      <td>1.0</td>\n",
       "    </tr>\n",
       "    <tr>\n",
       "      <th>zip_8</th>\n",
       "      <td>372.0</td>\n",
       "      <td>0.056452</td>\n",
       "      <td>0.231103</td>\n",
       "      <td>0.0</td>\n",
       "      <td>0.0</td>\n",
       "      <td>0.00</td>\n",
       "      <td>0.00</td>\n",
       "      <td>1.0</td>\n",
       "    </tr>\n",
       "    <tr>\n",
       "      <th>zip_9</th>\n",
       "      <td>372.0</td>\n",
       "      <td>0.010753</td>\n",
       "      <td>0.103275</td>\n",
       "      <td>0.0</td>\n",
       "      <td>0.0</td>\n",
       "      <td>0.00</td>\n",
       "      <td>0.00</td>\n",
       "      <td>1.0</td>\n",
       "    </tr>\n",
       "  </tbody>\n",
       "</table>\n",
       "</div>"
      ],
      "text/plain": [
       "                                   count          mean           std     min  \\\n",
       "total_floor_area                   372.0   1729.044355   1802.371491   200.0   \n",
       "lot_area                           372.0    426.114247    490.076498    60.0   \n",
       "total_cost_preliminary_estimation  372.0    327.904086    563.544337     3.7   \n",
       "duration_construction              372.0      6.266129      2.096495     2.0   \n",
       "price_unit_begining_project        372.0   1088.118280    995.826172    40.0   \n",
       "total_population                   372.0  27551.883065  13516.283345  8194.0   \n",
       "actual_construction_cost           372.0    232.647849    162.627656    20.0   \n",
       "zip_1                              372.0      0.080645      0.272656     0.0   \n",
       "zip_10                             372.0      0.018817      0.136062     0.0   \n",
       "zip_11                             372.0      0.010753      0.103275     0.0   \n",
       "zip_12                             372.0      0.034946      0.183891     0.0   \n",
       "zip_13                             372.0      0.034946      0.183891     0.0   \n",
       "zip_14                             372.0      0.056452      0.231103     0.0   \n",
       "zip_15                             372.0      0.026882      0.161956     0.0   \n",
       "zip_16                             372.0      0.018817      0.136062     0.0   \n",
       "zip_17                             372.0      0.056452      0.231103     0.0   \n",
       "zip_18                             372.0      0.053763      0.225854     0.0   \n",
       "zip_19                             372.0      0.053763      0.225854     0.0   \n",
       "zip_2                              372.0      0.067204      0.250713     0.0   \n",
       "zip_20                             372.0      0.088710      0.284707     0.0   \n",
       "zip_3                              372.0      0.080645      0.272656     0.0   \n",
       "zip_4                              372.0      0.088710      0.284707     0.0   \n",
       "zip_5                              372.0      0.053763      0.225854     0.0   \n",
       "zip_6                              372.0      0.051075      0.220448     0.0   \n",
       "zip_7                              372.0      0.056452      0.231103     0.0   \n",
       "zip_8                              372.0      0.056452      0.231103     0.0   \n",
       "zip_9                              372.0      0.010753      0.103275     0.0   \n",
       "\n",
       "                                       25%       50%       75%      max  \n",
       "total_floor_area                     720.0   1220.00   2100.00  15670.0  \n",
       "lot_area                             190.0    300.00    490.50   5000.0  \n",
       "total_cost_preliminary_estimation     67.8    164.70    366.05   7208.2  \n",
       "duration_construction                  5.0      6.00      7.00     23.0  \n",
       "price_unit_begining_project          440.0    805.00   1300.00   5700.0  \n",
       "total_population                   12065.0  25758.75  40234.00  49572.0  \n",
       "actual_construction_cost             110.0    190.00    330.00   1000.0  \n",
       "zip_1                                  0.0      0.00      0.00      1.0  \n",
       "zip_10                                 0.0      0.00      0.00      1.0  \n",
       "zip_11                                 0.0      0.00      0.00      1.0  \n",
       "zip_12                                 0.0      0.00      0.00      1.0  \n",
       "zip_13                                 0.0      0.00      0.00      1.0  \n",
       "zip_14                                 0.0      0.00      0.00      1.0  \n",
       "zip_15                                 0.0      0.00      0.00      1.0  \n",
       "zip_16                                 0.0      0.00      0.00      1.0  \n",
       "zip_17                                 0.0      0.00      0.00      1.0  \n",
       "zip_18                                 0.0      0.00      0.00      1.0  \n",
       "zip_19                                 0.0      0.00      0.00      1.0  \n",
       "zip_2                                  0.0      0.00      0.00      1.0  \n",
       "zip_20                                 0.0      0.00      0.00      1.0  \n",
       "zip_3                                  0.0      0.00      0.00      1.0  \n",
       "zip_4                                  0.0      0.00      0.00      1.0  \n",
       "zip_5                                  0.0      0.00      0.00      1.0  \n",
       "zip_6                                  0.0      0.00      0.00      1.0  \n",
       "zip_7                                  0.0      0.00      0.00      1.0  \n",
       "zip_8                                  0.0      0.00      0.00      1.0  \n",
       "zip_9                                  0.0      0.00      0.00      1.0  "
      ]
     },
     "execution_count": 10,
     "metadata": {},
     "output_type": "execute_result"
    }
   ],
   "source": [
    "data.describe(include='all').transpose()"
   ]
  },
  {
   "cell_type": "markdown",
   "metadata": {},
   "source": [
    "# Aprendizaje del modelo de regresión - Evaluación sobre el conjunto de datos de entrenamiento"
   ]
  },
  {
   "cell_type": "markdown",
   "metadata": {},
   "source": [
    "Vamos a crear un modelo de regresión lineal que permita obtener *actual_construction_cost* a partir de algunas de las demás variables independientes del dataset."
   ]
  },
  {
   "cell_type": "code",
   "execution_count": 11,
   "metadata": {},
   "outputs": [],
   "source": [
    "indep_vars = data.columns\n",
    "indep_vars = indep_vars.drop('actual_construction_cost')\n",
    "dep_vars = ['actual_construction_cost']"
   ]
  },
  {
   "cell_type": "code",
   "execution_count": 12,
   "metadata": {},
   "outputs": [],
   "source": [
    "indep_vars = list(indep_vars)\n",
    "X = data[indep_vars]\n",
    "y = data[dep_vars]"
   ]
  },
  {
   "cell_type": "markdown",
   "metadata": {},
   "source": [
    "Tenemos un dataframe con los datos de las variables independientes y otro con los de la variables dependiente.\n",
    "\n",
    "Vamos ahora a partir cada dataframe en 2 de manera aleatoria: 67% de los datos se utilizarán para aprender el modelo, y 33 para evaluarlo."
   ]
  },
  {
   "cell_type": "code",
   "execution_count": 13,
   "metadata": {},
   "outputs": [],
   "source": [
    "train_X, test_X, train_y, test_y = train_test_split(X, y, test_size=0.33, random_state=42)"
   ]
  },
  {
   "cell_type": "code",
   "execution_count": 14,
   "metadata": {},
   "outputs": [
    {
     "name": "stdout",
     "output_type": "stream",
     "text": [
      "(249, 26)\n",
      "(249, 1)\n",
      "(123, 26)\n",
      "(123, 1)\n"
     ]
    }
   ],
   "source": [
    "print(train_X.shape)\n",
    "print(train_y.shape)\n",
    "print(test_X.shape)\n",
    "print(test_y.shape)"
   ]
  },
  {
   "cell_type": "markdown",
   "metadata": {},
   "source": [
    "Ya tenemos todos los datos preparados para lanzar el modelo de regresión lineal a partir de los datos de entrenamiento.\n",
    "Lanzamos el método **fit** que se encarga de encontrar la mejor línea de ajuste, y consultamos los diferentes coeficientes encontrados para las variables independientes."
   ]
  },
  {
   "cell_type": "code",
   "execution_count": 15,
   "metadata": {},
   "outputs": [
    {
     "data": {
      "text/plain": [
       "LinearRegression(copy_X=True, fit_intercept=True, n_jobs=1, normalize=True)"
      ]
     },
     "execution_count": 15,
     "metadata": {},
     "output_type": "execute_result"
    }
   ],
   "source": [
    "regr = linear_model.LinearRegression(normalize=True)\n",
    "regr.fit(train_X, train_y)"
   ]
  },
  {
   "cell_type": "markdown",
   "metadata": {},
   "source": [
    "Se estableció que se va a utilizar un modelo de regresión lineal, que por defecto incluye un coeficiente para la interceptación de la ordenada en el origen, y que normaliza los datos de las variables predictivas."
   ]
  },
  {
   "cell_type": "code",
   "execution_count": 16,
   "metadata": {},
   "outputs": [
    {
     "name": "stdout",
     "output_type": "stream",
     "text": [
      "total_floor_area: -0.03478021807947818\n",
      "lot_area: 0.03778165709311816\n",
      "total_cost_preliminary_estimation: 0.19536838181363722\n",
      "duration_construction: 15.723836871000296\n",
      "price_unit_begining_project: 0.1031244251694558\n",
      "total_population: 0.0005264628397030338\n",
      "zip_1: -768343505577848.4\n",
      "zip_10: -768343505577726.9\n",
      "zip_11: -768343505577775.1\n",
      "zip_12: -768343505577751.6\n",
      "zip_13: -768343505577773.1\n",
      "zip_14: -768343505577755.5\n",
      "zip_15: -768343505577725.0\n",
      "zip_16: -768343505577728.5\n",
      "zip_17: -768343505577726.2\n",
      "zip_18: -768343505577700.4\n",
      "zip_19: -768343505577702.9\n",
      "zip_2: -768343505577728.8\n",
      "zip_20: -768343505577782.2\n",
      "zip_3: -768343505577806.0\n",
      "zip_4: -768343505577691.4\n",
      "zip_5: -768343505577723.6\n",
      "zip_6: -768343505577803.4\n",
      "zip_7: -768343505577741.9\n",
      "zip_8: -768343505577732.0\n",
      "zip_9: -768343505577660.2\n",
      "intercepción: 768343505577741.2\n"
     ]
    }
   ],
   "source": [
    "for var, coef in zip(indep_vars, np.squeeze(regr.coef_)):\n",
    "    print(\"{}: {}\".format(var, coef))\n",
    "print(\"intercepción: {}\".format(np.squeeze(regr.intercept_)))"
   ]
  },
  {
   "cell_type": "markdown",
   "metadata": {},
   "source": [
    "## Predicción"
   ]
  },
  {
   "cell_type": "markdown",
   "metadata": {},
   "source": [
    "Vamos a predecir la variable dependiente ajustada según el modelo para los datos de entrenamiento y para los datos de test"
   ]
  },
  {
   "cell_type": "code",
   "execution_count": 17,
   "metadata": {},
   "outputs": [
    {
     "name": "stdout",
     "output_type": "stream",
     "text": [
      "(249, 1)\n",
      "(123, 1)\n",
      "MSE (train): 4752.3402\n",
      "MSE (test) : 7770.5506\n",
      "R2  (train): 0.8135\n",
      "R2  (test) : 0.7237\n"
     ]
    }
   ],
   "source": [
    "train_y_pred = regr.predict(train_X)\n",
    "test_y_pred = regr.predict(test_X)\n",
    "print(train_y_pred.shape)\n",
    "print(test_y_pred.shape)\n",
    "print(\"MSE (train): %.4f\" % mean_squared_error(train_y, train_y_pred))\n",
    "print(\"MSE (test) : %.4f\" % mean_squared_error(test_y, test_y_pred))\n",
    "print('R2  (train): %.4f' % r2_score(train_y, train_y_pred))\n",
    "print('R2  (test) : %.4f' % r2_score(test_y, test_y_pred))"
   ]
  },
  {
   "cell_type": "markdown",
   "metadata": {},
   "source": [
    "scikit-learn no ofrece el cálculo del R2 ajustado, por lo que lo calculamos a mano:"
   ]
  },
  {
   "cell_type": "code",
   "execution_count": 18,
   "metadata": {},
   "outputs": [
    {
     "name": "stdout",
     "output_type": "stream",
     "text": [
      "R2 adj (train): 0.7917\n",
      "R2 adj (test): 0.6488\n"
     ]
    }
   ],
   "source": [
    "r2_aj_train = 1 - (1-r2_score(train_y, train_y_pred))*(len(train_y)-1) / (len(train_y) - train_X.shape[1] - 1)\n",
    "print('R2 adj (train): %.4f' %r2_aj_train)\n",
    "r2_aj_test = 1 - (1-r2_score(test_y, test_y_pred))*(len(test_y)-1) / (len(test_y) - test_X.shape[1] - 1)\n",
    "print('R2 adj (test): %.4f' %r2_aj_test)"
   ]
  },
  {
   "cell_type": "markdown",
   "metadata": {},
   "source": [
    "El valor del R2 ajustado corrige el valor del R2 con respecto a la complejidad dada por el número de variables independientes utilizadas, y permite comparar modelos de diferente número de predictores."
   ]
  },
  {
   "cell_type": "markdown",
   "metadata": {},
   "source": [
    "## Análisis de los coeficientes "
   ]
  },
  {
   "cell_type": "code",
   "execution_count": 19,
   "metadata": {},
   "outputs": [
    {
     "data": {
      "text/plain": [
       "['total_floor_area',\n",
       " 'lot_area',\n",
       " 'total_cost_preliminary_estimation',\n",
       " 'duration_construction',\n",
       " 'price_unit_begining_project',\n",
       " 'total_population',\n",
       " 'zip_1',\n",
       " 'zip_10',\n",
       " 'zip_11',\n",
       " 'zip_12',\n",
       " 'zip_13',\n",
       " 'zip_14',\n",
       " 'zip_15',\n",
       " 'zip_16',\n",
       " 'zip_17',\n",
       " 'zip_18',\n",
       " 'zip_19',\n",
       " 'zip_2',\n",
       " 'zip_20',\n",
       " 'zip_3',\n",
       " 'zip_4',\n",
       " 'zip_5',\n",
       " 'zip_6',\n",
       " 'zip_7',\n",
       " 'zip_8',\n",
       " 'zip_9']"
      ]
     },
     "execution_count": 19,
     "metadata": {},
     "output_type": "execute_result"
    }
   ],
   "source": [
    "indep_vars"
   ]
  },
  {
   "cell_type": "markdown",
   "metadata": {},
   "source": [
    "Para poder establecer la significancia de los coeficientes, es necesario realizar pruebas de hipótesis de los coeficientes de cada variable predictiva, comparándolos contra 0.\n",
    "\n",
    "El problema es que **scikit-learn** no realiza estas pruebas, y no incluye muchas de las métricas (como el R2 ajustado), y hay que utilizar el package **statsmodel**.\n"
   ]
  },
  {
   "cell_type": "code",
   "execution_count": 20,
   "metadata": {},
   "outputs": [
    {
     "name": "stdout",
     "output_type": "stream",
     "text": [
      "     const  total_floor_area  lot_area  total_cost_preliminary_estimation  \\\n",
      "31     1.0            3600.0     980.0                              612.0   \n",
      "36     1.0            1160.0     260.0                              185.6   \n",
      "158    1.0             900.0     150.0                               63.0   \n",
      "183    1.0             470.0     120.0                               14.1   \n",
      "168    1.0            1310.0     290.0                              104.8   \n",
      "\n",
      "     duration_construction  price_unit_begining_project  total_population  \\\n",
      "31                       7                          250            8684.5   \n",
      "36                       7                          990           42587.0   \n",
      "158                      6                          210           17881.5   \n",
      "183                      7                          330           35763.0   \n",
      "168                      7                          480            9766.5   \n",
      "\n",
      "     zip_1  zip_10  zip_11  ...    zip_19  zip_2  zip_20  zip_3  zip_4  zip_5  \\\n",
      "31       0       0       0  ...         0      1       0      0      0      0   \n",
      "36       0       0       0  ...         0      1       0      0      0      0   \n",
      "158      0       0       0  ...         0      0       0      0      0      0   \n",
      "183      0       0       0  ...         0      0       0      0      0      0   \n",
      "168      0       0       0  ...         0      0       0      0      0      0   \n",
      "\n",
      "     zip_6  zip_7  zip_8  zip_9  \n",
      "31       0      0      0      0  \n",
      "36       0      0      0      0  \n",
      "158      0      1      0      0  \n",
      "183      0      0      1      0  \n",
      "168      0      1      0      0  \n",
      "\n",
      "[5 rows x 27 columns]\n"
     ]
    }
   ],
   "source": [
    "train_X2 = sm.add_constant(train_X)\n",
    "print(train_X2.head())"
   ]
  },
  {
   "cell_type": "code",
   "execution_count": 21,
   "metadata": {},
   "outputs": [
    {
     "data": {
      "text/plain": [
       "array([[145],\n",
       "       [230],\n",
       "       [100],\n",
       "       [ 90],\n",
       "       [100]], dtype=int64)"
      ]
     },
     "execution_count": 21,
     "metadata": {},
     "output_type": "execute_result"
    }
   ],
   "source": [
    "array_y = np.asarray(train_y)\n",
    "array_y[:5]"
   ]
  },
  {
   "cell_type": "code",
   "execution_count": 22,
   "metadata": {},
   "outputs": [
    {
     "data": {
      "text/html": [
       "<table class=\"simpletable\">\n",
       "<caption>OLS Regression Results</caption>\n",
       "<tr>\n",
       "  <th>Dep. Variable:</th>            <td>y</td>        <th>  R-squared:         </th> <td>   0.814</td>\n",
       "</tr>\n",
       "<tr>\n",
       "  <th>Model:</th>                   <td>OLS</td>       <th>  Adj. R-squared:    </th> <td>   0.793</td>\n",
       "</tr>\n",
       "<tr>\n",
       "  <th>Method:</th>             <td>Least Squares</td>  <th>  F-statistic:       </th> <td>   38.92</td>\n",
       "</tr>\n",
       "<tr>\n",
       "  <th>Date:</th>             <td>Sun, 23 Sep 2018</td> <th>  Prob (F-statistic):</th> <td>2.13e-67</td>\n",
       "</tr>\n",
       "<tr>\n",
       "  <th>Time:</th>                 <td>11:36:19</td>     <th>  Log-Likelihood:    </th> <td> -1407.4</td>\n",
       "</tr>\n",
       "<tr>\n",
       "  <th>No. Observations:</th>      <td>   249</td>      <th>  AIC:               </th> <td>   2867.</td>\n",
       "</tr>\n",
       "<tr>\n",
       "  <th>Df Residuals:</th>          <td>   223</td>      <th>  BIC:               </th> <td>   2958.</td>\n",
       "</tr>\n",
       "<tr>\n",
       "  <th>Df Model:</th>              <td>    25</td>      <th>                     </th>     <td> </td>   \n",
       "</tr>\n",
       "<tr>\n",
       "  <th>Covariance Type:</th>      <td>nonrobust</td>    <th>                     </th>     <td> </td>   \n",
       "</tr>\n",
       "</table>\n",
       "<table class=\"simpletable\">\n",
       "<tr>\n",
       "                  <td></td>                     <th>coef</th>     <th>std err</th>      <th>t</th>      <th>P>|t|</th>  <th>[0.025</th>    <th>0.975]</th>  \n",
       "</tr>\n",
       "<tr>\n",
       "  <th>const</th>                             <td>   -2.3565</td> <td>   19.337</td> <td>   -0.122</td> <td> 0.903</td> <td>  -40.464</td> <td>   35.751</td>\n",
       "</tr>\n",
       "<tr>\n",
       "  <th>total_floor_area</th>                  <td>   -0.0348</td> <td>    0.012</td> <td>   -2.875</td> <td> 0.004</td> <td>   -0.059</td> <td>   -0.011</td>\n",
       "</tr>\n",
       "<tr>\n",
       "  <th>lot_area</th>                          <td>    0.0377</td> <td>    0.035</td> <td>    1.079</td> <td> 0.282</td> <td>   -0.031</td> <td>    0.106</td>\n",
       "</tr>\n",
       "<tr>\n",
       "  <th>total_cost_preliminary_estimation</th> <td>    0.1960</td> <td>    0.022</td> <td>    9.028</td> <td> 0.000</td> <td>    0.153</td> <td>    0.239</td>\n",
       "</tr>\n",
       "<tr>\n",
       "  <th>duration_construction</th>             <td>   15.6574</td> <td>    2.549</td> <td>    6.141</td> <td> 0.000</td> <td>   10.633</td> <td>   20.682</td>\n",
       "</tr>\n",
       "<tr>\n",
       "  <th>price_unit_begining_project</th>       <td>    0.1029</td> <td>    0.008</td> <td>   12.652</td> <td> 0.000</td> <td>    0.087</td> <td>    0.119</td>\n",
       "</tr>\n",
       "<tr>\n",
       "  <th>total_population</th>                  <td>    0.0005</td> <td>    0.000</td> <td>    1.437</td> <td> 0.152</td> <td>   -0.000</td> <td>    0.001</td>\n",
       "</tr>\n",
       "<tr>\n",
       "  <th>zip_1</th>                             <td> -104.1327</td> <td>   23.467</td> <td>   -4.437</td> <td> 0.000</td> <td> -150.378</td> <td>  -57.887</td>\n",
       "</tr>\n",
       "<tr>\n",
       "  <th>zip_10</th>                            <td>   17.2546</td> <td>   29.239</td> <td>    0.590</td> <td> 0.556</td> <td>  -40.365</td> <td>   74.874</td>\n",
       "</tr>\n",
       "<tr>\n",
       "  <th>zip_11</th>                            <td>  -29.6284</td> <td>   35.139</td> <td>   -0.843</td> <td> 0.400</td> <td>  -98.875</td> <td>   39.618</td>\n",
       "</tr>\n",
       "<tr>\n",
       "  <th>zip_12</th>                            <td>   -7.7115</td> <td>   25.320</td> <td>   -0.305</td> <td> 0.761</td> <td>  -57.609</td> <td>   42.186</td>\n",
       "</tr>\n",
       "<tr>\n",
       "  <th>zip_13</th>                            <td>  -29.4048</td> <td>   29.122</td> <td>   -1.010</td> <td> 0.314</td> <td>  -86.795</td> <td>   27.985</td>\n",
       "</tr>\n",
       "<tr>\n",
       "  <th>zip_14</th>                            <td>  -11.9372</td> <td>   18.384</td> <td>   -0.649</td> <td> 0.517</td> <td>  -48.167</td> <td>   24.292</td>\n",
       "</tr>\n",
       "<tr>\n",
       "  <th>zip_15</th>                            <td>   19.1199</td> <td>   22.763</td> <td>    0.840</td> <td> 0.402</td> <td>  -25.739</td> <td>   63.979</td>\n",
       "</tr>\n",
       "<tr>\n",
       "  <th>zip_16</th>                            <td>   15.9710</td> <td>   31.992</td> <td>    0.499</td> <td> 0.618</td> <td>  -47.073</td> <td>   79.015</td>\n",
       "</tr>\n",
       "<tr>\n",
       "  <th>zip_17</th>                            <td>   17.5636</td> <td>   19.727</td> <td>    0.890</td> <td> 0.374</td> <td>  -21.311</td> <td>   56.438</td>\n",
       "</tr>\n",
       "<tr>\n",
       "  <th>zip_18</th>                            <td>   43.6412</td> <td>   18.961</td> <td>    2.302</td> <td> 0.022</td> <td>    6.275</td> <td>   81.007</td>\n",
       "</tr>\n",
       "<tr>\n",
       "  <th>zip_19</th>                            <td>   41.1051</td> <td>   20.748</td> <td>    1.981</td> <td> 0.049</td> <td>    0.219</td> <td>   81.992</td>\n",
       "</tr>\n",
       "<tr>\n",
       "  <th>zip_2</th>                             <td>   14.9013</td> <td>   16.914</td> <td>    0.881</td> <td> 0.379</td> <td>  -18.431</td> <td>   48.234</td>\n",
       "</tr>\n",
       "<tr>\n",
       "  <th>zip_20</th>                            <td>  -38.2818</td> <td>   17.322</td> <td>   -2.210</td> <td> 0.028</td> <td>  -72.417</td> <td>   -4.147</td>\n",
       "</tr>\n",
       "<tr>\n",
       "  <th>zip_3</th>                             <td>  -62.1602</td> <td>   21.214</td> <td>   -2.930</td> <td> 0.004</td> <td> -103.966</td> <td>  -20.355</td>\n",
       "</tr>\n",
       "<tr>\n",
       "  <th>zip_4</th>                             <td>   52.8084</td> <td>   15.879</td> <td>    3.326</td> <td> 0.001</td> <td>   21.517</td> <td>   84.100</td>\n",
       "</tr>\n",
       "<tr>\n",
       "  <th>zip_5</th>                             <td>   19.9066</td> <td>   19.723</td> <td>    1.009</td> <td> 0.314</td> <td>  -18.961</td> <td>   58.775</td>\n",
       "</tr>\n",
       "<tr>\n",
       "  <th>zip_6</th>                             <td>  -59.2352</td> <td>   20.489</td> <td>   -2.891</td> <td> 0.004</td> <td>  -99.613</td> <td>  -18.858</td>\n",
       "</tr>\n",
       "<tr>\n",
       "  <th>zip_7</th>                             <td>    2.1551</td> <td>   18.300</td> <td>    0.118</td> <td> 0.906</td> <td>  -33.908</td> <td>   38.218</td>\n",
       "</tr>\n",
       "<tr>\n",
       "  <th>zip_8</th>                             <td>   11.9504</td> <td>   19.441</td> <td>    0.615</td> <td> 0.539</td> <td>  -26.361</td> <td>   50.261</td>\n",
       "</tr>\n",
       "<tr>\n",
       "  <th>zip_9</th>                             <td>   83.7581</td> <td>   40.385</td> <td>    2.074</td> <td> 0.039</td> <td>    4.174</td> <td>  163.342</td>\n",
       "</tr>\n",
       "</table>\n",
       "<table class=\"simpletable\">\n",
       "<tr>\n",
       "  <th>Omnibus:</th>       <td>13.086</td> <th>  Durbin-Watson:     </th> <td>   2.100</td>\n",
       "</tr>\n",
       "<tr>\n",
       "  <th>Prob(Omnibus):</th> <td> 0.001</td> <th>  Jarque-Bera (JB):  </th> <td>  15.744</td>\n",
       "</tr>\n",
       "<tr>\n",
       "  <th>Skew:</th>          <td> 0.434</td> <th>  Prob(JB):          </th> <td>0.000381</td>\n",
       "</tr>\n",
       "<tr>\n",
       "  <th>Kurtosis:</th>      <td> 3.875</td> <th>  Cond. No.          </th> <td>3.14e+17</td>\n",
       "</tr>\n",
       "</table><br/><br/>Warnings:<br/>[1] Standard Errors assume that the covariance matrix of the errors is correctly specified.<br/>[2] The smallest eigenvalue is 2.35e-24. This might indicate that there are<br/>strong multicollinearity problems or that the design matrix is singular."
      ],
      "text/plain": [
       "<class 'statsmodels.iolib.summary.Summary'>\n",
       "\"\"\"\n",
       "                            OLS Regression Results                            \n",
       "==============================================================================\n",
       "Dep. Variable:                      y   R-squared:                       0.814\n",
       "Model:                            OLS   Adj. R-squared:                  0.793\n",
       "Method:                 Least Squares   F-statistic:                     38.92\n",
       "Date:                Sun, 23 Sep 2018   Prob (F-statistic):           2.13e-67\n",
       "Time:                        11:36:19   Log-Likelihood:                -1407.4\n",
       "No. Observations:                 249   AIC:                             2867.\n",
       "Df Residuals:                     223   BIC:                             2958.\n",
       "Df Model:                          25                                         \n",
       "Covariance Type:            nonrobust                                         \n",
       "=====================================================================================================\n",
       "                                        coef    std err          t      P>|t|      [0.025      0.975]\n",
       "-----------------------------------------------------------------------------------------------------\n",
       "const                                -2.3565     19.337     -0.122      0.903     -40.464      35.751\n",
       "total_floor_area                     -0.0348      0.012     -2.875      0.004      -0.059      -0.011\n",
       "lot_area                              0.0377      0.035      1.079      0.282      -0.031       0.106\n",
       "total_cost_preliminary_estimation     0.1960      0.022      9.028      0.000       0.153       0.239\n",
       "duration_construction                15.6574      2.549      6.141      0.000      10.633      20.682\n",
       "price_unit_begining_project           0.1029      0.008     12.652      0.000       0.087       0.119\n",
       "total_population                      0.0005      0.000      1.437      0.152      -0.000       0.001\n",
       "zip_1                              -104.1327     23.467     -4.437      0.000    -150.378     -57.887\n",
       "zip_10                               17.2546     29.239      0.590      0.556     -40.365      74.874\n",
       "zip_11                              -29.6284     35.139     -0.843      0.400     -98.875      39.618\n",
       "zip_12                               -7.7115     25.320     -0.305      0.761     -57.609      42.186\n",
       "zip_13                              -29.4048     29.122     -1.010      0.314     -86.795      27.985\n",
       "zip_14                              -11.9372     18.384     -0.649      0.517     -48.167      24.292\n",
       "zip_15                               19.1199     22.763      0.840      0.402     -25.739      63.979\n",
       "zip_16                               15.9710     31.992      0.499      0.618     -47.073      79.015\n",
       "zip_17                               17.5636     19.727      0.890      0.374     -21.311      56.438\n",
       "zip_18                               43.6412     18.961      2.302      0.022       6.275      81.007\n",
       "zip_19                               41.1051     20.748      1.981      0.049       0.219      81.992\n",
       "zip_2                                14.9013     16.914      0.881      0.379     -18.431      48.234\n",
       "zip_20                              -38.2818     17.322     -2.210      0.028     -72.417      -4.147\n",
       "zip_3                               -62.1602     21.214     -2.930      0.004    -103.966     -20.355\n",
       "zip_4                                52.8084     15.879      3.326      0.001      21.517      84.100\n",
       "zip_5                                19.9066     19.723      1.009      0.314     -18.961      58.775\n",
       "zip_6                               -59.2352     20.489     -2.891      0.004     -99.613     -18.858\n",
       "zip_7                                 2.1551     18.300      0.118      0.906     -33.908      38.218\n",
       "zip_8                                11.9504     19.441      0.615      0.539     -26.361      50.261\n",
       "zip_9                                83.7581     40.385      2.074      0.039       4.174     163.342\n",
       "==============================================================================\n",
       "Omnibus:                       13.086   Durbin-Watson:                   2.100\n",
       "Prob(Omnibus):                  0.001   Jarque-Bera (JB):               15.744\n",
       "Skew:                           0.434   Prob(JB):                     0.000381\n",
       "Kurtosis:                       3.875   Cond. No.                     3.14e+17\n",
       "==============================================================================\n",
       "\n",
       "Warnings:\n",
       "[1] Standard Errors assume that the covariance matrix of the errors is correctly specified.\n",
       "[2] The smallest eigenvalue is 2.35e-24. This might indicate that there are\n",
       "strong multicollinearity problems or that the design matrix is singular.\n",
       "\"\"\""
      ]
     },
     "execution_count": 22,
     "metadata": {},
     "output_type": "execute_result"
    }
   ],
   "source": [
    "modeloStats = sm.OLS(np.asarray(train_y), train_X2)\n",
    "results = modeloStats.fit();\n",
    "#Consultamos la calidad del modelo a partir de sus estadísticas\n",
    "results.summary()"
   ]
  },
  {
   "cell_type": "markdown",
   "metadata": {},
   "source": [
    "Encontramos que los parámetros de los zipcodes, solo el 1, 3, 4, 6, 9, 18, 19 y 20 son significativos, los demás no lo son, al igual que lot_area y total_population.\n",
    "\n",
    "También podemos ver que puede que haya problemas de multicolinearidad, como lo establece la 2a advertencia. Vamos a analizar la correlación entre las variables incluidas en el modelo."
   ]
  },
  {
   "cell_type": "code",
   "execution_count": 23,
   "metadata": {},
   "outputs": [
    {
     "data": {
      "text/html": [
       "<div>\n",
       "<style scoped>\n",
       "    .dataframe tbody tr th:only-of-type {\n",
       "        vertical-align: middle;\n",
       "    }\n",
       "\n",
       "    .dataframe tbody tr th {\n",
       "        vertical-align: top;\n",
       "    }\n",
       "\n",
       "    .dataframe thead th {\n",
       "        text-align: right;\n",
       "    }\n",
       "</style>\n",
       "<table border=\"1\" class=\"dataframe\">\n",
       "  <thead>\n",
       "    <tr style=\"text-align: right;\">\n",
       "      <th></th>\n",
       "      <th>total_floor_area</th>\n",
       "      <th>lot_area</th>\n",
       "      <th>total_cost_preliminary_estimation</th>\n",
       "      <th>duration_construction</th>\n",
       "      <th>price_unit_begining_project</th>\n",
       "      <th>total_population</th>\n",
       "      <th>zip_1</th>\n",
       "      <th>zip_10</th>\n",
       "      <th>zip_11</th>\n",
       "      <th>zip_12</th>\n",
       "      <th>...</th>\n",
       "      <th>zip_2</th>\n",
       "      <th>zip_20</th>\n",
       "      <th>zip_3</th>\n",
       "      <th>zip_4</th>\n",
       "      <th>zip_5</th>\n",
       "      <th>zip_6</th>\n",
       "      <th>zip_7</th>\n",
       "      <th>zip_8</th>\n",
       "      <th>zip_9</th>\n",
       "      <th>actual_construction_cost</th>\n",
       "    </tr>\n",
       "  </thead>\n",
       "  <tbody>\n",
       "    <tr>\n",
       "      <th>total_floor_area</th>\n",
       "      <td>1.000000</td>\n",
       "      <td>0.948429</td>\n",
       "      <td>0.722144</td>\n",
       "      <td>0.193487</td>\n",
       "      <td>0.219731</td>\n",
       "      <td>0.071885</td>\n",
       "      <td>0.319229</td>\n",
       "      <td>-0.105700</td>\n",
       "      <td>-0.044340</td>\n",
       "      <td>-0.059012</td>\n",
       "      <td>...</td>\n",
       "      <td>0.008653</td>\n",
       "      <td>0.215892</td>\n",
       "      <td>0.198181</td>\n",
       "      <td>-0.026008</td>\n",
       "      <td>0.066174</td>\n",
       "      <td>-0.023991</td>\n",
       "      <td>-0.017559</td>\n",
       "      <td>-0.110904</td>\n",
       "      <td>-0.040556</td>\n",
       "      <td>0.209861</td>\n",
       "    </tr>\n",
       "    <tr>\n",
       "      <th>lot_area</th>\n",
       "      <td>0.948429</td>\n",
       "      <td>1.000000</td>\n",
       "      <td>0.603434</td>\n",
       "      <td>0.098084</td>\n",
       "      <td>0.120408</td>\n",
       "      <td>0.057271</td>\n",
       "      <td>0.218629</td>\n",
       "      <td>-0.084763</td>\n",
       "      <td>-0.039532</td>\n",
       "      <td>-0.052355</td>\n",
       "      <td>...</td>\n",
       "      <td>0.002962</td>\n",
       "      <td>0.273944</td>\n",
       "      <td>0.110773</td>\n",
       "      <td>-0.006471</td>\n",
       "      <td>0.061870</td>\n",
       "      <td>-0.032053</td>\n",
       "      <td>-0.042275</td>\n",
       "      <td>-0.089133</td>\n",
       "      <td>-0.036868</td>\n",
       "      <td>0.116412</td>\n",
       "    </tr>\n",
       "    <tr>\n",
       "      <th>total_cost_preliminary_estimation</th>\n",
       "      <td>0.722144</td>\n",
       "      <td>0.603434</td>\n",
       "      <td>1.000000</td>\n",
       "      <td>0.329163</td>\n",
       "      <td>0.580818</td>\n",
       "      <td>0.182363</td>\n",
       "      <td>0.338237</td>\n",
       "      <td>-0.085070</td>\n",
       "      <td>-0.054421</td>\n",
       "      <td>-0.069976</td>\n",
       "      <td>...</td>\n",
       "      <td>-0.009085</td>\n",
       "      <td>0.076378</td>\n",
       "      <td>0.292905</td>\n",
       "      <td>0.042796</td>\n",
       "      <td>0.030349</td>\n",
       "      <td>-0.021069</td>\n",
       "      <td>-0.065038</td>\n",
       "      <td>-0.084757</td>\n",
       "      <td>-0.031735</td>\n",
       "      <td>0.677564</td>\n",
       "    </tr>\n",
       "    <tr>\n",
       "      <th>duration_construction</th>\n",
       "      <td>0.193487</td>\n",
       "      <td>0.098084</td>\n",
       "      <td>0.329163</td>\n",
       "      <td>1.000000</td>\n",
       "      <td>0.114313</td>\n",
       "      <td>0.146139</td>\n",
       "      <td>0.186898</td>\n",
       "      <td>0.010818</td>\n",
       "      <td>-0.021208</td>\n",
       "      <td>-0.008849</td>\n",
       "      <td>...</td>\n",
       "      <td>-0.090332</td>\n",
       "      <td>0.048104</td>\n",
       "      <td>0.013467</td>\n",
       "      <td>-0.098192</td>\n",
       "      <td>-0.171519</td>\n",
       "      <td>0.062792</td>\n",
       "      <td>0.018040</td>\n",
       "      <td>-0.024136</td>\n",
       "      <td>-0.001041</td>\n",
       "      <td>0.346966</td>\n",
       "    </tr>\n",
       "    <tr>\n",
       "      <th>price_unit_begining_project</th>\n",
       "      <td>0.219731</td>\n",
       "      <td>0.120408</td>\n",
       "      <td>0.580818</td>\n",
       "      <td>0.114313</td>\n",
       "      <td>1.000000</td>\n",
       "      <td>0.166649</td>\n",
       "      <td>0.464999</td>\n",
       "      <td>-0.083556</td>\n",
       "      <td>-0.037075</td>\n",
       "      <td>-0.106433</td>\n",
       "      <td>...</td>\n",
       "      <td>0.036377</td>\n",
       "      <td>-0.068130</td>\n",
       "      <td>0.248158</td>\n",
       "      <td>0.013312</td>\n",
       "      <td>-0.053943</td>\n",
       "      <td>0.096473</td>\n",
       "      <td>-0.074782</td>\n",
       "      <td>0.024638</td>\n",
       "      <td>-0.038587</td>\n",
       "      <td>0.758159</td>\n",
       "    </tr>\n",
       "    <tr>\n",
       "      <th>total_population</th>\n",
       "      <td>0.071885</td>\n",
       "      <td>0.057271</td>\n",
       "      <td>0.182363</td>\n",
       "      <td>0.146139</td>\n",
       "      <td>0.166649</td>\n",
       "      <td>1.000000</td>\n",
       "      <td>-0.034316</td>\n",
       "      <td>-0.109876</td>\n",
       "      <td>0.037477</td>\n",
       "      <td>-0.129815</td>\n",
       "      <td>...</td>\n",
       "      <td>-0.052923</td>\n",
       "      <td>-0.012004</td>\n",
       "      <td>0.093551</td>\n",
       "      <td>0.064363</td>\n",
       "      <td>-0.003487</td>\n",
       "      <td>0.004922</td>\n",
       "      <td>-0.030049</td>\n",
       "      <td>0.021665</td>\n",
       "      <td>-0.008170</td>\n",
       "      <td>0.261210</td>\n",
       "    </tr>\n",
       "    <tr>\n",
       "      <th>zip_1</th>\n",
       "      <td>0.319229</td>\n",
       "      <td>0.218629</td>\n",
       "      <td>0.338237</td>\n",
       "      <td>0.186898</td>\n",
       "      <td>0.464999</td>\n",
       "      <td>-0.034316</td>\n",
       "      <td>1.000000</td>\n",
       "      <td>-0.042536</td>\n",
       "      <td>-0.034588</td>\n",
       "      <td>-0.049319</td>\n",
       "      <td>...</td>\n",
       "      <td>-0.077802</td>\n",
       "      <td>-0.079998</td>\n",
       "      <td>-0.068536</td>\n",
       "      <td>-0.084271</td>\n",
       "      <td>-0.066071</td>\n",
       "      <td>-0.063533</td>\n",
       "      <td>-0.070935</td>\n",
       "      <td>-0.066071</td>\n",
       "      <td>-0.029893</td>\n",
       "      <td>0.232399</td>\n",
       "    </tr>\n",
       "    <tr>\n",
       "      <th>zip_10</th>\n",
       "      <td>-0.105700</td>\n",
       "      <td>-0.084763</td>\n",
       "      <td>-0.085070</td>\n",
       "      <td>0.010818</td>\n",
       "      <td>-0.083556</td>\n",
       "      <td>-0.109876</td>\n",
       "      <td>-0.042536</td>\n",
       "      <td>1.000000</td>\n",
       "      <td>-0.020078</td>\n",
       "      <td>-0.028629</td>\n",
       "      <td>...</td>\n",
       "      <td>-0.045163</td>\n",
       "      <td>-0.046438</td>\n",
       "      <td>-0.039784</td>\n",
       "      <td>-0.048918</td>\n",
       "      <td>-0.038353</td>\n",
       "      <td>-0.036880</td>\n",
       "      <td>-0.041177</td>\n",
       "      <td>-0.038353</td>\n",
       "      <td>-0.017353</td>\n",
       "      <td>-0.048643</td>\n",
       "    </tr>\n",
       "    <tr>\n",
       "      <th>zip_11</th>\n",
       "      <td>-0.044340</td>\n",
       "      <td>-0.039532</td>\n",
       "      <td>-0.054421</td>\n",
       "      <td>-0.021208</td>\n",
       "      <td>-0.037075</td>\n",
       "      <td>0.037477</td>\n",
       "      <td>-0.034588</td>\n",
       "      <td>-0.020078</td>\n",
       "      <td>1.000000</td>\n",
       "      <td>-0.023280</td>\n",
       "      <td>...</td>\n",
       "      <td>-0.036725</td>\n",
       "      <td>-0.037761</td>\n",
       "      <td>-0.032351</td>\n",
       "      <td>-0.039778</td>\n",
       "      <td>-0.031187</td>\n",
       "      <td>-0.029989</td>\n",
       "      <td>-0.033483</td>\n",
       "      <td>-0.031187</td>\n",
       "      <td>-0.014110</td>\n",
       "      <td>-0.063567</td>\n",
       "    </tr>\n",
       "    <tr>\n",
       "      <th>zip_12</th>\n",
       "      <td>-0.059012</td>\n",
       "      <td>-0.052355</td>\n",
       "      <td>-0.069976</td>\n",
       "      <td>-0.008849</td>\n",
       "      <td>-0.106433</td>\n",
       "      <td>-0.129815</td>\n",
       "      <td>-0.049319</td>\n",
       "      <td>-0.028629</td>\n",
       "      <td>-0.023280</td>\n",
       "      <td>1.000000</td>\n",
       "      <td>...</td>\n",
       "      <td>-0.052366</td>\n",
       "      <td>-0.053844</td>\n",
       "      <td>-0.046129</td>\n",
       "      <td>-0.056720</td>\n",
       "      <td>-0.044470</td>\n",
       "      <td>-0.042761</td>\n",
       "      <td>-0.047744</td>\n",
       "      <td>-0.044470</td>\n",
       "      <td>-0.020120</td>\n",
       "      <td>-0.097773</td>\n",
       "    </tr>\n",
       "    <tr>\n",
       "      <th>zip_13</th>\n",
       "      <td>-0.085565</td>\n",
       "      <td>-0.069381</td>\n",
       "      <td>-0.089679</td>\n",
       "      <td>-0.001482</td>\n",
       "      <td>-0.117937</td>\n",
       "      <td>-0.038027</td>\n",
       "      <td>-0.042536</td>\n",
       "      <td>-0.024691</td>\n",
       "      <td>-0.020078</td>\n",
       "      <td>-0.028629</td>\n",
       "      <td>...</td>\n",
       "      <td>-0.045163</td>\n",
       "      <td>-0.046438</td>\n",
       "      <td>-0.039784</td>\n",
       "      <td>-0.048918</td>\n",
       "      <td>-0.038353</td>\n",
       "      <td>-0.036880</td>\n",
       "      <td>-0.041177</td>\n",
       "      <td>-0.038353</td>\n",
       "      <td>-0.017353</td>\n",
       "      <td>-0.122467</td>\n",
       "    </tr>\n",
       "    <tr>\n",
       "      <th>zip_14</th>\n",
       "      <td>-0.129848</td>\n",
       "      <td>-0.108489</td>\n",
       "      <td>-0.124206</td>\n",
       "      <td>0.010349</td>\n",
       "      <td>-0.115096</td>\n",
       "      <td>0.026552</td>\n",
       "      <td>-0.070935</td>\n",
       "      <td>-0.041177</td>\n",
       "      <td>-0.033483</td>\n",
       "      <td>-0.047744</td>\n",
       "      <td>...</td>\n",
       "      <td>-0.075317</td>\n",
       "      <td>-0.077442</td>\n",
       "      <td>-0.066347</td>\n",
       "      <td>-0.081579</td>\n",
       "      <td>-0.063961</td>\n",
       "      <td>-0.061503</td>\n",
       "      <td>-0.068670</td>\n",
       "      <td>-0.063961</td>\n",
       "      <td>-0.028938</td>\n",
       "      <td>-0.110873</td>\n",
       "    </tr>\n",
       "    <tr>\n",
       "      <th>zip_15</th>\n",
       "      <td>-0.120410</td>\n",
       "      <td>-0.097525</td>\n",
       "      <td>-0.090220</td>\n",
       "      <td>0.004475</td>\n",
       "      <td>-0.062597</td>\n",
       "      <td>-0.041423</td>\n",
       "      <td>-0.055371</td>\n",
       "      <td>-0.032142</td>\n",
       "      <td>-0.026137</td>\n",
       "      <td>-0.037268</td>\n",
       "      <td>...</td>\n",
       "      <td>-0.058791</td>\n",
       "      <td>-0.060450</td>\n",
       "      <td>-0.051789</td>\n",
       "      <td>-0.063679</td>\n",
       "      <td>-0.049927</td>\n",
       "      <td>-0.048008</td>\n",
       "      <td>-0.053602</td>\n",
       "      <td>-0.049927</td>\n",
       "      <td>-0.022589</td>\n",
       "      <td>-0.024881</td>\n",
       "    </tr>\n",
       "    <tr>\n",
       "      <th>zip_16</th>\n",
       "      <td>0.019423</td>\n",
       "      <td>0.065994</td>\n",
       "      <td>-0.027387</td>\n",
       "      <td>-0.010314</td>\n",
       "      <td>-0.007005</td>\n",
       "      <td>0.046989</td>\n",
       "      <td>-0.038750</td>\n",
       "      <td>-0.022494</td>\n",
       "      <td>-0.018291</td>\n",
       "      <td>-0.026081</td>\n",
       "      <td>...</td>\n",
       "      <td>-0.041144</td>\n",
       "      <td>-0.042305</td>\n",
       "      <td>-0.036243</td>\n",
       "      <td>-0.044564</td>\n",
       "      <td>-0.034940</td>\n",
       "      <td>-0.033597</td>\n",
       "      <td>-0.037512</td>\n",
       "      <td>-0.034940</td>\n",
       "      <td>-0.015808</td>\n",
       "      <td>-0.001271</td>\n",
       "    </tr>\n",
       "    <tr>\n",
       "      <th>zip_17</th>\n",
       "      <td>-0.109795</td>\n",
       "      <td>-0.095823</td>\n",
       "      <td>-0.116339</td>\n",
       "      <td>0.090495</td>\n",
       "      <td>-0.143966</td>\n",
       "      <td>-0.023414</td>\n",
       "      <td>-0.066071</td>\n",
       "      <td>-0.038353</td>\n",
       "      <td>-0.031187</td>\n",
       "      <td>-0.044470</td>\n",
       "      <td>...</td>\n",
       "      <td>-0.070152</td>\n",
       "      <td>-0.072132</td>\n",
       "      <td>-0.061797</td>\n",
       "      <td>-0.075985</td>\n",
       "      <td>-0.059574</td>\n",
       "      <td>-0.057286</td>\n",
       "      <td>-0.063961</td>\n",
       "      <td>-0.059574</td>\n",
       "      <td>-0.026954</td>\n",
       "      <td>-0.069005</td>\n",
       "    </tr>\n",
       "    <tr>\n",
       "      <th>zip_18</th>\n",
       "      <td>-0.070540</td>\n",
       "      <td>-0.068005</td>\n",
       "      <td>-0.058510</td>\n",
       "      <td>-0.002388</td>\n",
       "      <td>-0.085328</td>\n",
       "      <td>0.127246</td>\n",
       "      <td>-0.068536</td>\n",
       "      <td>-0.039784</td>\n",
       "      <td>-0.032351</td>\n",
       "      <td>-0.046129</td>\n",
       "      <td>...</td>\n",
       "      <td>-0.072770</td>\n",
       "      <td>-0.074823</td>\n",
       "      <td>-0.064103</td>\n",
       "      <td>-0.078820</td>\n",
       "      <td>-0.061797</td>\n",
       "      <td>-0.059423</td>\n",
       "      <td>-0.066347</td>\n",
       "      <td>-0.061797</td>\n",
       "      <td>-0.027960</td>\n",
       "      <td>0.015726</td>\n",
       "    </tr>\n",
       "    <tr>\n",
       "      <th>zip_19</th>\n",
       "      <td>-0.078193</td>\n",
       "      <td>-0.067781</td>\n",
       "      <td>-0.047395</td>\n",
       "      <td>-0.019735</td>\n",
       "      <td>-0.065907</td>\n",
       "      <td>-0.002668</td>\n",
       "      <td>-0.060911</td>\n",
       "      <td>-0.035358</td>\n",
       "      <td>-0.028752</td>\n",
       "      <td>-0.040997</td>\n",
       "      <td>...</td>\n",
       "      <td>-0.064674</td>\n",
       "      <td>-0.066499</td>\n",
       "      <td>-0.056971</td>\n",
       "      <td>-0.070051</td>\n",
       "      <td>-0.054922</td>\n",
       "      <td>-0.052812</td>\n",
       "      <td>-0.058966</td>\n",
       "      <td>-0.054922</td>\n",
       "      <td>-0.024849</td>\n",
       "      <td>0.014916</td>\n",
       "    </tr>\n",
       "    <tr>\n",
       "      <th>zip_2</th>\n",
       "      <td>0.008653</td>\n",
       "      <td>0.002962</td>\n",
       "      <td>-0.009085</td>\n",
       "      <td>-0.090332</td>\n",
       "      <td>0.036377</td>\n",
       "      <td>-0.052923</td>\n",
       "      <td>-0.077802</td>\n",
       "      <td>-0.045163</td>\n",
       "      <td>-0.036725</td>\n",
       "      <td>-0.052366</td>\n",
       "      <td>...</td>\n",
       "      <td>1.000000</td>\n",
       "      <td>-0.084940</td>\n",
       "      <td>-0.072770</td>\n",
       "      <td>-0.089477</td>\n",
       "      <td>-0.070152</td>\n",
       "      <td>-0.067457</td>\n",
       "      <td>-0.075317</td>\n",
       "      <td>-0.070152</td>\n",
       "      <td>-0.031740</td>\n",
       "      <td>0.025212</td>\n",
       "    </tr>\n",
       "    <tr>\n",
       "      <th>zip_20</th>\n",
       "      <td>0.215892</td>\n",
       "      <td>0.273944</td>\n",
       "      <td>0.076378</td>\n",
       "      <td>0.048104</td>\n",
       "      <td>-0.068130</td>\n",
       "      <td>-0.012004</td>\n",
       "      <td>-0.079998</td>\n",
       "      <td>-0.046438</td>\n",
       "      <td>-0.037761</td>\n",
       "      <td>-0.053844</td>\n",
       "      <td>...</td>\n",
       "      <td>-0.084940</td>\n",
       "      <td>1.000000</td>\n",
       "      <td>-0.074823</td>\n",
       "      <td>-0.092002</td>\n",
       "      <td>-0.072132</td>\n",
       "      <td>-0.069361</td>\n",
       "      <td>-0.077442</td>\n",
       "      <td>-0.072132</td>\n",
       "      <td>-0.032636</td>\n",
       "      <td>-0.101666</td>\n",
       "    </tr>\n",
       "    <tr>\n",
       "      <th>zip_3</th>\n",
       "      <td>0.198181</td>\n",
       "      <td>0.110773</td>\n",
       "      <td>0.292905</td>\n",
       "      <td>0.013467</td>\n",
       "      <td>0.248158</td>\n",
       "      <td>0.093551</td>\n",
       "      <td>-0.068536</td>\n",
       "      <td>-0.039784</td>\n",
       "      <td>-0.032351</td>\n",
       "      <td>-0.046129</td>\n",
       "      <td>...</td>\n",
       "      <td>-0.072770</td>\n",
       "      <td>-0.074823</td>\n",
       "      <td>1.000000</td>\n",
       "      <td>-0.078820</td>\n",
       "      <td>-0.061797</td>\n",
       "      <td>-0.059423</td>\n",
       "      <td>-0.066347</td>\n",
       "      <td>-0.061797</td>\n",
       "      <td>-0.027960</td>\n",
       "      <td>0.159524</td>\n",
       "    </tr>\n",
       "    <tr>\n",
       "      <th>zip_4</th>\n",
       "      <td>-0.026008</td>\n",
       "      <td>-0.006471</td>\n",
       "      <td>0.042796</td>\n",
       "      <td>-0.098192</td>\n",
       "      <td>0.013312</td>\n",
       "      <td>0.064363</td>\n",
       "      <td>-0.084271</td>\n",
       "      <td>-0.048918</td>\n",
       "      <td>-0.039778</td>\n",
       "      <td>-0.056720</td>\n",
       "      <td>...</td>\n",
       "      <td>-0.089477</td>\n",
       "      <td>-0.092002</td>\n",
       "      <td>-0.078820</td>\n",
       "      <td>1.000000</td>\n",
       "      <td>-0.075985</td>\n",
       "      <td>-0.073066</td>\n",
       "      <td>-0.081579</td>\n",
       "      <td>-0.075985</td>\n",
       "      <td>-0.034379</td>\n",
       "      <td>0.132326</td>\n",
       "    </tr>\n",
       "    <tr>\n",
       "      <th>zip_5</th>\n",
       "      <td>0.066174</td>\n",
       "      <td>0.061870</td>\n",
       "      <td>0.030349</td>\n",
       "      <td>-0.171519</td>\n",
       "      <td>-0.053943</td>\n",
       "      <td>-0.003487</td>\n",
       "      <td>-0.066071</td>\n",
       "      <td>-0.038353</td>\n",
       "      <td>-0.031187</td>\n",
       "      <td>-0.044470</td>\n",
       "      <td>...</td>\n",
       "      <td>-0.070152</td>\n",
       "      <td>-0.072132</td>\n",
       "      <td>-0.061797</td>\n",
       "      <td>-0.075985</td>\n",
       "      <td>1.000000</td>\n",
       "      <td>-0.057286</td>\n",
       "      <td>-0.063961</td>\n",
       "      <td>-0.059574</td>\n",
       "      <td>-0.026954</td>\n",
       "      <td>-0.032965</td>\n",
       "    </tr>\n",
       "    <tr>\n",
       "      <th>zip_6</th>\n",
       "      <td>-0.023991</td>\n",
       "      <td>-0.032053</td>\n",
       "      <td>-0.021069</td>\n",
       "      <td>0.062792</td>\n",
       "      <td>0.096473</td>\n",
       "      <td>0.004922</td>\n",
       "      <td>-0.063533</td>\n",
       "      <td>-0.036880</td>\n",
       "      <td>-0.029989</td>\n",
       "      <td>-0.042761</td>\n",
       "      <td>...</td>\n",
       "      <td>-0.067457</td>\n",
       "      <td>-0.069361</td>\n",
       "      <td>-0.059423</td>\n",
       "      <td>-0.073066</td>\n",
       "      <td>-0.057286</td>\n",
       "      <td>1.000000</td>\n",
       "      <td>-0.061503</td>\n",
       "      <td>-0.057286</td>\n",
       "      <td>-0.025918</td>\n",
       "      <td>-0.018370</td>\n",
       "    </tr>\n",
       "    <tr>\n",
       "      <th>zip_7</th>\n",
       "      <td>-0.017559</td>\n",
       "      <td>-0.042275</td>\n",
       "      <td>-0.065038</td>\n",
       "      <td>0.018040</td>\n",
       "      <td>-0.074782</td>\n",
       "      <td>-0.030049</td>\n",
       "      <td>-0.070935</td>\n",
       "      <td>-0.041177</td>\n",
       "      <td>-0.033483</td>\n",
       "      <td>-0.047744</td>\n",
       "      <td>...</td>\n",
       "      <td>-0.075317</td>\n",
       "      <td>-0.077442</td>\n",
       "      <td>-0.066347</td>\n",
       "      <td>-0.081579</td>\n",
       "      <td>-0.063961</td>\n",
       "      <td>-0.061503</td>\n",
       "      <td>1.000000</td>\n",
       "      <td>-0.063961</td>\n",
       "      <td>-0.028938</td>\n",
       "      <td>-0.066757</td>\n",
       "    </tr>\n",
       "    <tr>\n",
       "      <th>zip_8</th>\n",
       "      <td>-0.110904</td>\n",
       "      <td>-0.089133</td>\n",
       "      <td>-0.084757</td>\n",
       "      <td>-0.024136</td>\n",
       "      <td>0.024638</td>\n",
       "      <td>0.021665</td>\n",
       "      <td>-0.066071</td>\n",
       "      <td>-0.038353</td>\n",
       "      <td>-0.031187</td>\n",
       "      <td>-0.044470</td>\n",
       "      <td>...</td>\n",
       "      <td>-0.070152</td>\n",
       "      <td>-0.072132</td>\n",
       "      <td>-0.061797</td>\n",
       "      <td>-0.075985</td>\n",
       "      <td>-0.059574</td>\n",
       "      <td>-0.057286</td>\n",
       "      <td>-0.063961</td>\n",
       "      <td>1.000000</td>\n",
       "      <td>-0.026954</td>\n",
       "      <td>0.018364</td>\n",
       "    </tr>\n",
       "    <tr>\n",
       "      <th>zip_9</th>\n",
       "      <td>-0.040556</td>\n",
       "      <td>-0.036868</td>\n",
       "      <td>-0.031735</td>\n",
       "      <td>-0.001041</td>\n",
       "      <td>-0.038587</td>\n",
       "      <td>-0.008170</td>\n",
       "      <td>-0.029893</td>\n",
       "      <td>-0.017353</td>\n",
       "      <td>-0.014110</td>\n",
       "      <td>-0.020120</td>\n",
       "      <td>...</td>\n",
       "      <td>-0.031740</td>\n",
       "      <td>-0.032636</td>\n",
       "      <td>-0.027960</td>\n",
       "      <td>-0.034379</td>\n",
       "      <td>-0.026954</td>\n",
       "      <td>-0.025918</td>\n",
       "      <td>-0.028938</td>\n",
       "      <td>-0.026954</td>\n",
       "      <td>1.000000</td>\n",
       "      <td>0.030379</td>\n",
       "    </tr>\n",
       "    <tr>\n",
       "      <th>actual_construction_cost</th>\n",
       "      <td>0.209861</td>\n",
       "      <td>0.116412</td>\n",
       "      <td>0.677564</td>\n",
       "      <td>0.346966</td>\n",
       "      <td>0.758159</td>\n",
       "      <td>0.261210</td>\n",
       "      <td>0.232399</td>\n",
       "      <td>-0.048643</td>\n",
       "      <td>-0.063567</td>\n",
       "      <td>-0.097773</td>\n",
       "      <td>...</td>\n",
       "      <td>0.025212</td>\n",
       "      <td>-0.101666</td>\n",
       "      <td>0.159524</td>\n",
       "      <td>0.132326</td>\n",
       "      <td>-0.032965</td>\n",
       "      <td>-0.018370</td>\n",
       "      <td>-0.066757</td>\n",
       "      <td>0.018364</td>\n",
       "      <td>0.030379</td>\n",
       "      <td>1.000000</td>\n",
       "    </tr>\n",
       "  </tbody>\n",
       "</table>\n",
       "<p>27 rows × 27 columns</p>\n",
       "</div>"
      ],
      "text/plain": [
       "                                   total_floor_area  lot_area  \\\n",
       "total_floor_area                           1.000000  0.948429   \n",
       "lot_area                                   0.948429  1.000000   \n",
       "total_cost_preliminary_estimation          0.722144  0.603434   \n",
       "duration_construction                      0.193487  0.098084   \n",
       "price_unit_begining_project                0.219731  0.120408   \n",
       "total_population                           0.071885  0.057271   \n",
       "zip_1                                      0.319229  0.218629   \n",
       "zip_10                                    -0.105700 -0.084763   \n",
       "zip_11                                    -0.044340 -0.039532   \n",
       "zip_12                                    -0.059012 -0.052355   \n",
       "zip_13                                    -0.085565 -0.069381   \n",
       "zip_14                                    -0.129848 -0.108489   \n",
       "zip_15                                    -0.120410 -0.097525   \n",
       "zip_16                                     0.019423  0.065994   \n",
       "zip_17                                    -0.109795 -0.095823   \n",
       "zip_18                                    -0.070540 -0.068005   \n",
       "zip_19                                    -0.078193 -0.067781   \n",
       "zip_2                                      0.008653  0.002962   \n",
       "zip_20                                     0.215892  0.273944   \n",
       "zip_3                                      0.198181  0.110773   \n",
       "zip_4                                     -0.026008 -0.006471   \n",
       "zip_5                                      0.066174  0.061870   \n",
       "zip_6                                     -0.023991 -0.032053   \n",
       "zip_7                                     -0.017559 -0.042275   \n",
       "zip_8                                     -0.110904 -0.089133   \n",
       "zip_9                                     -0.040556 -0.036868   \n",
       "actual_construction_cost                   0.209861  0.116412   \n",
       "\n",
       "                                   total_cost_preliminary_estimation  \\\n",
       "total_floor_area                                            0.722144   \n",
       "lot_area                                                    0.603434   \n",
       "total_cost_preliminary_estimation                           1.000000   \n",
       "duration_construction                                       0.329163   \n",
       "price_unit_begining_project                                 0.580818   \n",
       "total_population                                            0.182363   \n",
       "zip_1                                                       0.338237   \n",
       "zip_10                                                     -0.085070   \n",
       "zip_11                                                     -0.054421   \n",
       "zip_12                                                     -0.069976   \n",
       "zip_13                                                     -0.089679   \n",
       "zip_14                                                     -0.124206   \n",
       "zip_15                                                     -0.090220   \n",
       "zip_16                                                     -0.027387   \n",
       "zip_17                                                     -0.116339   \n",
       "zip_18                                                     -0.058510   \n",
       "zip_19                                                     -0.047395   \n",
       "zip_2                                                      -0.009085   \n",
       "zip_20                                                      0.076378   \n",
       "zip_3                                                       0.292905   \n",
       "zip_4                                                       0.042796   \n",
       "zip_5                                                       0.030349   \n",
       "zip_6                                                      -0.021069   \n",
       "zip_7                                                      -0.065038   \n",
       "zip_8                                                      -0.084757   \n",
       "zip_9                                                      -0.031735   \n",
       "actual_construction_cost                                    0.677564   \n",
       "\n",
       "                                   duration_construction  \\\n",
       "total_floor_area                                0.193487   \n",
       "lot_area                                        0.098084   \n",
       "total_cost_preliminary_estimation               0.329163   \n",
       "duration_construction                           1.000000   \n",
       "price_unit_begining_project                     0.114313   \n",
       "total_population                                0.146139   \n",
       "zip_1                                           0.186898   \n",
       "zip_10                                          0.010818   \n",
       "zip_11                                         -0.021208   \n",
       "zip_12                                         -0.008849   \n",
       "zip_13                                         -0.001482   \n",
       "zip_14                                          0.010349   \n",
       "zip_15                                          0.004475   \n",
       "zip_16                                         -0.010314   \n",
       "zip_17                                          0.090495   \n",
       "zip_18                                         -0.002388   \n",
       "zip_19                                         -0.019735   \n",
       "zip_2                                          -0.090332   \n",
       "zip_20                                          0.048104   \n",
       "zip_3                                           0.013467   \n",
       "zip_4                                          -0.098192   \n",
       "zip_5                                          -0.171519   \n",
       "zip_6                                           0.062792   \n",
       "zip_7                                           0.018040   \n",
       "zip_8                                          -0.024136   \n",
       "zip_9                                          -0.001041   \n",
       "actual_construction_cost                        0.346966   \n",
       "\n",
       "                                   price_unit_begining_project  \\\n",
       "total_floor_area                                      0.219731   \n",
       "lot_area                                              0.120408   \n",
       "total_cost_preliminary_estimation                     0.580818   \n",
       "duration_construction                                 0.114313   \n",
       "price_unit_begining_project                           1.000000   \n",
       "total_population                                      0.166649   \n",
       "zip_1                                                 0.464999   \n",
       "zip_10                                               -0.083556   \n",
       "zip_11                                               -0.037075   \n",
       "zip_12                                               -0.106433   \n",
       "zip_13                                               -0.117937   \n",
       "zip_14                                               -0.115096   \n",
       "zip_15                                               -0.062597   \n",
       "zip_16                                               -0.007005   \n",
       "zip_17                                               -0.143966   \n",
       "zip_18                                               -0.085328   \n",
       "zip_19                                               -0.065907   \n",
       "zip_2                                                 0.036377   \n",
       "zip_20                                               -0.068130   \n",
       "zip_3                                                 0.248158   \n",
       "zip_4                                                 0.013312   \n",
       "zip_5                                                -0.053943   \n",
       "zip_6                                                 0.096473   \n",
       "zip_7                                                -0.074782   \n",
       "zip_8                                                 0.024638   \n",
       "zip_9                                                -0.038587   \n",
       "actual_construction_cost                              0.758159   \n",
       "\n",
       "                                   total_population     zip_1    zip_10  \\\n",
       "total_floor_area                           0.071885  0.319229 -0.105700   \n",
       "lot_area                                   0.057271  0.218629 -0.084763   \n",
       "total_cost_preliminary_estimation          0.182363  0.338237 -0.085070   \n",
       "duration_construction                      0.146139  0.186898  0.010818   \n",
       "price_unit_begining_project                0.166649  0.464999 -0.083556   \n",
       "total_population                           1.000000 -0.034316 -0.109876   \n",
       "zip_1                                     -0.034316  1.000000 -0.042536   \n",
       "zip_10                                    -0.109876 -0.042536  1.000000   \n",
       "zip_11                                     0.037477 -0.034588 -0.020078   \n",
       "zip_12                                    -0.129815 -0.049319 -0.028629   \n",
       "zip_13                                    -0.038027 -0.042536 -0.024691   \n",
       "zip_14                                     0.026552 -0.070935 -0.041177   \n",
       "zip_15                                    -0.041423 -0.055371 -0.032142   \n",
       "zip_16                                     0.046989 -0.038750 -0.022494   \n",
       "zip_17                                    -0.023414 -0.066071 -0.038353   \n",
       "zip_18                                     0.127246 -0.068536 -0.039784   \n",
       "zip_19                                    -0.002668 -0.060911 -0.035358   \n",
       "zip_2                                     -0.052923 -0.077802 -0.045163   \n",
       "zip_20                                    -0.012004 -0.079998 -0.046438   \n",
       "zip_3                                      0.093551 -0.068536 -0.039784   \n",
       "zip_4                                      0.064363 -0.084271 -0.048918   \n",
       "zip_5                                     -0.003487 -0.066071 -0.038353   \n",
       "zip_6                                      0.004922 -0.063533 -0.036880   \n",
       "zip_7                                     -0.030049 -0.070935 -0.041177   \n",
       "zip_8                                      0.021665 -0.066071 -0.038353   \n",
       "zip_9                                     -0.008170 -0.029893 -0.017353   \n",
       "actual_construction_cost                   0.261210  0.232399 -0.048643   \n",
       "\n",
       "                                     zip_11    zip_12  \\\n",
       "total_floor_area                  -0.044340 -0.059012   \n",
       "lot_area                          -0.039532 -0.052355   \n",
       "total_cost_preliminary_estimation -0.054421 -0.069976   \n",
       "duration_construction             -0.021208 -0.008849   \n",
       "price_unit_begining_project       -0.037075 -0.106433   \n",
       "total_population                   0.037477 -0.129815   \n",
       "zip_1                             -0.034588 -0.049319   \n",
       "zip_10                            -0.020078 -0.028629   \n",
       "zip_11                             1.000000 -0.023280   \n",
       "zip_12                            -0.023280  1.000000   \n",
       "zip_13                            -0.020078 -0.028629   \n",
       "zip_14                            -0.033483 -0.047744   \n",
       "zip_15                            -0.026137 -0.037268   \n",
       "zip_16                            -0.018291 -0.026081   \n",
       "zip_17                            -0.031187 -0.044470   \n",
       "zip_18                            -0.032351 -0.046129   \n",
       "zip_19                            -0.028752 -0.040997   \n",
       "zip_2                             -0.036725 -0.052366   \n",
       "zip_20                            -0.037761 -0.053844   \n",
       "zip_3                             -0.032351 -0.046129   \n",
       "zip_4                             -0.039778 -0.056720   \n",
       "zip_5                             -0.031187 -0.044470   \n",
       "zip_6                             -0.029989 -0.042761   \n",
       "zip_7                             -0.033483 -0.047744   \n",
       "zip_8                             -0.031187 -0.044470   \n",
       "zip_9                             -0.014110 -0.020120   \n",
       "actual_construction_cost          -0.063567 -0.097773   \n",
       "\n",
       "                                             ...                zip_2  \\\n",
       "total_floor_area                             ...             0.008653   \n",
       "lot_area                                     ...             0.002962   \n",
       "total_cost_preliminary_estimation            ...            -0.009085   \n",
       "duration_construction                        ...            -0.090332   \n",
       "price_unit_begining_project                  ...             0.036377   \n",
       "total_population                             ...            -0.052923   \n",
       "zip_1                                        ...            -0.077802   \n",
       "zip_10                                       ...            -0.045163   \n",
       "zip_11                                       ...            -0.036725   \n",
       "zip_12                                       ...            -0.052366   \n",
       "zip_13                                       ...            -0.045163   \n",
       "zip_14                                       ...            -0.075317   \n",
       "zip_15                                       ...            -0.058791   \n",
       "zip_16                                       ...            -0.041144   \n",
       "zip_17                                       ...            -0.070152   \n",
       "zip_18                                       ...            -0.072770   \n",
       "zip_19                                       ...            -0.064674   \n",
       "zip_2                                        ...             1.000000   \n",
       "zip_20                                       ...            -0.084940   \n",
       "zip_3                                        ...            -0.072770   \n",
       "zip_4                                        ...            -0.089477   \n",
       "zip_5                                        ...            -0.070152   \n",
       "zip_6                                        ...            -0.067457   \n",
       "zip_7                                        ...            -0.075317   \n",
       "zip_8                                        ...            -0.070152   \n",
       "zip_9                                        ...            -0.031740   \n",
       "actual_construction_cost                     ...             0.025212   \n",
       "\n",
       "                                     zip_20     zip_3     zip_4     zip_5  \\\n",
       "total_floor_area                   0.215892  0.198181 -0.026008  0.066174   \n",
       "lot_area                           0.273944  0.110773 -0.006471  0.061870   \n",
       "total_cost_preliminary_estimation  0.076378  0.292905  0.042796  0.030349   \n",
       "duration_construction              0.048104  0.013467 -0.098192 -0.171519   \n",
       "price_unit_begining_project       -0.068130  0.248158  0.013312 -0.053943   \n",
       "total_population                  -0.012004  0.093551  0.064363 -0.003487   \n",
       "zip_1                             -0.079998 -0.068536 -0.084271 -0.066071   \n",
       "zip_10                            -0.046438 -0.039784 -0.048918 -0.038353   \n",
       "zip_11                            -0.037761 -0.032351 -0.039778 -0.031187   \n",
       "zip_12                            -0.053844 -0.046129 -0.056720 -0.044470   \n",
       "zip_13                            -0.046438 -0.039784 -0.048918 -0.038353   \n",
       "zip_14                            -0.077442 -0.066347 -0.081579 -0.063961   \n",
       "zip_15                            -0.060450 -0.051789 -0.063679 -0.049927   \n",
       "zip_16                            -0.042305 -0.036243 -0.044564 -0.034940   \n",
       "zip_17                            -0.072132 -0.061797 -0.075985 -0.059574   \n",
       "zip_18                            -0.074823 -0.064103 -0.078820 -0.061797   \n",
       "zip_19                            -0.066499 -0.056971 -0.070051 -0.054922   \n",
       "zip_2                             -0.084940 -0.072770 -0.089477 -0.070152   \n",
       "zip_20                             1.000000 -0.074823 -0.092002 -0.072132   \n",
       "zip_3                             -0.074823  1.000000 -0.078820 -0.061797   \n",
       "zip_4                             -0.092002 -0.078820  1.000000 -0.075985   \n",
       "zip_5                             -0.072132 -0.061797 -0.075985  1.000000   \n",
       "zip_6                             -0.069361 -0.059423 -0.073066 -0.057286   \n",
       "zip_7                             -0.077442 -0.066347 -0.081579 -0.063961   \n",
       "zip_8                             -0.072132 -0.061797 -0.075985 -0.059574   \n",
       "zip_9                             -0.032636 -0.027960 -0.034379 -0.026954   \n",
       "actual_construction_cost          -0.101666  0.159524  0.132326 -0.032965   \n",
       "\n",
       "                                      zip_6     zip_7     zip_8     zip_9  \\\n",
       "total_floor_area                  -0.023991 -0.017559 -0.110904 -0.040556   \n",
       "lot_area                          -0.032053 -0.042275 -0.089133 -0.036868   \n",
       "total_cost_preliminary_estimation -0.021069 -0.065038 -0.084757 -0.031735   \n",
       "duration_construction              0.062792  0.018040 -0.024136 -0.001041   \n",
       "price_unit_begining_project        0.096473 -0.074782  0.024638 -0.038587   \n",
       "total_population                   0.004922 -0.030049  0.021665 -0.008170   \n",
       "zip_1                             -0.063533 -0.070935 -0.066071 -0.029893   \n",
       "zip_10                            -0.036880 -0.041177 -0.038353 -0.017353   \n",
       "zip_11                            -0.029989 -0.033483 -0.031187 -0.014110   \n",
       "zip_12                            -0.042761 -0.047744 -0.044470 -0.020120   \n",
       "zip_13                            -0.036880 -0.041177 -0.038353 -0.017353   \n",
       "zip_14                            -0.061503 -0.068670 -0.063961 -0.028938   \n",
       "zip_15                            -0.048008 -0.053602 -0.049927 -0.022589   \n",
       "zip_16                            -0.033597 -0.037512 -0.034940 -0.015808   \n",
       "zip_17                            -0.057286 -0.063961 -0.059574 -0.026954   \n",
       "zip_18                            -0.059423 -0.066347 -0.061797 -0.027960   \n",
       "zip_19                            -0.052812 -0.058966 -0.054922 -0.024849   \n",
       "zip_2                             -0.067457 -0.075317 -0.070152 -0.031740   \n",
       "zip_20                            -0.069361 -0.077442 -0.072132 -0.032636   \n",
       "zip_3                             -0.059423 -0.066347 -0.061797 -0.027960   \n",
       "zip_4                             -0.073066 -0.081579 -0.075985 -0.034379   \n",
       "zip_5                             -0.057286 -0.063961 -0.059574 -0.026954   \n",
       "zip_6                              1.000000 -0.061503 -0.057286 -0.025918   \n",
       "zip_7                             -0.061503  1.000000 -0.063961 -0.028938   \n",
       "zip_8                             -0.057286 -0.063961  1.000000 -0.026954   \n",
       "zip_9                             -0.025918 -0.028938 -0.026954  1.000000   \n",
       "actual_construction_cost          -0.018370 -0.066757  0.018364  0.030379   \n",
       "\n",
       "                                   actual_construction_cost  \n",
       "total_floor_area                                   0.209861  \n",
       "lot_area                                           0.116412  \n",
       "total_cost_preliminary_estimation                  0.677564  \n",
       "duration_construction                              0.346966  \n",
       "price_unit_begining_project                        0.758159  \n",
       "total_population                                   0.261210  \n",
       "zip_1                                              0.232399  \n",
       "zip_10                                            -0.048643  \n",
       "zip_11                                            -0.063567  \n",
       "zip_12                                            -0.097773  \n",
       "zip_13                                            -0.122467  \n",
       "zip_14                                            -0.110873  \n",
       "zip_15                                            -0.024881  \n",
       "zip_16                                            -0.001271  \n",
       "zip_17                                            -0.069005  \n",
       "zip_18                                             0.015726  \n",
       "zip_19                                             0.014916  \n",
       "zip_2                                              0.025212  \n",
       "zip_20                                            -0.101666  \n",
       "zip_3                                              0.159524  \n",
       "zip_4                                              0.132326  \n",
       "zip_5                                             -0.032965  \n",
       "zip_6                                             -0.018370  \n",
       "zip_7                                             -0.066757  \n",
       "zip_8                                              0.018364  \n",
       "zip_9                                              0.030379  \n",
       "actual_construction_cost                           1.000000  \n",
       "\n",
       "[27 rows x 27 columns]"
      ]
     },
     "execution_count": 23,
     "metadata": {},
     "output_type": "execute_result"
    }
   ],
   "source": [
    "# Calculamos la matriz de correlaciones\n",
    "corr = train_X.join(train_y).corr()\n",
    "corr"
   ]
  },
  {
   "cell_type": "code",
   "execution_count": 24,
   "metadata": {},
   "outputs": [
    {
     "data": {
      "text/plain": [
       "<matplotlib.axes._subplots.AxesSubplot at 0x22977331b70>"
      ]
     },
     "execution_count": 24,
     "metadata": {},
     "output_type": "execute_result"
    },
    {
     "data": {
      "image/png": "[encoded data removed]",
      "text/plain": [
       "<Figure size 792x648 with 2 Axes>"
      ]
     },
     "metadata": {},
     "output_type": "display_data"
    }
   ],
   "source": [
    "## Set up the matplotlib figure\n",
    "f, ax = plt.subplots(figsize=(11, 9))\n",
    "\n",
    "# Generate a custom diverging colormap\n",
    "cmap = sns.diverging_palette(220, 10, as_cmap=True)\n",
    "\n",
    "# Borramos la parte diagonal superior con una máscara\n",
    "mask = np.zeros_like(corr, dtype=np.bool)\n",
    "mask[np.triu_indices_from(mask)] = True\n",
    "\n",
    "sns.heatmap(corr, mask=mask, cmap=cmap, vmax=1, vmin=-1, center=0, \n",
    "            square=True, linewidths=.5, cbar_kws={\"shrink\": .5})"
   ]
  },
  {
   "cell_type": "markdown",
   "metadata": {},
   "source": [
    "Encontramos que *lot_are* está bastante correlacionada con *total_floor_area*. Vamos a  seguir un proceso de forward stepwise."
   ]
  },
  {
   "cell_type": "markdown",
   "metadata": {},
   "source": [
    "## Escogencia de variables"
   ]
  },
  {
   "cell_type": "markdown",
   "metadata": {},
   "source": [
    "Empezamos por escoger como primera variable *total_cost_preliminary_estimation*, pues es la que tiene la correlación más importante con *actual_construction_cost*."
   ]
  },
  {
   "cell_type": "code",
   "execution_count": 25,
   "metadata": {},
   "outputs": [
    {
     "name": "stdout",
     "output_type": "stream",
     "text": [
      "0.5730843381513779\n"
     ]
    }
   ],
   "source": [
    "train_X2 = train_X[['price_unit_begining_project']]\n",
    "train_X2 = sm.add_constant(train_X2)\n",
    "modeloStats = sm.OLS(train_y, train_X2)\n",
    "results = modeloStats.fit();\n",
    "print(results.rsquared_adj)"
   ]
  },
  {
   "cell_type": "markdown",
   "metadata": {},
   "source": [
    "Partimos entonces de un R2 ajustado de 0.573.\n",
    "Buscamos la siguiente mejor variable a agregar a *price_unit_begining_project*."
   ]
  },
  {
   "cell_type": "code",
   "execution_count": 26,
   "metadata": {},
   "outputs": [
    {
     "name": "stdout",
     "output_type": "stream",
     "text": [
      "[0.5733321743298702, 0.5719946005845187, 0.6569544073747955, 0.6405594631817955, 0.5902086846270551, 0.5899155704124422, 0.5713545648650085, 0.5722288576144884, 0.5864140852305494, 0.5714125202329056, 0.5798707053097305, 0.5714515158509832, 0.5713490088201882, 0.5749394111688001, 0.5715684711920006, 0.5726181198771527, 0.5716463694610224, 0.5724657551202431, 0.5719184986105097, 0.5718648395419765, 0.5713653613247052, 0.5730079938380179, 0.5779164694751634, 0.5756115965516038, 0.573882225322228]\n",
      "['price_unit_begining_project', 'total_cost_preliminary_estimation']\n"
     ]
    }
   ],
   "source": [
    "var_escogidas = ['price_unit_begining_project']\n",
    "var_intentar = ['total_floor_area', 'lot_area', 'total_cost_preliminary_estimation', 'duration_construction', \n",
    "                'total_population', 'zip_1', 'zip_2', 'zip_3', 'zip_4', 'zip_5', 'zip_6', 'zip_7', 'zip_8',\n",
    "                'zip_9', 'zip_10', 'zip_11', 'zip_12', 'zip_13', 'zip_14', 'zip_15', 'zip_16', 'zip_17',\n",
    "                'zip_18', 'zip_19', 'zip_20']\n",
    "\n",
    "r2_aj_stepwise = []\n",
    "max_r2 = 0;\n",
    "for nueva_var in var_intentar:\n",
    "    var_modelo=np.append(var_escogidas, nueva_var)\n",
    "    train_X2 = train_X[var_modelo]\n",
    "    train_X2 = sm.add_constant(train_X2)\n",
    "    modeloStats = sm.OLS(train_y, train_X2)\n",
    "    results = modeloStats.fit();\n",
    "    if results.rsquared_adj > max_r2:\n",
    "        max_r2 = results.rsquared_adj\n",
    "        var_escogida = nueva_var\n",
    "    r2_aj_stepwise.append(results.rsquared_adj)\n",
    "print(r2_aj_stepwise)\n",
    "var_escogidas.append(var_escogida)\n",
    "print(var_escogidas)"
   ]
  },
  {
   "cell_type": "markdown",
   "metadata": {},
   "source": [
    "Encontramos que el agregar *total_cost_preliminary_estimation* a *price_unit_begining_project* nos hace llegar el R2 ajustado a un valor de 0.657.\n",
    "\n",
    "Buscamos la siguiente mejor variable a agregar."
   ]
  },
  {
   "cell_type": "code",
   "execution_count": 27,
   "metadata": {},
   "outputs": [
    {
     "name": "stdout",
     "output_type": "stream",
     "text": [
      "[0.7251177329825829, 0.7056359347642795, 0.6872425118254586, 0.6669956534267971, 0.6827805743993776, 0.6556266643395912, 0.6630521231840729, 0.6677563658950265, 0.6557586014307151, 0.6597658409432777, 0.6555597377650806, 0.6568243338302341, 0.6595747089960333, 0.6563428406721333, 0.6561237766320234, 0.6557595149722225, 0.6562206382820874, 0.6555640000497468, 0.6573427214075918, 0.655709674613298, 0.6583385898036636, 0.6626853523198684, 0.6602762002565125, 0.664249280920948]\n",
      "['price_unit_begining_project', 'total_cost_preliminary_estimation', 'total_floor_area']\n"
     ]
    }
   ],
   "source": [
    "var_escogidas = ['price_unit_begining_project', 'total_cost_preliminary_estimation']\n",
    "var_intentar = ['total_floor_area', 'lot_area', 'duration_construction', \n",
    "                'total_population', 'zip_1', 'zip_2', 'zip_3', 'zip_4', 'zip_5', 'zip_6', 'zip_7', 'zip_8',\n",
    "                'zip_9', 'zip_10', 'zip_11', 'zip_12', 'zip_13', 'zip_14', 'zip_15', 'zip_16', 'zip_17',\n",
    "                'zip_18', 'zip_19', 'zip_20']\n",
    "\n",
    "\n",
    "r2_aj_stepwise = []\n",
    "max_r2 = 0;\n",
    "for nueva_var in var_intentar:\n",
    "    var_modelo=np.append(var_escogidas, nueva_var)\n",
    "    train_X2 = train_X[var_modelo]\n",
    "    train_X2 = sm.add_constant(train_X2)\n",
    "    modeloStats = sm.OLS(train_y, train_X2)\n",
    "    results = modeloStats.fit();\n",
    "    if results.rsquared_adj > max_r2:\n",
    "        max_r2 = results.rsquared_adj\n",
    "        var_escogida = nueva_var\n",
    "    r2_aj_stepwise.append(results.rsquared_adj)\n",
    "print(r2_aj_stepwise)\n",
    "var_escogidas.append(var_escogida)\n",
    "print(var_escogidas)"
   ]
  },
  {
   "cell_type": "markdown",
   "metadata": {},
   "source": [
    "Encontramos que el agregar *total_floor_area* a *total_cost_preliminary_estimation* y *price_unit_begining_project* nos hace llegar el R2 ajustado a un valor de 0.725.\n",
    "\n",
    "Buscamos las siguiente variables a agregar hasta que encontramos que no se puede seguir mejorando el R2 ajustado."
   ]
  },
  {
   "cell_type": "code",
   "execution_count": 28,
   "metadata": {},
   "outputs": [
    {
     "name": "stdout",
     "output_type": "stream",
     "text": [
      "[0.7978202765484377, 0.7979494243789943, 0.7981289633785842, 0.7977981569050812, 0.7978237371097138, 0.7983913930789173, 0.7978798202128143, 0.7978048908559534, 0.7978752193120044]\n",
      "['price_unit_begining_project', 'total_cost_preliminary_estimation', 'total_floor_area', 'duration_construction', 'zip_1', 'zip_3', 'zip_6', 'zip_20', 'zip_4', 'zip_18', 'zip_9', 'zip_19', 'total_population', 'zip_13', 'lot_area', 'zip_14', 'zip_11', 'zip_12']\n"
     ]
    }
   ],
   "source": [
    "var_escogidas = ['price_unit_begining_project', 'total_cost_preliminary_estimation', 'total_floor_area',\n",
    "                'duration_construction', 'zip_1', 'zip_3', 'zip_6', 'zip_20', 'zip_4', 'zip_18', 'zip_9',\n",
    "                'zip_19', 'total_population', 'zip_13', 'lot_area', 'zip_14', 'zip_11']\n",
    "var_intentar = ['zip_2', 'zip_5', 'zip_7', 'zip_8',\n",
    "                'zip_10', 'zip_12', 'zip_15', 'zip_16', 'zip_17']\n",
    "\n",
    "r2_aj_stepwise = []\n",
    "max_r2 = 0;\n",
    "for nueva_var in var_intentar:\n",
    "    var_modelo=np.append(var_escogidas, nueva_var)\n",
    "    train_X2 = train_X[var_modelo]\n",
    "    train_X2 = sm.add_constant(train_X2)\n",
    "    modeloStats = sm.OLS(train_y, train_X2)\n",
    "    results = modeloStats.fit();\n",
    "    if results.rsquared_adj > max_r2:\n",
    "        max_r2 = results.rsquared_adj\n",
    "        var_escogida = nueva_var\n",
    "    r2_aj_stepwise.append(results.rsquared_adj)\n",
    "print(r2_aj_stepwise)\n",
    "var_escogidas.append(var_escogida)\n",
    "print(var_escogidas)"
   ]
  },
  {
   "cell_type": "code",
   "execution_count": 29,
   "metadata": {},
   "outputs": [
    {
     "data": {
      "text/html": [
       "<table class=\"simpletable\">\n",
       "<caption>OLS Regression Results</caption>\n",
       "<tr>\n",
       "  <th>Dep. Variable:</th>    <td>actual_construction_cost</td> <th>  R-squared:         </th> <td>   0.812</td>\n",
       "</tr>\n",
       "<tr>\n",
       "  <th>Model:</th>                       <td>OLS</td>           <th>  Adj. R-squared:    </th> <td>   0.799</td>\n",
       "</tr>\n",
       "<tr>\n",
       "  <th>Method:</th>                 <td>Least Squares</td>      <th>  F-statistic:       </th> <td>   58.87</td>\n",
       "</tr>\n",
       "<tr>\n",
       "  <th>Date:</th>                 <td>Sun, 23 Sep 2018</td>     <th>  Prob (F-statistic):</th> <td>6.43e-74</td>\n",
       "</tr>\n",
       "<tr>\n",
       "  <th>Time:</th>                     <td>11:36:20</td>         <th>  Log-Likelihood:    </th> <td> -1408.1</td>\n",
       "</tr>\n",
       "<tr>\n",
       "  <th>No. Observations:</th>          <td>   249</td>          <th>  AIC:               </th> <td>   2852.</td>\n",
       "</tr>\n",
       "<tr>\n",
       "  <th>Df Residuals:</th>              <td>   231</td>          <th>  BIC:               </th> <td>   2915.</td>\n",
       "</tr>\n",
       "<tr>\n",
       "  <th>Df Model:</th>                  <td>    17</td>          <th>                     </th>     <td> </td>   \n",
       "</tr>\n",
       "<tr>\n",
       "  <th>Covariance Type:</th>          <td>nonrobust</td>        <th>                     </th>     <td> </td>   \n",
       "</tr>\n",
       "</table>\n",
       "<table class=\"simpletable\">\n",
       "<tr>\n",
       "                  <td></td>                     <th>coef</th>     <th>std err</th>      <th>t</th>      <th>P>|t|</th>  <th>[0.025</th>    <th>0.975]</th>  \n",
       "</tr>\n",
       "<tr>\n",
       "  <th>const</th>                             <td>   10.4295</td> <td>   19.544</td> <td>    0.534</td> <td> 0.594</td> <td>  -28.078</td> <td>   48.937</td>\n",
       "</tr>\n",
       "<tr>\n",
       "  <th>price_unit_begining_project</th>       <td>    0.1029</td> <td>    0.008</td> <td>   13.167</td> <td> 0.000</td> <td>    0.087</td> <td>    0.118</td>\n",
       "</tr>\n",
       "<tr>\n",
       "  <th>total_cost_preliminary_estimation</th> <td>    0.1971</td> <td>    0.021</td> <td>    9.313</td> <td> 0.000</td> <td>    0.155</td> <td>    0.239</td>\n",
       "</tr>\n",
       "<tr>\n",
       "  <th>total_floor_area</th>                  <td>   -0.0358</td> <td>    0.012</td> <td>   -3.108</td> <td> 0.002</td> <td>   -0.058</td> <td>   -0.013</td>\n",
       "</tr>\n",
       "<tr>\n",
       "  <th>duration_construction</th>             <td>   15.5125</td> <td>    2.423</td> <td>    6.402</td> <td> 0.000</td> <td>   10.739</td> <td>   20.286</td>\n",
       "</tr>\n",
       "<tr>\n",
       "  <th>zip_1</th>                             <td> -116.2120</td> <td>   24.109</td> <td>   -4.820</td> <td> 0.000</td> <td> -163.714</td> <td>  -68.710</td>\n",
       "</tr>\n",
       "<tr>\n",
       "  <th>zip_3</th>                             <td>  -74.6942</td> <td>   22.238</td> <td>   -3.359</td> <td> 0.001</td> <td> -118.510</td> <td>  -30.879</td>\n",
       "</tr>\n",
       "<tr>\n",
       "  <th>zip_6</th>                             <td>  -71.6210</td> <td>   21.613</td> <td>   -3.314</td> <td> 0.001</td> <td> -114.206</td> <td>  -29.036</td>\n",
       "</tr>\n",
       "<tr>\n",
       "  <th>zip_20</th>                            <td>  -50.9658</td> <td>   18.413</td> <td>   -2.768</td> <td> 0.006</td> <td>  -87.245</td> <td>  -14.687</td>\n",
       "</tr>\n",
       "<tr>\n",
       "  <th>zip_4</th>                             <td>   39.9374</td> <td>   17.134</td> <td>    2.331</td> <td> 0.021</td> <td>    6.179</td> <td>   73.696</td>\n",
       "</tr>\n",
       "<tr>\n",
       "  <th>zip_18</th>                            <td>   30.9673</td> <td>   20.100</td> <td>    1.541</td> <td> 0.125</td> <td>   -8.635</td> <td>   70.569</td>\n",
       "</tr>\n",
       "<tr>\n",
       "  <th>zip_9</th>                             <td>   71.2692</td> <td>   42.054</td> <td>    1.695</td> <td> 0.091</td> <td>  -11.589</td> <td>  154.128</td>\n",
       "</tr>\n",
       "<tr>\n",
       "  <th>zip_19</th>                            <td>   28.5179</td> <td>   21.944</td> <td>    1.300</td> <td> 0.195</td> <td>  -14.719</td> <td>   71.754</td>\n",
       "</tr>\n",
       "<tr>\n",
       "  <th>total_population</th>                  <td>    0.0006</td> <td>    0.000</td> <td>    1.553</td> <td> 0.122</td> <td>   -0.000</td> <td>    0.001</td>\n",
       "</tr>\n",
       "<tr>\n",
       "  <th>zip_13</th>                            <td>  -41.8310</td> <td>   30.374</td> <td>   -1.377</td> <td> 0.170</td> <td> -101.676</td> <td>   18.014</td>\n",
       "</tr>\n",
       "<tr>\n",
       "  <th>lot_area</th>                          <td>    0.0404</td> <td>    0.033</td> <td>    1.213</td> <td> 0.226</td> <td>   -0.025</td> <td>    0.106</td>\n",
       "</tr>\n",
       "<tr>\n",
       "  <th>zip_14</th>                            <td>  -24.4835</td> <td>   19.446</td> <td>   -1.259</td> <td> 0.209</td> <td>  -62.798</td> <td>   13.831</td>\n",
       "</tr>\n",
       "<tr>\n",
       "  <th>zip_11</th>                            <td>  -42.2365</td> <td>   36.644</td> <td>   -1.153</td> <td> 0.250</td> <td> -114.436</td> <td>   29.963</td>\n",
       "</tr>\n",
       "</table>\n",
       "<table class=\"simpletable\">\n",
       "<tr>\n",
       "  <th>Omnibus:</th>       <td>11.723</td> <th>  Durbin-Watson:     </th> <td>   2.105</td>\n",
       "</tr>\n",
       "<tr>\n",
       "  <th>Prob(Omnibus):</th> <td> 0.003</td> <th>  Jarque-Bera (JB):  </th> <td>  13.647</td>\n",
       "</tr>\n",
       "<tr>\n",
       "  <th>Skew:</th>          <td> 0.410</td> <th>  Prob(JB):          </th> <td> 0.00109</td>\n",
       "</tr>\n",
       "<tr>\n",
       "  <th>Kurtosis:</th>      <td> 3.802</td> <th>  Cond. No.          </th> <td>2.85e+05</td>\n",
       "</tr>\n",
       "</table><br/><br/>Warnings:<br/>[1] Standard Errors assume that the covariance matrix of the errors is correctly specified.<br/>[2] The condition number is large, 2.85e+05. This might indicate that there are<br/>strong multicollinearity or other numerical problems."
      ],
      "text/plain": [
       "<class 'statsmodels.iolib.summary.Summary'>\n",
       "\"\"\"\n",
       "                               OLS Regression Results                               \n",
       "====================================================================================\n",
       "Dep. Variable:     actual_construction_cost   R-squared:                       0.812\n",
       "Model:                                  OLS   Adj. R-squared:                  0.799\n",
       "Method:                       Least Squares   F-statistic:                     58.87\n",
       "Date:                      Sun, 23 Sep 2018   Prob (F-statistic):           6.43e-74\n",
       "Time:                              11:36:20   Log-Likelihood:                -1408.1\n",
       "No. Observations:                       249   AIC:                             2852.\n",
       "Df Residuals:                           231   BIC:                             2915.\n",
       "Df Model:                                17                                         \n",
       "Covariance Type:                  nonrobust                                         \n",
       "=====================================================================================================\n",
       "                                        coef    std err          t      P>|t|      [0.025      0.975]\n",
       "-----------------------------------------------------------------------------------------------------\n",
       "const                                10.4295     19.544      0.534      0.594     -28.078      48.937\n",
       "price_unit_begining_project           0.1029      0.008     13.167      0.000       0.087       0.118\n",
       "total_cost_preliminary_estimation     0.1971      0.021      9.313      0.000       0.155       0.239\n",
       "total_floor_area                     -0.0358      0.012     -3.108      0.002      -0.058      -0.013\n",
       "duration_construction                15.5125      2.423      6.402      0.000      10.739      20.286\n",
       "zip_1                              -116.2120     24.109     -4.820      0.000    -163.714     -68.710\n",
       "zip_3                               -74.6942     22.238     -3.359      0.001    -118.510     -30.879\n",
       "zip_6                               -71.6210     21.613     -3.314      0.001    -114.206     -29.036\n",
       "zip_20                              -50.9658     18.413     -2.768      0.006     -87.245     -14.687\n",
       "zip_4                                39.9374     17.134      2.331      0.021       6.179      73.696\n",
       "zip_18                               30.9673     20.100      1.541      0.125      -8.635      70.569\n",
       "zip_9                                71.2692     42.054      1.695      0.091     -11.589     154.128\n",
       "zip_19                               28.5179     21.944      1.300      0.195     -14.719      71.754\n",
       "total_population                      0.0006      0.000      1.553      0.122      -0.000       0.001\n",
       "zip_13                              -41.8310     30.374     -1.377      0.170    -101.676      18.014\n",
       "lot_area                              0.0404      0.033      1.213      0.226      -0.025       0.106\n",
       "zip_14                              -24.4835     19.446     -1.259      0.209     -62.798      13.831\n",
       "zip_11                              -42.2365     36.644     -1.153      0.250    -114.436      29.963\n",
       "==============================================================================\n",
       "Omnibus:                       11.723   Durbin-Watson:                   2.105\n",
       "Prob(Omnibus):                  0.003   Jarque-Bera (JB):               13.647\n",
       "Skew:                           0.410   Prob(JB):                      0.00109\n",
       "Kurtosis:                       3.802   Cond. No.                     2.85e+05\n",
       "==============================================================================\n",
       "\n",
       "Warnings:\n",
       "[1] Standard Errors assume that the covariance matrix of the errors is correctly specified.\n",
       "[2] The condition number is large, 2.85e+05. This might indicate that there are\n",
       "strong multicollinearity or other numerical problems.\n",
       "\"\"\""
      ]
     },
     "execution_count": 29,
     "metadata": {},
     "output_type": "execute_result"
    }
   ],
   "source": [
    "var_escogidas = ['price_unit_begining_project', 'total_cost_preliminary_estimation', 'total_floor_area',\n",
    "                'duration_construction', 'zip_1', 'zip_3', 'zip_6', 'zip_20', 'zip_4', 'zip_18', 'zip_9',\n",
    "                'zip_19', 'total_population', 'zip_13', 'lot_area', 'zip_14', 'zip_11']\n",
    "train_X2 = train_X[var_escogidas]\n",
    "train_X2 = sm.add_constant(train_X2)\n",
    "modeloStats = sm.OLS(train_y, train_X2)\n",
    "results = modeloStats.fit();\n",
    "results.summary()"
   ]
  },
  {
   "cell_type": "markdown",
   "metadata": {},
   "source": [
    "Encontramos que no todas son significativas, las últimas 9 variables que agregamos no tienen coeficientes significativos. Las eliminamos del modelo."
   ]
  },
  {
   "cell_type": "code",
   "execution_count": 30,
   "metadata": {},
   "outputs": [
    {
     "data": {
      "text/html": [
       "<table class=\"simpletable\">\n",
       "<caption>OLS Regression Results</caption>\n",
       "<tr>\n",
       "  <th>Dep. Variable:</th>    <td>actual_construction_cost</td> <th>  R-squared:         </th> <td>   0.799</td>\n",
       "</tr>\n",
       "<tr>\n",
       "  <th>Model:</th>                       <td>OLS</td>           <th>  Adj. R-squared:    </th> <td>   0.791</td>\n",
       "</tr>\n",
       "<tr>\n",
       "  <th>Method:</th>                 <td>Least Squares</td>      <th>  F-statistic:       </th> <td>   105.3</td>\n",
       "</tr>\n",
       "<tr>\n",
       "  <th>Date:</th>                 <td>Sun, 23 Sep 2018</td>     <th>  Prob (F-statistic):</th> <td>5.50e-78</td>\n",
       "</tr>\n",
       "<tr>\n",
       "  <th>Time:</th>                     <td>11:36:20</td>         <th>  Log-Likelihood:    </th> <td> -1417.0</td>\n",
       "</tr>\n",
       "<tr>\n",
       "  <th>No. Observations:</th>          <td>   249</td>          <th>  AIC:               </th> <td>   2854.</td>\n",
       "</tr>\n",
       "<tr>\n",
       "  <th>Df Residuals:</th>              <td>   239</td>          <th>  BIC:               </th> <td>   2889.</td>\n",
       "</tr>\n",
       "<tr>\n",
       "  <th>Df Model:</th>                  <td>     9</td>          <th>                     </th>     <td> </td>   \n",
       "</tr>\n",
       "<tr>\n",
       "  <th>Covariance Type:</th>          <td>nonrobust</td>        <th>                     </th>     <td> </td>   \n",
       "</tr>\n",
       "</table>\n",
       "<table class=\"simpletable\">\n",
       "<tr>\n",
       "                  <td></td>                     <th>coef</th>     <th>std err</th>      <th>t</th>      <th>P>|t|</th>  <th>[0.025</th>    <th>0.975]</th>  \n",
       "</tr>\n",
       "<tr>\n",
       "  <th>const</th>                             <td>   23.5881</td> <td>   18.185</td> <td>    1.297</td> <td> 0.196</td> <td>  -12.236</td> <td>   59.412</td>\n",
       "</tr>\n",
       "<tr>\n",
       "  <th>price_unit_begining_project</th>       <td>    0.1050</td> <td>    0.008</td> <td>   13.437</td> <td> 0.000</td> <td>    0.090</td> <td>    0.120</td>\n",
       "</tr>\n",
       "<tr>\n",
       "  <th>total_cost_preliminary_estimation</th> <td>    0.1960</td> <td>    0.021</td> <td>    9.360</td> <td> 0.000</td> <td>    0.155</td> <td>    0.237</td>\n",
       "</tr>\n",
       "<tr>\n",
       "  <th>total_floor_area</th>                  <td>   -0.0231</td> <td>    0.005</td> <td>   -5.077</td> <td> 0.000</td> <td>   -0.032</td> <td>   -0.014</td>\n",
       "</tr>\n",
       "<tr>\n",
       "  <th>duration_construction</th>             <td>   15.2789</td> <td>    2.401</td> <td>    6.363</td> <td> 0.000</td> <td>   10.549</td> <td>   20.009</td>\n",
       "</tr>\n",
       "<tr>\n",
       "  <th>zip_1</th>                             <td> -131.3638</td> <td>   23.564</td> <td>   -5.575</td> <td> 0.000</td> <td> -177.783</td> <td>  -84.944</td>\n",
       "</tr>\n",
       "<tr>\n",
       "  <th>zip_3</th>                             <td>  -83.9761</td> <td>   21.749</td> <td>   -3.861</td> <td> 0.000</td> <td> -126.821</td> <td>  -41.132</td>\n",
       "</tr>\n",
       "<tr>\n",
       "  <th>zip_6</th>                             <td>  -75.2883</td> <td>   21.688</td> <td>   -3.471</td> <td> 0.001</td> <td> -118.013</td> <td>  -32.564</td>\n",
       "</tr>\n",
       "<tr>\n",
       "  <th>zip_20</th>                            <td>  -50.0421</td> <td>   18.167</td> <td>   -2.755</td> <td> 0.006</td> <td>  -85.831</td> <td>  -14.254</td>\n",
       "</tr>\n",
       "<tr>\n",
       "  <th>zip_4</th>                             <td>   40.1860</td> <td>   16.899</td> <td>    2.378</td> <td> 0.018</td> <td>    6.897</td> <td>   73.475</td>\n",
       "</tr>\n",
       "</table>\n",
       "<table class=\"simpletable\">\n",
       "<tr>\n",
       "  <th>Omnibus:</th>       <td>14.230</td> <th>  Durbin-Watson:     </th> <td>   2.109</td>\n",
       "</tr>\n",
       "<tr>\n",
       "  <th>Prob(Omnibus):</th> <td> 0.001</td> <th>  Jarque-Bera (JB):  </th> <td>  15.204</td>\n",
       "</tr>\n",
       "<tr>\n",
       "  <th>Skew:</th>          <td> 0.540</td> <th>  Prob(JB):          </th> <td>0.000499</td>\n",
       "</tr>\n",
       "<tr>\n",
       "  <th>Kurtosis:</th>      <td> 3.548</td> <th>  Cond. No.          </th> <td>1.59e+04</td>\n",
       "</tr>\n",
       "</table><br/><br/>Warnings:<br/>[1] Standard Errors assume that the covariance matrix of the errors is correctly specified.<br/>[2] The condition number is large, 1.59e+04. This might indicate that there are<br/>strong multicollinearity or other numerical problems."
      ],
      "text/plain": [
       "<class 'statsmodels.iolib.summary.Summary'>\n",
       "\"\"\"\n",
       "                               OLS Regression Results                               \n",
       "====================================================================================\n",
       "Dep. Variable:     actual_construction_cost   R-squared:                       0.799\n",
       "Model:                                  OLS   Adj. R-squared:                  0.791\n",
       "Method:                       Least Squares   F-statistic:                     105.3\n",
       "Date:                      Sun, 23 Sep 2018   Prob (F-statistic):           5.50e-78\n",
       "Time:                              11:36:20   Log-Likelihood:                -1417.0\n",
       "No. Observations:                       249   AIC:                             2854.\n",
       "Df Residuals:                           239   BIC:                             2889.\n",
       "Df Model:                                 9                                         \n",
       "Covariance Type:                  nonrobust                                         \n",
       "=====================================================================================================\n",
       "                                        coef    std err          t      P>|t|      [0.025      0.975]\n",
       "-----------------------------------------------------------------------------------------------------\n",
       "const                                23.5881     18.185      1.297      0.196     -12.236      59.412\n",
       "price_unit_begining_project           0.1050      0.008     13.437      0.000       0.090       0.120\n",
       "total_cost_preliminary_estimation     0.1960      0.021      9.360      0.000       0.155       0.237\n",
       "total_floor_area                     -0.0231      0.005     -5.077      0.000      -0.032      -0.014\n",
       "duration_construction                15.2789      2.401      6.363      0.000      10.549      20.009\n",
       "zip_1                              -131.3638     23.564     -5.575      0.000    -177.783     -84.944\n",
       "zip_3                               -83.9761     21.749     -3.861      0.000    -126.821     -41.132\n",
       "zip_6                               -75.2883     21.688     -3.471      0.001    -118.013     -32.564\n",
       "zip_20                              -50.0421     18.167     -2.755      0.006     -85.831     -14.254\n",
       "zip_4                                40.1860     16.899      2.378      0.018       6.897      73.475\n",
       "==============================================================================\n",
       "Omnibus:                       14.230   Durbin-Watson:                   2.109\n",
       "Prob(Omnibus):                  0.001   Jarque-Bera (JB):               15.204\n",
       "Skew:                           0.540   Prob(JB):                     0.000499\n",
       "Kurtosis:                       3.548   Cond. No.                     1.59e+04\n",
       "==============================================================================\n",
       "\n",
       "Warnings:\n",
       "[1] Standard Errors assume that the covariance matrix of the errors is correctly specified.\n",
       "[2] The condition number is large, 1.59e+04. This might indicate that there are\n",
       "strong multicollinearity or other numerical problems.\n",
       "\"\"\""
      ]
     },
     "execution_count": 30,
     "metadata": {},
     "output_type": "execute_result"
    }
   ],
   "source": [
    "var_escogidas = ['price_unit_begining_project', 'total_cost_preliminary_estimation', 'total_floor_area',\n",
    "                'duration_construction', 'zip_1', 'zip_3', 'zip_6', 'zip_20', 'zip_4']\n",
    "train_X2 = train_X[var_escogidas]\n",
    "train_X2 = sm.add_constant(train_X2)\n",
    "modeloStats = sm.OLS(train_y, train_X2)\n",
    "results = modeloStats.fit();\n",
    "results.summary()"
   ]
  },
  {
   "cell_type": "markdown",
   "metadata": {},
   "source": [
    "Solo consideramos las 2 variables independientes escogidas"
   ]
  },
  {
   "cell_type": "code",
   "execution_count": 31,
   "metadata": {},
   "outputs": [],
   "source": [
    "regr = linear_model.LinearRegression()\n",
    "regr.fit(train_X[var_escogidas], train_y)\n",
    "train_y_pred=regr.predict(train_X[var_escogidas])"
   ]
  },
  {
   "cell_type": "markdown",
   "metadata": {},
   "source": [
    "## Análisis de los supuestos"
   ]
  },
  {
   "cell_type": "markdown",
   "metadata": {},
   "source": [
    "### Linealidad de la relación entre variables independientes y variable dependiente"
   ]
  },
  {
   "cell_type": "markdown",
   "metadata": {},
   "source": [
    "Solo consideramos las 2 variables independientes escogidas"
   ]
  },
  {
   "cell_type": "code",
   "execution_count": 32,
   "metadata": {},
   "outputs": [],
   "source": [
    "regr = linear_model.LinearRegression()\n",
    "regr.fit(train_X[var_escogidas], train_y)\n",
    "train_y_pred=regr.predict(train_X[var_escogidas])"
   ]
  },
  {
   "cell_type": "code",
   "execution_count": 33,
   "metadata": {},
   "outputs": [
    {
     "data": {
      "image/png": "[encoded data removed]",
      "text/plain": [
       "<Figure size 432x288 with 1 Axes>"
      ]
     },
     "metadata": {},
     "output_type": "display_data"
    },
    {
     "data": {
      "image/png": "[encoded data removed]",
      "text/plain": [
       "<Figure size 432x288 with 1 Axes>"
      ]
     },
     "metadata": {},
     "output_type": "display_data"
    },
    {
     "data": {
      "image/png": "[encoded data removed]",
      "text/plain": [
       "<Figure size 432x288 with 1 Axes>"
      ]
     },
     "metadata": {},
     "output_type": "display_data"
    },
    {
     "data": {
      "image/png": "[encoded data removed]",
      "text/plain": [
       "<Figure size 432x288 with 1 Axes>"
      ]
     },
     "metadata": {},
     "output_type": "display_data"
    },
    {
     "data": {
      "image/png": "[encoded data removed]",
      "text/plain": [
       "<Figure size 432x288 with 1 Axes>"
      ]
     },
     "metadata": {},
     "output_type": "display_data"
    },
    {
     "data": {
      "image/png": "[encoded data removed]",
      "text/plain": [
       "<Figure size 432x288 with 1 Axes>"
      ]
     },
     "metadata": {},
     "output_type": "display_data"
    },
    {
     "data": {
      "image/png": "[encoded data removed]",
      "text/plain": [
       "<Figure size 432x288 with 1 Axes>"
      ]
     },
     "metadata": {},
     "output_type": "display_data"
    },
    {
     "data": {
      "image/png": "[encoded data removed]",
      "text/plain": [
       "<Figure size 432x288 with 1 Axes>"
      ]
     },
     "metadata": {},
     "output_type": "display_data"
    },
    {
     "data": {
      "image/png": "[encoded data removed]",
      "text/plain": [
       "<Figure size 432x288 with 1 Axes>"
      ]
     },
     "metadata": {},
     "output_type": "display_data"
    }
   ],
   "source": [
    "index = 0\n",
    "for indep in var_escogidas:\n",
    "    plt.scatter(train_X[indep], train_y,  color='black')\n",
    "    plt.xlabel(indep)\n",
    "    plt.ylabel(\"actual_construction_cost\")\n",
    "    plt.title(\"Correlación=%.4f, coef=%.4f\" % (corr['actual_construction_cost'][indep_vars.index(indep)], \n",
    "                                               np.squeeze(regr.coef_)[index]))\n",
    "    plt.show()\n",
    "    index+=1"
   ]
  },
  {
   "cell_type": "markdown",
   "metadata": {},
   "source": [
    "Vamos a plotear los residuos de las regresiones de los data sets."
   ]
  },
  {
   "cell_type": "code",
   "execution_count": 34,
   "metadata": {},
   "outputs": [
    {
     "data": {
      "image/png": "[encoded data removed]",
      "text/plain": [
       "<Figure size 432x288 with 1 Axes>"
      ]
     },
     "metadata": {},
     "output_type": "display_data"
    }
   ],
   "source": [
    "# Plot de los residuos del set de entrenamiento contra los valores ajustados\n",
    "plt.scatter(train_y_pred, train_y_pred - train_y, color = \"green\", s = 10, label = 'Train')\n",
    "\n",
    "# Plot de los residuos del set de evaluación contra los valores ajustados\n",
    "plt.scatter(test_y_pred, test_y_pred - test_y, color = \"blue\", s = 10, label = 'Test')\n",
    " \n",
    "# Ploteo de la linea de residuos nulos y=0\n",
    "plt.hlines(y = 0, xmin = -200, xmax = 1200, linewidth = 2)\n",
    " \n",
    "plt.legend(loc = 'upper right')\n",
    "plt.title(\"Residuos\")\n",
    "plt.show()"
   ]
  },
  {
   "cell_type": "markdown",
   "metadata": {},
   "source": [
    "No hay un patrón muy definido en cuanto a los residuos."
   ]
  },
  {
   "cell_type": "markdown",
   "metadata": {},
   "source": [
    "### Normalidad de los residuos"
   ]
  },
  {
   "cell_type": "markdown",
   "metadata": {},
   "source": [
    "Volvemos a entrenar el modelo utilizando los 2 predictores escogidos, y calculamos los residuos"
   ]
  },
  {
   "cell_type": "code",
   "execution_count": 35,
   "metadata": {},
   "outputs": [],
   "source": [
    "regr = linear_model.LinearRegression()\n",
    "regr.fit(train_X[var_escogidas], train_y)\n",
    "train_y_pred=regr.predict(train_X[var_escogidas])"
   ]
  },
  {
   "cell_type": "code",
   "execution_count": 36,
   "metadata": {},
   "outputs": [],
   "source": [
    "residuos = np.array(train_y - train_y_pred)"
   ]
  },
  {
   "cell_type": "markdown",
   "metadata": {},
   "source": [
    "Si aparecen FutureWarnings es por un problema de incompatibilidad entre scipy (<=1.1.0) y numpy (>=1.1.15), que se arreglará con la versión 1.2.0 de scipy:\n",
    "https://stackoverflow.com/questions/51837727/scipy-binned-statistcs-future-warning"
   ]
  },
  {
   "cell_type": "code",
   "execution_count": 37,
   "metadata": {},
   "outputs": [],
   "source": [
    "import warnings\n",
    "warnings.filterwarnings(\"ignore\")"
   ]
  },
  {
   "cell_type": "code",
   "execution_count": 38,
   "metadata": {},
   "outputs": [
    {
     "data": {
      "text/plain": [
       "Text(0.5,1,'Densidad de probabilidad de los residuos')"
      ]
     },
     "execution_count": 38,
     "metadata": {},
     "output_type": "execute_result"
    },
    {
     "data": {
      "image/png": "[encoded data removed]",
      "text/plain": [
       "<Figure size 432x288 with 1 Axes>"
      ]
     },
     "metadata": {},
     "output_type": "display_data"
    }
   ],
   "source": [
    "sns.distplot(residuos);\n",
    "plt.title('Densidad de probabilidad de los residuos')"
   ]
  },
  {
   "cell_type": "markdown",
   "metadata": {},
   "source": [
    "Los datos parecen ser simétricos, aunque están ligeramente estirados hacia la derecha. Vamos a ver cómo nos va con los tests (que son bastante rígidos al respecto)."
   ]
  },
  {
   "cell_type": "code",
   "execution_count": 39,
   "metadata": {},
   "outputs": [
    {
     "data": {
      "text/plain": [
       "array([0.00081301])"
      ]
     },
     "execution_count": 39,
     "metadata": {},
     "output_type": "execute_result"
    }
   ],
   "source": [
    "from scipy.stats import mstats\n",
    "normalidad = mstats.normaltest(residuos)\n",
    "normalidad.pvalue"
   ]
  },
  {
   "cell_type": "markdown",
   "metadata": {},
   "source": [
    "Este test rechaza la hipótesis nula de normalidad.\n",
    "\n",
    "Vamos ahora a realizar un QQ plot que permite no ser tan extremo en las conclusiones."
   ]
  },
  {
   "cell_type": "code",
   "execution_count": 40,
   "metadata": {},
   "outputs": [
    {
     "data": {
      "image/png": "[encoded data removed]",
      "text/plain": [
       "<Figure size 432x288 with 1 Axes>"
      ]
     },
     "metadata": {},
     "output_type": "display_data"
    }
   ],
   "source": [
    "import scipy.stats as stats\n",
    "z = (residuos-np.mean(residuos))/np.std(residuos)\n",
    "z2=z.reshape(-1)\n",
    "stats.probplot(z2, dist=\"norm\", plot=plt)\n",
    "plt.title(\"Normal Q-Q plot\")\n",
    "plt.show()"
   ]
  },
  {
   "cell_type": "markdown",
   "metadata": {},
   "source": [
    "Encontramos que los puntos de los extremos están separados de la diagonal. Esto puede significar que los datos están un poco estirados (como se puede ver en el gráfico de densidad de probabilidad de los residuos), por lo que se podría buscar una transformación que los centre un poco más.\n",
    "\n",
    "Sin embargo, los puntos están bastante cerca de la diagonal, por lo que se puede estar tránquilo al respecto"
   ]
  },
  {
   "cell_type": "markdown",
   "metadata": {},
   "source": [
    "Podemos intentar con transformaciones de los datos"
   ]
  },
  {
   "cell_type": "code",
   "execution_count": 41,
   "metadata": {},
   "outputs": [],
   "source": [
    "train_y_log = np.log10(np.array(train_y) + 1e1)\n",
    "train_X_log = np.log10(np.array(train_X[var_escogidas]) + 1e1)"
   ]
  },
  {
   "cell_type": "code",
   "execution_count": 42,
   "metadata": {},
   "outputs": [
    {
     "name": "stdout",
     "output_type": "stream",
     "text": [
      "[0.02856924]\n",
      "[3.79471374e-19]\n",
      "[1.44502549e-13]\n"
     ]
    }
   ],
   "source": [
    "regr_logy = linear_model.LinearRegression()\n",
    "regr_logy.fit(train_X[var_escogidas], train_y_log)\n",
    "train_y_pred_logy=regr_logy.predict(train_X[var_escogidas])\n",
    "normalidad = mstats.normaltest(train_y_pred_logy - train_y_log)\n",
    "print(normalidad.pvalue)\n",
    "\n",
    "regr_logX = linear_model.LinearRegression()\n",
    "regr_logX.fit(train_X_log, train_y)\n",
    "train_y_pred_logX=regr_logX.predict(train_X_log)\n",
    "normalidad = mstats.normaltest(train_y_pred_logX - train_y)\n",
    "print(normalidad.pvalue)\n",
    "\n",
    "regr_log_log = linear_model.LinearRegression()\n",
    "regr_log_log.fit(train_X_log, train_y_log)\n",
    "train_y_pred_log_log=regr_log_log.predict(train_X_log)\n",
    "normalidad = mstats.normaltest(train_y_pred_log_log - train_y_log)\n",
    "print(normalidad.pvalue)"
   ]
  },
  {
   "cell_type": "markdown",
   "metadata": {},
   "source": [
    "Con el modelo en el que transformamos la variable dependiente por un Log10 casi que se obtiene la normalidad."
   ]
  },
  {
   "cell_type": "markdown",
   "metadata": {},
   "source": [
    "### Homocedasticidad de los residuos"
   ]
  },
  {
   "cell_type": "markdown",
   "metadata": {},
   "source": [
    "En el plot de los residuos con respecto a los valores ajustados no vemos a primera vista problemas de heterocedasticidad."
   ]
  },
  {
   "cell_type": "markdown",
   "metadata": {},
   "source": [
    "### Autocorrelación de los errores\n"
   ]
  },
  {
   "cell_type": "markdown",
   "metadata": {},
   "source": [
    "Por su naturaleza, los datos son independientes entre ellos y no presentan una situación de auto-correlación"
   ]
  },
  {
   "cell_type": "markdown",
   "metadata": {},
   "source": [
    "# Evaluación con K-fold Cross Validation"
   ]
  },
  {
   "cell_type": "markdown",
   "metadata": {},
   "source": [
    "Este protocolo de evaluación consiste en dividir el dataset en K pedazos de igual tamaño, y analizar el rendimiento de un modelo aprendido que va rotando sobre k-1 subconjuntos y evaluado en el subconjunto faltante (El K del K-fold no tiene niguna relación con el K del K-NN). En el caso de clasificación, particionamiento se hace aleatoriamente y de manera estratificada con respecto a la variable objetivo. Las métricas finales son las agregaciones de las evaluaciones de los K modelos."
   ]
  },
  {
   "cell_type": "markdown",
   "metadata": {},
   "source": [
    "El método de evaluación a partir de validación cruzada con K particiones es bastante robusto como estimador de la calidad de un modelo de aprendizaje supervisado.\n",
    "Sin embargo, cuando los datos son muy grandes o muy complejos, es dificil de utilizar, pues es mucho más costoso en tiempo de procesamiento, al tener que crear K modelos."
   ]
  },
  {
   "cell_type": "markdown",
   "metadata": {},
   "source": [
    "*scikit-learn* conta con una función que permite repetir el proceso de particionamiento y evaluación del K-fold CV. Se trata de **cross_val_score**, que recibe los siguientes parámetros:\n",
    "- la instancia del modelo que se quiere evaluar, \n",
    "- los datos de las variables independiente, \n",
    "- los datos reales de la variable dependiente, \n",
    "- cv: el número de veces que se va a repetir el proceso de cross-validation\n",
    "- scoring: la métrica que se desea evaluar. Se sigue la convención de que entre más alto mejor, por lo que, por ejemplo, en vez del MSE se tiene el MSE negativo."
   ]
  },
  {
   "cell_type": "code",
   "execution_count": 43,
   "metadata": {},
   "outputs": [
    {
     "data": {
      "text/plain": [
       "array([42435.42057447, 12165.68206712,  6477.97678364,  3887.16809878,\n",
       "        3615.07152752,  4266.89572437,  4674.93074305,  6466.33065138,\n",
       "        6838.31515356,  4178.78102311])"
      ]
     },
     "execution_count": 43,
     "metadata": {},
     "output_type": "execute_result"
    }
   ],
   "source": [
    "negSSEs = -cross_val_score(regr, X, y, cv=10, scoring=\"neg_mean_squared_error\")\n",
    "negSSEs"
   ]
  },
  {
   "cell_type": "code",
   "execution_count": 44,
   "metadata": {},
   "outputs": [
    {
     "data": {
      "text/plain": [
       "array([0.25215099, 0.71395374, 0.6974808 , 0.81220681, 0.7708102 ,\n",
       "       0.60277311, 0.66064413, 0.55252003, 0.48459262, 0.65293443])"
      ]
     },
     "execution_count": 44,
     "metadata": {},
     "output_type": "execute_result"
    }
   ],
   "source": [
    "r2s = cross_val_score(regr, X, y, cv=10, scoring=\"r2\")\n",
    "r2s"
   ]
  },
  {
   "cell_type": "markdown",
   "metadata": {},
   "source": [
    "Fíjense la variabilidad de los valores de las métricas de evaluación; tengan en cuenta el impacto de la aleatoriedad del particionamiento en los resultados. Para tener una idea más clara, podriámos utilizar intervalos de confianza al 95%."
   ]
  },
  {
   "cell_type": "code",
   "execution_count": 45,
   "metadata": {},
   "outputs": [
    {
     "name": "stdout",
     "output_type": "stream",
     "text": [
      "SSE: 9500.657 (+/- 22471.194)\n",
      "R2: 0.620 (+/- 0.307)\n"
     ]
    }
   ],
   "source": [
    "print(\"SSE: %0.3f (+/- %0.3f)\" % (negSSEs.mean(), negSSEs.std() * 2))\n",
    "print(\"R2: %0.3f (+/- %0.3f)\" % (r2s.mean(), r2s.std() * 2))\n"
   ]
  },
  {
   "cell_type": "markdown",
   "metadata": {},
   "source": [
    "## Ridge regression"
   ]
  },
  {
   "cell_type": "markdown",
   "metadata": {},
   "source": [
    "Vamos a aplicar regularización a partir del modelo de ridge regression.\n",
    "La penalización en este modelo se controla a partir del parámetro alpha en la clase **Ridge** de scikit-learn."
   ]
  },
  {
   "cell_type": "markdown",
   "metadata": {},
   "source": [
    "### Comparación del modelo de regresión lineal vs un ridge regression específico"
   ]
  },
  {
   "cell_type": "markdown",
   "metadata": {},
   "source": [
    "Volvemos a considerar la totalidad de las variables independientes y creamos un modelo de regresión lineal:"
   ]
  },
  {
   "cell_type": "code",
   "execution_count": 46,
   "metadata": {},
   "outputs": [],
   "source": [
    "from sklearn.linear_model import LinearRegression, Ridge, RidgeCV, Lasso, LassoCV #modelamiento"
   ]
  },
  {
   "cell_type": "code",
   "execution_count": 47,
   "metadata": {},
   "outputs": [
    {
     "data": {
      "text/plain": [
       "LinearRegression(copy_X=True, fit_intercept=True, n_jobs=1, normalize=False)"
      ]
     },
     "execution_count": 47,
     "metadata": {},
     "output_type": "execute_result"
    }
   ],
   "source": [
    "regr = LinearRegression()\n",
    "regr.fit(train_X, train_y)"
   ]
  },
  {
   "cell_type": "code",
   "execution_count": 48,
   "metadata": {},
   "outputs": [
    {
     "data": {
      "text/plain": [
       "Index(['total_floor_area', 'lot_area', 'total_cost_preliminary_estimation',\n",
       "       'duration_construction', 'price_unit_begining_project',\n",
       "       'total_population', 'zip_1', 'zip_10', 'zip_11', 'zip_12', 'zip_13',\n",
       "       'zip_14', 'zip_15', 'zip_16', 'zip_17', 'zip_18', 'zip_19', 'zip_2',\n",
       "       'zip_20', 'zip_3', 'zip_4', 'zip_5', 'zip_6', 'zip_7', 'zip_8',\n",
       "       'zip_9'],\n",
       "      dtype='object')"
      ]
     },
     "execution_count": 48,
     "metadata": {},
     "output_type": "execute_result"
    }
   ],
   "source": [
    "train_X.columns"
   ]
  },
  {
   "cell_type": "code",
   "execution_count": 49,
   "metadata": {},
   "outputs": [
    {
     "data": {
      "text/plain": [
       "array([[-3.48105912e-02,  3.76585200e-02,  1.95992108e-01,\n",
       "         1.56574087e+01,  1.02853862e-01,  5.34389284e-04,\n",
       "        -1.04014898e+02,  1.73723782e+01, -2.95105307e+01,\n",
       "        -7.59366339e+00, -2.92870019e+01, -1.18193361e+01,\n",
       "         1.92377406e+01,  1.60887858e+01,  1.76814615e+01,\n",
       "         4.37590349e+01,  4.12229596e+01,  1.50191213e+01,\n",
       "        -3.81640145e+01, -6.20423570e+01,  5.29262275e+01,\n",
       "         2.00244169e+01, -5.91174253e+01,  2.27296190e+00,\n",
       "         1.20681950e+01,  8.38759440e+01]])"
      ]
     },
     "execution_count": 49,
     "metadata": {},
     "output_type": "execute_result"
    }
   ],
   "source": [
    "regr.coef_"
   ]
  },
  {
   "cell_type": "code",
   "execution_count": 50,
   "metadata": {},
   "outputs": [
    {
     "name": "stdout",
     "output_type": "stream",
     "text": [
      "MSE (train): 4751.8571\n",
      "MSE (test) : 7807.9106\n",
      "R2  (train): 0.8135\n",
      "R2  (test) : 0.7223\n",
      "R2 adj (train): 0.7917\n",
      "R2 adj (test): 0.6471\n"
     ]
    }
   ],
   "source": [
    "train_y_pred = regr.predict(train_X)\n",
    "test_y_pred = regr.predict(test_X)\n",
    "train_y_pred[0:5]\n",
    "print(\"MSE (train): %.4f\" % mean_squared_error(train_y, train_y_pred))\n",
    "print(\"MSE (test) : %.4f\" % mean_squared_error(test_y, test_y_pred))\n",
    "print('R2  (train): %.4f' % r2_score(train_y, train_y_pred))\n",
    "print('R2  (test) : %.4f' % r2_score(test_y, test_y_pred))\n",
    "r2_aj_train = 1 - (1-r2_score(train_y, train_y_pred))*(len(train_y)-1) / (len(train_y) - train_X.shape[1] - 1)\n",
    "print('R2 adj (train): %.4f' %r2_aj_train)\n",
    "r2_aj_test = 1 - (1-r2_score(test_y, test_y_pred))*(len(test_y)-1) / (len(test_y) - test_X.shape[1] - 1)\n",
    "print('R2 adj (test): %.4f' %r2_aj_test)"
   ]
  },
  {
   "cell_type": "markdown",
   "metadata": {},
   "source": [
    "Ahora vamos a lanzar una regresión Ridge con un valor cualquiera de alpha (0.2)."
   ]
  },
  {
   "cell_type": "code",
   "execution_count": 51,
   "metadata": {},
   "outputs": [
    {
     "name": "stdout",
     "output_type": "stream",
     "text": [
      "MSE (train): 5470.8625\n",
      "MSE (test) : 7276.1732\n",
      "R2  (train): 0.7853\n",
      "R2  (test) : 0.7412\n",
      "R2 adj (train): 0.7602\n",
      "R2 adj (test): 0.6712\n"
     ]
    }
   ],
   "source": [
    "ridgereg = Ridge(alpha=0.2, fit_intercept=True, normalize=True)\n",
    "ridgereg.fit(train_X, train_y)\n",
    "\n",
    "train_y_pred = ridgereg.predict(train_X)\n",
    "test_y_pred = ridgereg.predict(test_X)\n",
    "train_y_pred[0:5]\n",
    "print(\"MSE (train): %.4f\" % mean_squared_error(train_y, train_y_pred))\n",
    "print(\"MSE (test) : %.4f\" % mean_squared_error(test_y, test_y_pred))\n",
    "print('R2  (train): %.4f' % r2_score(train_y, train_y_pred))\n",
    "print('R2  (test) : %.4f' % r2_score(test_y, test_y_pred))\n",
    "r2_aj_train = 1 - (1-r2_score(train_y, train_y_pred))*(len(train_y)-1) / (len(train_y) - train_X.shape[1] - 1)\n",
    "print('R2 adj (train): %.4f' %r2_aj_train)\n",
    "r2_aj_test = 1 - (1-r2_score(test_y, test_y_pred))*(len(test_y)-1) / (len(test_y) - test_X.shape[1] - 1)\n",
    "print('R2 adj (test): %.4f' %r2_aj_test)"
   ]
  },
  {
   "cell_type": "markdown",
   "metadata": {},
   "source": [
    "Nótese como se mejora el score en el conjunto de test.\n",
    "Lo que estamos haciendo es mejorando la generalización del modelo a datos nuevos."
   ]
  },
  {
   "cell_type": "markdown",
   "metadata": {},
   "source": [
    "Se va a controlar el parámetro *alpha* que controla el componente de penalización de la complejidad de los modelos de Ridge regression.\n",
    "Se crea un conjunto de valores de *alpha* siguiendo una escala logarítmica que se van a utilizar para analizar como varían los coeficientes."
   ]
  },
  {
   "cell_type": "code",
   "execution_count": 52,
   "metadata": {},
   "outputs": [
    {
     "data": {
      "text/plain": [
       "array([0.0001    , 0.00010186, 0.00010376, 0.00010569, 0.00010765])"
      ]
     },
     "execution_count": 52,
     "metadata": {},
     "output_type": "execute_result"
    }
   ],
   "source": [
    "n_alphas = 1000\n",
    "alphas = np.logspace(-4, 4, n_alphas)\n",
    "alphas[:5]"
   ]
  },
  {
   "cell_type": "markdown",
   "metadata": {},
   "source": [
    "Vamos a recorrer el array de valores de alpha, y vamos a aprender un modelo de Ridge para configuración, guardando en el array *coef* los coeficientes de las variables independientes de cada modelo."
   ]
  },
  {
   "cell_type": "code",
   "execution_count": 53,
   "metadata": {},
   "outputs": [],
   "source": [
    "coefs = []\n",
    "r2adj_train_vec = []\n",
    "r2adj_test_vec = []\n",
    "\n",
    "for a in alphas:\n",
    "    ridge = Ridge(alpha=a, fit_intercept=True, normalize=True)\n",
    "    ridge.fit(train_X, train_y)\n",
    "    coefs.append(ridge.coef_)\n",
    "    train_y_pred = ridge.predict(train_X)\n",
    "    test_y_pred = ridge.predict(test_X)\n",
    "    r2_aj_train = 1 - (1-r2_score(train_y, train_y_pred))*(len(train_y)-1) / (len(train_y) - train_X.shape[1] - 1)\n",
    "    r2_aj_test = 1 - (1-r2_score(test_y, test_y_pred))*(len(test_y)-1) / (len(test_y) - test_X.shape[1] - 1)\n",
    "    r2adj_train_vec.append(r2_aj_train)\n",
    "    r2adj_test_vec.append(r2_aj_test)"
   ]
  },
  {
   "cell_type": "markdown",
   "metadata": {},
   "source": [
    "Vamos ahora a plotear los valores de las métricas con respecto al valor del alpha."
   ]
  },
  {
   "cell_type": "code",
   "execution_count": 54,
   "metadata": {},
   "outputs": [
    {
     "data": {
      "text/plain": [
       "<matplotlib.legend.Legend at 0x2297a050be0>"
      ]
     },
     "execution_count": 54,
     "metadata": {},
     "output_type": "execute_result"
    },
    {
     "data": {
      "image/png": "[encoded data removed]",
      "text/plain": [
       "<Figure size 1080x504 with 1 Axes>"
      ]
     },
     "metadata": {},
     "output_type": "display_data"
    }
   ],
   "source": [
    "plt.figure(figsize=(15,7))\n",
    "ax = plt.gca() # get current axis\n",
    "plt.plot(alphas, np.squeeze(coefs))\n",
    "ax.set_xscale('log')\n",
    "ax.set_xlim(ax.get_xlim()[::-1])  # reverse axis\n",
    "plt.axis('tight')\n",
    "plt.xlabel('alpha')\n",
    "plt.ylabel('weights')\n",
    "plt.title('Ridge coefficients as a function of the regularization')\n",
    "plt.legend(indep_vars)"
   ]
  },
  {
   "cell_type": "markdown",
   "metadata": {},
   "source": [
    "¿Cuáles son las variables mas importantes?"
   ]
  },
  {
   "cell_type": "markdown",
   "metadata": {},
   "source": [
    "Vamos ahora analizar los valores de r2 ajustado en los dataset de entrenamiento y test.\n",
    "\n",
    "Creamos un array con los valores de las dos series uno a uno para poder plotearlos al mismo tiempo."
   ]
  },
  {
   "cell_type": "code",
   "execution_count": 55,
   "metadata": {},
   "outputs": [
    {
     "name": "stdout",
     "output_type": "stream",
     "text": [
      "train:  (1000, 1)\n",
      "test:  (1000, 1)\n",
      "concatenación:  (1000, 2)\n"
     ]
    }
   ],
   "source": [
    "t1 = np.array(r2adj_train_vec)\n",
    "t1 = t1[:, np.newaxis]\n",
    "print(\"train: \", t1.shape)\n",
    "\n",
    "t2 = np.array(r2adj_test_vec)\n",
    "t2 = t2[:, np.newaxis]\n",
    "print(\"test: \", t2.shape)\n",
    "\n",
    "r2adj_vecs = np.concatenate((t1, t2), axis=1)\n",
    "print(\"concatenación: \", r2adj_vecs.shape)"
   ]
  },
  {
   "cell_type": "code",
   "execution_count": 56,
   "metadata": {},
   "outputs": [
    {
     "data": {
      "text/plain": [
       "<matplotlib.legend.Legend at 0x22977d544a8>"
      ]
     },
     "execution_count": 56,
     "metadata": {},
     "output_type": "execute_result"
    },
    {
     "data": {
      "image/png": "[encoded data removed]",
      "text/plain": [
       "<Figure size 1296x648 with 1 Axes>"
      ]
     },
     "metadata": {},
     "output_type": "display_data"
    }
   ],
   "source": [
    "plt.figure(figsize=(18,9))\n",
    "ax = plt.gca()\n",
    "plt.plot(alphas, r2adj_vecs)\n",
    "ax.set_xscale('log')\n",
    "ax.set_xlim(ax.get_xlim()[::-1])  # reverse axis\n",
    "plt.axis('tight')\n",
    "plt.xlabel('alpha')\n",
    "plt.ylabel('R2 ajustado')\n",
    "plt.title('R2 ajustado con respecto al alpha')\n",
    "plt.legend(['train', 'test'])"
   ]
  },
  {
   "cell_type": "markdown",
   "metadata": {},
   "source": [
    "Encontramos que para un valor de alpha un poco por debajo de 0.2, se obtiene el valor máximal de R2 ajustado para el conjunto de test.\n",
    "Vamos a utilizar CV para comparar valores de alpha cercanos. "
   ]
  },
  {
   "cell_type": "code",
   "execution_count": 57,
   "metadata": {},
   "outputs": [
    {
     "name": "stdout",
     "output_type": "stream",
     "text": [
      "El nivel máximo de R2 es 0.6713999902490587, y se alcanza con un alpha de 0.1783410220710008\n"
     ]
    }
   ],
   "source": [
    "indiceMax = np.argmax(r2adj_test_vec)\n",
    "r2Max = r2adj_test_vec[indiceMax]\n",
    "alphaMax = alphas[indiceMax]\n",
    "print(\"El nivel máximo de R2 es {}, y se alcanza con un alpha de {}\".format(r2Max, alphaMax))"
   ]
  },
  {
   "cell_type": "code",
   "execution_count": 58,
   "metadata": {},
   "outputs": [
    {
     "name": "stdout",
     "output_type": "stream",
     "text": [
      "MSE (train): 5367.8267\n",
      "MSE (test) : 7270.9156\n",
      "R2  (train): 0.7894\n",
      "R2  (test) : 0.7414\n",
      "R2 adj (train): 0.7647\n",
      "R2 adj (test): 0.6714\n"
     ]
    }
   ],
   "source": [
    "ridgereg = Ridge(alpha=alphaMax, normalize=True)\n",
    "ridgereg.fit(train_X, train_y)\n",
    "\n",
    "train_y_pred = ridgereg.predict(train_X)\n",
    "test_y_pred = ridgereg.predict(test_X)\n",
    "train_y_pred[0:5]\n",
    "print(\"MSE (train): %.4f\" % mean_squared_error(train_y, train_y_pred))\n",
    "print(\"MSE (test) : %.4f\" % mean_squared_error(test_y, test_y_pred))\n",
    "print('R2  (train): %.4f' % r2_score(train_y, train_y_pred))\n",
    "print('R2  (test) : %.4f' % r2_score(test_y, test_y_pred))\n",
    "r2_aj_train = 1 - (1-r2_score(train_y, train_y_pred))*(len(train_y)-1) / (len(train_y) - train_X.shape[1] - 1)\n",
    "print('R2 adj (train): %.4f' %r2_aj_train)\n",
    "r2_aj_test = 1 - (1-r2_score(test_y, test_y_pred))*(len(test_y)-1) / (len(test_y) - test_X.shape[1] - 1)\n",
    "print('R2 adj (test): %.4f' %r2_aj_test)"
   ]
  },
  {
   "cell_type": "markdown",
   "metadata": {},
   "source": [
    "## Lasso regression"
   ]
  },
  {
   "cell_type": "markdown",
   "metadata": {},
   "source": [
    "Vamos ahora utilizar la regularización del modelo de Lasso. Utilizamos un valor de alpha específico (10)."
   ]
  },
  {
   "cell_type": "code",
   "execution_count": 59,
   "metadata": {},
   "outputs": [
    {
     "name": "stdout",
     "output_type": "stream",
     "text": [
      "MSE (train): 25484.0986\n",
      "MSE (test) : 28215.1039\n",
      "R2  (train): 0.0000\n",
      "R2  (test) : -0.0034\n",
      "R2 adj (train): -0.1171\n",
      "R2 adj (test): -0.2751\n"
     ]
    }
   ],
   "source": [
    "lassoreg = Lasso(alpha=10.0, normalize=True)\n",
    "lassoreg.fit(train_X, train_y)\n",
    "\n",
    "train_y_pred = lassoreg.predict(train_X)\n",
    "test_y_pred = lassoreg.predict(test_X)\n",
    "print(\"MSE (train): %.4f\" % mean_squared_error(train_y, train_y_pred))\n",
    "print(\"MSE (test) : %.4f\" % mean_squared_error(test_y, test_y_pred))\n",
    "print('R2  (train): %.4f' % r2_score(train_y, train_y_pred))\n",
    "print('R2  (test) : %.4f' % r2_score(test_y, test_y_pred))\n",
    "r2_aj_train = 1 - (1-r2_score(train_y, train_y_pred))*(len(train_y)-1) / (len(train_y) - train_X.shape[1] - 1)\n",
    "print('R2 adj (train): %.4f' %r2_aj_train)\n",
    "r2_aj_test = 1 - (1-r2_score(test_y, test_y_pred))*(len(test_y)-1) / (len(test_y) - test_X.shape[1] - 1)\n",
    "print('R2 adj (test): %.4f' %r2_aj_test)"
   ]
  },
  {
   "cell_type": "code",
   "execution_count": 60,
   "metadata": {},
   "outputs": [
    {
     "data": {
      "text/plain": [
       "array([ 0.,  0.,  0.,  0.,  0.,  0.,  0., -0., -0., -0., -0., -0., -0.,\n",
       "       -0., -0.,  0.,  0.,  0., -0.,  0.,  0., -0., -0., -0.,  0.,  0.])"
      ]
     },
     "execution_count": 60,
     "metadata": {},
     "output_type": "execute_result"
    }
   ],
   "source": [
    "lassoreg.coef_"
   ]
  },
  {
   "cell_type": "code",
   "execution_count": 61,
   "metadata": {},
   "outputs": [
    {
     "data": {
      "text/plain": [
       "(249, 26)"
      ]
     },
     "execution_count": 61,
     "metadata": {},
     "output_type": "execute_result"
    }
   ],
   "source": [
    "train_X.shape"
   ]
  }
 ],
 "metadata": {
  "kernelspec": {
   "display_name": "Python 3",
   "language": "python",
   "name": "python3"
  },
  "language_info": {
   "codemirror_mode": {
    "name": "ipython",
    "version": 3
   },
   "file_extension": ".py",
   "mimetype": "text/x-python",
   "name": "python",
   "nbconvert_exporter": "python",
   "pygments_lexer": "ipython3",
   "version": "3.8.3"
  }
 },
 "nbformat": 4,
 "nbformat_minor": 2
}
