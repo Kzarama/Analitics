{
  "nbformat": 4,
  "nbformat_minor": 0,
  "metadata": {
    "colab": {
      "name": "NBA_Salary_EDA.ipynb",
      "provenance": [],
      "collapsed_sections": [
        "lZA3m2MENA47",
        "4D3sjzHMP-Gb"
      ],
      "toc_visible": true
    },
    "kernelspec": {
      "name": "python3",
      "display_name": "Python 3"
    }
  },
  "cells": [
    {
      "cell_type": "markdown",
      "metadata": {
        "id": "WQixLx_MKwI8"
      },
      "source": [
        "<div align=\"center\">\n",
        "  <img width=\"300px\" src=\"https://vanguardia.com.mx/sites/default/files/styles/paragraph_image_large_desktop_1x/public/nba_logo.jpg\">\n",
        "</div>\n",
        "\n",
        "Authors:\n",
        "- [Cristhian Castillo (KorKux)](https://github.com/KorKux1)\n",
        "- [Kevin Zarama](https://github.com/kzarama)\n",
        "- [Jorge Morales](https://github.com/jamf99)\n",
        "\n",
        "Date: 06 October 2020\n",
        "\n",
        "# NBA Salary\n",
        "\n",
        "This notebook corresponds to the solution of the first delivery of the data analytics course of the icesi university.\n",
        "We are going to perform an AGE to learn more about the supplied dataset.\n",
        "\n",
        "\n",
        "## Content"
      ]
    },
    {
      "cell_type": "code",
      "metadata": {
        "id": "fH8LU7DqKsET",
        "outputId": "186fc68f-707a-413b-fd39-9e8623df6b7c",
        "colab": {
          "base_uri": "https://localhost:8080/",
          "height": 35
        }
      },
      "source": [
        "from datetime import datetime\n",
        "print(\"last update {}\".format(datetime.now()))"
      ],
      "execution_count": null,
      "outputs": [
        {
          "output_type": "stream",
          "text": [
            "last update 2020-10-09 13:39:10.347347\n"
          ],
          "name": "stdout"
        }
      ]
    },
    {
      "cell_type": "markdown",
      "metadata": {
        "id": "lZA3m2MENA47"
      },
      "source": [
        "## Introduction\n",
        "\n"
      ]
    },
    {
      "cell_type": "markdown",
      "metadata": {
        "id": "4D3sjzHMP-Gb"
      },
      "source": [
        "## Data Description\n",
        "\n",
        "- Player: player's name.\n",
        "- Salary: annual salary (in dollars).\n",
        "- NBA_Country: country of origin.\n",
        "- NBA_DraftNumber: number of selection in the draft.\n",
        "- Age: age.\n",
        "- Tm: team.\n",
        "- G: games.\n",
        "- MP: minutes played.\n",
        "- PER: Player Efficiency Rating.\n",
        "- TS%: True Shooting Percentage (actual shooting percentage).\n",
        "- 3Par: three-point attempt rate.\n",
        "- FTr: free-throw attempt rate.\n",
        "- ORB%: offensive rebound percentage.\n",
        "- DRB%: defensive rebound percentage.\n",
        "- TRB%: Total Bounce Rate.\n",
        "- AST%: Assist Rate.\n",
        "- STL%: Steal Rate.\n",
        "- BLK%: Block Rate\n",
        "- TOV%: Loss Rate.\n",
        "- USG%: Use Rate.\n",
        "- OWS: Offensive Win Shares (Number estimated number of wins contributed by a player given their offensive performance).\n",
        "- DWS: Defensive Win Shares (estimated number of wins contributed by a player given their defensive performance).\n",
        "- WS: Win Shares (estimated number of wins contributed by a player).\n",
        "- WS / 48: Win Sharesper 48 (estimated number of wins contributed by a player per 48 minutes).\n",
        "- OBPM: Offensive Box Plus / Minus (metric to measure a player's contribution to the team while in the game given their offensive play).\n",
        "- DBPM : Defensive Box Plus / Minus (metric to measure a player's contribution to the team while in game given their defensive play).\n",
        "- BPM: Box Plus / Minus (metric to measure a player's contribution to the team while in the game ).\n",
        "- VORP: Value Over Replacement Player (metric to measure the total contribution of a player to the team).\n"
      ]
    },
    {
      "cell_type": "markdown",
      "metadata": {
        "id": "_JtTxFt9RrE8"
      },
      "source": [
        "## Packages"
      ]
    },
    {
      "cell_type": "code",
      "metadata": {
        "id": "OCirVlhVRgar"
      },
      "source": [
        "import pandas as pd\n",
        "import plotly.express as px\n",
        "import math\n",
        "import plotly.figure_factory as ff\n",
        "from plotly.subplots import make_subplots\n",
        "import plotly.graph_objects as go\n",
        "import numpy as np\n",
        "from sklearn.preprocessing import PowerTransformer"
      ],
      "execution_count": null,
      "outputs": []
    },
    {
      "cell_type": "markdown",
      "metadata": {
        "id": "V-36v_UsRyAa"
      },
      "source": [
        "## Dataset"
      ]
    },
    {
      "cell_type": "markdown",
      "metadata": {
        "id": "PADCAniRR35y"
      },
      "source": [
        "### Sync Drive"
      ]
    },
    {
      "cell_type": "code",
      "metadata": {
        "id": "G_UgLVeXRxm7",
        "outputId": "563920aa-254e-451e-b729-a6e44d4e32d7",
        "colab": {
          "base_uri": "https://localhost:8080/",
          "height": 35
        }
      },
      "source": [
        "from google.colab import drive\n",
        "drive.mount('/content/drive')"
      ],
      "execution_count": null,
      "outputs": [
        {
          "output_type": "stream",
          "text": [
            "Mounted at /content/drive\n"
          ],
          "name": "stdout"
        }
      ]
    },
    {
      "cell_type": "markdown",
      "metadata": {
        "id": "IndOr85WSETT"
      },
      "source": [
        "### Load Dataset\n",
        "Loading the data from a CSV file"
      ]
    },
    {
      "cell_type": "code",
      "metadata": {
        "id": "9E7dspsxSCV6"
      },
      "source": [
        "df = pd.read_csv('/content/drive/My Drive/Colab Notebooks/Analitica/Datasets/2017-18_NBA_salary.csv')"
      ],
      "execution_count": null,
      "outputs": []
    },
    {
      "cell_type": "markdown",
      "metadata": {
        "id": "kLVAcoGVSs0O"
      },
      "source": [
        "## Data Staging\n",
        "Overview of the data in its current state"
      ]
    },
    {
      "cell_type": "markdown",
      "metadata": {
        "id": "KORqDJZiSxT2"
      },
      "source": [
        "### Data overview"
      ]
    },
    {
      "cell_type": "code",
      "metadata": {
        "id": "O3GOFG72SwBq",
        "outputId": "ecec52e3-f101-489f-e8a4-d8dc07260976",
        "colab": {
          "base_uri": "https://localhost:8080/",
          "height": 287
        }
      },
      "source": [
        "df.head()"
      ],
      "execution_count": null,
      "outputs": [
        {
          "output_type": "execute_result",
          "data": {
            "text/html": [
              "<div>\n",
              "<style scoped>\n",
              "    .dataframe tbody tr th:only-of-type {\n",
              "        vertical-align: middle;\n",
              "    }\n",
              "\n",
              "    .dataframe tbody tr th {\n",
              "        vertical-align: top;\n",
              "    }\n",
              "\n",
              "    .dataframe thead th {\n",
              "        text-align: right;\n",
              "    }\n",
              "</style>\n",
              "<table border=\"1\" class=\"dataframe\">\n",
              "  <thead>\n",
              "    <tr style=\"text-align: right;\">\n",
              "      <th></th>\n",
              "      <th>Player</th>\n",
              "      <th>Salary</th>\n",
              "      <th>NBA_Country</th>\n",
              "      <th>NBA_DraftNumber</th>\n",
              "      <th>Age</th>\n",
              "      <th>Tm</th>\n",
              "      <th>G</th>\n",
              "      <th>MP</th>\n",
              "      <th>PER</th>\n",
              "      <th>TS%</th>\n",
              "      <th>3PAr</th>\n",
              "      <th>FTr</th>\n",
              "      <th>ORB%</th>\n",
              "      <th>DRB%</th>\n",
              "      <th>TRB%</th>\n",
              "      <th>AST%</th>\n",
              "      <th>STL%</th>\n",
              "      <th>BLK%</th>\n",
              "      <th>TOV%</th>\n",
              "      <th>USG%</th>\n",
              "      <th>OWS</th>\n",
              "      <th>DWS</th>\n",
              "      <th>WS</th>\n",
              "      <th>WS/48</th>\n",
              "      <th>OBPM</th>\n",
              "      <th>DBPM</th>\n",
              "      <th>BPM</th>\n",
              "      <th>VORP</th>\n",
              "    </tr>\n",
              "  </thead>\n",
              "  <tbody>\n",
              "    <tr>\n",
              "      <th>0</th>\n",
              "      <td>Zhou Qi</td>\n",
              "      <td>815615</td>\n",
              "      <td>China</td>\n",
              "      <td>43</td>\n",
              "      <td>22</td>\n",
              "      <td>HOU</td>\n",
              "      <td>16</td>\n",
              "      <td>87</td>\n",
              "      <td>0.6</td>\n",
              "      <td>0.303</td>\n",
              "      <td>0.593</td>\n",
              "      <td>0.370</td>\n",
              "      <td>6.5</td>\n",
              "      <td>16.8</td>\n",
              "      <td>11.7</td>\n",
              "      <td>1.5</td>\n",
              "      <td>1.1</td>\n",
              "      <td>6.8</td>\n",
              "      <td>18.2</td>\n",
              "      <td>19.5</td>\n",
              "      <td>-0.4</td>\n",
              "      <td>0.1</td>\n",
              "      <td>-0.2</td>\n",
              "      <td>-0.121</td>\n",
              "      <td>-10.6</td>\n",
              "      <td>0.5</td>\n",
              "      <td>-10.1</td>\n",
              "      <td>-0.2</td>\n",
              "    </tr>\n",
              "    <tr>\n",
              "      <th>1</th>\n",
              "      <td>Zaza Pachulia</td>\n",
              "      <td>3477600</td>\n",
              "      <td>Georgia</td>\n",
              "      <td>42</td>\n",
              "      <td>33</td>\n",
              "      <td>GSW</td>\n",
              "      <td>66</td>\n",
              "      <td>937</td>\n",
              "      <td>16.8</td>\n",
              "      <td>0.608</td>\n",
              "      <td>0.004</td>\n",
              "      <td>0.337</td>\n",
              "      <td>11.0</td>\n",
              "      <td>25.0</td>\n",
              "      <td>18.5</td>\n",
              "      <td>15.4</td>\n",
              "      <td>1.9</td>\n",
              "      <td>1.3</td>\n",
              "      <td>19.3</td>\n",
              "      <td>17.2</td>\n",
              "      <td>1.7</td>\n",
              "      <td>1.4</td>\n",
              "      <td>3.1</td>\n",
              "      <td>0.160</td>\n",
              "      <td>-0.6</td>\n",
              "      <td>1.3</td>\n",
              "      <td>0.8</td>\n",
              "      <td>0.7</td>\n",
              "    </tr>\n",
              "    <tr>\n",
              "      <th>2</th>\n",
              "      <td>Zach Randolph</td>\n",
              "      <td>12307692</td>\n",
              "      <td>USA</td>\n",
              "      <td>19</td>\n",
              "      <td>36</td>\n",
              "      <td>SAC</td>\n",
              "      <td>59</td>\n",
              "      <td>1508</td>\n",
              "      <td>17.3</td>\n",
              "      <td>0.529</td>\n",
              "      <td>0.193</td>\n",
              "      <td>0.140</td>\n",
              "      <td>7.0</td>\n",
              "      <td>23.8</td>\n",
              "      <td>15.0</td>\n",
              "      <td>14.9</td>\n",
              "      <td>1.4</td>\n",
              "      <td>0.6</td>\n",
              "      <td>12.5</td>\n",
              "      <td>27.6</td>\n",
              "      <td>0.3</td>\n",
              "      <td>1.1</td>\n",
              "      <td>1.4</td>\n",
              "      <td>0.046</td>\n",
              "      <td>-0.6</td>\n",
              "      <td>-1.3</td>\n",
              "      <td>-1.9</td>\n",
              "      <td>0.0</td>\n",
              "    </tr>\n",
              "    <tr>\n",
              "      <th>3</th>\n",
              "      <td>Zach LaVine</td>\n",
              "      <td>3202217</td>\n",
              "      <td>USA</td>\n",
              "      <td>13</td>\n",
              "      <td>22</td>\n",
              "      <td>CHI</td>\n",
              "      <td>24</td>\n",
              "      <td>656</td>\n",
              "      <td>14.6</td>\n",
              "      <td>0.499</td>\n",
              "      <td>0.346</td>\n",
              "      <td>0.301</td>\n",
              "      <td>1.4</td>\n",
              "      <td>14.4</td>\n",
              "      <td>7.7</td>\n",
              "      <td>18.6</td>\n",
              "      <td>1.8</td>\n",
              "      <td>0.5</td>\n",
              "      <td>9.7</td>\n",
              "      <td>29.5</td>\n",
              "      <td>-0.1</td>\n",
              "      <td>0.5</td>\n",
              "      <td>0.4</td>\n",
              "      <td>0.027</td>\n",
              "      <td>-0.7</td>\n",
              "      <td>-2.0</td>\n",
              "      <td>-2.6</td>\n",
              "      <td>-0.1</td>\n",
              "    </tr>\n",
              "    <tr>\n",
              "      <th>4</th>\n",
              "      <td>Zach Collins</td>\n",
              "      <td>3057240</td>\n",
              "      <td>USA</td>\n",
              "      <td>10</td>\n",
              "      <td>20</td>\n",
              "      <td>POR</td>\n",
              "      <td>62</td>\n",
              "      <td>979</td>\n",
              "      <td>8.2</td>\n",
              "      <td>0.487</td>\n",
              "      <td>0.387</td>\n",
              "      <td>0.146</td>\n",
              "      <td>4.9</td>\n",
              "      <td>18.3</td>\n",
              "      <td>11.7</td>\n",
              "      <td>7.3</td>\n",
              "      <td>0.8</td>\n",
              "      <td>2.5</td>\n",
              "      <td>15.6</td>\n",
              "      <td>15.5</td>\n",
              "      <td>-0.4</td>\n",
              "      <td>1.2</td>\n",
              "      <td>0.8</td>\n",
              "      <td>0.038</td>\n",
              "      <td>-3.7</td>\n",
              "      <td>0.9</td>\n",
              "      <td>-2.9</td>\n",
              "      <td>-0.2</td>\n",
              "    </tr>\n",
              "  </tbody>\n",
              "</table>\n",
              "</div>"
            ],
            "text/plain": [
              "          Player    Salary NBA_Country  NBA_DraftNumber  ...  OBPM DBPM   BPM  VORP\n",
              "0        Zhou Qi    815615       China               43  ... -10.6  0.5 -10.1  -0.2\n",
              "1  Zaza Pachulia   3477600     Georgia               42  ...  -0.6  1.3   0.8   0.7\n",
              "2  Zach Randolph  12307692         USA               19  ...  -0.6 -1.3  -1.9   0.0\n",
              "3    Zach LaVine   3202217         USA               13  ...  -0.7 -2.0  -2.6  -0.1\n",
              "4   Zach Collins   3057240         USA               10  ...  -3.7  0.9  -2.9  -0.2\n",
              "\n",
              "[5 rows x 28 columns]"
            ]
          },
          "metadata": {
            "tags": []
          },
          "execution_count": 5
        }
      ]
    },
    {
      "cell_type": "code",
      "metadata": {
        "id": "waXmMLmaS5ZM",
        "outputId": "8e3ff71d-9af4-4b71-feda-b3c3d8da576f",
        "colab": {
          "base_uri": "https://localhost:8080/",
          "height": 305
        }
      },
      "source": [
        "df.tail()"
      ],
      "execution_count": null,
      "outputs": [
        {
          "output_type": "execute_result",
          "data": {
            "text/html": [
              "<div>\n",
              "<style scoped>\n",
              "    .dataframe tbody tr th:only-of-type {\n",
              "        vertical-align: middle;\n",
              "    }\n",
              "\n",
              "    .dataframe tbody tr th {\n",
              "        vertical-align: top;\n",
              "    }\n",
              "\n",
              "    .dataframe thead th {\n",
              "        text-align: right;\n",
              "    }\n",
              "</style>\n",
              "<table border=\"1\" class=\"dataframe\">\n",
              "  <thead>\n",
              "    <tr style=\"text-align: right;\">\n",
              "      <th></th>\n",
              "      <th>Player</th>\n",
              "      <th>Salary</th>\n",
              "      <th>NBA_Country</th>\n",
              "      <th>NBA_DraftNumber</th>\n",
              "      <th>Age</th>\n",
              "      <th>Tm</th>\n",
              "      <th>G</th>\n",
              "      <th>MP</th>\n",
              "      <th>PER</th>\n",
              "      <th>TS%</th>\n",
              "      <th>3PAr</th>\n",
              "      <th>FTr</th>\n",
              "      <th>ORB%</th>\n",
              "      <th>DRB%</th>\n",
              "      <th>TRB%</th>\n",
              "      <th>AST%</th>\n",
              "      <th>STL%</th>\n",
              "      <th>BLK%</th>\n",
              "      <th>TOV%</th>\n",
              "      <th>USG%</th>\n",
              "      <th>OWS</th>\n",
              "      <th>DWS</th>\n",
              "      <th>WS</th>\n",
              "      <th>WS/48</th>\n",
              "      <th>OBPM</th>\n",
              "      <th>DBPM</th>\n",
              "      <th>BPM</th>\n",
              "      <th>VORP</th>\n",
              "    </tr>\n",
              "  </thead>\n",
              "  <tbody>\n",
              "    <tr>\n",
              "      <th>480</th>\n",
              "      <td>Al Horford</td>\n",
              "      <td>27734405</td>\n",
              "      <td>Dominican Rep...</td>\n",
              "      <td>3</td>\n",
              "      <td>31</td>\n",
              "      <td>BOS</td>\n",
              "      <td>70</td>\n",
              "      <td>2219</td>\n",
              "      <td>17.5</td>\n",
              "      <td>0.577</td>\n",
              "      <td>0.301</td>\n",
              "      <td>0.153</td>\n",
              "      <td>4.8</td>\n",
              "      <td>20.1</td>\n",
              "      <td>12.6</td>\n",
              "      <td>23.9</td>\n",
              "      <td>0.9</td>\n",
              "      <td>2.9</td>\n",
              "      <td>14.3</td>\n",
              "      <td>18.4</td>\n",
              "      <td>3.8</td>\n",
              "      <td>3.8</td>\n",
              "      <td>7.6</td>\n",
              "      <td>0.164</td>\n",
              "      <td>1.1</td>\n",
              "      <td>3.0</td>\n",
              "      <td>4.1</td>\n",
              "      <td>3.4</td>\n",
              "    </tr>\n",
              "    <tr>\n",
              "      <th>481</th>\n",
              "      <td>Abdel Nader</td>\n",
              "      <td>1167333</td>\n",
              "      <td>Egypt</td>\n",
              "      <td>58</td>\n",
              "      <td>24</td>\n",
              "      <td>BOS</td>\n",
              "      <td>44</td>\n",
              "      <td>463</td>\n",
              "      <td>5.7</td>\n",
              "      <td>0.464</td>\n",
              "      <td>0.477</td>\n",
              "      <td>0.269</td>\n",
              "      <td>2.4</td>\n",
              "      <td>12.1</td>\n",
              "      <td>7.3</td>\n",
              "      <td>7.2</td>\n",
              "      <td>1.4</td>\n",
              "      <td>1.6</td>\n",
              "      <td>17.1</td>\n",
              "      <td>16.9</td>\n",
              "      <td>-0.6</td>\n",
              "      <td>0.7</td>\n",
              "      <td>0.0</td>\n",
              "      <td>0.004</td>\n",
              "      <td>-5.3</td>\n",
              "      <td>0.3</td>\n",
              "      <td>-5.0</td>\n",
              "      <td>-0.3</td>\n",
              "    </tr>\n",
              "    <tr>\n",
              "      <th>482</th>\n",
              "      <td>Aaron Harrison</td>\n",
              "      <td>83129</td>\n",
              "      <td>USA</td>\n",
              "      <td>62</td>\n",
              "      <td>23</td>\n",
              "      <td>DAL</td>\n",
              "      <td>7</td>\n",
              "      <td>164</td>\n",
              "      <td>6.6</td>\n",
              "      <td>0.411</td>\n",
              "      <td>0.644</td>\n",
              "      <td>0.244</td>\n",
              "      <td>1.3</td>\n",
              "      <td>12.6</td>\n",
              "      <td>6.8</td>\n",
              "      <td>8.6</td>\n",
              "      <td>2.1</td>\n",
              "      <td>1.1</td>\n",
              "      <td>3.9</td>\n",
              "      <td>14.4</td>\n",
              "      <td>-0.1</td>\n",
              "      <td>0.2</td>\n",
              "      <td>0.1</td>\n",
              "      <td>0.019</td>\n",
              "      <td>-3.2</td>\n",
              "      <td>0.3</td>\n",
              "      <td>-2.9</td>\n",
              "      <td>0.0</td>\n",
              "    </tr>\n",
              "    <tr>\n",
              "      <th>483</th>\n",
              "      <td>Aaron Gordon</td>\n",
              "      <td>5504420</td>\n",
              "      <td>USA</td>\n",
              "      <td>4</td>\n",
              "      <td>22</td>\n",
              "      <td>ORL</td>\n",
              "      <td>55</td>\n",
              "      <td>1838</td>\n",
              "      <td>16.6</td>\n",
              "      <td>0.531</td>\n",
              "      <td>0.393</td>\n",
              "      <td>0.263</td>\n",
              "      <td>5.2</td>\n",
              "      <td>21.8</td>\n",
              "      <td>13.4</td>\n",
              "      <td>11.7</td>\n",
              "      <td>1.4</td>\n",
              "      <td>1.9</td>\n",
              "      <td>9.7</td>\n",
              "      <td>24.5</td>\n",
              "      <td>1.1</td>\n",
              "      <td>1.9</td>\n",
              "      <td>3.0</td>\n",
              "      <td>0.078</td>\n",
              "      <td>0.1</td>\n",
              "      <td>-0.1</td>\n",
              "      <td>0.1</td>\n",
              "      <td>1.0</td>\n",
              "    </tr>\n",
              "    <tr>\n",
              "      <th>484</th>\n",
              "      <td>Aaron Brooks</td>\n",
              "      <td>2116955</td>\n",
              "      <td>USA</td>\n",
              "      <td>26</td>\n",
              "      <td>33</td>\n",
              "      <td>MIN</td>\n",
              "      <td>31</td>\n",
              "      <td>188</td>\n",
              "      <td>10.1</td>\n",
              "      <td>0.508</td>\n",
              "      <td>0.449</td>\n",
              "      <td>0.159</td>\n",
              "      <td>4.3</td>\n",
              "      <td>6.2</td>\n",
              "      <td>5.2</td>\n",
              "      <td>15.2</td>\n",
              "      <td>1.6</td>\n",
              "      <td>0.0</td>\n",
              "      <td>11.9</td>\n",
              "      <td>19.7</td>\n",
              "      <td>0.1</td>\n",
              "      <td>0.1</td>\n",
              "      <td>0.2</td>\n",
              "      <td>0.039</td>\n",
              "      <td>-0.5</td>\n",
              "      <td>-3.7</td>\n",
              "      <td>-4.1</td>\n",
              "      <td>-0.1</td>\n",
              "    </tr>\n",
              "  </tbody>\n",
              "</table>\n",
              "</div>"
            ],
            "text/plain": [
              "             Player    Salary       NBA_Country  ...  DBPM  BPM VORP\n",
              "480      Al Horford  27734405  Dominican Rep...  ...   3.0  4.1  3.4\n",
              "481     Abdel Nader   1167333             Egypt  ...   0.3 -5.0 -0.3\n",
              "482  Aaron Harrison     83129               USA  ...   0.3 -2.9  0.0\n",
              "483    Aaron Gordon   5504420               USA  ...  -0.1  0.1  1.0\n",
              "484    Aaron Brooks   2116955               USA  ...  -3.7 -4.1 -0.1\n",
              "\n",
              "[5 rows x 28 columns]"
            ]
          },
          "metadata": {
            "tags": []
          },
          "execution_count": 6
        }
      ]
    },
    {
      "cell_type": "markdown",
      "metadata": {
        "id": "UKcXBT93TIxi"
      },
      "source": [
        "### Dimensions\n",
        "Dataset size"
      ]
    },
    {
      "cell_type": "code",
      "metadata": {
        "id": "VjUk6nkpTLDq",
        "outputId": "a5820e9c-f404-4281-89c0-86b090d5bd64",
        "colab": {
          "base_uri": "https://localhost:8080/",
          "height": 54
        }
      },
      "source": [
        "print(f'Rows: {df.shape[0]} \\nColumns: {df.shape[1]}')"
      ],
      "execution_count": null,
      "outputs": [
        {
          "output_type": "stream",
          "text": [
            "Rows: 485 \n",
            "Columns: 28\n"
          ],
          "name": "stdout"
        }
      ]
    },
    {
      "cell_type": "markdown",
      "metadata": {
        "id": "RY1FJb2sTQVA"
      },
      "source": [
        "### NaN Values"
      ]
    },
    {
      "cell_type": "code",
      "metadata": {
        "id": "OOO9IHorTMox",
        "outputId": "295977e8-0b8f-4b4d-b53d-314a99be4cb6",
        "colab": {
          "base_uri": "https://localhost:8080/",
          "height": 545
        }
      },
      "source": [
        "df.isna().sum()"
      ],
      "execution_count": null,
      "outputs": [
        {
          "output_type": "execute_result",
          "data": {
            "text/plain": [
              "Player             0\n",
              "Salary             0\n",
              "NBA_Country        0\n",
              "NBA_DraftNumber    0\n",
              "Age                0\n",
              "Tm                 0\n",
              "G                  0\n",
              "MP                 0\n",
              "PER                0\n",
              "TS%                2\n",
              "3PAr               2\n",
              "FTr                2\n",
              "ORB%               0\n",
              "DRB%               0\n",
              "TRB%               0\n",
              "AST%               0\n",
              "STL%               0\n",
              "BLK%               0\n",
              "TOV%               2\n",
              "USG%               0\n",
              "OWS                0\n",
              "DWS                0\n",
              "WS                 0\n",
              "WS/48              0\n",
              "OBPM               0\n",
              "DBPM               0\n",
              "BPM                0\n",
              "VORP               0\n",
              "dtype: int64"
            ]
          },
          "metadata": {
            "tags": []
          },
          "execution_count": 8
        }
      ]
    },
    {
      "cell_type": "code",
      "metadata": {
        "id": "8anDF-4pTalt",
        "outputId": "8164e010-e175-4d30-ecc3-fc60f516cc44",
        "colab": {
          "base_uri": "https://localhost:8080/",
          "height": 35
        }
      },
      "source": [
        "df.isna().sum().sum()"
      ],
      "execution_count": null,
      "outputs": [
        {
          "output_type": "execute_result",
          "data": {
            "text/plain": [
              "8"
            ]
          },
          "metadata": {
            "tags": []
          },
          "execution_count": 9
        }
      ]
    },
    {
      "cell_type": "markdown",
      "metadata": {
        "id": "I0C_0BUFTgET"
      },
      "source": [
        "In general we do not have many null values so we will choose to delete them from the dataset"
      ]
    },
    {
      "cell_type": "code",
      "metadata": {
        "id": "AGytonN4TUer"
      },
      "source": [
        "df = df.dropna()"
      ],
      "execution_count": null,
      "outputs": []
    },
    {
      "cell_type": "markdown",
      "metadata": {
        "id": "BpAWvKB4TzSM"
      },
      "source": [
        "Let's review how our dataset turned out now"
      ]
    },
    {
      "cell_type": "code",
      "metadata": {
        "id": "UWFOhAedTy2D",
        "outputId": "c46660ae-63de-4a5c-9d64-ac796788ad8c",
        "colab": {
          "base_uri": "https://localhost:8080/",
          "height": 287
        }
      },
      "source": [
        "df.head()"
      ],
      "execution_count": null,
      "outputs": [
        {
          "output_type": "execute_result",
          "data": {
            "text/html": [
              "<div>\n",
              "<style scoped>\n",
              "    .dataframe tbody tr th:only-of-type {\n",
              "        vertical-align: middle;\n",
              "    }\n",
              "\n",
              "    .dataframe tbody tr th {\n",
              "        vertical-align: top;\n",
              "    }\n",
              "\n",
              "    .dataframe thead th {\n",
              "        text-align: right;\n",
              "    }\n",
              "</style>\n",
              "<table border=\"1\" class=\"dataframe\">\n",
              "  <thead>\n",
              "    <tr style=\"text-align: right;\">\n",
              "      <th></th>\n",
              "      <th>Player</th>\n",
              "      <th>Salary</th>\n",
              "      <th>NBA_Country</th>\n",
              "      <th>NBA_DraftNumber</th>\n",
              "      <th>Age</th>\n",
              "      <th>Tm</th>\n",
              "      <th>G</th>\n",
              "      <th>MP</th>\n",
              "      <th>PER</th>\n",
              "      <th>TS%</th>\n",
              "      <th>3PAr</th>\n",
              "      <th>FTr</th>\n",
              "      <th>ORB%</th>\n",
              "      <th>DRB%</th>\n",
              "      <th>TRB%</th>\n",
              "      <th>AST%</th>\n",
              "      <th>STL%</th>\n",
              "      <th>BLK%</th>\n",
              "      <th>TOV%</th>\n",
              "      <th>USG%</th>\n",
              "      <th>OWS</th>\n",
              "      <th>DWS</th>\n",
              "      <th>WS</th>\n",
              "      <th>WS/48</th>\n",
              "      <th>OBPM</th>\n",
              "      <th>DBPM</th>\n",
              "      <th>BPM</th>\n",
              "      <th>VORP</th>\n",
              "    </tr>\n",
              "  </thead>\n",
              "  <tbody>\n",
              "    <tr>\n",
              "      <th>0</th>\n",
              "      <td>Zhou Qi</td>\n",
              "      <td>815615</td>\n",
              "      <td>China</td>\n",
              "      <td>43</td>\n",
              "      <td>22</td>\n",
              "      <td>HOU</td>\n",
              "      <td>16</td>\n",
              "      <td>87</td>\n",
              "      <td>0.6</td>\n",
              "      <td>0.303</td>\n",
              "      <td>0.593</td>\n",
              "      <td>0.370</td>\n",
              "      <td>6.5</td>\n",
              "      <td>16.8</td>\n",
              "      <td>11.7</td>\n",
              "      <td>1.5</td>\n",
              "      <td>1.1</td>\n",
              "      <td>6.8</td>\n",
              "      <td>18.2</td>\n",
              "      <td>19.5</td>\n",
              "      <td>-0.4</td>\n",
              "      <td>0.1</td>\n",
              "      <td>-0.2</td>\n",
              "      <td>-0.121</td>\n",
              "      <td>-10.6</td>\n",
              "      <td>0.5</td>\n",
              "      <td>-10.1</td>\n",
              "      <td>-0.2</td>\n",
              "    </tr>\n",
              "    <tr>\n",
              "      <th>1</th>\n",
              "      <td>Zaza Pachulia</td>\n",
              "      <td>3477600</td>\n",
              "      <td>Georgia</td>\n",
              "      <td>42</td>\n",
              "      <td>33</td>\n",
              "      <td>GSW</td>\n",
              "      <td>66</td>\n",
              "      <td>937</td>\n",
              "      <td>16.8</td>\n",
              "      <td>0.608</td>\n",
              "      <td>0.004</td>\n",
              "      <td>0.337</td>\n",
              "      <td>11.0</td>\n",
              "      <td>25.0</td>\n",
              "      <td>18.5</td>\n",
              "      <td>15.4</td>\n",
              "      <td>1.9</td>\n",
              "      <td>1.3</td>\n",
              "      <td>19.3</td>\n",
              "      <td>17.2</td>\n",
              "      <td>1.7</td>\n",
              "      <td>1.4</td>\n",
              "      <td>3.1</td>\n",
              "      <td>0.160</td>\n",
              "      <td>-0.6</td>\n",
              "      <td>1.3</td>\n",
              "      <td>0.8</td>\n",
              "      <td>0.7</td>\n",
              "    </tr>\n",
              "    <tr>\n",
              "      <th>2</th>\n",
              "      <td>Zach Randolph</td>\n",
              "      <td>12307692</td>\n",
              "      <td>USA</td>\n",
              "      <td>19</td>\n",
              "      <td>36</td>\n",
              "      <td>SAC</td>\n",
              "      <td>59</td>\n",
              "      <td>1508</td>\n",
              "      <td>17.3</td>\n",
              "      <td>0.529</td>\n",
              "      <td>0.193</td>\n",
              "      <td>0.140</td>\n",
              "      <td>7.0</td>\n",
              "      <td>23.8</td>\n",
              "      <td>15.0</td>\n",
              "      <td>14.9</td>\n",
              "      <td>1.4</td>\n",
              "      <td>0.6</td>\n",
              "      <td>12.5</td>\n",
              "      <td>27.6</td>\n",
              "      <td>0.3</td>\n",
              "      <td>1.1</td>\n",
              "      <td>1.4</td>\n",
              "      <td>0.046</td>\n",
              "      <td>-0.6</td>\n",
              "      <td>-1.3</td>\n",
              "      <td>-1.9</td>\n",
              "      <td>0.0</td>\n",
              "    </tr>\n",
              "    <tr>\n",
              "      <th>3</th>\n",
              "      <td>Zach LaVine</td>\n",
              "      <td>3202217</td>\n",
              "      <td>USA</td>\n",
              "      <td>13</td>\n",
              "      <td>22</td>\n",
              "      <td>CHI</td>\n",
              "      <td>24</td>\n",
              "      <td>656</td>\n",
              "      <td>14.6</td>\n",
              "      <td>0.499</td>\n",
              "      <td>0.346</td>\n",
              "      <td>0.301</td>\n",
              "      <td>1.4</td>\n",
              "      <td>14.4</td>\n",
              "      <td>7.7</td>\n",
              "      <td>18.6</td>\n",
              "      <td>1.8</td>\n",
              "      <td>0.5</td>\n",
              "      <td>9.7</td>\n",
              "      <td>29.5</td>\n",
              "      <td>-0.1</td>\n",
              "      <td>0.5</td>\n",
              "      <td>0.4</td>\n",
              "      <td>0.027</td>\n",
              "      <td>-0.7</td>\n",
              "      <td>-2.0</td>\n",
              "      <td>-2.6</td>\n",
              "      <td>-0.1</td>\n",
              "    </tr>\n",
              "    <tr>\n",
              "      <th>4</th>\n",
              "      <td>Zach Collins</td>\n",
              "      <td>3057240</td>\n",
              "      <td>USA</td>\n",
              "      <td>10</td>\n",
              "      <td>20</td>\n",
              "      <td>POR</td>\n",
              "      <td>62</td>\n",
              "      <td>979</td>\n",
              "      <td>8.2</td>\n",
              "      <td>0.487</td>\n",
              "      <td>0.387</td>\n",
              "      <td>0.146</td>\n",
              "      <td>4.9</td>\n",
              "      <td>18.3</td>\n",
              "      <td>11.7</td>\n",
              "      <td>7.3</td>\n",
              "      <td>0.8</td>\n",
              "      <td>2.5</td>\n",
              "      <td>15.6</td>\n",
              "      <td>15.5</td>\n",
              "      <td>-0.4</td>\n",
              "      <td>1.2</td>\n",
              "      <td>0.8</td>\n",
              "      <td>0.038</td>\n",
              "      <td>-3.7</td>\n",
              "      <td>0.9</td>\n",
              "      <td>-2.9</td>\n",
              "      <td>-0.2</td>\n",
              "    </tr>\n",
              "  </tbody>\n",
              "</table>\n",
              "</div>"
            ],
            "text/plain": [
              "          Player    Salary NBA_Country  NBA_DraftNumber  ...  OBPM DBPM   BPM  VORP\n",
              "0        Zhou Qi    815615       China               43  ... -10.6  0.5 -10.1  -0.2\n",
              "1  Zaza Pachulia   3477600     Georgia               42  ...  -0.6  1.3   0.8   0.7\n",
              "2  Zach Randolph  12307692         USA               19  ...  -0.6 -1.3  -1.9   0.0\n",
              "3    Zach LaVine   3202217         USA               13  ...  -0.7 -2.0  -2.6  -0.1\n",
              "4   Zach Collins   3057240         USA               10  ...  -3.7  0.9  -2.9  -0.2\n",
              "\n",
              "[5 rows x 28 columns]"
            ]
          },
          "metadata": {
            "tags": []
          },
          "execution_count": 11
        }
      ]
    },
    {
      "cell_type": "code",
      "metadata": {
        "id": "HFPfxO1eT5MQ",
        "outputId": "b1033ce5-1422-4e11-da57-5f5ca6a60ac2",
        "colab": {
          "base_uri": "https://localhost:8080/",
          "height": 54
        }
      },
      "source": [
        "print(f'Rows: {df.shape[0]} \\nColumns: {df.shape[1]}')"
      ],
      "execution_count": null,
      "outputs": [
        {
          "output_type": "stream",
          "text": [
            "Rows: 483 \n",
            "Columns: 28\n"
          ],
          "name": "stdout"
        }
      ]
    },
    {
      "cell_type": "markdown",
      "metadata": {
        "id": "bmBoq2b1T_Dz"
      },
      "source": [
        "We have only lost two data, not bad"
      ]
    },
    {
      "cell_type": "markdown",
      "metadata": {
        "id": "8uyYer3RUfVC"
      },
      "source": [
        "## Brief Description"
      ]
    },
    {
      "cell_type": "code",
      "metadata": {
        "id": "wI9PWHEXUBEw",
        "outputId": "a4dfcb30-b62a-4797-f12d-68ceca774128",
        "colab": {
          "base_uri": "https://localhost:8080/",
          "height": 415
        }
      },
      "source": [
        "df.describe(include='all')"
      ],
      "execution_count": null,
      "outputs": [
        {
          "output_type": "execute_result",
          "data": {
            "text/html": [
              "<div>\n",
              "<style scoped>\n",
              "    .dataframe tbody tr th:only-of-type {\n",
              "        vertical-align: middle;\n",
              "    }\n",
              "\n",
              "    .dataframe tbody tr th {\n",
              "        vertical-align: top;\n",
              "    }\n",
              "\n",
              "    .dataframe thead th {\n",
              "        text-align: right;\n",
              "    }\n",
              "</style>\n",
              "<table border=\"1\" class=\"dataframe\">\n",
              "  <thead>\n",
              "    <tr style=\"text-align: right;\">\n",
              "      <th></th>\n",
              "      <th>Player</th>\n",
              "      <th>Salary</th>\n",
              "      <th>NBA_Country</th>\n",
              "      <th>NBA_DraftNumber</th>\n",
              "      <th>Age</th>\n",
              "      <th>Tm</th>\n",
              "      <th>G</th>\n",
              "      <th>MP</th>\n",
              "      <th>PER</th>\n",
              "      <th>TS%</th>\n",
              "      <th>3PAr</th>\n",
              "      <th>FTr</th>\n",
              "      <th>ORB%</th>\n",
              "      <th>DRB%</th>\n",
              "      <th>TRB%</th>\n",
              "      <th>AST%</th>\n",
              "      <th>STL%</th>\n",
              "      <th>BLK%</th>\n",
              "      <th>TOV%</th>\n",
              "      <th>USG%</th>\n",
              "      <th>OWS</th>\n",
              "      <th>DWS</th>\n",
              "      <th>WS</th>\n",
              "      <th>WS/48</th>\n",
              "      <th>OBPM</th>\n",
              "      <th>DBPM</th>\n",
              "      <th>BPM</th>\n",
              "      <th>VORP</th>\n",
              "    </tr>\n",
              "  </thead>\n",
              "  <tbody>\n",
              "    <tr>\n",
              "      <th>count</th>\n",
              "      <td>483</td>\n",
              "      <td>4.830000e+02</td>\n",
              "      <td>483</td>\n",
              "      <td>483.000000</td>\n",
              "      <td>483.000000</td>\n",
              "      <td>483</td>\n",
              "      <td>483.000000</td>\n",
              "      <td>483.000000</td>\n",
              "      <td>483.000000</td>\n",
              "      <td>483.000000</td>\n",
              "      <td>483.000000</td>\n",
              "      <td>483.000000</td>\n",
              "      <td>483.000000</td>\n",
              "      <td>483.000000</td>\n",
              "      <td>483.000000</td>\n",
              "      <td>483.000000</td>\n",
              "      <td>483.000000</td>\n",
              "      <td>483.000000</td>\n",
              "      <td>483.000000</td>\n",
              "      <td>483.000000</td>\n",
              "      <td>483.000000</td>\n",
              "      <td>483.000000</td>\n",
              "      <td>483.000000</td>\n",
              "      <td>483.000000</td>\n",
              "      <td>483.000000</td>\n",
              "      <td>483.000000</td>\n",
              "      <td>483.000000</td>\n",
              "      <td>483.000000</td>\n",
              "    </tr>\n",
              "    <tr>\n",
              "      <th>unique</th>\n",
              "      <td>481</td>\n",
              "      <td>NaN</td>\n",
              "      <td>44</td>\n",
              "      <td>NaN</td>\n",
              "      <td>NaN</td>\n",
              "      <td>31</td>\n",
              "      <td>NaN</td>\n",
              "      <td>NaN</td>\n",
              "      <td>NaN</td>\n",
              "      <td>NaN</td>\n",
              "      <td>NaN</td>\n",
              "      <td>NaN</td>\n",
              "      <td>NaN</td>\n",
              "      <td>NaN</td>\n",
              "      <td>NaN</td>\n",
              "      <td>NaN</td>\n",
              "      <td>NaN</td>\n",
              "      <td>NaN</td>\n",
              "      <td>NaN</td>\n",
              "      <td>NaN</td>\n",
              "      <td>NaN</td>\n",
              "      <td>NaN</td>\n",
              "      <td>NaN</td>\n",
              "      <td>NaN</td>\n",
              "      <td>NaN</td>\n",
              "      <td>NaN</td>\n",
              "      <td>NaN</td>\n",
              "      <td>NaN</td>\n",
              "    </tr>\n",
              "    <tr>\n",
              "      <th>top</th>\n",
              "      <td>Kay Felder</td>\n",
              "      <td>NaN</td>\n",
              "      <td>USA</td>\n",
              "      <td>NaN</td>\n",
              "      <td>NaN</td>\n",
              "      <td>TOT</td>\n",
              "      <td>NaN</td>\n",
              "      <td>NaN</td>\n",
              "      <td>NaN</td>\n",
              "      <td>NaN</td>\n",
              "      <td>NaN</td>\n",
              "      <td>NaN</td>\n",
              "      <td>NaN</td>\n",
              "      <td>NaN</td>\n",
              "      <td>NaN</td>\n",
              "      <td>NaN</td>\n",
              "      <td>NaN</td>\n",
              "      <td>NaN</td>\n",
              "      <td>NaN</td>\n",
              "      <td>NaN</td>\n",
              "      <td>NaN</td>\n",
              "      <td>NaN</td>\n",
              "      <td>NaN</td>\n",
              "      <td>NaN</td>\n",
              "      <td>NaN</td>\n",
              "      <td>NaN</td>\n",
              "      <td>NaN</td>\n",
              "      <td>NaN</td>\n",
              "    </tr>\n",
              "    <tr>\n",
              "      <th>freq</th>\n",
              "      <td>3</td>\n",
              "      <td>NaN</td>\n",
              "      <td>372</td>\n",
              "      <td>NaN</td>\n",
              "      <td>NaN</td>\n",
              "      <td>55</td>\n",
              "      <td>NaN</td>\n",
              "      <td>NaN</td>\n",
              "      <td>NaN</td>\n",
              "      <td>NaN</td>\n",
              "      <td>NaN</td>\n",
              "      <td>NaN</td>\n",
              "      <td>NaN</td>\n",
              "      <td>NaN</td>\n",
              "      <td>NaN</td>\n",
              "      <td>NaN</td>\n",
              "      <td>NaN</td>\n",
              "      <td>NaN</td>\n",
              "      <td>NaN</td>\n",
              "      <td>NaN</td>\n",
              "      <td>NaN</td>\n",
              "      <td>NaN</td>\n",
              "      <td>NaN</td>\n",
              "      <td>NaN</td>\n",
              "      <td>NaN</td>\n",
              "      <td>NaN</td>\n",
              "      <td>NaN</td>\n",
              "      <td>NaN</td>\n",
              "    </tr>\n",
              "    <tr>\n",
              "      <th>mean</th>\n",
              "      <td>NaN</td>\n",
              "      <td>6.660622e+06</td>\n",
              "      <td>NaN</td>\n",
              "      <td>29.395445</td>\n",
              "      <td>26.273292</td>\n",
              "      <td>NaN</td>\n",
              "      <td>50.370600</td>\n",
              "      <td>1158.915114</td>\n",
              "      <td>13.315735</td>\n",
              "      <td>0.535387</td>\n",
              "      <td>0.337383</td>\n",
              "      <td>0.263404</td>\n",
              "      <td>4.893996</td>\n",
              "      <td>15.012629</td>\n",
              "      <td>9.949275</td>\n",
              "      <td>13.001449</td>\n",
              "      <td>1.535818</td>\n",
              "      <td>1.720290</td>\n",
              "      <td>13.140373</td>\n",
              "      <td>18.975569</td>\n",
              "      <td>1.280745</td>\n",
              "      <td>1.181366</td>\n",
              "      <td>2.465424</td>\n",
              "      <td>0.080325</td>\n",
              "      <td>-1.252588</td>\n",
              "      <td>-0.489441</td>\n",
              "      <td>-1.741822</td>\n",
              "      <td>0.601242</td>\n",
              "    </tr>\n",
              "    <tr>\n",
              "      <th>std</th>\n",
              "      <td>NaN</td>\n",
              "      <td>7.398214e+06</td>\n",
              "      <td>NaN</td>\n",
              "      <td>21.116033</td>\n",
              "      <td>4.274290</td>\n",
              "      <td>NaN</td>\n",
              "      <td>24.723561</td>\n",
              "      <td>809.627553</td>\n",
              "      <td>8.745666</td>\n",
              "      <td>0.112352</td>\n",
              "      <td>0.226894</td>\n",
              "      <td>0.294578</td>\n",
              "      <td>4.581519</td>\n",
              "      <td>6.793519</td>\n",
              "      <td>4.925357</td>\n",
              "      <td>9.092965</td>\n",
              "      <td>0.986686</td>\n",
              "      <td>1.683654</td>\n",
              "      <td>6.115290</td>\n",
              "      <td>5.826533</td>\n",
              "      <td>1.883545</td>\n",
              "      <td>1.033939</td>\n",
              "      <td>2.674520</td>\n",
              "      <td>0.163229</td>\n",
              "      <td>5.028752</td>\n",
              "      <td>2.394156</td>\n",
              "      <td>5.665905</td>\n",
              "      <td>1.247636</td>\n",
              "    </tr>\n",
              "    <tr>\n",
              "      <th>min</th>\n",
              "      <td>NaN</td>\n",
              "      <td>4.608000e+04</td>\n",
              "      <td>NaN</td>\n",
              "      <td>1.000000</td>\n",
              "      <td>19.000000</td>\n",
              "      <td>NaN</td>\n",
              "      <td>1.000000</td>\n",
              "      <td>1.000000</td>\n",
              "      <td>-41.100000</td>\n",
              "      <td>0.000000</td>\n",
              "      <td>0.000000</td>\n",
              "      <td>0.000000</td>\n",
              "      <td>0.000000</td>\n",
              "      <td>0.000000</td>\n",
              "      <td>0.000000</td>\n",
              "      <td>0.000000</td>\n",
              "      <td>0.000000</td>\n",
              "      <td>0.000000</td>\n",
              "      <td>0.000000</td>\n",
              "      <td>5.700000</td>\n",
              "      <td>-2.300000</td>\n",
              "      <td>0.000000</td>\n",
              "      <td>-1.200000</td>\n",
              "      <td>-1.063000</td>\n",
              "      <td>-36.500000</td>\n",
              "      <td>-14.300000</td>\n",
              "      <td>-49.200000</td>\n",
              "      <td>-1.300000</td>\n",
              "    </tr>\n",
              "    <tr>\n",
              "      <th>25%</th>\n",
              "      <td>NaN</td>\n",
              "      <td>1.471382e+06</td>\n",
              "      <td>NaN</td>\n",
              "      <td>10.500000</td>\n",
              "      <td>23.000000</td>\n",
              "      <td>NaN</td>\n",
              "      <td>29.500000</td>\n",
              "      <td>385.000000</td>\n",
              "      <td>9.800000</td>\n",
              "      <td>0.505500</td>\n",
              "      <td>0.167000</td>\n",
              "      <td>0.155000</td>\n",
              "      <td>1.800000</td>\n",
              "      <td>10.300000</td>\n",
              "      <td>6.200000</td>\n",
              "      <td>6.900000</td>\n",
              "      <td>1.000000</td>\n",
              "      <td>0.600000</td>\n",
              "      <td>9.900000</td>\n",
              "      <td>15.000000</td>\n",
              "      <td>0.000000</td>\n",
              "      <td>0.300000</td>\n",
              "      <td>0.300000</td>\n",
              "      <td>0.040500</td>\n",
              "      <td>-2.600000</td>\n",
              "      <td>-1.700000</td>\n",
              "      <td>-3.500000</td>\n",
              "      <td>-0.100000</td>\n",
              "    </tr>\n",
              "    <tr>\n",
              "      <th>50%</th>\n",
              "      <td>NaN</td>\n",
              "      <td>3.218280e+06</td>\n",
              "      <td>NaN</td>\n",
              "      <td>25.000000</td>\n",
              "      <td>26.000000</td>\n",
              "      <td>NaN</td>\n",
              "      <td>59.000000</td>\n",
              "      <td>1151.000000</td>\n",
              "      <td>13.200000</td>\n",
              "      <td>0.545000</td>\n",
              "      <td>0.346000</td>\n",
              "      <td>0.231000</td>\n",
              "      <td>3.300000</td>\n",
              "      <td>14.000000</td>\n",
              "      <td>8.700000</td>\n",
              "      <td>10.000000</td>\n",
              "      <td>1.500000</td>\n",
              "      <td>1.200000</td>\n",
              "      <td>12.500000</td>\n",
              "      <td>17.900000</td>\n",
              "      <td>0.800000</td>\n",
              "      <td>1.000000</td>\n",
              "      <td>1.900000</td>\n",
              "      <td>0.083000</td>\n",
              "      <td>-1.100000</td>\n",
              "      <td>-0.400000</td>\n",
              "      <td>-1.300000</td>\n",
              "      <td>0.100000</td>\n",
              "    </tr>\n",
              "    <tr>\n",
              "      <th>75%</th>\n",
              "      <td>NaN</td>\n",
              "      <td>1.000000e+07</td>\n",
              "      <td>NaN</td>\n",
              "      <td>47.000000</td>\n",
              "      <td>29.000000</td>\n",
              "      <td>NaN</td>\n",
              "      <td>71.000000</td>\n",
              "      <td>1824.500000</td>\n",
              "      <td>16.550000</td>\n",
              "      <td>0.582500</td>\n",
              "      <td>0.481000</td>\n",
              "      <td>0.319500</td>\n",
              "      <td>7.050000</td>\n",
              "      <td>18.800000</td>\n",
              "      <td>13.300000</td>\n",
              "      <td>17.600000</td>\n",
              "      <td>1.900000</td>\n",
              "      <td>2.200000</td>\n",
              "      <td>15.750000</td>\n",
              "      <td>22.250000</td>\n",
              "      <td>2.000000</td>\n",
              "      <td>1.800000</td>\n",
              "      <td>3.600000</td>\n",
              "      <td>0.123000</td>\n",
              "      <td>0.400000</td>\n",
              "      <td>1.000000</td>\n",
              "      <td>0.550000</td>\n",
              "      <td>0.900000</td>\n",
              "    </tr>\n",
              "    <tr>\n",
              "      <th>max</th>\n",
              "      <td>NaN</td>\n",
              "      <td>3.468255e+07</td>\n",
              "      <td>NaN</td>\n",
              "      <td>62.000000</td>\n",
              "      <td>41.000000</td>\n",
              "      <td>NaN</td>\n",
              "      <td>79.000000</td>\n",
              "      <td>2898.000000</td>\n",
              "      <td>134.100000</td>\n",
              "      <td>1.500000</td>\n",
              "      <td>1.000000</td>\n",
              "      <td>5.333000</td>\n",
              "      <td>35.900000</td>\n",
              "      <td>37.600000</td>\n",
              "      <td>26.500000</td>\n",
              "      <td>49.400000</td>\n",
              "      <td>12.500000</td>\n",
              "      <td>13.400000</td>\n",
              "      <td>66.700000</td>\n",
              "      <td>45.100000</td>\n",
              "      <td>11.400000</td>\n",
              "      <td>5.600000</td>\n",
              "      <td>15.000000</td>\n",
              "      <td>2.713000</td>\n",
              "      <td>68.700000</td>\n",
              "      <td>6.800000</td>\n",
              "      <td>54.400000</td>\n",
              "      <td>8.600000</td>\n",
              "    </tr>\n",
              "  </tbody>\n",
              "</table>\n",
              "</div>"
            ],
            "text/plain": [
              "            Player        Salary  ...         BPM        VORP\n",
              "count          483  4.830000e+02  ...  483.000000  483.000000\n",
              "unique         481           NaN  ...         NaN         NaN\n",
              "top     Kay Felder           NaN  ...         NaN         NaN\n",
              "freq             3           NaN  ...         NaN         NaN\n",
              "mean           NaN  6.660622e+06  ...   -1.741822    0.601242\n",
              "std            NaN  7.398214e+06  ...    5.665905    1.247636\n",
              "min            NaN  4.608000e+04  ...  -49.200000   -1.300000\n",
              "25%            NaN  1.471382e+06  ...   -3.500000   -0.100000\n",
              "50%            NaN  3.218280e+06  ...   -1.300000    0.100000\n",
              "75%            NaN  1.000000e+07  ...    0.550000    0.900000\n",
              "max            NaN  3.468255e+07  ...   54.400000    8.600000\n",
              "\n",
              "[11 rows x 28 columns]"
            ]
          },
          "metadata": {
            "tags": []
          },
          "execution_count": 13
        }
      ]
    },
    {
      "cell_type": "markdown",
      "metadata": {
        "id": "3npHiafoUx7O"
      },
      "source": [
        "We have very high values, then we will review the scales.\n",
        "\n",
        "We can see that the unique values in player are 481 so there are some players that are repeated.\n"
      ]
    },
    {
      "cell_type": "markdown",
      "metadata": {
        "id": "SPIx7EyybQrz"
      },
      "source": [
        "Let's now review the types of variables"
      ]
    },
    {
      "cell_type": "code",
      "metadata": {
        "id": "3u-ahU8tUy35",
        "outputId": "35dc3157-752c-46ae-aef8-b4aa215062aa",
        "colab": {
          "base_uri": "https://localhost:8080/",
          "height": 654
        }
      },
      "source": [
        "df.info()"
      ],
      "execution_count": null,
      "outputs": [
        {
          "output_type": "stream",
          "text": [
            "<class 'pandas.core.frame.DataFrame'>\n",
            "Int64Index: 483 entries, 0 to 484\n",
            "Data columns (total 28 columns):\n",
            " #   Column           Non-Null Count  Dtype  \n",
            "---  ------           --------------  -----  \n",
            " 0   Player           483 non-null    object \n",
            " 1   Salary           483 non-null    int64  \n",
            " 2   NBA_Country      483 non-null    object \n",
            " 3   NBA_DraftNumber  483 non-null    int64  \n",
            " 4   Age              483 non-null    int64  \n",
            " 5   Tm               483 non-null    object \n",
            " 6   G                483 non-null    int64  \n",
            " 7   MP               483 non-null    int64  \n",
            " 8   PER              483 non-null    float64\n",
            " 9   TS%              483 non-null    float64\n",
            " 10  3PAr             483 non-null    float64\n",
            " 11  FTr              483 non-null    float64\n",
            " 12  ORB%             483 non-null    float64\n",
            " 13  DRB%             483 non-null    float64\n",
            " 14  TRB%             483 non-null    float64\n",
            " 15  AST%             483 non-null    float64\n",
            " 16  STL%             483 non-null    float64\n",
            " 17  BLK%             483 non-null    float64\n",
            " 18  TOV%             483 non-null    float64\n",
            " 19  USG%             483 non-null    float64\n",
            " 20  OWS              483 non-null    float64\n",
            " 21  DWS              483 non-null    float64\n",
            " 22  WS               483 non-null    float64\n",
            " 23  WS/48            483 non-null    float64\n",
            " 24  OBPM             483 non-null    float64\n",
            " 25  DBPM             483 non-null    float64\n",
            " 26  BPM              483 non-null    float64\n",
            " 27  VORP             483 non-null    float64\n",
            "dtypes: float64(20), int64(5), object(3)\n",
            "memory usage: 109.4+ KB\n"
          ],
          "name": "stdout"
        }
      ]
    },
    {
      "cell_type": "markdown",
      "metadata": {
        "id": "ckddrswMbcjI"
      },
      "source": [
        "### Which players repeat themselves more than once?"
      ]
    },
    {
      "cell_type": "code",
      "metadata": {
        "id": "YpAZ_YNNJ7rj",
        "outputId": "3ebf91ca-e18b-4a16-b981-5371866c6eb1",
        "colab": {
          "base_uri": "https://localhost:8080/",
          "height": 72
        }
      },
      "source": [
        "players_count = df.groupby(df['Player'])['Player'].count()\n",
        "players_count[players_count>1]"
      ],
      "execution_count": null,
      "outputs": [
        {
          "output_type": "execute_result",
          "data": {
            "text/plain": [
              "Player\n",
              "Kay Felder    3\n",
              "Name: Player, dtype: int64"
            ]
          },
          "metadata": {
            "tags": []
          },
          "execution_count": 15
        }
      ]
    },
    {
      "cell_type": "markdown",
      "metadata": {
        "id": "0pzHjT1pLVni"
      },
      "source": [
        "Only player Kay Felder repeats more than once"
      ]
    },
    {
      "cell_type": "markdown",
      "metadata": {
        "id": "rSBURTv30ACL"
      },
      "source": [
        "### Quartiles and outliers"
      ]
    },
    {
      "cell_type": "code",
      "metadata": {
        "id": "5pw4BFJiI1ys"
      },
      "source": [
        "df_numeric = df.select_dtypes([\"float64\", \"int64\"])"
      ],
      "execution_count": null,
      "outputs": []
    },
    {
      "cell_type": "code",
      "metadata": {
        "id": "nJCD_sFtODrq"
      },
      "source": [
        "def graph_box_plot(df, init_colum, end=4):\n",
        "  fig = make_subplots(rows=2,cols=2)\n",
        "  index = [((i%2)+1, math.ceil(i/2)) for i in range(1,5)]\n",
        "  aux = 0\n",
        "  for column in df.columns[init_colum:init_colum+end]:\n",
        "    i, j = index[aux]\n",
        "    fig.add_trace(\n",
        "      go.Box(y=df_numeric[column], name=column,boxmean='sd'),\n",
        "      row=j, col=i,\n",
        "    )\n",
        "    fig.update_xaxes(title_text=column, row=j, col=i)\n",
        "    aux += 1\n",
        "\n",
        "  fig.update_layout(title_text=\"Box Plots\", height=700)\n",
        "  fig.show()\n"
      ],
      "execution_count": null,
      "outputs": []
    },
    {
      "cell_type": "code",
      "metadata": {
        "id": "RK9pAxnWRN-T",
        "outputId": "0ab5604f-57dc-47f2-f0f0-3885a9a40179",
        "colab": {
          "base_uri": "https://localhost:8080/",
          "height": 717
        }
      },
      "source": [
        "graph_box_plot(df_numeric, 0)"
      ],
      "execution_count": null,
      "outputs": [
        {
          "output_type": "display_data",
          "data": {
            "text/html": [
              "<html>\n",
              "<head><meta charset=\"utf-8\" /></head>\n",
              "<body>\n",
              "    <div>\n",
              "            <script src=\"https://cdnjs.cloudflare.com/ajax/libs/mathjax/2.7.5/MathJax.js?config=TeX-AMS-MML_SVG\"></script><script type=\"text/javascript\">if (window.MathJax) {MathJax.Hub.Config({SVG: {font: \"STIX-Web\"}});}</script>\n",
              "                <script type=\"text/javascript\">window.PlotlyConfig = {MathJaxConfig: 'local'};</script>\n",
              "        <script src=\"https://cdn.plot.ly/plotly-latest.min.js\"></script>    \n",
              "            <div id=\"35367dc5-b01c-42e5-8dd7-f59573882213\" class=\"plotly-graph-div\" style=\"height:700px; width:100%;\"></div>\n",
              "            <script type=\"text/javascript\">\n",
              "                \n",
              "                    window.PLOTLYENV=window.PLOTLYENV || {};\n",
              "                    \n",
              "                if (document.getElementById(\"35367dc5-b01c-42e5-8dd7-f59573882213\")) {\n",
              "                    Plotly.newPlot(\n",
              "                        '35367dc5-b01c-42e5-8dd7-f59573882213',\n",
              "                        [{\"boxmean\": \"sd\", \"name\": \"Salary\", \"type\": \"box\", \"xaxis\": \"x2\", \"y\": [815615, 3477600, 12307692, 3202217, 3057240, 1312611, 74159, 46080, 12016854, 1435750, 1577230, 3704160, 3533333, 17884176, 5881260, 1050000, 1312611, 6270000, 1874400, 50000, 8000000, 21000000, 50000, 2328652, 1471382, 13000000, 3290000, 1709538, 1312611, 5881260, 1524305, 815615, 679919, 1471382, 3408520, 16400000, 2441400, 784160, 9125000, 7420912, 1312611, 148318, 9821429, 15453126, 1414920, 2116955, 3000000, 16000000, 1386600, 15280000, 16500000, 2000000, 2684160, 815615, 14796348, 5250000, 1988520, 10500000, 1785000, 2422560, 3290000, 14000000, 3152931, 1471382, 2028360, 22471910, 815615, 34682550, 3097800, 1524305, 12236535, 1312611, 815615, 6000000, 7692308, 92160, 1524305, 2361360, 1577230, 20061729, 1291892, 1524305, 74159, 1794600, 1471382, 19578455, 28530608, 21974719, 8406000, 815615, 1471382, 4328000, 92160, 1312611, 2386864, 13788500, 16698103, 14275000, 1471382, 2500000, 16000000, 2500000, 2328652, 1471382, 1889040, 2328652, 3300000, 100000, 3853931, 1709538, 1312611, 31269231, 19508958, 16000000, 10714286, 5192000, 1312611, 5513514, 1471382, 1312611, 7590035, 24773250, 2106470, 10595505, 1312611, 1645200, 1471382, 3505233, 12250000, 12500000, 1471382, 3807146, 92160, 1312611, 22434783, 5192000, 2328652, 4187599, 3477600, 3949999, 92160, 50000, 2569920, 1471382, 10500000, 3025035, 6000000, 12500000, 1709538, 5000000, 87552, 28530608, 13000000, 2700000, 2116955, 9904495, 815615, 10162922, 9607500, 50000, 14041096, 13168750, 86119, 100000, 2116955, 83129, 3073800, 8000000, 7026240, 4078320, 2106407, 4538020, 5000000, 1312611, 6306060, 12782609, 22642350, 2500000, 2904480, 1700640, 2500000, 1312611, 1504560, 17190000, 2759280, 1974159, 50000, 2947305, 2116955, 7000000, 6286560, 33285709, 3821640, 1471382, 148318, 6666667, 6655325, 4180000, 21461010, 18868625, 4666500, 4087500, 28703704, 1423560, 7000000, 92160, 2151704, 4503600, 4046760, 8393000, 17826150, 14100000, 815615, 1471382, 22642350, 25000000, 17745894, 16910113, 12921348, 12000000, 2093040, 10607169, 1312611, 1312611, 1312611, 18868625, 6216840, 2947305, 2705040, 2247480, 2365560, 4615385, 1579440, 1524305, 4149242, 2076840, 25686667, 5400000, 1471382, 6021175, 5090040, 1471382, 1394520, 92160, 2328652, 1471382, 250000, 11562500, 815615, 6300000, 4186320, 15460675, 4000000, 10497319, 1524305, 18063850, 11422536, 1936920, 1524305, 6100266, 1312611, 1471382, 9505000, 14136364, 1524305, 3290000, 17765000, 19301070, 9000000, 1713840, 12000000, 7000000, 104059, 1524305, 1577320, 19000000, 2116955, 5645400, 92160, 4956480, 815615, 2116955, 2328652, 5225000, 2328652, 1713720, 1471382, 83129, 10000000, 8533333, 50000, 50000, 13954000, 28299399, 3028410, 4736050, 46080, 3355320, 10942762, 2825640, 1312611, 4995120, 6796117, 50000, 6782392, 13760000, 23000000, 3903900, 1312611, 950000, 6000000, 1312611, 6261395, 1312611, 1069308, 10337079, 950000, 16661641, 1577230, 1780800, 23775506, 23112004, 2247480, 17884176, 14112360, 29727900, 17000450, 1524305, 22471910, 50000, 947248, 2301360, 100000, 20000000, 50000, 2550055, 8000000, 1465920, 1312611, 3501120, 1184385, 2847600, 17131148, 17000000, 8445024, 6000000, 1739333, 12943020, 14500000, 20566802, 3381480, 239204, 3332340, 3200000, 6352531, 15550000, 9003125, 23500000, 748160, 815615, 16400000, 4468800, 3294994, 1312611, 2621280, 2550000, 5000000, 11000000, 815615, 1312611, 6000000, 4402546, 2319360, 104059, 1404600, 2116955, 1312611, 12000000, 2186400, 3218280, 15500000, 92858, 14800000, 18063850, 27739975, 1645200, 1312611, 1577230, 22642350, 1567200, 4609200, 815615, 1312611, 2328652, 148318, 1312611, 10000000, 7464912, 2100000, 2422560, 4992385, 2300000, 10000000, 20559599, 815615, 5562360, 1100000, 92160, 2116955, 26153057, 1312611, 815615, 2135040, 7250000, 7843500, 11747890, 7630000, 7579366, 7300000, 12584270, 2334520, 24599495, 1471382, 1312611, 7420912, 23112004, 2642857, 26243760, 1632480, 2203440, 1465920, 7936509, 23962573, 3675480, 1312611, 2451225, 22642350, 1331160, 83129, 815615, 238020, 5519400, 5179760, 23775506, 10500000, 9470614, 1516320, 1524305, 7000000, 29512900, 17000000, 6168840, 5200000, 2490360, 8808989, 11825000, 2328652, 4328000, 92160, 3290000, 23775506, 1645200, 7574322, 1312611, 2328652, 9259259, 14814815, 23775506, 11000000, 19332500, 815615, 7319035, 778668, 4187599, 5725000, 10845506, 6000000, 9769821, 27734405, 1167333, 83129, 5504420, 2116955], \"yaxis\": \"y2\"}, {\"boxmean\": \"sd\", \"name\": \"NBA_DraftNumber\", \"type\": \"box\", \"xaxis\": \"x\", \"y\": [43, 42, 19, 13, 10, 62, 62, 62, 23, 35, 62, 6, 40, 62, 4, 33, 62, 28, 17, 62, 5, 2, 62, 62, 24, 2, 4, 17, 34, 62, 18, 41, 62, 62, 62, 4, 12, 9, 23, 43, 62, 62, 20, 28, 28, 25, 32, 19, 24, 62, 24, 62, 10, 42, 12, 13, 16, 8, 21, 12, 62, 26, 14, 62, 18, 12, 46, 7, 8, 38, 23, 28, 48, 34, 4, 62, 18, 24, 14, 24, 37, 62, 62, 18, 62, 21, 4, 27, 8, 62, 23, 62, 62, 62, 23, 15, 62, 5, 37, 13, 24, 25, 5, 47, 17, 56, 21, 62, 26, 37, 48, 47, 10, 3, 55, 14, 38, 42, 41, 27, 35, 3, 23, 36, 62, 23, 46, 9, 16, 23, 41, 8, 62, 62, 25, 16, 12, 6, 7, 35, 62, 38, 11, 32, 62, 62, 62, 26, 43, 44, 62, 4, 2, 11, 2, 11, 62, 15, 62, 62, 22, 2, 25, 62, 16, 29, 8, 13, 1, 5, 34, 6, 14, 62, 18, 57, 48, 57, 11, 19, 62, 36, 22, 7, 12, 16, 62, 16, 37, 45, 2, 1, 7, 27, 62, 62, 62, 40, 2, 1, 33, 49, 24, 27, 51, 62, 30, 4, 5, 23, 11, 39, 62, 30, 5, 2, 8, 62, 22, 9, 15, 13, 54, 54, 54, 15, 1, 16, 10, 16, 15, 62, 21, 62, 7, 15, 17, 17, 40, 37, 4, 29, 30, 62, 62, 33, 27, 46, 38, 62, 6, 5, 39, 40, 36, 1, 14, 19, 55, 3, 52, 43, 10, 62, 33, 41, 9, 30, 11, 19, 62, 12, 55, 39, 39, 19, 5, 3, 62, 3, 39, 18, 10, 20, 22, 22, 25, 62, 22, 62, 62, 62, 16, 3, 50, 20, 62, 7, 8, 9, 47, 3, 34, 62, 2, 18, 11, 62, 32, 35, 62, 42, 60, 62, 34, 17, 47, 28, 62, 18, 33, 7, 16, 7, 21, 9, 45, 40, 15, 62, 18, 13, 50, 26, 62, 19, 62, 26, 62, 8, 34, 9, 2, 20, 55, 36, 62, 7, 18, 3, 7, 2, 10, 6, 13, 5, 45, 1, 62, 40, 35, 4, 11, 62, 13, 11, 9, 4, 45, 31, 62, 5, 13, 2, 29, 1, 62, 3, 14, 9, 17, 45, 27, 5, 9, 20, 29, 53, 35, 21, 5, 32, 42, 18, 62, 62, 21, 27, 46, 12, 5, 33, 46, 6, 62, 2, 44, 62, 62, 6, 30, 48, 17, 9, 62, 22, 29, 7, 11, 4, 25, 4, 29, 33, 8, 38, 62, 3, 20, 14, 26, 34, 10, 6, 62, 20, 10, 25, 62, 62, 10, 2, 8, 3, 31, 27, 22, 62, 62, 1, 7, 1, 7, 14, 19, 10, 27, 62, 62, 62, 1, 23, 1, 44, 1, 26, 9, 9, 56, 31, 62, 8, 62, 5, 32, 12, 62, 15, 3, 58, 62, 4, 26], \"yaxis\": \"y\"}, {\"boxmean\": \"sd\", \"name\": \"Age\", \"type\": \"box\", \"xaxis\": \"x4\", \"y\": [22, 33, 36, 22, 20, 24, 30, 23, 30, 23, 27, 24, 27, 31, 30, 23, 23, 30, 21, 23, 41, 25, 25, 37, 21, 35, 28, 28, 22, 25, 23, 21, 23, 23, 26, 26, 22, 25, 30, 32, 24, 27, 26, 35, 20, 36, 26, 25, 22, 31, 25, 27, 20, 20, 29, 33, 23, 26, 19, 23, 26, 32, 24, 25, 20, 24, 22, 29, 21, 24, 26, 21, 23, 27, 32, 24, 25, 26, 25, 28, 23, 28, 28, 23, 31, 29, 29, 25, 31, 24, 23, 24, 23, 26, 25, 29, 27, 27, 24, 37, 27, 26, 33, 25, 21, 31, 31, 24, 29, 27, 23, 32, 27, 37, 29, 28, 22, 29, 25, 23, 32, 24, 29, 31, 25, 20, 24, 22, 27, 26, 22, 24, 23, 24, 29, 32, 37, 23, 35, 29, 24, 26, 21, 24, 32, 28, 30, 29, 29, 26, 27, 30, 24, 26, 29, 25, 26, 24, 27, 24, 27, 31, 29, 25, 30, 24, 20, 28, 19, 22, 31, 23, 28, 23, 31, 33, 33, 40, 19, 21, 28, 25, 22, 32, 21, 28, 24, 25, 31, 31, 20, 33, 20, 25, 27, 26, 29, 27, 32, 25, 29, 27, 31, 22, 36, 26, 24, 22, 23, 28, 27, 26, 25, 21, 29, 29, 24, 28, 28, 27, 22, 26, 22, 22, 22, 26, 22, 23, 21, 20, 22, 28, 24, 29, 23, 22, 27, 32, 24, 30, 20, 26, 22, 24, 36, 23, 29, 25, 23, 28, 20, 25, 30, 28, 24, 27, 27, 20, 26, 23, 24, 25, 36, 30, 26, 30, 32, 28, 29, 25, 29, 25, 30, 23, 27, 29, 31, 19, 22, 21, 21, 30, 40, 31, 34, 19, 23, 26, 32, 27, 27, 25, 30, 28, 27, 35, 24, 20, 37, 22, 23, 22, 27, 28, 22, 32, 33, 33, 20, 20, 29, 22, 28, 23, 26, 27, 19, 31, 26, 21, 28, 25, 22, 27, 28, 27, 31, 24, 23, 24, 32, 20, 24, 31, 25, 23, 31, 20, 23, 19, 23, 24, 29, 25, 28, 30, 26, 29, 28, 25, 21, 35, 23, 30, 28, 36, 26, 32, 28, 22, 27, 20, 26, 24, 21, 21, 39, 26, 22, 21, 28, 34, 21, 26, 23, 29, 20, 26, 24, 20, 24, 23, 31, 27, 28, 25, 21, 29, 29, 23, 20, 22, 25, 37, 26, 25, 30, 29, 27, 23, 22, 30, 30, 29, 25, 21, 23, 25, 38, 27, 22, 22, 21, 30, 25, 32, 26, 31, 29, 25, 23, 32, 22, 21, 34, 29, 22, 33, 23, 23, 20, 30, 26, 24, 24, 22, 29, 23, 25, 26, 28, 20, 30, 24, 28, 25, 22, 33, 29, 28, 25, 21, 24, 20, 27, 25, 32, 31, 23, 32, 24, 21, 22, 23, 33, 26, 34, 24, 30, 25, 25, 27, 24, 24, 24, 26, 25, 33, 31, 24, 23, 22, 33], \"yaxis\": \"y4\"}, {\"boxmean\": \"sd\", \"name\": \"G\", \"type\": \"box\", \"xaxis\": \"x3\", \"y\": [16, 66, 59, 24, 62, 79, 2, 5, 70, 45, 42, 70, 77, 63, 70, 58, 35, 74, 4, 4, 55, 72, 5, 14, 78, 46, 52, 62, 68, 69, 50, 53, 39, 21, 78, 49, 70, 32, 64, 64, 63, 13, 71, 52, 9, 22, 69, 76, 52, 28, 56, 56, 71, 11, 78, 38, 77, 22, 59, 79, 48, 78, 65, 72, 50, 73, 51, 51, 65, 77, 8, 60, 69, 65, 68, 20, 50, 70, 41, 73, 69, 48, 1, 69, 61, 66, 77, 52, 54, 65, 64, 29, 12, 15, 58, 64, 76, 73, 44, 20, 41, 62, 79, 39, 28, 27, 61, 29, 23, 66, 54, 34, 76, 74, 79, 79, 57, 11, 78, 77, 78, 74, 53, 14, 6, 70, 66, 54, 54, 51, 71, 37, 6, 4, 61, 76, 13, 30, 50, 63, 1, 5, 61, 72, 10, 1, 45, 52, 72, 50, 36, 12, 71, 52, 70, 30, 69, 59, 37, 3, 70, 75, 3, 8, 50, 3, 71, 69, 10, 71, 62, 54, 52, 41, 76, 78, 72, 62, 60, 61, 54, 46, 26, 1, 69, 49, 2, 47, 58, 77, 52, 78, 65, 62, 10, 54, 70, 78, 72, 60, 12, 73, 74, 76, 70, 29, 71, 48, 52, 71, 69, 78, 38, 62, 56, 64, 70, 65, 32, 77, 77, 73, 1, 14, 15, 9, 78, 75, 65, 1, 65, 69, 36, 20, 78, 24, 77, 3, 78, 2, 76, 67, 59, 5, 55, 23, 2, 77, 53, 69, 27, 74, 70, 8, 36, 39, 72, 71, 52, 63, 6, 50, 51, 78, 76, 74, 7, 56, 39, 70, 1, 77, 1, 78, 9, 66, 74, 78, 6, 67, 48, 62, 47, 31, 58, 68, 73, 3, 45, 55, 15, 3, 70, 69, 68, 50, 3, 77, 76, 78, 33, 28, 76, 3, 27, 76, 67, 69, 39, 32, 78, 16, 32, 64, 20, 14, 10, 74, 72, 34, 51, 75, 31, 47, 75, 1, 73, 19, 73, 7, 37, 16, 7, 65, 19, 65, 65, 12, 73, 74, 51, 76, 75, 57, 78, 65, 63, 68, 70, 71, 63, 24, 63, 59, 76, 64, 76, 78, 29, 53, 66, 79, 79, 18, 75, 70, 77, 30, 78, 58, 59, 67, 54, 2, 17, 21, 19, 73, 77, 67, 67, 3, 73, 48, 77, 65, 78, 55, 73, 23, 70, 18, 74, 69, 2, 66, 65, 19, 78, 74, 10, 70, 67, 21, 63, 44, 40, 12, 19, 70, 11, 29, 21, 71, 51, 73, 78, 69, 19, 33, 71, 55, 19, 48, 50, 36, 57, 75, 68, 21, 24, 66, 77, 77, 77, 11, 70, 18, 18, 61, 11, 59, 28, 78, 77, 75, 69, 20, 35, 58, 78, 77, 52, 66, 46, 58, 51, 77, 14, 75, 71, 30, 78, 56, 23, 39, 63, 76, 70, 71, 13, 65, 24, 66, 73, 62, 5, 34, 70, 44, 7, 55, 31], \"yaxis\": \"y3\"}],\n",
              "                        {\"height\": 700, \"template\": {\"data\": {\"bar\": [{\"error_x\": {\"color\": \"#2a3f5f\"}, \"error_y\": {\"color\": \"#2a3f5f\"}, \"marker\": {\"line\": {\"color\": \"#E5ECF6\", \"width\": 0.5}}, \"type\": \"bar\"}], \"barpolar\": [{\"marker\": {\"line\": {\"color\": \"#E5ECF6\", \"width\": 0.5}}, \"type\": \"barpolar\"}], \"carpet\": [{\"aaxis\": {\"endlinecolor\": \"#2a3f5f\", \"gridcolor\": \"white\", \"linecolor\": \"white\", \"minorgridcolor\": \"white\", \"startlinecolor\": \"#2a3f5f\"}, \"baxis\": {\"endlinecolor\": \"#2a3f5f\", \"gridcolor\": \"white\", \"linecolor\": \"white\", \"minorgridcolor\": \"white\", \"startlinecolor\": \"#2a3f5f\"}, \"type\": \"carpet\"}], \"choropleth\": [{\"colorbar\": {\"outlinewidth\": 0, \"ticks\": \"\"}, \"type\": \"choropleth\"}], \"contour\": [{\"colorbar\": {\"outlinewidth\": 0, \"ticks\": \"\"}, \"colorscale\": [[0.0, \"#0d0887\"], [0.1111111111111111, \"#46039f\"], [0.2222222222222222, \"#7201a8\"], [0.3333333333333333, \"#9c179e\"], [0.4444444444444444, \"#bd3786\"], [0.5555555555555556, \"#d8576b\"], [0.6666666666666666, \"#ed7953\"], [0.7777777777777778, \"#fb9f3a\"], [0.8888888888888888, \"#fdca26\"], [1.0, \"#f0f921\"]], \"type\": \"contour\"}], \"contourcarpet\": [{\"colorbar\": {\"outlinewidth\": 0, \"ticks\": \"\"}, \"type\": \"contourcarpet\"}], \"heatmap\": [{\"colorbar\": {\"outlinewidth\": 0, \"ticks\": \"\"}, \"colorscale\": [[0.0, \"#0d0887\"], [0.1111111111111111, \"#46039f\"], [0.2222222222222222, \"#7201a8\"], [0.3333333333333333, \"#9c179e\"], [0.4444444444444444, \"#bd3786\"], [0.5555555555555556, \"#d8576b\"], [0.6666666666666666, \"#ed7953\"], [0.7777777777777778, \"#fb9f3a\"], [0.8888888888888888, \"#fdca26\"], [1.0, \"#f0f921\"]], \"type\": \"heatmap\"}], \"heatmapgl\": [{\"colorbar\": {\"outlinewidth\": 0, \"ticks\": \"\"}, \"colorscale\": [[0.0, \"#0d0887\"], [0.1111111111111111, \"#46039f\"], [0.2222222222222222, \"#7201a8\"], [0.3333333333333333, \"#9c179e\"], [0.4444444444444444, \"#bd3786\"], [0.5555555555555556, \"#d8576b\"], [0.6666666666666666, \"#ed7953\"], [0.7777777777777778, \"#fb9f3a\"], [0.8888888888888888, \"#fdca26\"], [1.0, \"#f0f921\"]], \"type\": \"heatmapgl\"}], \"histogram\": [{\"marker\": {\"colorbar\": {\"outlinewidth\": 0, \"ticks\": \"\"}}, \"type\": \"histogram\"}], \"histogram2d\": [{\"colorbar\": {\"outlinewidth\": 0, \"ticks\": \"\"}, \"colorscale\": [[0.0, \"#0d0887\"], [0.1111111111111111, \"#46039f\"], [0.2222222222222222, \"#7201a8\"], [0.3333333333333333, \"#9c179e\"], [0.4444444444444444, \"#bd3786\"], [0.5555555555555556, \"#d8576b\"], [0.6666666666666666, \"#ed7953\"], [0.7777777777777778, \"#fb9f3a\"], [0.8888888888888888, \"#fdca26\"], [1.0, \"#f0f921\"]], \"type\": \"histogram2d\"}], \"histogram2dcontour\": [{\"colorbar\": {\"outlinewidth\": 0, \"ticks\": \"\"}, \"colorscale\": [[0.0, \"#0d0887\"], [0.1111111111111111, \"#46039f\"], [0.2222222222222222, \"#7201a8\"], [0.3333333333333333, \"#9c179e\"], [0.4444444444444444, \"#bd3786\"], [0.5555555555555556, \"#d8576b\"], [0.6666666666666666, \"#ed7953\"], [0.7777777777777778, \"#fb9f3a\"], [0.8888888888888888, \"#fdca26\"], [1.0, \"#f0f921\"]], \"type\": \"histogram2dcontour\"}], \"mesh3d\": [{\"colorbar\": {\"outlinewidth\": 0, \"ticks\": \"\"}, \"type\": \"mesh3d\"}], \"parcoords\": [{\"line\": {\"colorbar\": {\"outlinewidth\": 0, \"ticks\": \"\"}}, \"type\": \"parcoords\"}], \"pie\": [{\"automargin\": true, \"type\": \"pie\"}], \"scatter\": [{\"marker\": {\"colorbar\": {\"outlinewidth\": 0, \"ticks\": \"\"}}, \"type\": \"scatter\"}], \"scatter3d\": [{\"line\": {\"colorbar\": {\"outlinewidth\": 0, \"ticks\": \"\"}}, \"marker\": {\"colorbar\": {\"outlinewidth\": 0, \"ticks\": \"\"}}, \"type\": \"scatter3d\"}], \"scattercarpet\": [{\"marker\": {\"colorbar\": {\"outlinewidth\": 0, \"ticks\": \"\"}}, \"type\": \"scattercarpet\"}], \"scattergeo\": [{\"marker\": {\"colorbar\": {\"outlinewidth\": 0, \"ticks\": \"\"}}, \"type\": \"scattergeo\"}], \"scattergl\": [{\"marker\": {\"colorbar\": {\"outlinewidth\": 0, \"ticks\": \"\"}}, \"type\": \"scattergl\"}], \"scattermapbox\": [{\"marker\": {\"colorbar\": {\"outlinewidth\": 0, \"ticks\": \"\"}}, \"type\": \"scattermapbox\"}], \"scatterpolar\": [{\"marker\": {\"colorbar\": {\"outlinewidth\": 0, \"ticks\": \"\"}}, \"type\": \"scatterpolar\"}], \"scatterpolargl\": [{\"marker\": {\"colorbar\": {\"outlinewidth\": 0, \"ticks\": \"\"}}, \"type\": \"scatterpolargl\"}], \"scatterternary\": [{\"marker\": {\"colorbar\": {\"outlinewidth\": 0, \"ticks\": \"\"}}, \"type\": \"scatterternary\"}], \"surface\": [{\"colorbar\": {\"outlinewidth\": 0, \"ticks\": \"\"}, \"colorscale\": [[0.0, \"#0d0887\"], [0.1111111111111111, \"#46039f\"], [0.2222222222222222, \"#7201a8\"], [0.3333333333333333, \"#9c179e\"], [0.4444444444444444, \"#bd3786\"], [0.5555555555555556, \"#d8576b\"], [0.6666666666666666, \"#ed7953\"], [0.7777777777777778, \"#fb9f3a\"], [0.8888888888888888, \"#fdca26\"], [1.0, \"#f0f921\"]], \"type\": \"surface\"}], \"table\": [{\"cells\": {\"fill\": {\"color\": \"#EBF0F8\"}, \"line\": {\"color\": \"white\"}}, \"header\": {\"fill\": {\"color\": \"#C8D4E3\"}, \"line\": {\"color\": \"white\"}}, \"type\": \"table\"}]}, \"layout\": {\"annotationdefaults\": {\"arrowcolor\": \"#2a3f5f\", \"arrowhead\": 0, \"arrowwidth\": 1}, \"coloraxis\": {\"colorbar\": {\"outlinewidth\": 0, \"ticks\": \"\"}}, \"colorscale\": {\"diverging\": [[0, \"#8e0152\"], [0.1, \"#c51b7d\"], [0.2, \"#de77ae\"], [0.3, \"#f1b6da\"], [0.4, \"#fde0ef\"], [0.5, \"#f7f7f7\"], [0.6, \"#e6f5d0\"], [0.7, \"#b8e186\"], [0.8, \"#7fbc41\"], [0.9, \"#4d9221\"], [1, \"#276419\"]], \"sequential\": [[0.0, \"#0d0887\"], [0.1111111111111111, \"#46039f\"], [0.2222222222222222, \"#7201a8\"], [0.3333333333333333, \"#9c179e\"], [0.4444444444444444, \"#bd3786\"], [0.5555555555555556, \"#d8576b\"], [0.6666666666666666, \"#ed7953\"], [0.7777777777777778, \"#fb9f3a\"], [0.8888888888888888, \"#fdca26\"], [1.0, \"#f0f921\"]], \"sequentialminus\": [[0.0, \"#0d0887\"], [0.1111111111111111, \"#46039f\"], [0.2222222222222222, \"#7201a8\"], [0.3333333333333333, \"#9c179e\"], [0.4444444444444444, \"#bd3786\"], [0.5555555555555556, \"#d8576b\"], [0.6666666666666666, \"#ed7953\"], [0.7777777777777778, \"#fb9f3a\"], [0.8888888888888888, \"#fdca26\"], [1.0, \"#f0f921\"]]}, \"colorway\": [\"#636efa\", \"#EF553B\", \"#00cc96\", \"#ab63fa\", \"#FFA15A\", \"#19d3f3\", \"#FF6692\", \"#B6E880\", \"#FF97FF\", \"#FECB52\"], \"font\": {\"color\": \"#2a3f5f\"}, \"geo\": {\"bgcolor\": \"white\", \"lakecolor\": \"white\", \"landcolor\": \"#E5ECF6\", \"showlakes\": true, \"showland\": true, \"subunitcolor\": \"white\"}, \"hoverlabel\": {\"align\": \"left\"}, \"hovermode\": \"closest\", \"mapbox\": {\"style\": \"light\"}, \"paper_bgcolor\": \"white\", \"plot_bgcolor\": \"#E5ECF6\", \"polar\": {\"angularaxis\": {\"gridcolor\": \"white\", \"linecolor\": \"white\", \"ticks\": \"\"}, \"bgcolor\": \"#E5ECF6\", \"radialaxis\": {\"gridcolor\": \"white\", \"linecolor\": \"white\", \"ticks\": \"\"}}, \"scene\": {\"xaxis\": {\"backgroundcolor\": \"#E5ECF6\", \"gridcolor\": \"white\", \"gridwidth\": 2, \"linecolor\": \"white\", \"showbackground\": true, \"ticks\": \"\", \"zerolinecolor\": \"white\"}, \"yaxis\": {\"backgroundcolor\": \"#E5ECF6\", \"gridcolor\": \"white\", \"gridwidth\": 2, \"linecolor\": \"white\", \"showbackground\": true, \"ticks\": \"\", \"zerolinecolor\": \"white\"}, \"zaxis\": {\"backgroundcolor\": \"#E5ECF6\", \"gridcolor\": \"white\", \"gridwidth\": 2, \"linecolor\": \"white\", \"showbackground\": true, \"ticks\": \"\", \"zerolinecolor\": \"white\"}}, \"shapedefaults\": {\"line\": {\"color\": \"#2a3f5f\"}}, \"ternary\": {\"aaxis\": {\"gridcolor\": \"white\", \"linecolor\": \"white\", \"ticks\": \"\"}, \"baxis\": {\"gridcolor\": \"white\", \"linecolor\": \"white\", \"ticks\": \"\"}, \"bgcolor\": \"#E5ECF6\", \"caxis\": {\"gridcolor\": \"white\", \"linecolor\": \"white\", \"ticks\": \"\"}}, \"title\": {\"x\": 0.05}, \"xaxis\": {\"automargin\": true, \"gridcolor\": \"white\", \"linecolor\": \"white\", \"ticks\": \"\", \"title\": {\"standoff\": 15}, \"zerolinecolor\": \"white\", \"zerolinewidth\": 2}, \"yaxis\": {\"automargin\": true, \"gridcolor\": \"white\", \"linecolor\": \"white\", \"ticks\": \"\", \"title\": {\"standoff\": 15}, \"zerolinecolor\": \"white\", \"zerolinewidth\": 2}}}, \"title\": {\"text\": \"Box Plots\"}, \"xaxis\": {\"anchor\": \"y\", \"domain\": [0.0, 0.45], \"title\": {\"text\": \"NBA_DraftNumber\"}}, \"xaxis2\": {\"anchor\": \"y2\", \"domain\": [0.55, 1.0], \"title\": {\"text\": \"Salary\"}}, \"xaxis3\": {\"anchor\": \"y3\", \"domain\": [0.0, 0.45], \"title\": {\"text\": \"G\"}}, \"xaxis4\": {\"anchor\": \"y4\", \"domain\": [0.55, 1.0], \"title\": {\"text\": \"Age\"}}, \"yaxis\": {\"anchor\": \"x\", \"domain\": [0.575, 1.0]}, \"yaxis2\": {\"anchor\": \"x2\", \"domain\": [0.575, 1.0]}, \"yaxis3\": {\"anchor\": \"x3\", \"domain\": [0.0, 0.425]}, \"yaxis4\": {\"anchor\": \"x4\", \"domain\": [0.0, 0.425]}},\n",
              "                        {\"responsive\": true}\n",
              "                    ).then(function(){\n",
              "                            \n",
              "var gd = document.getElementById('35367dc5-b01c-42e5-8dd7-f59573882213');\n",
              "var x = new MutationObserver(function (mutations, observer) {{\n",
              "        var display = window.getComputedStyle(gd).display;\n",
              "        if (!display || display === 'none') {{\n",
              "            console.log([gd, 'removed!']);\n",
              "            Plotly.purge(gd);\n",
              "            observer.disconnect();\n",
              "        }}\n",
              "}});\n",
              "\n",
              "// Listen for the removal of the full notebook cells\n",
              "var notebookContainer = gd.closest('#notebook-container');\n",
              "if (notebookContainer) {{\n",
              "    x.observe(notebookContainer, {childList: true});\n",
              "}}\n",
              "\n",
              "// Listen for the clearing of the current output cell\n",
              "var outputEl = gd.closest('.output');\n",
              "if (outputEl) {{\n",
              "    x.observe(outputEl, {childList: true});\n",
              "}}\n",
              "\n",
              "                        })\n",
              "                };\n",
              "                \n",
              "            </script>\n",
              "        </div>\n",
              "</body>\n",
              "</html>"
            ]
          },
          "metadata": {
            "tags": []
          }
        }
      ]
    },
    {
      "cell_type": "markdown",
      "metadata": {
        "id": "cBVywFtGCHDX"
      },
      "source": [
        "- In the first box plot of NBA_DraftNumbber we can see that all the data is not very scattered, the data on the mean is more scattered than the others and also that there are no outliers. Most of the players are below average.\n",
        "- In the second boxplot of salaries we can see that there are many outliers in the graph, this means that there are few players who earn much more than the average of what the other players earn, there is also a large dispersion of the data of the salary. most of the players are below average.\n",
        "- In the third box plot of G, which is the number of games that players have played, we can see that there are no outliers, which means that there are no players who have played many more games than the others, and we can also observe that there is greater dispersion of data in the lower part of the median. most of the players are above average.\n",
        "- In the fourth graph, which is the ages, it can be seen that there are few outliers and that there are few players who play at an advanced age. the players are located almost above the mean, which makes the graph slightly asymmetric positive"
      ]
    },
    {
      "cell_type": "code",
      "metadata": {
        "id": "2pAXws2mRgHY",
        "outputId": "84e0f716-2901-4665-cd8f-3d17704625a1",
        "colab": {
          "base_uri": "https://localhost:8080/",
          "height": 717
        }
      },
      "source": [
        "graph_box_plot(df_numeric, 4)"
      ],
      "execution_count": null,
      "outputs": [
        {
          "output_type": "display_data",
          "data": {
            "text/html": [
              "<html>\n",
              "<head><meta charset=\"utf-8\" /></head>\n",
              "<body>\n",
              "    <div>\n",
              "            <script src=\"https://cdnjs.cloudflare.com/ajax/libs/mathjax/2.7.5/MathJax.js?config=TeX-AMS-MML_SVG\"></script><script type=\"text/javascript\">if (window.MathJax) {MathJax.Hub.Config({SVG: {font: \"STIX-Web\"}});}</script>\n",
              "                <script type=\"text/javascript\">window.PlotlyConfig = {MathJaxConfig: 'local'};</script>\n",
              "        <script src=\"https://cdn.plot.ly/plotly-latest.min.js\"></script>    \n",
              "            <div id=\"d104a095-ff3f-48e4-9093-52332729a7e8\" class=\"plotly-graph-div\" style=\"height:700px; width:100%;\"></div>\n",
              "            <script type=\"text/javascript\">\n",
              "                \n",
              "                    window.PLOTLYENV=window.PLOTLYENV || {};\n",
              "                    \n",
              "                if (document.getElementById(\"d104a095-ff3f-48e4-9093-52332729a7e8\")) {\n",
              "                    Plotly.newPlot(\n",
              "                        'd104a095-ff3f-48e4-9093-52332729a7e8',\n",
              "                        [{\"boxmean\": \"sd\", \"name\": \"MP\", \"type\": \"box\", \"xaxis\": \"x2\", \"y\": [87, 937, 1508, 656, 979, 2238, 7, 118, 2200, 430, 428, 1943, 2530, 2131, 1422, 902, 692, 1962, 29, 7, 971, 2471, 45, 72, 1404, 1151, 1607, 1025, 1563, 1964, 584, 897, 518, 307, 1609, 1017, 1366, 648, 1085, 2179, 1050, 172, 1955, 1020, 29, 273, 1535, 2546, 807, 339, 1856, 807, 1205, 34, 2544, 806, 1980, 576, 728, 2359, 474, 2613, 2142, 1651, 428, 2390, 728, 1631, 1773, 2217, 127, 1240, 1059, 1283, 1081, 291, 686, 1455, 385, 2010, 1049, 537, 8, 817, 729, 1725, 2801, 1702, 1160, 1052, 1811, 385, 203, 258, 1576, 1690, 2408, 2185, 668, 163, 1084, 1732, 1324, 478, 212, 391, 1591, 597, 196, 1270, 824, 1008, 2779, 1753, 2018, 1234, 961, 334, 1432, 1577, 2170, 2349, 740, 121, 80, 1389, 1003, 875, 1619, 1352, 2288, 459, 60, 10, 1918, 1307, 72, 472, 732, 1286, 1, 19, 1761, 1190, 159, 2, 1134, 888, 1320, 984, 687, 373, 1778, 835, 1582, 237, 1155, 1264, 702, 11, 1373, 1941, 76, 52, 647, 74, 1501, 1872, 176, 1544, 1353, 1614, 1398, 223, 1838, 1967, 2374, 1241, 778, 581, 1014, 1404, 324, 13, 1339, 708, 8, 404, 1507, 2527, 1780, 2898, 1949, 1367, 70, 782, 1302, 1747, 2416, 1931, 59, 1289, 2387, 2383, 1516, 409, 1906, 1553, 1525, 1391, 2369, 2857, 481, 819, 1556, 2196, 2377, 1789, 461, 2663, 2121, 1720, 3, 134, 137, 210, 2770, 1966, 1587, 4, 1413, 2180, 485, 106, 2099, 275, 2788, 12, 2601, 6, 1929, 979, 1312, 86, 888, 284, 37, 1819, 774, 2029, 536, 1657, 1069, 136, 379, 1335, 1869, 1690, 523, 1912, 38, 520, 1129, 2461, 1916, 1087, 40, 2077, 925, 1574, 25, 1901, 5, 1585, 39, 2166, 1715, 2383, 98, 2062, 778, 584, 762, 276, 1483, 1341, 1661, 9, 626, 1542, 274, 18, 1873, 2449, 1540, 1013, 27, 2414, 1566, 1429, 155, 353, 2007, 6, 621, 2152, 2021, 1603, 336, 401, 1966, 180, 862, 1086, 422, 276, 28, 1096, 1398, 242, 1303, 2561, 182, 951, 1281, 5, 2324, 241, 2698, 64, 825, 118, 18, 1783, 149, 2265, 1615, 69, 1478, 1566, 972, 1755, 1910, 1837, 2468, 1627, 715, 2127, 2209, 1830, 1237, 341, 1808, 783, 1439, 1476, 1587, 2384, 427, 713, 2171, 1957, 1724, 344, 2512, 1711, 1900, 918, 2220, 841, 1458, 1272, 1865, 9, 139, 366, 245, 2044, 2095, 1978, 2078, 17, 2180, 1737, 2616, 1339, 1669, 711, 2321, 395, 1928, 195, 1067, 947, 6, 1529, 1929, 141, 1847, 2229, 148, 1499, 1742, 671, 936, 1124, 356, 321, 152, 2558, 54, 159, 69, 1679, 856, 2226, 2108, 1121, 46, 627, 1955, 1753, 90, 538, 643, 691, 584, 2413, 1781, 476, 165, 1251, 2780, 1930, 1462, 99, 1657, 98, 237, 558, 156, 1975, 381, 2819, 2386, 2089, 1553, 115, 286, 1970, 1428, 2614, 968, 1324, 1433, 1965, 657, 1402, 93, 1624, 2582, 186, 2832, 1326, 216, 1037, 1601, 2541, 1094, 2085, 49, 1950, 101, 1324, 1095, 1030, 70, 462, 2219, 463, 164, 1838, 188], \"yaxis\": \"y2\"}, {\"boxmean\": \"sd\", \"name\": \"PER\", \"type\": \"box\", \"xaxis\": \"x\", \"y\": [0.6, 16.8, 17.3, 14.6, 8.2, 11.5, -4.9, 0.9, 11.1, 20.6, 19.2, 17.1, 15.9, 11.4, 9.8, 7.6, 11.8, 12.1, 17.0, 35.9, 10.6, 23.1, -1.8, 1.8, 14.1, 14.3, 21.2, 15.9, 9.7, 13.0, 10.4, 9.3, 13.0, 15.2, 10.0, 13.7, 18.0, 22.8, 14.8, 12.1, 9.0, 9.8, 8.4, 13.1, 9.5, 8.7, 15.4, 17.4, 7.0, 10.2, 14.4, 11.2, 10.5, 7.7, 14.7, 15.9, 15.4, 10.3, 7.0, 12.3, 14.9, 15.4, 17.7, 12.3, 10.5, 20.8, 9.5, 28.2, 9.1, 16.0, 6.8, 14.3, 8.1, 13.7, 11.6, 15.2, 10.2, 14.5, 14.4, 14.5, 4.0, 9.5, -4.6, 11.1, 17.8, 12.6, 25.0, 20.9, 17.8, 10.4, 17.3, 9.3, 4.1, 12.4, 14.4, 14.7, 12.8, 15.0, 16.8, 6.3, 15.5, 13.6, 13.2, 12.3, 9.3, 10.8, 14.9, 13.4, 4.0, 7.5, 5.2, 18.2, 18.4, 19.0, 12.1, 9.7, 7.4, 12.3, 9.3, 14.9, 8.4, 18.4, 15.5, 4.5, 8.9, 9.5, 8.4, 12.8, 19.7, 17.8, 24.4, 9.1, 2.4, -4.6, 14.3, 10.1, 13.8, 16.2, 17.0, 12.9, 134.1, -2.9, 17.6, 24.9, 13.5, -41.1, 11.7, 10.7, 13.7, 14.6, 13.9, 15.5, 12.6, 10.9, 17.7, 16.8, 12.9, 12.6, 8.7, -0.7, 16.8, 13.3, 38.1, 10.9, 13.9, 5.8, 10.8, 13.3, 10.3, 13.6, 10.1, 10.8, 14.8, 6.3, 14.0, 14.9, 17.3, 12.4, 8.5, 8.8, 10.7, 14.3, 5.9, 5.5, 11.6, 10.2, -15.5, 17.5, 10.1, 20.5, 12.5, 28.5, 15.3, 20.3, 3.0, 12.3, 6.4, 12.4, 25.2, 25.1, 5.9, 19.4, 19.6, 14.4, 13.5, 9.8, 15.7, 20.4, 14.5, 17.5, 16.1, 17.4, 14.6, 14.4, 22.4, 26.2, 13.5, 14.5, 17.4, 20.7, 12.2, 18.0, -31.6, 3.6, 2.9, 26.0, 24.8, 19.1, 11.5, 19.8, 9.8, 10.9, 11.9, 6.7, 19.8, 10.0, 17.4, 3.5, 13.7, -12.5, 11.8, 5.3, 11.2, 7.3, 11.5, 10.6, 15.7, 16.7, 18.7, 12.8, 9.8, 22.3, 13.0, 8.9, 12.0, 18.5, 15.8, 18.4, 16.5, 22.9, 11.7, 10.2, 8.4, 14.3, 13.0, 12.3, 15.6, 23.5, 7.6, 14.5, 16.0, 17.0, 10.4, 15.6, 8.3, 16.1, 14.2, 15.1, 6.9, 13.3, 7.2, 21.8, 8.0, 8.2, 11.2, 17.6, 10.5, -1.9, 8.7, 14.0, 11.4, 7.5, 15.9, 30.2, 11.8, 8.2, 22.6, 16.2, 13.5, 17.0, 3.8, 15.4, 10.3, -2.3, 17.3, 8.5, 15.6, 17.8, 15.6, 15.6, 15.0, 11.6, 12.6, 11.2, 13.5, 6.4, 23.2, 12.9, 9.1, 7.7, 24.1, 16.0, 10.5, 20.2, 14.2, 7.4, 16.8, 8.9, 27.7, 7.4, 14.0, 10.7, 15.0, 13.2, 7.6, 16.6, 10.2, 6.5, 16.2, 6.5, 13.1, 14.0, 9.9, 15.6, 11.9, 14.5, 13.0, 15.3, 19.3, 24.0, 11.6, 16.3, 16.6, 15.3, 15.8, 15.5, 18.7, 20.5, 12.8, 5.8, 16.4, 6.6, 10.5, 6.3, 16.5, 17.3, 16.7, 10.5, 9.1, 16.7, 15.7, 12.8, 18.1, -3.2, 15.9, 12.3, 10.3, 18.8, 12.1, 12.8, 17.3, 24.6, 14.3, 22.7, 21.3, 16.8, 14.9, 6.2, 20.2, 6.2, 11.2, 5.2, 14.2, 21.4, 31.4, 12.8, 18.9, 8.4, 9.4, 16.1, 21.9, 9.7, 11.5, 13.9, 16.2, 15.5, 8.9, 12.9, 4.9, 25.1, 10.7, 16.6, 9.1, 15.4, 12.3, 12.9, 11.2, 11.1, 5.2, 16.0, 24.6, 24.3, 15.8, 17.4, 14.2, 13.7, 10.9, 12.7, 14.2, 14.0, 7.1, 13.2, 17.4, 16.0, 9.1, 8.5, 16.6, 18.2, 10.1, 7.2, 14.0, 13.9, 19.0, 18.7, 13.8, 13.8, 20.0, 5.4, 25.1, 19.6, 13.9, 19.8, 9.2, 15.6, 9.7, 12.9, 5.5, 11.7, 5.4, 13.5, 28.9, 23.2, 13.2, 12.7, 10.9, 10.9, 11.3, 23.0, 14.2, 11.1, 9.2, 12.4, 8.5, 19.4, 9.1, 13.1, 9.3, 19.9, 17.5, 5.7, 6.6, 16.6, 10.1], \"yaxis\": \"y\"}, {\"boxmean\": \"sd\", \"name\": \"TS%\", \"type\": \"box\", \"xaxis\": \"x4\", \"y\": [0.303, 0.608, 0.529, 0.499, 0.48700000000000004, 0.5429999999999999, 0.0, 0.315, 0.5429999999999999, 0.5920000000000001, 0.6709999999999999, 0.523, 0.557, 0.541, 0.512, 0.46399999999999997, 0.551, 0.5820000000000001, 0.73, 0.6, 0.519, 0.5760000000000001, 0.255, 0.252, 0.574, 0.657, 0.561, 0.585, 0.45899999999999996, 0.55, 0.45899999999999996, 0.478, 0.5670000000000001, 0.544, 0.585, 0.573, 0.589, 0.5760000000000001, 0.563, 0.573, 0.5529999999999999, 0.562, 0.584, 0.499, 0.337, 0.514, 0.618, 0.569, 0.511, 0.589, 0.531, 0.47700000000000004, 0.502, 0.473, 0.528, 0.591, 0.524, 0.515, 0.532, 0.544, 0.589, 0.615, 0.541, 0.546, 0.5539999999999999, 0.628, 0.513, 0.675, 0.483, 0.526, 0.385, 0.513, 0.517, 0.526, 0.539, 0.534, 0.506, 0.5529999999999999, 0.5, 0.569, 0.44799999999999995, 0.475, 0.266, 0.526, 0.644, 0.5920000000000001, 0.528, 0.659, 0.545, 0.521, 0.55, 0.504, 0.42700000000000005, 0.623, 0.545, 0.552, 0.562, 0.5329999999999999, 0.5660000000000001, 0.499, 0.516, 0.615, 0.49200000000000005, 0.5539999999999999, 0.546, 0.473, 0.519, 0.6, 0.39799999999999996, 0.51, 0.444, 0.564, 0.5660000000000001, 0.54, 0.562, 0.545, 0.47700000000000004, 0.53, 0.535, 0.5539999999999999, 0.537, 0.601, 0.632, 0.423, 0.5770000000000001, 0.575, 0.496, 0.509, 0.536, 0.5670000000000001, 0.607, 0.5539999999999999, 0.36200000000000004, 0.0, 0.518, 0.562, 0.6659999999999999, 0.5579999999999999, 0.604, 0.598, 1.5, 0.16699999999999998, 0.581, 0.6559999999999999, 0.623, 0.0, 0.564, 0.57, 0.608, 0.599, 0.469, 0.52, 0.534, 0.446, 0.557, 0.6609999999999999, 0.5670000000000001, 0.596, 0.506, 0.41700000000000004, 0.5820000000000001, 0.593, 0.733, 0.6970000000000001, 0.541, 0.302, 0.504, 0.573, 0.40399999999999997, 0.544, 0.5, 0.479, 0.547, 0.498, 0.581, 0.55, 0.531, 0.544, 0.457, 0.504, 0.519, 0.579, 0.446, 0.5, 0.55, 0.5870000000000001, 0.0, 0.6609999999999999, 0.601, 0.575, 0.444, 0.62, 0.551, 0.613, 0.354, 0.509, 0.512, 0.501, 0.573, 0.61, 0.43, 0.623, 0.6, 0.551, 0.6509999999999999, 0.439, 0.579, 0.539, 0.488, 0.5660000000000001, 0.601, 0.579, 0.5429999999999999, 0.581, 0.608, 0.643, 0.57, 0.547, 0.552, 0.5710000000000001, 0.539, 0.615, 0.0, 0.386, 0.375, 0.5720000000000001, 0.645, 0.529, 0.498, 0.5, 0.53, 0.518, 0.523, 0.635, 0.605, 0.517, 0.5660000000000001, 0.25, 0.556, 0.0, 0.48200000000000004, 0.413, 0.579, 0.349, 0.652, 0.515, 0.643, 0.5429999999999999, 0.6459999999999999, 0.555, 0.465, 0.625, 0.573, 0.505, 0.47, 0.507, 0.5870000000000001, 0.624, 0.542, 0.573, 0.521, 0.522, 0.494, 0.622, 0.626, 0.545, 0.51, 0.589, 0.546, 0.531, 0.597, 0.557, 1.0, 0.596, 0.444, 0.55, 0.5710000000000001, 0.586, 0.452, 0.556, 0.42100000000000004, 0.634, 0.531, 0.444, 0.48700000000000004, 0.634, 0.516, 0.0, 0.5539999999999999, 0.53, 0.634, 0.508, 0.575, 0.619, 0.5920000000000001, 0.489, 0.599, 0.5770000000000001, 0.527, 0.648, 0.331, 0.584, 0.531, 0.5, 0.5589999999999999, 0.534, 0.612, 0.545, 0.5670000000000001, 0.599, 0.517, 0.53, 0.508, 0.499, 0.539, 0.48, 0.5579999999999999, 0.614, 0.525, 0.42200000000000004, 0.578, 0.542, 0.5429999999999999, 0.586, 0.536, 0.5, 0.544, 0.44299999999999995, 0.603, 0.53, 0.5579999999999999, 0.415, 0.39399999999999996, 0.581, 0.414, 0.599, 0.536, 0.446, 0.562, 0.429, 0.479, 0.542, 0.519, 0.5770000000000001, 0.5870000000000001, 0.555, 0.511, 0.58, 0.5770000000000001, 0.63, 0.47600000000000003, 0.5379999999999999, 0.5379999999999999, 0.5660000000000001, 0.61, 0.506, 0.6609999999999999, 0.578, 0.498, 0.431, 0.555, 0.512, 0.579, 0.46799999999999997, 0.541, 0.57, 0.575, 0.48700000000000004, 0.526, 0.624, 0.599, 0.561, 0.561, 0.25, 0.6459999999999999, 0.515, 0.488, 0.594, 0.527, 0.475, 0.515, 0.82, 0.55, 0.583, 0.5579999999999999, 0.5770000000000001, 0.484, 0.485, 0.6509999999999999, 0.467, 0.47700000000000004, 0.386, 0.5870000000000001, 0.609, 0.9309999999999999, 0.561, 0.613, 0.5589999999999999, 0.619, 0.5870000000000001, 0.63, 0.542, 0.51, 0.545, 0.616, 0.506, 0.489, 0.496, 0.405, 0.594, 0.765, 0.575, 0.638, 0.613, 0.619, 0.56, 0.505, 0.535, 0.34, 0.602, 0.65, 0.601, 0.478, 0.619, 0.626, 0.578, 0.605, 0.502, 0.523, 0.494, 0.41, 0.55, 0.544, 0.5579999999999999, 0.523, 0.39799999999999996, 0.5579999999999999, 0.486, 0.527, 0.493, 0.51, 0.536, 0.596, 0.5660000000000001, 0.603, 0.564, 0.5479999999999999, 0.425, 0.611, 0.544, 0.556, 0.555, 0.517, 0.564, 0.496, 0.531, 0.508, 0.506, 0.402, 0.652, 0.615, 0.737, 0.509, 0.534, 0.696, 0.5429999999999999, 0.539, 0.556, 0.563, 0.54, 0.6629999999999999, 0.529, 0.52, 0.615, 0.573, 0.526, 0.455, 0.557, 0.5770000000000001, 0.46399999999999997, 0.41100000000000003, 0.531, 0.508], \"yaxis\": \"y4\"}, {\"boxmean\": \"sd\", \"name\": \"3PAr\", \"type\": \"box\", \"xaxis\": \"x3\", \"y\": [0.593, 0.004, 0.193, 0.34600000000000003, 0.387, 0.489, 0.667, 0.33299999999999996, 0.39, 0.075, 0.017, 0.017, 0.409, 0.5770000000000001, 0.484, 0.205, 0.45399999999999996, 0.83, 0.14300000000000002, 0.0, 0.584, 0.324, 0.4, 0.5329999999999999, 0.37200000000000005, 0.0, 0.354, 0.08800000000000001, 0.267, 0.46, 0.265, 0.52, 0.586, 0.349, 0.7979999999999999, 0.0, 0.39799999999999996, 0.262, 0.08900000000000001, 0.713, 0.439, 0.7190000000000001, 0.63, 0.094, 0.091, 0.132, 0.265, 0.369, 0.5920000000000001, 0.212, 0.47600000000000003, 0.335, 0.326, 0.556, 0.212, 0.35, 0.499, 0.48, 0.6920000000000001, 0.46299999999999997, 0.078, 0.05, 0.085, 0.14800000000000002, 0.322, 0.003, 0.44, 0.58, 0.418, 0.508, 0.563, 0.111, 0.262, 0.332, 0.012, 0.221, 0.387, 0.414, 0.147, 0.381, 0.6890000000000001, 0.5, 0.0, 0.251, 0.022000000000000002, 0.706, 0.19399999999999998, 0.0, 0.21899999999999997, 0.41200000000000003, 0.07400000000000001, 0.5589999999999999, 0.5770000000000001, 0.484, 0.447, 0.022000000000000002, 0.6559999999999999, 0.33, 0.14400000000000002, 0.259, 0.294, 0.515, 0.41, 0.313, 0.6609999999999999, 0.22399999999999998, 0.303, 0.41, 0.449, 0.797, 0.47, 0.258, 0.447, 0.18899999999999997, 0.606, 0.638, 0.35600000000000004, 0.504, 0.542, 0.268, 0.6920000000000001, 0.35700000000000004, 0.106, 0.0, 0.688, 0.565, 0.489, 0.282, 0.25, 0.525, 0.27899999999999997, 0.669, 0.611, 1.0, 0.42200000000000004, 0.669, 0.0, 0.01, 0.009000000000000001, 0.49, 1.0, 0.0, 0.24100000000000002, 0.012, 0.789, 0.0, 0.644, 0.0, 0.313, 0.526, 0.305, 0.45799999999999996, 0.004, 0.258, 0.10099999999999999, 0.33299999999999996, 0.40700000000000003, 0.397, 0.517, 0.833, 0.003, 0.537, 0.405, 0.0, 0.6779999999999999, 0.25, 0.401, 0.298, 0.013999999999999999, 0.43700000000000006, 0.424, 0.483, 0.385, 0.298, 0.508, 0.0, 0.309, 0.409, 0.5710000000000001, 0.45799999999999996, 0.435, 0.319, 0.444, 0.0, 0.42, 0.72, 0.0, 0.23399999999999999, 0.506, 0.391, 0.523, 0.254, 0.466, 0.031, 0.375, 0.648, 0.47600000000000003, 0.321, 0.07, 0.374, 0.23800000000000002, 0.037000000000000005, 0.63, 0.418, 0.779, 0.185, 0.13, 0.256, 0.201, 0.0, 0.442, 0.327, 0.0, 0.024, 0.441, 0.337, 0.523, 0.405, 0.006999999999999999, 0.441, 0.465, 0.44, 0.5, 0.273, 0.27899999999999997, 0.315, 0.249, 0.008, 0.271, 0.0, 0.429, 0.574, 0.486, 1.0, 0.05, 0.662, 0.28800000000000003, 0.0, 0.385, 1.0, 0.235, 0.628, 0.53, 0.317, 0.517, 0.195, 0.35700000000000004, 0.337, 0.017, 0.268, 0.317, 0.10800000000000001, 0.45, 0.083, 0.251, 0.249, 0.015, 0.083, 0.027000000000000003, 0.203, 0.16699999999999998, 0.35100000000000003, 0.40399999999999997, 0.652, 0.5760000000000001, 0.528, 0.0, 0.22, 0.557, 0.37, 0.16699999999999998, 0.307, 0.0, 0.245, 0.625, 0.28600000000000003, 0.26899999999999996, 0.293, 0.29, 0.376, 0.213, 0.028999999999999998, 0.746, 0.27699999999999997, 0.193, 0.037000000000000005, 0.198, 1.0, 0.682, 0.26, 0.778, 1.0, 0.308, 0.499, 0.391, 0.508, 0.0, 0.414, 0.425, 0.006, 0.43200000000000005, 0.028999999999999998, 0.506, 0.5, 0.254, 0.645, 0.524, 0.45399999999999996, 0.0, 0.0, 0.115, 0.209, 0.447, 0.195, 0.48200000000000004, 0.44799999999999995, 0.0, 0.008, 0.391, 0.389, 0.004, 0.272, 0.6890000000000001, 0.0, 0.147, 0.5, 0.281, 0.322, 0.099, 0.833, 0.721, 0.0, 0.375, 0.39899999999999997, 0.319, 0.436, 0.47700000000000004, 0.625, 0.478, 0.313, 0.22399999999999998, 0.38, 0.22399999999999998, 0.418, 0.364, 0.414, 0.0, 0.623, 0.364, 0.003, 0.281, 0.0, 0.138, 0.009000000000000001, 0.003, 0.163, 0.17300000000000001, 0.008, 0.22699999999999998, 0.22399999999999998, 0.409, 0.6659999999999999, 0.42, 0.595, 0.40700000000000003, 0.054000000000000006, 0.445, 0.415, 0.34299999999999997, 0.0, 0.301, 0.493, 0.364, 0.5, 0.39399999999999996, 0.16399999999999998, 0.34600000000000003, 0.084, 0.513, 0.33299999999999996, 0.22899999999999998, 0.25, 0.498, 0.34, 0.20199999999999999, 0.342, 0.057, 0.52, 0.0, 0.239, 0.188, 0.49200000000000005, 0.691, 0.022000000000000002, 1.0, 0.121, 0.327, 0.489, 0.746, 0.447, 0.203, 0.474, 0.5720000000000001, 0.434, 0.249, 0.39799999999999996, 0.409, 0.387, 0.462, 0.444, 0.0, 0.0, 0.35700000000000004, 0.512, 0.005, 0.366, 0.315, 0.331, 0.0, 0.019, 0.002, 0.475, 0.19, 0.0, 0.544, 0.517, 0.442, 0.40399999999999997, 0.335, 0.429, 0.14800000000000002, 0.764, 0.319, 0.442, 0.457, 0.5670000000000001, 0.408, 0.024, 0.256, 0.43, 0.52, 0.138, 0.0, 0.35700000000000004, 0.45399999999999996, 0.426, 0.28, 0.69, 0.0, 0.32299999999999995, 0.003, 0.012, 0.424, 0.021, 0.325, 0.445, 0.425, 0.037000000000000005, 0.125, 0.777, 0.113, 0.0, 0.26, 0.331, 0.0, 0.222, 0.36, 0.011000000000000001, 0.12300000000000001, 0.634, 0.615, 0.586, 0.44, 0.003, 0.755, 0.335, 0.0, 0.005, 0.301, 0.47700000000000004, 0.644, 0.39299999999999996, 0.449], \"yaxis\": \"y3\"}],\n",
              "                        {\"height\": 700, \"template\": {\"data\": {\"bar\": [{\"error_x\": {\"color\": \"#2a3f5f\"}, \"error_y\": {\"color\": \"#2a3f5f\"}, \"marker\": {\"line\": {\"color\": \"#E5ECF6\", \"width\": 0.5}}, \"type\": \"bar\"}], \"barpolar\": [{\"marker\": {\"line\": {\"color\": \"#E5ECF6\", \"width\": 0.5}}, \"type\": \"barpolar\"}], \"carpet\": [{\"aaxis\": {\"endlinecolor\": \"#2a3f5f\", \"gridcolor\": \"white\", \"linecolor\": \"white\", \"minorgridcolor\": \"white\", \"startlinecolor\": \"#2a3f5f\"}, \"baxis\": {\"endlinecolor\": \"#2a3f5f\", \"gridcolor\": \"white\", \"linecolor\": \"white\", \"minorgridcolor\": \"white\", \"startlinecolor\": \"#2a3f5f\"}, \"type\": \"carpet\"}], \"choropleth\": [{\"colorbar\": {\"outlinewidth\": 0, \"ticks\": \"\"}, \"type\": \"choropleth\"}], \"contour\": [{\"colorbar\": {\"outlinewidth\": 0, \"ticks\": \"\"}, \"colorscale\": [[0.0, \"#0d0887\"], [0.1111111111111111, \"#46039f\"], [0.2222222222222222, \"#7201a8\"], [0.3333333333333333, \"#9c179e\"], [0.4444444444444444, \"#bd3786\"], [0.5555555555555556, \"#d8576b\"], [0.6666666666666666, \"#ed7953\"], [0.7777777777777778, \"#fb9f3a\"], [0.8888888888888888, \"#fdca26\"], [1.0, \"#f0f921\"]], \"type\": \"contour\"}], \"contourcarpet\": [{\"colorbar\": {\"outlinewidth\": 0, \"ticks\": \"\"}, \"type\": \"contourcarpet\"}], \"heatmap\": [{\"colorbar\": {\"outlinewidth\": 0, \"ticks\": \"\"}, \"colorscale\": [[0.0, \"#0d0887\"], [0.1111111111111111, \"#46039f\"], [0.2222222222222222, \"#7201a8\"], [0.3333333333333333, \"#9c179e\"], [0.4444444444444444, \"#bd3786\"], [0.5555555555555556, \"#d8576b\"], [0.6666666666666666, \"#ed7953\"], [0.7777777777777778, \"#fb9f3a\"], [0.8888888888888888, \"#fdca26\"], [1.0, \"#f0f921\"]], \"type\": \"heatmap\"}], \"heatmapgl\": [{\"colorbar\": {\"outlinewidth\": 0, \"ticks\": \"\"}, \"colorscale\": [[0.0, \"#0d0887\"], [0.1111111111111111, \"#46039f\"], [0.2222222222222222, \"#7201a8\"], [0.3333333333333333, \"#9c179e\"], [0.4444444444444444, \"#bd3786\"], [0.5555555555555556, \"#d8576b\"], [0.6666666666666666, \"#ed7953\"], [0.7777777777777778, \"#fb9f3a\"], [0.8888888888888888, \"#fdca26\"], [1.0, \"#f0f921\"]], \"type\": \"heatmapgl\"}], \"histogram\": [{\"marker\": {\"colorbar\": {\"outlinewidth\": 0, \"ticks\": \"\"}}, \"type\": \"histogram\"}], \"histogram2d\": [{\"colorbar\": {\"outlinewidth\": 0, \"ticks\": \"\"}, \"colorscale\": [[0.0, \"#0d0887\"], [0.1111111111111111, \"#46039f\"], [0.2222222222222222, \"#7201a8\"], [0.3333333333333333, \"#9c179e\"], [0.4444444444444444, \"#bd3786\"], [0.5555555555555556, \"#d8576b\"], [0.6666666666666666, \"#ed7953\"], [0.7777777777777778, \"#fb9f3a\"], [0.8888888888888888, \"#fdca26\"], [1.0, \"#f0f921\"]], \"type\": \"histogram2d\"}], \"histogram2dcontour\": [{\"colorbar\": {\"outlinewidth\": 0, \"ticks\": \"\"}, \"colorscale\": [[0.0, \"#0d0887\"], [0.1111111111111111, \"#46039f\"], [0.2222222222222222, \"#7201a8\"], [0.3333333333333333, \"#9c179e\"], [0.4444444444444444, \"#bd3786\"], [0.5555555555555556, \"#d8576b\"], [0.6666666666666666, \"#ed7953\"], [0.7777777777777778, \"#fb9f3a\"], [0.8888888888888888, \"#fdca26\"], [1.0, \"#f0f921\"]], \"type\": \"histogram2dcontour\"}], \"mesh3d\": [{\"colorbar\": {\"outlinewidth\": 0, \"ticks\": \"\"}, \"type\": \"mesh3d\"}], \"parcoords\": [{\"line\": {\"colorbar\": {\"outlinewidth\": 0, \"ticks\": \"\"}}, \"type\": \"parcoords\"}], \"pie\": [{\"automargin\": true, \"type\": \"pie\"}], \"scatter\": [{\"marker\": {\"colorbar\": {\"outlinewidth\": 0, \"ticks\": \"\"}}, \"type\": \"scatter\"}], \"scatter3d\": [{\"line\": {\"colorbar\": {\"outlinewidth\": 0, \"ticks\": \"\"}}, \"marker\": {\"colorbar\": {\"outlinewidth\": 0, \"ticks\": \"\"}}, \"type\": \"scatter3d\"}], \"scattercarpet\": [{\"marker\": {\"colorbar\": {\"outlinewidth\": 0, \"ticks\": \"\"}}, \"type\": \"scattercarpet\"}], \"scattergeo\": [{\"marker\": {\"colorbar\": {\"outlinewidth\": 0, \"ticks\": \"\"}}, \"type\": \"scattergeo\"}], \"scattergl\": [{\"marker\": {\"colorbar\": {\"outlinewidth\": 0, \"ticks\": \"\"}}, \"type\": \"scattergl\"}], \"scattermapbox\": [{\"marker\": {\"colorbar\": {\"outlinewidth\": 0, \"ticks\": \"\"}}, \"type\": \"scattermapbox\"}], \"scatterpolar\": [{\"marker\": {\"colorbar\": {\"outlinewidth\": 0, \"ticks\": \"\"}}, \"type\": \"scatterpolar\"}], \"scatterpolargl\": [{\"marker\": {\"colorbar\": {\"outlinewidth\": 0, \"ticks\": \"\"}}, \"type\": \"scatterpolargl\"}], \"scatterternary\": [{\"marker\": {\"colorbar\": {\"outlinewidth\": 0, \"ticks\": \"\"}}, \"type\": \"scatterternary\"}], \"surface\": [{\"colorbar\": {\"outlinewidth\": 0, \"ticks\": \"\"}, \"colorscale\": [[0.0, \"#0d0887\"], [0.1111111111111111, \"#46039f\"], [0.2222222222222222, \"#7201a8\"], [0.3333333333333333, \"#9c179e\"], [0.4444444444444444, \"#bd3786\"], [0.5555555555555556, \"#d8576b\"], [0.6666666666666666, \"#ed7953\"], [0.7777777777777778, \"#fb9f3a\"], [0.8888888888888888, \"#fdca26\"], [1.0, \"#f0f921\"]], \"type\": \"surface\"}], \"table\": [{\"cells\": {\"fill\": {\"color\": \"#EBF0F8\"}, \"line\": {\"color\": \"white\"}}, \"header\": {\"fill\": {\"color\": \"#C8D4E3\"}, \"line\": {\"color\": \"white\"}}, \"type\": \"table\"}]}, \"layout\": {\"annotationdefaults\": {\"arrowcolor\": \"#2a3f5f\", \"arrowhead\": 0, \"arrowwidth\": 1}, \"coloraxis\": {\"colorbar\": {\"outlinewidth\": 0, \"ticks\": \"\"}}, \"colorscale\": {\"diverging\": [[0, \"#8e0152\"], [0.1, \"#c51b7d\"], [0.2, \"#de77ae\"], [0.3, \"#f1b6da\"], [0.4, \"#fde0ef\"], [0.5, \"#f7f7f7\"], [0.6, \"#e6f5d0\"], [0.7, \"#b8e186\"], [0.8, \"#7fbc41\"], [0.9, \"#4d9221\"], [1, \"#276419\"]], \"sequential\": [[0.0, \"#0d0887\"], [0.1111111111111111, \"#46039f\"], [0.2222222222222222, \"#7201a8\"], [0.3333333333333333, \"#9c179e\"], [0.4444444444444444, \"#bd3786\"], [0.5555555555555556, \"#d8576b\"], [0.6666666666666666, \"#ed7953\"], [0.7777777777777778, \"#fb9f3a\"], [0.8888888888888888, \"#fdca26\"], [1.0, \"#f0f921\"]], \"sequentialminus\": [[0.0, \"#0d0887\"], [0.1111111111111111, \"#46039f\"], [0.2222222222222222, \"#7201a8\"], [0.3333333333333333, \"#9c179e\"], [0.4444444444444444, \"#bd3786\"], [0.5555555555555556, \"#d8576b\"], [0.6666666666666666, \"#ed7953\"], [0.7777777777777778, \"#fb9f3a\"], [0.8888888888888888, \"#fdca26\"], [1.0, \"#f0f921\"]]}, \"colorway\": [\"#636efa\", \"#EF553B\", \"#00cc96\", \"#ab63fa\", \"#FFA15A\", \"#19d3f3\", \"#FF6692\", \"#B6E880\", \"#FF97FF\", \"#FECB52\"], \"font\": {\"color\": \"#2a3f5f\"}, \"geo\": {\"bgcolor\": \"white\", \"lakecolor\": \"white\", \"landcolor\": \"#E5ECF6\", \"showlakes\": true, \"showland\": true, \"subunitcolor\": \"white\"}, \"hoverlabel\": {\"align\": \"left\"}, \"hovermode\": \"closest\", \"mapbox\": {\"style\": \"light\"}, \"paper_bgcolor\": \"white\", \"plot_bgcolor\": \"#E5ECF6\", \"polar\": {\"angularaxis\": {\"gridcolor\": \"white\", \"linecolor\": \"white\", \"ticks\": \"\"}, \"bgcolor\": \"#E5ECF6\", \"radialaxis\": {\"gridcolor\": \"white\", \"linecolor\": \"white\", \"ticks\": \"\"}}, \"scene\": {\"xaxis\": {\"backgroundcolor\": \"#E5ECF6\", \"gridcolor\": \"white\", \"gridwidth\": 2, \"linecolor\": \"white\", \"showbackground\": true, \"ticks\": \"\", \"zerolinecolor\": \"white\"}, \"yaxis\": {\"backgroundcolor\": \"#E5ECF6\", \"gridcolor\": \"white\", \"gridwidth\": 2, \"linecolor\": \"white\", \"showbackground\": true, \"ticks\": \"\", \"zerolinecolor\": \"white\"}, \"zaxis\": {\"backgroundcolor\": \"#E5ECF6\", \"gridcolor\": \"white\", \"gridwidth\": 2, \"linecolor\": \"white\", \"showbackground\": true, \"ticks\": \"\", \"zerolinecolor\": \"white\"}}, \"shapedefaults\": {\"line\": {\"color\": \"#2a3f5f\"}}, \"ternary\": {\"aaxis\": {\"gridcolor\": \"white\", \"linecolor\": \"white\", \"ticks\": \"\"}, \"baxis\": {\"gridcolor\": \"white\", \"linecolor\": \"white\", \"ticks\": \"\"}, \"bgcolor\": \"#E5ECF6\", \"caxis\": {\"gridcolor\": \"white\", \"linecolor\": \"white\", \"ticks\": \"\"}}, \"title\": {\"x\": 0.05}, \"xaxis\": {\"automargin\": true, \"gridcolor\": \"white\", \"linecolor\": \"white\", \"ticks\": \"\", \"title\": {\"standoff\": 15}, \"zerolinecolor\": \"white\", \"zerolinewidth\": 2}, \"yaxis\": {\"automargin\": true, \"gridcolor\": \"white\", \"linecolor\": \"white\", \"ticks\": \"\", \"title\": {\"standoff\": 15}, \"zerolinecolor\": \"white\", \"zerolinewidth\": 2}}}, \"title\": {\"text\": \"Box Plots\"}, \"xaxis\": {\"anchor\": \"y\", \"domain\": [0.0, 0.45], \"title\": {\"text\": \"PER\"}}, \"xaxis2\": {\"anchor\": \"y2\", \"domain\": [0.55, 1.0], \"title\": {\"text\": \"MP\"}}, \"xaxis3\": {\"anchor\": \"y3\", \"domain\": [0.0, 0.45], \"title\": {\"text\": \"3PAr\"}}, \"xaxis4\": {\"anchor\": \"y4\", \"domain\": [0.55, 1.0], \"title\": {\"text\": \"TS%\"}}, \"yaxis\": {\"anchor\": \"x\", \"domain\": [0.575, 1.0]}, \"yaxis2\": {\"anchor\": \"x2\", \"domain\": [0.575, 1.0]}, \"yaxis3\": {\"anchor\": \"x3\", \"domain\": [0.0, 0.425]}, \"yaxis4\": {\"anchor\": \"x4\", \"domain\": [0.0, 0.425]}},\n",
              "                        {\"responsive\": true}\n",
              "                    ).then(function(){\n",
              "                            \n",
              "var gd = document.getElementById('d104a095-ff3f-48e4-9093-52332729a7e8');\n",
              "var x = new MutationObserver(function (mutations, observer) {{\n",
              "        var display = window.getComputedStyle(gd).display;\n",
              "        if (!display || display === 'none') {{\n",
              "            console.log([gd, 'removed!']);\n",
              "            Plotly.purge(gd);\n",
              "            observer.disconnect();\n",
              "        }}\n",
              "}});\n",
              "\n",
              "// Listen for the removal of the full notebook cells\n",
              "var notebookContainer = gd.closest('#notebook-container');\n",
              "if (notebookContainer) {{\n",
              "    x.observe(notebookContainer, {childList: true});\n",
              "}}\n",
              "\n",
              "// Listen for the clearing of the current output cell\n",
              "var outputEl = gd.closest('.output');\n",
              "if (outputEl) {{\n",
              "    x.observe(outputEl, {childList: true});\n",
              "}}\n",
              "\n",
              "                        })\n",
              "                };\n",
              "                \n",
              "            </script>\n",
              "        </div>\n",
              "</body>\n",
              "</html>"
            ]
          },
          "metadata": {
            "tags": []
          }
        }
      ]
    },
    {
      "cell_type": "markdown",
      "metadata": {
        "id": "EuO9KL1qLYcd"
      },
      "source": [
        "- In the second graph we have found some outliers. Is it really possible to have a PER of 134? We did some research and this [article](https://www.washingtonpost.com/what-is-player-efficiency-rating/37939879-1c08-4cfa-aff3-51c2a2ae060e_note.html) tells us the average is 15 per season, which is something that fits well with our data. We also look for the highest PER per season and none are greater than 31 overall. we have some data above this value, but we will review it at the time of cleaning the data.\n",
        "- In the second graph, which is the mp (minutes played), it can be seen that there are no outliers, and that there is a lot of dispersion between the minutes that the players have played. the graph is slightly asymmetric positive.\n",
        "- In the third graph, that of the 3-point basket attempt rate, it can be seen that there is only 1 outlier, and it can be seen that there is a lot of dispersion between the data, and that half of the players try approximately 34 % of 3-point attempts, and not many 3-point attempts are made. the graph is slightly asymmetric positive.\n",
        "- In the fourth graph, the percentage of real shots, it can be seen that there are many outliers and that the dispersion of the data is little and that there is one person who has not shot and there is another person who takes many more shots than the others players. A TS% of 1.5 is also not possible, so it is an outlier that can also be eliminated. The graph is slightly asymmetric positive."
      ]
    },
    {
      "cell_type": "code",
      "metadata": {
        "id": "1azSs7C_R1py",
        "outputId": "dd0892c0-1649-464b-f738-236d35b49aa9",
        "colab": {
          "base_uri": "https://localhost:8080/",
          "height": 717
        }
      },
      "source": [
        "graph_box_plot(df_numeric, 8)"
      ],
      "execution_count": null,
      "outputs": [
        {
          "output_type": "display_data",
          "data": {
            "text/html": [
              "<html>\n",
              "<head><meta charset=\"utf-8\" /></head>\n",
              "<body>\n",
              "    <div>\n",
              "            <script src=\"https://cdnjs.cloudflare.com/ajax/libs/mathjax/2.7.5/MathJax.js?config=TeX-AMS-MML_SVG\"></script><script type=\"text/javascript\">if (window.MathJax) {MathJax.Hub.Config({SVG: {font: \"STIX-Web\"}});}</script>\n",
              "                <script type=\"text/javascript\">window.PlotlyConfig = {MathJaxConfig: 'local'};</script>\n",
              "        <script src=\"https://cdn.plot.ly/plotly-latest.min.js\"></script>    \n",
              "            <div id=\"c82821fd-abdb-449c-adcf-121a10df4ee9\" class=\"plotly-graph-div\" style=\"height:700px; width:100%;\"></div>\n",
              "            <script type=\"text/javascript\">\n",
              "                \n",
              "                    window.PLOTLYENV=window.PLOTLYENV || {};\n",
              "                    \n",
              "                if (document.getElementById(\"c82821fd-abdb-449c-adcf-121a10df4ee9\")) {\n",
              "                    Plotly.newPlot(\n",
              "                        'c82821fd-abdb-449c-adcf-121a10df4ee9',\n",
              "                        [{\"boxmean\": \"sd\", \"name\": \"FTr\", \"type\": \"box\", \"xaxis\": \"x2\", \"y\": [0.37, 0.337, 0.14, 0.301, 0.146, 0.141, 0.0, 0.214, 0.18600000000000003, 0.555, 0.455, 0.32, 0.221, 0.145, 0.157, 0.215, 0.21899999999999997, 0.113, 1.286, 0.0, 0.126, 0.28, 0.4, 0.133, 0.247, 0.503, 0.258, 0.24100000000000002, 0.183, 0.18600000000000003, 0.10800000000000001, 0.157, 0.138, 0.275, 0.11199999999999999, 0.349, 0.267, 0.133, 0.275, 0.14300000000000002, 0.267, 0.14, 0.11599999999999999, 0.198, 0.182, 0.231, 0.27, 0.17800000000000002, 0.217, 0.294, 0.209, 0.183, 0.293, 0.667, 0.10400000000000001, 0.225, 0.188, 0.198, 0.063, 0.184, 0.478, 0.253, 0.24, 0.096, 0.099, 0.397, 0.126, 0.35, 0.264, 0.32299999999999995, 0.125, 0.258, 0.38299999999999995, 0.244, 0.17600000000000002, 0.34700000000000003, 0.17, 0.268, 0.22899999999999998, 0.155, 0.25, 0.23800000000000002, 2.0, 0.222, 0.48200000000000004, 0.19399999999999998, 0.33899999999999997, 0.682, 0.268, 0.267, 0.436, 0.441, 0.127, 0.094, 0.162, 0.14, 0.162, 0.307, 0.23600000000000002, 0.259, 0.231, 0.09, 0.08, 0.22399999999999998, 0.107, 0.483, 0.094, 0.102, 0.34700000000000003, 0.17300000000000001, 0.111, 0.36, 0.3, 0.331, 0.17800000000000002, 0.165, 0.151, 0.14300000000000002, 0.113, 0.17800000000000002, 0.145, 0.145, 0.33299999999999996, 0.75, 0.188, 0.183, 0.11, 0.248, 0.115, 0.21, 0.317, 0.165, 0.16699999999999998, 0.0, 0.204, 0.12300000000000001, 0.42100000000000004, 0.267, 0.442, 0.13, 0.0, 0.0, 0.33299999999999996, 0.41700000000000004, 0.0, 0.0, 0.128, 0.32799999999999996, 0.14, 0.203, 0.262, 0.39299999999999996, 0.29600000000000004, 0.389, 0.195, 0.139, 0.203, 0.19899999999999998, 0.168, 0.0, 0.48, 0.223, 0.31, 5.332999999999999, 0.158, 0.313, 0.319, 0.18100000000000002, 0.233, 0.162, 0.298, 0.258, 0.255, 0.447, 0.21600000000000003, 0.299, 0.33, 0.285, 0.071, 0.18600000000000003, 0.32299999999999995, 0.174, 0.244, 0.0, 0.157, 0.10400000000000001, 0.0, 0.364, 0.271, 0.36, 0.126, 0.33, 0.188, 0.33799999999999997, 0.0, 0.11199999999999999, 0.21, 0.17300000000000001, 0.303, 0.24, 0.619, 0.33899999999999997, 0.28300000000000003, 0.201, 0.149, 0.444, 0.326, 0.309, 0.17300000000000001, 0.19, 0.087, 0.282, 0.38799999999999996, 0.455, 0.36700000000000005, 0.331, 0.25, 0.297, 0.345, 0.307, 0.299, 0.27, 0.0, 0.182, 0.17600000000000002, 0.342, 0.35100000000000003, 0.292, 0.20800000000000002, 0.0, 0.09, 0.21100000000000002, 0.19699999999999998, 0.28600000000000003, 0.46799999999999997, 0.162, 0.193, 0.0, 0.159, 0.0, 0.29600000000000004, 0.111, 0.243, 0.268, 0.16699999999999998, 0.23199999999999998, 0.0, 0.20199999999999999, 0.235, 0.317, 0.172, 0.31, 0.171, 0.41700000000000004, 0.146, 0.358, 0.318, 0.34, 0.242, 0.442, 1.0, 0.17, 0.124, 0.115, 0.16899999999999998, 0.3, 0.4, 0.446, 0.168, 0.387, 0.583, 0.255, 0.0, 0.49700000000000005, 0.125, 0.303, 0.371, 0.308, 0.0, 0.287, 0.19399999999999998, 0.233, 0.063, 0.17, 0.16699999999999998, 0.387, 0.23399999999999999, 0.0, 0.264, 0.22699999999999998, 0.049, 0.28600000000000003, 0.26, 0.498, 0.314, 0.08199999999999999, 0.41700000000000004, 0.23800000000000002, 0.154, 0.272, 0.068, 0.21, 0.226, 0.0, 0.16399999999999998, 0.098, 0.244, 0.14800000000000002, 0.446, 0.22, 0.151, 0.221, 0.311, 0.379, 0.37200000000000005, 0.259, 0.667, 0.523, 0.124, 0.14800000000000002, 0.33, 0.262, 0.37799999999999995, 0.303, 0.266, 0.0, 0.255, 0.11900000000000001, 0.465, 0.111, 0.146, 0.0, 0.25, 0.273, 0.064, 0.175, 0.16399999999999998, 0.16699999999999998, 0.184, 0.15, 0.301, 0.281, 0.195, 0.21600000000000003, 0.079, 0.21600000000000003, 0.26, 0.251, 0.318, 0.258, 0.24600000000000002, 0.228, 0.252, 0.48700000000000004, 0.387, 0.281, 0.43, 0.642, 0.207, 0.13, 0.28, 0.105, 0.16399999999999998, 0.155, 0.209, 0.34600000000000003, 0.142, 0.168, 0.187, 0.23, 0.166, 0.384, 0.312, 0.0, 0.606, 0.267, 0.462, 0.319, 0.071, 0.18899999999999997, 0.231, 0.5, 0.313, 0.456, 0.39899999999999997, 0.261, 0.228, 0.049, 0.541, 0.248, 0.242, 0.16899999999999998, 0.136, 0.209, 2.0, 0.532, 0.235, 0.064, 0.131, 0.239, 0.35600000000000004, 0.149, 0.114, 0.34, 0.348, 0.209, 0.13, 0.21, 0.10300000000000001, 0.38299999999999995, 0.4, 0.513, 0.14300000000000002, 0.359, 0.34600000000000003, 0.171, 0.161, 0.297, 0.4, 0.545, 0.38299999999999995, 0.28800000000000003, 0.33299999999999996, 0.365, 0.078, 0.115, 0.22699999999999998, 0.162, 0.258, 0.079, 0.24100000000000002, 0.154, 0.168, 0.09, 0.141, 0.2, 0.201, 0.11900000000000001, 0.233, 0.33899999999999997, 0.18, 0.371, 0.324, 0.245, 0.244, 0.161, 0.19899999999999998, 0.034, 0.621, 0.331, 0.455, 0.335, 0.166, 0.526, 0.131, 0.193, 0.17, 0.187, 0.375, 0.278, 0.406, 0.35100000000000003, 0.244, 0.371, 0.08, 0.235, 0.27699999999999997, 0.45299999999999996, 0.353, 0.155, 0.231, 0.14400000000000002, 0.0, 0.638, 0.145, 0.31, 0.5, 0.163, 0.153, 0.26899999999999996, 0.244, 0.263, 0.159], \"yaxis\": \"y2\"}, {\"boxmean\": \"sd\", \"name\": \"ORB%\", \"type\": \"box\", \"xaxis\": \"x\", \"y\": [6.5, 11.0, 7.0, 1.4, 4.9, 1.3, 15.9, 0.0, 5.0, 13.6, 9.1, 7.2, 2.9, 1.4, 2.1, 4.0, 2.6, 1.2, 0.0, 32.3, 1.9, 2.1, 0.0, 4.7, 1.3, 12.2, 3.1, 11.0, 1.5, 1.8, 2.9, 2.1, 9.7, 8.0, 0.8, 13.3, 4.5, 2.1, 10.8, 1.7, 4.2, 0.0, 0.5, 0.6, 15.9, 8.2, 4.7, 2.4, 1.9, 8.7, 1.9, 2.5, 7.3, 3.2, 7.9, 4.1, 3.4, 1.9, 2.8, 2.2, 14.4, 8.0, 6.1, 2.4, 6.9, 16.9, 4.2, 2.7, 1.8, 1.9, 4.4, 8.7, 3.2, 1.9, 3.6, 2.5, 2.0, 1.8, 6.0, 4.3, 3.7, 0.6, 0.0, 5.2, 12.6, 6.2, 5.4, 10.3, 6.7, 2.7, 5.8, 1.4, 0.0, 3.5, 1.6, 8.2, 2.5, 2.2, 8.6, 1.4, 2.7, 1.7, 2.0, 1.7, 1.6, 1.7, 2.0, 1.6, 4.2, 3.1, 1.6, 6.3, 2.7, 7.9, 1.4, 2.7, 2.0, 5.4, 2.6, 5.5, 4.6, 4.7, 4.9, 6.5, 4.2, 3.3, 1.5, 8.6, 6.6, 4.1, 9.2, 0.7, 1.8, 0.0, 3.0, 1.8, 8.9, 11.0, 8.1, 4.2, 0.0, 6.1, 5.9, 9.3, 2.2, 0.0, 1.6, 9.6, 3.7, 6.0, 2.0, 0.0, 4.9, 4.7, 6.3, 5.1, 6.3, 4.0, 2.2, 0.0, 10.3, 3.9, 4.5, 9.1, 3.4, 1.5, 5.1, 4.3, 4.5, 2.7, 1.1, 3.0, 3.4, 3.6, 1.1, 9.8, 3.6, 1.7, 1.1, 2.7, 1.0, 1.9, 1.7, 0.0, 1.6, 1.1, 0.0, 4.8, 1.6, 1.8, 4.2, 3.6, 3.9, 12.3, 4.8, 1.7, 3.7, 3.7, 10.8, 1.9, 1.8, 9.0, 3.1, 4.0, 0.7, 7.4, 4.7, 4.5, 1.6, 11.7, 1.4, 1.7, 13.9, 10.9, 7.2, 1.7, 2.6, 1.6, 16.7, 1.2, 3.1, 5.6, 35.9, 0.8, 1.5, 3.1, 9.3, 9.6, 4.2, 0.0, 2.1, 1.5, 4.9, 0.0, 8.8, 7.4, 2.3, 28.1, 2.9, 0.0, 4.8, 4.6, 3.1, 2.4, 1.7, 7.1, 6.1, 3.3, 9.2, 3.3, 3.3, 12.2, 5.5, 5.5, 8.1, 1.9, 9.1, 11.2, 13.1, 8.4, 18.7, 2.4, 1.4, 1.1, 2.8, 1.6, 16.7, 4.1, 1.8, 2.0, 0.0, 2.7, 22.4, 5.7, 2.8, 1.2, 3.8, 2.2, 2.3, 3.6, 1.3, 10.8, 0.8, 7.4, 1.5, 10.9, 6.6, 0.0, 1.3, 10.8, 1.2, 0.0, 3.6, 1.8, 5.3, 1.4, 16.0, 3.6, 1.3, 12.4, 2.9, 6.3, 3.1, 0.0, 5.3, 1.5, 0.5, 1.0, 11.2, 11.8, 1.5, 2.3, 2.2, 2.3, 1.5, 2.9, 20.4, 13.7, 0.8, 4.0, 14.2, 3.2, 9.2, 11.8, 8.8, 0.0, 2.6, 3.8, 6.8, 1.7, 1.9, 11.1, 12.8, 2.6, 6.1, 1.8, 1.5, 3.3, 1.9, 2.3, 3.4, 2.7, 1.7, 1.4, 2.5, 7.6, 11.0, 1.3, 2.6, 16.6, 2.4, 15.2, 3.8, 9.4, 13.9, 3.8, 8.9, 10.9, 3.0, 0.6, 4.1, 1.9, 2.6, 5.0, 2.2, 10.5, 1.3, 1.0, 2.3, 9.0, 7.4, 1.0, 1.5, 0.0, 4.0, 4.0, 9.6, 10.6, 2.4, 2.6, 2.4, 6.6, 5.0, 6.8, 2.4, 3.8, 7.0, 1.2, 15.0, 2.3, 1.6, 1.1, 1.9, 7.7, 0.0, 5.4, 2.1, 2.4, 1.0, 7.5, 1.6, 5.1, 2.6, 1.5, 10.7, 2.7, 2.2, 3.1, 3.8, 2.6, 9.0, 10.8, 1.7, 1.9, 8.8, 1.4, 2.1, 3.7, 7.5, 11.3, 13.5, 2.3, 8.9, 8.8, 1.9, 2.3, 2.7, 2.9, 3.1, 3.3, 10.1, 1.6, 1.9, 2.8, 0.8, 7.7, 4.7, 10.4, 3.8, 1.2, 2.3, 3.1, 9.8, 2.3, 1.4, 1.5, 10.3, 0.0, 13.9, 4.1, 10.7, 5.9, 3.6, 9.7, 1.7, 1.5, 0.7, 9.1, 2.3, 3.1, 7.8, 13.5, 3.0, 2.0, 12.9, 7.7, 3.8, 16.5, 11.7, 1.3, 0.0, 5.1, 7.9, 13.4, 2.3, 2.0, 4.5, 7.4, 4.8, 2.4, 1.3, 5.2, 4.3], \"yaxis\": \"y\"}, {\"boxmean\": \"sd\", \"name\": \"DRB%\", \"type\": \"box\", \"xaxis\": \"x4\", \"y\": [16.8, 25.0, 23.8, 14.4, 18.3, 11.3, 15.4, 5.0, 14.0, 25.2, 21.7, 21.7, 14.2, 9.1, 14.0, 11.8, 6.9, 10.9, 18.6, 17.0, 14.9, 15.1, 2.4, 10.9, 9.4, 26.9, 16.3, 19.6, 6.8, 11.5, 11.6, 13.2, 17.7, 14.8, 7.7, 23.6, 23.8, 8.0, 18.7, 13.0, 8.3, 18.5, 7.3, 9.3, 27.2, 10.4, 11.0, 15.6, 7.5, 18.7, 11.2, 12.7, 14.4, 15.6, 14.1, 18.5, 16.2, 11.6, 3.9, 15.4, 19.9, 16.5, 10.6, 11.5, 13.4, 13.9, 17.6, 14.4, 13.2, 10.3, 12.4, 18.2, 10.1, 11.9, 8.9, 16.5, 10.1, 9.9, 14.0, 21.2, 11.0, 14.9, 0.0, 15.5, 25.3, 15.4, 25.3, 27.5, 19.5, 20.2, 19.8, 7.2, 8.2, 8.3, 9.8, 10.2, 15.3, 15.2, 22.0, 10.4, 9.3, 8.3, 11.1, 9.4, 9.9, 9.1, 14.4, 10.1, 10.7, 17.2, 15.9, 18.3, 15.0, 30.3, 7.0, 14.5, 7.1, 9.4, 9.0, 18.8, 17.4, 18.0, 23.9, 26.1, 11.2, 9.9, 10.8, 30.1, 27.6, 24.0, 27.7, 12.6, 8.0, 33.5, 13.8, 7.5, 20.7, 29.1, 18.5, 19.1, 0.0, 5.9, 20.1, 17.1, 14.8, 0.0, 10.5, 18.5, 15.8, 18.3, 12.2, 8.6, 13.2, 13.4, 21.5, 24.2, 14.8, 9.9, 8.4, 10.2, 21.0, 16.4, 4.7, 29.3, 18.7, 8.0, 22.8, 19.3, 10.0, 16.0, 12.0, 9.8, 18.7, 4.7, 7.1, 24.1, 25.4, 10.1, 8.1, 11.0, 10.0, 10.8, 10.7, 0.0, 11.5, 14.1, 28.2, 18.6, 11.8, 6.7, 17.3, 22.3, 23.6, 21.6, 0.0, 10.2, 10.5, 21.2, 17.1, 10.8, 17.5, 28.0, 16.1, 17.4, 10.8, 17.9, 17.8, 18.1, 14.3, 27.8, 10.3, 15.2, 19.6, 15.4, 30.3, 19.4, 14.4, 13.9, 20.8, 8.8, 15.5, 21.4, 0.0, 10.8, 10.5, 19.1, 30.9, 26.8, 20.4, 0.0, 12.9, 12.6, 13.9, 24.0, 22.8, 14.7, 10.9, 8.8, 8.9, 0.0, 14.2, 14.0, 16.0, 10.1, 8.3, 25.3, 2.8, 9.2, 19.2, 9.7, 17.2, 30.3, 19.5, 20.7, 18.7, 9.9, 21.6, 23.0, 22.8, 29.8, 12.4, 10.8, 14.7, 14.1, 11.3, 11.3, 22.1, 12.9, 7.3, 9.6, 0.0, 15.7, 0.0, 16.1, 26.4, 9.4, 11.5, 15.7, 16.0, 14.3, 10.4, 18.5, 6.5, 13.9, 11.9, 17.7, 15.8, 12.0, 13.4, 24.4, 11.4, 11.6, 17.2, 15.4, 11.1, 9.5, 21.2, 9.7, 5.5, 16.1, 7.0, 19.4, 11.4, 0.0, 16.4, 10.0, 8.3, 13.3, 20.2, 23.7, 10.8, 13.1, 6.3, 6.8, 10.1, 13.6, 16.1, 17.0, 8.4, 24.2, 36.9, 17.2, 15.4, 25.2, 22.2, 21.6, 12.0, 8.4, 25.1, 10.7, 14.0, 24.3, 18.8, 8.9, 11.7, 6.8, 9.6, 13.6, 11.7, 9.2, 12.1, 14.4, 11.5, 9.5, 7.5, 17.5, 27.4, 7.6, 11.5, 30.6, 11.3, 21.9, 12.8, 11.4, 28.6, 14.7, 21.1, 33.4, 7.7, 18.6, 21.1, 16.2, 10.2, 13.0, 10.1, 25.3, 25.1, 8.5, 10.1, 21.7, 28.1, 9.8, 12.7, 11.8, 16.9, 6.0, 7.8, 18.4, 18.3, 11.8, 8.8, 0.0, 18.4, 31.0, 10.4, 11.5, 22.6, 10.8, 37.6, 15.8, 9.7, 16.8, 13.9, 18.5, 0.0, 16.2, 7.6, 9.6, 7.9, 16.7, 11.4, 14.5, 12.9, 14.8, 21.2, 14.2, 15.2, 15.7, 8.1, 10.9, 11.6, 13.0, 13.6, 8.3, 16.7, 9.1, 11.6, 10.3, 25.4, 19.4, 31.0, 17.0, 22.6, 29.7, 19.8, 13.1, 17.0, 17.8, 12.1, 9.5, 20.3, 10.9, 9.9, 15.1, 7.3, 15.6, 13.1, 25.4, 13.1, 12.2, 13.5, 13.8, 19.3, 11.4, 10.9, 10.7, 22.3, 6.8, 29.8, 19.8, 23.9, 19.3, 11.4, 21.7, 7.3, 6.3, 10.5, 22.3, 12.2, 12.6, 24.9, 18.4, 10.7, 9.7, 25.5, 12.2, 12.5, 36.6, 18.3, 14.3, 13.5, 22.3, 11.1, 27.2, 8.8, 18.4, 29.6, 25.3, 20.1, 12.1, 12.6, 21.8, 6.2], \"yaxis\": \"y4\"}, {\"boxmean\": \"sd\", \"name\": \"TRB%\", \"type\": \"box\", \"xaxis\": \"x3\", \"y\": [11.7, 18.5, 15.0, 7.7, 11.7, 6.1, 15.7, 2.5, 9.5, 19.3, 15.5, 14.1, 8.6, 5.2, 8.1, 7.9, 4.7, 6.1, 9.4, 24.8, 8.1, 8.7, 1.2, 7.8, 5.3, 19.4, 9.5, 15.2, 4.1, 6.6, 7.3, 7.7, 13.7, 11.4, 4.2, 18.5, 14.2, 5.1, 14.8, 7.4, 6.2, 9.3, 4.0, 4.9, 21.6, 9.4, 7.8, 8.9, 4.8, 13.6, 6.6, 7.7, 10.9, 9.4, 11.1, 11.4, 9.9, 6.7, 3.3, 8.8, 17.1, 12.2, 8.3, 7.1, 10.2, 15.5, 10.9, 8.9, 7.4, 6.1, 8.6, 13.2, 6.7, 6.8, 6.4, 9.4, 6.1, 5.9, 10.0, 12.9, 7.4, 7.7, 0.0, 10.4, 18.8, 10.8, 15.0, 19.0, 13.1, 11.5, 12.7, 4.3, 4.1, 5.9, 5.8, 9.2, 9.1, 8.8, 15.5, 5.9, 5.9, 4.9, 6.4, 5.6, 5.8, 5.5, 8.4, 6.2, 7.4, 10.1, 8.5, 12.3, 8.7, 19.0, 4.1, 8.4, 4.8, 7.4, 5.8, 12.2, 11.0, 11.4, 15.1, 16.6, 7.7, 6.6, 6.2, 19.2, 17.0, 14.1, 18.4, 6.6, 4.7, 16.8, 8.3, 4.8, 14.6, 19.8, 13.3, 11.6, 0.0, 6.0, 13.1, 13.3, 8.5, 0.0, 6.1, 14.0, 9.8, 12.2, 7.0, 4.2, 9.0, 8.9, 13.9, 14.8, 10.4, 7.0, 5.3, 5.1, 15.6, 10.0, 4.6, 19.3, 11.0, 4.7, 13.8, 11.8, 7.4, 9.3, 6.4, 6.4, 11.2, 4.2, 4.1, 17.0, 14.2, 5.9, 4.5, 6.9, 5.5, 6.4, 6.0, 0.0, 6.4, 7.6, 13.8, 11.8, 6.7, 4.3, 10.8, 13.1, 13.4, 17.0, 2.3, 5.8, 7.1, 12.6, 14.0, 6.4, 9.4, 18.6, 9.7, 10.7, 5.8, 12.5, 11.2, 11.3, 7.8, 19.3, 6.2, 8.5, 16.7, 13.3, 18.9, 11.2, 8.5, 7.7, 18.7, 4.9, 9.3, 13.5, 18.4, 5.6, 5.9, 11.1, 20.0, 18.3, 12.3, 0.0, 7.2, 6.8, 9.6, 11.7, 15.8, 11.1, 6.8, 18.1, 5.9, 0.0, 9.4, 9.1, 9.6, 6.2, 5.0, 16.3, 4.4, 6.3, 14.6, 6.5, 10.2, 21.4, 12.6, 13.0, 13.3, 5.9, 15.4, 17.1, 17.9, 19.5, 15.5, 6.7, 8.1, 7.7, 7.0, 6.5, 19.4, 8.5, 4.7, 5.7, 0.0, 9.1, 11.2, 10.7, 14.3, 5.3, 7.7, 9.1, 9.1, 9.0, 5.9, 14.9, 3.6, 10.7, 6.7, 14.3, 11.1, 6.1, 7.3, 17.4, 6.4, 6.0, 10.4, 8.6, 8.1, 5.6, 18.5, 6.6, 3.4, 14.3, 4.9, 12.8, 7.3, 0.0, 10.9, 5.8, 4.5, 7.0, 15.7, 17.6, 6.1, 7.7, 4.2, 4.5, 5.7, 8.3, 18.2, 15.4, 4.7, 13.9, 25.6, 10.0, 12.4, 18.4, 15.4, 11.0, 7.3, 6.1, 16.0, 6.1, 8.0, 17.4, 15.8, 5.7, 8.9, 4.3, 5.4, 8.6, 6.9, 5.8, 7.5, 8.4, 6.6, 5.4, 5.1, 12.6, 19.0, 4.5, 7.1, 23.7, 6.8, 18.7, 8.3, 10.4, 21.3, 9.3, 14.8, 21.9, 5.3, 9.4, 13.2, 8.9, 6.3, 8.9, 6.2, 18.0, 12.8, 4.7, 6.1, 15.2, 17.8, 5.3, 7.0, 5.9, 10.4, 5.1, 8.7, 14.5, 10.0, 7.1, 5.6, 3.2, 11.7, 19.3, 6.5, 7.7, 14.7, 6.1, 26.5, 9.1, 5.5, 8.8, 7.8, 13.5, 0.0, 10.6, 4.9, 6.0, 4.6, 12.3, 6.5, 9.9, 7.7, 8.3, 16.1, 8.4, 8.7, 9.4, 6.0, 6.8, 10.4, 11.8, 7.7, 5.1, 12.6, 5.3, 6.9, 7.0, 16.4, 15.3, 22.3, 9.7, 15.7, 19.6, 11.0, 7.5, 10.0, 10.1, 7.6, 6.3, 15.2, 6.3, 5.9, 8.7, 4.1, 11.5, 8.9, 17.9, 8.4, 6.7, 7.9, 8.5, 14.4, 6.9, 6.2, 5.9, 16.1, 3.4, 21.7, 11.9, 17.3, 12.8, 7.4, 15.7, 4.5, 4.0, 5.5, 15.8, 7.2, 7.7, 16.6, 16.0, 6.8, 5.7, 19.3, 9.9, 8.5, 26.3, 15.1, 7.7, 6.9, 13.8, 9.5, 20.1, 5.5, 10.3, 16.8, 16.4, 12.6, 7.3, 6.8, 13.4, 5.2], \"yaxis\": \"y3\"}],\n",
              "                        {\"height\": 700, \"template\": {\"data\": {\"bar\": [{\"error_x\": {\"color\": \"#2a3f5f\"}, \"error_y\": {\"color\": \"#2a3f5f\"}, \"marker\": {\"line\": {\"color\": \"#E5ECF6\", \"width\": 0.5}}, \"type\": \"bar\"}], \"barpolar\": [{\"marker\": {\"line\": {\"color\": \"#E5ECF6\", \"width\": 0.5}}, \"type\": \"barpolar\"}], \"carpet\": [{\"aaxis\": {\"endlinecolor\": \"#2a3f5f\", \"gridcolor\": \"white\", \"linecolor\": \"white\", \"minorgridcolor\": \"white\", \"startlinecolor\": \"#2a3f5f\"}, \"baxis\": {\"endlinecolor\": \"#2a3f5f\", \"gridcolor\": \"white\", \"linecolor\": \"white\", \"minorgridcolor\": \"white\", \"startlinecolor\": \"#2a3f5f\"}, \"type\": \"carpet\"}], \"choropleth\": [{\"colorbar\": {\"outlinewidth\": 0, \"ticks\": \"\"}, \"type\": \"choropleth\"}], \"contour\": [{\"colorbar\": {\"outlinewidth\": 0, \"ticks\": \"\"}, \"colorscale\": [[0.0, \"#0d0887\"], [0.1111111111111111, \"#46039f\"], [0.2222222222222222, \"#7201a8\"], [0.3333333333333333, \"#9c179e\"], [0.4444444444444444, \"#bd3786\"], [0.5555555555555556, \"#d8576b\"], [0.6666666666666666, \"#ed7953\"], [0.7777777777777778, \"#fb9f3a\"], [0.8888888888888888, \"#fdca26\"], [1.0, \"#f0f921\"]], \"type\": \"contour\"}], \"contourcarpet\": [{\"colorbar\": {\"outlinewidth\": 0, \"ticks\": \"\"}, \"type\": \"contourcarpet\"}], \"heatmap\": [{\"colorbar\": {\"outlinewidth\": 0, \"ticks\": \"\"}, \"colorscale\": [[0.0, \"#0d0887\"], [0.1111111111111111, \"#46039f\"], [0.2222222222222222, \"#7201a8\"], [0.3333333333333333, \"#9c179e\"], [0.4444444444444444, \"#bd3786\"], [0.5555555555555556, \"#d8576b\"], [0.6666666666666666, \"#ed7953\"], [0.7777777777777778, \"#fb9f3a\"], [0.8888888888888888, \"#fdca26\"], [1.0, \"#f0f921\"]], \"type\": \"heatmap\"}], \"heatmapgl\": [{\"colorbar\": {\"outlinewidth\": 0, \"ticks\": \"\"}, \"colorscale\": [[0.0, \"#0d0887\"], [0.1111111111111111, \"#46039f\"], [0.2222222222222222, \"#7201a8\"], [0.3333333333333333, \"#9c179e\"], [0.4444444444444444, \"#bd3786\"], [0.5555555555555556, \"#d8576b\"], [0.6666666666666666, \"#ed7953\"], [0.7777777777777778, \"#fb9f3a\"], [0.8888888888888888, \"#fdca26\"], [1.0, \"#f0f921\"]], \"type\": \"heatmapgl\"}], \"histogram\": [{\"marker\": {\"colorbar\": {\"outlinewidth\": 0, \"ticks\": \"\"}}, \"type\": \"histogram\"}], \"histogram2d\": [{\"colorbar\": {\"outlinewidth\": 0, \"ticks\": \"\"}, \"colorscale\": [[0.0, \"#0d0887\"], [0.1111111111111111, \"#46039f\"], [0.2222222222222222, \"#7201a8\"], [0.3333333333333333, \"#9c179e\"], [0.4444444444444444, \"#bd3786\"], [0.5555555555555556, \"#d8576b\"], [0.6666666666666666, \"#ed7953\"], [0.7777777777777778, \"#fb9f3a\"], [0.8888888888888888, \"#fdca26\"], [1.0, \"#f0f921\"]], \"type\": \"histogram2d\"}], \"histogram2dcontour\": [{\"colorbar\": {\"outlinewidth\": 0, \"ticks\": \"\"}, \"colorscale\": [[0.0, \"#0d0887\"], [0.1111111111111111, \"#46039f\"], [0.2222222222222222, \"#7201a8\"], [0.3333333333333333, \"#9c179e\"], [0.4444444444444444, \"#bd3786\"], [0.5555555555555556, \"#d8576b\"], [0.6666666666666666, \"#ed7953\"], [0.7777777777777778, \"#fb9f3a\"], [0.8888888888888888, \"#fdca26\"], [1.0, \"#f0f921\"]], \"type\": \"histogram2dcontour\"}], \"mesh3d\": [{\"colorbar\": {\"outlinewidth\": 0, \"ticks\": \"\"}, \"type\": \"mesh3d\"}], \"parcoords\": [{\"line\": {\"colorbar\": {\"outlinewidth\": 0, \"ticks\": \"\"}}, \"type\": \"parcoords\"}], \"pie\": [{\"automargin\": true, \"type\": \"pie\"}], \"scatter\": [{\"marker\": {\"colorbar\": {\"outlinewidth\": 0, \"ticks\": \"\"}}, \"type\": \"scatter\"}], \"scatter3d\": [{\"line\": {\"colorbar\": {\"outlinewidth\": 0, \"ticks\": \"\"}}, \"marker\": {\"colorbar\": {\"outlinewidth\": 0, \"ticks\": \"\"}}, \"type\": \"scatter3d\"}], \"scattercarpet\": [{\"marker\": {\"colorbar\": {\"outlinewidth\": 0, \"ticks\": \"\"}}, \"type\": \"scattercarpet\"}], \"scattergeo\": [{\"marker\": {\"colorbar\": {\"outlinewidth\": 0, \"ticks\": \"\"}}, \"type\": \"scattergeo\"}], \"scattergl\": [{\"marker\": {\"colorbar\": {\"outlinewidth\": 0, \"ticks\": \"\"}}, \"type\": \"scattergl\"}], \"scattermapbox\": [{\"marker\": {\"colorbar\": {\"outlinewidth\": 0, \"ticks\": \"\"}}, \"type\": \"scattermapbox\"}], \"scatterpolar\": [{\"marker\": {\"colorbar\": {\"outlinewidth\": 0, \"ticks\": \"\"}}, \"type\": \"scatterpolar\"}], \"scatterpolargl\": [{\"marker\": {\"colorbar\": {\"outlinewidth\": 0, \"ticks\": \"\"}}, \"type\": \"scatterpolargl\"}], \"scatterternary\": [{\"marker\": {\"colorbar\": {\"outlinewidth\": 0, \"ticks\": \"\"}}, \"type\": \"scatterternary\"}], \"surface\": [{\"colorbar\": {\"outlinewidth\": 0, \"ticks\": \"\"}, \"colorscale\": [[0.0, \"#0d0887\"], [0.1111111111111111, \"#46039f\"], [0.2222222222222222, \"#7201a8\"], [0.3333333333333333, \"#9c179e\"], [0.4444444444444444, \"#bd3786\"], [0.5555555555555556, \"#d8576b\"], [0.6666666666666666, \"#ed7953\"], [0.7777777777777778, \"#fb9f3a\"], [0.8888888888888888, \"#fdca26\"], [1.0, \"#f0f921\"]], \"type\": \"surface\"}], \"table\": [{\"cells\": {\"fill\": {\"color\": \"#EBF0F8\"}, \"line\": {\"color\": \"white\"}}, \"header\": {\"fill\": {\"color\": \"#C8D4E3\"}, \"line\": {\"color\": \"white\"}}, \"type\": \"table\"}]}, \"layout\": {\"annotationdefaults\": {\"arrowcolor\": \"#2a3f5f\", \"arrowhead\": 0, \"arrowwidth\": 1}, \"coloraxis\": {\"colorbar\": {\"outlinewidth\": 0, \"ticks\": \"\"}}, \"colorscale\": {\"diverging\": [[0, \"#8e0152\"], [0.1, \"#c51b7d\"], [0.2, \"#de77ae\"], [0.3, \"#f1b6da\"], [0.4, \"#fde0ef\"], [0.5, \"#f7f7f7\"], [0.6, \"#e6f5d0\"], [0.7, \"#b8e186\"], [0.8, \"#7fbc41\"], [0.9, \"#4d9221\"], [1, \"#276419\"]], \"sequential\": [[0.0, \"#0d0887\"], [0.1111111111111111, \"#46039f\"], [0.2222222222222222, \"#7201a8\"], [0.3333333333333333, \"#9c179e\"], [0.4444444444444444, \"#bd3786\"], [0.5555555555555556, \"#d8576b\"], [0.6666666666666666, \"#ed7953\"], [0.7777777777777778, \"#fb9f3a\"], [0.8888888888888888, \"#fdca26\"], [1.0, \"#f0f921\"]], \"sequentialminus\": [[0.0, \"#0d0887\"], [0.1111111111111111, \"#46039f\"], [0.2222222222222222, \"#7201a8\"], [0.3333333333333333, \"#9c179e\"], [0.4444444444444444, \"#bd3786\"], [0.5555555555555556, \"#d8576b\"], [0.6666666666666666, \"#ed7953\"], [0.7777777777777778, \"#fb9f3a\"], [0.8888888888888888, \"#fdca26\"], [1.0, \"#f0f921\"]]}, \"colorway\": [\"#636efa\", \"#EF553B\", \"#00cc96\", \"#ab63fa\", \"#FFA15A\", \"#19d3f3\", \"#FF6692\", \"#B6E880\", \"#FF97FF\", \"#FECB52\"], \"font\": {\"color\": \"#2a3f5f\"}, \"geo\": {\"bgcolor\": \"white\", \"lakecolor\": \"white\", \"landcolor\": \"#E5ECF6\", \"showlakes\": true, \"showland\": true, \"subunitcolor\": \"white\"}, \"hoverlabel\": {\"align\": \"left\"}, \"hovermode\": \"closest\", \"mapbox\": {\"style\": \"light\"}, \"paper_bgcolor\": \"white\", \"plot_bgcolor\": \"#E5ECF6\", \"polar\": {\"angularaxis\": {\"gridcolor\": \"white\", \"linecolor\": \"white\", \"ticks\": \"\"}, \"bgcolor\": \"#E5ECF6\", \"radialaxis\": {\"gridcolor\": \"white\", \"linecolor\": \"white\", \"ticks\": \"\"}}, \"scene\": {\"xaxis\": {\"backgroundcolor\": \"#E5ECF6\", \"gridcolor\": \"white\", \"gridwidth\": 2, \"linecolor\": \"white\", \"showbackground\": true, \"ticks\": \"\", \"zerolinecolor\": \"white\"}, \"yaxis\": {\"backgroundcolor\": \"#E5ECF6\", \"gridcolor\": \"white\", \"gridwidth\": 2, \"linecolor\": \"white\", \"showbackground\": true, \"ticks\": \"\", \"zerolinecolor\": \"white\"}, \"zaxis\": {\"backgroundcolor\": \"#E5ECF6\", \"gridcolor\": \"white\", \"gridwidth\": 2, \"linecolor\": \"white\", \"showbackground\": true, \"ticks\": \"\", \"zerolinecolor\": \"white\"}}, \"shapedefaults\": {\"line\": {\"color\": \"#2a3f5f\"}}, \"ternary\": {\"aaxis\": {\"gridcolor\": \"white\", \"linecolor\": \"white\", \"ticks\": \"\"}, \"baxis\": {\"gridcolor\": \"white\", \"linecolor\": \"white\", \"ticks\": \"\"}, \"bgcolor\": \"#E5ECF6\", \"caxis\": {\"gridcolor\": \"white\", \"linecolor\": \"white\", \"ticks\": \"\"}}, \"title\": {\"x\": 0.05}, \"xaxis\": {\"automargin\": true, \"gridcolor\": \"white\", \"linecolor\": \"white\", \"ticks\": \"\", \"title\": {\"standoff\": 15}, \"zerolinecolor\": \"white\", \"zerolinewidth\": 2}, \"yaxis\": {\"automargin\": true, \"gridcolor\": \"white\", \"linecolor\": \"white\", \"ticks\": \"\", \"title\": {\"standoff\": 15}, \"zerolinecolor\": \"white\", \"zerolinewidth\": 2}}}, \"title\": {\"text\": \"Box Plots\"}, \"xaxis\": {\"anchor\": \"y\", \"domain\": [0.0, 0.45], \"title\": {\"text\": \"ORB%\"}}, \"xaxis2\": {\"anchor\": \"y2\", \"domain\": [0.55, 1.0], \"title\": {\"text\": \"FTr\"}}, \"xaxis3\": {\"anchor\": \"y3\", \"domain\": [0.0, 0.45], \"title\": {\"text\": \"TRB%\"}}, \"xaxis4\": {\"anchor\": \"y4\", \"domain\": [0.55, 1.0], \"title\": {\"text\": \"DRB%\"}}, \"yaxis\": {\"anchor\": \"x\", \"domain\": [0.575, 1.0]}, \"yaxis2\": {\"anchor\": \"x2\", \"domain\": [0.575, 1.0]}, \"yaxis3\": {\"anchor\": \"x3\", \"domain\": [0.0, 0.425]}, \"yaxis4\": {\"anchor\": \"x4\", \"domain\": [0.0, 0.425]}},\n",
              "                        {\"responsive\": true}\n",
              "                    ).then(function(){\n",
              "                            \n",
              "var gd = document.getElementById('c82821fd-abdb-449c-adcf-121a10df4ee9');\n",
              "var x = new MutationObserver(function (mutations, observer) {{\n",
              "        var display = window.getComputedStyle(gd).display;\n",
              "        if (!display || display === 'none') {{\n",
              "            console.log([gd, 'removed!']);\n",
              "            Plotly.purge(gd);\n",
              "            observer.disconnect();\n",
              "        }}\n",
              "}});\n",
              "\n",
              "// Listen for the removal of the full notebook cells\n",
              "var notebookContainer = gd.closest('#notebook-container');\n",
              "if (notebookContainer) {{\n",
              "    x.observe(notebookContainer, {childList: true});\n",
              "}}\n",
              "\n",
              "// Listen for the clearing of the current output cell\n",
              "var outputEl = gd.closest('.output');\n",
              "if (outputEl) {{\n",
              "    x.observe(outputEl, {childList: true});\n",
              "}}\n",
              "\n",
              "                        })\n",
              "                };\n",
              "                \n",
              "            </script>\n",
              "        </div>\n",
              "</body>\n",
              "</html>"
            ]
          },
          "metadata": {
            "tags": []
          }
        }
      ]
    },
    {
      "cell_type": "markdown",
      "metadata": {
        "id": "ekuyk7C5Fgnk"
      },
      "source": [
        "- In the first graph you can see the percentage of offensive rebounds, which has atypical data, and little dispersion between the data that are not extreme. the graph is positive asymmetric.\n",
        "- In the second graph you can see the rate of free throw attempts, which has some outliers, and little dispersion between the data that are not extreme, which says that the vast majority of players take approximately 50% of the shots free to load. and it is very strange that players have very large FTr, so outliers can be removed. the graph is slightly asymmetric positive.\n",
        "- In the third graph you can see the total bounce rate, which has few outliers, and the dispersion between the data is not very large, and that the players have a total bounce rate of less than 25% approximately. the graph is positive asymmetric.\n",
        "- In the fourth graph you can see the percentage of defensive rebound, which has few outliers, although they are not too far from the rest of the data and the dispersion between the data is not very large. the graph is slightly asymmetric positive."
      ]
    },
    {
      "cell_type": "code",
      "metadata": {
        "id": "hoXj4WrfWkjy",
        "outputId": "e604e83e-6b9d-4027-dd90-d811fbc8ade9",
        "colab": {
          "base_uri": "https://localhost:8080/",
          "height": 717
        }
      },
      "source": [
        "graph_box_plot(df_numeric, 12)"
      ],
      "execution_count": null,
      "outputs": [
        {
          "output_type": "display_data",
          "data": {
            "text/html": [
              "<html>\n",
              "<head><meta charset=\"utf-8\" /></head>\n",
              "<body>\n",
              "    <div>\n",
              "            <script src=\"https://cdnjs.cloudflare.com/ajax/libs/mathjax/2.7.5/MathJax.js?config=TeX-AMS-MML_SVG\"></script><script type=\"text/javascript\">if (window.MathJax) {MathJax.Hub.Config({SVG: {font: \"STIX-Web\"}});}</script>\n",
              "                <script type=\"text/javascript\">window.PlotlyConfig = {MathJaxConfig: 'local'};</script>\n",
              "        <script src=\"https://cdn.plot.ly/plotly-latest.min.js\"></script>    \n",
              "            <div id=\"9f7436b8-70ea-490a-ba50-e58fa3fef63e\" class=\"plotly-graph-div\" style=\"height:700px; width:100%;\"></div>\n",
              "            <script type=\"text/javascript\">\n",
              "                \n",
              "                    window.PLOTLYENV=window.PLOTLYENV || {};\n",
              "                    \n",
              "                if (document.getElementById(\"9f7436b8-70ea-490a-ba50-e58fa3fef63e\")) {\n",
              "                    Plotly.newPlot(\n",
              "                        '9f7436b8-70ea-490a-ba50-e58fa3fef63e',\n",
              "                        [{\"boxmean\": \"sd\", \"name\": \"AST%\", \"type\": \"box\", \"xaxis\": \"x2\", \"y\": [1.5, 15.4, 14.9, 18.6, 7.3, 13.3, 0.0, 23.2, 9.7, 11.0, 3.6, 13.5, 18.5, 12.3, 5.3, 7.9, 16.1, 6.0, 10.7, 0.0, 9.3, 21.0, 8.1, 9.2, 20.9, 6.6, 31.5, 6.8, 27.5, 12.3, 21.9, 13.2, 7.9, 7.8, 4.6, 4.2, 10.1, 38.1, 11.0, 6.9, 7.9, 3.3, 6.5, 29.0, 5.0, 4.6, 25.1, 11.6, 9.4, 3.6, 12.5, 31.4, 5.3, 7.8, 8.4, 6.4, 17.0, 8.9, 3.2, 13.4, 3.8, 5.3, 7.2, 24.7, 2.6, 5.5, 4.6, 30.2, 8.2, 35.1, 16.9, 9.1, 7.0, 29.3, 16.5, 18.1, 16.3, 15.1, 6.4, 4.4, 2.4, 11.5, 15.8, 6.0, 7.2, 5.1, 49.4, 6.7, 9.5, 12.3, 14.2, 15.5, 7.1, 6.9, 9.7, 12.3, 8.7, 28.3, 12.8, 12.0, 32.1, 8.4, 22.9, 23.2, 8.7, 26.5, 41.6, 16.7, 6.3, 5.9, 8.0, 14.6, 14.7, 20.0, 16.1, 5.8, 10.6, 13.8, 8.9, 13.3, 4.6, 10.0, 9.5, 2.0, 3.5, 5.2, 11.5, 5.7, 19.3, 8.7, 29.2, 10.1, 11.0, 0.0, 26.0, 3.5, 8.6, 6.3, 9.6, 8.6, 0.0, 7.1, 7.2, 9.2, 9.5, 0.0, 26.2, 7.3, 8.9, 7.0, 29.5, 22.3, 6.0, 19.5, 12.4, 10.6, 6.1, 6.0, 27.3, 0.0, 14.6, 6.7, 32.6, 4.8, 9.5, 24.9, 8.1, 10.8, 27.6, 9.4, 21.6, 23.9, 8.0, 4.1, 11.9, 10.8, 21.5, 18.8, 15.4, 7.4, 23.5, 16.3, 5.6, 10.1, 12.4, 6.6, 0.0, 7.0, 5.1, 26.5, 29.0, 44.0, 6.2, 8.8, 18.7, 10.3, 4.3, 18.4, 11.5, 30.9, 4.8, 16.9, 30.4, 9.2, 8.0, 15.1, 14.7, 6.3, 33.3, 9.7, 11.5, 17.6, 8.9, 6.1, 9.6, 25.3, 9.3, 20.1, 5.8, 27.5, 6.4, 18.8, 0.0, 23.0, 22.5, 17.7, 10.7, 11.6, 13.0, 0.0, 7.3, 9.9, 7.3, 19.5, 15.6, 5.9, 24.5, 0.0, 13.1, 0.0, 10.2, 2.7, 7.7, 20.8, 17.8, 4.8, 35.7, 19.4, 17.2, 13.3, 4.8, 7.6, 5.9, 5.3, 5.9, 43.6, 8.5, 8.2, 11.6, 18.2, 0.0, 9.8, 10.2, 22.4, 9.6, 9.1, 14.0, 20.7, 8.1, 30.6, 27.3, 15.4, 0.0, 5.1, 0.0, 30.5, 8.1, 8.3, 10.8, 8.4, 17.8, 8.1, 9.7, 7.6, 31.3, 5.6, 7.0, 0.0, 16.2, 8.3, 5.2, 0.0, 22.7, 44.8, 6.7, 23.0, 0.0, 16.3, 17.1, 5.6, 8.7, 5.9, 6.9, 0.0, 13.7, 8.6, 15.2, 45.1, 9.1, 9.7, 28.0, 19.7, 27.0, 27.0, 26.7, 8.1, 0.0, 6.9, 10.1, 10.7, 6.8, 10.0, 11.1, 16.8, 7.6, 0.0, 25.4, 7.2, 23.7, 6.7, 4.4, 11.5, 26.7, 14.9, 12.4, 13.1, 11.2, 6.0, 22.6, 19.8, 22.8, 10.8, 12.4, 14.8, 10.0, 7.6, 13.5, 11.6, 24.9, 9.5, 24.6, 2.8, 34.9, 9.1, 4.0, 23.7, 8.1, 7.1, 22.4, 7.6, 29.1, 9.0, 6.6, 7.0, 19.2, 12.6, 10.4, 19.8, 8.4, 7.3, 9.2, 16.7, 24.5, 0.0, 9.3, 14.6, 5.1, 8.0, 17.8, 29.0, 36.4, 35.5, 10.6, 23.2, 24.8, 19.8, 20.5, 8.1, 7.1, 14.1, 24.5, 6.5, 10.4, 20.4, 0.0, 9.4, 26.3, 9.3, 7.7, 13.0, 32.9, 4.1, 9.0, 8.9, 9.1, 35.6, 9.2, 11.7, 7.8, 30.9, 0.0, 7.3, 6.2, 24.1, 8.6, 11.4, 15.9, 7.7, 5.9, 7.4, 5.8, 40.7, 7.1, 4.8, 7.5, 16.5, 6.8, 6.4, 26.0, 28.9, 12.2, 5.7, 16.0, 12.3, 8.1, 6.9, 11.7, 3.4, 13.1, 9.2, 30.3, 17.6, 5.6, 21.2, 7.1, 18.3, 13.6, 14.9, 12.5, 28.1, 6.4, 37.4, 7.5, 11.2, 10.4, 17.1, 6.2, 9.4, 2.9, 7.5, 10.8, 4.4, 8.0, 21.4, 9.1, 6.0, 16.0, 14.3, 13.3, 7.9, 2.9, 5.8, 2.7, 8.5, 3.4, 9.8, 16.4, 10.1, 23.9, 7.2, 8.6, 11.7, 15.2], \"yaxis\": \"y2\"}, {\"boxmean\": \"sd\", \"name\": \"STL%\", \"type\": \"box\", \"xaxis\": \"x\", \"y\": [1.1, 1.9, 1.4, 1.8, 0.8, 1.4, 7.2, 2.6, 0.9, 1.8, 1.0, 1.9, 1.6, 1.8, 2.5, 1.7, 1.3, 1.3, 0.0, 0.0, 2.1, 3.4, 1.1, 0.0, 3.2, 0.7, 1.8, 0.7, 2.0, 1.4, 1.9, 0.9, 0.8, 3.2, 0.7, 0.8, 1.1, 1.5, 1.2, 2.1, 1.5, 0.8, 1.2, 1.4, 0.0, 1.9, 1.6, 1.3, 0.7, 0.7, 1.6, 2.6, 1.6, 0.0, 2.5, 3.2, 2.0, 2.3, 1.6, 1.7, 2.1, 1.1, 1.5, 2.6, 0.6, 1.9, 2.1, 2.4, 2.6, 1.4, 1.5, 1.0, 2.1, 1.9, 1.5, 3.5, 1.8, 2.7, 1.2, 0.7, 1.0, 0.8, 0.0, 1.3, 1.5, 0.7, 2.5, 1.2, 1.9, 1.7, 1.6, 3.3, 0.7, 1.6, 1.4, 0.4, 2.6, 2.6, 1.3, 0.6, 1.1, 1.4, 1.8, 1.2, 1.2, 1.8, 1.8, 0.9, 2.0, 1.1, 1.2, 1.9, 2.8, 0.6, 1.3, 1.9, 2.2, 2.6, 0.7, 1.9, 1.8, 2.4, 1.2, 0.4, 0.6, 1.8, 1.6, 1.1, 1.6, 1.4, 1.8, 0.8, 0.0, 0.0, 1.6, 1.3, 0.0, 3.3, 1.8, 1.7, 0.0, 0.0, 1.1, 1.3, 1.3, 0.0, 1.0, 0.9, 0.8, 1.5, 2.0, 1.6, 1.3, 2.6, 1.0, 1.3, 1.1, 1.9, 1.0, 0.0, 1.7, 1.3, 3.3, 0.0, 0.5, 2.7, 1.6, 1.4, 1.6, 2.4, 2.8, 2.2, 1.2, 1.3, 1.6, 1.0, 1.1, 1.7, 1.1, 1.3, 1.7, 1.5, 1.6, 3.7, 1.5, 0.6, 0.0, 2.8, 2.1, 1.6, 2.4, 1.9, 0.9, 3.0, 0.0, 1.9, 1.1, 1.2, 0.8, 1.7, 0.8, 1.3, 1.7, 1.0, 0.9, 2.0, 2.9, 1.1, 3.3, 1.7, 1.1, 2.0, 1.1, 1.8, 1.3, 1.0, 2.1, 2.7, 1.3, 1.6, 1.7, 1.8, 0.0, 1.1, 1.1, 4.3, 1.1, 1.5, 1.6, 12.5, 1.0, 1.7, 1.4, 0.9, 0.9, 1.1, 1.9, 0.0, 2.3, 0.0, 1.9, 0.8, 1.5, 4.5, 1.5, 1.1, 0.0, 1.5, 2.1, 1.4, 3.0, 0.9, 1.1, 0.4, 1.2, 1.9, 1.1, 1.2, 0.9, 1.0, 2.6, 1.3, 0.8, 1.8, 0.9, 1.3, 2.5, 2.6, 1.2, 1.8, 0.0, 1.5, 0.0, 0.9, 0.0, 2.2, 1.1, 1.6, 1.0, 1.6, 2.2, 1.6, 2.4, 0.5, 1.2, 1.0, 1.2, 5.6, 1.7, 1.1, 0.9, 0.0, 1.9, 2.5, 1.5, 1.3, 0.0, 1.6, 1.2, 1.2, 1.9, 0.4, 1.5, 0.0, 1.6, 1.5, 0.8, 1.1, 0.9, 1.0, 1.5, 2.2, 0.8, 1.4, 1.8, 1.6, 1.8, 1.7, 1.1, 0.6, 1.4, 1.0, 0.6, 2.0, 1.7, 0.0, 1.3, 2.3, 1.9, 1.6, 1.4, 0.9, 5.6, 1.6, 1.0, 2.6, 1.8, 1.4, 2.2, 1.9, 1.8, 1.0, 1.0, 1.3, 1.5, 1.7, 1.7, 1.0, 3.2, 1.0, 1.6, 1.1, 2.2, 2.7, 1.1, 1.9, 2.0, 1.0, 2.2, 1.1, 2.0, 0.5, 0.5, 1.0, 2.2, 1.0, 1.1, 1.3, 1.5, 0.8, 1.3, 1.8, 1.2, 0.0, 1.5, 0.7, 0.8, 1.3, 1.5, 1.7, 1.7, 2.8, 1.3, 2.2, 1.6, 2.5, 2.8, 2.6, 0.8, 1.9, 1.8, 2.5, 1.2, 2.3, 0.0, 1.8, 2.3, 2.8, 0.6, 1.1, 2.0, 1.2, 1.7, 0.9, 1.6, 1.4, 1.0, 2.6, 0.7, 1.5, 0.0, 1.9, 1.4, 1.5, 0.6, 1.8, 1.8, 3.2, 2.2, 1.1, 1.4, 2.6, 0.0, 0.9, 1.3, 1.3, 1.6, 0.9, 2.0, 2.2, 1.5, 1.4, 1.3, 2.0, 0.9, 1.5, 0.9, 4.5, 3.8, 2.3, 1.6, 1.1, 1.7, 1.7, 1.1, 1.7, 1.5, 1.7, 1.5, 1.0, 0.7, 2.4, 1.9, 1.2, 1.8, 1.8, 0.3, 0.7, 3.2, 0.9, 2.0, 0.3, 1.5, 1.5, 0.9, 2.2, 1.6, 2.2, 1.9, 1.0, 1.0, 1.9, 1.5, 1.0, 1.6, 1.8, 3.4, 1.7, 0.9, 1.4, 2.1, 1.4, 1.6], \"yaxis\": \"y\"}, {\"boxmean\": \"sd\", \"name\": \"BLK%\", \"type\": \"box\", \"xaxis\": \"x4\", \"y\": [6.8, 1.3, 0.6, 0.5, 2.5, 0.3, 0.0, 2.4, 1.4, 2.8, 4.3, 3.1, 1.6, 0.7, 3.6, 1.0, 0.7, 0.3, 0.0, 13.4, 2.5, 2.0, 0.0, 2.4, 0.4, 1.9, 1.0, 2.5, 0.3, 1.4, 1.4, 0.4, 0.7, 1.1, 0.3, 1.4, 2.1, 0.5, 1.5, 0.5, 0.2, 1.9, 1.1, 0.1, 0.0, 0.9, 0.8, 1.1, 0.5, 2.4, 0.5, 0.8, 3.7, 0.0, 1.2, 1.3, 0.7, 1.2, 1.2, 1.5, 4.7, 1.8, 1.5, 0.6, 0.8, 2.9, 1.3, 0.4, 0.6, 0.8, 0.6, 3.7, 1.8, 0.5, 1.5, 1.9, 0.2, 0.8, 0.7, 3.7, 0.2, 0.6, 0.0, 0.9, 8.2, 1.0, 0.6, 6.1, 2.6, 1.2, 1.7, 1.4, 1.2, 0.7, 0.6, 2.8, 2.2, 0.4, 3.2, 0.5, 0.3, 0.7, 1.0, 0.7, 1.2, 0.4, 0.5, 0.1, 0.9, 1.6, 1.6, 3.3, 1.2, 3.7, 0.5, 1.7, 0.8, 1.2, 1.2, 2.0, 0.9, 1.4, 2.0, 1.3, 1.1, 0.6, 1.2, 1.6, 2.9, 2.2, 2.1, 0.5, 1.6, 0.0, 1.0, 0.4, 0.0, 4.1, 1.6, 1.0, 0.0, 0.0, 5.7, 3.3, 0.5, 0.0, 0.4, 2.9, 0.7, 2.3, 0.8, 0.8, 1.5, 2.3, 2.2, 0.0, 3.4, 2.8, 0.0, 0.0, 4.7, 1.5, 1.2, 1.6, 2.7, 0.0, 3.8, 1.8, 1.4, 1.6, 0.8, 1.2, 0.7, 0.0, 0.4, 2.6, 4.0, 1.1, 0.9, 1.0, 0.5, 0.8, 0.3, 0.0, 0.9, 0.8, 0.0, 8.3, 1.4, 0.6, 2.0, 2.1, 1.8, 2.1, 0.0, 0.6, 0.9, 0.8, 3.0, 0.7, 0.0, 6.0, 0.5, 1.1, 1.5, 1.3, 2.5, 6.4, 1.6, 2.2, 1.1, 0.6, 3.0, 4.9, 1.3, 4.2, 0.5, 2.2, 2.4, 0.8, 1.4, 1.7, 0.0, 0.7, 0.6, 3.6, 3.5, 4.3, 1.8, 0.0, 0.8, 1.3, 1.0, 1.6, 1.7, 0.9, 1.7, 0.0, 2.4, 0.0, 1.4, 4.0, 0.9, 1.9, 0.2, 3.0, 2.2, 0.3, 5.7, 0.6, 4.5, 3.1, 0.9, 2.0, 1.3, 2.7, 4.8, 4.0, 0.5, 4.8, 0.0, 0.2, 0.5, 0.6, 0.7, 0.3, 4.3, 1.0, 0.5, 0.4, 0.0, 1.4, 0.0, 4.1, 6.8, 0.9, 1.6, 2.0, 0.9, 1.0, 0.6, 7.6, 1.4, 3.8, 0.2, 4.1, 2.8, 0.0, 1.2, 1.5, 2.4, 4.6, 2.2, 1.7, 1.1, 0.3, 0.0, 0.9, 0.4, 5.4, 2.1, 3.9, 0.8, 0.0, 1.4, 0.4, 0.2, 0.2, 2.7, 1.6, 0.9, 0.8, 0.3, 0.8, 0.2, 1.2, 9.5, 3.2, 0.6, 0.0, 5.8, 0.5, 0.9, 1.7, 2.5, 0.0, 0.4, 0.4, 3.3, 0.0, 1.3, 4.8, 0.0, 1.3, 1.7, 0.6, 1.6, 1.2, 1.0, 0.9, 1.0, 0.9, 1.1, 0.7, 0.4, 1.2, 5.7, 1.1, 1.5, 1.8, 0.8, 5.8, 1.0, 7.8, 2.9, 2.6, 1.7, 4.5, 0.4, 0.2, 3.2, 2.1, 0.8, 1.0, 0.9, 1.5, 2.1, 0.8, 0.7, 3.9, 2.7, 0.8, 0.6, 0.0, 1.8, 0.9, 4.4, 3.2, 0.5, 0.7, 0.2, 0.0, 1.0, 3.5, 0.6, 2.0, 1.4, 1.7, 2.5, 2.2, 1.0, 0.8, 2.2, 6.0, 0.0, 1.7, 0.7, 1.8, 0.7, 0.7, 0.6, 1.4, 3.8, 1.2, 4.3, 1.1, 0.2, 0.3, 0.6, 0.9, 2.9, 4.6, 1.2, 0.0, 1.1, 0.6, 0.7, 1.1, 1.9, 2.8, 5.8, 0.7, 4.8, 2.8, 1.8, 1.5, 0.4, 1.8, 0.9, 1.7, 1.5, 1.2, 1.0, 1.0, 0.1, 3.8, 4.7, 5.5, 1.9, 1.0, 2.2, 1.8, 6.4, 1.1, 0.3, 0.7, 1.1, 0.0, 3.3, 0.8, 5.0, 2.1, 1.4, 2.6, 0.5, 0.7, 1.1, 2.8, 4.8, 1.1, 5.5, 6.0, 1.5, 1.8, 4.9, 3.1, 1.9, 4.3, 3.3, 1.1, 1.6, 1.5, 0.9, 3.7, 0.7, 0.7, 1.2, 4.4, 2.9, 1.6, 1.1, 1.9, 0.0], \"yaxis\": \"y4\"}, {\"boxmean\": \"sd\", \"name\": \"TOV%\", \"type\": \"box\", \"xaxis\": \"x3\", \"y\": [18.2, 19.3, 12.5, 9.7, 15.6, 9.1, 0.0, 19.3, 12.0, 15.4, 11.6, 11.3, 11.8, 10.1, 12.6, 11.6, 15.5, 6.9, 15.4, 16.7, 10.7, 12.6, 33.8, 11.2, 13.9, 20.5, 11.5, 11.3, 17.6, 9.4, 13.4, 8.8, 8.0, 13.5, 8.3, 12.2, 9.0, 8.8, 14.1, 7.0, 9.9, 6.2, 7.7, 13.4, 0.0, 15.9, 16.4, 7.2, 11.5, 24.4, 9.0, 23.7, 10.8, 7.9, 10.5, 10.2, 8.0, 11.5, 6.3, 15.5, 18.7, 9.9, 6.7, 20.8, 7.3, 13.3, 10.6, 13.3, 11.3, 11.6, 12.9, 12.5, 15.5, 16.4, 13.8, 12.7, 12.2, 13.8, 3.1, 9.6, 10.8, 10.3, 34.7, 10.3, 19.0, 7.5, 16.4, 15.5, 11.6, 15.1, 11.5, 20.4, 9.6, 5.7, 8.1, 13.5, 12.3, 18.3, 8.4, 14.3, 14.3, 7.6, 11.5, 16.5, 9.3, 17.6, 22.6, 10.8, 16.3, 14.1, 14.9, 12.9, 12.3, 13.3, 12.4, 10.3, 14.6, 16.5, 9.3, 11.0, 13.3, 7.1, 13.5, 19.0, 5.5, 10.8, 14.5, 10.7, 11.1, 8.0, 15.8, 13.4, 9.4, 0.0, 15.0, 7.3, 23.7, 18.1, 11.7, 12.0, 0.0, 0.0, 11.5, 9.8, 10.9, 0.0, 20.3, 23.7, 12.8, 11.0, 12.0, 8.4, 7.6, 16.2, 14.1, 11.6, 7.9, 11.0, 23.1, 14.3, 18.8, 9.7, 7.7, 23.0, 9.4, 14.2, 16.6, 15.2, 11.1, 11.4, 18.8, 18.4, 8.8, 5.1, 10.1, 13.5, 14.1, 16.7, 10.3, 11.1, 16.9, 11.0, 9.1, 33.3, 12.3, 7.9, 66.7, 14.4, 15.6, 13.1, 18.6, 15.9, 8.1, 10.0, 11.1, 5.1, 12.4, 15.1, 6.9, 10.4, 10.1, 19.3, 14.5, 10.8, 9.1, 17.1, 16.3, 8.4, 17.3, 10.4, 9.7, 11.8, 13.6, 12.6, 9.6, 12.9, 9.9, 17.0, 11.9, 10.3, 8.8, 17.0, 33.3, 17.4, 17.9, 11.1, 10.8, 14.7, 12.8, 0.0, 8.4, 9.8, 6.6, 43.2, 16.1, 10.2, 13.6, 0.0, 13.0, 0.0, 12.2, 12.1, 10.1, 13.2, 17.5, 16.6, 22.2, 10.8, 18.9, 14.4, 14.8, 12.9, 6.5, 14.1, 7.6, 16.6, 13.4, 14.3, 13.8, 15.6, 18.8, 12.0, 11.6, 17.3, 12.1, 8.0, 25.4, 8.9, 14.1, 13.3, 16.6, 9.2, 50.0, 9.1, 10.6, 16.8, 9.5, 10.8, 16.2, 12.0, 13.8, 9.2, 13.6, 11.7, 19.9, 15.3, 13.6, 0.0, 17.5, 12.4, 8.8, 11.3, 17.1, 14.7, 11.6, 21.0, 6.6, 13.0, 10.8, 16.2, 9.9, 12.2, 9.5, 33.3, 10.0, 11.6, 9.8, 16.3, 14.8, 18.8, 11.1, 20.3, 16.6, 15.5, 15.4, 19.9, 14.7, 24.4, 10.2, 10.8, 12.8, 8.2, 17.3, 17.9, 12.4, 0.0, 12.1, 3.1, 11.6, 9.6, 5.2, 16.3, 18.4, 13.2, 5.8, 11.0, 13.4, 7.2, 10.7, 20.5, 12.7, 7.9, 13.5, 9.8, 10.7, 9.7, 25.9, 10.8, 16.1, 13.3, 16.2, 11.4, 18.5, 12.5, 15.8, 15.5, 10.6, 15.2, 15.3, 10.2, 21.8, 18.3, 9.4, 15.1, 12.7, 15.7, 6.0, 13.7, 12.8, 10.1, 14.8, 13.0, 13.9, 0.0, 12.6, 14.8, 10.1, 10.3, 11.8, 15.0, 12.7, 17.0, 10.3, 18.9, 9.5, 14.2, 16.9, 16.1, 16.3, 25.8, 16.1, 9.9, 8.4, 16.4, 21.0, 13.1, 11.2, 23.7, 10.1, 13.4, 15.0, 8.1, 11.0, 8.1, 17.2, 16.2, 9.7, 7.8, 10.9, 11.1, 20.3, 5.9, 21.2, 16.1, 17.5, 9.6, 11.2, 12.8, 5.4, 14.6, 11.6, 12.7, 4.0, 11.0, 7.8, 12.5, 14.2, 7.4, 15.6, 13.3, 19.0, 5.7, 8.5, 11.2, 6.8, 10.9, 10.3, 10.2, 24.0, 16.8, 18.2, 14.4, 6.4, 11.6, 10.2, 13.1, 9.9, 13.3, 16.0, 12.6, 17.4, 19.3, 14.0, 13.6, 13.3, 10.8, 11.3, 14.6, 17.7, 9.8, 8.7, 13.2, 8.9, 14.0, 42.3, 14.4, 16.0, 16.0, 16.6, 8.4, 17.3, 10.7, 7.4, 14.2, 7.7, 11.3, 24.2, 8.7, 14.3, 17.1, 3.9, 9.7, 11.9], \"yaxis\": \"y3\"}],\n",
              "                        {\"height\": 700, \"template\": {\"data\": {\"bar\": [{\"error_x\": {\"color\": \"#2a3f5f\"}, \"error_y\": {\"color\": \"#2a3f5f\"}, \"marker\": {\"line\": {\"color\": \"#E5ECF6\", \"width\": 0.5}}, \"type\": \"bar\"}], \"barpolar\": [{\"marker\": {\"line\": {\"color\": \"#E5ECF6\", \"width\": 0.5}}, \"type\": \"barpolar\"}], \"carpet\": [{\"aaxis\": {\"endlinecolor\": \"#2a3f5f\", \"gridcolor\": \"white\", \"linecolor\": \"white\", \"minorgridcolor\": \"white\", \"startlinecolor\": \"#2a3f5f\"}, \"baxis\": {\"endlinecolor\": \"#2a3f5f\", \"gridcolor\": \"white\", \"linecolor\": \"white\", \"minorgridcolor\": \"white\", \"startlinecolor\": \"#2a3f5f\"}, \"type\": \"carpet\"}], \"choropleth\": [{\"colorbar\": {\"outlinewidth\": 0, \"ticks\": \"\"}, \"type\": \"choropleth\"}], \"contour\": [{\"colorbar\": {\"outlinewidth\": 0, \"ticks\": \"\"}, \"colorscale\": [[0.0, \"#0d0887\"], [0.1111111111111111, \"#46039f\"], [0.2222222222222222, \"#7201a8\"], [0.3333333333333333, \"#9c179e\"], [0.4444444444444444, \"#bd3786\"], [0.5555555555555556, \"#d8576b\"], [0.6666666666666666, \"#ed7953\"], [0.7777777777777778, \"#fb9f3a\"], [0.8888888888888888, \"#fdca26\"], [1.0, \"#f0f921\"]], \"type\": \"contour\"}], \"contourcarpet\": [{\"colorbar\": {\"outlinewidth\": 0, \"ticks\": \"\"}, \"type\": \"contourcarpet\"}], \"heatmap\": [{\"colorbar\": {\"outlinewidth\": 0, \"ticks\": \"\"}, \"colorscale\": [[0.0, \"#0d0887\"], [0.1111111111111111, \"#46039f\"], [0.2222222222222222, \"#7201a8\"], [0.3333333333333333, \"#9c179e\"], [0.4444444444444444, \"#bd3786\"], [0.5555555555555556, \"#d8576b\"], [0.6666666666666666, \"#ed7953\"], [0.7777777777777778, \"#fb9f3a\"], [0.8888888888888888, \"#fdca26\"], [1.0, \"#f0f921\"]], \"type\": \"heatmap\"}], \"heatmapgl\": [{\"colorbar\": {\"outlinewidth\": 0, \"ticks\": \"\"}, \"colorscale\": [[0.0, \"#0d0887\"], [0.1111111111111111, \"#46039f\"], [0.2222222222222222, \"#7201a8\"], [0.3333333333333333, \"#9c179e\"], [0.4444444444444444, \"#bd3786\"], [0.5555555555555556, \"#d8576b\"], [0.6666666666666666, \"#ed7953\"], [0.7777777777777778, \"#fb9f3a\"], [0.8888888888888888, \"#fdca26\"], [1.0, \"#f0f921\"]], \"type\": \"heatmapgl\"}], \"histogram\": [{\"marker\": {\"colorbar\": {\"outlinewidth\": 0, \"ticks\": \"\"}}, \"type\": \"histogram\"}], \"histogram2d\": [{\"colorbar\": {\"outlinewidth\": 0, \"ticks\": \"\"}, \"colorscale\": [[0.0, \"#0d0887\"], [0.1111111111111111, \"#46039f\"], [0.2222222222222222, \"#7201a8\"], [0.3333333333333333, \"#9c179e\"], [0.4444444444444444, \"#bd3786\"], [0.5555555555555556, \"#d8576b\"], [0.6666666666666666, \"#ed7953\"], [0.7777777777777778, \"#fb9f3a\"], [0.8888888888888888, \"#fdca26\"], [1.0, \"#f0f921\"]], \"type\": \"histogram2d\"}], \"histogram2dcontour\": [{\"colorbar\": {\"outlinewidth\": 0, \"ticks\": \"\"}, \"colorscale\": [[0.0, \"#0d0887\"], [0.1111111111111111, \"#46039f\"], [0.2222222222222222, \"#7201a8\"], [0.3333333333333333, \"#9c179e\"], [0.4444444444444444, \"#bd3786\"], [0.5555555555555556, \"#d8576b\"], [0.6666666666666666, \"#ed7953\"], [0.7777777777777778, \"#fb9f3a\"], [0.8888888888888888, \"#fdca26\"], [1.0, \"#f0f921\"]], \"type\": \"histogram2dcontour\"}], \"mesh3d\": [{\"colorbar\": {\"outlinewidth\": 0, \"ticks\": \"\"}, \"type\": \"mesh3d\"}], \"parcoords\": [{\"line\": {\"colorbar\": {\"outlinewidth\": 0, \"ticks\": \"\"}}, \"type\": \"parcoords\"}], \"pie\": [{\"automargin\": true, \"type\": \"pie\"}], \"scatter\": [{\"marker\": {\"colorbar\": {\"outlinewidth\": 0, \"ticks\": \"\"}}, \"type\": \"scatter\"}], \"scatter3d\": [{\"line\": {\"colorbar\": {\"outlinewidth\": 0, \"ticks\": \"\"}}, \"marker\": {\"colorbar\": {\"outlinewidth\": 0, \"ticks\": \"\"}}, \"type\": \"scatter3d\"}], \"scattercarpet\": [{\"marker\": {\"colorbar\": {\"outlinewidth\": 0, \"ticks\": \"\"}}, \"type\": \"scattercarpet\"}], \"scattergeo\": [{\"marker\": {\"colorbar\": {\"outlinewidth\": 0, \"ticks\": \"\"}}, \"type\": \"scattergeo\"}], \"scattergl\": [{\"marker\": {\"colorbar\": {\"outlinewidth\": 0, \"ticks\": \"\"}}, \"type\": \"scattergl\"}], \"scattermapbox\": [{\"marker\": {\"colorbar\": {\"outlinewidth\": 0, \"ticks\": \"\"}}, \"type\": \"scattermapbox\"}], \"scatterpolar\": [{\"marker\": {\"colorbar\": {\"outlinewidth\": 0, \"ticks\": \"\"}}, \"type\": \"scatterpolar\"}], \"scatterpolargl\": [{\"marker\": {\"colorbar\": {\"outlinewidth\": 0, \"ticks\": \"\"}}, \"type\": \"scatterpolargl\"}], \"scatterternary\": [{\"marker\": {\"colorbar\": {\"outlinewidth\": 0, \"ticks\": \"\"}}, \"type\": \"scatterternary\"}], \"surface\": [{\"colorbar\": {\"outlinewidth\": 0, \"ticks\": \"\"}, \"colorscale\": [[0.0, \"#0d0887\"], [0.1111111111111111, \"#46039f\"], [0.2222222222222222, \"#7201a8\"], [0.3333333333333333, \"#9c179e\"], [0.4444444444444444, \"#bd3786\"], [0.5555555555555556, \"#d8576b\"], [0.6666666666666666, \"#ed7953\"], [0.7777777777777778, \"#fb9f3a\"], [0.8888888888888888, \"#fdca26\"], [1.0, \"#f0f921\"]], \"type\": \"surface\"}], \"table\": [{\"cells\": {\"fill\": {\"color\": \"#EBF0F8\"}, \"line\": {\"color\": \"white\"}}, \"header\": {\"fill\": {\"color\": \"#C8D4E3\"}, \"line\": {\"color\": \"white\"}}, \"type\": \"table\"}]}, \"layout\": {\"annotationdefaults\": {\"arrowcolor\": \"#2a3f5f\", \"arrowhead\": 0, \"arrowwidth\": 1}, \"coloraxis\": {\"colorbar\": {\"outlinewidth\": 0, \"ticks\": \"\"}}, \"colorscale\": {\"diverging\": [[0, \"#8e0152\"], [0.1, \"#c51b7d\"], [0.2, \"#de77ae\"], [0.3, \"#f1b6da\"], [0.4, \"#fde0ef\"], [0.5, \"#f7f7f7\"], [0.6, \"#e6f5d0\"], [0.7, \"#b8e186\"], [0.8, \"#7fbc41\"], [0.9, \"#4d9221\"], [1, \"#276419\"]], \"sequential\": [[0.0, \"#0d0887\"], [0.1111111111111111, \"#46039f\"], [0.2222222222222222, \"#7201a8\"], [0.3333333333333333, \"#9c179e\"], [0.4444444444444444, \"#bd3786\"], [0.5555555555555556, \"#d8576b\"], [0.6666666666666666, \"#ed7953\"], [0.7777777777777778, \"#fb9f3a\"], [0.8888888888888888, \"#fdca26\"], [1.0, \"#f0f921\"]], \"sequentialminus\": [[0.0, \"#0d0887\"], [0.1111111111111111, \"#46039f\"], [0.2222222222222222, \"#7201a8\"], [0.3333333333333333, \"#9c179e\"], [0.4444444444444444, \"#bd3786\"], [0.5555555555555556, \"#d8576b\"], [0.6666666666666666, \"#ed7953\"], [0.7777777777777778, \"#fb9f3a\"], [0.8888888888888888, \"#fdca26\"], [1.0, \"#f0f921\"]]}, \"colorway\": [\"#636efa\", \"#EF553B\", \"#00cc96\", \"#ab63fa\", \"#FFA15A\", \"#19d3f3\", \"#FF6692\", \"#B6E880\", \"#FF97FF\", \"#FECB52\"], \"font\": {\"color\": \"#2a3f5f\"}, \"geo\": {\"bgcolor\": \"white\", \"lakecolor\": \"white\", \"landcolor\": \"#E5ECF6\", \"showlakes\": true, \"showland\": true, \"subunitcolor\": \"white\"}, \"hoverlabel\": {\"align\": \"left\"}, \"hovermode\": \"closest\", \"mapbox\": {\"style\": \"light\"}, \"paper_bgcolor\": \"white\", \"plot_bgcolor\": \"#E5ECF6\", \"polar\": {\"angularaxis\": {\"gridcolor\": \"white\", \"linecolor\": \"white\", \"ticks\": \"\"}, \"bgcolor\": \"#E5ECF6\", \"radialaxis\": {\"gridcolor\": \"white\", \"linecolor\": \"white\", \"ticks\": \"\"}}, \"scene\": {\"xaxis\": {\"backgroundcolor\": \"#E5ECF6\", \"gridcolor\": \"white\", \"gridwidth\": 2, \"linecolor\": \"white\", \"showbackground\": true, \"ticks\": \"\", \"zerolinecolor\": \"white\"}, \"yaxis\": {\"backgroundcolor\": \"#E5ECF6\", \"gridcolor\": \"white\", \"gridwidth\": 2, \"linecolor\": \"white\", \"showbackground\": true, \"ticks\": \"\", \"zerolinecolor\": \"white\"}, \"zaxis\": {\"backgroundcolor\": \"#E5ECF6\", \"gridcolor\": \"white\", \"gridwidth\": 2, \"linecolor\": \"white\", \"showbackground\": true, \"ticks\": \"\", \"zerolinecolor\": \"white\"}}, \"shapedefaults\": {\"line\": {\"color\": \"#2a3f5f\"}}, \"ternary\": {\"aaxis\": {\"gridcolor\": \"white\", \"linecolor\": \"white\", \"ticks\": \"\"}, \"baxis\": {\"gridcolor\": \"white\", \"linecolor\": \"white\", \"ticks\": \"\"}, \"bgcolor\": \"#E5ECF6\", \"caxis\": {\"gridcolor\": \"white\", \"linecolor\": \"white\", \"ticks\": \"\"}}, \"title\": {\"x\": 0.05}, \"xaxis\": {\"automargin\": true, \"gridcolor\": \"white\", \"linecolor\": \"white\", \"ticks\": \"\", \"title\": {\"standoff\": 15}, \"zerolinecolor\": \"white\", \"zerolinewidth\": 2}, \"yaxis\": {\"automargin\": true, \"gridcolor\": \"white\", \"linecolor\": \"white\", \"ticks\": \"\", \"title\": {\"standoff\": 15}, \"zerolinecolor\": \"white\", \"zerolinewidth\": 2}}}, \"title\": {\"text\": \"Box Plots\"}, \"xaxis\": {\"anchor\": \"y\", \"domain\": [0.0, 0.45], \"title\": {\"text\": \"STL%\"}}, \"xaxis2\": {\"anchor\": \"y2\", \"domain\": [0.55, 1.0], \"title\": {\"text\": \"AST%\"}}, \"xaxis3\": {\"anchor\": \"y3\", \"domain\": [0.0, 0.45], \"title\": {\"text\": \"TOV%\"}}, \"xaxis4\": {\"anchor\": \"y4\", \"domain\": [0.55, 1.0], \"title\": {\"text\": \"BLK%\"}}, \"yaxis\": {\"anchor\": \"x\", \"domain\": [0.575, 1.0]}, \"yaxis2\": {\"anchor\": \"x2\", \"domain\": [0.575, 1.0]}, \"yaxis3\": {\"anchor\": \"x3\", \"domain\": [0.0, 0.425]}, \"yaxis4\": {\"anchor\": \"x4\", \"domain\": [0.0, 0.425]}},\n",
              "                        {\"responsive\": true}\n",
              "                    ).then(function(){\n",
              "                            \n",
              "var gd = document.getElementById('9f7436b8-70ea-490a-ba50-e58fa3fef63e');\n",
              "var x = new MutationObserver(function (mutations, observer) {{\n",
              "        var display = window.getComputedStyle(gd).display;\n",
              "        if (!display || display === 'none') {{\n",
              "            console.log([gd, 'removed!']);\n",
              "            Plotly.purge(gd);\n",
              "            observer.disconnect();\n",
              "        }}\n",
              "}});\n",
              "\n",
              "// Listen for the removal of the full notebook cells\n",
              "var notebookContainer = gd.closest('#notebook-container');\n",
              "if (notebookContainer) {{\n",
              "    x.observe(notebookContainer, {childList: true});\n",
              "}}\n",
              "\n",
              "// Listen for the clearing of the current output cell\n",
              "var outputEl = gd.closest('.output');\n",
              "if (outputEl) {{\n",
              "    x.observe(outputEl, {childList: true});\n",
              "}}\n",
              "\n",
              "                        })\n",
              "                };\n",
              "                \n",
              "            </script>\n",
              "        </div>\n",
              "</body>\n",
              "</html>"
            ]
          },
          "metadata": {
            "tags": []
          }
        }
      ]
    },
    {
      "cell_type": "markdown",
      "metadata": {
        "id": "1h4KZAyJGV7F"
      },
      "source": [
        "- In the first graph you can see the percentage of robberies, which has few outliers, this data is far from the rest of the data and it can be very rare for players to have a high percentage of trans robberies, and the dispersion between the data is big. the graph is slightly asymmetric positive.\n",
        "- In the second graph you can see the percentage of assists, which has many outliers, it has data that is far from the other data but due to the number of players who have a high percentage of assists it may not be so strange that the Players can have a large number of assists. the graph is positive asymmetric.\n",
        "- In the third graph you can see the rate of losses, which gives the rate of losses that players have with the ball, that is, players with low TOV lose the ball little, it has many outliers, especially in the fourth quartile and the dispersion of the data is not very large with respect to the data that are outside the extreme data, some outliers can be eliminated, since they are far from the other data. the graph is slightly asymmetric positive.\n",
        "- In the fourth graph you can see the blocking rate, it has many outliers, especially over the fourth quartile and the dispersion of the data is not very large with respect to the data that are outside the extreme data, they cannot be eliminated outliers data, as there are many outliers, although outliers that are very far from the others could be removed. the graph is slightly positive."
      ]
    },
    {
      "cell_type": "code",
      "metadata": {
        "id": "4c6kDDQwW3Fb",
        "outputId": "14742047-5f3b-4f6a-ae08-7138def54116",
        "colab": {
          "base_uri": "https://localhost:8080/",
          "height": 717
        }
      },
      "source": [
        "graph_box_plot(df_numeric, 16)"
      ],
      "execution_count": null,
      "outputs": [
        {
          "output_type": "display_data",
          "data": {
            "text/html": [
              "<html>\n",
              "<head><meta charset=\"utf-8\" /></head>\n",
              "<body>\n",
              "    <div>\n",
              "            <script src=\"https://cdnjs.cloudflare.com/ajax/libs/mathjax/2.7.5/MathJax.js?config=TeX-AMS-MML_SVG\"></script><script type=\"text/javascript\">if (window.MathJax) {MathJax.Hub.Config({SVG: {font: \"STIX-Web\"}});}</script>\n",
              "                <script type=\"text/javascript\">window.PlotlyConfig = {MathJaxConfig: 'local'};</script>\n",
              "        <script src=\"https://cdn.plot.ly/plotly-latest.min.js\"></script>    \n",
              "            <div id=\"ac0b1a4b-7898-4908-9e5a-ea24c5d8021b\" class=\"plotly-graph-div\" style=\"height:700px; width:100%;\"></div>\n",
              "            <script type=\"text/javascript\">\n",
              "                \n",
              "                    window.PLOTLYENV=window.PLOTLYENV || {};\n",
              "                    \n",
              "                if (document.getElementById(\"ac0b1a4b-7898-4908-9e5a-ea24c5d8021b\")) {\n",
              "                    Plotly.newPlot(\n",
              "                        'ac0b1a4b-7898-4908-9e5a-ea24c5d8021b',\n",
              "                        [{\"boxmean\": \"sd\", \"name\": \"USG%\", \"type\": \"box\", \"xaxis\": \"x2\", \"y\": [19.5, 17.2, 27.6, 29.5, 15.5, 17.0, 19.2, 21.7, 14.6, 21.7, 16.6, 21.6, 20.5, 17.6, 13.0, 11.8, 22.7, 17.3, 19.6, 38.5, 14.7, 30.2, 8.4, 11.2, 12.7, 10.6, 28.5, 17.0, 18.2, 18.6, 16.3, 20.0, 14.8, 20.1, 17.2, 12.5, 21.2, 25.9, 16.5, 14.4, 11.3, 15.9, 10.5, 20.6, 18.5, 18.9, 13.7, 23.2, 17.5, 16.2, 23.8, 12.7, 14.6, 15.8, 17.3, 16.4, 20.5, 16.6, 10.3, 21.7, 15.9, 14.6, 24.9, 13.8, 14.2, 16.7, 14.0, 31.0, 16.4, 20.3, 13.2, 21.1, 11.6, 17.5, 16.5, 18.3, 15.5, 19.5, 22.3, 19.4, 8.7, 24.6, 16.4, 15.5, 12.8, 14.4, 34.3, 16.9, 24.5, 14.8, 22.6, 10.0, 18.0, 12.3, 24.6, 20.4, 17.5, 22.8, 16.7, 9.3, 27.4, 15.7, 20.4, 18.3, 13.8, 19.2, 16.8, 17.7, 15.0, 14.3, 15.2, 22.4, 25.6, 20.7, 17.8, 10.8, 12.8, 19.6, 13.5, 15.9, 10.3, 18.4, 16.3, 9.4, 10.3, 12.3, 18.9, 14.5, 25.9, 23.2, 24.1, 15.5, 15.7, 8.7, 18.2, 18.0, 17.6, 13.8, 19.0, 14.3, 45.1, 14.2, 20.1, 23.8, 18.2, 43.6, 18.2, 13.1, 19.8, 15.8, 25.1, 25.9, 16.4, 16.6, 26.8, 16.0, 13.5, 12.6, 13.4, 28.6, 16.6, 14.5, 30.6, 11.4, 26.9, 12.9, 17.9, 19.3, 22.0, 19.8, 19.4, 19.5, 23.0, 11.8, 20.3, 15.6, 25.7, 21.3, 24.2, 16.1, 16.9, 19.1, 15.2, 9.8, 16.9, 14.9, 16.6, 11.3, 12.7, 29.9, 17.4, 31.4, 21.7, 15.8, 16.7, 19.0, 10.5, 21.8, 29.1, 31.1, 21.6, 17.0, 21.6, 22.5, 16.1, 13.0, 13.5, 31.0, 24.7, 15.2, 23.4, 24.5, 12.8, 12.3, 25.3, 30.3, 16.9, 22.5, 18.2, 27.5, 19.4, 21.6, 44.2, 28.0, 28.4, 30.6, 22.9, 26.6, 16.2, 22.1, 14.4, 18.0, 18.8, 5.7, 25.2, 13.9, 23.2, 14.4, 18.2, 7.6, 25.7, 9.4, 12.5, 26.0, 11.7, 17.1, 21.1, 26.6, 13.8, 21.9, 15.0, 22.7, 15.6, 16.1, 22.5, 29.0, 15.1, 17.9, 20.4, 33.5, 12.7, 17.9, 16.0, 16.0, 16.7, 18.9, 17.2, 24.7, 15.1, 17.3, 31.3, 22.6, 17.5, 16.0, 22.0, 20.4, 19.5, 19.4, 16.5, 21.0, 17.7, 18.8, 10.1, 21.9, 16.5, 16.7, 17.1, 9.8, 10.1, 17.9, 14.3, 21.1, 19.0, 36.2, 13.6, 13.7, 25.6, 22.9, 24.2, 14.6, 14.3, 21.0, 16.9, 21.4, 23.3, 13.8, 21.5, 24.9, 17.9, 17.9, 20.7, 28.4, 28.8, 19.7, 18.9, 13.0, 21.8, 15.6, 17.3, 23.6, 24.4, 25.2, 15.6, 22.4, 16.2, 17.9, 25.8, 11.9, 31.3, 14.8, 21.7, 18.6, 27.3, 16.4, 15.3, 20.6, 16.4, 17.2, 19.1, 17.0, 22.5, 20.3, 15.7, 23.3, 16.2, 18.4, 9.3, 24.8, 26.3, 21.8, 24.4, 14.5, 21.8, 9.2, 12.2, 26.1, 15.4, 24.3, 26.4, 13.7, 17.1, 12.6, 15.0, 14.0, 29.0, 21.7, 20.5, 25.0, 17.9, 15.4, 17.1, 20.1, 31.6, 18.9, 15.4, 26.2, 12.7, 18.5, 17.5, 29.1, 30.4, 14.8, 19.8, 31.9, 29.7, 17.2, 20.7, 7.8, 15.2, 18.0, 23.2, 15.3, 17.4, 22.0, 35.8, 15.0, 17.4, 19.5, 12.8, 20.9, 24.4, 11.5, 16.5, 20.6, 15.5, 30.7, 16.5, 19.2, 13.4, 30.4, 12.0, 13.7, 12.4, 18.4, 13.4, 16.9, 14.6, 14.3, 17.9, 15.7, 19.5, 24.3, 24.6, 17.6, 14.9, 18.3, 15.0, 23.3, 22.6, 19.3, 19.6, 22.1, 26.4, 24.3, 16.7, 16.6, 23.5, 22.3, 11.7, 13.4, 19.2, 22.2, 14.7, 27.8, 18.9, 19.6, 26.0, 26.0, 28.8, 28.9, 14.5, 22.2, 19.5, 15.9, 23.5, 20.7, 12.4, 16.4, 11.0, 14.7, 29.8, 18.1, 23.6, 19.7, 8.8, 8.6, 11.5, 21.2, 12.7, 18.6, 15.5, 14.9, 11.9, 16.6, 12.7, 22.4, 17.5, 22.2, 18.4, 16.9, 14.4, 24.5, 19.7], \"yaxis\": \"y2\"}, {\"boxmean\": \"sd\", \"name\": \"OWS\", \"type\": \"box\", \"xaxis\": \"x\", \"y\": [-0.4, 1.7, 0.3, -0.1, -0.4, 1.6, -0.1, -0.5, 2.0, 0.8, 1.0, 1.3, 3.9, 1.0, -0.1, -0.1, 0.1, 2.3, 0.1, 0.0, 0.2, 4.2, -0.1, -0.1, 2.3, 1.9, 3.0, 1.7, -0.8, 1.9, 0.0, -0.2, 0.9, 0.2, 1.5, 1.7, 2.6, 2.0, 1.5, 2.7, 1.0, 0.1, 1.6, 0.4, 0.0, -0.2, 3.5, 4.3, 0.1, -0.1, 1.5, 0.4, 0.4, 0.0, 2.1, 1.0, 2.3, -0.1, 0.5, -0.3, 0.6, 5.3, 2.7, 1.2, 0.5, 6.4, 0.1, 7.2, -0.6, 4.2, -0.1, 0.4, 0.1, 1.1, 0.9, 0.2, 0.3, 1.3, 0.3, 1.9, -0.3, -0.5, 0.0, 0.4, 1.3, 3.1, 5.5, 4.0, 0.9, 0.3, 2.3, 0.1, -0.3, 0.4, 1.1, 1.2, 1.5, 1.2, 1.3, 0.1, 0.7, 2.8, 0.9, 0.4, 0.1, 0.0, 1.7, 1.0, -0.3, -0.4, -1.2, 1.5, 4.5, 2.6, 2.1, 1.0, -0.3, 0.1, 1.1, 2.1, 1.0, 4.9, 1.2, -0.1, 0.1, 1.1, -0.6, 0.5, 1.3, 1.6, 7.3, 0.1, -0.2, 0.0, 1.6, 0.7, 0.1, 0.4, 1.6, 1.7, 0.1, -0.1, 2.6, 4.1, 0.2, 0.0, 0.9, 0.1, 1.4, 1.4, -0.1, 0.4, 1.6, -0.2, 0.9, 0.6, 1.5, 1.6, 0.3, -0.1, 1.7, 2.7, 0.5, 0.1, 0.2, -0.1, -0.9, 1.1, -0.1, 0.4, -0.7, -0.6, 1.2, 0.1, 2.2, 2.4, 1.3, 0.4, -0.9, 0.0, 0.4, 2.0, -0.2, 0.0, 0.8, 0.6, -0.1, 0.7, 0.8, 5.6, -0.5, 10.4, 1.5, 3.5, -0.1, 0.5, 0.2, -0.2, 7.3, 6.3, -0.1, 2.3, 6.8, 1.7, 2.8, 0.0, 2.2, 1.4, -1.0, 2.3, 3.0, 4.4, 0.8, 1.2, 4.3, 7.2, 2.8, 0.2, 0.9, 6.3, 1.6, 2.8, -0.1, -0.5, -0.6, 0.3, 9.8, 0.6, 0.3, 0.0, 0.6, 0.4, 0.4, 0.0, 3.8, 0.2, 3.6, 0.0, 1.9, 0.0, -1.8, -0.5, 1.4, -0.3, 1.5, -0.1, 0.1, 1.9, 1.7, 0.8, -0.6, 4.4, 1.6, 0.0, -0.1, 1.0, 2.7, 3.3, 0.6, 2.3, 0.0, 0.1, -0.2, 3.7, 2.7, 1.1, 0.0, 6.8, 0.2, 2.4, 0.0, 2.8, 0.0, 3.0, -0.1, 3.0, 2.5, 2.9, -0.1, 1.0, -0.8, 1.5, 0.2, -0.3, 0.3, 2.5, 0.1, 0.0, 0.4, 1.3, 0.4, 0.0, 2.2, 11.4, 2.0, -0.1, 0.1, 4.0, 1.1, 2.9, -0.3, 0.3, 1.0, 0.0, 0.7, 0.5, 4.4, 2.3, 0.5, 0.4, 2.0, -0.3, -0.1, 0.4, 0.5, -0.2, 0.1, 1.0, 0.1, -0.4, 2.2, 2.1, 0.1, 1.3, 1.3, 0.0, 3.0, 0.1, 8.6, 0.0, 1.0, -0.2, 0.0, 2.3, 0.0, 3.9, 0.3, 0.0, 2.9, -2.1, 0.1, 2.0, 0.6, 2.5, 2.4, 1.9, 0.4, 3.0, 2.6, 5.5, -0.7, 0.5, 1.4, 1.3, 2.6, -0.2, 4.4, 2.8, -0.2, -0.7, 2.8, -0.9, 1.7, -0.2, 1.2, 2.4, 2.6, -0.7, -0.3, 1.7, 1.6, 1.4, 1.9, 0.0, 0.3, -0.1, 0.2, 4.3, 1.0, -2.3, 1.6, 0.1, 2.3, 1.5, 6.8, 2.4, -0.3, -0.1, 5.8, -0.9, -1.5, -0.3, 1.6, 1.7, 0.1, 1.4, 5.6, -0.2, 2.1, 3.7, 0.4, 1.0, 0.1, 0.8, 1.6, -0.4, 0.0, 0.1, -0.1, 9.5, 0.1, 0.4, 0.0, 3.2, 1.1, 2.5, 1.3, 0.6, -0.1, 1.2, 6.0, 7.0, 0.1, 1.1, 1.0, 0.7, 0.4, 1.1, 0.7, 0.3, -0.3, 1.4, 4.0, 1.2, 0.7, -0.1, 1.8, 0.0, 0.0, -0.3, 0.1, 1.0, 0.8, 4.3, 3.6, 2.0, 2.2, -0.3, 0.8, 3.2, 1.1, 4.0, -0.4, 2.1, -1.4, 1.5, -0.1, 0.4, -0.2, 3.4, 8.5, 0.7, 0.5, 1.0, 0.1, 0.8, 1.6, 4.4, 1.7, 1.0, 0.0, 1.2, 0.1, 3.0, 1.3, 0.2, -0.1, 0.7, 3.8, -0.6, -0.1, 1.1, 0.1], \"yaxis\": \"y\"}, {\"boxmean\": \"sd\", \"name\": \"DWS\", \"type\": \"box\", \"xaxis\": \"x4\", \"y\": [0.1, 1.4, 1.1, 0.5, 1.2, 1.6, 0.0, 0.1, 1.0, 0.6, 0.5, 2.0, 1.7, 1.7, 1.8, 0.6, 0.2, 1.9, 0.0, 0.0, 0.8, 3.8, 0.0, 0.1, 1.1, 0.8, 1.2, 0.8, 0.5, 2.2, 0.6, 0.4, 0.3, 0.4, 0.0, 0.7, 1.2, 0.3, 1.2, 2.6, 0.7, 0.2, 0.7, 1.1, 0.0, 0.2, 1.2, 2.5, 0.7, 0.3, 1.0, 0.9, 1.1, 0.0, 3.1, 1.6, 3.3, 0.5, 0.5, 1.9, 0.9, 1.5, 0.8, 2.4, 0.3, 2.9, 0.7, 1.9, 2.3, 1.3, 0.1, 0.9, 0.9, 1.0, 1.0, 0.3, 0.9, 1.9, 0.2, 2.8, 1.2, 0.3, 0.0, 0.6, 1.3, 1.6, 4.3, 3.6, 2.0, 1.7, 1.8, 0.4, 0.1, 0.3, 1.4, 0.8, 4.2, 3.5, 1.1, 0.0, 0.9, 1.5, 1.3, 0.5, 0.1, 0.3, 1.5, 0.4, 0.1, 1.0, 0.6, 1.0, 3.8, 3.2, 2.1, 1.4, 0.9, 0.3, 1.2, 2.3, 2.8, 3.0, 1.0, 0.1, 0.1, 1.5, 1.1, 1.2, 2.2, 1.5, 2.6, 0.2, 0.0, 0.0, 1.7, 0.9, 0.0, 1.0, 1.0, 1.0, 0.0, 0.0, 2.5, 1.2, 0.1, 0.0, 0.5, 0.7, 1.0, 0.9, 0.3, 0.2, 1.5, 1.1, 1.4, 0.3, 1.2, 1.6, 0.2, 0.0, 1.6, 1.8, 0.1, 0.0, 0.5, 0.1, 1.5, 2.0, 0.2, 1.7, 1.2, 2.5, 2.1, 0.0, 1.2, 2.3, 2.6, 1.6, 0.5, 0.3, 0.6, 0.7, 0.1, 0.0, 1.3, 0.4, 0.0, 0.9, 1.9, 1.3, 2.5, 3.0, 1.6, 2.2, 0.0, 0.8, 0.6, 1.9, 3.4, 2.7, 0.0, 1.9, 2.9, 2.3, 0.6, 0.5, 3.7, 1.8, 1.9, 1.5, 1.8, 2.2, 0.5, 1.2, 1.6, 2.9, 2.6, 1.9, 0.4, 2.0, 2.2, 2.6, 0.0, 0.1, 0.1, 0.5, 3.1, 3.7, 2.3, 0.0, 0.5, 1.6, 0.6, 0.1, 2.4, 0.1, 2.6, 0.0, 3.5, 0.0, 1.2, 1.0, 1.3, 0.1, 0.3, 0.5, 0.0, 1.1, 1.4, 1.1, 0.8, 2.8, 1.5, 0.1, 0.4, 1.3, 2.0, 1.9, 0.7, 3.9, 0.0, 0.4, 1.2, 3.3, 0.8, 0.7, 0.1, 1.6, 0.9, 0.9, 0.0, 1.8, 0.0, 1.8, 0.1, 1.3, 0.8, 3.9, 0.1, 3.2, 0.7, 1.0, 0.5, 0.2, 0.7, 1.3, 1.3, 0.0, 0.3, 1.3, 0.2, 0.0, 2.8, 3.6, 1.1, 0.6, 0.0, 1.2, 0.3, 2.2, 0.2, 0.3, 1.5, 0.0, 0.5, 0.9, 1.8, 1.1, 0.4, 0.3, 2.0, 0.2, 0.3, 0.4, 0.1, 0.2, 0.0, 1.4, 0.8, 0.3, 3.0, 1.9, 0.2, 1.4, 1.2, 0.0, 2.4, 0.2, 3.5, 0.0, 0.9, 0.1, 0.0, 0.8, 0.1, 1.4, 0.8, 0.1, 1.9, 1.0, 0.5, 1.3, 1.8, 0.9, 1.5, 1.7, 1.4, 1.7, 2.3, 2.1, 0.7, 0.5, 1.4, 1.7, 2.4, 1.5, 2.0, 3.7, 0.4, 0.6, 3.4, 0.7, 0.6, 0.2, 3.5, 2.1, 2.2, 0.9, 1.1, 0.8, 1.7, 0.9, 0.5, 0.0, 0.2, 0.0, 0.3, 3.2, 1.6, 1.7, 1.0, 0.0, 1.8, 3.2, 2.6, 1.9, 3.3, 0.7, 3.5, 0.4, 0.9, 0.1, 1.5, 1.7, 0.0, 1.4, 1.8, 0.1, 0.8, 2.8, 0.2, 1.2, 2.8, 0.4, 1.9, 0.8, 0.2, 0.3, 0.1, 2.6, 0.0, 0.2, 0.0, 0.8, 0.5, 1.2, 1.9, 1.5, 0.1, 0.7, 3.9, 2.6, 0.1, 0.7, 0.5, 0.4, 0.4, 2.4, 1.4, 0.4, 0.2, 1.3, 2.7, 1.3, 1.3, 0.1, 1.9, 0.2, 0.4, 0.8, 0.1, 1.8, 0.5, 2.4, 1.6, 0.9, 1.4, 0.1, 0.5, 1.9, 1.7, 4.7, 0.7, 1.9, 1.3, 1.1, 0.2, 2.4, 0.1, 1.5, 4.5, 0.2, 1.4, 0.8, 0.3, 1.3, 1.7, 5.6, 1.9, 1.3, 0.1, 3.0, 0.1, 1.2, 0.9, 1.5, 0.1, 0.8, 3.8, 0.7, 0.2, 1.9, 0.1], \"yaxis\": \"y4\"}, {\"boxmean\": \"sd\", \"name\": \"WS\", \"type\": \"box\", \"xaxis\": \"x3\", \"y\": [-0.2, 3.1, 1.4, 0.4, 0.8, 3.1, 0.0, -0.4, 3.1, 1.4, 1.6, 3.3, 5.6, 2.7, 1.7, 0.5, 0.4, 4.1, 0.1, 0.0, 1.0, 8.0, -0.1, -0.1, 3.4, 2.6, 4.3, 2.5, -0.4, 4.0, 0.6, 0.1, 1.2, 0.5, 1.5, 2.4, 3.8, 2.3, 2.7, 5.3, 1.7, 0.3, 2.3, 1.5, 0.0, 0.1, 4.7, 6.7, 0.8, 0.2, 2.5, 1.3, 1.5, 0.0, 5.2, 2.6, 5.6, 0.5, 1.1, 1.6, 1.4, 6.8, 3.5, 3.6, 0.7, 9.3, 0.8, 9.2, 1.8, 5.5, 0.0, 1.3, 1.0, 2.0, 1.8, 0.6, 1.3, 3.2, 0.5, 4.8, 0.9, -0.2, 0.0, 1.1, 2.7, 4.7, 9.8, 7.6, 2.9, 1.9, 4.1, 0.5, -0.3, 0.7, 2.5, 2.0, 5.7, 4.7, 2.4, 0.1, 1.6, 4.3, 2.2, 0.9, 0.2, 0.3, 3.2, 1.4, -0.2, 0.6, -0.6, 2.5, 8.3, 5.8, 4.2, 2.4, 0.6, 0.4, 2.3, 4.5, 3.8, 7.9, 2.2, 0.0, 0.2, 2.6, 0.5, 1.7, 3.5, 3.2, 9.9, 0.3, -0.2, 0.0, 3.3, 1.6, 0.1, 1.3, 2.6, 2.7, 0.1, -0.1, 5.0, 5.3, 0.3, 0.0, 1.4, 0.8, 2.3, 2.3, 0.2, 0.6, 3.1, 0.8, 2.2, 0.9, 2.6, 3.2, 0.5, 0.0, 3.3, 4.5, 0.6, 0.2, 0.7, -0.1, 0.6, 3.2, 0.1, 2.1, 0.6, 1.9, 3.3, 0.2, 3.4, 4.7, 4.0, 1.9, -0.4, 0.3, 1.0, 2.7, -0.1, 0.0, 2.2, 1.0, -0.1, 1.6, 2.6, 6.9, 2.0, 13.4, 3.2, 5.7, -0.1, 1.4, 0.8, 1.6, 10.8, 9.0, 0.0, 4.2, 9.7, 4.0, 3.4, 0.4, 5.9, 3.2, 0.9, 3.8, 4.9, 6.6, 1.2, 2.5, 5.9, 10.1, 5.4, 2.2, 1.3, 8.3, 3.7, 5.5, -0.1, -0.5, -0.5, 0.9, 13.0, 4.3, 2.6, 0.0, 1.0, 1.9, 1.0, 0.1, 6.3, 0.4, 6.3, 0.0, 5.4, 0.0, -0.6, 0.5, 2.8, -0.2, 1.8, 0.3, 0.1, 3.1, 3.0, 2.0, 0.2, 7.2, 3.1, 0.1, 0.3, 2.3, 4.7, 5.2, 1.3, 6.2, 0.1, 0.5, 0.9, 7.0, 3.6, 1.9, 0.1, 8.4, 1.1, 3.3, 0.0, 4.7, 0.0, 4.8, 0.0, 4.3, 3.3, 6.9, -0.1, 4.2, -0.1, 2.6, 0.7, -0.1, 1.0, 3.9, 1.4, 0.0, 0.8, 2.6, 0.6, 0.0, 4.9, 15.0, 3.1, 0.6, 0.1, 5.1, 1.3, 5.1, -0.1, 0.6, 2.5, 0.0, 1.2, 1.4, 6.1, 3.3, 0.9, 0.8, 4.0, -0.1, 0.2, 0.8, 0.6, 0.0, 0.1, 2.4, 0.9, -0.2, 5.2, 4.0, 0.4, 2.7, 2.5, 0.0, 5.4, 0.3, 12.1, 0.1, 1.9, 0.0, 0.0, 3.1, 0.1, 5.4, 1.1, 0.0, 4.7, -1.2, 0.6, 3.2, 2.4, 3.4, 3.9, 3.6, 1.9, 4.7, 4.9, 7.6, 0.0, 1.0, 2.9, 3.0, 5.0, 1.4, 6.4, 6.4, 0.3, -0.1, 6.2, -0.2, 2.3, 0.0, 4.7, 4.5, 4.9, 0.1, 0.9, 2.5, 3.3, 2.3, 2.4, 0.0, 0.5, -0.1, 0.4, 7.5, 2.6, -0.7, 2.6, 0.1, 4.1, 4.7, 9.5, 4.3, 3.0, 0.6, 9.2, -0.5, -0.6, -0.2, 3.1, 3.5, 0.1, 2.8, 7.3, 0.0, 2.9, 6.5, 0.6, 2.2, 3.0, 1.3, 3.5, 0.4, 0.2, 0.4, -0.1, 12.1, 0.1, 0.6, 0.1, 4.0, 1.6, 3.7, 3.3, 2.1, 0.0, 1.9, 9.9, 9.6, 0.2, 1.8, 1.6, 1.1, 0.8, 3.5, 2.1, 0.6, 0.0, 2.8, 6.7, 2.6, 2.0, 0.0, 3.7, 0.2, 0.4, 0.5, 0.2, 2.8, 1.3, 6.7, 5.1, 2.9, 3.6, -0.2, 1.2, 5.0, 2.8, 8.7, 0.3, 4.1, -0.1, 2.6, 0.1, 2.8, 0.0, 4.8, 13.0, 0.8, 1.9, 1.8, 0.4, 2.1, 3.3, 10.1, 3.6, 2.2, 0.1, 4.2, 0.2, 4.3, 2.2, 1.7, 0.0, 1.5, 7.6, 0.0, 0.1, 3.0, 0.2], \"yaxis\": \"y3\"}],\n",
              "                        {\"height\": 700, \"template\": {\"data\": {\"bar\": [{\"error_x\": {\"color\": \"#2a3f5f\"}, \"error_y\": {\"color\": \"#2a3f5f\"}, \"marker\": {\"line\": {\"color\": \"#E5ECF6\", \"width\": 0.5}}, \"type\": \"bar\"}], \"barpolar\": [{\"marker\": {\"line\": {\"color\": \"#E5ECF6\", \"width\": 0.5}}, \"type\": \"barpolar\"}], \"carpet\": [{\"aaxis\": {\"endlinecolor\": \"#2a3f5f\", \"gridcolor\": \"white\", \"linecolor\": \"white\", \"minorgridcolor\": \"white\", \"startlinecolor\": \"#2a3f5f\"}, \"baxis\": {\"endlinecolor\": \"#2a3f5f\", \"gridcolor\": \"white\", \"linecolor\": \"white\", \"minorgridcolor\": \"white\", \"startlinecolor\": \"#2a3f5f\"}, \"type\": \"carpet\"}], \"choropleth\": [{\"colorbar\": {\"outlinewidth\": 0, \"ticks\": \"\"}, \"type\": \"choropleth\"}], \"contour\": [{\"colorbar\": {\"outlinewidth\": 0, \"ticks\": \"\"}, \"colorscale\": [[0.0, \"#0d0887\"], [0.1111111111111111, \"#46039f\"], [0.2222222222222222, \"#7201a8\"], [0.3333333333333333, \"#9c179e\"], [0.4444444444444444, \"#bd3786\"], [0.5555555555555556, \"#d8576b\"], [0.6666666666666666, \"#ed7953\"], [0.7777777777777778, \"#fb9f3a\"], [0.8888888888888888, \"#fdca26\"], [1.0, \"#f0f921\"]], \"type\": \"contour\"}], \"contourcarpet\": [{\"colorbar\": {\"outlinewidth\": 0, \"ticks\": \"\"}, \"type\": \"contourcarpet\"}], \"heatmap\": [{\"colorbar\": {\"outlinewidth\": 0, \"ticks\": \"\"}, \"colorscale\": [[0.0, \"#0d0887\"], [0.1111111111111111, \"#46039f\"], [0.2222222222222222, \"#7201a8\"], [0.3333333333333333, \"#9c179e\"], [0.4444444444444444, \"#bd3786\"], [0.5555555555555556, \"#d8576b\"], [0.6666666666666666, \"#ed7953\"], [0.7777777777777778, \"#fb9f3a\"], [0.8888888888888888, \"#fdca26\"], [1.0, \"#f0f921\"]], \"type\": \"heatmap\"}], \"heatmapgl\": [{\"colorbar\": {\"outlinewidth\": 0, \"ticks\": \"\"}, \"colorscale\": [[0.0, \"#0d0887\"], [0.1111111111111111, \"#46039f\"], [0.2222222222222222, \"#7201a8\"], [0.3333333333333333, \"#9c179e\"], [0.4444444444444444, \"#bd3786\"], [0.5555555555555556, \"#d8576b\"], [0.6666666666666666, \"#ed7953\"], [0.7777777777777778, \"#fb9f3a\"], [0.8888888888888888, \"#fdca26\"], [1.0, \"#f0f921\"]], \"type\": \"heatmapgl\"}], \"histogram\": [{\"marker\": {\"colorbar\": {\"outlinewidth\": 0, \"ticks\": \"\"}}, \"type\": \"histogram\"}], \"histogram2d\": [{\"colorbar\": {\"outlinewidth\": 0, \"ticks\": \"\"}, \"colorscale\": [[0.0, \"#0d0887\"], [0.1111111111111111, \"#46039f\"], [0.2222222222222222, \"#7201a8\"], [0.3333333333333333, \"#9c179e\"], [0.4444444444444444, \"#bd3786\"], [0.5555555555555556, \"#d8576b\"], [0.6666666666666666, \"#ed7953\"], [0.7777777777777778, \"#fb9f3a\"], [0.8888888888888888, \"#fdca26\"], [1.0, \"#f0f921\"]], \"type\": \"histogram2d\"}], \"histogram2dcontour\": [{\"colorbar\": {\"outlinewidth\": 0, \"ticks\": \"\"}, \"colorscale\": [[0.0, \"#0d0887\"], [0.1111111111111111, \"#46039f\"], [0.2222222222222222, \"#7201a8\"], [0.3333333333333333, \"#9c179e\"], [0.4444444444444444, \"#bd3786\"], [0.5555555555555556, \"#d8576b\"], [0.6666666666666666, \"#ed7953\"], [0.7777777777777778, \"#fb9f3a\"], [0.8888888888888888, \"#fdca26\"], [1.0, \"#f0f921\"]], \"type\": \"histogram2dcontour\"}], \"mesh3d\": [{\"colorbar\": {\"outlinewidth\": 0, \"ticks\": \"\"}, \"type\": \"mesh3d\"}], \"parcoords\": [{\"line\": {\"colorbar\": {\"outlinewidth\": 0, \"ticks\": \"\"}}, \"type\": \"parcoords\"}], \"pie\": [{\"automargin\": true, \"type\": \"pie\"}], \"scatter\": [{\"marker\": {\"colorbar\": {\"outlinewidth\": 0, \"ticks\": \"\"}}, \"type\": \"scatter\"}], \"scatter3d\": [{\"line\": {\"colorbar\": {\"outlinewidth\": 0, \"ticks\": \"\"}}, \"marker\": {\"colorbar\": {\"outlinewidth\": 0, \"ticks\": \"\"}}, \"type\": \"scatter3d\"}], \"scattercarpet\": [{\"marker\": {\"colorbar\": {\"outlinewidth\": 0, \"ticks\": \"\"}}, \"type\": \"scattercarpet\"}], \"scattergeo\": [{\"marker\": {\"colorbar\": {\"outlinewidth\": 0, \"ticks\": \"\"}}, \"type\": \"scattergeo\"}], \"scattergl\": [{\"marker\": {\"colorbar\": {\"outlinewidth\": 0, \"ticks\": \"\"}}, \"type\": \"scattergl\"}], \"scattermapbox\": [{\"marker\": {\"colorbar\": {\"outlinewidth\": 0, \"ticks\": \"\"}}, \"type\": \"scattermapbox\"}], \"scatterpolar\": [{\"marker\": {\"colorbar\": {\"outlinewidth\": 0, \"ticks\": \"\"}}, \"type\": \"scatterpolar\"}], \"scatterpolargl\": [{\"marker\": {\"colorbar\": {\"outlinewidth\": 0, \"ticks\": \"\"}}, \"type\": \"scatterpolargl\"}], \"scatterternary\": [{\"marker\": {\"colorbar\": {\"outlinewidth\": 0, \"ticks\": \"\"}}, \"type\": \"scatterternary\"}], \"surface\": [{\"colorbar\": {\"outlinewidth\": 0, \"ticks\": \"\"}, \"colorscale\": [[0.0, \"#0d0887\"], [0.1111111111111111, \"#46039f\"], [0.2222222222222222, \"#7201a8\"], [0.3333333333333333, \"#9c179e\"], [0.4444444444444444, \"#bd3786\"], [0.5555555555555556, \"#d8576b\"], [0.6666666666666666, \"#ed7953\"], [0.7777777777777778, \"#fb9f3a\"], [0.8888888888888888, \"#fdca26\"], [1.0, \"#f0f921\"]], \"type\": \"surface\"}], \"table\": [{\"cells\": {\"fill\": {\"color\": \"#EBF0F8\"}, \"line\": {\"color\": \"white\"}}, \"header\": {\"fill\": {\"color\": \"#C8D4E3\"}, \"line\": {\"color\": \"white\"}}, \"type\": \"table\"}]}, \"layout\": {\"annotationdefaults\": {\"arrowcolor\": \"#2a3f5f\", \"arrowhead\": 0, \"arrowwidth\": 1}, \"coloraxis\": {\"colorbar\": {\"outlinewidth\": 0, \"ticks\": \"\"}}, \"colorscale\": {\"diverging\": [[0, \"#8e0152\"], [0.1, \"#c51b7d\"], [0.2, \"#de77ae\"], [0.3, \"#f1b6da\"], [0.4, \"#fde0ef\"], [0.5, \"#f7f7f7\"], [0.6, \"#e6f5d0\"], [0.7, \"#b8e186\"], [0.8, \"#7fbc41\"], [0.9, \"#4d9221\"], [1, \"#276419\"]], \"sequential\": [[0.0, \"#0d0887\"], [0.1111111111111111, \"#46039f\"], [0.2222222222222222, \"#7201a8\"], [0.3333333333333333, \"#9c179e\"], [0.4444444444444444, \"#bd3786\"], [0.5555555555555556, \"#d8576b\"], [0.6666666666666666, \"#ed7953\"], [0.7777777777777778, \"#fb9f3a\"], [0.8888888888888888, \"#fdca26\"], [1.0, \"#f0f921\"]], \"sequentialminus\": [[0.0, \"#0d0887\"], [0.1111111111111111, \"#46039f\"], [0.2222222222222222, \"#7201a8\"], [0.3333333333333333, \"#9c179e\"], [0.4444444444444444, \"#bd3786\"], [0.5555555555555556, \"#d8576b\"], [0.6666666666666666, \"#ed7953\"], [0.7777777777777778, \"#fb9f3a\"], [0.8888888888888888, \"#fdca26\"], [1.0, \"#f0f921\"]]}, \"colorway\": [\"#636efa\", \"#EF553B\", \"#00cc96\", \"#ab63fa\", \"#FFA15A\", \"#19d3f3\", \"#FF6692\", \"#B6E880\", \"#FF97FF\", \"#FECB52\"], \"font\": {\"color\": \"#2a3f5f\"}, \"geo\": {\"bgcolor\": \"white\", \"lakecolor\": \"white\", \"landcolor\": \"#E5ECF6\", \"showlakes\": true, \"showland\": true, \"subunitcolor\": \"white\"}, \"hoverlabel\": {\"align\": \"left\"}, \"hovermode\": \"closest\", \"mapbox\": {\"style\": \"light\"}, \"paper_bgcolor\": \"white\", \"plot_bgcolor\": \"#E5ECF6\", \"polar\": {\"angularaxis\": {\"gridcolor\": \"white\", \"linecolor\": \"white\", \"ticks\": \"\"}, \"bgcolor\": \"#E5ECF6\", \"radialaxis\": {\"gridcolor\": \"white\", \"linecolor\": \"white\", \"ticks\": \"\"}}, \"scene\": {\"xaxis\": {\"backgroundcolor\": \"#E5ECF6\", \"gridcolor\": \"white\", \"gridwidth\": 2, \"linecolor\": \"white\", \"showbackground\": true, \"ticks\": \"\", \"zerolinecolor\": \"white\"}, \"yaxis\": {\"backgroundcolor\": \"#E5ECF6\", \"gridcolor\": \"white\", \"gridwidth\": 2, \"linecolor\": \"white\", \"showbackground\": true, \"ticks\": \"\", \"zerolinecolor\": \"white\"}, \"zaxis\": {\"backgroundcolor\": \"#E5ECF6\", \"gridcolor\": \"white\", \"gridwidth\": 2, \"linecolor\": \"white\", \"showbackground\": true, \"ticks\": \"\", \"zerolinecolor\": \"white\"}}, \"shapedefaults\": {\"line\": {\"color\": \"#2a3f5f\"}}, \"ternary\": {\"aaxis\": {\"gridcolor\": \"white\", \"linecolor\": \"white\", \"ticks\": \"\"}, \"baxis\": {\"gridcolor\": \"white\", \"linecolor\": \"white\", \"ticks\": \"\"}, \"bgcolor\": \"#E5ECF6\", \"caxis\": {\"gridcolor\": \"white\", \"linecolor\": \"white\", \"ticks\": \"\"}}, \"title\": {\"x\": 0.05}, \"xaxis\": {\"automargin\": true, \"gridcolor\": \"white\", \"linecolor\": \"white\", \"ticks\": \"\", \"title\": {\"standoff\": 15}, \"zerolinecolor\": \"white\", \"zerolinewidth\": 2}, \"yaxis\": {\"automargin\": true, \"gridcolor\": \"white\", \"linecolor\": \"white\", \"ticks\": \"\", \"title\": {\"standoff\": 15}, \"zerolinecolor\": \"white\", \"zerolinewidth\": 2}}}, \"title\": {\"text\": \"Box Plots\"}, \"xaxis\": {\"anchor\": \"y\", \"domain\": [0.0, 0.45], \"title\": {\"text\": \"OWS\"}}, \"xaxis2\": {\"anchor\": \"y2\", \"domain\": [0.55, 1.0], \"title\": {\"text\": \"USG%\"}}, \"xaxis3\": {\"anchor\": \"y3\", \"domain\": [0.0, 0.45], \"title\": {\"text\": \"WS\"}}, \"xaxis4\": {\"anchor\": \"y4\", \"domain\": [0.55, 1.0], \"title\": {\"text\": \"DWS\"}}, \"yaxis\": {\"anchor\": \"x\", \"domain\": [0.575, 1.0]}, \"yaxis2\": {\"anchor\": \"x2\", \"domain\": [0.575, 1.0]}, \"yaxis3\": {\"anchor\": \"x3\", \"domain\": [0.0, 0.425]}, \"yaxis4\": {\"anchor\": \"x4\", \"domain\": [0.0, 0.425]}},\n",
              "                        {\"responsive\": true}\n",
              "                    ).then(function(){\n",
              "                            \n",
              "var gd = document.getElementById('ac0b1a4b-7898-4908-9e5a-ea24c5d8021b');\n",
              "var x = new MutationObserver(function (mutations, observer) {{\n",
              "        var display = window.getComputedStyle(gd).display;\n",
              "        if (!display || display === 'none') {{\n",
              "            console.log([gd, 'removed!']);\n",
              "            Plotly.purge(gd);\n",
              "            observer.disconnect();\n",
              "        }}\n",
              "}});\n",
              "\n",
              "// Listen for the removal of the full notebook cells\n",
              "var notebookContainer = gd.closest('#notebook-container');\n",
              "if (notebookContainer) {{\n",
              "    x.observe(notebookContainer, {childList: true});\n",
              "}}\n",
              "\n",
              "// Listen for the clearing of the current output cell\n",
              "var outputEl = gd.closest('.output');\n",
              "if (outputEl) {{\n",
              "    x.observe(outputEl, {childList: true});\n",
              "}}\n",
              "\n",
              "                        })\n",
              "                };\n",
              "                \n",
              "            </script>\n",
              "        </div>\n",
              "</body>\n",
              "</html>"
            ]
          },
          "metadata": {
            "tags": []
          }
        }
      ]
    },
    {
      "cell_type": "markdown",
      "metadata": {
        "id": "zICSQKSeGuCf"
      },
      "source": [
        "- In the first graph are the actions of offensive victories, that is, the estimated number of victories contributed by a player given their offensive performance, in the graph it can be seen that there are many atypical data, which do not have much separation between by it is not convenient to eliminate all of them, and the dispersion of the data is not very great. the graph is positive asymmetric.\n",
        "- The second graph shows the percentage of use is an estimate of the percentage of team plays used by a player while he was on the court, in the graph you can see that there are not many outliers, and they have little separation between them, so they could be eliminated. the graph is positive asymmetric.\n",
        "- The third graph shows the estimated number of winnings contributed by a player every 48 minutes, in the graph you can see that there are many outliers, and there are some outliers that have little separation between them and there are other outliers that are widely separated Among them, this last group of data can be eliminated or replaced and the dispersion is not very great. the graph is positive asymmetric.\n",
        "- The fourth graph shows the estimated number of victories contributed by a player given his defensive performance, in the graph it can be seen that there are not many outliers, which can be replaced by the average. the graph is positive asymmetric."
      ]
    },
    {
      "cell_type": "code",
      "metadata": {
        "id": "p7b7T8EvW-ny",
        "outputId": "f0c614eb-eab1-4213-d414-8de7596c76bd",
        "colab": {
          "base_uri": "https://localhost:8080/",
          "height": 717
        }
      },
      "source": [
        "graph_box_plot(df_numeric, 20)"
      ],
      "execution_count": null,
      "outputs": [
        {
          "output_type": "display_data",
          "data": {
            "text/html": [
              "<html>\n",
              "<head><meta charset=\"utf-8\" /></head>\n",
              "<body>\n",
              "    <div>\n",
              "            <script src=\"https://cdnjs.cloudflare.com/ajax/libs/mathjax/2.7.5/MathJax.js?config=TeX-AMS-MML_SVG\"></script><script type=\"text/javascript\">if (window.MathJax) {MathJax.Hub.Config({SVG: {font: \"STIX-Web\"}});}</script>\n",
              "                <script type=\"text/javascript\">window.PlotlyConfig = {MathJaxConfig: 'local'};</script>\n",
              "        <script src=\"https://cdn.plot.ly/plotly-latest.min.js\"></script>    \n",
              "            <div id=\"6ed312e7-9169-4a34-87d4-75aaa7e6eb2f\" class=\"plotly-graph-div\" style=\"height:700px; width:100%;\"></div>\n",
              "            <script type=\"text/javascript\">\n",
              "                \n",
              "                    window.PLOTLYENV=window.PLOTLYENV || {};\n",
              "                    \n",
              "                if (document.getElementById(\"6ed312e7-9169-4a34-87d4-75aaa7e6eb2f\")) {\n",
              "                    Plotly.newPlot(\n",
              "                        '6ed312e7-9169-4a34-87d4-75aaa7e6eb2f',\n",
              "                        [{\"boxmean\": \"sd\", \"name\": \"WS/48\", \"type\": \"box\", \"xaxis\": \"x2\", \"y\": [-0.121, 0.16, 0.046, 0.027000000000000003, 0.038, 0.067, -0.251, -0.16899999999999998, 0.067, 0.156, 0.175, 0.08199999999999999, 0.106, 0.061, 0.055999999999999994, 0.027000000000000003, 0.025, 0.10099999999999999, 0.177, 0.099, 0.051, 0.156, -0.10300000000000001, -0.057, 0.11599999999999999, 0.11, 0.128, 0.11900000000000001, -0.011000000000000001, 0.099, 0.052000000000000005, 0.008, 0.109, 0.085, 0.045, 0.115, 0.133, 0.16699999999999998, 0.12, 0.11699999999999999, 0.079, 0.08800000000000001, 0.055999999999999994, 0.07200000000000001, 0.03, 0.016, 0.147, 0.127, 0.046, 0.026000000000000002, 0.065, 0.079, 0.061, 0.037000000000000005, 0.099, 0.153, 0.135, 0.038, 0.07, 0.032, 0.14400000000000002, 0.124, 0.077, 0.105, 0.084, 0.187, 0.05, 0.27, 0.048, 0.11800000000000001, 0.01, 0.051, 0.048, 0.076, 0.08199999999999999, 0.091, 0.08800000000000001, 0.105, 0.064, 0.114, 0.042, -0.02, -0.237, 0.063, 0.177, 0.131, 0.168, 0.214, 0.121, 0.087, 0.10800000000000001, 0.059000000000000004, -0.06, 0.131, 0.077, 0.057, 0.113, 0.10300000000000001, 0.175, 0.027999999999999997, 0.069, 0.11800000000000001, 0.08, 0.094, 0.05, 0.031, 0.095, 0.11, -0.046, 0.024, -0.033, 0.12, 0.14300000000000002, 0.158, 0.099, 0.092, 0.031, 0.057, 0.077, 0.136, 0.083, 0.161, 0.14300000000000002, 0.006, 0.098, 0.09, 0.026000000000000002, 0.091, 0.10400000000000001, 0.113, 0.20800000000000002, 0.035, -0.134, -0.18, 0.08199999999999999, 0.059000000000000004, 0.08, 0.13699999999999998, 0.17, 0.1, 2.713, -0.141, 0.13699999999999998, 0.213, 0.09, -1.063, 0.061, 0.042, 0.085, 0.11199999999999999, 0.016, 0.079, 0.083, 0.048, 0.068, 0.18100000000000002, 0.11, 0.122, 0.034, -0.196, 0.115, 0.11, 0.365, 0.14300000000000002, 0.052000000000000005, -0.036000000000000004, 0.018000000000000002, 0.081, 0.025, 0.065, 0.02, 0.057, 0.115, 0.038, 0.08900000000000001, 0.11599999999999999, 0.08, 0.075, -0.027000000000000003, 0.023, 0.047, 0.09300000000000001, -0.018000000000000002, -0.019, 0.077, 0.067, -0.44299999999999995, 0.18899999999999997, 0.084, 0.131, 0.053, 0.222, 0.078, 0.2, -0.063, 0.083, 0.031, 0.045, 0.214, 0.22399999999999998, -0.03, 0.157, 0.195, 0.08, 0.107, 0.051, 0.147, 0.1, 0.027999999999999997, 0.132, 0.098, 0.111, 0.12300000000000001, 0.14400000000000002, 0.183, 0.221, 0.109, 0.059000000000000004, 0.13, 0.15, 0.085, 0.153, -1.005, -0.166, -0.185, 0.19699999999999998, 0.225, 0.105, 0.078, 0.149, 0.036000000000000004, 0.043, 0.10300000000000001, 0.059000000000000004, 0.14400000000000002, 0.063, 0.10800000000000001, -0.015, 0.1, -0.18899999999999997, -0.016, 0.023, 0.10099999999999999, -0.11800000000000001, 0.099, 0.055999999999999994, 0.124, 0.081, 0.18899999999999997, 0.046, 0.022000000000000002, 0.207, 0.138, 0.052000000000000005, 0.037000000000000005, 0.08199999999999999, 0.12, 0.147, 0.121, 0.156, 0.079, 0.044000000000000004, 0.04, 0.13699999999999998, 0.08900000000000001, 0.083, 0.071, 0.19399999999999998, 0.055, 0.1, 0.087, 0.11800000000000001, -0.03, 0.145, -0.053, 0.095, 0.092, 0.138, -0.043, 0.098, -0.008, 0.212, 0.043, -0.009000000000000001, 0.032, 0.139, 0.04, -0.141, 0.057999999999999996, 0.081, 0.099, 0.023, 0.126, 0.294, 0.096, 0.027000000000000003, 0.159, 0.102, 0.040999999999999995, 0.17, -0.036000000000000004, 0.083, 0.06, -0.21100000000000002, 0.094, 0.031, 0.146, 0.1, 0.122, 0.09300000000000001, 0.098, -0.035, 0.008, 0.035, 0.07200000000000001, -0.006, 0.177, 0.10400000000000001, 0.028999999999999998, -0.033, 0.19, 0.075, 0.10099999999999999, 0.134, 0.096, 0.057, 0.111, 0.057999999999999996, 0.214, 0.043, 0.11199999999999999, -0.02, 0.008, 0.083, 0.021, 0.113, 0.033, 0.034, 0.154, -0.036000000000000004, 0.027999999999999997, 0.08900000000000001, 0.06, 0.08900000000000001, 0.075, 0.106, 0.125, 0.106, 0.107, 0.198, 0.0, 0.134, 0.076, 0.185, 0.168, 0.045, 0.193, 0.13, 0.028999999999999998, -0.008, 0.138, -0.006, 0.064, 0.005, 0.08900000000000001, 0.125, 0.12300000000000001, 0.006, 0.018000000000000002, 0.142, 0.11, 0.087, 0.063, -0.192, 0.171, -0.01, 0.081, 0.17600000000000002, 0.059000000000000004, -0.017, 0.06, 0.298, 0.09, 0.129, 0.174, 0.153, 0.085, 0.037000000000000005, 0.191, -0.06, -0.015, -0.047, 0.13699999999999998, 0.175, 0.46399999999999997, 0.087, 0.182, -0.012, 0.075, 0.14, 0.21, 0.071, 0.081, 0.091, 0.18, 0.017, 0.022000000000000002, 0.057, -0.019, 0.22699999999999998, 0.102, 0.18, 0.038, 0.115, 0.08800000000000001, 0.079, 0.07400000000000001, 0.08900000000000001, -0.033, 0.14400000000000002, 0.242, 0.262, 0.081, 0.161, 0.11800000000000001, 0.079, 0.068, 0.069, 0.055999999999999994, 0.065, -0.01, 0.106, 0.115, 0.064, 0.065, -0.012, 0.106, 0.085, 0.07200000000000001, 0.043, 0.066, 0.068, 0.165, 0.113, 0.10300000000000001, 0.067, 0.111, -0.08, 0.20800000000000002, 0.12300000000000001, 0.09300000000000001, 0.159, 0.013000000000000001, 0.147, -0.005, 0.064, 0.006, 0.09699999999999999, -0.001, 0.142, 0.24100000000000002, 0.21899999999999997, 0.032, 0.064, 0.094, 0.099, 0.098, 0.19, 0.158, 0.051, 0.076, 0.10300000000000001, 0.078, 0.155, 0.095, 0.081, -0.004, 0.154, 0.16399999999999998, 0.004, 0.019, 0.078, 0.039], \"yaxis\": \"y2\"}, {\"boxmean\": \"sd\", \"name\": \"OBPM\", \"type\": \"box\", \"xaxis\": \"x\", \"y\": [-10.6, -0.6, -0.6, -0.7, -3.7, -0.4, -12.6, -8.7, -0.4, -0.1, -0.8, -1.6, 1.4, 0.2, -2.2, -4.0, -0.7, 1.6, -0.6, -3.1, -1.6, 3.5, -8.7, -7.2, 0.8, -1.4, 4.5, -1.3, -3.0, -0.1, -3.1, -2.2, 0.5, -0.1, 0.8, -1.6, 0.6, 5.3, -1.1, 1.0, -0.6, -2.0, -0.4, -2.1, -6.6, -3.9, 1.3, 1.7, -2.3, -4.8, 1.6, -2.3, -2.5, -3.8, 0.1, -0.3, 1.0, -1.8, -1.5, -1.1, -2.6, 1.0, -0.1, -1.9, -1.9, 2.2, -2.8, 9.8, -2.6, 2.1, -3.1, -2.7, -2.6, -1.0, -2.5, -1.3, -2.3, 0.0, -2.0, -0.9, -3.8, -3.7, -14.8, -2.4, -2.1, 1.1, 5.2, -0.3, -0.8, -2.7, -1.1, -1.9, -5.0, 0.3, 0.2, -1.6, 0.4, -0.1, -0.5, -3.8, 0.5, 1.3, -1.1, -1.7, -1.9, -3.2, -0.6, 0.7, -6.1, -2.5, -5.5, 0.6, 2.3, -0.2, 1.0, -1.8, -2.9, 0.4, -0.9, 0.1, -1.3, 2.5, -1.4, -7.4, -1.5, 0.0, -2.5, -3.4, 0.6, 0.9, 4.8, -2.0, -6.0, -13.8, 0.8, -0.2, -3.2, -3.4, -1.2, 0.8, 68.7, -10.3, -0.6, 2.4, 1.6, -36.5, 0.7, -3.9, -0.4, 0.0, -0.8, 1.2, -2.1, -2.6, -1.1, 0.6, -1.2, -0.2, -2.2, -8.6, -1.0, 0.7, 13.5, -3.7, 0.3, -5.8, -3.5, -1.0, -4.7, -1.1, -2.3, -1.6, -0.9, -2.0, 0.7, -1.5, -0.2, -0.9, -2.1, -2.8, -2.0, 0.6, -4.3, -7.2, -1.4, -0.8, -23.8, -0.7, -1.4, 3.9, -0.8, 7.5, -0.7, 1.2, -5.4, -0.1, -2.1, -1.9, 3.1, 7.0, -7.6, -0.2, 5.5, -0.2, 2.2, -3.8, -0.4, -0.4, -1.4, -0.9, 1.8, 1.6, -1.8, -1.1, 2.4, 5.0, 0.9, -0.6, -1.1, 5.1, -0.6, 1.8, -29.5, -8.2, -8.7, 2.7, 4.3, -2.7, -2.7, -0.7, -1.8, -0.9, -1.1, -3.9, 0.3, -0.9, 1.6, -6.0, 0.0, -9.8, -3.1, -4.7, -0.8, -5.9, 0.2, -5.5, 1.3, 0.9, 0.4, -1.0, -4.9, 0.7, -0.6, -5.6, -3.3, 1.2, -1.3, -0.3, -1.5, 0.2, -3.1, -2.5, -3.3, 2.0, 1.1, -0.5, -2.3, 4.8, -1.8, 0.0, -3.0, 1.1, -2.3, -1.1, -9.1, 1.4, -0.7, -0.6, -5.9, -0.8, -4.3, 0.2, -1.5, -5.1, -2.0, -1.1, -3.1, -10.1, -1.8, -1.1, 1.1, -4.3, 0.1, 9.8, -0.5, -2.6, -3.1, 1.8, 0.3, 0.3, -5.8, -3.7, -0.8, -10.5, 0.1, -0.6, 2.4, 2.4, -2.6, -2.3, -0.9, -4.2, -0.9, -2.7, 0.1, -3.9, -4.1, -1.7, -2.2, -5.9, -2.1, -0.6, -1.1, -0.5, -1.3, -5.9, 1.2, -2.4, 4.2, -1.7, 0.6, -6.3, -2.0, 0.3, -3.4, 2.5, -1.3, -3.7, 2.1, -3.9, -1.8, 0.0, -2.4, 1.6, 0.5, 0.0, -3.6, 1.5, 2.2, 2.5, -2.5, -2.8, 0.1, -1.2, -1.6, -2.1, 1.1, -2.0, -2.5, -5.5, 0.6, -3.0, -0.7, -3.5, 1.2, -0.8, 0.1, -2.1, -2.2, -1.3, -1.1, -0.3, 2.9, -11.5, 0.0, -3.5, -2.5, 0.4, -0.4, -1.5, 1.5, 5.0, 0.5, 2.0, 2.9, 1.3, -2.3, -3.2, 0.5, -6.6, -2.8, -5.6, 1.3, 0.0, 11.9, -2.2, 3.2, -3.5, 0.6, 1.7, 2.2, -1.5, -1.0, 0.0, -0.8, 0.8, -2.7, -1.4, -4.3, 7.6, -2.6, -0.9, -3.5, 1.6, -2.3, 0.7, -1.1, -1.8, -7.4, -0.7, 0.1, 6.0, -3.8, -2.6, -0.1, 0.3, -1.6, -2.0, -0.3, -0.2, -5.7, 1.9, 1.7, 1.1, -1.3, -4.1, 0.4, -4.9, -3.3, -3.8, -1.1, -1.6, -1.3, 2.8, 1.1, 0.7, 1.4, -5.0, -0.5, 2.8, -3.7, 0.9, -2.6, -1.7, -2.8, 1.0, -4.3, -4.0, -7.5, 2.0, 3.0, 1.0, -1.0, -0.9, -3.6, -1.4, -0.7, 0.2, -0.6, -0.3, -1.8, -0.5, -1.8, -0.5, -0.6, -2.7, -6.5, -1.8, 1.1, -5.3, -3.2, 0.1, -0.5], \"yaxis\": \"y\"}, {\"boxmean\": \"sd\", \"name\": \"DBPM\", \"type\": \"box\", \"xaxis\": \"x4\", \"y\": [0.5, 1.3, -1.3, -2.0, 0.9, -0.5, -0.7, -1.9, -0.6, 0.6, 0.0, 1.6, -0.6, -0.1, 2.5, 0.4, -3.2, -1.7, -2.6, -5.8, 0.4, 1.2, -1.4, -0.4, -0.3, 1.0, -0.7, -0.5, -2.3, -0.2, -0.2, -2.4, -1.5, 0.1, -3.7, -0.7, -1.4, -3.3, 0.6, 0.6, -0.4, -1.9, -1.3, -1.6, -3.1, -1.3, -0.3, -0.7, -2.4, -0.6, -1.9, 0.1, 0.1, -3.3, 1.3, 2.2, 1.0, 0.1, -1.3, 0.0, 2.0, 0.1, -1.8, 1.1, -2.7, 1.2, -1.0, -1.2, 1.2, -1.7, -0.5, 0.0, 1.2, -1.2, -0.8, 1.5, 0.0, 0.4, -3.8, 0.5, 0.3, -3.8, -5.9, -0.9, 5.4, -0.8, 3.0, 4.5, 1.0, 1.7, 0.9, 0.9, -2.7, -0.6, -2.2, -0.2, 2.0, 1.5, 1.9, -2.1, -2.1, -0.6, -1.8, -1.3, -2.9, -2.0, -0.9, -2.7, -0.6, -0.3, -0.3, 0.8, 0.1, 3.3, -1.3, 0.3, -0.4, 0.3, -0.6, 2.1, 1.5, 1.1, 0.2, -0.8, -1.3, 0.3, -0.5, 0.3, 2.0, -0.8, 2.1, -1.8, -4.1, -4.8, 0.4, -3.4, -2.8, 4.6, 0.6, -0.2, -14.3, -2.2, 1.9, -0.1, -3.3, -12.7, -2.0, 1.4, -1.7, 0.2, -1.8, -3.4, 0.3, 2.0, -0.6, -0.3, 1.2, 2.0, -3.6, -8.6, 2.6, 0.4, -2.9, -2.0, -3.0, -1.5, 1.3, 0.6, -0.5, 0.2, -0.5, 1.2, -0.5, -2.7, -2.2, 1.9, 1.7, -0.4, -3.3, -2.5, -1.6, -1.8, -2.2, -1.4, -0.3, -2.1, -2.1, 6.2, 1.3, -2.7, 2.4, 2.2, -1.2, 2.4, -5.4, -1.5, -0.5, -0.2, 0.3, -0.6, -4.2, 4.2, 0.4, -1.1, -2.2, 2.2, 4.4, -0.2, 1.4, 1.2, -2.2, -1.2, 1.4, 2.2, -1.4, 0.9, 0.4, 1.1, -1.2, -1.9, -0.5, 1.4, -11.9, -3.3, -3.5, 3.2, 1.0, 2.7, 1.8, 4.0, -1.5, -0.2, -1.4, 1.1, 0.5, -2.3, 0.2, -7.4, 1.5, -2.3, -1.3, 0.7, 0.3, 0.4, -2.0, 0.5, -4.7, -2.6, 4.0, -1.3, 3.1, 0.7, -0.3, -0.3, -2.1, -0.2, 1.8, 1.7, -0.2, 2.6, -4.6, -2.2, -0.4, 0.9, -1.3, -2.4, 3.3, 0.0, -0.9, -1.7, -10.4, -0.2, -6.1, 0.2, -3.6, -1.3, -1.6, 1.6, -1.0, 0.6, -0.5, 2.5, -0.7, -1.2, -1.6, 1.2, 0.1, 1.7, -0.2, -0.2, -1.0, -4.4, 1.9, 1.3, -0.4, -1.5, -9.0, -2.1, -4.3, 2.9, 0.3, -0.7, -1.0, -4.7, -1.6, -1.0, -2.5, -2.2, 0.2, -0.5, -0.6, -1.3, -4.3, -2.5, -2.5, -0.1, -1.4, 1.7, -2.0, -2.4, 2.4, -1.2, -0.4, 1.9, 0.6, -6.0, -1.1, -0.4, 1.8, -1.8, -2.3, 1.3, 3.5, -1.0, -1.7, -1.6, -0.7, -1.6, 0.0, -0.5, -1.5, -1.2, 0.3, -2.1, -0.8, -0.2, 5.8, -2.5, -0.4, 0.1, -2.2, 1.2, 0.0, 6.8, 1.7, 0.5, 1.6, 1.7, -1.7, -0.4, 2.9, 0.0, -1.7, -0.2, -0.3, 0.4, 0.3, -1.9, -1.3, 0.5, 1.5, -1.6, -2.4, -6.7, 0.5, -4.0, 0.8, 2.1, 0.0, -0.7, -2.2, -4.0, -0.2, 3.6, -0.9, 1.6, 3.5, 1.2, 1.8, 1.1, -1.6, -0.5, -0.2, 3.4, -9.4, 1.2, -1.0, -1.1, -1.7, -0.1, -1.1, -0.1, 2.3, -1.3, 3.5, -1.0, -2.1, -0.2, -2.1, -0.8, -3.8, 1.3, -1.7, -2.4, -0.2, -0.7, 0.1, 1.0, -0.6, 1.2, 2.9, 1.0, -1.9, -0.5, -0.9, -1.5, -1.5, -2.0, -0.3, -0.6, 0.9, -2.4, -1.1, -1.6, -1.8, -0.2, 0.2, 2.2, 2.9, 1.1, -1.8, 0.3, 2.3, -1.0, -1.9, -1.6, -0.7, -4.3, 0.6, 0.0, 2.1, 3.5, -1.3, 2.0, -1.3, -1.4, -1.7, 2.2, 3.8, -0.7, 2.3, -0.6, -1.5, -1.4, 3.6, 2.8, 1.0, 5.3, 3.3, -1.2, -1.5, 1.7, -1.6, 1.3, -1.8, -0.3, 2.7, 1.4, 3.0, 0.3, 0.3, -0.1, -3.7], \"yaxis\": \"y4\"}, {\"boxmean\": \"sd\", \"name\": \"BPM\", \"type\": \"box\", \"xaxis\": \"x3\", \"y\": [-10.1, 0.8, -1.9, -2.6, -2.9, -0.9, -13.3, -10.6, -1.0, 0.5, -0.8, 0.0, 0.8, 0.2, 0.3, -3.6, -4.0, -0.1, -3.1, -9.0, -1.3, 4.7, -10.1, -7.5, 0.5, -0.4, 3.7, -1.8, -5.4, -0.4, -3.3, -4.6, -1.0, 0.0, -2.8, -2.3, -0.8, 2.0, -0.5, 1.7, -1.0, -4.0, -1.7, -3.8, -9.7, -5.2, 1.0, 1.0, -4.6, -5.4, -0.2, -2.2, -2.4, -7.1, 1.4, 1.8, 2.0, -1.7, -2.8, -1.1, -0.5, 1.2, -1.9, -0.7, -4.7, 3.4, -3.8, 8.6, -1.4, 0.4, -3.6, -2.7, -1.4, -2.2, -3.3, 0.2, -2.4, 0.4, -5.8, -0.4, -3.5, -7.5, -20.7, -3.3, 3.2, 0.2, 8.2, 4.2, 0.2, -1.1, -0.2, -1.0, -7.7, -0.3, -2.1, -1.9, 2.4, 1.3, 1.4, -5.9, -1.6, 0.7, -2.8, -3.1, -4.7, -5.2, -1.5, -2.0, -6.6, -2.8, -5.8, 1.4, 2.4, 3.1, -0.2, -1.5, -3.3, 0.7, -1.5, 2.2, 0.2, 3.6, -1.3, -8.2, -2.8, 0.3, -3.0, -3.1, 2.6, 0.1, 6.9, -3.9, -10.0, -18.6, 1.2, -3.7, -6.0, 1.2, -0.6, 0.6, 54.4, -12.5, 1.4, 2.3, -1.7, -49.2, -1.3, -2.5, -2.2, 0.2, -2.7, -2.2, -1.8, -0.7, -1.7, 0.3, 0.0, 1.8, -5.8, -17.1, 1.6, 1.1, 10.6, -5.7, -2.7, -7.3, -2.1, -0.4, -5.1, -0.9, -2.8, -0.4, -1.4, -4.7, -1.5, 0.4, 1.5, -1.2, -5.3, -5.3, -3.6, -1.2, -6.5, -8.6, -1.8, -3.0, -25.8, 5.5, -0.1, 1.2, 1.6, 9.7, -1.9, 3.6, -10.7, -1.6, -2.6, -2.1, 3.4, 6.4, -11.8, 4.0, 5.8, -1.2, 0.1, -1.7, 4.0, -0.6, 0.0, 0.4, -0.4, 0.4, -0.4, 1.1, 1.0, 5.9, 1.2, 0.4, -2.3, 3.3, -1.1, 3.2, -41.4, -11.5, -12.1, 5.9, 5.3, -0.1, -0.9, 3.2, -3.4, -1.1, -2.5, -2.8, 0.8, -3.2, 1.7, -13.4, 1.5, -12.1, -4.3, -3.9, -0.4, -5.4, -1.8, -5.0, -3.4, -1.7, 4.4, -2.3, -1.8, 1.5, -0.9, -5.9, -5.3, 0.9, 0.5, 1.4, -1.6, 2.7, -7.7, -4.7, -3.7, 2.9, -0.2, -2.9, 1.0, 4.9, -2.7, -1.8, -13.4, 0.8, -8.3, -0.9, -12.7, 0.1, -2.4, 0.9, -6.8, -0.2, -4.7, 2.7, -2.2, -6.3, -3.6, 0.1, -3.0, -8.4, -2.0, -1.3, 0.1, -8.8, 2.0, 11.1, -0.9, -4.1, -12.1, -0.2, -3.9, 3.2, -5.5, -4.4, -1.8, -15.3, -1.6, -1.6, -0.1, 0.2, -2.4, -2.8, -1.5, -5.5, -5.2, -5.2, -2.4, -4.0, -5.4, -0.1, -4.2, -8.3, 0.2, -1.8, -1.5, 1.3, -0.7, -11.9, 0.1, -2.7, 5.9, -3.5, -1.8, -5.1, 1.5, -0.7, -5.2, 1.0, -2.0, -5.3, 2.2, -4.4, -3.3, -1.2, -2.1, -0.4, -0.4, -0.2, 2.2, -1.0, 1.8, 2.6, -4.7, -1.6, 0.1, 5.6, 0.1, -1.7, 2.7, -0.3, -4.2, -5.8, 3.5, -3.0, -2.4, -3.7, 0.8, -0.4, 0.4, -4.0, -3.4, -0.8, 0.4, -1.8, 0.5, -18.2, 0.5, -7.4, -1.7, 2.5, -0.5, -2.2, -0.7, 1.0, 0.2, 5.6, 2.0, 2.9, 1.1, -2.0, 2.3, -5.5, -4.4, -6.1, 1.1, 3.4, 2.5, -1.0, 2.2, -4.6, -1.1, 1.6, 1.1, -1.6, 1.3, -1.3, 2.7, -0.2, -4.9, -1.5, -6.4, 6.8, -6.4, 0.5, -5.2, -0.8, -2.5, 0.0, -1.0, -0.8, -8.0, 0.5, 3.0, 7.0, -5.7, -3.1, -1.0, -1.2, -3.1, -3.9, -0.5, -0.8, -4.8, -0.5, 0.6, -0.5, -3.1, -4.3, 0.6, -2.7, -0.4, -2.7, -2.9, -1.3, 1.0, 1.9, -0.8, -0.9, 0.7, -9.3, 0.1, 2.8, -1.5, 4.4, -3.9, 0.3, -4.1, -0.4, -6.0, -1.8, -3.7, 1.2, 5.3, 0.4, -2.6, -2.3, 0.0, 1.4, 0.4, 5.5, 2.7, -1.5, -3.3, 1.2, -3.5, 0.8, -2.3, -3.0, -3.7, -0.5, 4.1, -5.0, -2.9, 0.1, -4.1], \"yaxis\": \"y3\"}],\n",
              "                        {\"height\": 700, \"template\": {\"data\": {\"bar\": [{\"error_x\": {\"color\": \"#2a3f5f\"}, \"error_y\": {\"color\": \"#2a3f5f\"}, \"marker\": {\"line\": {\"color\": \"#E5ECF6\", \"width\": 0.5}}, \"type\": \"bar\"}], \"barpolar\": [{\"marker\": {\"line\": {\"color\": \"#E5ECF6\", \"width\": 0.5}}, \"type\": \"barpolar\"}], \"carpet\": [{\"aaxis\": {\"endlinecolor\": \"#2a3f5f\", \"gridcolor\": \"white\", \"linecolor\": \"white\", \"minorgridcolor\": \"white\", \"startlinecolor\": \"#2a3f5f\"}, \"baxis\": {\"endlinecolor\": \"#2a3f5f\", \"gridcolor\": \"white\", \"linecolor\": \"white\", \"minorgridcolor\": \"white\", \"startlinecolor\": \"#2a3f5f\"}, \"type\": \"carpet\"}], \"choropleth\": [{\"colorbar\": {\"outlinewidth\": 0, \"ticks\": \"\"}, \"type\": \"choropleth\"}], \"contour\": [{\"colorbar\": {\"outlinewidth\": 0, \"ticks\": \"\"}, \"colorscale\": [[0.0, \"#0d0887\"], [0.1111111111111111, \"#46039f\"], [0.2222222222222222, \"#7201a8\"], [0.3333333333333333, \"#9c179e\"], [0.4444444444444444, \"#bd3786\"], [0.5555555555555556, \"#d8576b\"], [0.6666666666666666, \"#ed7953\"], [0.7777777777777778, \"#fb9f3a\"], [0.8888888888888888, \"#fdca26\"], [1.0, \"#f0f921\"]], \"type\": \"contour\"}], \"contourcarpet\": [{\"colorbar\": {\"outlinewidth\": 0, \"ticks\": \"\"}, \"type\": \"contourcarpet\"}], \"heatmap\": [{\"colorbar\": {\"outlinewidth\": 0, \"ticks\": \"\"}, \"colorscale\": [[0.0, \"#0d0887\"], [0.1111111111111111, \"#46039f\"], [0.2222222222222222, \"#7201a8\"], [0.3333333333333333, \"#9c179e\"], [0.4444444444444444, \"#bd3786\"], [0.5555555555555556, \"#d8576b\"], [0.6666666666666666, \"#ed7953\"], [0.7777777777777778, \"#fb9f3a\"], [0.8888888888888888, \"#fdca26\"], [1.0, \"#f0f921\"]], \"type\": \"heatmap\"}], \"heatmapgl\": [{\"colorbar\": {\"outlinewidth\": 0, \"ticks\": \"\"}, \"colorscale\": [[0.0, \"#0d0887\"], [0.1111111111111111, \"#46039f\"], [0.2222222222222222, \"#7201a8\"], [0.3333333333333333, \"#9c179e\"], [0.4444444444444444, \"#bd3786\"], [0.5555555555555556, \"#d8576b\"], [0.6666666666666666, \"#ed7953\"], [0.7777777777777778, \"#fb9f3a\"], [0.8888888888888888, \"#fdca26\"], [1.0, \"#f0f921\"]], \"type\": \"heatmapgl\"}], \"histogram\": [{\"marker\": {\"colorbar\": {\"outlinewidth\": 0, \"ticks\": \"\"}}, \"type\": \"histogram\"}], \"histogram2d\": [{\"colorbar\": {\"outlinewidth\": 0, \"ticks\": \"\"}, \"colorscale\": [[0.0, \"#0d0887\"], [0.1111111111111111, \"#46039f\"], [0.2222222222222222, \"#7201a8\"], [0.3333333333333333, \"#9c179e\"], [0.4444444444444444, \"#bd3786\"], [0.5555555555555556, \"#d8576b\"], [0.6666666666666666, \"#ed7953\"], [0.7777777777777778, \"#fb9f3a\"], [0.8888888888888888, \"#fdca26\"], [1.0, \"#f0f921\"]], \"type\": \"histogram2d\"}], \"histogram2dcontour\": [{\"colorbar\": {\"outlinewidth\": 0, \"ticks\": \"\"}, \"colorscale\": [[0.0, \"#0d0887\"], [0.1111111111111111, \"#46039f\"], [0.2222222222222222, \"#7201a8\"], [0.3333333333333333, \"#9c179e\"], [0.4444444444444444, \"#bd3786\"], [0.5555555555555556, \"#d8576b\"], [0.6666666666666666, \"#ed7953\"], [0.7777777777777778, \"#fb9f3a\"], [0.8888888888888888, \"#fdca26\"], [1.0, \"#f0f921\"]], \"type\": \"histogram2dcontour\"}], \"mesh3d\": [{\"colorbar\": {\"outlinewidth\": 0, \"ticks\": \"\"}, \"type\": \"mesh3d\"}], \"parcoords\": [{\"line\": {\"colorbar\": {\"outlinewidth\": 0, \"ticks\": \"\"}}, \"type\": \"parcoords\"}], \"pie\": [{\"automargin\": true, \"type\": \"pie\"}], \"scatter\": [{\"marker\": {\"colorbar\": {\"outlinewidth\": 0, \"ticks\": \"\"}}, \"type\": \"scatter\"}], \"scatter3d\": [{\"line\": {\"colorbar\": {\"outlinewidth\": 0, \"ticks\": \"\"}}, \"marker\": {\"colorbar\": {\"outlinewidth\": 0, \"ticks\": \"\"}}, \"type\": \"scatter3d\"}], \"scattercarpet\": [{\"marker\": {\"colorbar\": {\"outlinewidth\": 0, \"ticks\": \"\"}}, \"type\": \"scattercarpet\"}], \"scattergeo\": [{\"marker\": {\"colorbar\": {\"outlinewidth\": 0, \"ticks\": \"\"}}, \"type\": \"scattergeo\"}], \"scattergl\": [{\"marker\": {\"colorbar\": {\"outlinewidth\": 0, \"ticks\": \"\"}}, \"type\": \"scattergl\"}], \"scattermapbox\": [{\"marker\": {\"colorbar\": {\"outlinewidth\": 0, \"ticks\": \"\"}}, \"type\": \"scattermapbox\"}], \"scatterpolar\": [{\"marker\": {\"colorbar\": {\"outlinewidth\": 0, \"ticks\": \"\"}}, \"type\": \"scatterpolar\"}], \"scatterpolargl\": [{\"marker\": {\"colorbar\": {\"outlinewidth\": 0, \"ticks\": \"\"}}, \"type\": \"scatterpolargl\"}], \"scatterternary\": [{\"marker\": {\"colorbar\": {\"outlinewidth\": 0, \"ticks\": \"\"}}, \"type\": \"scatterternary\"}], \"surface\": [{\"colorbar\": {\"outlinewidth\": 0, \"ticks\": \"\"}, \"colorscale\": [[0.0, \"#0d0887\"], [0.1111111111111111, \"#46039f\"], [0.2222222222222222, \"#7201a8\"], [0.3333333333333333, \"#9c179e\"], [0.4444444444444444, \"#bd3786\"], [0.5555555555555556, \"#d8576b\"], [0.6666666666666666, \"#ed7953\"], [0.7777777777777778, \"#fb9f3a\"], [0.8888888888888888, \"#fdca26\"], [1.0, \"#f0f921\"]], \"type\": \"surface\"}], \"table\": [{\"cells\": {\"fill\": {\"color\": \"#EBF0F8\"}, \"line\": {\"color\": \"white\"}}, \"header\": {\"fill\": {\"color\": \"#C8D4E3\"}, \"line\": {\"color\": \"white\"}}, \"type\": \"table\"}]}, \"layout\": {\"annotationdefaults\": {\"arrowcolor\": \"#2a3f5f\", \"arrowhead\": 0, \"arrowwidth\": 1}, \"coloraxis\": {\"colorbar\": {\"outlinewidth\": 0, \"ticks\": \"\"}}, \"colorscale\": {\"diverging\": [[0, \"#8e0152\"], [0.1, \"#c51b7d\"], [0.2, \"#de77ae\"], [0.3, \"#f1b6da\"], [0.4, \"#fde0ef\"], [0.5, \"#f7f7f7\"], [0.6, \"#e6f5d0\"], [0.7, \"#b8e186\"], [0.8, \"#7fbc41\"], [0.9, \"#4d9221\"], [1, \"#276419\"]], \"sequential\": [[0.0, \"#0d0887\"], [0.1111111111111111, \"#46039f\"], [0.2222222222222222, \"#7201a8\"], [0.3333333333333333, \"#9c179e\"], [0.4444444444444444, \"#bd3786\"], [0.5555555555555556, \"#d8576b\"], [0.6666666666666666, \"#ed7953\"], [0.7777777777777778, \"#fb9f3a\"], [0.8888888888888888, \"#fdca26\"], [1.0, \"#f0f921\"]], \"sequentialminus\": [[0.0, \"#0d0887\"], [0.1111111111111111, \"#46039f\"], [0.2222222222222222, \"#7201a8\"], [0.3333333333333333, \"#9c179e\"], [0.4444444444444444, \"#bd3786\"], [0.5555555555555556, \"#d8576b\"], [0.6666666666666666, \"#ed7953\"], [0.7777777777777778, \"#fb9f3a\"], [0.8888888888888888, \"#fdca26\"], [1.0, \"#f0f921\"]]}, \"colorway\": [\"#636efa\", \"#EF553B\", \"#00cc96\", \"#ab63fa\", \"#FFA15A\", \"#19d3f3\", \"#FF6692\", \"#B6E880\", \"#FF97FF\", \"#FECB52\"], \"font\": {\"color\": \"#2a3f5f\"}, \"geo\": {\"bgcolor\": \"white\", \"lakecolor\": \"white\", \"landcolor\": \"#E5ECF6\", \"showlakes\": true, \"showland\": true, \"subunitcolor\": \"white\"}, \"hoverlabel\": {\"align\": \"left\"}, \"hovermode\": \"closest\", \"mapbox\": {\"style\": \"light\"}, \"paper_bgcolor\": \"white\", \"plot_bgcolor\": \"#E5ECF6\", \"polar\": {\"angularaxis\": {\"gridcolor\": \"white\", \"linecolor\": \"white\", \"ticks\": \"\"}, \"bgcolor\": \"#E5ECF6\", \"radialaxis\": {\"gridcolor\": \"white\", \"linecolor\": \"white\", \"ticks\": \"\"}}, \"scene\": {\"xaxis\": {\"backgroundcolor\": \"#E5ECF6\", \"gridcolor\": \"white\", \"gridwidth\": 2, \"linecolor\": \"white\", \"showbackground\": true, \"ticks\": \"\", \"zerolinecolor\": \"white\"}, \"yaxis\": {\"backgroundcolor\": \"#E5ECF6\", \"gridcolor\": \"white\", \"gridwidth\": 2, \"linecolor\": \"white\", \"showbackground\": true, \"ticks\": \"\", \"zerolinecolor\": \"white\"}, \"zaxis\": {\"backgroundcolor\": \"#E5ECF6\", \"gridcolor\": \"white\", \"gridwidth\": 2, \"linecolor\": \"white\", \"showbackground\": true, \"ticks\": \"\", \"zerolinecolor\": \"white\"}}, \"shapedefaults\": {\"line\": {\"color\": \"#2a3f5f\"}}, \"ternary\": {\"aaxis\": {\"gridcolor\": \"white\", \"linecolor\": \"white\", \"ticks\": \"\"}, \"baxis\": {\"gridcolor\": \"white\", \"linecolor\": \"white\", \"ticks\": \"\"}, \"bgcolor\": \"#E5ECF6\", \"caxis\": {\"gridcolor\": \"white\", \"linecolor\": \"white\", \"ticks\": \"\"}}, \"title\": {\"x\": 0.05}, \"xaxis\": {\"automargin\": true, \"gridcolor\": \"white\", \"linecolor\": \"white\", \"ticks\": \"\", \"title\": {\"standoff\": 15}, \"zerolinecolor\": \"white\", \"zerolinewidth\": 2}, \"yaxis\": {\"automargin\": true, \"gridcolor\": \"white\", \"linecolor\": \"white\", \"ticks\": \"\", \"title\": {\"standoff\": 15}, \"zerolinecolor\": \"white\", \"zerolinewidth\": 2}}}, \"title\": {\"text\": \"Box Plots\"}, \"xaxis\": {\"anchor\": \"y\", \"domain\": [0.0, 0.45], \"title\": {\"text\": \"OBPM\"}}, \"xaxis2\": {\"anchor\": \"y2\", \"domain\": [0.55, 1.0], \"title\": {\"text\": \"WS/48\"}}, \"xaxis3\": {\"anchor\": \"y3\", \"domain\": [0.0, 0.45], \"title\": {\"text\": \"BPM\"}}, \"xaxis4\": {\"anchor\": \"y4\", \"domain\": [0.55, 1.0], \"title\": {\"text\": \"DBPM\"}}, \"yaxis\": {\"anchor\": \"x\", \"domain\": [0.575, 1.0]}, \"yaxis2\": {\"anchor\": \"x2\", \"domain\": [0.575, 1.0]}, \"yaxis3\": {\"anchor\": \"x3\", \"domain\": [0.0, 0.425]}, \"yaxis4\": {\"anchor\": \"x4\", \"domain\": [0.0, 0.425]}},\n",
              "                        {\"responsive\": true}\n",
              "                    ).then(function(){\n",
              "                            \n",
              "var gd = document.getElementById('6ed312e7-9169-4a34-87d4-75aaa7e6eb2f');\n",
              "var x = new MutationObserver(function (mutations, observer) {{\n",
              "        var display = window.getComputedStyle(gd).display;\n",
              "        if (!display || display === 'none') {{\n",
              "            console.log([gd, 'removed!']);\n",
              "            Plotly.purge(gd);\n",
              "            observer.disconnect();\n",
              "        }}\n",
              "}});\n",
              "\n",
              "// Listen for the removal of the full notebook cells\n",
              "var notebookContainer = gd.closest('#notebook-container');\n",
              "if (notebookContainer) {{\n",
              "    x.observe(notebookContainer, {childList: true});\n",
              "}}\n",
              "\n",
              "// Listen for the clearing of the current output cell\n",
              "var outputEl = gd.closest('.output');\n",
              "if (outputEl) {{\n",
              "    x.observe(outputEl, {childList: true});\n",
              "}}\n",
              "\n",
              "                        })\n",
              "                };\n",
              "                \n",
              "            </script>\n",
              "        </div>\n",
              "</body>\n",
              "</html>"
            ]
          },
          "metadata": {
            "tags": []
          }
        }
      ]
    },
    {
      "cell_type": "markdown",
      "metadata": {
        "id": "d5STeMbiIE2O"
      },
      "source": [
        "- The first graph shows the metric to measure the contribution of a player to the team while in the game given their offensive game, in the graph it can be seen that there are many outliers, of which there are many that are close to the graph. and a few data that is too far from the graph, this data that is too far can be removed, because there is too little data. the graph is slightly negative asymmetric.\n",
        "- The second graph shows the estimated number of wins contributed by a player every 48 minutes, in the graph you can see that there are many outliers, of which there are many that are close to the graph and some data that are very far from In the graphically, this data that is very far can be eliminated, because there is very little data, such as the data that is very far from 2.73 and the data from -1. the graph is slightly negative asymmetric.\n",
        "- The third graph shows the metric to measure the contribution of a player to the team while in the game, in the graph you can see that there are many outliers, of which there are many that are close to the graph and some data that are very Far from the graph, this data that is very far can be eliminated, because there is very little data, such as the data that is very far from 54.4, since it seems to be a data that is very far from the others. the graph is slightly negative asymmetric.\n",
        "- The fourth graph shows the metric to measure the contribution of a player to the team while it is in play given their defensive game, in the graph it can be seen that there are many outliers, and these outliers are not very far apart. therefore, it cannot be removed. the graph is slightly negative asymmetric"
      ]
    },
    {
      "cell_type": "code",
      "metadata": {
        "id": "SQcwSIuTRkd5",
        "outputId": "48ef3512-9d6c-4cf8-b3c2-f2f3cb7e7dd1",
        "colab": {
          "base_uri": "https://localhost:8080/",
          "height": 542
        }
      },
      "source": [
        "px.box(df,y='VORP')"
      ],
      "execution_count": null,
      "outputs": [
        {
          "output_type": "display_data",
          "data": {
            "text/html": [
              "<html>\n",
              "<head><meta charset=\"utf-8\" /></head>\n",
              "<body>\n",
              "    <div>\n",
              "            <script src=\"https://cdnjs.cloudflare.com/ajax/libs/mathjax/2.7.5/MathJax.js?config=TeX-AMS-MML_SVG\"></script><script type=\"text/javascript\">if (window.MathJax) {MathJax.Hub.Config({SVG: {font: \"STIX-Web\"}});}</script>\n",
              "                <script type=\"text/javascript\">window.PlotlyConfig = {MathJaxConfig: 'local'};</script>\n",
              "        <script src=\"https://cdn.plot.ly/plotly-latest.min.js\"></script>    \n",
              "            <div id=\"495e578c-cff8-4d45-8981-c457daa63c17\" class=\"plotly-graph-div\" style=\"height:525px; width:100%;\"></div>\n",
              "            <script type=\"text/javascript\">\n",
              "                \n",
              "                    window.PLOTLYENV=window.PLOTLYENV || {};\n",
              "                    \n",
              "                if (document.getElementById(\"495e578c-cff8-4d45-8981-c457daa63c17\")) {\n",
              "                    Plotly.newPlot(\n",
              "                        '495e578c-cff8-4d45-8981-c457daa63c17',\n",
              "                        [{\"alignmentgroup\": \"True\", \"hoverlabel\": {\"namelength\": 0}, \"hovertemplate\": \"VORP=%{y}\", \"legendgroup\": \"\", \"marker\": {\"color\": \"#636efa\"}, \"name\": \"\", \"notched\": false, \"offsetgroup\": \"\", \"orientation\": \"v\", \"showlegend\": false, \"type\": \"box\", \"x0\": \" \", \"xaxis\": \"x\", \"y\": [-0.2, 0.7, 0.0, -0.1, -0.2, 0.6, 0.0, -0.3, 0.5, 0.3, 0.1, 1.0, 1.8, 1.2, 0.8, -0.4, -0.3, 0.9, 0.0, 0.0, 0.2, 4.2, -0.1, -0.1, 0.9, 0.5, 2.3, 0.0, -1.3, 0.8, -0.2, -0.6, 0.1, 0.2, -0.3, -0.1, 0.4, 0.7, 0.4, 2.0, 0.3, -0.1, 0.2, -0.5, -0.1, -0.2, 1.2, 1.9, -0.5, -0.3, 0.8, 0.0, -0.1, 0.0, 2.2, 0.8, 2.0, 0.0, -0.1, 0.5, 0.2, 2.1, 0.1, 0.5, -0.3, 3.3, -0.3, 4.4, 0.3, 1.3, -0.1, -0.2, 0.2, -0.1, -0.4, 0.2, -0.1, 0.9, -0.4, 0.8, -0.4, -0.7, 0.0, -0.3, 1.0, 1.0, 7.2, 2.7, 0.6, 0.2, 0.8, 0.1, -0.3, 0.1, 0.0, 0.1, 2.7, 1.8, 0.6, -0.2, 0.1, 1.2, -0.3, -0.1, -0.1, -0.3, 0.2, 0.0, -0.2, -0.2, -0.8, 0.9, 3.1, 2.3, 0.9, 0.2, -0.3, 0.2, 0.2, 1.7, 1.2, 3.3, 0.1, -0.2, 0.0, 0.8, -0.3, -0.2, 1.9, 0.7, 5.1, -0.2, -0.1, 0.0, 1.6, -0.5, -0.1, 0.4, 0.3, 0.8, 0.0, -0.1, 1.5, 1.3, 0.0, 0.0, 0.2, -0.1, -0.1, 0.6, -0.1, 0.0, 0.1, 0.3, 0.1, 0.1, 0.6, 1.2, -0.7, 0.0, 1.3, 1.5, 0.2, 0.0, -0.1, -0.1, -0.1, 0.8, -0.1, 0.4, -0.3, 0.7, 0.2, -0.2, 0.2, 1.2, 2.1, 0.2, -0.7, -0.5, -0.4, 0.3, -0.4, 0.0, 0.1, -0.2, 0.0, 0.8, 0.7, 2.1, 1.6, 8.6, 0.0, 1.9, -0.2, 0.1, -0.2, -0.1, 3.3, 4.1, -0.1, 2.0, 4.7, 0.5, 0.8, 0.0, 2.9, 0.5, 0.8, 0.8, 1.0, 1.7, 0.2, 0.7, 1.2, 4.4, 1.9, 1.1, 0.0, 3.5, 0.5, 2.2, 0.0, -0.3, -0.3, 0.4, 5.1, 1.0, 0.4, 0.0, -0.5, 0.5, -0.1, 0.0, 1.5, -0.1, 2.6, 0.0, 2.3, 0.0, -1.1, -0.5, 0.5, -0.1, 0.1, -0.2, 0.0, 0.1, 1.3, -0.2, 0.0, 1.5, 0.3, -0.1, -0.3, 1.0, 1.2, 1.5, 0.1, 2.3, -0.1, -0.4, -0.5, 3.1, 0.9, -0.2, 0.0, 3.6, -0.2, 0.1, -0.1, 1.4, 0.0, 0.4, -0.1, 1.1, -0.2, 1.8, -0.1, 0.9, -0.5, 0.7, 0.0, -0.3, -0.6, 0.7, -0.4, 0.0, 0.0, 0.3, 0.1, 0.0, 1.9, 8.1, 0.4, -0.5, -0.1, 1.1, -0.8, 1.9, -0.1, -0.2, 0.1, 0.0, 0.1, 0.2, 1.0, 0.9, 0.0, -0.1, 0.3, -0.2, -0.7, -0.9, 0.0, -0.1, 0.0, 0.5, -0.8, -0.4, 0.7, 0.1, 0.0, 0.8, 0.4, 0.0, 1.2, 0.0, 5.4, 0.0, 0.1, -0.1, 0.0, 0.6, -0.1, 1.7, 0.0, -0.1, 1.6, -0.9, -0.3, 0.4, 0.0, 0.7, 1.0, 0.7, 0.8, 0.6, 2.1, 2.1, -0.8, 0.0, 1.0, 1.5, 0.8, 0.1, 1.9, 1.0, -0.2, -0.7, 3.0, -0.5, -0.2, -0.1, 1.8, 0.7, 1.2, -0.5, -0.8, 0.3, 0.9, 0.0, 1.2, 0.0, 0.1, -0.5, 0.0, 2.4, 0.8, -0.1, 0.7, 0.0, 1.2, 3.3, 2.6, 1.6, 1.3, 0.0, 2.5, -0.3, -1.2, -0.2, 0.8, 1.3, 0.0, 0.4, 2.0, -0.1, 0.4, 2.0, 0.1, 0.2, 1.5, 0.1, 1.1, 0.5, -0.3, 0.0, -0.2, 5.7, -0.1, 0.1, -0.1, 0.5, -0.1, 1.1, 0.6, 0.3, -0.1, 0.4, 2.5, 4.0, -0.1, -0.2, 0.2, 0.1, -0.2, -1.2, 0.7, 0.1, -0.1, 0.5, 1.9, 0.7, -0.4, -0.1, 1.1, 0.0, 0.1, -0.1, 0.0, 0.3, 0.3, 2.7, 0.7, 0.6, 1.1, -0.2, 0.2, 2.4, 0.2, 4.2, -0.5, 0.8, -0.8, 0.8, -0.7, 0.1, 0.0, 1.3, 4.7, 0.1, -0.4, -0.1, 0.1, 0.9, 1.0, 4.8, 1.3, 0.3, 0.0, 1.6, 0.0, 0.9, -0.1, -0.3, 0.0, 0.2, 3.4, -0.3, 0.0, 1.0, -0.1], \"y0\": \" \", \"yaxis\": \"y\"}],\n",
              "                        {\"boxmode\": \"group\", \"legend\": {\"tracegroupgap\": 0}, \"margin\": {\"t\": 60}, \"template\": {\"data\": {\"bar\": [{\"error_x\": {\"color\": \"#2a3f5f\"}, \"error_y\": {\"color\": \"#2a3f5f\"}, \"marker\": {\"line\": {\"color\": \"#E5ECF6\", \"width\": 0.5}}, \"type\": \"bar\"}], \"barpolar\": [{\"marker\": {\"line\": {\"color\": \"#E5ECF6\", \"width\": 0.5}}, \"type\": \"barpolar\"}], \"carpet\": [{\"aaxis\": {\"endlinecolor\": \"#2a3f5f\", \"gridcolor\": \"white\", \"linecolor\": \"white\", \"minorgridcolor\": \"white\", \"startlinecolor\": \"#2a3f5f\"}, \"baxis\": {\"endlinecolor\": \"#2a3f5f\", \"gridcolor\": \"white\", \"linecolor\": \"white\", \"minorgridcolor\": \"white\", \"startlinecolor\": \"#2a3f5f\"}, \"type\": \"carpet\"}], \"choropleth\": [{\"colorbar\": {\"outlinewidth\": 0, \"ticks\": \"\"}, \"type\": \"choropleth\"}], \"contour\": [{\"colorbar\": {\"outlinewidth\": 0, \"ticks\": \"\"}, \"colorscale\": [[0.0, \"#0d0887\"], [0.1111111111111111, \"#46039f\"], [0.2222222222222222, \"#7201a8\"], [0.3333333333333333, \"#9c179e\"], [0.4444444444444444, \"#bd3786\"], [0.5555555555555556, \"#d8576b\"], [0.6666666666666666, \"#ed7953\"], [0.7777777777777778, \"#fb9f3a\"], [0.8888888888888888, \"#fdca26\"], [1.0, \"#f0f921\"]], \"type\": \"contour\"}], \"contourcarpet\": [{\"colorbar\": {\"outlinewidth\": 0, \"ticks\": \"\"}, \"type\": \"contourcarpet\"}], \"heatmap\": [{\"colorbar\": {\"outlinewidth\": 0, \"ticks\": \"\"}, \"colorscale\": [[0.0, \"#0d0887\"], [0.1111111111111111, \"#46039f\"], [0.2222222222222222, \"#7201a8\"], [0.3333333333333333, \"#9c179e\"], [0.4444444444444444, \"#bd3786\"], [0.5555555555555556, \"#d8576b\"], [0.6666666666666666, \"#ed7953\"], [0.7777777777777778, \"#fb9f3a\"], [0.8888888888888888, \"#fdca26\"], [1.0, \"#f0f921\"]], \"type\": \"heatmap\"}], \"heatmapgl\": [{\"colorbar\": {\"outlinewidth\": 0, \"ticks\": \"\"}, \"colorscale\": [[0.0, \"#0d0887\"], [0.1111111111111111, \"#46039f\"], [0.2222222222222222, \"#7201a8\"], [0.3333333333333333, \"#9c179e\"], [0.4444444444444444, \"#bd3786\"], [0.5555555555555556, \"#d8576b\"], [0.6666666666666666, \"#ed7953\"], [0.7777777777777778, \"#fb9f3a\"], [0.8888888888888888, \"#fdca26\"], [1.0, \"#f0f921\"]], \"type\": \"heatmapgl\"}], \"histogram\": [{\"marker\": {\"colorbar\": {\"outlinewidth\": 0, \"ticks\": \"\"}}, \"type\": \"histogram\"}], \"histogram2d\": [{\"colorbar\": {\"outlinewidth\": 0, \"ticks\": \"\"}, \"colorscale\": [[0.0, \"#0d0887\"], [0.1111111111111111, \"#46039f\"], [0.2222222222222222, \"#7201a8\"], [0.3333333333333333, \"#9c179e\"], [0.4444444444444444, \"#bd3786\"], [0.5555555555555556, \"#d8576b\"], [0.6666666666666666, \"#ed7953\"], [0.7777777777777778, \"#fb9f3a\"], [0.8888888888888888, \"#fdca26\"], [1.0, \"#f0f921\"]], \"type\": \"histogram2d\"}], \"histogram2dcontour\": [{\"colorbar\": {\"outlinewidth\": 0, \"ticks\": \"\"}, \"colorscale\": [[0.0, \"#0d0887\"], [0.1111111111111111, \"#46039f\"], [0.2222222222222222, \"#7201a8\"], [0.3333333333333333, \"#9c179e\"], [0.4444444444444444, \"#bd3786\"], [0.5555555555555556, \"#d8576b\"], [0.6666666666666666, \"#ed7953\"], [0.7777777777777778, \"#fb9f3a\"], [0.8888888888888888, \"#fdca26\"], [1.0, \"#f0f921\"]], \"type\": \"histogram2dcontour\"}], \"mesh3d\": [{\"colorbar\": {\"outlinewidth\": 0, \"ticks\": \"\"}, \"type\": \"mesh3d\"}], \"parcoords\": [{\"line\": {\"colorbar\": {\"outlinewidth\": 0, \"ticks\": \"\"}}, \"type\": \"parcoords\"}], \"pie\": [{\"automargin\": true, \"type\": \"pie\"}], \"scatter\": [{\"marker\": {\"colorbar\": {\"outlinewidth\": 0, \"ticks\": \"\"}}, \"type\": \"scatter\"}], \"scatter3d\": [{\"line\": {\"colorbar\": {\"outlinewidth\": 0, \"ticks\": \"\"}}, \"marker\": {\"colorbar\": {\"outlinewidth\": 0, \"ticks\": \"\"}}, \"type\": \"scatter3d\"}], \"scattercarpet\": [{\"marker\": {\"colorbar\": {\"outlinewidth\": 0, \"ticks\": \"\"}}, \"type\": \"scattercarpet\"}], \"scattergeo\": [{\"marker\": {\"colorbar\": {\"outlinewidth\": 0, \"ticks\": \"\"}}, \"type\": \"scattergeo\"}], \"scattergl\": [{\"marker\": {\"colorbar\": {\"outlinewidth\": 0, \"ticks\": \"\"}}, \"type\": \"scattergl\"}], \"scattermapbox\": [{\"marker\": {\"colorbar\": {\"outlinewidth\": 0, \"ticks\": \"\"}}, \"type\": \"scattermapbox\"}], \"scatterpolar\": [{\"marker\": {\"colorbar\": {\"outlinewidth\": 0, \"ticks\": \"\"}}, \"type\": \"scatterpolar\"}], \"scatterpolargl\": [{\"marker\": {\"colorbar\": {\"outlinewidth\": 0, \"ticks\": \"\"}}, \"type\": \"scatterpolargl\"}], \"scatterternary\": [{\"marker\": {\"colorbar\": {\"outlinewidth\": 0, \"ticks\": \"\"}}, \"type\": \"scatterternary\"}], \"surface\": [{\"colorbar\": {\"outlinewidth\": 0, \"ticks\": \"\"}, \"colorscale\": [[0.0, \"#0d0887\"], [0.1111111111111111, \"#46039f\"], [0.2222222222222222, \"#7201a8\"], [0.3333333333333333, \"#9c179e\"], [0.4444444444444444, \"#bd3786\"], [0.5555555555555556, \"#d8576b\"], [0.6666666666666666, \"#ed7953\"], [0.7777777777777778, \"#fb9f3a\"], [0.8888888888888888, \"#fdca26\"], [1.0, \"#f0f921\"]], \"type\": \"surface\"}], \"table\": [{\"cells\": {\"fill\": {\"color\": \"#EBF0F8\"}, \"line\": {\"color\": \"white\"}}, \"header\": {\"fill\": {\"color\": \"#C8D4E3\"}, \"line\": {\"color\": \"white\"}}, \"type\": \"table\"}]}, \"layout\": {\"annotationdefaults\": {\"arrowcolor\": \"#2a3f5f\", \"arrowhead\": 0, \"arrowwidth\": 1}, \"coloraxis\": {\"colorbar\": {\"outlinewidth\": 0, \"ticks\": \"\"}}, \"colorscale\": {\"diverging\": [[0, \"#8e0152\"], [0.1, \"#c51b7d\"], [0.2, \"#de77ae\"], [0.3, \"#f1b6da\"], [0.4, \"#fde0ef\"], [0.5, \"#f7f7f7\"], [0.6, \"#e6f5d0\"], [0.7, \"#b8e186\"], [0.8, \"#7fbc41\"], [0.9, \"#4d9221\"], [1, \"#276419\"]], \"sequential\": [[0.0, \"#0d0887\"], [0.1111111111111111, \"#46039f\"], [0.2222222222222222, \"#7201a8\"], [0.3333333333333333, \"#9c179e\"], [0.4444444444444444, \"#bd3786\"], [0.5555555555555556, \"#d8576b\"], [0.6666666666666666, \"#ed7953\"], [0.7777777777777778, \"#fb9f3a\"], [0.8888888888888888, \"#fdca26\"], [1.0, \"#f0f921\"]], \"sequentialminus\": [[0.0, \"#0d0887\"], [0.1111111111111111, \"#46039f\"], [0.2222222222222222, \"#7201a8\"], [0.3333333333333333, \"#9c179e\"], [0.4444444444444444, \"#bd3786\"], [0.5555555555555556, \"#d8576b\"], [0.6666666666666666, \"#ed7953\"], [0.7777777777777778, \"#fb9f3a\"], [0.8888888888888888, \"#fdca26\"], [1.0, \"#f0f921\"]]}, \"colorway\": [\"#636efa\", \"#EF553B\", \"#00cc96\", \"#ab63fa\", \"#FFA15A\", \"#19d3f3\", \"#FF6692\", \"#B6E880\", \"#FF97FF\", \"#FECB52\"], \"font\": {\"color\": \"#2a3f5f\"}, \"geo\": {\"bgcolor\": \"white\", \"lakecolor\": \"white\", \"landcolor\": \"#E5ECF6\", \"showlakes\": true, \"showland\": true, \"subunitcolor\": \"white\"}, \"hoverlabel\": {\"align\": \"left\"}, \"hovermode\": \"closest\", \"mapbox\": {\"style\": \"light\"}, \"paper_bgcolor\": \"white\", \"plot_bgcolor\": \"#E5ECF6\", \"polar\": {\"angularaxis\": {\"gridcolor\": \"white\", \"linecolor\": \"white\", \"ticks\": \"\"}, \"bgcolor\": \"#E5ECF6\", \"radialaxis\": {\"gridcolor\": \"white\", \"linecolor\": \"white\", \"ticks\": \"\"}}, \"scene\": {\"xaxis\": {\"backgroundcolor\": \"#E5ECF6\", \"gridcolor\": \"white\", \"gridwidth\": 2, \"linecolor\": \"white\", \"showbackground\": true, \"ticks\": \"\", \"zerolinecolor\": \"white\"}, \"yaxis\": {\"backgroundcolor\": \"#E5ECF6\", \"gridcolor\": \"white\", \"gridwidth\": 2, \"linecolor\": \"white\", \"showbackground\": true, \"ticks\": \"\", \"zerolinecolor\": \"white\"}, \"zaxis\": {\"backgroundcolor\": \"#E5ECF6\", \"gridcolor\": \"white\", \"gridwidth\": 2, \"linecolor\": \"white\", \"showbackground\": true, \"ticks\": \"\", \"zerolinecolor\": \"white\"}}, \"shapedefaults\": {\"line\": {\"color\": \"#2a3f5f\"}}, \"ternary\": {\"aaxis\": {\"gridcolor\": \"white\", \"linecolor\": \"white\", \"ticks\": \"\"}, \"baxis\": {\"gridcolor\": \"white\", \"linecolor\": \"white\", \"ticks\": \"\"}, \"bgcolor\": \"#E5ECF6\", \"caxis\": {\"gridcolor\": \"white\", \"linecolor\": \"white\", \"ticks\": \"\"}}, \"title\": {\"x\": 0.05}, \"xaxis\": {\"automargin\": true, \"gridcolor\": \"white\", \"linecolor\": \"white\", \"ticks\": \"\", \"title\": {\"standoff\": 15}, \"zerolinecolor\": \"white\", \"zerolinewidth\": 2}, \"yaxis\": {\"automargin\": true, \"gridcolor\": \"white\", \"linecolor\": \"white\", \"ticks\": \"\", \"title\": {\"standoff\": 15}, \"zerolinecolor\": \"white\", \"zerolinewidth\": 2}}}, \"xaxis\": {\"anchor\": \"y\", \"domain\": [0.0, 1.0]}, \"yaxis\": {\"anchor\": \"x\", \"domain\": [0.0, 1.0], \"title\": {\"text\": \"VORP\"}}},\n",
              "                        {\"responsive\": true}\n",
              "                    ).then(function(){\n",
              "                            \n",
              "var gd = document.getElementById('495e578c-cff8-4d45-8981-c457daa63c17');\n",
              "var x = new MutationObserver(function (mutations, observer) {{\n",
              "        var display = window.getComputedStyle(gd).display;\n",
              "        if (!display || display === 'none') {{\n",
              "            console.log([gd, 'removed!']);\n",
              "            Plotly.purge(gd);\n",
              "            observer.disconnect();\n",
              "        }}\n",
              "}});\n",
              "\n",
              "// Listen for the removal of the full notebook cells\n",
              "var notebookContainer = gd.closest('#notebook-container');\n",
              "if (notebookContainer) {{\n",
              "    x.observe(notebookContainer, {childList: true});\n",
              "}}\n",
              "\n",
              "// Listen for the clearing of the current output cell\n",
              "var outputEl = gd.closest('.output');\n",
              "if (outputEl) {{\n",
              "    x.observe(outputEl, {childList: true});\n",
              "}}\n",
              "\n",
              "                        })\n",
              "                };\n",
              "                \n",
              "            </script>\n",
              "        </div>\n",
              "</body>\n",
              "</html>"
            ]
          },
          "metadata": {
            "tags": []
          }
        }
      ]
    },
    {
      "cell_type": "markdown",
      "metadata": {
        "id": "YnQY8oL3Ix3d"
      },
      "source": [
        "- The graph shows the metric to measure the total contribution of a player to the team, in the graph you can see that there are many outliers, and there is a group of outliers that are not too far apart and another group of outliers that are separated from each other, so that values that are very separated from each other can be eliminated or replaced. the graph is positive asymmetric."
      ]
    },
    {
      "cell_type": "markdown",
      "metadata": {
        "id": "15tsDXFfO-FK"
      },
      "source": [
        "## Some Questions"
      ]
    },
    {
      "cell_type": "markdown",
      "metadata": {
        "id": "hcMtdzTZMkBr"
      },
      "source": [
        "### Do older players earn more money?"
      ]
    },
    {
      "cell_type": "code",
      "metadata": {
        "id": "VuYVwFzYKhxG"
      },
      "source": [
        "median_age = np.median(df['Age'])\n",
        "old_players = df[df['Age'] >= median_age]\n",
        "young_players = df[df['Age'] < median_age]"
      ],
      "execution_count": null,
      "outputs": []
    },
    {
      "cell_type": "code",
      "metadata": {
        "id": "gZ-w5cZtQDgm",
        "outputId": "7287f4b0-1bd8-4674-c02f-2a01ee594946",
        "colab": {
          "base_uri": "https://localhost:8080/"
        }
      },
      "source": [
        "salary_old_players = np.median(old_players[\"Salary\"])\n",
        "print(f'Median Salary of old players {salary_old_players}')"
      ],
      "execution_count": null,
      "outputs": [
        {
          "output_type": "stream",
          "text": [
            "Median Salary of old players 7300000.0\n"
          ],
          "name": "stdout"
        }
      ]
    },
    {
      "cell_type": "code",
      "metadata": {
        "id": "W6WxymyxQaYR",
        "outputId": "1436edc5-858c-4def-b4b2-c81096b770d2",
        "colab": {
          "base_uri": "https://localhost:8080/"
        }
      },
      "source": [
        "salary_young_players = np.median(young_players[\"Salary\"])\n",
        "print(f'Median Salary of young players {salary_young_players}')"
      ],
      "execution_count": null,
      "outputs": [
        {
          "output_type": "stream",
          "text": [
            "Median Salary of young players 1638840.0\n"
          ],
          "name": "stdout"
        }
      ]
    },
    {
      "cell_type": "code",
      "metadata": {
        "id": "-N9gD9iyQ5WC",
        "outputId": "c56f09cd-d26d-49b9-ee10-e6f8f3271b92",
        "colab": {
          "base_uri": "https://localhost:8080/",
          "height": 542
        }
      },
      "source": [
        "px.bar(x=['Older Players', 'Young Players'], y=[salary_old_players, salary_young_players], labels={'x':'Players', 'y':'Salary ($)'}, title='Median salary for players given if young or old')"
      ],
      "execution_count": null,
      "outputs": [
        {
          "output_type": "display_data",
          "data": {
            "text/html": [
              "<html>\n",
              "<head><meta charset=\"utf-8\" /></head>\n",
              "<body>\n",
              "    <div>\n",
              "            <script src=\"https://cdnjs.cloudflare.com/ajax/libs/mathjax/2.7.5/MathJax.js?config=TeX-AMS-MML_SVG\"></script><script type=\"text/javascript\">if (window.MathJax) {MathJax.Hub.Config({SVG: {font: \"STIX-Web\"}});}</script>\n",
              "                <script type=\"text/javascript\">window.PlotlyConfig = {MathJaxConfig: 'local'};</script>\n",
              "        <script src=\"https://cdn.plot.ly/plotly-latest.min.js\"></script>    \n",
              "            <div id=\"3ff5fc94-4ffc-4d2b-bd19-76ca8c11c300\" class=\"plotly-graph-div\" style=\"height:525px; width:100%;\"></div>\n",
              "            <script type=\"text/javascript\">\n",
              "                \n",
              "                    window.PLOTLYENV=window.PLOTLYENV || {};\n",
              "                    \n",
              "                if (document.getElementById(\"3ff5fc94-4ffc-4d2b-bd19-76ca8c11c300\")) {\n",
              "                    Plotly.newPlot(\n",
              "                        '3ff5fc94-4ffc-4d2b-bd19-76ca8c11c300',\n",
              "                        [{\"alignmentgroup\": \"True\", \"hoverlabel\": {\"namelength\": 0}, \"hovertemplate\": \"Players=%{x}<br>Salary ($)=%{y}\", \"legendgroup\": \"\", \"marker\": {\"color\": \"#636efa\"}, \"name\": \"\", \"offsetgroup\": \"\", \"orientation\": \"v\", \"showlegend\": false, \"textposition\": \"auto\", \"type\": \"bar\", \"x\": [\"Older Players\", \"Young Players\"], \"xaxis\": \"x\", \"y\": [7300000.0, 1638840.0], \"yaxis\": \"y\"}],\n",
              "                        {\"barmode\": \"relative\", \"legend\": {\"tracegroupgap\": 0}, \"template\": {\"data\": {\"bar\": [{\"error_x\": {\"color\": \"#2a3f5f\"}, \"error_y\": {\"color\": \"#2a3f5f\"}, \"marker\": {\"line\": {\"color\": \"#E5ECF6\", \"width\": 0.5}}, \"type\": \"bar\"}], \"barpolar\": [{\"marker\": {\"line\": {\"color\": \"#E5ECF6\", \"width\": 0.5}}, \"type\": \"barpolar\"}], \"carpet\": [{\"aaxis\": {\"endlinecolor\": \"#2a3f5f\", \"gridcolor\": \"white\", \"linecolor\": \"white\", \"minorgridcolor\": \"white\", \"startlinecolor\": \"#2a3f5f\"}, \"baxis\": {\"endlinecolor\": \"#2a3f5f\", \"gridcolor\": \"white\", \"linecolor\": \"white\", \"minorgridcolor\": \"white\", \"startlinecolor\": \"#2a3f5f\"}, \"type\": \"carpet\"}], \"choropleth\": [{\"colorbar\": {\"outlinewidth\": 0, \"ticks\": \"\"}, \"type\": \"choropleth\"}], \"contour\": [{\"colorbar\": {\"outlinewidth\": 0, \"ticks\": \"\"}, \"colorscale\": [[0.0, \"#0d0887\"], [0.1111111111111111, \"#46039f\"], [0.2222222222222222, \"#7201a8\"], [0.3333333333333333, \"#9c179e\"], [0.4444444444444444, \"#bd3786\"], [0.5555555555555556, \"#d8576b\"], [0.6666666666666666, \"#ed7953\"], [0.7777777777777778, \"#fb9f3a\"], [0.8888888888888888, \"#fdca26\"], [1.0, \"#f0f921\"]], \"type\": \"contour\"}], \"contourcarpet\": [{\"colorbar\": {\"outlinewidth\": 0, \"ticks\": \"\"}, \"type\": \"contourcarpet\"}], \"heatmap\": [{\"colorbar\": {\"outlinewidth\": 0, \"ticks\": \"\"}, \"colorscale\": [[0.0, \"#0d0887\"], [0.1111111111111111, \"#46039f\"], [0.2222222222222222, \"#7201a8\"], [0.3333333333333333, \"#9c179e\"], [0.4444444444444444, \"#bd3786\"], [0.5555555555555556, \"#d8576b\"], [0.6666666666666666, \"#ed7953\"], [0.7777777777777778, \"#fb9f3a\"], [0.8888888888888888, \"#fdca26\"], [1.0, \"#f0f921\"]], \"type\": \"heatmap\"}], \"heatmapgl\": [{\"colorbar\": {\"outlinewidth\": 0, \"ticks\": \"\"}, \"colorscale\": [[0.0, \"#0d0887\"], [0.1111111111111111, \"#46039f\"], [0.2222222222222222, \"#7201a8\"], [0.3333333333333333, \"#9c179e\"], [0.4444444444444444, \"#bd3786\"], [0.5555555555555556, \"#d8576b\"], [0.6666666666666666, \"#ed7953\"], [0.7777777777777778, \"#fb9f3a\"], [0.8888888888888888, \"#fdca26\"], [1.0, \"#f0f921\"]], \"type\": \"heatmapgl\"}], \"histogram\": [{\"marker\": {\"colorbar\": {\"outlinewidth\": 0, \"ticks\": \"\"}}, \"type\": \"histogram\"}], \"histogram2d\": [{\"colorbar\": {\"outlinewidth\": 0, \"ticks\": \"\"}, \"colorscale\": [[0.0, \"#0d0887\"], [0.1111111111111111, \"#46039f\"], [0.2222222222222222, \"#7201a8\"], [0.3333333333333333, \"#9c179e\"], [0.4444444444444444, \"#bd3786\"], [0.5555555555555556, \"#d8576b\"], [0.6666666666666666, \"#ed7953\"], [0.7777777777777778, \"#fb9f3a\"], [0.8888888888888888, \"#fdca26\"], [1.0, \"#f0f921\"]], \"type\": \"histogram2d\"}], \"histogram2dcontour\": [{\"colorbar\": {\"outlinewidth\": 0, \"ticks\": \"\"}, \"colorscale\": [[0.0, \"#0d0887\"], [0.1111111111111111, \"#46039f\"], [0.2222222222222222, \"#7201a8\"], [0.3333333333333333, \"#9c179e\"], [0.4444444444444444, \"#bd3786\"], [0.5555555555555556, \"#d8576b\"], [0.6666666666666666, \"#ed7953\"], [0.7777777777777778, \"#fb9f3a\"], [0.8888888888888888, \"#fdca26\"], [1.0, \"#f0f921\"]], \"type\": \"histogram2dcontour\"}], \"mesh3d\": [{\"colorbar\": {\"outlinewidth\": 0, \"ticks\": \"\"}, \"type\": \"mesh3d\"}], \"parcoords\": [{\"line\": {\"colorbar\": {\"outlinewidth\": 0, \"ticks\": \"\"}}, \"type\": \"parcoords\"}], \"pie\": [{\"automargin\": true, \"type\": \"pie\"}], \"scatter\": [{\"marker\": {\"colorbar\": {\"outlinewidth\": 0, \"ticks\": \"\"}}, \"type\": \"scatter\"}], \"scatter3d\": [{\"line\": {\"colorbar\": {\"outlinewidth\": 0, \"ticks\": \"\"}}, \"marker\": {\"colorbar\": {\"outlinewidth\": 0, \"ticks\": \"\"}}, \"type\": \"scatter3d\"}], \"scattercarpet\": [{\"marker\": {\"colorbar\": {\"outlinewidth\": 0, \"ticks\": \"\"}}, \"type\": \"scattercarpet\"}], \"scattergeo\": [{\"marker\": {\"colorbar\": {\"outlinewidth\": 0, \"ticks\": \"\"}}, \"type\": \"scattergeo\"}], \"scattergl\": [{\"marker\": {\"colorbar\": {\"outlinewidth\": 0, \"ticks\": \"\"}}, \"type\": \"scattergl\"}], \"scattermapbox\": [{\"marker\": {\"colorbar\": {\"outlinewidth\": 0, \"ticks\": \"\"}}, \"type\": \"scattermapbox\"}], \"scatterpolar\": [{\"marker\": {\"colorbar\": {\"outlinewidth\": 0, \"ticks\": \"\"}}, \"type\": \"scatterpolar\"}], \"scatterpolargl\": [{\"marker\": {\"colorbar\": {\"outlinewidth\": 0, \"ticks\": \"\"}}, \"type\": \"scatterpolargl\"}], \"scatterternary\": [{\"marker\": {\"colorbar\": {\"outlinewidth\": 0, \"ticks\": \"\"}}, \"type\": \"scatterternary\"}], \"surface\": [{\"colorbar\": {\"outlinewidth\": 0, \"ticks\": \"\"}, \"colorscale\": [[0.0, \"#0d0887\"], [0.1111111111111111, \"#46039f\"], [0.2222222222222222, \"#7201a8\"], [0.3333333333333333, \"#9c179e\"], [0.4444444444444444, \"#bd3786\"], [0.5555555555555556, \"#d8576b\"], [0.6666666666666666, \"#ed7953\"], [0.7777777777777778, \"#fb9f3a\"], [0.8888888888888888, \"#fdca26\"], [1.0, \"#f0f921\"]], \"type\": \"surface\"}], \"table\": [{\"cells\": {\"fill\": {\"color\": \"#EBF0F8\"}, \"line\": {\"color\": \"white\"}}, \"header\": {\"fill\": {\"color\": \"#C8D4E3\"}, \"line\": {\"color\": \"white\"}}, \"type\": \"table\"}]}, \"layout\": {\"annotationdefaults\": {\"arrowcolor\": \"#2a3f5f\", \"arrowhead\": 0, \"arrowwidth\": 1}, \"coloraxis\": {\"colorbar\": {\"outlinewidth\": 0, \"ticks\": \"\"}}, \"colorscale\": {\"diverging\": [[0, \"#8e0152\"], [0.1, \"#c51b7d\"], [0.2, \"#de77ae\"], [0.3, \"#f1b6da\"], [0.4, \"#fde0ef\"], [0.5, \"#f7f7f7\"], [0.6, \"#e6f5d0\"], [0.7, \"#b8e186\"], [0.8, \"#7fbc41\"], [0.9, \"#4d9221\"], [1, \"#276419\"]], \"sequential\": [[0.0, \"#0d0887\"], [0.1111111111111111, \"#46039f\"], [0.2222222222222222, \"#7201a8\"], [0.3333333333333333, \"#9c179e\"], [0.4444444444444444, \"#bd3786\"], [0.5555555555555556, \"#d8576b\"], [0.6666666666666666, \"#ed7953\"], [0.7777777777777778, \"#fb9f3a\"], [0.8888888888888888, \"#fdca26\"], [1.0, \"#f0f921\"]], \"sequentialminus\": [[0.0, \"#0d0887\"], [0.1111111111111111, \"#46039f\"], [0.2222222222222222, \"#7201a8\"], [0.3333333333333333, \"#9c179e\"], [0.4444444444444444, \"#bd3786\"], [0.5555555555555556, \"#d8576b\"], [0.6666666666666666, \"#ed7953\"], [0.7777777777777778, \"#fb9f3a\"], [0.8888888888888888, \"#fdca26\"], [1.0, \"#f0f921\"]]}, \"colorway\": [\"#636efa\", \"#EF553B\", \"#00cc96\", \"#ab63fa\", \"#FFA15A\", \"#19d3f3\", \"#FF6692\", \"#B6E880\", \"#FF97FF\", \"#FECB52\"], \"font\": {\"color\": \"#2a3f5f\"}, \"geo\": {\"bgcolor\": \"white\", \"lakecolor\": \"white\", \"landcolor\": \"#E5ECF6\", \"showlakes\": true, \"showland\": true, \"subunitcolor\": \"white\"}, \"hoverlabel\": {\"align\": \"left\"}, \"hovermode\": \"closest\", \"mapbox\": {\"style\": \"light\"}, \"paper_bgcolor\": \"white\", \"plot_bgcolor\": \"#E5ECF6\", \"polar\": {\"angularaxis\": {\"gridcolor\": \"white\", \"linecolor\": \"white\", \"ticks\": \"\"}, \"bgcolor\": \"#E5ECF6\", \"radialaxis\": {\"gridcolor\": \"white\", \"linecolor\": \"white\", \"ticks\": \"\"}}, \"scene\": {\"xaxis\": {\"backgroundcolor\": \"#E5ECF6\", \"gridcolor\": \"white\", \"gridwidth\": 2, \"linecolor\": \"white\", \"showbackground\": true, \"ticks\": \"\", \"zerolinecolor\": \"white\"}, \"yaxis\": {\"backgroundcolor\": \"#E5ECF6\", \"gridcolor\": \"white\", \"gridwidth\": 2, \"linecolor\": \"white\", \"showbackground\": true, \"ticks\": \"\", \"zerolinecolor\": \"white\"}, \"zaxis\": {\"backgroundcolor\": \"#E5ECF6\", \"gridcolor\": \"white\", \"gridwidth\": 2, \"linecolor\": \"white\", \"showbackground\": true, \"ticks\": \"\", \"zerolinecolor\": \"white\"}}, \"shapedefaults\": {\"line\": {\"color\": \"#2a3f5f\"}}, \"ternary\": {\"aaxis\": {\"gridcolor\": \"white\", \"linecolor\": \"white\", \"ticks\": \"\"}, \"baxis\": {\"gridcolor\": \"white\", \"linecolor\": \"white\", \"ticks\": \"\"}, \"bgcolor\": \"#E5ECF6\", \"caxis\": {\"gridcolor\": \"white\", \"linecolor\": \"white\", \"ticks\": \"\"}}, \"title\": {\"x\": 0.05}, \"xaxis\": {\"automargin\": true, \"gridcolor\": \"white\", \"linecolor\": \"white\", \"ticks\": \"\", \"title\": {\"standoff\": 15}, \"zerolinecolor\": \"white\", \"zerolinewidth\": 2}, \"yaxis\": {\"automargin\": true, \"gridcolor\": \"white\", \"linecolor\": \"white\", \"ticks\": \"\", \"title\": {\"standoff\": 15}, \"zerolinecolor\": \"white\", \"zerolinewidth\": 2}}}, \"title\": {\"text\": \"Median salary for players given if young or old\"}, \"xaxis\": {\"anchor\": \"y\", \"domain\": [0.0, 1.0], \"title\": {\"text\": \"Players\"}}, \"yaxis\": {\"anchor\": \"x\", \"domain\": [0.0, 1.0], \"title\": {\"text\": \"Salary ($)\"}}},\n",
              "                        {\"responsive\": true}\n",
              "                    ).then(function(){\n",
              "                            \n",
              "var gd = document.getElementById('3ff5fc94-4ffc-4d2b-bd19-76ca8c11c300');\n",
              "var x = new MutationObserver(function (mutations, observer) {{\n",
              "        var display = window.getComputedStyle(gd).display;\n",
              "        if (!display || display === 'none') {{\n",
              "            console.log([gd, 'removed!']);\n",
              "            Plotly.purge(gd);\n",
              "            observer.disconnect();\n",
              "        }}\n",
              "}});\n",
              "\n",
              "// Listen for the removal of the full notebook cells\n",
              "var notebookContainer = gd.closest('#notebook-container');\n",
              "if (notebookContainer) {{\n",
              "    x.observe(notebookContainer, {childList: true});\n",
              "}}\n",
              "\n",
              "// Listen for the clearing of the current output cell\n",
              "var outputEl = gd.closest('.output');\n",
              "if (outputEl) {{\n",
              "    x.observe(outputEl, {childList: true});\n",
              "}}\n",
              "\n",
              "                        })\n",
              "                };\n",
              "                \n",
              "            </script>\n",
              "        </div>\n",
              "</body>\n",
              "</html>"
            ]
          },
          "metadata": {
            "tags": []
          }
        }
      ]
    },
    {
      "cell_type": "markdown",
      "metadata": {
        "id": "tJJe4I7bQxLI"
      },
      "source": [
        "We can see that the older players earn more than the younger players."
      ]
    },
    {
      "cell_type": "markdown",
      "metadata": {
        "id": "iZY3sxStSSyp"
      },
      "source": [
        "### How many players per team?"
      ]
    },
    {
      "cell_type": "code",
      "metadata": {
        "id": "KM7mx6QgSYvb"
      },
      "source": [
        "df_players = pd.DataFrame(df.groupby(df['Tm'])['Player'].count().reset_index())"
      ],
      "execution_count": null,
      "outputs": []
    },
    {
      "cell_type": "code",
      "metadata": {
        "id": "3QDbBTKuTiFW",
        "outputId": "1c92a0f4-ca1b-4a3d-cea3-feef8272191f",
        "colab": {
          "base_uri": "https://localhost:8080/",
          "height": 542
        }
      },
      "source": [
        "px.bar(df_players, x='Tm', y='Player', labels={'Tm': 'Team', 'Player':'# Players'},title='NBA Players Per Team')"
      ],
      "execution_count": null,
      "outputs": [
        {
          "output_type": "display_data",
          "data": {
            "text/html": [
              "<html>\n",
              "<head><meta charset=\"utf-8\" /></head>\n",
              "<body>\n",
              "    <div>\n",
              "            <script src=\"https://cdnjs.cloudflare.com/ajax/libs/mathjax/2.7.5/MathJax.js?config=TeX-AMS-MML_SVG\"></script><script type=\"text/javascript\">if (window.MathJax) {MathJax.Hub.Config({SVG: {font: \"STIX-Web\"}});}</script>\n",
              "                <script type=\"text/javascript\">window.PlotlyConfig = {MathJaxConfig: 'local'};</script>\n",
              "        <script src=\"https://cdn.plot.ly/plotly-latest.min.js\"></script>    \n",
              "            <div id=\"bb845fab-3456-4c4d-8b7a-4083ba58581f\" class=\"plotly-graph-div\" style=\"height:525px; width:100%;\"></div>\n",
              "            <script type=\"text/javascript\">\n",
              "                \n",
              "                    window.PLOTLYENV=window.PLOTLYENV || {};\n",
              "                    \n",
              "                if (document.getElementById(\"bb845fab-3456-4c4d-8b7a-4083ba58581f\")) {\n",
              "                    Plotly.newPlot(\n",
              "                        'bb845fab-3456-4c4d-8b7a-4083ba58581f',\n",
              "                        [{\"alignmentgroup\": \"True\", \"hoverlabel\": {\"namelength\": 0}, \"hovertemplate\": \"Team=%{x}<br># Players=%{y}\", \"legendgroup\": \"\", \"marker\": {\"color\": \"#636efa\"}, \"name\": \"\", \"offsetgroup\": \"\", \"orientation\": \"v\", \"showlegend\": false, \"textposition\": \"auto\", \"type\": \"bar\", \"x\": [\"ATL\", \"BOS\", \"BRK\", \"CHI\", \"CHO\", \"CLE\", \"DAL\", \"DEN\", \"DET\", \"GSW\", \"HOU\", \"IND\", \"LAC\", \"LAL\", \"MEM\", \"MIA\", \"MIL\", \"MIN\", \"NOP\", \"NYK\", \"OKC\", \"ORL\", \"PHI\", \"PHO\", \"POR\", \"SAC\", \"SAS\", \"TOR\", \"TOT\", \"UTA\", \"WAS\"], \"xaxis\": \"x\", \"y\": [16, 15, 12, 14, 14, 10, 18, 13, 14, 16, 13, 15, 12, 15, 17, 15, 15, 13, 14, 14, 14, 15, 16, 14, 14, 12, 15, 13, 55, 17, 13], \"yaxis\": \"y\"}],\n",
              "                        {\"barmode\": \"relative\", \"legend\": {\"tracegroupgap\": 0}, \"template\": {\"data\": {\"bar\": [{\"error_x\": {\"color\": \"#2a3f5f\"}, \"error_y\": {\"color\": \"#2a3f5f\"}, \"marker\": {\"line\": {\"color\": \"#E5ECF6\", \"width\": 0.5}}, \"type\": \"bar\"}], \"barpolar\": [{\"marker\": {\"line\": {\"color\": \"#E5ECF6\", \"width\": 0.5}}, \"type\": \"barpolar\"}], \"carpet\": [{\"aaxis\": {\"endlinecolor\": \"#2a3f5f\", \"gridcolor\": \"white\", \"linecolor\": \"white\", \"minorgridcolor\": \"white\", \"startlinecolor\": \"#2a3f5f\"}, \"baxis\": {\"endlinecolor\": \"#2a3f5f\", \"gridcolor\": \"white\", \"linecolor\": \"white\", \"minorgridcolor\": \"white\", \"startlinecolor\": \"#2a3f5f\"}, \"type\": \"carpet\"}], \"choropleth\": [{\"colorbar\": {\"outlinewidth\": 0, \"ticks\": \"\"}, \"type\": \"choropleth\"}], \"contour\": [{\"colorbar\": {\"outlinewidth\": 0, \"ticks\": \"\"}, \"colorscale\": [[0.0, \"#0d0887\"], [0.1111111111111111, \"#46039f\"], [0.2222222222222222, \"#7201a8\"], [0.3333333333333333, \"#9c179e\"], [0.4444444444444444, \"#bd3786\"], [0.5555555555555556, \"#d8576b\"], [0.6666666666666666, \"#ed7953\"], [0.7777777777777778, \"#fb9f3a\"], [0.8888888888888888, \"#fdca26\"], [1.0, \"#f0f921\"]], \"type\": \"contour\"}], \"contourcarpet\": [{\"colorbar\": {\"outlinewidth\": 0, \"ticks\": \"\"}, \"type\": \"contourcarpet\"}], \"heatmap\": [{\"colorbar\": {\"outlinewidth\": 0, \"ticks\": \"\"}, \"colorscale\": [[0.0, \"#0d0887\"], [0.1111111111111111, \"#46039f\"], [0.2222222222222222, \"#7201a8\"], [0.3333333333333333, \"#9c179e\"], [0.4444444444444444, \"#bd3786\"], [0.5555555555555556, \"#d8576b\"], [0.6666666666666666, \"#ed7953\"], [0.7777777777777778, \"#fb9f3a\"], [0.8888888888888888, \"#fdca26\"], [1.0, \"#f0f921\"]], \"type\": \"heatmap\"}], \"heatmapgl\": [{\"colorbar\": {\"outlinewidth\": 0, \"ticks\": \"\"}, \"colorscale\": [[0.0, \"#0d0887\"], [0.1111111111111111, \"#46039f\"], [0.2222222222222222, \"#7201a8\"], [0.3333333333333333, \"#9c179e\"], [0.4444444444444444, \"#bd3786\"], [0.5555555555555556, \"#d8576b\"], [0.6666666666666666, \"#ed7953\"], [0.7777777777777778, \"#fb9f3a\"], [0.8888888888888888, \"#fdca26\"], [1.0, \"#f0f921\"]], \"type\": \"heatmapgl\"}], \"histogram\": [{\"marker\": {\"colorbar\": {\"outlinewidth\": 0, \"ticks\": \"\"}}, \"type\": \"histogram\"}], \"histogram2d\": [{\"colorbar\": {\"outlinewidth\": 0, \"ticks\": \"\"}, \"colorscale\": [[0.0, \"#0d0887\"], [0.1111111111111111, \"#46039f\"], [0.2222222222222222, \"#7201a8\"], [0.3333333333333333, \"#9c179e\"], [0.4444444444444444, \"#bd3786\"], [0.5555555555555556, \"#d8576b\"], [0.6666666666666666, \"#ed7953\"], [0.7777777777777778, \"#fb9f3a\"], [0.8888888888888888, \"#fdca26\"], [1.0, \"#f0f921\"]], \"type\": \"histogram2d\"}], \"histogram2dcontour\": [{\"colorbar\": {\"outlinewidth\": 0, \"ticks\": \"\"}, \"colorscale\": [[0.0, \"#0d0887\"], [0.1111111111111111, \"#46039f\"], [0.2222222222222222, \"#7201a8\"], [0.3333333333333333, \"#9c179e\"], [0.4444444444444444, \"#bd3786\"], [0.5555555555555556, \"#d8576b\"], [0.6666666666666666, \"#ed7953\"], [0.7777777777777778, \"#fb9f3a\"], [0.8888888888888888, \"#fdca26\"], [1.0, \"#f0f921\"]], \"type\": \"histogram2dcontour\"}], \"mesh3d\": [{\"colorbar\": {\"outlinewidth\": 0, \"ticks\": \"\"}, \"type\": \"mesh3d\"}], \"parcoords\": [{\"line\": {\"colorbar\": {\"outlinewidth\": 0, \"ticks\": \"\"}}, \"type\": \"parcoords\"}], \"pie\": [{\"automargin\": true, \"type\": \"pie\"}], \"scatter\": [{\"marker\": {\"colorbar\": {\"outlinewidth\": 0, \"ticks\": \"\"}}, \"type\": \"scatter\"}], \"scatter3d\": [{\"line\": {\"colorbar\": {\"outlinewidth\": 0, \"ticks\": \"\"}}, \"marker\": {\"colorbar\": {\"outlinewidth\": 0, \"ticks\": \"\"}}, \"type\": \"scatter3d\"}], \"scattercarpet\": [{\"marker\": {\"colorbar\": {\"outlinewidth\": 0, \"ticks\": \"\"}}, \"type\": \"scattercarpet\"}], \"scattergeo\": [{\"marker\": {\"colorbar\": {\"outlinewidth\": 0, \"ticks\": \"\"}}, \"type\": \"scattergeo\"}], \"scattergl\": [{\"marker\": {\"colorbar\": {\"outlinewidth\": 0, \"ticks\": \"\"}}, \"type\": \"scattergl\"}], \"scattermapbox\": [{\"marker\": {\"colorbar\": {\"outlinewidth\": 0, \"ticks\": \"\"}}, \"type\": \"scattermapbox\"}], \"scatterpolar\": [{\"marker\": {\"colorbar\": {\"outlinewidth\": 0, \"ticks\": \"\"}}, \"type\": \"scatterpolar\"}], \"scatterpolargl\": [{\"marker\": {\"colorbar\": {\"outlinewidth\": 0, \"ticks\": \"\"}}, \"type\": \"scatterpolargl\"}], \"scatterternary\": [{\"marker\": {\"colorbar\": {\"outlinewidth\": 0, \"ticks\": \"\"}}, \"type\": \"scatterternary\"}], \"surface\": [{\"colorbar\": {\"outlinewidth\": 0, \"ticks\": \"\"}, \"colorscale\": [[0.0, \"#0d0887\"], [0.1111111111111111, \"#46039f\"], [0.2222222222222222, \"#7201a8\"], [0.3333333333333333, \"#9c179e\"], [0.4444444444444444, \"#bd3786\"], [0.5555555555555556, \"#d8576b\"], [0.6666666666666666, \"#ed7953\"], [0.7777777777777778, \"#fb9f3a\"], [0.8888888888888888, \"#fdca26\"], [1.0, \"#f0f921\"]], \"type\": \"surface\"}], \"table\": [{\"cells\": {\"fill\": {\"color\": \"#EBF0F8\"}, \"line\": {\"color\": \"white\"}}, \"header\": {\"fill\": {\"color\": \"#C8D4E3\"}, \"line\": {\"color\": \"white\"}}, \"type\": \"table\"}]}, \"layout\": {\"annotationdefaults\": {\"arrowcolor\": \"#2a3f5f\", \"arrowhead\": 0, \"arrowwidth\": 1}, \"coloraxis\": {\"colorbar\": {\"outlinewidth\": 0, \"ticks\": \"\"}}, \"colorscale\": {\"diverging\": [[0, \"#8e0152\"], [0.1, \"#c51b7d\"], [0.2, \"#de77ae\"], [0.3, \"#f1b6da\"], [0.4, \"#fde0ef\"], [0.5, \"#f7f7f7\"], [0.6, \"#e6f5d0\"], [0.7, \"#b8e186\"], [0.8, \"#7fbc41\"], [0.9, \"#4d9221\"], [1, \"#276419\"]], \"sequential\": [[0.0, \"#0d0887\"], [0.1111111111111111, \"#46039f\"], [0.2222222222222222, \"#7201a8\"], [0.3333333333333333, \"#9c179e\"], [0.4444444444444444, \"#bd3786\"], [0.5555555555555556, \"#d8576b\"], [0.6666666666666666, \"#ed7953\"], [0.7777777777777778, \"#fb9f3a\"], [0.8888888888888888, \"#fdca26\"], [1.0, \"#f0f921\"]], \"sequentialminus\": [[0.0, \"#0d0887\"], [0.1111111111111111, \"#46039f\"], [0.2222222222222222, \"#7201a8\"], [0.3333333333333333, \"#9c179e\"], [0.4444444444444444, \"#bd3786\"], [0.5555555555555556, \"#d8576b\"], [0.6666666666666666, \"#ed7953\"], [0.7777777777777778, \"#fb9f3a\"], [0.8888888888888888, \"#fdca26\"], [1.0, \"#f0f921\"]]}, \"colorway\": [\"#636efa\", \"#EF553B\", \"#00cc96\", \"#ab63fa\", \"#FFA15A\", \"#19d3f3\", \"#FF6692\", \"#B6E880\", \"#FF97FF\", \"#FECB52\"], \"font\": {\"color\": \"#2a3f5f\"}, \"geo\": {\"bgcolor\": \"white\", \"lakecolor\": \"white\", \"landcolor\": \"#E5ECF6\", \"showlakes\": true, \"showland\": true, \"subunitcolor\": \"white\"}, \"hoverlabel\": {\"align\": \"left\"}, \"hovermode\": \"closest\", \"mapbox\": {\"style\": \"light\"}, \"paper_bgcolor\": \"white\", \"plot_bgcolor\": \"#E5ECF6\", \"polar\": {\"angularaxis\": {\"gridcolor\": \"white\", \"linecolor\": \"white\", \"ticks\": \"\"}, \"bgcolor\": \"#E5ECF6\", \"radialaxis\": {\"gridcolor\": \"white\", \"linecolor\": \"white\", \"ticks\": \"\"}}, \"scene\": {\"xaxis\": {\"backgroundcolor\": \"#E5ECF6\", \"gridcolor\": \"white\", \"gridwidth\": 2, \"linecolor\": \"white\", \"showbackground\": true, \"ticks\": \"\", \"zerolinecolor\": \"white\"}, \"yaxis\": {\"backgroundcolor\": \"#E5ECF6\", \"gridcolor\": \"white\", \"gridwidth\": 2, \"linecolor\": \"white\", \"showbackground\": true, \"ticks\": \"\", \"zerolinecolor\": \"white\"}, \"zaxis\": {\"backgroundcolor\": \"#E5ECF6\", \"gridcolor\": \"white\", \"gridwidth\": 2, \"linecolor\": \"white\", \"showbackground\": true, \"ticks\": \"\", \"zerolinecolor\": \"white\"}}, \"shapedefaults\": {\"line\": {\"color\": \"#2a3f5f\"}}, \"ternary\": {\"aaxis\": {\"gridcolor\": \"white\", \"linecolor\": \"white\", \"ticks\": \"\"}, \"baxis\": {\"gridcolor\": \"white\", \"linecolor\": \"white\", \"ticks\": \"\"}, \"bgcolor\": \"#E5ECF6\", \"caxis\": {\"gridcolor\": \"white\", \"linecolor\": \"white\", \"ticks\": \"\"}}, \"title\": {\"x\": 0.05}, \"xaxis\": {\"automargin\": true, \"gridcolor\": \"white\", \"linecolor\": \"white\", \"ticks\": \"\", \"title\": {\"standoff\": 15}, \"zerolinecolor\": \"white\", \"zerolinewidth\": 2}, \"yaxis\": {\"automargin\": true, \"gridcolor\": \"white\", \"linecolor\": \"white\", \"ticks\": \"\", \"title\": {\"standoff\": 15}, \"zerolinecolor\": \"white\", \"zerolinewidth\": 2}}}, \"title\": {\"text\": \"NBA Players Per Team\"}, \"xaxis\": {\"anchor\": \"y\", \"domain\": [0.0, 1.0], \"title\": {\"text\": \"Team\"}}, \"yaxis\": {\"anchor\": \"x\", \"domain\": [0.0, 1.0], \"title\": {\"text\": \"# Players\"}}},\n",
              "                        {\"responsive\": true}\n",
              "                    ).then(function(){\n",
              "                            \n",
              "var gd = document.getElementById('bb845fab-3456-4c4d-8b7a-4083ba58581f');\n",
              "var x = new MutationObserver(function (mutations, observer) {{\n",
              "        var display = window.getComputedStyle(gd).display;\n",
              "        if (!display || display === 'none') {{\n",
              "            console.log([gd, 'removed!']);\n",
              "            Plotly.purge(gd);\n",
              "            observer.disconnect();\n",
              "        }}\n",
              "}});\n",
              "\n",
              "// Listen for the removal of the full notebook cells\n",
              "var notebookContainer = gd.closest('#notebook-container');\n",
              "if (notebookContainer) {{\n",
              "    x.observe(notebookContainer, {childList: true});\n",
              "}}\n",
              "\n",
              "// Listen for the clearing of the current output cell\n",
              "var outputEl = gd.closest('.output');\n",
              "if (outputEl) {{\n",
              "    x.observe(outputEl, {childList: true});\n",
              "}}\n",
              "\n",
              "                        })\n",
              "                };\n",
              "                \n",
              "            </script>\n",
              "        </div>\n",
              "</body>\n",
              "</html>"
            ]
          },
          "metadata": {
            "tags": []
          }
        }
      ]
    },
    {
      "cell_type": "markdown",
      "metadata": {
        "id": "6lXF_rrHUJfZ"
      },
      "source": [
        "We can see that the TOT team was by far the team with the most players during the 2017-2018 season."
      ]
    },
    {
      "cell_type": "markdown",
      "metadata": {
        "id": "0aKVI0opX2nm"
      },
      "source": [
        "### What is the probability that a player wins more than 10 million given that he is not from the USA?\n",
        "\n"
      ]
    },
    {
      "cell_type": "code",
      "metadata": {
        "id": "TYQ-B41paOfb"
      },
      "source": [
        "usa_players = (df['NBA_Country'] == 'USA').sum()\n",
        "no_usa_players = (df['NBA_Country'] != 'USA').sum()\n",
        "\n",
        "no_usa_more10m = ((df['NBA_Country'] != 'USA') & (df['Salary'] > 10e6)).sum()\n",
        "usa_more10m =((df['NBA_Country'] == 'USA') & (df['Salary'] > 10e6)).sum()"
      ],
      "execution_count": null,
      "outputs": []
    },
    {
      "cell_type": "code",
      "metadata": {
        "id": "QFB0VL86YCRn"
      },
      "source": [
        "# P(a|b) = (P(b|a))*P(a)/P(b)\n",
        "probability =  (no_usa_more10m / (no_usa_more10m  +usa_more10m)) * ((no_usa_more10m + usa_more10m)/\n",
        "               (no_usa_players + usa_players)) / (no_usa_players/(no_usa_players + usa_players))"
      ],
      "execution_count": null,
      "outputs": []
    },
    {
      "cell_type": "code",
      "metadata": {
        "id": "4JpcPnOKa2tR",
        "outputId": "10ffcfb7-8d31-4cb4-a481-e897845feb29",
        "colab": {
          "base_uri": "https://localhost:8080/"
        }
      },
      "source": [
        "print(f'The probability that a player will win more than 10 million given that he is not from the USA is {round(probability*100,3)}%')"
      ],
      "execution_count": null,
      "outputs": [
        {
          "output_type": "stream",
          "text": [
            "The probability that a player will win more than 10 million given that he is not from the USA is 28.829%\n"
          ],
          "name": "stdout"
        }
      ]
    },
    {
      "cell_type": "markdown",
      "metadata": {
        "id": "Y7lEOYgEWkDp"
      },
      "source": [
        "## Visulizations "
      ]
    },
    {
      "cell_type": "markdown",
      "metadata": {
        "id": "fVmQqmZLzUBr"
      },
      "source": [
        ""
      ]
    },
    {
      "cell_type": "markdown",
      "metadata": {
        "id": "gCYPyU7uWO-U"
      },
      "source": [
        "### Players Per Country"
      ]
    },
    {
      "cell_type": "code",
      "metadata": {
        "id": "_M4zwywUuO7Q",
        "outputId": "e9d0cc6a-ff0e-4ccc-a027-34dc0d2c1fac",
        "colab": {
          "base_uri": "https://localhost:8080/"
        }
      },
      "source": [
        "players_country = df['NBA_Country'].value_counts()\n",
        "players_country[0] = players_country[0] - 2\n",
        "players_country"
      ],
      "execution_count": null,
      "outputs": [
        {
          "output_type": "execute_result",
          "data": {
            "text/plain": [
              "USA                 370\n",
              "Canada               12\n",
              "France                9\n",
              "Australia             8\n",
              "Spain                 7\n",
              "Croatia               6\n",
              "Germany               5\n",
              "Brazil                5\n",
              "Turkey                5\n",
              "Serbia                5\n",
              "Cameroon              3\n",
              "Lithuania             3\n",
              "Latvia                2\n",
              "Ukraine               2\n",
              "Argentina             2\n",
              "Switzerland           2\n",
              "Italy                 2\n",
              "Puerto Rico           2\n",
              "Democratic Re...      2\n",
              "United Kingdo...      2\n",
              "Greece                2\n",
              "Montenegro            2\n",
              "Dominican Rep...      2\n",
              "China                 1\n",
              "Austria               1\n",
              "Egypt                 1\n",
              "Georgia               1\n",
              "Sweden                1\n",
              "New Zealand           1\n",
              "Bosnia & Herz...      1\n",
              "South Sudan           1\n",
              "Haiti                 1\n",
              "Czech Republic        1\n",
              "Bahamas               1\n",
              "Democratic Re_        1\n",
              "Senegal               1\n",
              "Slovenia              1\n",
              "Bosnia                1\n",
              "Israel                1\n",
              "Poland                1\n",
              "Tunisia               1\n",
              "Mali                  1\n",
              "Finland               1\n",
              "Russia                1\n",
              "Name: NBA_Country, dtype: int64"
            ]
          },
          "metadata": {
            "tags": []
          },
          "execution_count": 25
        }
      ]
    },
    {
      "cell_type": "code",
      "metadata": {
        "id": "Blt6czyBVESN",
        "outputId": "854d2504-b27e-4222-db41-129e14ed81d0",
        "colab": {
          "base_uri": "https://localhost:8080/",
          "height": 542
        }
      },
      "source": [
        "px.bar(x=players_country.index, y=players_country, labels={'x': 'Country', 'y':'# Players'}, title='NBA Players per Country')"
      ],
      "execution_count": null,
      "outputs": [
        {
          "output_type": "display_data",
          "data": {
            "text/html": [
              "<html>\n",
              "<head><meta charset=\"utf-8\" /></head>\n",
              "<body>\n",
              "    <div>\n",
              "            <script src=\"https://cdnjs.cloudflare.com/ajax/libs/mathjax/2.7.5/MathJax.js?config=TeX-AMS-MML_SVG\"></script><script type=\"text/javascript\">if (window.MathJax) {MathJax.Hub.Config({SVG: {font: \"STIX-Web\"}});}</script>\n",
              "                <script type=\"text/javascript\">window.PlotlyConfig = {MathJaxConfig: 'local'};</script>\n",
              "        <script src=\"https://cdn.plot.ly/plotly-latest.min.js\"></script>    \n",
              "            <div id=\"d7c449ee-ce67-418b-8474-ecb090a0e682\" class=\"plotly-graph-div\" style=\"height:525px; width:100%;\"></div>\n",
              "            <script type=\"text/javascript\">\n",
              "                \n",
              "                    window.PLOTLYENV=window.PLOTLYENV || {};\n",
              "                    \n",
              "                if (document.getElementById(\"d7c449ee-ce67-418b-8474-ecb090a0e682\")) {\n",
              "                    Plotly.newPlot(\n",
              "                        'd7c449ee-ce67-418b-8474-ecb090a0e682',\n",
              "                        [{\"alignmentgroup\": \"True\", \"hoverlabel\": {\"namelength\": 0}, \"hovertemplate\": \"Country=%{x}<br># Players=%{y}\", \"legendgroup\": \"\", \"marker\": {\"color\": \"#636efa\"}, \"name\": \"\", \"offsetgroup\": \"\", \"orientation\": \"v\", \"showlegend\": false, \"textposition\": \"auto\", \"type\": \"bar\", \"x\": [\"USA\", \"Canada\", \"France\", \"Australia\", \"Spain\", \"Croatia\", \"Germany\", \"Brazil\", \"Turkey\", \"Serbia\", \"Cameroon\", \"Lithuania\", \"Latvia\", \"Ukraine\", \"Argentina\", \"Switzerland\", \"Italy\", \"Puerto Rico\", \"Democratic Re...\", \"United Kingdo...\", \"Greece\", \"Montenegro\", \"Dominican Rep...\", \"China\", \"Austria\", \"Egypt\", \"Georgia\", \"Sweden\", \"New Zealand\", \"Bosnia & Herz...\", \"South Sudan\", \"Haiti\", \"Czech Republic\", \"Bahamas\", \"Democratic Re_\", \"Senegal\", \"Slovenia\", \"Bosnia\", \"Israel\", \"Poland\", \"Tunisia\", \"Mali\", \"Finland\", \"Russia\"], \"xaxis\": \"x\", \"y\": [370, 12, 9, 8, 7, 6, 5, 5, 5, 5, 3, 3, 2, 2, 2, 2, 2, 2, 2, 2, 2, 2, 2, 1, 1, 1, 1, 1, 1, 1, 1, 1, 1, 1, 1, 1, 1, 1, 1, 1, 1, 1, 1, 1], \"yaxis\": \"y\"}],\n",
              "                        {\"barmode\": \"relative\", \"legend\": {\"tracegroupgap\": 0}, \"template\": {\"data\": {\"bar\": [{\"error_x\": {\"color\": \"#2a3f5f\"}, \"error_y\": {\"color\": \"#2a3f5f\"}, \"marker\": {\"line\": {\"color\": \"#E5ECF6\", \"width\": 0.5}}, \"type\": \"bar\"}], \"barpolar\": [{\"marker\": {\"line\": {\"color\": \"#E5ECF6\", \"width\": 0.5}}, \"type\": \"barpolar\"}], \"carpet\": [{\"aaxis\": {\"endlinecolor\": \"#2a3f5f\", \"gridcolor\": \"white\", \"linecolor\": \"white\", \"minorgridcolor\": \"white\", \"startlinecolor\": \"#2a3f5f\"}, \"baxis\": {\"endlinecolor\": \"#2a3f5f\", \"gridcolor\": \"white\", \"linecolor\": \"white\", \"minorgridcolor\": \"white\", \"startlinecolor\": \"#2a3f5f\"}, \"type\": \"carpet\"}], \"choropleth\": [{\"colorbar\": {\"outlinewidth\": 0, \"ticks\": \"\"}, \"type\": \"choropleth\"}], \"contour\": [{\"colorbar\": {\"outlinewidth\": 0, \"ticks\": \"\"}, \"colorscale\": [[0.0, \"#0d0887\"], [0.1111111111111111, \"#46039f\"], [0.2222222222222222, \"#7201a8\"], [0.3333333333333333, \"#9c179e\"], [0.4444444444444444, \"#bd3786\"], [0.5555555555555556, \"#d8576b\"], [0.6666666666666666, \"#ed7953\"], [0.7777777777777778, \"#fb9f3a\"], [0.8888888888888888, \"#fdca26\"], [1.0, \"#f0f921\"]], \"type\": \"contour\"}], \"contourcarpet\": [{\"colorbar\": {\"outlinewidth\": 0, \"ticks\": \"\"}, \"type\": \"contourcarpet\"}], \"heatmap\": [{\"colorbar\": {\"outlinewidth\": 0, \"ticks\": \"\"}, \"colorscale\": [[0.0, \"#0d0887\"], [0.1111111111111111, \"#46039f\"], [0.2222222222222222, \"#7201a8\"], [0.3333333333333333, \"#9c179e\"], [0.4444444444444444, \"#bd3786\"], [0.5555555555555556, \"#d8576b\"], [0.6666666666666666, \"#ed7953\"], [0.7777777777777778, \"#fb9f3a\"], [0.8888888888888888, \"#fdca26\"], [1.0, \"#f0f921\"]], \"type\": \"heatmap\"}], \"heatmapgl\": [{\"colorbar\": {\"outlinewidth\": 0, \"ticks\": \"\"}, \"colorscale\": [[0.0, \"#0d0887\"], [0.1111111111111111, \"#46039f\"], [0.2222222222222222, \"#7201a8\"], [0.3333333333333333, \"#9c179e\"], [0.4444444444444444, \"#bd3786\"], [0.5555555555555556, \"#d8576b\"], [0.6666666666666666, \"#ed7953\"], [0.7777777777777778, \"#fb9f3a\"], [0.8888888888888888, \"#fdca26\"], [1.0, \"#f0f921\"]], \"type\": \"heatmapgl\"}], \"histogram\": [{\"marker\": {\"colorbar\": {\"outlinewidth\": 0, \"ticks\": \"\"}}, \"type\": \"histogram\"}], \"histogram2d\": [{\"colorbar\": {\"outlinewidth\": 0, \"ticks\": \"\"}, \"colorscale\": [[0.0, \"#0d0887\"], [0.1111111111111111, \"#46039f\"], [0.2222222222222222, \"#7201a8\"], [0.3333333333333333, \"#9c179e\"], [0.4444444444444444, \"#bd3786\"], [0.5555555555555556, \"#d8576b\"], [0.6666666666666666, \"#ed7953\"], [0.7777777777777778, \"#fb9f3a\"], [0.8888888888888888, \"#fdca26\"], [1.0, \"#f0f921\"]], \"type\": \"histogram2d\"}], \"histogram2dcontour\": [{\"colorbar\": {\"outlinewidth\": 0, \"ticks\": \"\"}, \"colorscale\": [[0.0, \"#0d0887\"], [0.1111111111111111, \"#46039f\"], [0.2222222222222222, \"#7201a8\"], [0.3333333333333333, \"#9c179e\"], [0.4444444444444444, \"#bd3786\"], [0.5555555555555556, \"#d8576b\"], [0.6666666666666666, \"#ed7953\"], [0.7777777777777778, \"#fb9f3a\"], [0.8888888888888888, \"#fdca26\"], [1.0, \"#f0f921\"]], \"type\": \"histogram2dcontour\"}], \"mesh3d\": [{\"colorbar\": {\"outlinewidth\": 0, \"ticks\": \"\"}, \"type\": \"mesh3d\"}], \"parcoords\": [{\"line\": {\"colorbar\": {\"outlinewidth\": 0, \"ticks\": \"\"}}, \"type\": \"parcoords\"}], \"pie\": [{\"automargin\": true, \"type\": \"pie\"}], \"scatter\": [{\"marker\": {\"colorbar\": {\"outlinewidth\": 0, \"ticks\": \"\"}}, \"type\": \"scatter\"}], \"scatter3d\": [{\"line\": {\"colorbar\": {\"outlinewidth\": 0, \"ticks\": \"\"}}, \"marker\": {\"colorbar\": {\"outlinewidth\": 0, \"ticks\": \"\"}}, \"type\": \"scatter3d\"}], \"scattercarpet\": [{\"marker\": {\"colorbar\": {\"outlinewidth\": 0, \"ticks\": \"\"}}, \"type\": \"scattercarpet\"}], \"scattergeo\": [{\"marker\": {\"colorbar\": {\"outlinewidth\": 0, \"ticks\": \"\"}}, \"type\": \"scattergeo\"}], \"scattergl\": [{\"marker\": {\"colorbar\": {\"outlinewidth\": 0, \"ticks\": \"\"}}, \"type\": \"scattergl\"}], \"scattermapbox\": [{\"marker\": {\"colorbar\": {\"outlinewidth\": 0, \"ticks\": \"\"}}, \"type\": \"scattermapbox\"}], \"scatterpolar\": [{\"marker\": {\"colorbar\": {\"outlinewidth\": 0, \"ticks\": \"\"}}, \"type\": \"scatterpolar\"}], \"scatterpolargl\": [{\"marker\": {\"colorbar\": {\"outlinewidth\": 0, \"ticks\": \"\"}}, \"type\": \"scatterpolargl\"}], \"scatterternary\": [{\"marker\": {\"colorbar\": {\"outlinewidth\": 0, \"ticks\": \"\"}}, \"type\": \"scatterternary\"}], \"surface\": [{\"colorbar\": {\"outlinewidth\": 0, \"ticks\": \"\"}, \"colorscale\": [[0.0, \"#0d0887\"], [0.1111111111111111, \"#46039f\"], [0.2222222222222222, \"#7201a8\"], [0.3333333333333333, \"#9c179e\"], [0.4444444444444444, \"#bd3786\"], [0.5555555555555556, \"#d8576b\"], [0.6666666666666666, \"#ed7953\"], [0.7777777777777778, \"#fb9f3a\"], [0.8888888888888888, \"#fdca26\"], [1.0, \"#f0f921\"]], \"type\": \"surface\"}], \"table\": [{\"cells\": {\"fill\": {\"color\": \"#EBF0F8\"}, \"line\": {\"color\": \"white\"}}, \"header\": {\"fill\": {\"color\": \"#C8D4E3\"}, \"line\": {\"color\": \"white\"}}, \"type\": \"table\"}]}, \"layout\": {\"annotationdefaults\": {\"arrowcolor\": \"#2a3f5f\", \"arrowhead\": 0, \"arrowwidth\": 1}, \"coloraxis\": {\"colorbar\": {\"outlinewidth\": 0, \"ticks\": \"\"}}, \"colorscale\": {\"diverging\": [[0, \"#8e0152\"], [0.1, \"#c51b7d\"], [0.2, \"#de77ae\"], [0.3, \"#f1b6da\"], [0.4, \"#fde0ef\"], [0.5, \"#f7f7f7\"], [0.6, \"#e6f5d0\"], [0.7, \"#b8e186\"], [0.8, \"#7fbc41\"], [0.9, \"#4d9221\"], [1, \"#276419\"]], \"sequential\": [[0.0, \"#0d0887\"], [0.1111111111111111, \"#46039f\"], [0.2222222222222222, \"#7201a8\"], [0.3333333333333333, \"#9c179e\"], [0.4444444444444444, \"#bd3786\"], [0.5555555555555556, \"#d8576b\"], [0.6666666666666666, \"#ed7953\"], [0.7777777777777778, \"#fb9f3a\"], [0.8888888888888888, \"#fdca26\"], [1.0, \"#f0f921\"]], \"sequentialminus\": [[0.0, \"#0d0887\"], [0.1111111111111111, \"#46039f\"], [0.2222222222222222, \"#7201a8\"], [0.3333333333333333, \"#9c179e\"], [0.4444444444444444, \"#bd3786\"], [0.5555555555555556, \"#d8576b\"], [0.6666666666666666, \"#ed7953\"], [0.7777777777777778, \"#fb9f3a\"], [0.8888888888888888, \"#fdca26\"], [1.0, \"#f0f921\"]]}, \"colorway\": [\"#636efa\", \"#EF553B\", \"#00cc96\", \"#ab63fa\", \"#FFA15A\", \"#19d3f3\", \"#FF6692\", \"#B6E880\", \"#FF97FF\", \"#FECB52\"], \"font\": {\"color\": \"#2a3f5f\"}, \"geo\": {\"bgcolor\": \"white\", \"lakecolor\": \"white\", \"landcolor\": \"#E5ECF6\", \"showlakes\": true, \"showland\": true, \"subunitcolor\": \"white\"}, \"hoverlabel\": {\"align\": \"left\"}, \"hovermode\": \"closest\", \"mapbox\": {\"style\": \"light\"}, \"paper_bgcolor\": \"white\", \"plot_bgcolor\": \"#E5ECF6\", \"polar\": {\"angularaxis\": {\"gridcolor\": \"white\", \"linecolor\": \"white\", \"ticks\": \"\"}, \"bgcolor\": \"#E5ECF6\", \"radialaxis\": {\"gridcolor\": \"white\", \"linecolor\": \"white\", \"ticks\": \"\"}}, \"scene\": {\"xaxis\": {\"backgroundcolor\": \"#E5ECF6\", \"gridcolor\": \"white\", \"gridwidth\": 2, \"linecolor\": \"white\", \"showbackground\": true, \"ticks\": \"\", \"zerolinecolor\": \"white\"}, \"yaxis\": {\"backgroundcolor\": \"#E5ECF6\", \"gridcolor\": \"white\", \"gridwidth\": 2, \"linecolor\": \"white\", \"showbackground\": true, \"ticks\": \"\", \"zerolinecolor\": \"white\"}, \"zaxis\": {\"backgroundcolor\": \"#E5ECF6\", \"gridcolor\": \"white\", \"gridwidth\": 2, \"linecolor\": \"white\", \"showbackground\": true, \"ticks\": \"\", \"zerolinecolor\": \"white\"}}, \"shapedefaults\": {\"line\": {\"color\": \"#2a3f5f\"}}, \"ternary\": {\"aaxis\": {\"gridcolor\": \"white\", \"linecolor\": \"white\", \"ticks\": \"\"}, \"baxis\": {\"gridcolor\": \"white\", \"linecolor\": \"white\", \"ticks\": \"\"}, \"bgcolor\": \"#E5ECF6\", \"caxis\": {\"gridcolor\": \"white\", \"linecolor\": \"white\", \"ticks\": \"\"}}, \"title\": {\"x\": 0.05}, \"xaxis\": {\"automargin\": true, \"gridcolor\": \"white\", \"linecolor\": \"white\", \"ticks\": \"\", \"title\": {\"standoff\": 15}, \"zerolinecolor\": \"white\", \"zerolinewidth\": 2}, \"yaxis\": {\"automargin\": true, \"gridcolor\": \"white\", \"linecolor\": \"white\", \"ticks\": \"\", \"title\": {\"standoff\": 15}, \"zerolinecolor\": \"white\", \"zerolinewidth\": 2}}}, \"title\": {\"text\": \"NBA Players per Country\"}, \"xaxis\": {\"anchor\": \"y\", \"domain\": [0.0, 1.0], \"title\": {\"text\": \"Country\"}}, \"yaxis\": {\"anchor\": \"x\", \"domain\": [0.0, 1.0], \"title\": {\"text\": \"# Players\"}}},\n",
              "                        {\"responsive\": true}\n",
              "                    ).then(function(){\n",
              "                            \n",
              "var gd = document.getElementById('d7c449ee-ce67-418b-8474-ecb090a0e682');\n",
              "var x = new MutationObserver(function (mutations, observer) {{\n",
              "        var display = window.getComputedStyle(gd).display;\n",
              "        if (!display || display === 'none') {{\n",
              "            console.log([gd, 'removed!']);\n",
              "            Plotly.purge(gd);\n",
              "            observer.disconnect();\n",
              "        }}\n",
              "}});\n",
              "\n",
              "// Listen for the removal of the full notebook cells\n",
              "var notebookContainer = gd.closest('#notebook-container');\n",
              "if (notebookContainer) {{\n",
              "    x.observe(notebookContainer, {childList: true});\n",
              "}}\n",
              "\n",
              "// Listen for the clearing of the current output cell\n",
              "var outputEl = gd.closest('.output');\n",
              "if (outputEl) {{\n",
              "    x.observe(outputEl, {childList: true});\n",
              "}}\n",
              "\n",
              "                        })\n",
              "                };\n",
              "                \n",
              "            </script>\n",
              "        </div>\n",
              "</body>\n",
              "</html>"
            ]
          },
          "metadata": {
            "tags": []
          }
        }
      ]
    },
    {
      "cell_type": "markdown",
      "metadata": {
        "id": "RLjpwG5KD8ph"
      },
      "source": [
        "### Players Salaries "
      ]
    },
    {
      "cell_type": "code",
      "metadata": {
        "id": "8V7APDgMEOif",
        "outputId": "7a7a0d8e-8894-4049-89b1-f42544f67ae2",
        "colab": {
          "base_uri": "https://localhost:8080/",
          "height": 542
        }
      },
      "source": [
        "px.histogram(df, x='Salary', title='NBA Players Salaries', labels={'count':'Frequency', 'Salary': 'Salary ($)'})"
      ],
      "execution_count": null,
      "outputs": [
        {
          "output_type": "display_data",
          "data": {
            "text/html": [
              "<html>\n",
              "<head><meta charset=\"utf-8\" /></head>\n",
              "<body>\n",
              "    <div>\n",
              "            <script src=\"https://cdnjs.cloudflare.com/ajax/libs/mathjax/2.7.5/MathJax.js?config=TeX-AMS-MML_SVG\"></script><script type=\"text/javascript\">if (window.MathJax) {MathJax.Hub.Config({SVG: {font: \"STIX-Web\"}});}</script>\n",
              "                <script type=\"text/javascript\">window.PlotlyConfig = {MathJaxConfig: 'local'};</script>\n",
              "        <script src=\"https://cdn.plot.ly/plotly-latest.min.js\"></script>    \n",
              "            <div id=\"c56cf8be-3df9-47b0-a1a0-55e083360c65\" class=\"plotly-graph-div\" style=\"height:525px; width:100%;\"></div>\n",
              "            <script type=\"text/javascript\">\n",
              "                \n",
              "                    window.PLOTLYENV=window.PLOTLYENV || {};\n",
              "                    \n",
              "                if (document.getElementById(\"c56cf8be-3df9-47b0-a1a0-55e083360c65\")) {\n",
              "                    Plotly.newPlot(\n",
              "                        'c56cf8be-3df9-47b0-a1a0-55e083360c65',\n",
              "                        [{\"alignmentgroup\": \"True\", \"bingroup\": \"x\", \"hoverlabel\": {\"namelength\": 0}, \"hovertemplate\": \"Salary ($)=%{x}<br>count=%{y}\", \"legendgroup\": \"\", \"marker\": {\"color\": \"#636efa\"}, \"name\": \"\", \"offsetgroup\": \"\", \"orientation\": \"v\", \"showlegend\": false, \"type\": \"histogram\", \"x\": [815615, 3477600, 12307692, 3202217, 3057240, 1312611, 74159, 46080, 12016854, 1435750, 1577230, 3704160, 3533333, 17884176, 5881260, 1050000, 1312611, 6270000, 1874400, 50000, 8000000, 21000000, 50000, 2328652, 1471382, 13000000, 3290000, 1709538, 1312611, 5881260, 1524305, 815615, 679919, 1471382, 3408520, 16400000, 2441400, 784160, 9125000, 7420912, 1312611, 148318, 9821429, 15453126, 1414920, 2116955, 3000000, 16000000, 1386600, 15280000, 16500000, 2000000, 2684160, 815615, 14796348, 5250000, 1988520, 10500000, 1785000, 2422560, 3290000, 14000000, 3152931, 1471382, 2028360, 22471910, 815615, 34682550, 3097800, 1524305, 12236535, 1312611, 815615, 6000000, 7692308, 92160, 1524305, 2361360, 1577230, 20061729, 1291892, 1524305, 74159, 1794600, 1471382, 19578455, 28530608, 21974719, 8406000, 815615, 1471382, 4328000, 92160, 1312611, 2386864, 13788500, 16698103, 14275000, 1471382, 2500000, 16000000, 2500000, 2328652, 1471382, 1889040, 2328652, 3300000, 100000, 3853931, 1709538, 1312611, 31269231, 19508958, 16000000, 10714286, 5192000, 1312611, 5513514, 1471382, 1312611, 7590035, 24773250, 2106470, 10595505, 1312611, 1645200, 1471382, 3505233, 12250000, 12500000, 1471382, 3807146, 92160, 1312611, 22434783, 5192000, 2328652, 4187599, 3477600, 3949999, 92160, 50000, 2569920, 1471382, 10500000, 3025035, 6000000, 12500000, 1709538, 5000000, 87552, 28530608, 13000000, 2700000, 2116955, 9904495, 815615, 10162922, 9607500, 50000, 14041096, 13168750, 86119, 100000, 2116955, 83129, 3073800, 8000000, 7026240, 4078320, 2106407, 4538020, 5000000, 1312611, 6306060, 12782609, 22642350, 2500000, 2904480, 1700640, 2500000, 1312611, 1504560, 17190000, 2759280, 1974159, 50000, 2947305, 2116955, 7000000, 6286560, 33285709, 3821640, 1471382, 148318, 6666667, 6655325, 4180000, 21461010, 18868625, 4666500, 4087500, 28703704, 1423560, 7000000, 92160, 2151704, 4503600, 4046760, 8393000, 17826150, 14100000, 815615, 1471382, 22642350, 25000000, 17745894, 16910113, 12921348, 12000000, 2093040, 10607169, 1312611, 1312611, 1312611, 18868625, 6216840, 2947305, 2705040, 2247480, 2365560, 4615385, 1579440, 1524305, 4149242, 2076840, 25686667, 5400000, 1471382, 6021175, 5090040, 1471382, 1394520, 92160, 2328652, 1471382, 250000, 11562500, 815615, 6300000, 4186320, 15460675, 4000000, 10497319, 1524305, 18063850, 11422536, 1936920, 1524305, 6100266, 1312611, 1471382, 9505000, 14136364, 1524305, 3290000, 17765000, 19301070, 9000000, 1713840, 12000000, 7000000, 104059, 1524305, 1577320, 19000000, 2116955, 5645400, 92160, 4956480, 815615, 2116955, 2328652, 5225000, 2328652, 1713720, 1471382, 83129, 10000000, 8533333, 50000, 50000, 13954000, 28299399, 3028410, 4736050, 46080, 3355320, 10942762, 2825640, 1312611, 4995120, 6796117, 50000, 6782392, 13760000, 23000000, 3903900, 1312611, 950000, 6000000, 1312611, 6261395, 1312611, 1069308, 10337079, 950000, 16661641, 1577230, 1780800, 23775506, 23112004, 2247480, 17884176, 14112360, 29727900, 17000450, 1524305, 22471910, 50000, 947248, 2301360, 100000, 20000000, 50000, 2550055, 8000000, 1465920, 1312611, 3501120, 1184385, 2847600, 17131148, 17000000, 8445024, 6000000, 1739333, 12943020, 14500000, 20566802, 3381480, 239204, 3332340, 3200000, 6352531, 15550000, 9003125, 23500000, 748160, 815615, 16400000, 4468800, 3294994, 1312611, 2621280, 2550000, 5000000, 11000000, 815615, 1312611, 6000000, 4402546, 2319360, 104059, 1404600, 2116955, 1312611, 12000000, 2186400, 3218280, 15500000, 92858, 14800000, 18063850, 27739975, 1645200, 1312611, 1577230, 22642350, 1567200, 4609200, 815615, 1312611, 2328652, 148318, 1312611, 10000000, 7464912, 2100000, 2422560, 4992385, 2300000, 10000000, 20559599, 815615, 5562360, 1100000, 92160, 2116955, 26153057, 1312611, 815615, 2135040, 7250000, 7843500, 11747890, 7630000, 7579366, 7300000, 12584270, 2334520, 24599495, 1471382, 1312611, 7420912, 23112004, 2642857, 26243760, 1632480, 2203440, 1465920, 7936509, 23962573, 3675480, 1312611, 2451225, 22642350, 1331160, 83129, 815615, 238020, 5519400, 5179760, 23775506, 10500000, 9470614, 1516320, 1524305, 7000000, 29512900, 17000000, 6168840, 5200000, 2490360, 8808989, 11825000, 2328652, 4328000, 92160, 3290000, 23775506, 1645200, 7574322, 1312611, 2328652, 9259259, 14814815, 23775506, 11000000, 19332500, 815615, 7319035, 778668, 4187599, 5725000, 10845506, 6000000, 9769821, 27734405, 1167333, 83129, 5504420, 2116955], \"xaxis\": \"x\", \"yaxis\": \"y\"}],\n",
              "                        {\"barmode\": \"relative\", \"legend\": {\"tracegroupgap\": 0}, \"template\": {\"data\": {\"bar\": [{\"error_x\": {\"color\": \"#2a3f5f\"}, \"error_y\": {\"color\": \"#2a3f5f\"}, \"marker\": {\"line\": {\"color\": \"#E5ECF6\", \"width\": 0.5}}, \"type\": \"bar\"}], \"barpolar\": [{\"marker\": {\"line\": {\"color\": \"#E5ECF6\", \"width\": 0.5}}, \"type\": \"barpolar\"}], \"carpet\": [{\"aaxis\": {\"endlinecolor\": \"#2a3f5f\", \"gridcolor\": \"white\", \"linecolor\": \"white\", \"minorgridcolor\": \"white\", \"startlinecolor\": \"#2a3f5f\"}, \"baxis\": {\"endlinecolor\": \"#2a3f5f\", \"gridcolor\": \"white\", \"linecolor\": \"white\", \"minorgridcolor\": \"white\", \"startlinecolor\": \"#2a3f5f\"}, \"type\": \"carpet\"}], \"choropleth\": [{\"colorbar\": {\"outlinewidth\": 0, \"ticks\": \"\"}, \"type\": \"choropleth\"}], \"contour\": [{\"colorbar\": {\"outlinewidth\": 0, \"ticks\": \"\"}, \"colorscale\": [[0.0, \"#0d0887\"], [0.1111111111111111, \"#46039f\"], [0.2222222222222222, \"#7201a8\"], [0.3333333333333333, \"#9c179e\"], [0.4444444444444444, \"#bd3786\"], [0.5555555555555556, \"#d8576b\"], [0.6666666666666666, \"#ed7953\"], [0.7777777777777778, \"#fb9f3a\"], [0.8888888888888888, \"#fdca26\"], [1.0, \"#f0f921\"]], \"type\": \"contour\"}], \"contourcarpet\": [{\"colorbar\": {\"outlinewidth\": 0, \"ticks\": \"\"}, \"type\": \"contourcarpet\"}], \"heatmap\": [{\"colorbar\": {\"outlinewidth\": 0, \"ticks\": \"\"}, \"colorscale\": [[0.0, \"#0d0887\"], [0.1111111111111111, \"#46039f\"], [0.2222222222222222, \"#7201a8\"], [0.3333333333333333, \"#9c179e\"], [0.4444444444444444, \"#bd3786\"], [0.5555555555555556, \"#d8576b\"], [0.6666666666666666, \"#ed7953\"], [0.7777777777777778, \"#fb9f3a\"], [0.8888888888888888, \"#fdca26\"], [1.0, \"#f0f921\"]], \"type\": \"heatmap\"}], \"heatmapgl\": [{\"colorbar\": {\"outlinewidth\": 0, \"ticks\": \"\"}, \"colorscale\": [[0.0, \"#0d0887\"], [0.1111111111111111, \"#46039f\"], [0.2222222222222222, \"#7201a8\"], [0.3333333333333333, \"#9c179e\"], [0.4444444444444444, \"#bd3786\"], [0.5555555555555556, \"#d8576b\"], [0.6666666666666666, \"#ed7953\"], [0.7777777777777778, \"#fb9f3a\"], [0.8888888888888888, \"#fdca26\"], [1.0, \"#f0f921\"]], \"type\": \"heatmapgl\"}], \"histogram\": [{\"marker\": {\"colorbar\": {\"outlinewidth\": 0, \"ticks\": \"\"}}, \"type\": \"histogram\"}], \"histogram2d\": [{\"colorbar\": {\"outlinewidth\": 0, \"ticks\": \"\"}, \"colorscale\": [[0.0, \"#0d0887\"], [0.1111111111111111, \"#46039f\"], [0.2222222222222222, \"#7201a8\"], [0.3333333333333333, \"#9c179e\"], [0.4444444444444444, \"#bd3786\"], [0.5555555555555556, \"#d8576b\"], [0.6666666666666666, \"#ed7953\"], [0.7777777777777778, \"#fb9f3a\"], [0.8888888888888888, \"#fdca26\"], [1.0, \"#f0f921\"]], \"type\": \"histogram2d\"}], \"histogram2dcontour\": [{\"colorbar\": {\"outlinewidth\": 0, \"ticks\": \"\"}, \"colorscale\": [[0.0, \"#0d0887\"], [0.1111111111111111, \"#46039f\"], [0.2222222222222222, \"#7201a8\"], [0.3333333333333333, \"#9c179e\"], [0.4444444444444444, \"#bd3786\"], [0.5555555555555556, \"#d8576b\"], [0.6666666666666666, \"#ed7953\"], [0.7777777777777778, \"#fb9f3a\"], [0.8888888888888888, \"#fdca26\"], [1.0, \"#f0f921\"]], \"type\": \"histogram2dcontour\"}], \"mesh3d\": [{\"colorbar\": {\"outlinewidth\": 0, \"ticks\": \"\"}, \"type\": \"mesh3d\"}], \"parcoords\": [{\"line\": {\"colorbar\": {\"outlinewidth\": 0, \"ticks\": \"\"}}, \"type\": \"parcoords\"}], \"pie\": [{\"automargin\": true, \"type\": \"pie\"}], \"scatter\": [{\"marker\": {\"colorbar\": {\"outlinewidth\": 0, \"ticks\": \"\"}}, \"type\": \"scatter\"}], \"scatter3d\": [{\"line\": {\"colorbar\": {\"outlinewidth\": 0, \"ticks\": \"\"}}, \"marker\": {\"colorbar\": {\"outlinewidth\": 0, \"ticks\": \"\"}}, \"type\": \"scatter3d\"}], \"scattercarpet\": [{\"marker\": {\"colorbar\": {\"outlinewidth\": 0, \"ticks\": \"\"}}, \"type\": \"scattercarpet\"}], \"scattergeo\": [{\"marker\": {\"colorbar\": {\"outlinewidth\": 0, \"ticks\": \"\"}}, \"type\": \"scattergeo\"}], \"scattergl\": [{\"marker\": {\"colorbar\": {\"outlinewidth\": 0, \"ticks\": \"\"}}, \"type\": \"scattergl\"}], \"scattermapbox\": [{\"marker\": {\"colorbar\": {\"outlinewidth\": 0, \"ticks\": \"\"}}, \"type\": \"scattermapbox\"}], \"scatterpolar\": [{\"marker\": {\"colorbar\": {\"outlinewidth\": 0, \"ticks\": \"\"}}, \"type\": \"scatterpolar\"}], \"scatterpolargl\": [{\"marker\": {\"colorbar\": {\"outlinewidth\": 0, \"ticks\": \"\"}}, \"type\": \"scatterpolargl\"}], \"scatterternary\": [{\"marker\": {\"colorbar\": {\"outlinewidth\": 0, \"ticks\": \"\"}}, \"type\": \"scatterternary\"}], \"surface\": [{\"colorbar\": {\"outlinewidth\": 0, \"ticks\": \"\"}, \"colorscale\": [[0.0, \"#0d0887\"], [0.1111111111111111, \"#46039f\"], [0.2222222222222222, \"#7201a8\"], [0.3333333333333333, \"#9c179e\"], [0.4444444444444444, \"#bd3786\"], [0.5555555555555556, \"#d8576b\"], [0.6666666666666666, \"#ed7953\"], [0.7777777777777778, \"#fb9f3a\"], [0.8888888888888888, \"#fdca26\"], [1.0, \"#f0f921\"]], \"type\": \"surface\"}], \"table\": [{\"cells\": {\"fill\": {\"color\": \"#EBF0F8\"}, \"line\": {\"color\": \"white\"}}, \"header\": {\"fill\": {\"color\": \"#C8D4E3\"}, \"line\": {\"color\": \"white\"}}, \"type\": \"table\"}]}, \"layout\": {\"annotationdefaults\": {\"arrowcolor\": \"#2a3f5f\", \"arrowhead\": 0, \"arrowwidth\": 1}, \"coloraxis\": {\"colorbar\": {\"outlinewidth\": 0, \"ticks\": \"\"}}, \"colorscale\": {\"diverging\": [[0, \"#8e0152\"], [0.1, \"#c51b7d\"], [0.2, \"#de77ae\"], [0.3, \"#f1b6da\"], [0.4, \"#fde0ef\"], [0.5, \"#f7f7f7\"], [0.6, \"#e6f5d0\"], [0.7, \"#b8e186\"], [0.8, \"#7fbc41\"], [0.9, \"#4d9221\"], [1, \"#276419\"]], \"sequential\": [[0.0, \"#0d0887\"], [0.1111111111111111, \"#46039f\"], [0.2222222222222222, \"#7201a8\"], [0.3333333333333333, \"#9c179e\"], [0.4444444444444444, \"#bd3786\"], [0.5555555555555556, \"#d8576b\"], [0.6666666666666666, \"#ed7953\"], [0.7777777777777778, \"#fb9f3a\"], [0.8888888888888888, \"#fdca26\"], [1.0, \"#f0f921\"]], \"sequentialminus\": [[0.0, \"#0d0887\"], [0.1111111111111111, \"#46039f\"], [0.2222222222222222, \"#7201a8\"], [0.3333333333333333, \"#9c179e\"], [0.4444444444444444, \"#bd3786\"], [0.5555555555555556, \"#d8576b\"], [0.6666666666666666, \"#ed7953\"], [0.7777777777777778, \"#fb9f3a\"], [0.8888888888888888, \"#fdca26\"], [1.0, \"#f0f921\"]]}, \"colorway\": [\"#636efa\", \"#EF553B\", \"#00cc96\", \"#ab63fa\", \"#FFA15A\", \"#19d3f3\", \"#FF6692\", \"#B6E880\", \"#FF97FF\", \"#FECB52\"], \"font\": {\"color\": \"#2a3f5f\"}, \"geo\": {\"bgcolor\": \"white\", \"lakecolor\": \"white\", \"landcolor\": \"#E5ECF6\", \"showlakes\": true, \"showland\": true, \"subunitcolor\": \"white\"}, \"hoverlabel\": {\"align\": \"left\"}, \"hovermode\": \"closest\", \"mapbox\": {\"style\": \"light\"}, \"paper_bgcolor\": \"white\", \"plot_bgcolor\": \"#E5ECF6\", \"polar\": {\"angularaxis\": {\"gridcolor\": \"white\", \"linecolor\": \"white\", \"ticks\": \"\"}, \"bgcolor\": \"#E5ECF6\", \"radialaxis\": {\"gridcolor\": \"white\", \"linecolor\": \"white\", \"ticks\": \"\"}}, \"scene\": {\"xaxis\": {\"backgroundcolor\": \"#E5ECF6\", \"gridcolor\": \"white\", \"gridwidth\": 2, \"linecolor\": \"white\", \"showbackground\": true, \"ticks\": \"\", \"zerolinecolor\": \"white\"}, \"yaxis\": {\"backgroundcolor\": \"#E5ECF6\", \"gridcolor\": \"white\", \"gridwidth\": 2, \"linecolor\": \"white\", \"showbackground\": true, \"ticks\": \"\", \"zerolinecolor\": \"white\"}, \"zaxis\": {\"backgroundcolor\": \"#E5ECF6\", \"gridcolor\": \"white\", \"gridwidth\": 2, \"linecolor\": \"white\", \"showbackground\": true, \"ticks\": \"\", \"zerolinecolor\": \"white\"}}, \"shapedefaults\": {\"line\": {\"color\": \"#2a3f5f\"}}, \"ternary\": {\"aaxis\": {\"gridcolor\": \"white\", \"linecolor\": \"white\", \"ticks\": \"\"}, \"baxis\": {\"gridcolor\": \"white\", \"linecolor\": \"white\", \"ticks\": \"\"}, \"bgcolor\": \"#E5ECF6\", \"caxis\": {\"gridcolor\": \"white\", \"linecolor\": \"white\", \"ticks\": \"\"}}, \"title\": {\"x\": 0.05}, \"xaxis\": {\"automargin\": true, \"gridcolor\": \"white\", \"linecolor\": \"white\", \"ticks\": \"\", \"title\": {\"standoff\": 15}, \"zerolinecolor\": \"white\", \"zerolinewidth\": 2}, \"yaxis\": {\"automargin\": true, \"gridcolor\": \"white\", \"linecolor\": \"white\", \"ticks\": \"\", \"title\": {\"standoff\": 15}, \"zerolinecolor\": \"white\", \"zerolinewidth\": 2}}}, \"title\": {\"text\": \"NBA Players Salaries\"}, \"xaxis\": {\"anchor\": \"y\", \"domain\": [0.0, 1.0], \"title\": {\"text\": \"Salary ($)\"}}, \"yaxis\": {\"anchor\": \"x\", \"domain\": [0.0, 1.0], \"title\": {\"text\": \"count\"}}},\n",
              "                        {\"responsive\": true}\n",
              "                    ).then(function(){\n",
              "                            \n",
              "var gd = document.getElementById('c56cf8be-3df9-47b0-a1a0-55e083360c65');\n",
              "var x = new MutationObserver(function (mutations, observer) {{\n",
              "        var display = window.getComputedStyle(gd).display;\n",
              "        if (!display || display === 'none') {{\n",
              "            console.log([gd, 'removed!']);\n",
              "            Plotly.purge(gd);\n",
              "            observer.disconnect();\n",
              "        }}\n",
              "}});\n",
              "\n",
              "// Listen for the removal of the full notebook cells\n",
              "var notebookContainer = gd.closest('#notebook-container');\n",
              "if (notebookContainer) {{\n",
              "    x.observe(notebookContainer, {childList: true});\n",
              "}}\n",
              "\n",
              "// Listen for the clearing of the current output cell\n",
              "var outputEl = gd.closest('.output');\n",
              "if (outputEl) {{\n",
              "    x.observe(outputEl, {childList: true});\n",
              "}}\n",
              "\n",
              "                        })\n",
              "                };\n",
              "                \n",
              "            </script>\n",
              "        </div>\n",
              "</body>\n",
              "</html>"
            ]
          },
          "metadata": {
            "tags": []
          }
        }
      ]
    },
    {
      "cell_type": "markdown",
      "metadata": {
        "id": "B_DauMCBKS9N"
      },
      "source": [
        "### Salaries Per Age"
      ]
    },
    {
      "cell_type": "code",
      "metadata": {
        "id": "oPlJV03Gw7Ss"
      },
      "source": [
        "median_salary = np.median(df['Salary'])"
      ],
      "execution_count": null,
      "outputs": []
    },
    {
      "cell_type": "code",
      "metadata": {
        "id": "5YnFVYTwwJyB"
      },
      "source": [
        "dummy = [1 if i >= median_salary else 0 for i in df['Salary']]"
      ],
      "execution_count": null,
      "outputs": []
    },
    {
      "cell_type": "code",
      "metadata": {
        "id": "2FixbdtGxDKv"
      },
      "source": [
        "df['High Salary'] = dummy"
      ],
      "execution_count": null,
      "outputs": []
    },
    {
      "cell_type": "code",
      "metadata": {
        "id": "q5H1e8y7GN3i",
        "outputId": "1633f6c9-0e24-4fa0-8f9e-3700e29166db",
        "colab": {
          "base_uri": "https://localhost:8080/",
          "height": 542
        }
      },
      "source": [
        "fig = px.histogram(df, x=\"Age\", y=\"Salary\", color=\"High Salary\",\n",
        "                   histnorm='probability density',\n",
        "                   marginal=\"box\", # or violin, rug\n",
        "                   labels={'count of Salary':'Relative Frecuency' },\n",
        "                   hover_data=df.columns)\n",
        "fig.show()"
      ],
      "execution_count": null,
      "outputs": [
        {
          "output_type": "display_data",
          "data": {
            "text/html": [
              "<html>\n",
              "<head><meta charset=\"utf-8\" /></head>\n",
              "<body>\n",
              "    <div>\n",
              "            <script src=\"https://cdnjs.cloudflare.com/ajax/libs/mathjax/2.7.5/MathJax.js?config=TeX-AMS-MML_SVG\"></script><script type=\"text/javascript\">if (window.MathJax) {MathJax.Hub.Config({SVG: {font: \"STIX-Web\"}});}</script>\n",
              "                <script type=\"text/javascript\">window.PlotlyConfig = {MathJaxConfig: 'local'};</script>\n",
              "        <script src=\"https://cdn.plot.ly/plotly-latest.min.js\"></script>    \n",
              "            <div id=\"30fa78c6-be08-4c9d-8257-8dc999752048\" class=\"plotly-graph-div\" style=\"height:525px; width:100%;\"></div>\n",
              "            <script type=\"text/javascript\">\n",
              "                \n",
              "                    window.PLOTLYENV=window.PLOTLYENV || {};\n",
              "                    \n",
              "                if (document.getElementById(\"30fa78c6-be08-4c9d-8257-8dc999752048\")) {\n",
              "                    Plotly.newPlot(\n",
              "                        '30fa78c6-be08-4c9d-8257-8dc999752048',\n",
              "                        [{\"alignmentgroup\": \"True\", \"bingroup\": \"x\", \"histnorm\": \"probability density\", \"hoverlabel\": {\"namelength\": 0}, \"hovertemplate\": \"High Salary=0<br>Age=%{x}<br>count of Salary=%{y}\", \"legendgroup\": \"High Salary=0\", \"marker\": {\"color\": \"#636efa\"}, \"name\": \"High Salary=0\", \"offsetgroup\": \"High Salary=0\", \"orientation\": \"v\", \"showlegend\": true, \"type\": \"histogram\", \"x\": [22, 22, 20, 24, 30, 23, 23, 27, 23, 23, 21, 23, 25, 37, 21, 28, 22, 23, 21, 23, 23, 22, 25, 24, 27, 20, 36, 26, 22, 27, 20, 20, 23, 19, 23, 24, 25, 20, 22, 21, 24, 21, 23, 24, 25, 26, 25, 23, 28, 28, 23, 31, 24, 23, 23, 26, 25, 24, 37, 26, 33, 25, 21, 31, 24, 27, 23, 22, 25, 23, 29, 25, 20, 24, 22, 23, 24, 37, 24, 26, 21, 24, 28, 29, 27, 26, 29, 26, 24, 29, 25, 30, 24, 20, 31, 23, 40, 19, 21, 28, 25, 22, 21, 28, 24, 25, 31, 25, 27, 22, 26, 24, 25, 21, 22, 22, 22, 22, 23, 21, 20, 22, 24, 29, 22, 24, 26, 22, 24, 36, 23, 29, 23, 24, 20, 26, 24, 25, 26, 25, 30, 23, 27, 31, 22, 21, 30, 40, 34, 19, 23, 26, 27, 25, 27, 24, 22, 23, 28, 20, 20, 22, 23, 26, 19, 26, 21, 22, 24, 24, 32, 20, 24, 25, 23, 20, 23, 23, 24, 26, 35, 30, 28, 22, 24, 21, 21, 22, 21, 21, 26, 23, 29, 20, 24, 23, 25, 21, 29, 23, 22, 25, 37, 26, 25, 27, 23, 30, 25, 23, 25, 38, 22, 22, 21, 23, 22, 21, 22, 23, 23, 20, 24, 22, 23, 25, 26, 28, 22, 33, 20, 32, 23, 21, 23, 33, 25, 24, 24, 23, 33], \"xaxis\": \"x\", \"y\": [815615, 3202217, 3057240, 1312611, 74159, 46080, 1435750, 1577230, 1050000, 1312611, 1874400, 50000, 50000, 2328652, 1471382, 1709538, 1312611, 1524305, 815615, 679919, 1471382, 2441400, 784160, 1312611, 148318, 1414920, 2116955, 3000000, 1386600, 2000000, 2684160, 815615, 1988520, 1785000, 2422560, 3152931, 1471382, 2028360, 815615, 3097800, 1524305, 1312611, 815615, 92160, 1524305, 2361360, 1577230, 1291892, 1524305, 74159, 1794600, 1471382, 815615, 1471382, 92160, 1312611, 2386864, 1471382, 2500000, 2500000, 2328652, 1471382, 1889040, 2328652, 100000, 1709538, 1312611, 1312611, 1471382, 1312611, 2106470, 1312611, 1645200, 1471382, 1471382, 92160, 1312611, 2328652, 92160, 50000, 2569920, 1471382, 3025035, 1709538, 87552, 2700000, 2116955, 815615, 50000, 86119, 100000, 2116955, 83129, 3073800, 2106407, 1312611, 2500000, 2904480, 1700640, 2500000, 1312611, 1504560, 2759280, 1974159, 50000, 2947305, 2116955, 1471382, 148318, 1423560, 92160, 2151704, 815615, 1471382, 2093040, 1312611, 1312611, 1312611, 2947305, 2705040, 2247480, 2365560, 1579440, 1524305, 2076840, 1471382, 1471382, 1394520, 92160, 2328652, 1471382, 250000, 815615, 1524305, 1936920, 1524305, 1312611, 1471382, 1524305, 1713840, 104059, 1524305, 1577320, 2116955, 92160, 815615, 2116955, 2328652, 2328652, 1713720, 1471382, 83129, 50000, 50000, 3028410, 46080, 2825640, 1312611, 50000, 1312611, 950000, 1312611, 1312611, 1069308, 950000, 1577230, 1780800, 2247480, 1524305, 50000, 947248, 2301360, 100000, 50000, 2550055, 1465920, 1312611, 1184385, 2847600, 1739333, 239204, 3200000, 748160, 815615, 1312611, 2621280, 2550000, 815615, 1312611, 2319360, 104059, 1404600, 2116955, 1312611, 2186400, 92858, 1645200, 1312611, 1577230, 1567200, 815615, 1312611, 2328652, 148318, 1312611, 2100000, 2422560, 2300000, 815615, 1100000, 92160, 2116955, 1312611, 815615, 2135040, 2334520, 1471382, 1312611, 2642857, 1632480, 2203440, 1465920, 1312611, 2451225, 1331160, 83129, 815615, 238020, 1516320, 1524305, 2490360, 2328652, 92160, 1645200, 1312611, 2328652, 815615, 778668, 1167333, 83129, 2116955], \"yaxis\": \"y\"}, {\"alignmentgroup\": \"True\", \"customdata\": [[\"Zhou Qi\", 815615, \"China\", 43, 22, \"HOU\", 16, 87, 0.6, 0.303, 0.593, 0.37, 6.5, 16.8, 11.7, 1.5, 1.1, 6.8, 18.2, 19.5, -0.4, 0.1, -0.2, -0.121, -10.6, 0.5, -10.1, -0.2, 0], [\"Zach LaVine\", 3202217, \"USA\", 13, 22, \"CHI\", 24, 656, 14.6, 0.499, 0.34600000000000003, 0.301, 1.4, 14.4, 7.7, 18.6, 1.8, 0.5, 9.7, 29.5, -0.1, 0.5, 0.4, 0.027000000000000003, -0.7, -2.0, -2.6, -0.1, 0], [\"Zach Collins\", 3057240, \"USA\", 10, 20, \"POR\", 62, 979, 8.2, 0.48700000000000004, 0.387, 0.146, 4.9, 18.3, 11.7, 7.3, 0.8, 2.5, 15.6, 15.5, -0.4, 1.2, 0.8, 0.038, -3.7, 0.9, -2.9, -0.2, 0], [\"Yogi Ferrell\", 1312611, \"USA\", 62, 24, \"DAL\", 79, 2238, 11.5, 0.5429999999999999, 0.489, 0.141, 1.3, 11.3, 6.1, 13.3, 1.4, 0.3, 9.1, 17.0, 1.6, 1.6, 3.1, 0.067, -0.4, -0.5, -0.9, 0.6, 0], [\"Xavier Silas\", 74159, \"USA\", 62, 30, \"BOS\", 2, 7, -4.9, 0.0, 0.667, 0.0, 15.9, 15.4, 15.7, 0.0, 7.2, 0.0, 0.0, 19.2, -0.1, 0.0, 0.0, -0.251, -12.6, -0.7, -13.3, 0.0, 0], [\"Xavier Rathan-Mayes\", 46080, \"Canada\", 62, 23, \"MEM\", 5, 118, 0.9, 0.315, 0.33299999999999996, 0.214, 0.0, 5.0, 2.5, 23.2, 2.6, 2.4, 19.3, 21.7, -0.5, 0.1, -0.4, -0.16899999999999998, -8.7, -1.9, -10.6, -0.3, 0], [\"Willy Hernangomez\", 1435750, \"Spain\", 35, 23, \"TOT\", 45, 430, 20.6, 0.5920000000000001, 0.075, 0.555, 13.6, 25.2, 19.3, 11.0, 1.8, 2.8, 15.4, 21.7, 0.8, 0.6, 1.4, 0.156, -0.1, 0.6, 0.5, 0.3, 0], [\"Willie Reed\", 1577230, \"USA\", 62, 27, \"TOT\", 42, 428, 19.2, 0.6709999999999999, 0.017, 0.455, 9.1, 21.7, 15.5, 3.6, 1.0, 4.3, 11.6, 16.6, 1.0, 0.5, 1.6, 0.175, -0.8, 0.0, -0.8, 0.1, 0], [\"Wesley Iwundu\", 1050000, \"USA\", 33, 23, \"ORL\", 58, 902, 7.6, 0.46399999999999997, 0.205, 0.215, 4.0, 11.8, 7.9, 7.9, 1.7, 1.0, 11.6, 11.8, -0.1, 0.6, 0.5, 0.027000000000000003, -4.0, 0.4, -3.6, -0.4, 0], [\"Wayne Selden\", 1312611, \"USA\", 62, 23, \"MEM\", 35, 692, 11.8, 0.551, 0.45399999999999996, 0.21899999999999997, 2.6, 6.9, 4.7, 16.1, 1.3, 0.7, 15.5, 22.7, 0.1, 0.2, 0.4, 0.025, -0.7, -3.2, -4.0, -0.3, 0], [\"Wade Baldwin\", 1874400, \"USA\", 17, 21, \"POR\", 4, 29, 17.0, 0.73, 0.14300000000000002, 1.286, 0.0, 18.6, 9.4, 10.7, 0.0, 0.0, 15.4, 19.6, 0.1, 0.0, 0.1, 0.177, -0.6, -2.6, -3.1, 0.0, 0], [\"Vince Hunter\", 50000, \"USA\", 62, 23, \"MEM\", 4, 7, 35.9, 0.6, 0.0, 0.0, 32.3, 17.0, 24.8, 0.0, 0.0, 13.4, 16.7, 38.5, 0.0, 0.0, 0.0, 0.099, -3.1, -5.8, -9.0, 0.0, 0], [\"Vander Blue\", 50000, \"USA\", 62, 25, \"LAL\", 5, 45, -1.8, 0.255, 0.4, 0.4, 0.0, 2.4, 1.2, 8.1, 1.1, 0.0, 33.8, 8.4, -0.1, 0.0, -0.1, -0.10300000000000001, -8.7, -1.4, -10.1, -0.1, 0], [\"Udonis Haslem\", 2328652, \"USA\", 62, 37, \"MIA\", 14, 72, 1.8, 0.252, 0.5329999999999999, 0.133, 4.7, 10.9, 7.8, 9.2, 0.0, 2.4, 11.2, 11.2, -0.1, 0.1, -0.1, -0.057, -7.2, -0.4, -7.5, -0.1, 0], [\"Tyus Jones\", 1471382, \"USA\", 24, 21, \"MIN\", 78, 1404, 14.1, 0.574, 0.37200000000000005, 0.247, 1.3, 9.4, 5.3, 20.9, 3.2, 0.4, 13.9, 12.7, 2.3, 1.1, 3.4, 0.11599999999999999, 0.8, -0.3, 0.5, 0.9, 0], [\"Tyler Zeller\", 1709538, \"USA\", 17, 28, \"TOT\", 62, 1025, 15.9, 0.585, 0.08800000000000001, 0.24100000000000002, 11.0, 19.6, 15.2, 6.8, 0.7, 2.5, 11.3, 17.0, 1.7, 0.8, 2.5, 0.11900000000000001, -1.3, -0.5, -1.8, 0.0, 0], [\"Tyler Ulis\", 1312611, \"USA\", 34, 22, \"PHO\", 68, 1563, 9.7, 0.45899999999999996, 0.267, 0.183, 1.5, 6.8, 4.1, 27.5, 2.0, 0.3, 17.6, 18.2, -0.8, 0.5, -0.4, -0.011000000000000001, -3.0, -2.3, -5.4, -1.3, 0], [\"Tyler Ennis\", 1524305, \"Canada\", 18, 23, \"LAL\", 50, 584, 10.4, 0.45899999999999996, 0.265, 0.10800000000000001, 2.9, 11.6, 7.3, 21.9, 1.9, 1.4, 13.4, 16.3, 0.0, 0.6, 0.6, 0.052000000000000005, -3.1, -0.2, -3.3, -0.2, 0], [\"Tyler Dorsey\", 815615, \"USA\", 41, 21, \"ATL\", 53, 897, 9.3, 0.478, 0.52, 0.157, 2.1, 13.2, 7.7, 13.2, 0.9, 0.4, 8.8, 20.0, -0.2, 0.4, 0.1, 0.008, -2.2, -2.4, -4.6, -0.6, 0], [\"Tyler Cavanaugh\", 679919, \"USA\", 62, 23, \"ATL\", 39, 518, 13.0, 0.5670000000000001, 0.586, 0.138, 9.7, 17.7, 13.7, 7.9, 0.8, 0.7, 8.0, 14.8, 0.9, 0.3, 1.2, 0.109, 0.5, -1.5, -1.0, 0.1, 0], [\"Troy Williams\", 1471382, \"USA\", 62, 23, \"TOT\", 21, 307, 15.2, 0.544, 0.349, 0.275, 8.0, 14.8, 11.4, 7.8, 3.2, 1.1, 13.5, 20.1, 0.2, 0.4, 0.5, 0.085, -0.1, 0.1, 0.0, 0.2, 0], [\"Trey Lyles\", 2441400, \"USA\", 12, 22, \"DEN\", 70, 1366, 18.0, 0.589, 0.39799999999999996, 0.267, 4.5, 23.8, 14.2, 10.1, 1.1, 2.1, 9.0, 21.2, 2.6, 1.2, 3.8, 0.133, 0.6, -1.4, -0.8, 0.4, 0], [\"Trey Burke\", 784160, \"USA\", 9, 25, \"NYK\", 32, 648, 22.8, 0.5760000000000001, 0.262, 0.133, 2.1, 8.0, 5.1, 38.1, 1.5, 0.5, 8.8, 25.9, 2.0, 0.3, 2.3, 0.16699999999999998, 5.3, -3.3, 2.0, 0.7, 0], [\"Treveon Graham\", 1312611, \"USA\", 62, 24, \"CHO\", 63, 1050, 9.0, 0.5529999999999999, 0.439, 0.267, 4.2, 8.3, 6.2, 7.9, 1.5, 0.2, 9.9, 11.3, 1.0, 0.7, 1.7, 0.079, -0.6, -0.4, -1.0, 0.3, 0], [\"Travis Wear\", 148318, \"USA\", 62, 27, \"LAL\", 13, 172, 9.8, 0.562, 0.7190000000000001, 0.14, 0.0, 18.5, 9.3, 3.3, 0.8, 1.9, 6.2, 15.9, 0.1, 0.2, 0.3, 0.08800000000000001, -2.0, -1.9, -4.0, -0.1, 0], [\"Tony Bradley\", 1414920, \"USA\", 28, 20, \"UTA\", 9, 29, 9.5, 0.337, 0.091, 0.182, 15.9, 27.2, 21.6, 5.0, 0.0, 0.0, 0.0, 18.5, 0.0, 0.0, 0.0, 0.03, -6.6, -3.1, -9.7, -0.1, 0], [\"Tony Allen\", 2116955, \"USA\", 25, 36, \"NOP\", 22, 273, 8.7, 0.514, 0.132, 0.231, 8.2, 10.4, 9.4, 4.6, 1.9, 0.9, 15.9, 18.9, -0.2, 0.2, 0.1, 0.016, -3.9, -1.3, -5.2, -0.2, 0], [\"Tomas Satoransky\", 3000000, \"Czech Republic\", 32, 26, \"WAS\", 69, 1535, 15.4, 0.618, 0.265, 0.27, 4.7, 11.0, 7.8, 25.1, 1.6, 0.8, 16.4, 13.7, 3.5, 1.2, 4.7, 0.147, 1.3, -0.3, 1.0, 1.2, 0], [\"Timothe Luwawu-Cabarrot\", 1386600, \"France\", 24, 22, \"PHI\", 52, 807, 7.0, 0.511, 0.5920000000000001, 0.217, 1.9, 7.5, 4.8, 9.4, 0.7, 0.5, 11.5, 17.5, 0.1, 0.7, 0.8, 0.046, -2.3, -2.4, -4.6, -0.5, 0], [\"Tim Frazier\", 2000000, \"USA\", 62, 27, \"WAS\", 56, 807, 11.2, 0.47700000000000004, 0.335, 0.183, 2.5, 12.7, 7.7, 31.4, 2.6, 0.8, 23.7, 12.7, 0.4, 0.9, 1.3, 0.079, -2.3, 0.1, -2.2, 0.0, 0], [\"Thon Maker\", 2684160, \"South Sudan\", 10, 20, \"MIL\", 71, 1205, 10.5, 0.502, 0.326, 0.293, 7.3, 14.4, 10.9, 5.3, 1.6, 3.7, 10.8, 14.6, 0.4, 1.1, 1.5, 0.061, -2.5, 0.1, -2.4, -0.1, 0], [\"Thomas Bryant\", 815615, \"USA\", 42, 20, \"LAL\", 11, 34, 7.7, 0.473, 0.556, 0.667, 3.2, 15.6, 9.4, 7.8, 0.0, 0.0, 7.9, 15.8, 0.0, 0.0, 0.0, 0.037000000000000005, -3.8, -3.3, -7.1, 0.0, 0], [\"Terry Rozier\", 1988520, \"USA\", 16, 23, \"BOS\", 77, 1980, 15.4, 0.524, 0.499, 0.188, 3.4, 16.2, 9.9, 17.0, 2.0, 0.7, 8.0, 20.5, 2.3, 3.3, 5.6, 0.135, 1.0, 1.0, 2.0, 2.0, 0], [\"Terrance Ferguson\", 1785000, \"USA\", 21, 19, \"OKC\", 59, 728, 7.0, 0.532, 0.6920000000000001, 0.063, 2.8, 3.9, 3.3, 3.2, 1.6, 1.2, 6.3, 10.3, 0.5, 0.5, 1.1, 0.07, -1.5, -1.3, -2.8, -0.1, 0], [\"Taurean Waller-Prince\", 2422560, \"USA\", 12, 23, \"ATL\", 79, 2359, 12.3, 0.544, 0.46299999999999997, 0.184, 2.2, 15.4, 8.8, 13.4, 1.7, 1.5, 15.5, 21.7, -0.3, 1.9, 1.6, 0.032, -1.1, 0.0, -1.1, 0.5, 0], [\"T.J. Warren\", 3152931, \"USA\", 14, 24, \"PHO\", 65, 2142, 17.7, 0.541, 0.085, 0.24, 6.1, 10.6, 8.3, 7.2, 1.5, 1.5, 6.7, 24.9, 2.7, 0.8, 3.5, 0.077, -0.1, -1.8, -1.9, 0.1, 0], [\"T.J. McConnell\", 1471382, \"USA\", 62, 25, \"PHI\", 72, 1651, 12.3, 0.546, 0.14800000000000002, 0.096, 2.4, 11.5, 7.1, 24.7, 2.6, 0.6, 20.8, 13.8, 1.2, 2.4, 3.6, 0.105, -1.9, 1.1, -0.7, 0.5, 0], [\"T.J. Leaf\", 2028360, \"USA\", 18, 20, \"IND\", 50, 428, 10.5, 0.5539999999999999, 0.322, 0.099, 6.9, 13.4, 10.2, 2.6, 0.6, 0.8, 7.3, 14.2, 0.5, 0.3, 0.7, 0.084, -1.9, -2.7, -4.7, -0.3, 0], [\"Sterling Brown\", 815615, \"USA\", 46, 22, \"MIL\", 51, 728, 9.5, 0.513, 0.44, 0.126, 4.2, 17.6, 10.9, 4.6, 2.1, 1.3, 10.6, 14.0, 0.1, 0.7, 0.8, 0.05, -2.8, -1.0, -3.8, -0.3, 0], [\"Stanley Johnson\", 3097800, \"USA\", 8, 21, \"DET\", 65, 1773, 9.1, 0.483, 0.418, 0.264, 1.8, 13.2, 7.4, 8.2, 2.6, 0.6, 11.3, 16.4, -0.6, 2.3, 1.8, 0.048, -2.6, 1.2, -1.4, 0.3, 0], [\"Spencer Dinwiddie\", 1524305, \"USA\", 38, 24, \"BRK\", 77, 2217, 16.0, 0.526, 0.508, 0.32299999999999995, 1.9, 10.3, 6.1, 35.1, 1.4, 0.8, 11.6, 20.3, 4.2, 1.3, 5.5, 0.11800000000000001, 2.1, -1.7, 0.4, 1.3, 0], [\"Skal Labissiere\", 1312611, \"Haiti\", 28, 21, \"SAC\", 60, 1240, 14.3, 0.513, 0.111, 0.258, 8.7, 18.2, 13.2, 9.1, 1.0, 3.7, 12.5, 21.1, 0.4, 0.9, 1.3, 0.051, -2.7, 0.0, -2.7, -0.2, 0], [\"Sindarius Thornwell\", 815615, \"USA\", 48, 23, \"LAC\", 69, 1059, 8.1, 0.517, 0.262, 0.38299999999999995, 3.2, 10.1, 6.7, 7.0, 2.1, 1.8, 15.5, 11.6, 0.1, 0.9, 1.0, 0.048, -2.6, 1.2, -1.4, 0.2, 0], [\"Shaquille Harrison\", 92160, \"USA\", 62, 24, \"PHO\", 20, 291, 15.2, 0.534, 0.221, 0.34700000000000003, 2.5, 16.5, 9.4, 18.1, 3.5, 1.9, 12.7, 18.3, 0.2, 0.3, 0.6, 0.091, -1.3, 1.5, 0.2, 0.2, 0], [\"Shane Larkin\", 1524305, \"USA\", 18, 25, \"BOS\", 50, 686, 10.2, 0.506, 0.387, 0.17, 2.0, 10.1, 6.1, 16.3, 1.8, 0.2, 12.2, 15.5, 0.3, 0.9, 1.3, 0.08800000000000001, -2.3, 0.0, -2.4, -0.1, 0], [\"Shabazz Napier\", 2361360, \"USA\", 24, 26, \"POR\", 70, 1455, 14.5, 0.5529999999999999, 0.414, 0.268, 1.8, 9.9, 5.9, 15.1, 2.7, 0.8, 13.8, 19.5, 1.3, 1.9, 3.2, 0.105, 0.0, 0.4, 0.4, 0.9, 0], [\"Shabazz Muhammad\", 1577230, \"USA\", 14, 25, \"TOT\", 41, 385, 14.4, 0.5, 0.147, 0.22899999999999998, 6.0, 14.0, 10.0, 6.4, 1.2, 0.7, 3.1, 22.3, 0.3, 0.2, 0.5, 0.064, -2.0, -3.8, -5.8, -0.4, 0], [\"Semi Ojeleye\", 1291892, \"USA\", 37, 23, \"BOS\", 69, 1049, 4.0, 0.44799999999999995, 0.6890000000000001, 0.25, 3.7, 11.0, 7.4, 2.4, 1.0, 0.2, 10.8, 8.7, -0.3, 1.2, 0.9, 0.042, -3.8, 0.3, -3.5, -0.4, 0], [\"Sean Kilpatrick\", 1524305, \"USA\", 62, 28, \"TOT\", 48, 537, 9.5, 0.475, 0.5, 0.23800000000000002, 0.6, 14.9, 7.7, 11.5, 0.8, 0.6, 10.3, 24.6, -0.5, 0.3, -0.2, -0.02, -3.7, -3.8, -7.5, -0.7, 0], [\"Scotty Hopson\", 74159, \"USA\", 62, 28, \"DAL\", 1, 8, -4.6, 0.266, 0.0, 2.0, 0.0, 0.0, 0.0, 15.8, 0.0, 0.0, 34.7, 16.4, 0.0, 0.0, 0.0, -0.237, -14.8, -5.9, -20.7, 0.0, 0], [\"Sam Dekker\", 1794600, \"USA\", 18, 23, \"LAC\", 69, 817, 11.1, 0.526, 0.251, 0.222, 5.2, 15.5, 10.4, 6.0, 1.3, 0.9, 10.3, 15.5, 0.4, 0.6, 1.1, 0.063, -2.4, -0.9, -3.3, -0.3, 0], [\"Salah Mejri\", 1471382, \"Tunisia\", 62, 31, \"DAL\", 61, 729, 17.8, 0.644, 0.022000000000000002, 0.48200000000000004, 12.6, 25.3, 18.8, 7.2, 1.5, 8.2, 19.0, 12.8, 1.3, 1.3, 2.7, 0.177, -2.1, 5.4, 3.2, 1.0, 0], [\"Royce O'Neale\", 815615, \"USA\", 62, 24, \"UTA\", 65, 1052, 10.4, 0.521, 0.41200000000000003, 0.267, 2.7, 20.2, 11.5, 12.3, 1.7, 1.2, 15.1, 14.8, 0.3, 1.7, 1.9, 0.087, -2.7, 1.7, -1.1, 0.2, 0], [\"Rondae Hollis-Jefferson\", 1471382, \"USA\", 23, 23, \"BRK\", 64, 1811, 17.3, 0.55, 0.07400000000000001, 0.436, 5.8, 19.8, 12.7, 14.2, 1.6, 1.7, 11.5, 22.6, 2.3, 1.8, 4.1, 0.10800000000000001, -1.1, 0.9, -0.2, 0.8, 0], [\"Rodney Purvis\", 92160, \"USA\", 62, 23, \"ORL\", 12, 203, 4.1, 0.42700000000000005, 0.5770000000000001, 0.127, 0.0, 8.2, 4.1, 7.1, 0.7, 1.2, 9.6, 18.0, -0.3, 0.1, -0.3, -0.06, -5.0, -2.7, -7.7, -0.3, 0], [\"Rodney McGruder\", 1312611, \"USA\", 62, 26, \"MIA\", 15, 258, 12.4, 0.623, 0.484, 0.094, 3.5, 8.3, 5.9, 6.9, 1.6, 0.7, 5.7, 12.3, 0.4, 0.3, 0.7, 0.131, 0.3, -0.6, -0.3, 0.1, 0], [\"Rodney Hood\", 2386864, \"USA\", 23, 25, \"TOT\", 58, 1576, 14.4, 0.545, 0.447, 0.162, 1.6, 9.8, 5.8, 9.7, 1.4, 0.6, 8.1, 24.6, 1.1, 1.4, 2.5, 0.077, 0.2, -2.2, -2.1, 0.0, 0], [\"Richaun Holmes\", 1471382, \"USA\", 37, 24, \"PHI\", 44, 668, 16.8, 0.5660000000000001, 0.14400000000000002, 0.23600000000000002, 8.6, 22.0, 15.5, 12.8, 1.3, 3.2, 8.4, 16.7, 1.3, 1.1, 2.4, 0.175, -0.5, 1.9, 1.4, 0.6, 0], [\"Richard Jefferson\", 2500000, \"USA\", 13, 37, \"DEN\", 20, 163, 6.3, 0.499, 0.259, 0.259, 1.4, 10.4, 5.9, 12.0, 0.6, 0.5, 14.3, 9.3, 0.1, 0.0, 0.1, 0.027999999999999997, -3.8, -2.1, -5.9, -0.2, 0], [\"Reggie Bullock\", 2500000, \"USA\", 25, 26, \"DET\", 62, 1732, 13.6, 0.615, 0.515, 0.09, 1.7, 8.3, 4.9, 8.4, 1.4, 0.7, 7.6, 15.7, 2.8, 1.5, 4.3, 0.11800000000000001, 1.3, -0.6, 0.7, 1.2, 0], [\"Raymond Felton\", 2328652, \"USA\", 5, 33, \"OKC\", 79, 1324, 13.2, 0.49200000000000005, 0.41, 0.08, 2.0, 11.1, 6.4, 22.9, 1.8, 1.0, 11.5, 20.4, 0.9, 1.3, 2.2, 0.08, -1.1, -1.8, -2.8, -0.3, 0], [\"Raul Neto\", 1471382, \"Brazil\", 47, 25, \"UTA\", 39, 478, 12.3, 0.5539999999999999, 0.313, 0.22399999999999998, 1.7, 9.4, 5.6, 23.2, 1.2, 0.7, 16.5, 18.3, 0.4, 0.5, 0.9, 0.094, -1.7, -1.3, -3.1, -0.1, 0], [\"Rashad Vaughn\", 1889040, \"USA\", 17, 21, \"TOT\", 28, 212, 9.3, 0.546, 0.6609999999999999, 0.107, 1.6, 9.9, 5.8, 8.7, 1.2, 1.2, 9.3, 13.8, 0.1, 0.1, 0.2, 0.05, -1.9, -2.9, -4.7, -0.1, 0], [\"Ramon Sessions\", 2328652, \"USA\", 56, 31, \"TOT\", 27, 391, 10.8, 0.473, 0.22399999999999998, 0.483, 1.7, 9.1, 5.5, 26.5, 1.8, 0.4, 17.6, 19.2, 0.0, 0.3, 0.3, 0.031, -3.2, -2.0, -5.2, -0.3, 0], [\"Quinn Cook\", 100000, \"USA\", 62, 24, \"GSW\", 29, 597, 13.4, 0.6, 0.41, 0.102, 1.6, 10.1, 6.2, 16.7, 0.9, 0.1, 10.8, 17.7, 1.0, 0.4, 1.4, 0.11, 0.7, -2.7, -2.0, 0.0, 0], [\"Quincy Acy\", 1709538, \"USA\", 37, 27, \"BRK\", 66, 1270, 7.5, 0.51, 0.797, 0.17300000000000001, 3.1, 17.2, 10.1, 5.9, 1.1, 1.6, 14.1, 14.3, -0.4, 1.0, 0.6, 0.024, -2.5, -0.3, -2.8, -0.2, 0], [\"Paul Zipser\", 1312611, \"Germany\", 48, 23, \"CHI\", 54, 824, 5.2, 0.444, 0.47, 0.111, 1.6, 15.9, 8.5, 8.0, 1.2, 1.6, 14.9, 15.2, -1.2, 0.6, -0.6, -0.033, -5.5, -0.3, -5.8, -0.8, 0], [\"Patrick McCaw\", 1312611, \"USA\", 38, 22, \"GSW\", 57, 961, 7.4, 0.47700000000000004, 0.35600000000000004, 0.151, 2.0, 7.1, 4.8, 10.6, 2.2, 0.8, 14.6, 12.8, -0.3, 0.9, 0.6, 0.031, -2.9, -0.4, -3.3, -0.3, 0], [\"Pat Connaughton\", 1471382, \"USA\", 41, 25, \"POR\", 78, 1432, 9.3, 0.535, 0.542, 0.113, 2.6, 9.0, 5.8, 8.9, 0.7, 1.2, 9.3, 13.5, 1.1, 1.2, 2.3, 0.077, -0.9, -0.6, -1.5, 0.2, 0], [\"Pascal Siakam\", 1312611, \"Cameroon\", 27, 23, \"TOR\", 77, 1577, 14.9, 0.5539999999999999, 0.268, 0.17800000000000002, 5.5, 18.8, 12.2, 13.3, 1.9, 2.0, 11.0, 15.9, 2.1, 2.3, 4.5, 0.136, 0.1, 2.1, 2.2, 1.7, 0], [\"Omri Casspi\", 2106470, \"Israel\", 23, 29, \"GSW\", 53, 740, 15.5, 0.632, 0.106, 0.33299999999999996, 4.9, 23.9, 15.1, 9.5, 1.2, 2.0, 13.5, 16.3, 1.2, 1.0, 2.2, 0.14300000000000002, -1.4, 0.2, -1.3, 0.1, 0], [\"Okaro White\", 1312611, \"USA\", 62, 25, \"MIA\", 6, 80, 8.9, 0.5770000000000001, 0.688, 0.188, 4.2, 11.2, 7.7, 3.5, 0.6, 1.1, 5.5, 10.3, 0.1, 0.1, 0.2, 0.098, -1.5, -1.3, -2.8, 0.0, 0], [\"OG Anunoby\", 1645200, \"United Kingdo...\", 23, 20, \"TOR\", 70, 1389, 9.5, 0.575, 0.565, 0.183, 3.3, 9.9, 6.6, 5.2, 1.8, 0.6, 10.8, 12.3, 1.1, 1.5, 2.6, 0.09, 0.0, 0.3, 0.3, 0.8, 0], [\"Norman Powell\", 1471382, \"USA\", 46, 24, \"TOR\", 66, 1003, 8.4, 0.496, 0.489, 0.11, 1.5, 10.8, 6.2, 11.5, 1.6, 1.2, 14.5, 18.9, -0.6, 1.1, 0.5, 0.026000000000000002, -2.5, -0.5, -3.0, -0.3, 0], [\"Nikola Jokic\", 1471382, \"Serbia\", 41, 22, \"DEN\", 71, 2288, 24.4, 0.607, 0.27899999999999997, 0.317, 9.2, 27.7, 18.4, 29.2, 1.8, 2.1, 15.8, 24.1, 7.3, 2.6, 9.9, 0.20800000000000002, 4.8, 2.1, 6.9, 5.1, 0], [\"Nigel Hayes\", 92160, \"USA\", 62, 23, \"TOT\", 6, 60, 2.4, 0.36200000000000004, 0.611, 0.16699999999999998, 1.8, 8.0, 4.7, 11.0, 0.0, 1.6, 9.4, 15.7, -0.2, 0.0, -0.2, -0.134, -6.0, -4.1, -10.0, -0.1, 0], [\"Nicolas Brussino\", 1312611, \"Argentina\", 62, 24, \"ATL\", 4, 10, -4.6, 0.0, 1.0, 0.0, 0.0, 33.5, 16.8, 0.0, 0.0, 0.0, 0.0, 8.7, 0.0, 0.0, 0.0, -0.18, -13.8, -4.8, -18.6, 0.0, 0], [\"Nick Collison\", 2328652, \"USA\", 12, 37, \"OKC\", 13, 72, 13.8, 0.6659999999999999, 0.0, 0.42100000000000004, 8.9, 20.7, 14.6, 8.6, 0.0, 0.0, 23.7, 17.6, 0.1, 0.0, 0.1, 0.08, -3.2, -2.8, -6.0, -0.1, 0], [\"Naz Mitrou-Long\", 92160, \"Canada\", 62, 24, \"UTA\", 1, 1, 134.1, 1.5, 1.0, 0.0, 0.0, 0.0, 0.0, 0.0, 0.0, 0.0, 0.0, 45.1, 0.1, 0.0, 0.1, 2.713, 68.7, -14.3, 54.4, 0.0, 0], [\"Nate Wolters\", 50000, \"USA\", 38, 26, \"UTA\", 5, 19, -2.9, 0.16699999999999998, 0.0, 0.0, 6.1, 5.9, 6.0, 7.1, 0.0, 0.0, 0.0, 14.2, -0.1, 0.0, -0.1, -0.141, -10.3, -2.2, -12.5, -0.1, 0], [\"Myles Turner\", 2569920, \"USA\", 11, 21, \"IND\", 61, 1761, 17.6, 0.581, 0.24100000000000002, 0.33299999999999996, 5.9, 20.1, 13.1, 7.2, 1.1, 5.7, 11.5, 20.1, 2.6, 2.5, 5.0, 0.13699999999999998, -0.6, 1.9, 1.4, 1.5, 0], [\"Montrezl Harrell\", 1471382, \"USA\", 32, 24, \"LAC\", 72, 1190, 24.9, 0.6559999999999999, 0.012, 0.41700000000000004, 9.3, 17.1, 13.3, 9.2, 1.3, 3.3, 9.8, 23.8, 4.1, 1.2, 5.3, 0.213, 2.4, -0.1, 2.3, 1.3, 0], [\"Mindaugas Kuzminskas\", 3025035, \"Lithuania\", 62, 28, \"NYK\", 1, 2, -41.1, 0.0, 0.0, 0.0, 0.0, 0.0, 0.0, 0.0, 0.0, 0.0, 0.0, 43.6, 0.0, 0.0, 0.0, -1.063, -36.5, -12.7, -49.2, 0.0, 0], [\"Mike Scott\", 1709538, \"USA\", 43, 29, \"WAS\", 72, 1320, 13.7, 0.608, 0.313, 0.14, 3.7, 15.8, 9.8, 8.9, 0.8, 0.7, 12.8, 19.8, 1.4, 1.0, 2.3, 0.085, -0.4, -1.7, -2.2, -0.1, 0], [\"Mike James\", 87552, \"USA\", 62, 27, \"TOT\", 36, 687, 13.9, 0.469, 0.305, 0.262, 2.0, 12.2, 7.0, 29.5, 2.0, 0.8, 12.0, 25.1, -0.1, 0.3, 0.2, 0.016, -0.8, -1.8, -2.7, -0.1, 0], [\"Michael Carter-Williams\", 2700000, \"USA\", 11, 26, \"CHO\", 52, 835, 10.9, 0.446, 0.258, 0.389, 4.7, 13.4, 8.9, 19.5, 2.6, 2.3, 16.2, 16.6, -0.2, 1.1, 0.8, 0.048, -2.6, 2.0, -0.7, 0.3, 0], [\"Michael Beasley\", 2116955, \"USA\", 2, 29, \"NYK\", 70, 1582, 17.7, 0.557, 0.10099999999999999, 0.195, 6.3, 21.5, 13.9, 12.4, 1.0, 2.2, 14.1, 26.8, 0.9, 1.4, 2.2, 0.068, -1.1, -0.6, -1.7, 0.1, 0], [\"Maxi Kleber\", 815615, \"Germany\", 62, 26, \"DAL\", 69, 1155, 12.9, 0.5670000000000001, 0.40700000000000003, 0.203, 6.3, 14.8, 10.4, 6.1, 1.1, 3.4, 7.9, 13.5, 1.5, 1.2, 2.6, 0.11, -1.2, 1.2, 0.0, 0.6, 0], [\"Matt Williams\", 50000, \"USA\", 62, 24, \"MIA\", 3, 11, -0.7, 0.41700000000000004, 0.833, 0.0, 0.0, 10.2, 5.1, 0.0, 0.0, 0.0, 14.3, 28.6, -0.1, 0.0, 0.0, -0.196, -8.6, -8.6, -17.1, 0.0, 0], [\"MarShon Brooks\", 86119, \"USA\", 25, 29, \"MEM\", 3, 76, 38.1, 0.733, 0.405, 0.31, 4.5, 4.7, 4.6, 32.6, 3.3, 1.2, 7.7, 30.6, 0.5, 0.1, 0.6, 0.365, 13.5, -2.9, 10.6, 0.2, 0], [\"Marshall Plumlee\", 100000, \"USA\", 62, 25, \"MIL\", 8, 52, 10.9, 0.6970000000000001, 0.0, 5.332999999999999, 9.1, 29.3, 19.3, 4.8, 0.0, 1.6, 23.0, 11.4, 0.1, 0.0, 0.2, 0.14300000000000002, -3.7, -2.0, -5.7, 0.0, 0], [\"Marreese Speights\", 2116955, \"USA\", 16, 30, \"ORL\", 50, 647, 13.9, 0.541, 0.6779999999999999, 0.158, 3.4, 18.7, 11.0, 9.5, 0.5, 2.7, 9.4, 26.9, 0.2, 0.5, 0.7, 0.052000000000000005, 0.3, -3.0, -2.7, -0.1, 0], [\"Marquis Teague\", 83129, \"USA\", 29, 24, \"MEM\", 3, 74, 5.8, 0.302, 0.25, 0.313, 1.5, 8.0, 4.7, 24.9, 2.7, 0.0, 14.2, 12.9, -0.1, 0.1, -0.1, -0.036000000000000004, -5.8, -1.5, -7.3, -0.1, 0], [\"Marquese Chriss\", 3073800, \"USA\", 8, 20, \"PHO\", 71, 1501, 10.8, 0.504, 0.401, 0.319, 5.1, 22.8, 13.8, 8.1, 1.6, 3.8, 16.6, 17.9, -0.9, 1.5, 0.6, 0.018000000000000002, -3.5, 1.3, -2.1, -0.1, 0], [\"Mario Chalmers\", 2106407, \"USA\", 34, 31, \"MEM\", 62, 1353, 10.1, 0.5, 0.424, 0.298, 1.1, 12.0, 6.4, 21.6, 2.8, 0.8, 18.8, 19.4, -0.7, 1.2, 0.6, 0.02, -2.3, -0.5, -2.8, -0.3, 0], [\"Marcus Georges-Hunt\", 1312611, \"USA\", 62, 23, \"MIN\", 41, 223, 6.3, 0.498, 0.298, 0.447, 3.6, 4.7, 4.2, 4.1, 1.3, 0.0, 5.1, 11.8, 0.1, 0.0, 0.2, 0.038, -2.0, -2.7, -4.7, -0.2, 0], [\"Manu Ginobili\", 2500000, \"Argentina\", 57, 40, \"SAS\", 62, 1241, 12.4, 0.544, 0.409, 0.285, 1.7, 10.1, 5.9, 18.8, 1.7, 1.1, 16.7, 21.3, 0.4, 1.6, 1.9, 0.075, -0.9, -0.4, -1.2, 0.2, 0], [\"Malik Monk\", 2904480, \"USA\", 11, 19, \"CHO\", 60, 778, 8.5, 0.457, 0.5710000000000001, 0.071, 1.1, 8.1, 4.5, 15.4, 1.1, 0.9, 10.3, 24.2, -0.9, 0.5, -0.4, -0.027000000000000003, -2.1, -3.3, -5.3, -0.7, 0], [\"Malik Beasley\", 1700640, \"USA\", 19, 21, \"DEN\", 61, 581, 8.8, 0.504, 0.45799999999999996, 0.18600000000000003, 2.7, 11.0, 6.9, 7.4, 1.3, 1.0, 11.1, 16.1, 0.0, 0.3, 0.3, 0.023, -2.8, -2.5, -5.3, -0.5, 0], [\"Malcolm Delaney\", 2500000, \"USA\", 62, 28, \"ATL\", 54, 1014, 10.7, 0.519, 0.435, 0.32299999999999995, 1.0, 10.0, 5.5, 23.5, 1.7, 0.5, 16.9, 16.9, 0.4, 0.6, 1.0, 0.047, -2.0, -1.6, -3.6, -0.4, 0], [\"Malcolm Brogdon\", 1312611, \"USA\", 36, 25, \"MIL\", 46, 1404, 14.3, 0.579, 0.319, 0.174, 1.9, 10.8, 6.4, 16.3, 1.5, 0.8, 11.0, 19.1, 2.0, 0.7, 2.7, 0.09300000000000001, 0.6, -1.8, -1.2, 0.3, 0], [\"Malachi Richardson\", 1504560, \"USA\", 22, 22, \"TOT\", 26, 324, 5.9, 0.446, 0.444, 0.244, 1.7, 10.7, 6.0, 5.6, 1.6, 0.3, 9.1, 15.2, -0.2, 0.1, -0.1, -0.018000000000000002, -4.3, -2.2, -6.5, -0.4, 0], [\"Luke Kennard\", 2759280, \"USA\", 12, 21, \"DET\", 69, 1339, 11.6, 0.55, 0.42, 0.157, 1.6, 11.5, 6.4, 12.4, 1.5, 0.9, 12.3, 16.9, 0.8, 1.3, 2.2, 0.077, -1.4, -0.3, -1.8, 0.1, 0], [\"Luke Babbitt\", 1974159, \"USA\", 16, 28, \"TOT\", 49, 708, 10.2, 0.5870000000000001, 0.72, 0.10400000000000001, 1.1, 14.1, 7.6, 6.6, 0.6, 0.8, 7.9, 14.9, 0.6, 0.4, 1.0, 0.067, -0.8, -2.1, -3.0, -0.2, 0], [\"Luis Montero\", 50000, \"Dominican Rep...\", 62, 24, \"DET\", 2, 8, -15.5, 0.0, 0.0, 0.0, 0.0, 28.2, 13.8, 0.0, 0.0, 0.0, 66.7, 16.6, -0.1, 0.0, -0.1, -0.44299999999999995, -23.8, -2.1, -25.8, 0.0, 0], [\"Lucas Nogueira\", 2947305, \"Brazil\", 16, 25, \"TOR\", 47, 404, 17.5, 0.6609999999999999, 0.23399999999999999, 0.364, 4.8, 18.6, 11.8, 7.0, 2.8, 8.3, 14.4, 11.3, 0.7, 0.9, 1.6, 0.18899999999999997, -0.7, 6.2, 5.5, 0.8, 0], [\"Luc Mbah a Moute\", 2116955, \"Cameroon\", 37, 31, \"HOU\", 58, 1507, 10.1, 0.601, 0.506, 0.271, 1.6, 11.8, 6.7, 5.1, 2.1, 1.4, 15.6, 12.7, 0.8, 1.9, 2.6, 0.084, -1.4, 1.3, -0.1, 0.7, 0], [\"Larry Nance\", 1471382, \"USA\", 27, 25, \"TOT\", 62, 1367, 20.3, 0.613, 0.031, 0.33799999999999997, 12.3, 21.6, 17.0, 8.8, 3.0, 2.1, 10.0, 15.8, 3.5, 2.2, 5.7, 0.2, 1.2, 2.4, 3.6, 1.9, 0], [\"Larry Drew\", 148318, \"USA\", 62, 27, \"TOT\", 10, 70, 3.0, 0.354, 0.375, 0.0, 4.8, 0.0, 2.3, 18.7, 0.0, 0.0, 11.1, 16.7, -0.1, 0.0, -0.1, -0.063, -5.4, -5.4, -10.7, -0.2, 0], [\"Kyle Kuzma\", 1423560, \"USA\", 27, 22, \"LAL\", 76, 2383, 14.4, 0.551, 0.418, 0.201, 4.0, 17.4, 10.7, 9.2, 1.0, 1.1, 10.8, 22.5, 1.7, 2.3, 4.0, 0.08, -0.2, -1.1, -1.2, 0.5, 0], [\"Kyle Collinsworth\", 92160, \"USA\", 62, 26, \"DAL\", 29, 409, 9.8, 0.439, 0.185, 0.444, 7.4, 17.9, 12.5, 15.1, 2.0, 1.3, 17.1, 13.0, 0.0, 0.5, 0.4, 0.051, -3.8, 2.2, -1.7, 0.0, 0], [\"Kyle Anderson\", 2151704, \"USA\", 30, 24, \"SAS\", 71, 1906, 15.7, 0.579, 0.13, 0.326, 4.7, 17.8, 11.2, 14.7, 2.9, 2.5, 16.3, 13.5, 2.2, 3.7, 5.9, 0.147, -0.4, 4.4, 4.0, 2.9, 0], [\"Khem Birch\", 815615, \"Canada\", 62, 25, \"ORL\", 38, 481, 14.6, 0.5429999999999999, 0.0, 0.38799999999999996, 13.9, 19.6, 16.7, 8.9, 1.1, 3.0, 13.6, 12.8, 0.8, 0.5, 1.2, 0.12300000000000001, -1.8, 1.4, -0.4, 0.2, 0], [\"Kevon Looney\", 1471382, \"USA\", 30, 21, \"GSW\", 62, 819, 14.4, 0.581, 0.024, 0.455, 10.9, 15.4, 13.3, 6.1, 1.8, 4.9, 12.6, 12.3, 1.2, 1.2, 2.5, 0.14400000000000002, -1.1, 2.2, 1.1, 0.7, 0], [\"Kelly Oubre\", 2093040, \"USA\", 15, 22, \"WAS\", 77, 2121, 12.2, 0.539, 0.465, 0.299, 3.1, 15.5, 9.3, 6.4, 1.7, 1.4, 8.8, 19.4, 1.6, 2.2, 3.7, 0.085, -0.6, -0.5, -1.1, 0.5, 0], [\"Kay Felder\", 1312611, \"USA\", 54, 22, \"DET\", 1, 3, -31.6, 0.0, 0.5, 0.0, 35.9, 0.0, 18.4, 0.0, 0.0, 0.0, 33.3, 44.2, -0.1, 0.0, -0.1, -1.005, -29.5, -11.9, -41.4, 0.0, 0], [\"Kay Felder\", 1312611, \"USA\", 54, 22, \"CHI\", 14, 134, 3.6, 0.386, 0.273, 0.182, 0.8, 10.8, 5.6, 23.0, 1.1, 0.7, 17.4, 28.0, -0.5, 0.1, -0.5, -0.166, -8.2, -3.3, -11.5, -0.3, 0], [\"Kay Felder\", 1312611, \"USA\", 54, 22, \"TOT\", 15, 137, 2.9, 0.375, 0.27899999999999997, 0.17600000000000002, 1.5, 10.5, 5.9, 22.5, 1.1, 0.6, 17.9, 28.4, -0.6, 0.1, -0.5, -0.185, -8.7, -3.5, -12.1, -0.3, 0], [\"Jusuf Nurkic\", 2947305, \"Bosnia & Herz...\", 16, 23, \"POR\", 75, 1966, 19.1, 0.529, 0.008, 0.292, 9.6, 26.8, 18.3, 11.6, 1.5, 4.3, 14.7, 26.6, 0.6, 3.7, 4.3, 0.105, -2.7, 2.7, -0.1, 1.0, 0], [\"Justise Winslow\", 2705040, \"USA\", 10, 21, \"MIA\", 65, 1587, 11.5, 0.498, 0.271, 0.20800000000000002, 4.2, 20.4, 12.3, 13.0, 1.6, 1.8, 12.8, 16.2, 0.3, 2.3, 2.6, 0.078, -2.7, 1.8, -0.9, 0.4, 0], [\"Justin Patton\", 2247480, \"USA\", 16, 20, \"MIN\", 1, 4, 19.8, 0.5, 0.0, 0.0, 0.0, 0.0, 0.0, 0.0, 12.5, 0.0, 0.0, 22.1, 0.0, 0.0, 0.0, 0.149, -0.7, 4.0, 3.2, 0.0, 0], [\"Justin Jackson\", 2365560, \"USA\", 15, 22, \"SAC\", 65, 1413, 9.8, 0.53, 0.429, 0.09, 2.1, 12.9, 7.2, 7.3, 1.0, 0.8, 8.4, 14.4, 0.6, 0.5, 1.0, 0.036000000000000004, -1.8, -1.5, -3.4, -0.5, 0], [\"Justin Anderson\", 1579440, \"USA\", 21, 24, \"PHI\", 36, 485, 11.9, 0.523, 0.486, 0.19699999999999998, 4.9, 13.9, 9.6, 7.3, 1.4, 1.0, 6.6, 18.8, 0.4, 0.6, 1.0, 0.10300000000000001, -1.1, -1.4, -2.5, -0.1, 0], [\"Julyan Stone\", 1524305, \"USA\", 62, 29, \"CHO\", 20, 106, 6.7, 0.635, 1.0, 0.28600000000000003, 0.0, 24.0, 11.7, 19.5, 0.9, 1.6, 43.2, 5.7, 0.0, 0.1, 0.1, 0.059000000000000004, -3.9, 1.1, -2.8, 0.0, 0], [\"Juan Hernangomez\", 2076840, \"Spain\", 15, 22, \"DEN\", 24, 275, 10.0, 0.517, 0.662, 0.162, 7.4, 14.7, 11.1, 5.9, 1.1, 0.9, 10.2, 13.9, 0.2, 0.1, 0.4, 0.063, -0.9, -2.3, -3.2, -0.1, 0], [\"Josh Richardson\", 1471382, \"USA\", 40, 24, \"MIA\", 78, 2601, 13.7, 0.556, 0.385, 0.159, 2.9, 8.9, 5.9, 13.1, 2.3, 2.4, 13.0, 18.2, 1.9, 3.5, 5.4, 0.1, 0.0, 1.5, 1.5, 2.3, 0], [\"Josh Huestis\", 1471382, \"USA\", 29, 26, \"OKC\", 67, 979, 5.3, 0.413, 0.628, 0.111, 4.6, 14.0, 9.1, 2.7, 0.8, 4.0, 12.1, 9.4, -0.5, 1.0, 0.5, 0.023, -4.7, 0.7, -3.9, -0.5, 0], [\"Josh Hart\", 1394520, \"USA\", 30, 22, \"LAL\", 59, 1312, 11.2, 0.579, 0.53, 0.243, 3.1, 16.0, 9.6, 7.7, 1.5, 0.9, 10.1, 12.5, 1.4, 1.3, 2.8, 0.10099999999999999, -0.8, 0.3, -0.4, 0.5, 0], [\"Josh Gray\", 92160, \"USA\", 62, 24, \"PHO\", 5, 86, 7.3, 0.349, 0.317, 0.268, 2.4, 10.1, 6.2, 20.8, 4.5, 1.9, 13.2, 26.0, -0.3, 0.1, -0.2, -0.11800000000000001, -5.9, 0.4, -5.4, -0.1, 0], [\"Jose Calderon\", 2328652, \"Spain\", 62, 36, \"CLE\", 55, 888, 11.5, 0.652, 0.517, 0.16699999999999998, 1.7, 8.3, 5.0, 17.8, 1.5, 0.2, 17.5, 11.7, 1.5, 0.3, 1.8, 0.099, 0.2, -2.0, -1.8, 0.1, 0], [\"Jordan Mickey\", 1471382, \"USA\", 33, 23, \"MIA\", 23, 284, 10.6, 0.515, 0.195, 0.23199999999999998, 7.1, 25.3, 16.3, 4.8, 1.1, 3.0, 16.6, 17.1, -0.1, 0.5, 0.3, 0.055999999999999994, -5.5, 0.5, -5.0, -0.2, 0], [\"Jordan Crawford\", 250000, \"USA\", 27, 29, \"NOP\", 2, 37, 15.7, 0.643, 0.35700000000000004, 0.0, 6.1, 2.8, 4.4, 35.7, 0.0, 2.2, 22.2, 21.1, 0.1, 0.0, 0.1, 0.124, 1.3, -4.7, -3.4, 0.0, 0], [\"Jordan Bell\", 815615, \"USA\", 38, 23, \"GSW\", 53, 774, 18.7, 0.6459999999999999, 0.017, 0.235, 9.2, 19.2, 14.6, 17.2, 2.1, 5.7, 18.9, 13.8, 1.7, 1.4, 3.0, 0.18899999999999997, 0.4, 4.0, 4.4, 1.3, 0], [\"Johnny O'Bryant\", 1524305, \"USA\", 36, 24, \"CHO\", 36, 379, 12.0, 0.47, 0.251, 0.146, 8.1, 18.7, 13.3, 5.9, 1.2, 1.3, 7.6, 22.5, -0.1, 0.4, 0.3, 0.037000000000000005, -3.3, -2.1, -5.3, -0.3, 0], [\"John Collins\", 1936920, \"USA\", 19, 20, \"ATL\", 71, 1690, 18.4, 0.624, 0.083, 0.34, 11.2, 23.0, 17.1, 8.2, 1.2, 4.0, 14.3, 17.9, 3.3, 1.9, 5.2, 0.147, -0.3, 1.7, 1.4, 1.5, 0], [\"Joffrey Lauvergne\", 1524305, \"France\", 55, 26, \"SAS\", 52, 523, 16.5, 0.542, 0.027000000000000003, 0.242, 13.1, 22.8, 17.9, 11.6, 0.9, 0.5, 13.8, 20.4, 0.6, 0.7, 1.3, 0.121, -1.5, -0.2, -1.6, 0.1, 0], [\"Joel Bolomboy\", 1312611, \"Ukraine\", 52, 24, \"MIL\", 6, 38, 11.7, 0.521, 0.16699999999999998, 1.0, 18.7, 12.4, 15.5, 0.0, 2.6, 0.0, 18.8, 12.7, 0.0, 0.0, 0.1, 0.079, -3.1, -4.6, -7.7, -0.1, 0], [\"Joe Young\", 1471382, \"USA\", 43, 25, \"IND\", 50, 520, 10.2, 0.522, 0.35100000000000003, 0.17, 2.4, 10.8, 6.7, 9.8, 1.3, 0.2, 12.0, 17.9, 0.1, 0.4, 0.5, 0.044000000000000004, -2.5, -2.2, -4.7, -0.4, 0], [\"Joe Harris\", 1524305, \"USA\", 33, 26, \"BRK\", 76, 1916, 13.0, 0.626, 0.5760000000000001, 0.16899999999999998, 2.8, 11.3, 7.0, 9.6, 0.9, 0.7, 12.1, 16.7, 2.7, 0.8, 3.6, 0.08900000000000001, 1.1, -1.3, -0.2, 0.9, 0], [\"Jerian Grant\", 1713840, \"USA\", 19, 25, \"CHI\", 70, 1574, 14.5, 0.531, 0.37, 0.387, 2.0, 9.6, 5.7, 30.6, 1.8, 0.4, 13.3, 17.3, 2.4, 0.9, 3.3, 0.1, 0.0, -1.7, -1.8, 0.1, 0], [\"Jeremy Evans\", 104059, \"USA\", 55, 30, \"ATL\", 1, 5, 10.4, 1.0, 0.0, 0.0, 22.4, 0.0, 11.2, 0.0, 0.0, 0.0, 50.0, 17.5, 0.0, 0.0, 0.0, -0.03, -2.3, -6.1, -8.3, 0.0, 0], [\"Jerami Grant\", 1524305, \"USA\", 39, 23, \"OKC\", 78, 1585, 15.6, 0.596, 0.245, 0.49700000000000005, 5.7, 16.1, 10.7, 5.1, 0.9, 4.1, 9.1, 16.0, 3.0, 1.8, 4.8, 0.145, -1.1, 0.2, -0.9, 0.4, 0], [\"Jeff Withey\", 1577320, \"USA\", 39, 27, \"DAL\", 9, 39, 8.3, 0.444, 0.625, 0.125, 2.8, 26.4, 14.3, 0.0, 0.0, 6.8, 10.6, 22.0, -0.1, 0.1, 0.0, -0.053, -9.1, -3.6, -12.7, -0.1, 0], [\"Jeff Green\", 2116955, \"USA\", 5, 31, \"CLE\", 74, 1715, 14.2, 0.5710000000000001, 0.26899999999999996, 0.371, 3.8, 11.5, 7.7, 8.1, 1.1, 1.6, 9.5, 19.5, 2.5, 0.8, 3.3, 0.092, -0.7, -1.6, -2.4, -0.2, 0], [\"Jaylen Morris\", 92160, \"USA\", 62, 22, \"ATL\", 6, 98, 6.9, 0.452, 0.29, 0.0, 2.3, 16.0, 9.1, 10.8, 1.0, 0.9, 16.2, 16.5, -0.1, 0.1, -0.1, -0.043, -5.9, -1.0, -6.8, -0.1, 0], [\"Jawun Evans\", 815615, \"USA\", 39, 21, \"LAC\", 48, 778, 7.2, 0.42100000000000004, 0.213, 0.19399999999999998, 1.3, 10.4, 5.9, 17.8, 2.2, 0.6, 13.8, 17.7, -0.8, 0.7, -0.1, -0.008, -4.3, -0.5, -4.7, -0.5, 0], [\"JaVale McGee\", 2116955, \"USA\", 18, 30, \"GSW\", 62, 584, 21.8, 0.634, 0.028999999999999998, 0.233, 10.8, 18.5, 14.9, 8.1, 1.6, 7.6, 9.2, 18.8, 1.5, 1.0, 2.6, 0.212, 0.2, 2.5, 2.7, 0.7, 0], [\"Jason Terry\", 2328652, \"USA\", 10, 40, \"MIL\", 47, 762, 8.0, 0.531, 0.746, 0.063, 0.8, 6.5, 3.6, 9.7, 2.4, 1.4, 13.6, 10.1, 0.2, 0.5, 0.7, 0.043, -1.5, -0.7, -2.2, 0.0, 0], [\"Jarrett Jack\", 2328652, \"USA\", 22, 34, \"NYK\", 58, 1483, 11.2, 0.48700000000000004, 0.193, 0.16699999999999998, 1.5, 11.9, 6.7, 31.3, 1.2, 0.2, 19.9, 16.5, 0.3, 0.7, 1.0, 0.032, -2.0, -1.6, -3.6, -0.6, 0], [\"Jarrett Allen\", 1713720, \"USA\", 22, 19, \"BRK\", 68, 1341, 17.6, 0.634, 0.037000000000000005, 0.387, 10.9, 17.7, 14.3, 5.6, 1.0, 4.1, 15.3, 16.7, 2.5, 1.3, 3.9, 0.139, -1.1, 1.2, 0.1, 0.7, 0], [\"Jarell Martin\", 1471382, \"USA\", 25, 23, \"MEM\", 73, 1661, 10.5, 0.516, 0.198, 0.23399999999999999, 6.6, 15.8, 11.1, 7.0, 1.2, 2.8, 13.6, 17.1, 0.1, 1.3, 1.4, 0.04, -3.1, 0.1, -3.0, -0.4, 0], [\"Jarell Eddie\", 83129, \"USA\", 62, 26, \"TOT\", 3, 9, -1.9, 0.0, 1.0, 0.0, 0.0, 12.0, 6.1, 0.0, 5.6, 0.0, 0.0, 9.8, 0.0, 0.0, 0.0, -0.141, -10.1, 1.7, -8.4, 0.0, 0], [\"Jamil Wilson\", 50000, \"USA\", 62, 27, \"LAC\", 15, 274, 11.4, 0.634, 0.778, 0.049, 1.2, 11.4, 6.4, 5.2, 0.9, 2.4, 8.8, 14.3, 0.4, 0.2, 0.6, 0.099, 1.1, -1.0, 0.1, 0.1, 0], [\"James Michael McAdoo\", 50000, \"USA\", 62, 25, \"PHI\", 3, 18, 7.5, 0.508, 1.0, 0.28600000000000003, 0.0, 11.6, 6.0, 0.0, 0.0, 4.6, 11.3, 21.1, 0.0, 0.0, 0.0, 0.023, -4.3, -4.4, -8.8, 0.0, 0], [\"James Ennis\", 3028410, \"USA\", 50, 27, \"TOT\", 68, 1540, 11.8, 0.5920000000000001, 0.391, 0.314, 5.3, 11.1, 8.1, 6.7, 1.5, 1.1, 11.6, 13.6, 2.0, 1.1, 3.1, 0.096, -0.5, -0.4, -0.9, 0.4, 0], [\"Jameel Warney\", 46080, \"USA\", 62, 24, \"DAL\", 3, 27, 22.6, 0.599, 0.0, 0.41700000000000004, 16.0, 21.2, 18.5, 0.0, 0.0, 0.0, 6.6, 25.6, 0.1, 0.0, 0.1, 0.159, -3.1, -9.0, -12.1, -0.1, 0], [\"Jakob Poeltl\", 2825640, \"Austria\", 9, 22, \"TOR\", 78, 1429, 17.0, 0.648, 0.006, 0.272, 12.4, 16.1, 14.3, 5.6, 1.2, 5.4, 16.2, 14.6, 2.9, 2.2, 5.1, 0.17, 0.3, 2.9, 3.2, 1.9, 0], [\"Jake Layman\", 1312611, \"USA\", 47, 23, \"POR\", 33, 155, 3.8, 0.331, 0.43200000000000005, 0.068, 2.9, 7.0, 4.9, 8.7, 1.9, 2.1, 9.9, 14.3, -0.3, 0.2, -0.1, -0.036000000000000004, -5.8, 0.3, -5.5, -0.1, 0], [\"Jacob Pullen\", 50000, \"USA\", 62, 28, \"PHI\", 3, 6, -2.3, 0.5, 0.5, 0.0, 0.0, 0.0, 0.0, 0.0, 0.0, 0.0, 33.3, 21.4, 0.0, 0.0, 0.0, -0.21100000000000002, -10.5, -4.7, -15.3, 0.0, 0], [\"Ivica Zubac\", 1312611, \"Croatia\", 32, 20, \"LAL\", 39, 336, 15.6, 0.5670000000000001, 0.0, 0.446, 11.2, 20.2, 15.7, 9.1, 0.9, 2.7, 14.8, 17.9, 0.5, 0.4, 0.9, 0.122, -2.6, 0.2, -2.4, 0.0, 0], [\"Ivan Rabb\", 950000, \"USA\", 35, 20, \"MEM\", 32, 401, 15.6, 0.599, 0.0, 0.22, 11.8, 23.7, 17.6, 9.7, 1.0, 1.6, 18.8, 17.9, 0.4, 0.3, 0.8, 0.09300000000000001, -2.3, -0.5, -2.8, -0.1, 0], [\"Isaiah Whitehead\", 1312611, \"USA\", 42, 22, \"BRK\", 16, 180, 11.6, 0.53, 0.209, 0.221, 2.3, 13.1, 7.7, 19.7, 2.2, 0.8, 20.3, 28.4, -0.3, 0.2, -0.1, -0.035, -4.2, -1.3, -5.5, -0.2, 0], [\"Isaiah Taylor\", 1312611, \"USA\", 62, 23, \"ATL\", 64, 1086, 11.2, 0.499, 0.195, 0.379, 2.3, 6.8, 4.5, 27.0, 1.4, 0.8, 15.5, 19.7, 0.4, 0.4, 0.8, 0.035, -2.7, -2.5, -5.2, -0.9, 0], [\"Isaiah Canaan\", 1069308, \"USA\", 34, 26, \"TOT\", 20, 422, 13.5, 0.539, 0.48200000000000004, 0.37200000000000005, 1.5, 10.1, 5.7, 26.7, 1.8, 0.2, 15.4, 18.9, 0.5, 0.1, 0.6, 0.07200000000000001, 0.1, -2.5, -2.4, 0.0, 0], [\"Ike Anigbogu\", 950000, \"USA\", 47, 19, \"IND\", 10, 28, 23.2, 0.5579999999999999, 0.0, 0.667, 20.4, 16.1, 18.2, 0.0, 1.8, 9.5, 14.7, 21.8, 0.1, 0.0, 0.1, 0.177, -4.1, -1.4, -5.4, 0.0, 0], [\"Ian Clark\", 1577230, \"USA\", 62, 26, \"NOP\", 72, 1398, 9.1, 0.525, 0.391, 0.124, 0.8, 8.4, 4.7, 10.1, 1.1, 0.6, 10.2, 17.3, 0.1, 0.8, 0.9, 0.028999999999999998, -2.2, -2.0, -4.2, -0.8, 0], [\"Henry Ellenson\", 1780800, \"USA\", 18, 21, \"DET\", 34, 242, 7.7, 0.42200000000000004, 0.389, 0.14800000000000002, 4.0, 24.2, 13.9, 10.7, 0.6, 0.0, 10.8, 23.6, -0.4, 0.3, -0.2, -0.033, -5.9, -2.4, -8.3, -0.4, 0], [\"Guerschon Yabusele\", 2247480, \"France\", 16, 22, \"BOS\", 31, 182, 10.5, 0.5429999999999999, 0.6890000000000001, 0.37799999999999995, 9.2, 15.4, 12.4, 11.1, 0.6, 0.9, 17.3, 15.6, 0.1, 0.2, 0.4, 0.10099999999999999, -1.1, -0.4, -1.5, 0.0, 0], [\"Glenn Robinson\", 1524305, \"USA\", 40, 24, \"IND\", 19, 241, 8.9, 0.44299999999999995, 0.322, 0.11900000000000001, 3.8, 8.4, 6.1, 7.2, 2.3, 0.4, 3.1, 11.9, 0.1, 0.2, 0.3, 0.057999999999999996, -2.4, -0.4, -2.7, 0.0, 0], [\"Gian Clavell\", 50000, \"Puerto Rico\", 62, 24, \"DAL\", 7, 64, 7.4, 0.53, 0.833, 0.111, 1.7, 10.7, 6.1, 6.7, 1.6, 0.0, 9.6, 14.8, 0.0, 0.0, 0.1, 0.043, -1.7, -1.8, -3.5, 0.0, 0], [\"Gerald Green\", 947248, \"USA\", 18, 32, \"HOU\", 37, 825, 14.0, 0.5579999999999999, 0.721, 0.146, 1.9, 14.0, 8.0, 4.4, 1.4, 1.3, 5.2, 21.7, 1.0, 0.9, 1.9, 0.11199999999999999, 0.6, -2.3, -1.8, 0.1, 0], [\"Georgios Papagiannis\", 2301360, \"Greece\", 13, 20, \"SAC\", 16, 118, 10.7, 0.415, 0.0, 0.0, 11.1, 24.3, 17.4, 11.5, 0.9, 4.8, 16.3, 18.6, -0.2, 0.1, 0.0, -0.02, -6.3, 1.3, -5.1, -0.1, 0], [\"Georges Niang\", 100000, \"USA\", 50, 24, \"UTA\", 7, 18, 15.0, 0.39399999999999996, 0.375, 0.25, 12.8, 18.8, 15.8, 26.7, 5.6, 0.0, 18.4, 27.3, 0.0, 0.0, 0.0, 0.008, -2.0, 3.5, 1.5, 0.0, 0], [\"Gary Payton\", 50000, \"USA\", 62, 25, \"TOT\", 19, 149, 7.6, 0.414, 0.319, 0.064, 6.1, 11.7, 8.9, 12.4, 1.0, 1.7, 5.8, 15.3, 0.0, 0.1, 0.1, 0.021, -3.4, -1.7, -5.2, -0.1, 0], [\"Gary Harris\", 2550055, \"USA\", 19, 23, \"DEN\", 65, 2265, 16.6, 0.599, 0.436, 0.175, 1.8, 6.8, 4.3, 13.1, 2.6, 0.6, 11.0, 20.6, 3.9, 1.4, 5.4, 0.113, 2.5, -1.6, 1.0, 1.7, 0], [\"Furkan Korkmaz\", 1465920, \"Turkey\", 26, 20, \"PHI\", 12, 69, 6.5, 0.446, 0.625, 0.16699999999999998, 3.3, 13.6, 8.6, 6.0, 1.4, 1.2, 7.2, 17.2, 0.0, 0.1, 0.0, 0.034, -3.7, -1.6, -5.3, -0.1, 0], [\"Fred VanVleet\", 1312611, \"USA\", 62, 23, \"TOR\", 73, 1478, 16.2, 0.562, 0.478, 0.184, 1.9, 11.7, 6.9, 22.6, 2.2, 1.0, 10.7, 19.1, 2.9, 1.9, 4.7, 0.154, 2.1, 0.0, 2.2, 1.6, 0], [\"Frank Mason\", 1184385, \"USA\", 34, 23, \"SAC\", 51, 972, 13.1, 0.479, 0.22399999999999998, 0.301, 3.4, 12.1, 7.5, 22.8, 1.8, 1.0, 12.7, 22.5, 0.1, 0.5, 0.6, 0.027999999999999997, -1.8, -1.5, -3.3, -0.3, 0], [\"Frank Kaminsky\", 2847600, \"USA\", 9, 24, \"CHO\", 76, 1755, 14.0, 0.542, 0.38, 0.281, 2.7, 14.4, 8.4, 10.8, 1.0, 0.9, 7.9, 20.3, 2.0, 1.3, 3.2, 0.08900000000000001, 0.0, -1.2, -1.2, 0.4, 0], [\"Eric Moreland\", 1739333, \"USA\", 62, 26, \"DET\", 63, 715, 13.0, 0.511, 0.0, 0.26, 11.0, 27.4, 19.0, 13.5, 1.7, 5.7, 25.9, 9.3, 0.4, 1.4, 1.9, 0.125, -3.6, 5.8, 2.2, 0.8, 0], [\"Emeka Okafor\", 239204, \"USA\", 2, 35, \"NOP\", 24, 341, 16.3, 0.5379999999999999, 0.0, 0.228, 15.2, 21.9, 18.7, 2.8, 1.1, 5.8, 11.4, 14.5, 0.5, 0.5, 1.0, 0.134, -2.8, 1.2, -1.6, 0.0, 0], [\"Ekpe Udoh\", 3200000, \"USA\", 6, 30, \"UTA\", 59, 783, 15.3, 0.5660000000000001, 0.009000000000000001, 0.48700000000000004, 9.4, 11.4, 10.4, 9.1, 2.7, 7.8, 12.5, 9.2, 1.3, 1.7, 3.0, 0.185, -1.2, 6.8, 5.6, 1.5, 0], [\"Dwight Buycks\", 748160, \"USA\", 62, 28, \"DET\", 29, 427, 12.8, 0.498, 0.22699999999999998, 0.207, 3.0, 7.7, 5.3, 22.4, 2.2, 0.4, 15.3, 26.4, -0.2, 0.4, 0.3, 0.028999999999999998, -2.5, -1.7, -4.2, -0.2, 0], [\"Dwayne Bacon\", 815615, \"USA\", 40, 22, \"CHO\", 53, 713, 5.8, 0.431, 0.22399999999999998, 0.13, 0.6, 18.6, 9.4, 7.6, 1.1, 0.2, 10.2, 13.7, -0.7, 0.6, -0.1, -0.008, -5.5, -0.4, -5.8, -0.7, 0], [\"Dorian Finney-Smith\", 1312611, \"USA\", 62, 24, \"DAL\", 18, 344, 6.3, 0.46799999999999997, 0.595, 0.155, 5.0, 13.0, 8.9, 7.0, 1.0, 1.0, 15.1, 14.0, -0.2, 0.2, 0.0, 0.005, -3.5, -0.2, -3.7, -0.1, 0], [\"Donovan Mitchell\", 2621280, \"USA\", 13, 21, \"UTA\", 75, 2512, 16.5, 0.541, 0.40700000000000003, 0.209, 2.2, 10.1, 6.2, 19.2, 2.2, 0.9, 12.7, 29.0, 1.2, 3.5, 4.7, 0.08900000000000001, 1.2, -0.3, 0.8, 1.8, 0], [\"Domantas Sabonis\", 2550000, \"Lithuania\", 11, 21, \"IND\", 70, 1711, 17.3, 0.57, 0.054000000000000006, 0.34600000000000003, 10.5, 25.3, 18.0, 12.6, 1.0, 1.5, 15.7, 21.7, 2.4, 2.1, 4.5, 0.125, -0.8, 0.4, -0.4, 0.7, 0], [\"Dillon Brooks\", 815615, \"Canada\", 45, 22, \"MEM\", 78, 2220, 9.1, 0.526, 0.34299999999999997, 0.187, 2.3, 10.1, 6.1, 8.4, 1.5, 0.7, 12.8, 17.9, -0.3, 1.1, 0.9, 0.018000000000000002, -2.2, -1.3, -3.4, -0.8, 0], [\"Deyonta Davis\", 1312611, \"USA\", 31, 21, \"MEM\", 58, 841, 16.7, 0.624, 0.0, 0.23, 9.0, 21.7, 15.2, 7.3, 0.8, 3.9, 10.1, 15.4, 1.7, 0.8, 2.5, 0.142, -1.3, 0.5, -0.8, 0.3, 0], [\"Devin Booker\", 2319360, \"USA\", 13, 21, \"PHO\", 54, 1865, 18.1, 0.561, 0.364, 0.312, 1.5, 12.7, 7.0, 24.5, 1.2, 0.6, 13.9, 31.6, 1.9, 0.5, 2.4, 0.063, 2.9, -2.4, 0.5, 1.2, 0], [\"Derrick Williams\", 104059, \"USA\", 2, 26, \"LAL\", 2, 9, -3.2, 0.25, 0.5, 0.0, 0.0, 11.8, 5.9, 0.0, 0.0, 0.0, 0.0, 18.9, 0.0, 0.0, 0.0, -0.192, -11.5, -6.7, -18.2, 0.0, 0], [\"Derrick White\", 1404600, \"USA\", 29, 23, \"SAS\", 17, 139, 15.9, 0.6459999999999999, 0.39399999999999996, 0.606, 4.0, 16.9, 10.4, 9.3, 1.5, 1.8, 12.6, 15.4, 0.3, 0.2, 0.5, 0.171, 0.0, 0.5, 0.5, 0.1, 0], [\"Derrick Rose\", 2116955, \"USA\", 1, 29, \"TOT\", 21, 366, 12.3, 0.515, 0.16399999999999998, 0.267, 4.0, 6.0, 5.1, 14.6, 0.7, 0.9, 14.8, 26.2, -0.1, 0.0, -0.1, -0.01, -3.5, -4.0, -7.4, -0.5, 0], [\"Derrick Jones\", 1312611, \"USA\", 62, 20, \"TOT\", 19, 245, 10.3, 0.488, 0.34600000000000003, 0.462, 9.6, 7.8, 8.7, 5.1, 0.8, 4.4, 10.1, 12.7, 0.2, 0.3, 0.4, 0.081, -2.5, 0.8, -1.7, 0.0, 0], [\"Denzel Valentine\", 2186400, \"USA\", 14, 24, \"CHI\", 77, 2095, 12.1, 0.527, 0.513, 0.071, 2.4, 18.3, 10.0, 17.8, 1.5, 0.5, 11.8, 17.5, 1.0, 1.6, 2.6, 0.059000000000000004, -0.4, 0.0, -0.5, 0.8, 0], [\"Demetrius Jackson\", 92858, \"USA\", 45, 23, \"PHI\", 3, 17, 24.6, 0.82, 0.25, 0.5, 6.6, 0.0, 3.2, 35.5, 2.8, 0.0, 17.0, 14.8, 0.1, 0.0, 0.1, 0.298, 5.0, -4.0, 1.0, 0.0, 0], [\"Delon Wright\", 1645200, \"USA\", 20, 25, \"TOR\", 65, 1339, 16.8, 0.5770000000000001, 0.342, 0.261, 3.8, 11.5, 7.7, 19.8, 2.5, 2.0, 14.2, 17.2, 2.4, 1.9, 4.3, 0.153, 1.3, 1.6, 2.9, 1.6, 0], [\"Dejounte Murray\", 1312611, \"USA\", 29, 21, \"SAS\", 78, 1669, 14.9, 0.484, 0.057, 0.228, 7.0, 22.6, 14.7, 20.5, 2.8, 1.4, 16.9, 20.7, -0.3, 3.3, 3.0, 0.085, -2.3, 3.5, 1.1, 1.3, 0], [\"DeAndre Liggins\", 1577230, \"USA\", 53, 29, \"TOT\", 55, 711, 6.2, 0.485, 0.52, 0.049, 1.2, 10.8, 6.1, 8.1, 2.6, 1.7, 16.1, 7.8, -0.1, 0.7, 0.6, 0.037000000000000005, -3.2, 1.2, -2.0, 0.0, 0], [\"DeAndre' Bembry\", 1567200, \"USA\", 21, 23, \"ATL\", 23, 395, 6.2, 0.467, 0.239, 0.248, 2.3, 15.8, 9.1, 14.1, 1.9, 2.2, 25.8, 18.0, -0.9, 0.4, -0.5, -0.06, -6.6, 1.1, -5.5, -0.3, 0], [\"Davon Reed\", 815615, \"USA\", 32, 22, \"PHO\", 18, 195, 5.2, 0.386, 0.49200000000000005, 0.16899999999999998, 1.1, 16.8, 8.8, 6.5, 2.5, 0.8, 9.9, 15.3, -0.3, 0.1, -0.2, -0.047, -5.6, -0.5, -6.1, -0.2, 0], [\"Davis Bertans\", 1312611, \"Latvia\", 42, 25, \"SAS\", 74, 1067, 14.2, 0.5870000000000001, 0.691, 0.136, 1.9, 13.9, 7.8, 10.4, 1.2, 2.2, 8.4, 17.4, 1.6, 1.5, 3.1, 0.13699999999999998, 1.3, -0.2, 1.1, 0.8, 0], [\"David West\", 2328652, \"USA\", 18, 37, \"GSW\", 69, 947, 21.4, 0.609, 0.022000000000000002, 0.209, 7.7, 18.5, 13.5, 20.4, 2.3, 6.0, 16.4, 22.0, 1.7, 1.7, 3.5, 0.175, 0.0, 3.4, 3.4, 1.3, 0], [\"David Stockton\", 148318, \"USA\", 62, 26, \"UTA\", 2, 6, 31.4, 0.9309999999999999, 1.0, 2.0, 0.0, 0.0, 0.0, 0.0, 0.0, 0.0, 21.0, 35.8, 0.1, 0.0, 0.1, 0.46399999999999997, 11.9, -9.4, 2.5, 0.0, 0], [\"David Nwaba\", 1312611, \"USA\", 62, 25, \"CHI\", 66, 1529, 12.8, 0.561, 0.121, 0.532, 5.4, 16.2, 10.6, 9.4, 1.8, 1.7, 13.1, 15.0, 1.4, 1.4, 2.8, 0.087, -2.2, 1.2, -1.0, 0.4, 0], [\"Darius Miller\", 2100000, \"USA\", 46, 27, \"NOP\", 78, 1847, 9.4, 0.619, 0.746, 0.131, 1.0, 7.9, 4.6, 7.7, 0.6, 0.7, 10.1, 12.8, 2.1, 0.8, 2.9, 0.075, 0.6, -1.7, -1.1, 0.4, 0], [\"Dario Saric\", 2422560, \"Croatia\", 12, 23, \"PHI\", 74, 2229, 16.1, 0.5870000000000001, 0.447, 0.239, 7.5, 16.7, 12.3, 13.0, 1.1, 0.7, 13.4, 20.9, 3.7, 2.8, 6.5, 0.14, 1.7, -0.1, 1.6, 2.0, 0], [\"Dante Cunningham\", 2300000, \"USA\", 33, 30, \"TOT\", 70, 1499, 9.7, 0.542, 0.474, 0.149, 5.1, 14.5, 9.9, 4.1, 1.2, 1.4, 8.1, 11.5, 1.0, 1.2, 2.2, 0.071, -1.5, -0.1, -1.6, 0.2, 0], [\"Daniel Theis\", 815615, \"Germany\", 62, 25, \"BOS\", 63, 936, 16.2, 0.616, 0.249, 0.348, 10.7, 21.2, 16.1, 9.1, 1.6, 4.3, 17.2, 15.5, 1.6, 1.9, 3.5, 0.18, -0.8, 3.5, 2.7, 1.1, 0], [\"Damyean Dotson\", 1100000, \"USA\", 44, 23, \"NYK\", 40, 356, 8.9, 0.489, 0.409, 0.13, 2.2, 15.2, 8.7, 9.2, 1.0, 0.2, 9.7, 16.5, 0.0, 0.2, 0.2, 0.022000000000000002, -2.7, -2.1, -4.9, -0.3, 0], [\"Damion Lee\", 92160, \"USA\", 62, 25, \"ATL\", 12, 321, 12.9, 0.496, 0.387, 0.21, 3.1, 15.7, 9.4, 11.7, 2.6, 0.3, 7.8, 19.2, 0.1, 0.3, 0.4, 0.057, -1.4, -0.2, -1.5, 0.0, 0], [\"Damien Wilkins\", 2116955, \"USA\", 62, 38, \"IND\", 19, 152, 4.9, 0.405, 0.462, 0.10300000000000001, 3.8, 8.1, 6.0, 7.8, 0.7, 0.6, 10.9, 13.4, -0.1, 0.1, -0.1, -0.019, -4.3, -2.1, -6.4, -0.2, 0], [\"Damian Jones\", 1312611, \"USA\", 30, 22, \"GSW\", 11, 54, 10.7, 0.765, 0.0, 0.4, 9.0, 11.6, 10.4, 0.0, 0.0, 2.9, 20.3, 12.0, 0.1, 0.0, 0.1, 0.102, -2.6, -3.8, -6.4, -0.1, 0], [\"Dakari Johnson\", 815615, \"USA\", 48, 22, \"OKC\", 29, 159, 16.6, 0.575, 0.0, 0.513, 10.8, 13.0, 11.8, 7.3, 1.9, 4.6, 5.9, 13.7, 0.4, 0.2, 0.6, 0.18, -0.9, 1.3, 0.5, 0.1, 0], [\"D.J. Wilson\", 2135040, \"USA\", 17, 21, \"MIL\", 21, 69, 9.1, 0.638, 0.35700000000000004, 0.14300000000000002, 1.7, 13.6, 7.7, 6.2, 1.4, 1.2, 21.2, 12.4, 0.0, 0.0, 0.1, 0.038, -3.5, -1.7, -5.2, -0.1, 0], [\"Clint Capela\", 2334520, \"Switzerland\", 25, 23, \"HOU\", 71, 1955, 24.6, 0.65, 0.002, 0.38299999999999995, 13.5, 31.0, 22.3, 5.8, 1.4, 5.8, 11.6, 19.5, 6.0, 3.9, 9.9, 0.242, 0.1, 2.9, 3.0, 2.5, 0], [\"Chris McCullough\", 1471382, \"USA\", 29, 22, \"WAS\", 19, 90, 15.8, 0.478, 0.19, 0.33299999999999996, 8.9, 22.6, 15.7, 7.1, 0.0, 4.8, 4.0, 24.6, 0.1, 0.1, 0.2, 0.081, -3.8, -1.9, -5.7, -0.1, 0], [\"Cheick Diallo\", 1312611, \"Mali\", 33, 21, \"NOP\", 48, 538, 17.4, 0.619, 0.0, 0.365, 8.8, 29.7, 19.6, 4.8, 0.9, 2.8, 11.0, 17.6, 1.1, 0.7, 1.8, 0.161, -2.6, -0.5, -3.1, -0.2, 0], [\"Cedi Osman\", 2642857, \"Turkey\", 62, 22, \"CLE\", 57, 584, 10.9, 0.605, 0.442, 0.22699999999999998, 2.7, 17.0, 10.0, 6.8, 1.6, 0.4, 14.2, 15.0, 0.4, 0.4, 0.8, 0.068, -1.6, -1.5, -3.1, -0.2, 0], [\"Caris LeVert\", 1632480, \"USA\", 20, 23, \"BRK\", 68, 1781, 14.2, 0.523, 0.335, 0.258, 3.1, 12.1, 7.6, 26.0, 2.0, 0.9, 15.6, 22.6, 0.7, 1.4, 2.1, 0.055999999999999994, -0.3, -0.3, -0.5, 0.7, 0], [\"Cameron Payne\", 2203440, \"USA\", 14, 23, \"CHI\", 21, 476, 14.0, 0.494, 0.429, 0.079, 3.3, 9.5, 6.3, 28.9, 2.2, 1.7, 13.3, 19.3, 0.3, 0.4, 0.6, 0.065, -0.2, -0.6, -0.8, 0.1, 0], [\"Caleb Swanigan\", 1465920, \"USA\", 26, 20, \"POR\", 24, 165, 7.1, 0.41, 0.14800000000000002, 0.24100000000000002, 10.1, 20.3, 15.2, 12.2, 1.5, 1.5, 19.0, 19.6, -0.3, 0.2, 0.0, -0.01, -5.7, 0.9, -4.8, -0.1, 0], [\"Bryn Forbes\", 1312611, \"USA\", 62, 24, \"SAS\", 77, 1462, 9.1, 0.523, 0.457, 0.141, 0.8, 7.3, 4.1, 8.1, 0.9, 0.1, 6.8, 16.7, 0.7, 1.3, 2.0, 0.065, -1.3, -1.8, -3.1, -0.4, 0], [\"Bruno Caboclo\", 2451225, \"Brazil\", 20, 22, \"TOT\", 11, 99, 8.5, 0.39799999999999996, 0.5670000000000001, 0.2, 7.7, 15.6, 11.5, 6.9, 1.5, 3.8, 10.9, 16.6, -0.1, 0.1, 0.0, -0.012, -4.1, -0.2, -4.3, -0.1, 0], [\"Brice Johnson\", 1331160, \"USA\", 25, 23, \"TOT\", 18, 98, 18.2, 0.486, 0.024, 0.11900000000000001, 10.4, 25.4, 17.9, 3.4, 4.5, 5.5, 10.2, 22.3, 0.0, 0.2, 0.2, 0.085, -4.9, 2.2, -2.7, 0.0, 0], [\"Briante Weber\", 83129, \"USA\", 62, 25, \"TOT\", 18, 237, 10.1, 0.527, 0.256, 0.233, 3.8, 13.1, 8.4, 13.1, 3.8, 1.9, 24.0, 11.7, 0.0, 0.4, 0.4, 0.07200000000000001, -3.3, 2.9, -0.4, 0.1, 0], [\"Brandon Paul\", 815615, \"USA\", 62, 26, \"SAS\", 61, 558, 7.2, 0.493, 0.43, 0.33899999999999997, 1.2, 12.2, 6.7, 9.2, 2.3, 1.0, 16.8, 13.4, -0.3, 0.8, 0.5, 0.043, -3.8, 1.1, -2.7, -0.1, 0], [\"Brandon Jennings\", 238020, \"USA\", 10, 28, \"MIL\", 11, 156, 14.0, 0.51, 0.52, 0.18, 2.3, 13.5, 7.9, 30.3, 1.6, 2.2, 18.2, 19.2, 0.1, 0.1, 0.2, 0.066, -1.1, -1.8, -2.9, 0.0, 0], [\"Bobby Portis\", 1516320, \"USA\", 22, 22, \"CHI\", 69, 1553, 20.0, 0.5479999999999999, 0.28, 0.19899999999999998, 10.3, 22.3, 16.1, 13.6, 1.5, 1.1, 9.9, 26.0, 2.2, 1.4, 3.6, 0.111, 1.4, -0.7, 0.7, 1.1, 0], [\"Bobby Brown\", 1524305, \"USA\", 62, 33, \"HOU\", 20, 115, 5.4, 0.425, 0.69, 0.034, 0.0, 6.8, 3.4, 14.9, 1.7, 0.0, 13.3, 26.0, -0.3, 0.1, -0.2, -0.08, -5.0, -4.3, -9.3, -0.2, 0], [\"Bam Adebayo\", 2490360, \"USA\", 14, 20, \"MIA\", 66, 1324, 15.6, 0.564, 0.021, 0.526, 9.7, 21.7, 15.7, 11.2, 1.2, 2.6, 13.6, 15.9, 2.1, 1.9, 4.1, 0.147, -1.7, 2.0, 0.3, 0.8, 0], [\"Arron Afflalo\", 2328652, \"USA\", 27, 32, \"ORL\", 51, 657, 5.5, 0.508, 0.425, 0.17, 0.7, 10.5, 5.5, 6.2, 0.3, 1.1, 11.3, 12.4, -0.1, 0.2, 0.1, 0.006, -4.3, -1.7, -6.0, -0.7, 0], [\"Antonius Cleveland\", 92160, \"USA\", 62, 23, \"TOT\", 14, 93, 5.4, 0.402, 0.125, 0.375, 2.3, 12.2, 7.2, 2.9, 3.2, 4.8, 17.7, 11.0, -0.2, 0.1, 0.0, -0.001, -7.5, 3.8, -3.7, 0.0, 0], [\"Ante Zizic\", 1645200, \"Croatia\", 23, 21, \"CLE\", 30, 186, 23.2, 0.737, 0.0, 0.35100000000000003, 13.5, 18.4, 16.0, 4.4, 0.3, 6.0, 13.2, 18.1, 0.7, 0.2, 0.8, 0.21899999999999997, 1.0, -0.6, 0.4, 0.1, 0], [\"Andrew Harrison\", 1312611, \"USA\", 44, 23, \"MEM\", 56, 1326, 12.7, 0.534, 0.331, 0.371, 2.0, 9.7, 5.7, 21.4, 1.5, 1.8, 14.0, 19.7, 1.0, 0.8, 1.8, 0.064, -0.9, -1.4, -2.3, -0.1, 0], [\"Andrew Bogut\", 2328652, \"Australia\", 1, 33, \"LAL\", 23, 216, 10.9, 0.696, 0.0, 0.08, 12.9, 25.5, 19.3, 9.1, 0.9, 4.9, 42.3, 8.8, 0.1, 0.3, 0.4, 0.094, -3.6, 3.6, 0.0, 0.1, 0], [\"Alfonzo McKinnie\", 815615, \"USA\", 62, 25, \"TOR\", 13, 49, 9.2, 0.6629999999999999, 0.615, 0.231, 0.0, 13.5, 6.9, 2.9, 1.0, 1.6, 17.3, 15.5, 0.0, 0.1, 0.1, 0.076, -1.8, -1.5, -3.3, 0.0, 0], [\"Alex Poythress\", 778668, \"USA\", 62, 24, \"IND\", 24, 101, 8.5, 0.52, 0.44, 0.0, 7.9, 11.1, 9.5, 2.7, 1.5, 0.9, 7.4, 11.9, 0.1, 0.1, 0.2, 0.078, -1.8, -1.6, -3.5, 0.0, 0], [\"Abdel Nader\", 1167333, \"Egypt\", 58, 24, \"BOS\", 44, 463, 5.7, 0.46399999999999997, 0.47700000000000004, 0.26899999999999996, 2.4, 12.1, 7.3, 7.2, 1.4, 1.6, 17.1, 16.9, -0.6, 0.7, 0.0, 0.004, -5.3, 0.3, -5.0, -0.3, 0], [\"Aaron Harrison\", 83129, \"USA\", 62, 23, \"DAL\", 7, 164, 6.6, 0.41100000000000003, 0.644, 0.244, 1.3, 12.6, 6.8, 8.6, 2.1, 1.1, 3.9, 14.4, -0.1, 0.2, 0.1, 0.019, -3.2, 0.3, -2.9, 0.0, 0], [\"Aaron Brooks\", 2116955, \"USA\", 26, 33, \"MIN\", 31, 188, 10.1, 0.508, 0.449, 0.159, 4.3, 6.2, 5.2, 15.2, 1.6, 0.0, 11.9, 19.7, 0.1, 0.1, 0.2, 0.039, -0.5, -3.7, -4.1, -0.1, 0]], \"hoverlabel\": {\"namelength\": 0}, \"hovertemplate\": \"High Salary=%{customdata[28]}<br>Age=%{customdata[4]}<br>Player=%{customdata[0]}<br>Salary=%{customdata[1]}<br>NBA_Country=%{customdata[2]}<br>NBA_DraftNumber=%{customdata[3]}<br>Tm=%{customdata[5]}<br>G=%{customdata[6]}<br>MP=%{customdata[7]}<br>PER=%{customdata[8]}<br>TS%=%{customdata[9]}<br>3PAr=%{customdata[10]}<br>FTr=%{customdata[11]}<br>ORB%=%{customdata[12]}<br>DRB%=%{customdata[13]}<br>TRB%=%{customdata[14]}<br>AST%=%{customdata[15]}<br>STL%=%{customdata[16]}<br>BLK%=%{customdata[17]}<br>TOV%=%{customdata[18]}<br>USG%=%{customdata[19]}<br>OWS=%{customdata[20]}<br>DWS=%{customdata[21]}<br>WS=%{customdata[22]}<br>WS/48=%{customdata[23]}<br>OBPM=%{customdata[24]}<br>DBPM=%{customdata[25]}<br>BPM=%{customdata[26]}<br>VORP=%{customdata[27]}\", \"legendgroup\": \"High Salary=0\", \"marker\": {\"color\": \"#636efa\"}, \"name\": \"High Salary=0\", \"notched\": true, \"offsetgroup\": \"High Salary=0\", \"showlegend\": false, \"type\": \"box\", \"x\": [22, 22, 20, 24, 30, 23, 23, 27, 23, 23, 21, 23, 25, 37, 21, 28, 22, 23, 21, 23, 23, 22, 25, 24, 27, 20, 36, 26, 22, 27, 20, 20, 23, 19, 23, 24, 25, 20, 22, 21, 24, 21, 23, 24, 25, 26, 25, 23, 28, 28, 23, 31, 24, 23, 23, 26, 25, 24, 37, 26, 33, 25, 21, 31, 24, 27, 23, 22, 25, 23, 29, 25, 20, 24, 22, 23, 24, 37, 24, 26, 21, 24, 28, 29, 27, 26, 29, 26, 24, 29, 25, 30, 24, 20, 31, 23, 40, 19, 21, 28, 25, 22, 21, 28, 24, 25, 31, 25, 27, 22, 26, 24, 25, 21, 22, 22, 22, 22, 23, 21, 20, 22, 24, 29, 22, 24, 26, 22, 24, 36, 23, 29, 23, 24, 20, 26, 24, 25, 26, 25, 30, 23, 27, 31, 22, 21, 30, 40, 34, 19, 23, 26, 27, 25, 27, 24, 22, 23, 28, 20, 20, 22, 23, 26, 19, 26, 21, 22, 24, 24, 32, 20, 24, 25, 23, 20, 23, 23, 24, 26, 35, 30, 28, 22, 24, 21, 21, 22, 21, 21, 26, 23, 29, 20, 24, 23, 25, 21, 29, 23, 22, 25, 37, 26, 25, 27, 23, 30, 25, 23, 25, 38, 22, 22, 21, 23, 22, 21, 22, 23, 23, 20, 24, 22, 23, 25, 26, 28, 22, 33, 20, 32, 23, 21, 23, 33, 25, 24, 24, 23, 33], \"xaxis\": \"x2\", \"yaxis\": \"y2\"}, {\"alignmentgroup\": \"True\", \"bingroup\": \"x\", \"histnorm\": \"probability density\", \"hoverlabel\": {\"namelength\": 0}, \"hovertemplate\": \"High Salary=1<br>Age=%{x}<br>count of Salary=%{y}\", \"legendgroup\": \"High Salary=1\", \"marker\": {\"color\": \"#EF553B\"}, \"name\": \"High Salary=1\", \"offsetgroup\": \"High Salary=1\", \"orientation\": \"v\", \"showlegend\": true, \"type\": \"histogram\", \"x\": [33, 36, 30, 24, 27, 31, 30, 30, 41, 25, 35, 28, 25, 26, 26, 30, 32, 26, 35, 25, 31, 25, 29, 33, 26, 26, 32, 24, 29, 26, 27, 32, 28, 29, 29, 25, 31, 24, 29, 27, 27, 27, 31, 29, 32, 27, 37, 29, 28, 29, 32, 24, 31, 22, 27, 26, 24, 29, 32, 23, 35, 29, 32, 30, 29, 26, 30, 24, 25, 24, 27, 27, 31, 28, 19, 22, 23, 28, 31, 33, 33, 32, 31, 20, 33, 20, 26, 29, 27, 32, 25, 29, 27, 31, 36, 22, 23, 28, 27, 26, 29, 29, 24, 28, 28, 27, 26, 26, 22, 28, 23, 27, 32, 30, 20, 25, 28, 20, 25, 30, 28, 27, 27, 23, 36, 30, 30, 32, 28, 29, 29, 25, 29, 19, 21, 31, 32, 27, 30, 28, 35, 20, 37, 22, 27, 22, 32, 33, 33, 29, 28, 27, 31, 28, 25, 27, 28, 27, 31, 23, 31, 31, 19, 29, 25, 28, 30, 29, 28, 25, 21, 23, 28, 36, 26, 32, 27, 20, 26, 39, 26, 28, 34, 26, 20, 24, 31, 27, 28, 29, 20, 30, 29, 22, 30, 29, 21, 27, 30, 25, 32, 26, 31, 29, 25, 32, 34, 29, 33, 30, 26, 24, 29, 20, 30, 24, 28, 25, 29, 28, 25, 21, 24, 27, 25, 31, 32, 24, 22, 26, 34, 24, 30, 25, 27, 24, 24, 26, 25, 33, 31, 22], \"xaxis\": \"x\", \"y\": [3477600, 12307692, 12016854, 3704160, 3533333, 17884176, 5881260, 6270000, 8000000, 21000000, 13000000, 3290000, 5881260, 3408520, 16400000, 9125000, 7420912, 9821429, 15453126, 16000000, 15280000, 16500000, 14796348, 5250000, 10500000, 3290000, 14000000, 22471910, 34682550, 12236535, 6000000, 7692308, 20061729, 19578455, 28530608, 21974719, 8406000, 4328000, 13788500, 16698103, 14275000, 16000000, 3300000, 3853931, 31269231, 19508958, 16000000, 10714286, 5192000, 5513514, 7590035, 24773250, 10595505, 3505233, 12250000, 12500000, 3807146, 22434783, 5192000, 4187599, 3477600, 3949999, 10500000, 6000000, 12500000, 5000000, 28530608, 13000000, 9904495, 10162922, 9607500, 14041096, 13168750, 8000000, 7026240, 4078320, 4538020, 5000000, 6306060, 12782609, 22642350, 17190000, 7000000, 6286560, 33285709, 3821640, 6666667, 6655325, 4180000, 21461010, 18868625, 4666500, 4087500, 28703704, 7000000, 4503600, 4046760, 8393000, 17826150, 14100000, 22642350, 25000000, 17745894, 16910113, 12921348, 12000000, 10607169, 18868625, 6216840, 4615385, 4149242, 25686667, 5400000, 6021175, 5090040, 11562500, 6300000, 4186320, 15460675, 4000000, 10497319, 18063850, 11422536, 6100266, 9505000, 14136364, 3290000, 17765000, 19301070, 9000000, 12000000, 7000000, 19000000, 5645400, 4956480, 5225000, 10000000, 8533333, 13954000, 28299399, 4736050, 3355320, 10942762, 4995120, 6796117, 6782392, 13760000, 23000000, 3903900, 6000000, 6261395, 10337079, 16661641, 23775506, 23112004, 17884176, 14112360, 29727900, 17000450, 22471910, 20000000, 8000000, 3501120, 17131148, 17000000, 8445024, 6000000, 12943020, 14500000, 20566802, 3381480, 3332340, 6352531, 15550000, 9003125, 23500000, 16400000, 4468800, 3294994, 5000000, 11000000, 6000000, 4402546, 12000000, 3218280, 15500000, 14800000, 18063850, 27739975, 22642350, 4609200, 10000000, 7464912, 4992385, 10000000, 20559599, 5562360, 26153057, 7250000, 7843500, 11747890, 7630000, 7579366, 7300000, 12584270, 24599495, 7420912, 23112004, 26243760, 7936509, 23962573, 3675480, 22642350, 5519400, 5179760, 23775506, 10500000, 9470614, 7000000, 29512900, 17000000, 6168840, 5200000, 8808989, 11825000, 4328000, 3290000, 23775506, 7574322, 9259259, 14814815, 23775506, 11000000, 19332500, 7319035, 4187599, 5725000, 10845506, 6000000, 9769821, 27734405, 5504420], \"yaxis\": \"y\"}, {\"alignmentgroup\": \"True\", \"customdata\": [[\"Zaza Pachulia\", 3477600, \"Georgia\", 42, 33, \"GSW\", 66, 937, 16.8, 0.608, 0.004, 0.337, 11.0, 25.0, 18.5, 15.4, 1.9, 1.3, 19.3, 17.2, 1.7, 1.4, 3.1, 0.16, -0.6, 1.3, 0.8, 0.7, 1], [\"Zach Randolph\", 12307692, \"USA\", 19, 36, \"SAC\", 59, 1508, 17.3, 0.529, 0.193, 0.14, 7.0, 23.8, 15.0, 14.9, 1.4, 0.6, 12.5, 27.6, 0.3, 1.1, 1.4, 0.046, -0.6, -1.3, -1.9, 0.0, 1], [\"Wilson Chandler\", 12016854, \"USA\", 23, 30, \"DEN\", 70, 2200, 11.1, 0.5429999999999999, 0.39, 0.18600000000000003, 5.0, 14.0, 9.5, 9.7, 0.9, 1.4, 12.0, 14.6, 2.0, 1.0, 3.1, 0.067, -0.4, -0.6, -1.0, 0.5, 1], [\"Willie Cauley-Stein\", 3704160, \"USA\", 6, 24, \"SAC\", 70, 1943, 17.1, 0.523, 0.017, 0.32, 7.2, 21.7, 14.1, 13.5, 1.9, 3.1, 11.3, 21.6, 1.3, 2.0, 3.3, 0.08199999999999999, -1.6, 1.6, 0.0, 1.0, 1], [\"Will Barton\", 3533333, \"USA\", 40, 27, \"DEN\", 77, 2530, 15.9, 0.557, 0.409, 0.221, 2.9, 14.2, 8.6, 18.5, 1.6, 1.6, 11.8, 20.5, 3.9, 1.7, 5.6, 0.106, 1.4, -0.6, 0.8, 1.8, 1], [\"Wesley Matthews\", 17884176, \"USA\", 62, 31, \"DAL\", 63, 2131, 11.4, 0.541, 0.5770000000000001, 0.145, 1.4, 9.1, 5.2, 12.3, 1.8, 0.7, 10.1, 17.6, 1.0, 1.7, 2.7, 0.061, 0.2, -0.1, 0.2, 1.2, 1], [\"Wesley Johnson\", 5881260, \"USA\", 4, 30, \"LAC\", 70, 1422, 9.8, 0.512, 0.484, 0.157, 2.1, 14.0, 8.1, 5.3, 2.5, 3.6, 12.6, 13.0, -0.1, 1.8, 1.7, 0.055999999999999994, -2.2, 2.5, 0.3, 0.8, 1], [\"Wayne Ellington\", 6270000, \"USA\", 28, 30, \"MIA\", 74, 1962, 12.1, 0.5820000000000001, 0.83, 0.113, 1.2, 10.9, 6.1, 6.0, 1.3, 0.3, 6.9, 17.3, 2.3, 1.9, 4.1, 0.10099999999999999, 1.6, -1.7, -0.1, 0.9, 1], [\"Vince Carter\", 8000000, \"USA\", 5, 41, \"SAC\", 55, 971, 10.6, 0.519, 0.584, 0.126, 1.9, 14.9, 8.1, 9.3, 2.1, 2.5, 10.7, 14.7, 0.2, 0.8, 1.0, 0.051, -1.6, 0.4, -1.3, 0.2, 1], [\"Victor Oladipo\", 21000000, \"USA\", 2, 25, \"IND\", 72, 2471, 23.1, 0.5760000000000001, 0.324, 0.28, 2.1, 15.1, 8.7, 21.0, 3.4, 2.0, 12.6, 30.2, 4.2, 3.8, 8.0, 0.156, 3.5, 1.2, 4.7, 4.2, 1], [\"Tyson Chandler\", 13000000, \"USA\", 2, 35, \"PHO\", 46, 1151, 14.3, 0.657, 0.0, 0.503, 12.2, 26.9, 19.4, 6.6, 0.7, 1.9, 20.5, 10.6, 1.9, 0.8, 2.6, 0.11, -1.4, 1.0, -0.4, 0.5, 1], [\"Tyreke Evans\", 3290000, \"USA\", 4, 28, \"MEM\", 52, 1607, 21.2, 0.561, 0.354, 0.258, 3.1, 16.3, 9.5, 31.5, 1.8, 1.0, 11.5, 28.5, 3.0, 1.2, 4.3, 0.128, 4.5, -0.7, 3.7, 2.3, 1], [\"Tyler Johnson\", 5881260, \"USA\", 62, 25, \"MIA\", 69, 1964, 13.0, 0.55, 0.46, 0.18600000000000003, 1.8, 11.5, 6.6, 12.3, 1.4, 1.4, 9.4, 18.6, 1.9, 2.2, 4.0, 0.099, -0.1, -0.2, -0.4, 0.8, 1], [\"Troy Daniels\", 3408520, \"USA\", 62, 26, \"PHO\", 78, 1609, 10.0, 0.585, 0.7979999999999999, 0.11199999999999999, 0.8, 7.7, 4.2, 4.6, 0.7, 0.3, 8.3, 17.2, 1.5, 0.0, 1.5, 0.045, 0.8, -3.7, -2.8, -0.3, 1], [\"Tristan Thompson\", 16400000, \"Canada\", 4, 26, \"CLE\", 49, 1017, 13.7, 0.573, 0.0, 0.349, 13.3, 23.6, 18.5, 4.2, 0.8, 1.4, 12.2, 12.5, 1.7, 0.7, 2.4, 0.115, -1.6, -0.7, -2.3, -0.1, 1], [\"Trevor Booker\", 9125000, \"USA\", 23, 30, \"TOT\", 64, 1085, 14.8, 0.563, 0.08900000000000001, 0.275, 10.8, 18.7, 14.8, 11.0, 1.2, 1.5, 14.1, 16.5, 1.5, 1.2, 2.7, 0.12, -1.1, 0.6, -0.5, 0.4, 1], [\"Trevor Ariza\", 7420912, \"USA\", 43, 32, \"HOU\", 64, 2179, 12.1, 0.573, 0.713, 0.14300000000000002, 1.7, 13.0, 7.4, 6.9, 2.1, 0.5, 7.0, 14.4, 2.7, 2.6, 5.3, 0.11699999999999999, 1.0, 0.6, 1.7, 2.0, 1], [\"Tony Snell\", 9821429, \"USA\", 20, 26, \"MIL\", 71, 1955, 8.4, 0.584, 0.63, 0.11599999999999999, 0.5, 7.3, 4.0, 6.5, 1.2, 1.1, 7.7, 10.5, 1.6, 0.7, 2.3, 0.055999999999999994, -0.4, -1.3, -1.7, 0.2, 1], [\"Tony Parker\", 15453126, \"France\", 28, 35, \"SAS\", 52, 1020, 13.1, 0.499, 0.094, 0.198, 0.6, 9.3, 4.9, 29.0, 1.4, 0.1, 13.4, 20.6, 0.4, 1.1, 1.5, 0.07200000000000001, -2.1, -1.6, -3.8, -0.5, 1], [\"Tobias Harris\", 16000000, \"USA\", 19, 25, \"TOT\", 76, 2546, 17.4, 0.569, 0.369, 0.17800000000000002, 2.4, 15.6, 8.9, 11.6, 1.3, 1.1, 7.2, 23.2, 4.3, 2.5, 6.7, 0.127, 1.7, -0.7, 1.0, 1.9, 1], [\"Timofey Mozgov\", 15280000, \"Russia\", 62, 31, \"BRK\", 28, 339, 10.2, 0.589, 0.212, 0.294, 8.7, 18.7, 13.6, 3.6, 0.7, 2.4, 24.4, 16.2, -0.1, 0.3, 0.2, 0.026000000000000002, -4.8, -0.6, -5.4, -0.3, 1], [\"Tim Hardaway\", 16500000, \"USA\", 24, 25, \"NYK\", 56, 1856, 14.4, 0.531, 0.47600000000000003, 0.209, 1.9, 11.2, 6.6, 12.5, 1.6, 0.5, 9.0, 23.8, 1.5, 1.0, 2.5, 0.065, 1.6, -1.9, -0.2, 0.8, 1], [\"Thaddeus Young\", 14796348, \"USA\", 12, 29, \"IND\", 78, 2544, 14.7, 0.528, 0.212, 0.10400000000000001, 7.9, 14.1, 11.1, 8.4, 2.5, 1.2, 10.5, 17.3, 2.1, 3.1, 5.2, 0.099, 0.1, 1.3, 1.4, 2.2, 1], [\"Thabo Sefolosha\", 5250000, \"Switzerland\", 13, 33, \"UTA\", 38, 806, 15.9, 0.591, 0.35, 0.225, 4.1, 18.5, 11.4, 6.4, 3.2, 1.3, 10.2, 16.4, 1.0, 1.6, 2.6, 0.153, -0.3, 2.2, 1.8, 0.8, 1], [\"Terrence Ross\", 10500000, \"USA\", 8, 26, \"ORL\", 22, 576, 10.3, 0.515, 0.48, 0.198, 1.9, 11.6, 6.7, 8.9, 2.3, 1.2, 11.5, 16.6, -0.1, 0.5, 0.5, 0.038, -1.8, 0.1, -1.7, 0.0, 1], [\"Tarik Black\", 3290000, \"USA\", 62, 26, \"HOU\", 48, 474, 14.9, 0.589, 0.078, 0.478, 14.4, 19.9, 17.1, 3.8, 2.1, 4.7, 18.7, 15.9, 0.6, 0.9, 1.4, 0.14400000000000002, -2.6, 2.0, -0.5, 0.2, 1], [\"Taj Gibson\", 14000000, \"USA\", 26, 32, \"MIN\", 78, 2613, 15.4, 0.615, 0.05, 0.253, 8.0, 16.5, 12.2, 5.3, 1.1, 1.8, 9.9, 14.6, 5.3, 1.5, 6.8, 0.124, 1.0, 0.1, 1.2, 2.1, 1], [\"Steven Adams\", 22471910, \"New Zealand\", 12, 24, \"OKC\", 73, 2390, 20.8, 0.628, 0.003, 0.397, 16.9, 13.9, 15.5, 5.5, 1.9, 2.9, 13.3, 16.7, 6.4, 2.9, 9.3, 0.187, 2.2, 1.2, 3.4, 3.3, 1], [\"Stephen Curry\", 34682550, \"USA\", 7, 29, \"GSW\", 51, 1631, 28.2, 0.675, 0.58, 0.35, 2.7, 14.4, 8.9, 30.2, 2.4, 0.4, 13.3, 31.0, 7.2, 1.9, 9.2, 0.27, 9.8, -1.2, 8.6, 4.4, 1], [\"Solomon Hill\", 12236535, \"USA\", 23, 26, \"NOP\", 8, 127, 6.8, 0.385, 0.563, 0.125, 4.4, 12.4, 8.6, 16.9, 1.5, 0.6, 12.9, 13.2, -0.1, 0.1, 0.0, 0.01, -3.1, -0.5, -3.6, -0.1, 1], [\"Shelvin Mack\", 6000000, \"USA\", 34, 27, \"ORL\", 65, 1283, 13.7, 0.526, 0.332, 0.244, 1.9, 11.9, 6.8, 29.3, 1.9, 0.5, 16.4, 17.5, 1.1, 1.0, 2.0, 0.076, -1.0, -1.2, -2.2, -0.1, 1], [\"Shaun Livingston\", 7692308, \"USA\", 4, 32, \"GSW\", 68, 1081, 11.6, 0.539, 0.012, 0.17600000000000002, 3.6, 8.9, 6.4, 16.5, 1.5, 1.5, 13.8, 16.5, 0.9, 1.0, 1.8, 0.08199999999999999, -2.5, -0.8, -3.3, -0.4, 1], [\"Serge Ibaka\", 20061729, \"Democratic Re_\", 24, 28, \"TOR\", 73, 2010, 14.5, 0.569, 0.381, 0.155, 4.3, 21.2, 12.9, 4.4, 0.7, 3.7, 9.6, 19.4, 1.9, 2.8, 4.8, 0.114, -0.9, 0.5, -0.4, 0.8, 1], [\"Ryan Anderson\", 19578455, \"USA\", 21, 29, \"HOU\", 66, 1725, 12.6, 0.5920000000000001, 0.706, 0.19399999999999998, 6.2, 15.4, 10.8, 5.1, 0.7, 1.0, 7.5, 14.4, 3.1, 1.6, 4.7, 0.131, 1.1, -0.8, 0.2, 1.0, 1], [\"Russell Westbrook\", 28530608, \"USA\", 4, 29, \"OKC\", 77, 2801, 25.0, 0.528, 0.19399999999999998, 0.33899999999999997, 5.4, 25.3, 15.0, 49.4, 2.5, 0.6, 16.4, 34.3, 5.5, 4.3, 9.8, 0.168, 5.2, 3.0, 8.2, 7.2, 1], [\"Rudy Gobert\", 21974719, \"France\", 27, 25, \"UTA\", 52, 1702, 20.9, 0.659, 0.0, 0.682, 10.3, 27.5, 19.0, 6.7, 1.2, 6.1, 15.5, 16.9, 4.0, 3.6, 7.6, 0.214, -0.3, 4.5, 4.2, 2.7, 1], [\"Rudy Gay\", 8406000, \"USA\", 8, 31, \"SAS\", 54, 1160, 17.8, 0.545, 0.21899999999999997, 0.268, 6.7, 19.5, 13.1, 9.5, 1.9, 2.6, 11.6, 24.5, 0.9, 2.0, 2.9, 0.121, -0.8, 1.0, 0.2, 0.6, 1], [\"Ron Baker\", 4328000, \"USA\", 62, 24, \"NYK\", 29, 385, 9.3, 0.504, 0.5589999999999999, 0.441, 1.4, 7.2, 4.3, 15.5, 3.3, 1.4, 20.4, 10.0, 0.1, 0.4, 0.5, 0.059000000000000004, -1.9, 0.9, -1.0, 0.1, 1], [\"Robin Lopez\", 13788500, \"USA\", 15, 29, \"CHI\", 64, 1690, 14.7, 0.552, 0.022000000000000002, 0.14, 8.2, 10.2, 9.2, 12.3, 0.4, 2.8, 13.5, 20.4, 1.2, 0.8, 2.0, 0.057, -1.6, -0.2, -1.9, 0.1, 1], [\"Robert Covington\", 16698103, \"USA\", 62, 27, \"PHI\", 76, 2408, 12.8, 0.562, 0.6559999999999999, 0.162, 2.5, 15.3, 9.1, 8.7, 2.6, 2.2, 12.3, 17.5, 1.5, 4.2, 5.7, 0.113, 0.4, 2.0, 2.4, 2.7, 1], [\"Ricky Rubio\", 14275000, \"Spain\", 5, 27, \"UTA\", 73, 2185, 15.0, 0.5329999999999999, 0.33, 0.307, 2.2, 15.2, 8.8, 28.3, 2.6, 0.4, 18.3, 22.8, 1.2, 3.5, 4.7, 0.10300000000000001, -0.1, 1.5, 1.3, 1.8, 1], [\"Reggie Jackson\", 16000000, \"USA\", 24, 27, \"DET\", 41, 1084, 15.5, 0.516, 0.294, 0.231, 2.7, 9.3, 5.9, 32.1, 1.1, 0.3, 14.3, 27.4, 0.7, 0.9, 1.6, 0.069, 0.5, -2.1, -1.6, 0.1, 1], [\"Rajon Rondo\", 3300000, \"USA\", 21, 31, \"NOP\", 61, 1591, 14.9, 0.519, 0.303, 0.094, 2.0, 14.4, 8.4, 41.6, 1.8, 0.5, 22.6, 16.8, 1.7, 1.5, 3.2, 0.095, -0.6, -0.9, -1.5, 0.2, 1], [\"Quincy Pondexter\", 3853931, \"USA\", 26, 29, \"CHI\", 23, 196, 4.0, 0.39799999999999996, 0.449, 0.34700000000000003, 4.2, 10.7, 7.4, 6.3, 2.0, 0.9, 16.3, 15.0, -0.3, 0.1, -0.2, -0.046, -6.1, -0.6, -6.6, -0.2, 1], [\"Paul Millsap\", 31269231, \"USA\", 47, 32, \"DEN\", 34, 1008, 18.2, 0.564, 0.258, 0.36, 6.3, 18.3, 12.3, 14.6, 1.9, 3.3, 12.9, 22.4, 1.5, 1.0, 2.5, 0.12, 0.6, 0.8, 1.4, 0.9, 1], [\"Paul George\", 19508958, \"USA\", 10, 27, \"OKC\", 76, 2779, 18.4, 0.5660000000000001, 0.447, 0.3, 2.7, 15.0, 8.7, 14.7, 2.8, 1.2, 12.3, 25.6, 4.5, 3.8, 8.3, 0.14300000000000002, 2.3, 0.1, 2.4, 3.1, 1], [\"Pau Gasol\", 16000000, \"Spain\", 3, 37, \"SAS\", 74, 1753, 19.0, 0.54, 0.18899999999999997, 0.331, 7.9, 30.3, 19.0, 20.0, 0.6, 3.7, 13.3, 20.7, 2.6, 3.2, 5.8, 0.158, -0.2, 3.3, 3.1, 2.3, 1], [\"Patty Mills\", 10714286, \"Australia\", 55, 29, \"SAS\", 79, 2018, 12.1, 0.562, 0.606, 0.17800000000000002, 1.4, 7.0, 4.1, 16.1, 1.3, 0.5, 12.4, 17.8, 2.1, 2.1, 4.2, 0.099, 1.0, -1.3, -0.2, 0.9, 1], [\"Patrick Patterson\", 5192000, \"USA\", 14, 28, \"OKC\", 79, 1234, 9.7, 0.545, 0.638, 0.165, 2.7, 14.5, 8.4, 5.8, 1.9, 1.7, 10.3, 10.8, 1.0, 1.4, 2.4, 0.092, -1.8, 0.3, -1.5, 0.2, 1], [\"Patrick Beverley\", 5513514, \"USA\", 42, 29, \"LAC\", 11, 334, 12.3, 0.53, 0.504, 0.14300000000000002, 5.4, 9.4, 7.4, 13.8, 2.6, 1.2, 16.5, 19.6, 0.1, 0.3, 0.4, 0.057, 0.4, 0.3, 0.7, 0.2, 1], [\"P.J. Tucker\", 7590035, \"USA\", 35, 32, \"HOU\", 78, 2170, 8.4, 0.537, 0.6920000000000001, 0.145, 4.6, 17.4, 11.0, 4.6, 1.8, 0.9, 13.3, 10.3, 1.0, 2.8, 3.8, 0.083, -1.3, 1.5, 0.2, 1.2, 1], [\"Otto Porter\", 24773250, \"USA\", 3, 24, \"WAS\", 74, 2349, 18.4, 0.601, 0.35700000000000004, 0.145, 4.7, 18.0, 11.4, 10.0, 2.4, 1.4, 7.1, 18.4, 4.9, 3.0, 7.9, 0.161, 2.5, 1.1, 3.6, 3.3, 1], [\"Omer Asik\", 10595505, \"Turkey\", 36, 31, \"NOP\", 14, 121, 4.5, 0.423, 0.0, 0.75, 6.5, 26.1, 16.6, 2.0, 0.4, 1.3, 19.0, 9.4, -0.1, 0.1, 0.0, 0.006, -7.4, -0.8, -8.2, -0.2, 1], [\"Noah Vonleh\", 3505233, \"USA\", 9, 22, \"TOT\", 54, 875, 12.8, 0.509, 0.282, 0.248, 8.6, 30.1, 19.2, 5.7, 1.1, 1.6, 10.7, 14.5, 0.5, 1.2, 1.7, 0.091, -3.4, 0.3, -3.1, -0.2, 1], [\"Nikola Vucevic\", 12250000, \"Montenegro\", 16, 27, \"ORL\", 54, 1619, 19.7, 0.536, 0.25, 0.115, 6.6, 27.6, 17.0, 19.3, 1.6, 2.9, 11.1, 25.9, 1.3, 2.2, 3.5, 0.10400000000000001, 0.6, 2.0, 2.6, 1.9, 1], [\"Nikola Mirotic\", 12500000, \"Montenegro\", 23, 26, \"TOT\", 51, 1352, 17.8, 0.5670000000000001, 0.525, 0.21, 4.1, 24.0, 14.1, 8.7, 1.4, 2.2, 8.0, 23.2, 1.6, 1.5, 3.2, 0.113, 0.9, -0.8, 0.1, 0.7, 1], [\"Nik Stauskas\", 3807146, \"Canada\", 8, 24, \"TOT\", 37, 459, 9.1, 0.5539999999999999, 0.669, 0.165, 0.7, 12.6, 6.6, 10.1, 0.8, 0.5, 13.4, 15.5, 0.1, 0.2, 0.3, 0.035, -2.0, -1.8, -3.9, -0.2, 1], [\"Nicolas Batum\", 22434783, \"France\", 25, 29, \"CHO\", 61, 1918, 14.3, 0.518, 0.42200000000000004, 0.204, 3.0, 13.8, 8.3, 26.0, 1.6, 1.0, 15.0, 18.2, 1.6, 1.7, 3.3, 0.08199999999999999, 0.8, 0.4, 1.2, 1.6, 1], [\"Nick Young\", 5192000, \"USA\", 16, 32, \"GSW\", 76, 1307, 10.1, 0.562, 0.669, 0.12300000000000001, 1.8, 7.5, 4.8, 3.5, 1.3, 0.4, 7.3, 18.0, 0.7, 0.9, 1.6, 0.059000000000000004, -0.2, -3.4, -3.7, -0.5, 1], [\"Nerlens Noel\", 4187599, \"USA\", 6, 23, \"DAL\", 30, 472, 16.2, 0.5579999999999999, 0.01, 0.267, 11.0, 29.1, 19.8, 6.3, 3.3, 4.1, 18.1, 13.8, 0.4, 1.0, 1.3, 0.13699999999999998, -3.4, 4.6, 1.2, 0.4, 1], [\"Nene Hilario\", 3477600, \"Brazil\", 7, 35, \"HOU\", 50, 732, 17.0, 0.604, 0.009000000000000001, 0.442, 8.1, 18.5, 13.3, 9.6, 1.8, 1.6, 11.7, 19.0, 1.6, 1.0, 2.6, 0.17, -1.2, 0.6, -0.6, 0.3, 1], [\"Nemanja Bjelica\", 3949999, \"Serbia\", 35, 29, \"MIN\", 63, 1286, 12.9, 0.598, 0.49, 0.13, 4.2, 19.1, 11.6, 8.6, 1.7, 1.0, 12.0, 14.3, 1.7, 1.0, 2.7, 0.1, 0.8, -0.2, 0.6, 0.8, 1], [\"Mirza Teletovic\", 10500000, \"Bosnia\", 62, 32, \"MIL\", 10, 159, 13.5, 0.623, 0.789, 0.0, 2.2, 14.8, 8.5, 9.5, 1.3, 0.5, 10.9, 18.2, 0.2, 0.1, 0.3, 0.09, 1.6, -3.3, -1.7, 0.0, 1], [\"Milos Teodosic\", 6000000, \"Serbia\", 62, 30, \"LAC\", 45, 1134, 11.7, 0.564, 0.644, 0.128, 1.6, 10.5, 6.1, 26.2, 1.0, 0.4, 20.3, 18.2, 0.9, 0.5, 1.4, 0.061, 0.7, -2.0, -1.3, 0.2, 1], [\"Miles Plumlee\", 12500000, \"USA\", 26, 29, \"ATL\", 52, 888, 10.7, 0.57, 0.0, 0.32799999999999996, 9.6, 18.5, 14.0, 7.3, 0.9, 2.9, 23.7, 13.1, 0.1, 0.7, 0.8, 0.042, -3.9, 1.4, -2.5, -0.1, 1], [\"Mike Muscala\", 5000000, \"USA\", 44, 26, \"ATL\", 50, 984, 14.6, 0.599, 0.526, 0.203, 6.0, 18.3, 12.2, 7.0, 1.5, 2.3, 11.0, 15.8, 1.4, 0.9, 2.3, 0.11199999999999999, 0.0, 0.2, 0.2, 0.6, 1], [\"Mike Conley\", 28530608, \"USA\", 4, 30, \"MEM\", 12, 373, 15.5, 0.52, 0.45799999999999996, 0.39299999999999996, 0.0, 8.6, 4.2, 22.3, 1.6, 0.8, 8.4, 25.9, 0.4, 0.2, 0.6, 0.079, 1.2, -3.4, -2.2, 0.0, 1], [\"Michael Kidd-Gilchrist\", 13000000, \"USA\", 2, 24, \"CHO\", 71, 1778, 12.6, 0.534, 0.004, 0.29600000000000004, 4.9, 13.2, 9.0, 6.0, 1.3, 1.5, 7.6, 16.4, 1.6, 1.5, 3.1, 0.083, -2.1, 0.3, -1.8, 0.1, 1], [\"Meyers Leonard\", 9904495, \"USA\", 11, 25, \"POR\", 30, 237, 16.8, 0.6609999999999999, 0.33299999999999996, 0.139, 5.1, 24.2, 14.8, 10.6, 1.3, 0.0, 11.6, 16.0, 0.6, 0.3, 0.9, 0.18100000000000002, 0.6, -0.3, 0.3, 0.1, 1], [\"Maurice Harkless\", 10162922, \"USA\", 15, 24, \"POR\", 59, 1264, 12.6, 0.596, 0.397, 0.19899999999999998, 4.0, 9.9, 7.0, 6.0, 1.9, 2.8, 11.0, 12.6, 1.6, 1.6, 3.2, 0.122, -0.2, 2.0, 1.8, 1.2, 1], [\"Matthew Dellavedova\", 9607500, \"Australia\", 62, 27, \"MIL\", 37, 702, 8.7, 0.506, 0.517, 0.168, 2.2, 8.4, 5.3, 27.3, 1.0, 0.0, 23.1, 13.4, 0.3, 0.2, 0.5, 0.034, -2.2, -3.6, -5.8, -0.7, 1], [\"Mason Plumlee\", 14041096, \"USA\", 22, 27, \"DEN\", 70, 1373, 16.8, 0.5820000000000001, 0.003, 0.48, 10.3, 21.0, 15.6, 14.6, 1.7, 4.7, 18.8, 16.6, 1.7, 1.6, 3.3, 0.115, -1.0, 2.6, 1.6, 1.3, 1], [\"Marvin Williams\", 13168750, \"USA\", 2, 31, \"CHO\", 75, 1941, 13.3, 0.593, 0.537, 0.223, 3.9, 16.4, 10.0, 6.7, 1.3, 1.5, 9.7, 14.5, 2.7, 1.8, 4.5, 0.11, 0.7, 0.4, 1.1, 1.5, 1], [\"Markieff Morris\", 8000000, \"USA\", 13, 28, \"WAS\", 69, 1872, 13.3, 0.573, 0.298, 0.18100000000000002, 4.3, 19.3, 11.8, 10.8, 1.4, 1.8, 15.2, 19.3, 1.1, 2.0, 3.2, 0.081, -1.0, 0.6, -0.4, 0.8, 1], [\"Markelle Fultz\", 7026240, \"USA\", 1, 19, \"PHI\", 10, 176, 10.3, 0.40399999999999997, 0.013999999999999999, 0.233, 4.5, 10.0, 7.4, 27.6, 1.6, 1.4, 11.1, 22.0, -0.1, 0.2, 0.1, 0.025, -4.7, -0.5, -5.1, -0.1, 1], [\"Mario Hezonja\", 4078320, \"Croatia\", 5, 22, \"ORL\", 71, 1544, 13.6, 0.544, 0.43700000000000006, 0.162, 2.7, 16.0, 9.3, 9.4, 2.4, 1.6, 11.4, 19.8, 0.4, 1.7, 2.1, 0.065, -1.1, 0.2, -0.9, 0.4, 1], [\"Marcus Smart\", 4538020, \"USA\", 6, 23, \"BOS\", 54, 1614, 10.8, 0.479, 0.483, 0.258, 3.0, 9.8, 6.4, 23.9, 2.2, 1.2, 18.4, 19.5, -0.6, 2.5, 1.9, 0.057, -1.6, 1.2, -0.4, 0.7, 1], [\"Marcus Morris\", 5000000, \"USA\", 14, 28, \"BOS\", 52, 1398, 14.8, 0.547, 0.385, 0.255, 3.4, 18.7, 11.2, 8.0, 1.2, 0.7, 8.8, 23.0, 1.2, 2.1, 3.3, 0.115, -0.9, -0.5, -1.4, 0.2, 1], [\"Marco Belinelli\", 6306060, \"Italy\", 18, 31, \"TOT\", 76, 1838, 14.0, 0.581, 0.508, 0.21600000000000003, 1.1, 7.1, 4.1, 11.9, 1.6, 0.4, 10.1, 20.3, 2.2, 1.2, 3.4, 0.08900000000000001, 0.7, -2.2, -1.5, 0.2, 1], [\"Marcin Gortat\", 12782609, \"Poland\", 57, 33, \"WAS\", 78, 1967, 14.9, 0.55, 0.0, 0.299, 9.8, 24.1, 17.0, 10.8, 1.0, 2.6, 13.5, 15.6, 2.4, 2.3, 4.7, 0.11599999999999999, -1.5, 1.9, 0.4, 1.2, 1], [\"Marc Gasol\", 22642350, \"Spain\", 48, 33, \"MEM\", 72, 2374, 17.3, 0.531, 0.309, 0.33, 3.6, 25.4, 14.2, 21.5, 1.1, 4.0, 14.1, 25.7, 1.3, 2.6, 4.0, 0.08, -0.2, 1.7, 1.5, 2.1, 1], [\"Luol Deng\", 17190000, \"United Kingdo...\", 7, 32, \"LAL\", 1, 13, 5.5, 0.5, 0.0, 0.0, 0.0, 0.0, 0.0, 10.1, 3.7, 0.0, 33.3, 9.8, 0.0, 0.0, 0.0, -0.019, -7.2, -1.4, -8.6, 0.0, 1], [\"Lou Williams\", 7000000, \"USA\", 45, 31, \"LAC\", 77, 2527, 20.5, 0.575, 0.391, 0.36, 1.8, 6.7, 4.3, 26.5, 1.6, 0.6, 13.1, 29.9, 5.6, 1.3, 6.9, 0.131, 3.9, -2.7, 1.2, 2.1, 1], [\"Lonzo Ball\", 6286560, \"USA\", 2, 20, \"LAL\", 52, 1780, 12.5, 0.444, 0.523, 0.126, 4.2, 17.3, 10.8, 29.0, 2.4, 2.0, 18.6, 17.4, -0.5, 2.5, 2.0, 0.053, -0.8, 2.4, 1.6, 1.6, 1], [\"LeBron James\", 33285709, \"USA\", 1, 33, \"CLE\", 78, 2898, 28.5, 0.62, 0.254, 0.33, 3.6, 22.3, 13.1, 44.0, 1.9, 2.1, 15.9, 31.4, 10.4, 3.0, 13.4, 0.222, 7.5, 2.2, 9.7, 8.6, 1], [\"Lauri Markkanen\", 3821640, \"Finland\", 7, 20, \"CHI\", 65, 1949, 15.3, 0.551, 0.466, 0.188, 3.9, 23.6, 13.4, 6.2, 0.9, 1.8, 8.1, 21.7, 1.5, 1.6, 3.2, 0.078, -0.7, -1.2, -1.9, 0.0, 1], [\"Langston Galloway\", 6666667, \"USA\", 62, 26, \"DET\", 54, 782, 12.3, 0.509, 0.648, 0.11199999999999999, 1.7, 10.2, 5.8, 10.3, 1.9, 0.6, 5.1, 19.0, 0.5, 0.8, 1.4, 0.083, -0.1, -1.5, -1.6, 0.1, 1], [\"Lance Thomas\", 6655325, \"USA\", 62, 29, \"NYK\", 70, 1302, 6.4, 0.512, 0.47600000000000003, 0.21, 3.7, 10.5, 7.1, 4.3, 1.1, 0.9, 12.4, 10.5, 0.2, 0.6, 0.8, 0.031, -2.1, -0.5, -2.6, -0.2, 1], [\"Lance Stephenson\", 4180000, \"USA\", 40, 27, \"IND\", 78, 1747, 12.4, 0.501, 0.321, 0.17300000000000001, 3.7, 21.2, 12.6, 18.4, 1.2, 0.8, 15.1, 21.8, -0.2, 1.9, 1.6, 0.045, -1.9, -0.2, -2.1, -0.1, 1], [\"LaMarcus Aldridge\", 21461010, \"USA\", 2, 32, \"SAS\", 72, 2416, 25.2, 0.573, 0.07, 0.303, 10.8, 17.1, 14.0, 11.5, 0.8, 3.0, 6.9, 29.1, 7.3, 3.4, 10.8, 0.214, 3.1, 0.3, 3.4, 3.3, 1], [\"Kyrie Irving\", 18868625, \"Australia\", 1, 25, \"BOS\", 60, 1931, 25.1, 0.61, 0.374, 0.24, 1.9, 10.8, 6.4, 30.9, 1.7, 0.7, 10.4, 31.1, 6.3, 2.7, 9.0, 0.22399999999999998, 7.0, -0.6, 6.4, 4.1, 1], [\"Kyle Singler\", 4666500, \"USA\", 33, 29, \"OKC\", 12, 59, 5.9, 0.43, 0.23800000000000002, 0.619, 1.8, 17.5, 9.4, 4.8, 0.8, 0.0, 10.1, 21.6, -0.1, 0.0, 0.0, -0.03, -7.6, -4.2, -11.8, -0.1, 1], [\"Kyle O'Quinn\", 4087500, \"USA\", 49, 27, \"NYK\", 73, 1289, 19.4, 0.623, 0.037000000000000005, 0.33899999999999997, 9.0, 28.0, 18.6, 16.9, 1.3, 6.0, 19.3, 17.0, 2.3, 1.9, 4.2, 0.157, -0.2, 4.2, 4.0, 2.0, 1], [\"Kyle Lowry\", 28703704, \"USA\", 24, 31, \"TOR\", 74, 2387, 19.6, 0.6, 0.63, 0.28300000000000003, 3.1, 16.1, 9.7, 30.4, 1.7, 0.5, 14.5, 21.6, 6.8, 2.9, 9.7, 0.195, 5.5, 0.4, 5.8, 4.7, 1], [\"Kyle Korver\", 7000000, \"USA\", 51, 36, \"CLE\", 70, 1516, 13.5, 0.6509999999999999, 0.779, 0.149, 0.7, 10.8, 5.8, 8.0, 0.9, 1.5, 9.1, 16.1, 2.8, 0.6, 3.4, 0.107, 2.2, -2.2, 0.1, 0.8, 1], [\"Kristaps Porzingis\", 4503600, \"Latvia\", 4, 22, \"NYK\", 48, 1553, 20.4, 0.539, 0.256, 0.309, 4.5, 18.1, 11.3, 6.3, 1.1, 6.4, 8.4, 31.0, 1.4, 1.8, 3.2, 0.1, -0.4, -0.2, -0.6, 0.5, 1], [\"Kris Dunn\", 4046760, \"USA\", 5, 23, \"CHI\", 52, 1525, 14.5, 0.488, 0.201, 0.17300000000000001, 1.6, 14.3, 7.8, 33.3, 3.3, 1.6, 17.3, 24.7, -1.0, 1.9, 0.9, 0.027999999999999997, -1.4, 1.4, 0.0, 0.8, 1], [\"Kosta Koufos\", 8393000, \"USA\", 23, 28, \"SAC\", 71, 1391, 17.5, 0.5660000000000001, 0.0, 0.19, 11.7, 27.8, 19.3, 9.7, 1.7, 2.2, 10.4, 15.2, 2.3, 1.5, 3.8, 0.132, -0.9, 1.2, 0.4, 0.8, 1], [\"Klay Thompson\", 17826150, \"USA\", 11, 27, \"GSW\", 69, 2369, 16.1, 0.601, 0.442, 0.087, 1.4, 10.3, 6.2, 11.5, 1.1, 1.1, 9.7, 23.4, 3.0, 1.8, 4.9, 0.098, 1.8, -2.2, -0.4, 1.0, 1], [\"Khris Middleton\", 14100000, \"USA\", 39, 26, \"MIL\", 78, 2857, 17.4, 0.579, 0.327, 0.282, 1.7, 15.2, 8.5, 17.6, 2.0, 0.6, 11.8, 24.5, 4.4, 2.2, 6.6, 0.111, 1.6, -1.2, 0.4, 1.7, 1], [\"Kevin Love\", 22642350, \"USA\", 5, 29, \"CLE\", 56, 1556, 22.4, 0.608, 0.441, 0.36700000000000005, 7.2, 30.3, 18.9, 9.6, 1.3, 1.3, 9.6, 25.3, 4.3, 1.6, 5.9, 0.183, 2.4, -1.4, 1.0, 1.2, 1], [\"Kevin Durant\", 25000000, \"USA\", 2, 29, \"GSW\", 64, 2196, 26.2, 0.643, 0.337, 0.331, 1.7, 19.4, 11.2, 25.3, 1.0, 4.2, 12.9, 30.3, 7.2, 2.9, 10.1, 0.221, 5.0, 0.9, 5.9, 4.4, 1], [\"Kentavious Caldwell-Pope\", 17745894, \"USA\", 8, 24, \"LAL\", 70, 2377, 13.5, 0.57, 0.523, 0.25, 2.6, 14.4, 8.5, 9.3, 2.1, 0.5, 9.9, 16.9, 2.8, 2.6, 5.4, 0.109, 0.9, 0.4, 1.2, 1.9, 1], [\"Kent Bazemore\", 16910113, \"USA\", 62, 28, \"ATL\", 65, 1789, 14.5, 0.547, 0.405, 0.297, 1.6, 13.9, 7.7, 20.1, 2.7, 2.2, 17.0, 22.5, 0.2, 1.9, 2.2, 0.059000000000000004, -0.6, 1.1, 0.4, 1.1, 1], [\"Kenneth Faried\", 12921348, \"USA\", 22, 28, \"DEN\", 32, 461, 17.4, 0.552, 0.006999999999999999, 0.345, 16.7, 20.8, 18.7, 5.8, 1.3, 2.4, 11.9, 18.2, 0.9, 0.4, 1.3, 0.13, -1.1, -1.2, -2.3, 0.0, 1], [\"Kemba Walker\", 12000000, \"USA\", 9, 27, \"CHO\", 77, 2663, 20.7, 0.5710000000000001, 0.441, 0.307, 1.2, 8.8, 4.9, 27.5, 1.6, 0.8, 10.3, 27.5, 6.3, 2.0, 8.3, 0.15, 5.1, -1.9, 3.3, 3.5, 1], [\"Kelly Olynyk\", 10607169, \"Canada\", 13, 26, \"MIA\", 73, 1720, 18.0, 0.615, 0.44, 0.27, 5.6, 21.4, 13.5, 18.8, 1.8, 1.7, 17.0, 21.6, 2.8, 2.6, 5.5, 0.153, 1.8, 1.4, 3.2, 2.2, 1], [\"Kawhi Leonard\", 18868625, \"USA\", 15, 26, \"SAS\", 9, 210, 26.0, 0.5720000000000001, 0.315, 0.342, 3.1, 19.1, 11.1, 17.7, 4.3, 3.6, 11.1, 30.6, 0.3, 0.5, 0.9, 0.19699999999999998, 2.7, 3.2, 5.9, 0.4, 1], [\"Karl-Anthony Towns\", 6216840, \"USA\", 1, 22, \"MIN\", 78, 2770, 24.8, 0.645, 0.249, 0.35100000000000003, 9.3, 30.9, 20.0, 10.7, 1.1, 3.5, 10.8, 22.9, 9.8, 3.1, 13.0, 0.225, 4.3, 1.0, 5.3, 5.1, 1], [\"Justin Holiday\", 4615385, \"USA\", 62, 28, \"CHI\", 69, 2180, 10.9, 0.518, 0.574, 0.21100000000000002, 1.5, 12.6, 6.8, 9.9, 1.7, 1.3, 9.8, 18.0, 0.4, 1.6, 1.9, 0.043, -0.9, -0.2, -1.1, 0.5, 1], [\"Julius Randle\", 4149242, \"USA\", 7, 23, \"LAL\", 78, 2099, 19.8, 0.605, 0.05, 0.46799999999999997, 8.8, 22.8, 15.8, 15.6, 0.9, 1.7, 16.1, 25.2, 3.8, 2.4, 6.3, 0.14400000000000002, 0.3, 0.5, 0.8, 1.5, 1], [\"Jrue Holiday\", 25686667, \"USA\", 17, 27, \"NOP\", 77, 2788, 17.4, 0.5660000000000001, 0.28800000000000003, 0.193, 2.3, 10.9, 6.8, 24.5, 1.9, 1.7, 13.6, 23.2, 3.6, 2.6, 6.3, 0.10800000000000001, 1.6, 0.2, 1.7, 2.6, 1], [\"Josh Smith\", 5400000, \"USA\", 17, 32, \"NOP\", 3, 12, 3.5, 0.25, 0.0, 0.0, 28.1, 8.8, 18.1, 0.0, 0.0, 0.0, 0.0, 14.4, 0.0, 0.0, 0.0, -0.015, -6.0, -7.4, -13.4, 0.0, 1], [\"Josh McRoberts\", 6021175, \"USA\", 37, 30, \"DAL\", 2, 6, -12.5, 0.0, 1.0, 0.0, 0.0, 0.0, 0.0, 0.0, 0.0, 0.0, 0.0, 7.6, 0.0, 0.0, 0.0, -0.18899999999999997, -9.8, -2.3, -12.1, 0.0, 1], [\"Josh Jackson\", 5090040, \"USA\", 4, 20, \"PHO\", 76, 1929, 11.8, 0.48200000000000004, 0.235, 0.29600000000000004, 4.8, 14.2, 9.4, 10.2, 1.9, 1.4, 12.2, 25.7, -1.8, 1.2, -0.6, -0.016, -3.1, -1.3, -4.3, -1.1, 1], [\"Jordan Clarkson\", 11562500, \"USA\", 46, 25, \"TOT\", 77, 1819, 16.7, 0.5429999999999999, 0.337, 0.20199999999999999, 3.3, 9.2, 6.3, 19.4, 1.5, 0.3, 10.8, 26.6, 1.9, 1.1, 3.1, 0.081, 0.9, -2.6, -1.7, 0.1, 1], [\"Jonathon Simmons\", 6300000, \"USA\", 62, 28, \"ORL\", 69, 2029, 12.8, 0.555, 0.268, 0.317, 3.3, 9.7, 6.5, 13.3, 1.4, 0.6, 14.4, 21.9, 0.8, 1.1, 2.0, 0.046, -1.0, -1.3, -2.3, -0.2, 1], [\"Jonathan Isaac\", 4186320, \"USA\", 6, 20, \"ORL\", 27, 536, 9.8, 0.465, 0.317, 0.172, 3.3, 17.2, 10.2, 4.8, 3.0, 4.5, 14.8, 15.0, -0.6, 0.8, 0.2, 0.022000000000000002, -4.9, 3.1, -1.8, 0.0, 1], [\"Jonas Valanciunas\", 15460675, \"Lithuania\", 5, 25, \"TOR\", 74, 1657, 22.3, 0.625, 0.10800000000000001, 0.31, 12.2, 30.3, 21.4, 7.6, 0.9, 3.1, 12.9, 22.7, 4.4, 2.8, 7.2, 0.207, 0.7, 0.7, 1.5, 1.5, 1], [\"Jonas Jerebko\", 4000000, \"Sweden\", 39, 30, \"UTA\", 70, 1069, 13.0, 0.573, 0.45, 0.171, 5.5, 19.5, 12.6, 5.9, 1.1, 0.9, 6.5, 15.6, 1.6, 1.5, 3.1, 0.138, -0.6, -0.3, -0.9, 0.3, 1], [\"Jon Leuer\", 10497319, \"USA\", 40, 28, \"DET\", 8, 136, 8.9, 0.505, 0.083, 0.41700000000000004, 5.5, 20.7, 13.0, 5.3, 0.4, 2.0, 14.1, 16.1, 0.0, 0.1, 0.1, 0.052000000000000005, -5.6, -0.3, -5.9, -0.1, 1], [\"John Wall\", 18063850, \"USA\", 1, 27, \"WAS\", 39, 1335, 18.5, 0.507, 0.249, 0.358, 1.9, 9.9, 5.9, 43.6, 1.9, 2.7, 16.6, 29.0, 1.0, 1.3, 2.3, 0.08199999999999999, 1.2, -0.2, 0.9, 1.0, 1], [\"John Henson\", 11422536, \"USA\", 14, 27, \"MIL\", 72, 1869, 15.8, 0.5870000000000001, 0.015, 0.318, 9.1, 21.6, 15.4, 8.5, 1.1, 4.8, 13.4, 15.1, 2.7, 2.0, 4.7, 0.12, -1.3, 1.8, 0.5, 1.2, 1], [\"Joel Embiid\", 6100266, \"Cameroon\", 3, 23, \"PHI\", 63, 1912, 22.9, 0.573, 0.203, 0.442, 8.4, 29.8, 19.5, 18.2, 1.0, 4.8, 15.6, 33.5, 2.3, 3.9, 6.2, 0.156, 0.2, 2.6, 2.7, 2.3, 1], [\"Joe Johnson\", 9505000, \"USA\", 10, 36, \"TOT\", 51, 1129, 8.4, 0.494, 0.40399999999999997, 0.124, 1.4, 14.7, 8.1, 10.2, 0.8, 0.5, 11.6, 16.0, -0.2, 1.2, 0.9, 0.04, -3.3, -0.4, -3.7, -0.5, 1], [\"Joe Ingles\", 14136364, \"Australia\", 62, 30, \"UTA\", 78, 2461, 14.3, 0.622, 0.652, 0.115, 1.1, 14.1, 7.7, 22.4, 1.8, 0.6, 17.3, 16.0, 3.7, 3.3, 7.0, 0.13699999999999998, 2.0, 0.9, 2.9, 3.1, 1], [\"Jodie Meeks\", 3290000, \"USA\", 41, 30, \"WAS\", 74, 1087, 12.3, 0.545, 0.528, 0.3, 1.6, 11.3, 6.5, 9.1, 1.3, 0.3, 8.0, 18.9, 1.1, 0.7, 1.9, 0.083, -0.5, -2.4, -2.9, -0.2, 1], [\"Joakim Noah\", 17765000, \"USA\", 9, 32, \"NYK\", 7, 40, 15.6, 0.51, 0.0, 0.4, 16.7, 22.1, 19.4, 14.0, 2.5, 4.3, 25.4, 17.2, 0.0, 0.1, 0.1, 0.071, -2.3, 3.3, 1.0, 0.0, 1], [\"Jimmy Butler\", 19301070, \"USA\", 30, 28, \"MIN\", 56, 2077, 23.5, 0.589, 0.22, 0.446, 4.1, 12.9, 8.5, 20.7, 2.6, 1.0, 8.9, 24.7, 6.8, 1.6, 8.4, 0.19399999999999998, 4.8, 0.0, 4.9, 3.6, 1], [\"Jerryd Bayless\", 9000000, \"USA\", 11, 29, \"PHI\", 39, 925, 7.6, 0.546, 0.557, 0.168, 1.8, 7.3, 4.7, 8.1, 1.2, 0.5, 14.1, 15.1, 0.2, 0.9, 1.1, 0.055, -1.8, -0.9, -2.7, -0.2, 1], [\"Jeremy Lin\", 12000000, \"USA\", 62, 29, \"BRK\", 1, 25, 16.0, 0.597, 0.16699999999999998, 0.583, 0.0, 0.0, 0.0, 27.3, 0.0, 0.0, 16.6, 31.3, 0.0, 0.0, 0.0, 0.087, -3.0, -10.4, -13.4, -0.1, 1], [\"Jeremy Lamb\", 7000000, \"USA\", 12, 25, \"CHO\", 77, 1901, 17.0, 0.557, 0.307, 0.255, 2.7, 15.7, 9.1, 15.4, 1.5, 1.4, 9.2, 22.6, 2.8, 1.8, 4.7, 0.11800000000000001, 1.1, -0.2, 0.8, 1.4, 1], [\"Jeff Teague\", 19000000, \"USA\", 19, 29, \"MIN\", 66, 2166, 16.1, 0.55, 0.28600000000000003, 0.303, 1.2, 9.4, 5.3, 30.5, 2.2, 0.9, 16.8, 20.4, 3.0, 1.3, 4.3, 0.095, 1.4, -1.3, 0.1, 1.1, 1], [\"Jayson Tatum\", 5645400, \"USA\", 3, 19, \"BOS\", 78, 2383, 15.1, 0.586, 0.293, 0.308, 2.2, 15.7, 9.1, 8.3, 1.6, 2.0, 10.8, 19.4, 2.9, 3.9, 6.9, 0.138, -0.6, 1.6, 0.9, 1.8, 1], [\"Jaylen Brown\", 4956480, \"USA\", 3, 21, \"BOS\", 67, 2062, 13.3, 0.556, 0.376, 0.287, 3.6, 14.3, 9.0, 8.4, 1.6, 1.0, 12.0, 21.0, 1.0, 3.2, 4.2, 0.098, -0.8, 0.6, -0.2, 0.9, 1], [\"Jason Smith\", 5225000, \"USA\", 20, 31, \"WAS\", 31, 276, 8.2, 0.444, 0.27699999999999997, 0.17, 7.4, 13.9, 10.7, 7.6, 0.5, 3.8, 11.7, 21.9, -0.3, 0.2, -0.1, -0.009000000000000001, -5.1, -1.2, -6.3, -0.3, 1], [\"Jared Dudley\", 10000000, \"USA\", 22, 32, \"PHO\", 45, 626, 8.7, 0.5539999999999999, 0.682, 0.264, 1.3, 13.4, 7.3, 16.2, 1.7, 1.2, 17.5, 10.1, 0.4, 0.3, 0.8, 0.057999999999999996, -1.8, -0.2, -2.0, 0.0, 1], [\"JaMychal Green\", 8533333, \"USA\", 62, 27, \"MEM\", 55, 1542, 14.0, 0.53, 0.26, 0.22699999999999998, 10.8, 24.4, 17.4, 8.3, 1.1, 1.5, 12.4, 17.9, 1.3, 1.3, 2.6, 0.081, -1.1, -0.2, -1.3, 0.3, 1], [\"James Johnson\", 13954000, \"USA\", 16, 30, \"MIA\", 70, 1873, 15.9, 0.575, 0.308, 0.26, 3.6, 17.2, 10.4, 22.7, 1.9, 2.2, 17.1, 19.0, 2.2, 2.8, 4.9, 0.126, 0.1, 1.9, 2.0, 1.9, 1], [\"James Harden\", 28299399, \"USA\", 3, 28, \"HOU\", 69, 2449, 30.2, 0.619, 0.499, 0.498, 1.8, 15.4, 8.6, 44.8, 2.5, 1.7, 14.7, 36.2, 11.4, 3.6, 15.0, 0.294, 9.8, 1.3, 11.1, 8.1, 1], [\"Jameer Nelson\", 4736050, \"USA\", 20, 35, \"TOT\", 50, 1013, 8.2, 0.489, 0.508, 0.08199999999999999, 1.4, 9.5, 5.6, 23.0, 1.3, 0.3, 21.0, 13.7, -0.1, 0.6, 0.6, 0.027000000000000003, -2.6, -1.5, -4.1, -0.5, 1], [\"Jamal Murray\", 3355320, \"Canada\", 7, 20, \"DEN\", 77, 2414, 16.2, 0.5770000000000001, 0.414, 0.23800000000000002, 3.6, 9.7, 6.6, 16.3, 1.6, 0.9, 13.0, 22.9, 4.0, 1.2, 5.1, 0.102, 1.8, -2.1, -0.2, 1.1, 1], [\"Jamal Crawford\", 10942762, \"USA\", 8, 37, \"MIN\", 76, 1566, 13.5, 0.527, 0.425, 0.154, 1.3, 5.5, 3.4, 17.1, 1.2, 0.4, 10.8, 24.2, 1.1, 0.3, 1.3, 0.040999999999999995, 0.3, -4.3, -3.9, -0.8, 1], [\"Jahlil Okafor\", 4995120, \"USA\", 3, 22, \"TOT\", 28, 353, 15.4, 0.584, 0.028999999999999998, 0.21, 6.3, 19.4, 12.8, 5.9, 0.4, 3.9, 12.2, 21.0, 0.3, 0.3, 0.6, 0.083, -3.7, -0.7, -4.4, -0.2, 1], [\"Jae Crowder\", 6796117, \"USA\", 34, 27, \"TOT\", 76, 2007, 10.3, 0.531, 0.506, 0.226, 3.1, 11.4, 7.3, 6.9, 1.5, 0.8, 9.5, 16.9, 1.0, 1.5, 2.5, 0.06, -0.8, -1.0, -1.8, 0.1, 1], [\"Jabari Parker\", 6782392, \"USA\", 2, 22, \"MIL\", 27, 621, 17.3, 0.5589999999999999, 0.254, 0.16399999999999998, 5.3, 16.4, 10.9, 13.7, 1.6, 1.4, 10.0, 23.3, 0.7, 0.5, 1.2, 0.094, 0.1, -1.6, -1.6, 0.1, 1], [\"J.R. Smith\", 13760000, \"USA\", 18, 32, \"CLE\", 76, 2152, 8.5, 0.534, 0.645, 0.098, 1.5, 10.0, 5.8, 8.6, 1.5, 0.4, 11.6, 13.8, 0.5, 0.9, 1.4, 0.031, -0.6, -1.0, -1.6, 0.2, 1], [\"J.J. Redick\", 23000000, \"USA\", 11, 33, \"PHI\", 67, 2021, 15.6, 0.612, 0.524, 0.244, 0.5, 8.3, 4.5, 15.2, 0.8, 0.2, 9.8, 21.5, 4.4, 1.8, 6.1, 0.146, 2.4, -2.5, -0.1, 1.0, 1], [\"J.J. Barea\", 3903900, \"Puerto Rico\", 62, 33, \"DAL\", 69, 1603, 17.8, 0.545, 0.45399999999999996, 0.14800000000000002, 1.0, 13.3, 7.0, 45.1, 1.1, 0.2, 16.3, 24.9, 2.3, 1.1, 3.3, 0.1, 2.4, -2.2, 0.2, 0.9, 1], [\"Ish Smith\", 6000000, \"USA\", 62, 29, \"DET\", 78, 1966, 15.0, 0.517, 0.115, 0.151, 1.5, 10.8, 6.1, 28.0, 1.5, 0.9, 11.1, 20.7, 2.0, 2.0, 4.0, 0.098, -0.9, -0.6, -1.5, 0.3, 1], [\"Isaiah Thomas\", 6261395, \"USA\", 60, 28, \"TOT\", 32, 862, 12.6, 0.508, 0.447, 0.311, 2.2, 6.3, 4.2, 27.0, 0.8, 0.3, 16.6, 28.8, -0.1, 0.3, 0.2, 0.008, -0.9, -4.3, -5.2, -0.7, 1], [\"Iman Shumpert\", 10337079, \"USA\", 17, 27, \"CLE\", 14, 276, 6.4, 0.48, 0.44799999999999995, 0.259, 2.9, 13.6, 8.3, 8.1, 1.6, 1.2, 19.9, 13.0, -0.2, 0.2, 0.0, -0.006, -3.9, -0.1, -4.0, -0.1, 1], [\"Ian Mahinmi\", 16661641, \"France\", 28, 31, \"WAS\", 74, 1096, 12.9, 0.614, 0.008, 0.523, 13.7, 17.0, 15.4, 6.9, 1.7, 3.2, 24.4, 15.6, 1.0, 1.4, 2.4, 0.10400000000000001, -1.7, 1.7, -0.1, 0.5, 1], [\"Hassan Whiteside\", 23775506, \"USA\", 33, 28, \"MIA\", 51, 1303, 24.1, 0.578, 0.004, 0.33, 14.2, 36.9, 25.6, 6.8, 1.4, 5.8, 12.8, 24.4, 2.2, 3.0, 5.2, 0.19, -2.1, 2.4, 0.2, 0.7, 1], [\"Harrison Barnes\", 23112004, \"USA\", 7, 25, \"DAL\", 75, 2561, 16.0, 0.542, 0.272, 0.262, 3.2, 17.2, 10.0, 10.0, 1.0, 0.5, 8.2, 25.2, 2.1, 1.9, 4.0, 0.075, -0.6, -1.2, -1.8, 0.1, 1], [\"Greg Monroe\", 17884176, \"USA\", 7, 27, \"TOT\", 47, 951, 20.2, 0.586, 0.0, 0.303, 11.8, 25.2, 18.4, 16.8, 2.0, 1.7, 17.9, 22.4, 1.3, 1.4, 2.7, 0.134, -0.5, 1.9, 1.3, 0.8, 1], [\"Gorgui Dieng\", 14112360, \"Senegal\", 21, 28, \"MIN\", 75, 1281, 14.2, 0.536, 0.147, 0.266, 8.8, 22.2, 15.4, 7.6, 1.7, 2.5, 12.4, 16.2, 1.3, 1.2, 2.5, 0.096, -1.3, 0.6, -0.7, 0.4, 1], [\"Gordon Hayward\", 29727900, \"USA\", 9, 27, \"BOS\", 1, 5, 7.4, 0.5, 0.5, 0.0, 0.0, 21.6, 11.0, 0.0, 0.0, 0.0, 0.0, 17.9, 0.0, 0.0, 0.0, 0.057, -5.9, -6.0, -11.9, 0.0, 1], [\"Goran Dragic\", 17000450, \"Slovenia\", 45, 31, \"MIA\", 73, 2324, 16.8, 0.544, 0.281, 0.255, 2.6, 12.0, 7.3, 25.4, 1.3, 0.4, 12.1, 25.8, 3.0, 2.4, 5.4, 0.111, 1.2, -1.1, 0.1, 1.2, 1], [\"Giannis Antetokounmpo\", 22471910, \"Greece\", 15, 23, \"MIL\", 73, 2698, 27.7, 0.603, 0.099, 0.465, 6.8, 25.1, 16.0, 23.7, 1.9, 3.3, 11.6, 31.3, 8.6, 3.5, 12.1, 0.214, 4.2, 1.8, 5.9, 5.4, 1], [\"George Hill\", 20000000, \"USA\", 26, 31, \"TOT\", 65, 1783, 13.2, 0.581, 0.39899999999999997, 0.273, 2.6, 8.9, 5.7, 14.9, 1.6, 1.3, 13.2, 16.4, 2.3, 0.8, 3.1, 0.083, 0.3, -1.0, -0.7, 0.6, 1], [\"Garrett Temple\", 8000000, \"USA\", 62, 31, \"SAC\", 65, 1615, 10.2, 0.536, 0.47700000000000004, 0.16399999999999998, 1.5, 9.6, 5.4, 11.2, 1.8, 1.6, 13.4, 16.4, 0.3, 0.8, 1.1, 0.033, -1.3, -0.7, -2.0, 0.0, 1], [\"Frank Ntilikina\", 3501120, \"France\", 8, 19, \"NYK\", 74, 1566, 6.5, 0.429, 0.313, 0.15, 2.3, 9.2, 5.8, 19.8, 1.9, 0.9, 20.5, 17.0, -2.1, 1.0, -1.2, -0.036000000000000004, -3.9, -0.5, -4.4, -0.9, 1], [\"Evan Turner\", 17131148, \"USA\", 2, 29, \"POR\", 75, 1910, 9.9, 0.519, 0.22399999999999998, 0.195, 1.7, 11.5, 6.6, 12.4, 1.0, 1.1, 13.5, 15.7, 0.6, 1.8, 2.4, 0.06, -2.4, 0.3, -2.1, 0.0, 1], [\"Evan Fournier\", 17000000, \"France\", 20, 25, \"ORL\", 57, 1837, 15.6, 0.5770000000000001, 0.418, 0.21600000000000003, 1.4, 9.5, 5.4, 14.8, 1.3, 0.7, 9.8, 23.3, 2.5, 0.9, 3.4, 0.08900000000000001, 1.6, -2.1, -0.4, 0.7, 1], [\"E'Twaun Moore\", 8445024, \"USA\", 55, 28, \"NOP\", 78, 2468, 11.9, 0.5870000000000001, 0.364, 0.079, 2.5, 7.5, 5.1, 10.0, 1.5, 0.4, 10.7, 16.2, 2.4, 1.5, 3.9, 0.075, 0.5, -0.8, -0.4, 1.0, 1], [\"Ersan Ilyasova\", 6000000, \"Turkey\", 36, 30, \"TOT\", 65, 1627, 14.5, 0.555, 0.414, 0.21600000000000003, 7.6, 17.5, 12.6, 7.6, 1.7, 1.2, 9.7, 18.4, 1.9, 1.7, 3.6, 0.106, 0.0, -0.2, -0.2, 0.7, 1], [\"Eric Gordon\", 12943020, \"USA\", 7, 29, \"HOU\", 68, 2127, 15.3, 0.58, 0.623, 0.251, 1.3, 7.6, 4.5, 11.6, 1.0, 1.1, 10.8, 24.8, 3.0, 1.7, 4.7, 0.106, 1.5, -2.5, -1.0, 0.6, 1], [\"Eric Bledsoe\", 14500000, \"USA\", 18, 28, \"TOT\", 70, 2209, 19.3, 0.5770000000000001, 0.364, 0.318, 2.6, 11.5, 7.1, 24.9, 3.2, 1.5, 16.1, 26.3, 2.6, 2.3, 4.9, 0.107, 2.2, -0.4, 1.8, 2.1, 1], [\"Enes Kanter\", 20566802, \"Turkey\", 3, 25, \"NYK\", 71, 1830, 24.0, 0.63, 0.003, 0.258, 16.6, 30.6, 23.7, 9.5, 1.0, 1.8, 13.3, 21.8, 5.5, 2.1, 7.6, 0.198, 2.5, 0.1, 2.6, 2.1, 1], [\"Emmanuel Mudiay\", 3381480, \"Democratic Re...\", 7, 21, \"TOT\", 63, 1237, 11.6, 0.47600000000000003, 0.281, 0.24600000000000002, 2.4, 11.3, 6.8, 24.6, 1.6, 0.8, 16.2, 24.4, -0.7, 0.7, 0.0, 0.0, -2.5, -2.2, -4.7, -0.8, 1], [\"Elfrid Payton\", 3332340, \"USA\", 10, 23, \"TOT\", 63, 1808, 16.6, 0.5379999999999999, 0.138, 0.252, 3.8, 12.8, 8.3, 34.9, 2.2, 1.0, 18.5, 21.8, 1.4, 1.4, 2.9, 0.076, 0.1, 0.0, 0.1, 1.0, 1], [\"Ed Davis\", 6352531, \"USA\", 13, 28, \"POR\", 76, 1439, 15.8, 0.61, 0.003, 0.387, 13.9, 28.6, 21.3, 4.0, 1.1, 2.9, 15.8, 12.2, 2.6, 2.4, 5.0, 0.168, -1.6, 1.7, 0.1, 0.8, 1], [\"Dwyane Wade\", 15550000, \"USA\", 5, 36, \"TOT\", 64, 1476, 15.5, 0.506, 0.163, 0.281, 3.8, 14.7, 9.3, 23.7, 1.9, 2.6, 15.5, 26.1, -0.2, 1.5, 1.4, 0.045, -2.1, 0.5, -1.7, 0.1, 1], [\"Dwight Powell\", 9003125, \"Canada\", 45, 26, \"DAL\", 76, 1587, 18.7, 0.6609999999999999, 0.17300000000000001, 0.43, 8.9, 21.1, 14.8, 8.1, 2.0, 1.7, 10.6, 15.4, 4.4, 2.0, 6.4, 0.193, 1.1, 1.6, 2.7, 1.9, 1], [\"Dwight Howard\", 23500000, \"USA\", 1, 32, \"CHO\", 78, 2384, 20.5, 0.578, 0.008, 0.642, 10.9, 33.4, 21.9, 7.1, 1.0, 4.5, 15.2, 24.3, 2.8, 3.7, 6.4, 0.13, -2.0, 1.7, -0.3, 1.0, 1], [\"Draymond Green\", 16400000, \"USA\", 35, 27, \"GSW\", 66, 2171, 16.4, 0.555, 0.409, 0.28, 4.1, 21.1, 13.2, 29.1, 2.0, 3.2, 21.8, 17.1, 2.8, 3.4, 6.2, 0.138, 0.6, 2.9, 3.5, 3.0, 1], [\"Dragan Bender\", 4468800, \"Croatia\", 4, 20, \"PHO\", 79, 1957, 6.6, 0.512, 0.6659999999999999, 0.105, 1.9, 16.2, 8.9, 9.0, 0.5, 2.1, 18.3, 12.6, -0.9, 0.7, -0.2, -0.006, -3.0, 0.0, -3.0, -0.5, 1], [\"Doug McDermott\", 3294994, \"USA\", 11, 26, \"TOT\", 79, 1724, 10.5, 0.579, 0.42, 0.16399999999999998, 2.6, 10.2, 6.3, 6.6, 0.5, 0.8, 9.4, 15.0, 1.7, 0.6, 2.3, 0.064, -0.7, -1.7, -2.4, -0.2, 1], [\"Dirk Nowitzki\", 5000000, \"Germany\", 9, 39, \"DAL\", 77, 1900, 16.7, 0.575, 0.445, 0.142, 1.3, 25.1, 12.8, 10.4, 1.1, 2.1, 6.0, 20.5, 2.6, 2.2, 4.9, 0.12300000000000001, 0.1, 0.3, 0.4, 1.2, 1], [\"Dion Waiters\", 11000000, \"USA\", 4, 26, \"MIA\", 30, 918, 10.5, 0.48700000000000004, 0.415, 0.168, 1.0, 8.5, 4.7, 19.8, 1.3, 0.8, 13.7, 25.0, -0.7, 0.9, 0.1, 0.006, -2.1, -1.9, -4.0, -0.5, 1], [\"Dewayne Dedmon\", 6000000, \"USA\", 62, 28, \"ATL\", 59, 1458, 15.7, 0.599, 0.301, 0.166, 7.4, 28.1, 17.8, 9.2, 1.3, 2.7, 14.8, 17.1, 1.6, 1.7, 3.3, 0.11, -1.1, 1.5, 0.4, 0.9, 1], [\"Devin Harris\", 4402546, \"USA\", 5, 34, \"TOT\", 67, 1272, 12.8, 0.561, 0.493, 0.384, 1.0, 9.8, 5.3, 16.7, 1.8, 0.8, 13.0, 20.1, 1.4, 0.9, 2.3, 0.087, -0.3, -1.6, -1.8, 0.0, 1], [\"Derrick Favors\", 12000000, \"USA\", 3, 26, \"UTA\", 73, 2044, 18.8, 0.594, 0.084, 0.319, 10.6, 18.4, 14.5, 8.0, 1.3, 3.2, 10.3, 18.5, 4.3, 3.2, 7.5, 0.17600000000000002, 0.4, 2.1, 2.5, 2.4, 1], [\"Dennis Smith\", 3218280, \"USA\", 9, 20, \"DAL\", 67, 1978, 12.8, 0.475, 0.33299999999999996, 0.18899999999999997, 2.6, 11.8, 7.1, 29.0, 1.7, 0.7, 15.0, 29.1, -2.3, 1.7, -0.7, -0.017, -1.5, -0.7, -2.2, -0.1, 1], [\"Dennis Schroder\", 15500000, \"Germany\", 17, 24, \"ATL\", 67, 2078, 17.3, 0.515, 0.22899999999999998, 0.231, 2.4, 8.8, 5.6, 36.4, 1.7, 0.2, 12.7, 30.4, 1.6, 1.0, 2.6, 0.06, 1.5, -2.2, -0.7, 0.7, 1], [\"DeMarre Carroll\", 14800000, \"USA\", 27, 31, \"BRK\", 73, 2180, 14.3, 0.55, 0.498, 0.313, 5.0, 18.4, 11.7, 10.6, 1.3, 1.0, 10.3, 19.8, 2.3, 1.8, 4.1, 0.09, 0.5, -0.2, 0.2, 1.2, 1], [\"DeMarcus Cousins\", 18063850, \"USA\", 5, 27, \"NOP\", 48, 1737, 22.7, 0.583, 0.34, 0.456, 6.8, 31.0, 19.3, 23.2, 2.2, 3.5, 18.9, 31.9, 1.5, 3.2, 4.7, 0.129, 2.0, 3.6, 5.6, 3.3, 1], [\"DeMar DeRozan\", 27739975, \"USA\", 9, 28, \"TOR\", 77, 2616, 21.3, 0.5579999999999999, 0.20199999999999999, 0.39899999999999997, 2.4, 10.4, 6.5, 24.8, 1.6, 0.6, 9.5, 29.7, 6.8, 2.6, 9.5, 0.174, 2.9, -0.9, 2.0, 2.6, 1], [\"DeAndre Jordan\", 22642350, \"USA\", 35, 29, \"LAC\", 73, 2321, 20.2, 0.6509999999999999, 0.0, 0.541, 15.0, 37.6, 26.5, 7.1, 0.8, 2.5, 16.3, 15.2, 5.8, 3.5, 9.2, 0.191, 0.5, 1.8, 2.3, 2.5, 1], [\"De'Aaron Fox\", 4609200, \"USA\", 5, 20, \"SAC\", 70, 1928, 11.2, 0.47700000000000004, 0.188, 0.242, 1.6, 9.7, 5.5, 24.5, 1.8, 1.0, 16.1, 23.2, -1.5, 0.9, -0.6, -0.015, -2.8, -1.6, -4.4, -1.2, 1], [\"Darren Collison\", 10000000, \"USA\", 21, 30, \"IND\", 65, 1929, 18.9, 0.613, 0.327, 0.235, 2.1, 7.6, 4.9, 26.3, 2.3, 0.7, 11.2, 17.4, 5.6, 1.8, 7.3, 0.182, 3.2, -1.0, 2.2, 2.0, 1], [\"Darrell Arthur\", 7464912, \"USA\", 27, 29, \"DEN\", 19, 141, 8.4, 0.5589999999999999, 0.489, 0.064, 2.4, 9.6, 6.0, 9.3, 2.8, 1.8, 23.7, 19.5, -0.2, 0.1, 0.0, -0.012, -3.5, -1.1, -4.6, -0.1, 1], [\"Dante Exum\", 4992385, \"Australia\", 5, 22, \"UTA\", 10, 148, 21.9, 0.63, 0.203, 0.35600000000000004, 1.6, 11.4, 6.5, 32.9, 2.0, 0.6, 15.0, 24.4, 0.4, 0.2, 0.6, 0.21, 2.2, -1.1, 1.1, 0.1, 1], [\"Danny Green\", 10000000, \"USA\", 46, 30, \"SAS\", 67, 1742, 11.5, 0.51, 0.5720000000000001, 0.114, 2.6, 12.9, 7.7, 9.0, 1.7, 3.8, 11.0, 16.5, 0.1, 2.8, 3.0, 0.081, -1.0, 2.3, 1.3, 1.5, 1], [\"Danilo Gallinari\", 20559599, \"Italy\", 6, 29, \"LAC\", 21, 671, 13.9, 0.545, 0.434, 0.34, 1.5, 14.8, 8.3, 8.9, 0.9, 1.2, 8.1, 20.6, 0.8, 0.4, 1.3, 0.091, 0.0, -1.3, -1.3, 0.1, 1], [\"D'Angelo Russell\", 5562360, \"USA\", 2, 21, \"BRK\", 44, 1124, 15.5, 0.506, 0.39799999999999996, 0.209, 2.7, 14.2, 8.4, 35.6, 1.4, 1.1, 16.2, 30.7, -0.4, 0.8, 0.4, 0.017, 0.8, -1.0, -0.2, 0.5, 1], [\"Damian Lillard\", 26153057, \"USA\", 6, 27, \"POR\", 70, 2558, 25.1, 0.594, 0.444, 0.38299999999999995, 2.6, 10.9, 6.8, 30.9, 1.5, 0.9, 11.1, 30.4, 9.5, 2.6, 12.1, 0.22699999999999998, 7.6, -0.8, 6.8, 5.7, 1], [\"D.J. Augustin\", 7250000, \"USA\", 9, 30, \"ORL\", 71, 1679, 15.4, 0.613, 0.512, 0.359, 1.9, 8.3, 5.1, 24.1, 1.5, 0.0, 16.1, 18.4, 3.2, 0.8, 4.0, 0.115, 1.6, -2.4, -0.8, 0.5, 1], [\"Cristiano Felicio\", 7843500, \"Brazil\", 62, 25, \"CHI\", 51, 856, 12.3, 0.619, 0.005, 0.34600000000000003, 8.8, 16.7, 12.6, 8.6, 0.6, 1.1, 17.5, 13.4, 1.1, 0.5, 1.6, 0.08800000000000001, -2.3, -0.2, -2.5, -0.1, 1], [\"Courtney Lee\", 11747890, \"USA\", 22, 32, \"NYK\", 73, 2226, 12.9, 0.56, 0.366, 0.171, 1.4, 9.1, 5.3, 11.4, 1.8, 0.6, 9.6, 16.9, 2.5, 1.2, 3.7, 0.079, 0.7, -0.7, 0.0, 1.1, 1], [\"Cory Joseph\", 7630000, \"Canada\", 29, 26, \"IND\", 78, 2108, 11.2, 0.505, 0.315, 0.161, 2.1, 11.6, 6.9, 15.9, 1.8, 0.7, 11.2, 14.6, 1.3, 1.9, 3.3, 0.07400000000000001, -1.1, 0.1, -1.0, 0.6, 1], [\"Corey Brewer\", 7579366, \"USA\", 7, 31, \"TOT\", 69, 1121, 11.1, 0.535, 0.331, 0.297, 3.7, 10.3, 7.0, 7.7, 3.2, 1.1, 12.8, 14.3, 0.6, 1.5, 2.1, 0.08900000000000001, -1.8, 1.0, -0.8, 0.3, 1], [\"Cole Aldrich\", 7300000, \"USA\", 11, 29, \"MIN\", 19, 46, 5.2, 0.34, 0.0, 0.4, 7.5, 25.4, 16.4, 5.9, 2.2, 1.9, 5.4, 17.9, -0.1, 0.1, 0.0, -0.033, -7.4, -0.6, -8.0, -0.1, 1], [\"Cody Zeller\", 12584270, \"USA\", 4, 25, \"CHO\", 33, 627, 16.0, 0.602, 0.019, 0.545, 11.3, 19.4, 15.3, 7.4, 1.1, 2.8, 14.6, 15.7, 1.2, 0.7, 1.9, 0.14400000000000002, -0.7, 1.2, 0.5, 0.4, 1], [\"Chris Paul\", 24599495, \"USA\", 4, 32, \"HOU\", 55, 1753, 24.3, 0.601, 0.475, 0.28800000000000003, 2.3, 17.0, 9.7, 40.7, 2.6, 0.7, 12.7, 24.3, 7.0, 2.6, 9.6, 0.262, 6.0, 1.0, 7.0, 4.0, 1], [\"Channing Frye\", 7420912, \"USA\", 8, 34, \"TOT\", 50, 643, 14.2, 0.626, 0.544, 0.078, 1.9, 19.8, 11.0, 7.5, 1.3, 1.8, 7.8, 14.9, 1.0, 0.5, 1.6, 0.11800000000000001, -0.1, -0.9, -1.0, 0.2, 1], [\"Chandler Parsons\", 23112004, \"USA\", 38, 29, \"MEM\", 36, 691, 13.7, 0.578, 0.517, 0.115, 2.3, 13.1, 7.5, 16.5, 1.3, 1.5, 12.5, 18.3, 0.7, 0.4, 1.1, 0.079, 0.3, -1.5, -1.2, 0.1, 1], [\"Carmelo Anthony\", 26243760, \"USA\", 3, 33, \"OKC\", 75, 2413, 12.7, 0.502, 0.40399999999999997, 0.162, 2.9, 17.8, 10.1, 6.4, 0.9, 1.8, 7.4, 23.3, 1.1, 2.4, 3.5, 0.069, -2.0, -2.0, -3.9, -1.2, 1], [\"C.J. Miles\", 7936509, \"USA\", 34, 30, \"TOR\", 66, 1251, 13.2, 0.55, 0.764, 0.154, 1.6, 10.9, 6.3, 5.7, 1.4, 1.2, 5.7, 22.1, 1.4, 1.3, 2.8, 0.106, 1.9, -2.4, -0.5, 0.5, 1], [\"C.J. McCollum\", 23962573, \"USA\", 10, 26, \"POR\", 77, 2780, 17.4, 0.544, 0.319, 0.168, 1.9, 9.9, 5.9, 16.0, 1.3, 1.0, 8.5, 26.4, 4.0, 2.7, 6.7, 0.115, 1.7, -1.1, 0.6, 1.9, 1], [\"Buddy Hield\", 3675480, \"Bahamas\", 6, 24, \"SAC\", 77, 1930, 16.0, 0.5579999999999999, 0.442, 0.09, 2.8, 15.1, 8.7, 12.3, 2.0, 1.0, 11.2, 24.3, 1.2, 1.3, 2.6, 0.064, 1.1, -1.6, -0.5, 0.7, 1], [\"Brook Lopez\", 22642350, \"USA\", 10, 29, \"LAL\", 70, 1657, 16.6, 0.5579999999999999, 0.408, 0.201, 4.7, 13.1, 8.9, 11.7, 0.9, 4.7, 10.3, 23.5, 1.8, 1.9, 3.7, 0.106, 0.4, 0.2, 0.6, 1.1, 1], [\"Brandon Ingram\", 5519400, \"USA\", 2, 20, \"LAL\", 59, 1975, 13.9, 0.536, 0.138, 0.371, 3.1, 13.8, 8.5, 17.6, 1.1, 1.8, 14.4, 22.2, 1.0, 1.8, 2.8, 0.068, -1.6, 0.3, -1.3, 0.3, 1], [\"Brandan Wright\", 5179760, \"USA\", 8, 30, \"TOT\", 28, 381, 19.0, 0.596, 0.0, 0.324, 9.8, 19.3, 14.4, 5.6, 1.7, 6.4, 6.4, 14.7, 0.8, 0.5, 1.3, 0.165, -1.3, 2.3, 1.0, 0.3, 1], [\"Bradley Beal\", 23775506, \"USA\", 3, 24, \"WAS\", 78, 2819, 18.7, 0.5660000000000001, 0.35700000000000004, 0.245, 2.3, 11.4, 6.9, 21.2, 1.7, 1.1, 11.6, 27.8, 4.3, 2.4, 6.7, 0.113, 2.8, -1.0, 1.9, 2.7, 1], [\"Bojan Bogdanovic\", 10500000, \"Croatia\", 31, 28, \"IND\", 77, 2386, 13.8, 0.603, 0.45399999999999996, 0.244, 1.4, 10.9, 6.2, 7.1, 1.1, 0.3, 10.2, 18.9, 3.6, 1.6, 5.1, 0.10300000000000001, 1.1, -1.9, -0.8, 0.7, 1], [\"Bogdan Bogdanovic\", 9470614, \"Serbia\", 27, 25, \"SAC\", 75, 2089, 13.8, 0.564, 0.426, 0.161, 1.5, 10.7, 5.9, 18.3, 1.7, 0.7, 13.1, 19.6, 2.0, 0.9, 2.9, 0.067, 0.7, -1.6, -0.9, 0.6, 1], [\"Boban Marjanovic\", 7000000, \"Serbia\", 62, 29, \"TOT\", 35, 286, 25.1, 0.611, 0.0, 0.621, 13.9, 29.8, 21.7, 12.5, 1.5, 3.3, 16.0, 28.8, 0.8, 0.5, 1.2, 0.20800000000000002, -0.5, 0.6, 0.1, 0.2, 1], [\"Blake Griffin\", 29512900, \"USA\", 1, 28, \"TOT\", 58, 1970, 19.6, 0.544, 0.32299999999999995, 0.331, 4.1, 19.8, 11.9, 28.1, 1.0, 0.8, 12.6, 28.9, 3.2, 1.9, 5.0, 0.12300000000000001, 2.8, 0.0, 2.8, 2.4, 1], [\"Bismack Biyombo\", 17000000, \"Democratic Re...\", 7, 25, \"ORL\", 78, 1428, 13.9, 0.556, 0.003, 0.455, 10.7, 23.9, 17.3, 6.4, 0.7, 5.0, 17.4, 14.5, 1.1, 1.7, 2.8, 0.09300000000000001, -3.7, 2.1, -1.5, 0.2, 1], [\"Ben Simmons\", 6168840, \"Australia\", 1, 21, \"PHI\", 77, 2614, 19.8, 0.555, 0.012, 0.335, 5.9, 19.3, 12.8, 37.4, 2.4, 2.1, 19.3, 22.2, 4.0, 4.7, 8.7, 0.159, 0.9, 3.5, 4.4, 4.2, 1], [\"Ben McLemore\", 5200000, \"USA\", 7, 24, \"MEM\", 52, 968, 9.2, 0.517, 0.424, 0.166, 3.6, 11.4, 7.4, 7.5, 1.9, 1.4, 14.0, 19.5, -0.4, 0.7, 0.3, 0.013000000000000001, -2.6, -1.3, -3.9, -0.5, 1], [\"Avery Bradley\", 8808989, \"USA\", 19, 27, \"TOT\", 46, 1433, 9.7, 0.496, 0.325, 0.131, 1.7, 7.3, 4.5, 10.4, 1.8, 0.5, 13.3, 23.5, -1.4, 1.3, -0.1, -0.005, -2.8, -1.3, -4.1, -0.8, 1], [\"Austin Rivers\", 11825000, \"USA\", 10, 25, \"LAC\", 58, 1965, 12.9, 0.531, 0.445, 0.193, 1.5, 6.3, 4.0, 17.1, 1.8, 0.7, 10.8, 20.7, 1.5, 1.1, 2.6, 0.064, 1.0, -1.4, -0.4, 0.8, 1], [\"Aron Baynes\", 4328000, \"Australia\", 62, 31, \"BOS\", 77, 1402, 11.7, 0.506, 0.037000000000000005, 0.187, 9.1, 22.3, 15.8, 9.4, 0.7, 2.8, 14.6, 16.4, 0.4, 2.4, 2.8, 0.09699999999999999, -4.0, 2.2, -1.8, 0.1, 1], [\"Anthony Tolliver\", 3290000, \"USA\", 62, 32, \"DET\", 75, 1624, 13.5, 0.652, 0.777, 0.278, 3.1, 12.6, 7.7, 7.5, 0.9, 1.1, 9.8, 14.7, 3.4, 1.5, 4.8, 0.142, 2.0, -0.7, 1.2, 1.3, 1], [\"Anthony Davis\", 23775506, \"USA\", 1, 24, \"NOP\", 71, 2582, 28.9, 0.615, 0.113, 0.406, 7.8, 24.9, 16.6, 10.8, 2.0, 5.5, 8.7, 29.8, 8.5, 4.5, 13.0, 0.24100000000000002, 3.0, 2.3, 5.3, 4.7, 1], [\"Andrew Wiggins\", 7574322, \"Canada\", 1, 22, \"MIN\", 78, 2832, 13.2, 0.509, 0.26, 0.244, 3.0, 10.7, 6.8, 8.0, 1.5, 1.5, 8.9, 23.6, 0.5, 1.4, 1.9, 0.032, -1.0, -1.5, -2.6, -0.4, 1], [\"Andre Roberson\", 9259259, \"USA\", 26, 26, \"OKC\", 39, 1037, 10.9, 0.5429999999999999, 0.222, 0.235, 7.7, 12.2, 9.9, 6.0, 2.2, 3.1, 14.4, 8.6, 0.8, 1.3, 2.1, 0.099, -1.4, 2.8, 1.4, 0.9, 1], [\"Andre Iguodala\", 14814815, \"USA\", 9, 34, \"GSW\", 63, 1601, 11.3, 0.539, 0.36, 0.27699999999999997, 3.8, 12.5, 8.5, 16.0, 1.6, 1.9, 16.0, 11.5, 1.6, 1.7, 3.3, 0.098, -0.7, 1.0, 0.4, 1.0, 1], [\"Andre Drummond\", 23775506, \"USA\", 9, 24, \"DET\", 76, 2541, 23.0, 0.556, 0.011000000000000001, 0.45299999999999996, 16.5, 36.6, 26.3, 14.3, 2.2, 4.3, 16.0, 21.2, 4.4, 5.6, 10.1, 0.19, 0.2, 5.3, 5.5, 4.8, 1], [\"Amir Johnson\", 11000000, \"USA\", 56, 30, \"PHI\", 70, 1094, 14.2, 0.563, 0.12300000000000001, 0.353, 11.7, 18.3, 15.1, 13.3, 1.9, 3.3, 16.6, 12.7, 1.7, 1.9, 3.6, 0.158, -0.6, 3.3, 2.7, 1.3, 1], [\"Allen Crabbe\", 19332500, \"USA\", 31, 25, \"BRK\", 71, 2085, 11.1, 0.54, 0.634, 0.155, 1.3, 14.3, 7.7, 7.9, 1.0, 1.1, 8.4, 18.6, 1.0, 1.3, 2.2, 0.051, -0.3, -1.2, -1.5, 0.3, 1], [\"Al-Farouq Aminu\", 7319035, \"USA\", 8, 27, \"POR\", 65, 1950, 12.4, 0.529, 0.586, 0.14400000000000002, 5.1, 22.3, 13.8, 5.8, 1.9, 1.5, 10.7, 14.9, 1.2, 3.0, 4.2, 0.10300000000000001, -0.5, 1.7, 1.2, 1.6, 1], [\"Alex Len\", 4187599, \"Ukraine\", 5, 24, \"PHO\", 66, 1324, 19.4, 0.615, 0.003, 0.638, 13.4, 27.2, 20.1, 8.5, 1.0, 3.7, 14.2, 16.6, 3.0, 1.2, 4.3, 0.155, -0.5, 1.3, 0.8, 0.9, 1], [\"Alex Abrines\", 5725000, \"Spain\", 32, 24, \"OKC\", 73, 1095, 9.1, 0.573, 0.755, 0.145, 2.3, 8.8, 5.5, 3.4, 1.6, 0.7, 7.7, 12.7, 1.3, 0.9, 2.2, 0.095, -0.6, -1.8, -2.3, -0.1, 1], [\"Alec Burks\", 10845506, \"USA\", 12, 26, \"UTA\", 62, 1030, 13.1, 0.526, 0.335, 0.31, 2.0, 18.4, 10.3, 9.8, 1.8, 0.7, 11.3, 22.4, 0.2, 1.5, 1.7, 0.081, -2.7, -0.3, -3.0, -0.3, 1], [\"Alan Williams\", 6000000, \"USA\", 62, 25, \"PHO\", 5, 70, 9.3, 0.455, 0.0, 0.5, 4.5, 29.6, 16.8, 16.4, 3.4, 1.2, 24.2, 17.5, -0.1, 0.1, 0.0, -0.004, -6.5, 2.7, -3.7, 0.0, 1], [\"Al Jefferson\", 9769821, \"USA\", 15, 33, \"IND\", 34, 462, 19.9, 0.557, 0.005, 0.163, 7.4, 25.3, 16.4, 10.1, 1.7, 4.4, 8.7, 22.2, 0.7, 0.8, 1.5, 0.154, -1.8, 1.4, -0.5, 0.2, 1], [\"Al Horford\", 27734405, \"Dominican Rep...\", 3, 31, \"BOS\", 70, 2219, 17.5, 0.5770000000000001, 0.301, 0.153, 4.8, 20.1, 12.6, 23.9, 0.9, 2.9, 14.3, 18.4, 3.8, 3.8, 7.6, 0.16399999999999998, 1.1, 3.0, 4.1, 3.4, 1], [\"Aaron Gordon\", 5504420, \"USA\", 4, 22, \"ORL\", 55, 1838, 16.6, 0.531, 0.39299999999999996, 0.263, 5.2, 21.8, 13.4, 11.7, 1.4, 1.9, 9.7, 24.5, 1.1, 1.9, 3.0, 0.078, 0.1, -0.1, 0.1, 1.0, 1]], \"hoverlabel\": {\"namelength\": 0}, \"hovertemplate\": \"High Salary=%{customdata[28]}<br>Age=%{customdata[4]}<br>Player=%{customdata[0]}<br>Salary=%{customdata[1]}<br>NBA_Country=%{customdata[2]}<br>NBA_DraftNumber=%{customdata[3]}<br>Tm=%{customdata[5]}<br>G=%{customdata[6]}<br>MP=%{customdata[7]}<br>PER=%{customdata[8]}<br>TS%=%{customdata[9]}<br>3PAr=%{customdata[10]}<br>FTr=%{customdata[11]}<br>ORB%=%{customdata[12]}<br>DRB%=%{customdata[13]}<br>TRB%=%{customdata[14]}<br>AST%=%{customdata[15]}<br>STL%=%{customdata[16]}<br>BLK%=%{customdata[17]}<br>TOV%=%{customdata[18]}<br>USG%=%{customdata[19]}<br>OWS=%{customdata[20]}<br>DWS=%{customdata[21]}<br>WS=%{customdata[22]}<br>WS/48=%{customdata[23]}<br>OBPM=%{customdata[24]}<br>DBPM=%{customdata[25]}<br>BPM=%{customdata[26]}<br>VORP=%{customdata[27]}\", \"legendgroup\": \"High Salary=1\", \"marker\": {\"color\": \"#EF553B\"}, \"name\": \"High Salary=1\", \"notched\": true, \"offsetgroup\": \"High Salary=1\", \"showlegend\": false, \"type\": \"box\", \"x\": [33, 36, 30, 24, 27, 31, 30, 30, 41, 25, 35, 28, 25, 26, 26, 30, 32, 26, 35, 25, 31, 25, 29, 33, 26, 26, 32, 24, 29, 26, 27, 32, 28, 29, 29, 25, 31, 24, 29, 27, 27, 27, 31, 29, 32, 27, 37, 29, 28, 29, 32, 24, 31, 22, 27, 26, 24, 29, 32, 23, 35, 29, 32, 30, 29, 26, 30, 24, 25, 24, 27, 27, 31, 28, 19, 22, 23, 28, 31, 33, 33, 32, 31, 20, 33, 20, 26, 29, 27, 32, 25, 29, 27, 31, 36, 22, 23, 28, 27, 26, 29, 29, 24, 28, 28, 27, 26, 26, 22, 28, 23, 27, 32, 30, 20, 25, 28, 20, 25, 30, 28, 27, 27, 23, 36, 30, 30, 32, 28, 29, 29, 25, 29, 19, 21, 31, 32, 27, 30, 28, 35, 20, 37, 22, 27, 22, 32, 33, 33, 29, 28, 27, 31, 28, 25, 27, 28, 27, 31, 23, 31, 31, 19, 29, 25, 28, 30, 29, 28, 25, 21, 23, 28, 36, 26, 32, 27, 20, 26, 39, 26, 28, 34, 26, 20, 24, 31, 27, 28, 29, 20, 30, 29, 22, 30, 29, 21, 27, 30, 25, 32, 26, 31, 29, 25, 32, 34, 29, 33, 30, 26, 24, 29, 20, 30, 24, 28, 25, 29, 28, 25, 21, 24, 27, 25, 31, 32, 24, 22, 26, 34, 24, 30, 25, 27, 24, 24, 26, 25, 33, 31, 22], \"xaxis\": \"x2\", \"yaxis\": \"y2\"}],\n",
              "                        {\"barmode\": \"relative\", \"legend\": {\"tracegroupgap\": 0}, \"margin\": {\"t\": 60}, \"template\": {\"data\": {\"bar\": [{\"error_x\": {\"color\": \"#2a3f5f\"}, \"error_y\": {\"color\": \"#2a3f5f\"}, \"marker\": {\"line\": {\"color\": \"#E5ECF6\", \"width\": 0.5}}, \"type\": \"bar\"}], \"barpolar\": [{\"marker\": {\"line\": {\"color\": \"#E5ECF6\", \"width\": 0.5}}, \"type\": \"barpolar\"}], \"carpet\": [{\"aaxis\": {\"endlinecolor\": \"#2a3f5f\", \"gridcolor\": \"white\", \"linecolor\": \"white\", \"minorgridcolor\": \"white\", \"startlinecolor\": \"#2a3f5f\"}, \"baxis\": {\"endlinecolor\": \"#2a3f5f\", \"gridcolor\": \"white\", \"linecolor\": \"white\", \"minorgridcolor\": \"white\", \"startlinecolor\": \"#2a3f5f\"}, \"type\": \"carpet\"}], \"choropleth\": [{\"colorbar\": {\"outlinewidth\": 0, \"ticks\": \"\"}, \"type\": \"choropleth\"}], \"contour\": [{\"colorbar\": {\"outlinewidth\": 0, \"ticks\": \"\"}, \"colorscale\": [[0.0, \"#0d0887\"], [0.1111111111111111, \"#46039f\"], [0.2222222222222222, \"#7201a8\"], [0.3333333333333333, \"#9c179e\"], [0.4444444444444444, \"#bd3786\"], [0.5555555555555556, \"#d8576b\"], [0.6666666666666666, \"#ed7953\"], [0.7777777777777778, \"#fb9f3a\"], [0.8888888888888888, \"#fdca26\"], [1.0, \"#f0f921\"]], \"type\": \"contour\"}], \"contourcarpet\": [{\"colorbar\": {\"outlinewidth\": 0, \"ticks\": \"\"}, \"type\": \"contourcarpet\"}], \"heatmap\": [{\"colorbar\": {\"outlinewidth\": 0, \"ticks\": \"\"}, \"colorscale\": [[0.0, \"#0d0887\"], [0.1111111111111111, \"#46039f\"], [0.2222222222222222, \"#7201a8\"], [0.3333333333333333, \"#9c179e\"], [0.4444444444444444, \"#bd3786\"], [0.5555555555555556, \"#d8576b\"], [0.6666666666666666, \"#ed7953\"], [0.7777777777777778, \"#fb9f3a\"], [0.8888888888888888, \"#fdca26\"], [1.0, \"#f0f921\"]], \"type\": \"heatmap\"}], \"heatmapgl\": [{\"colorbar\": {\"outlinewidth\": 0, \"ticks\": \"\"}, \"colorscale\": [[0.0, \"#0d0887\"], [0.1111111111111111, \"#46039f\"], [0.2222222222222222, \"#7201a8\"], [0.3333333333333333, \"#9c179e\"], [0.4444444444444444, \"#bd3786\"], [0.5555555555555556, \"#d8576b\"], [0.6666666666666666, \"#ed7953\"], [0.7777777777777778, \"#fb9f3a\"], [0.8888888888888888, \"#fdca26\"], [1.0, \"#f0f921\"]], \"type\": \"heatmapgl\"}], \"histogram\": [{\"marker\": {\"colorbar\": {\"outlinewidth\": 0, \"ticks\": \"\"}}, \"type\": \"histogram\"}], \"histogram2d\": [{\"colorbar\": {\"outlinewidth\": 0, \"ticks\": \"\"}, \"colorscale\": [[0.0, \"#0d0887\"], [0.1111111111111111, \"#46039f\"], [0.2222222222222222, \"#7201a8\"], [0.3333333333333333, \"#9c179e\"], [0.4444444444444444, \"#bd3786\"], [0.5555555555555556, \"#d8576b\"], [0.6666666666666666, \"#ed7953\"], [0.7777777777777778, \"#fb9f3a\"], [0.8888888888888888, \"#fdca26\"], [1.0, \"#f0f921\"]], \"type\": \"histogram2d\"}], \"histogram2dcontour\": [{\"colorbar\": {\"outlinewidth\": 0, \"ticks\": \"\"}, \"colorscale\": [[0.0, \"#0d0887\"], [0.1111111111111111, \"#46039f\"], [0.2222222222222222, \"#7201a8\"], [0.3333333333333333, \"#9c179e\"], [0.4444444444444444, \"#bd3786\"], [0.5555555555555556, \"#d8576b\"], [0.6666666666666666, \"#ed7953\"], [0.7777777777777778, \"#fb9f3a\"], [0.8888888888888888, \"#fdca26\"], [1.0, \"#f0f921\"]], \"type\": \"histogram2dcontour\"}], \"mesh3d\": [{\"colorbar\": {\"outlinewidth\": 0, \"ticks\": \"\"}, \"type\": \"mesh3d\"}], \"parcoords\": [{\"line\": {\"colorbar\": {\"outlinewidth\": 0, \"ticks\": \"\"}}, \"type\": \"parcoords\"}], \"pie\": [{\"automargin\": true, \"type\": \"pie\"}], \"scatter\": [{\"marker\": {\"colorbar\": {\"outlinewidth\": 0, \"ticks\": \"\"}}, \"type\": \"scatter\"}], \"scatter3d\": [{\"line\": {\"colorbar\": {\"outlinewidth\": 0, \"ticks\": \"\"}}, \"marker\": {\"colorbar\": {\"outlinewidth\": 0, \"ticks\": \"\"}}, \"type\": \"scatter3d\"}], \"scattercarpet\": [{\"marker\": {\"colorbar\": {\"outlinewidth\": 0, \"ticks\": \"\"}}, \"type\": \"scattercarpet\"}], \"scattergeo\": [{\"marker\": {\"colorbar\": {\"outlinewidth\": 0, \"ticks\": \"\"}}, \"type\": \"scattergeo\"}], \"scattergl\": [{\"marker\": {\"colorbar\": {\"outlinewidth\": 0, \"ticks\": \"\"}}, \"type\": \"scattergl\"}], \"scattermapbox\": [{\"marker\": {\"colorbar\": {\"outlinewidth\": 0, \"ticks\": \"\"}}, \"type\": \"scattermapbox\"}], \"scatterpolar\": [{\"marker\": {\"colorbar\": {\"outlinewidth\": 0, \"ticks\": \"\"}}, \"type\": \"scatterpolar\"}], \"scatterpolargl\": [{\"marker\": {\"colorbar\": {\"outlinewidth\": 0, \"ticks\": \"\"}}, \"type\": \"scatterpolargl\"}], \"scatterternary\": [{\"marker\": {\"colorbar\": {\"outlinewidth\": 0, \"ticks\": \"\"}}, \"type\": \"scatterternary\"}], \"surface\": [{\"colorbar\": {\"outlinewidth\": 0, \"ticks\": \"\"}, \"colorscale\": [[0.0, \"#0d0887\"], [0.1111111111111111, \"#46039f\"], [0.2222222222222222, \"#7201a8\"], [0.3333333333333333, \"#9c179e\"], [0.4444444444444444, \"#bd3786\"], [0.5555555555555556, \"#d8576b\"], [0.6666666666666666, \"#ed7953\"], [0.7777777777777778, \"#fb9f3a\"], [0.8888888888888888, \"#fdca26\"], [1.0, \"#f0f921\"]], \"type\": \"surface\"}], \"table\": [{\"cells\": {\"fill\": {\"color\": \"#EBF0F8\"}, \"line\": {\"color\": \"white\"}}, \"header\": {\"fill\": {\"color\": \"#C8D4E3\"}, \"line\": {\"color\": \"white\"}}, \"type\": \"table\"}]}, \"layout\": {\"annotationdefaults\": {\"arrowcolor\": \"#2a3f5f\", \"arrowhead\": 0, \"arrowwidth\": 1}, \"coloraxis\": {\"colorbar\": {\"outlinewidth\": 0, \"ticks\": \"\"}}, \"colorscale\": {\"diverging\": [[0, \"#8e0152\"], [0.1, \"#c51b7d\"], [0.2, \"#de77ae\"], [0.3, \"#f1b6da\"], [0.4, \"#fde0ef\"], [0.5, \"#f7f7f7\"], [0.6, \"#e6f5d0\"], [0.7, \"#b8e186\"], [0.8, \"#7fbc41\"], [0.9, \"#4d9221\"], [1, \"#276419\"]], \"sequential\": [[0.0, \"#0d0887\"], [0.1111111111111111, \"#46039f\"], [0.2222222222222222, \"#7201a8\"], [0.3333333333333333, \"#9c179e\"], [0.4444444444444444, \"#bd3786\"], [0.5555555555555556, \"#d8576b\"], [0.6666666666666666, \"#ed7953\"], [0.7777777777777778, \"#fb9f3a\"], [0.8888888888888888, \"#fdca26\"], [1.0, \"#f0f921\"]], \"sequentialminus\": [[0.0, \"#0d0887\"], [0.1111111111111111, \"#46039f\"], [0.2222222222222222, \"#7201a8\"], [0.3333333333333333, \"#9c179e\"], [0.4444444444444444, \"#bd3786\"], [0.5555555555555556, \"#d8576b\"], [0.6666666666666666, \"#ed7953\"], [0.7777777777777778, \"#fb9f3a\"], [0.8888888888888888, \"#fdca26\"], [1.0, \"#f0f921\"]]}, \"colorway\": [\"#636efa\", \"#EF553B\", \"#00cc96\", \"#ab63fa\", \"#FFA15A\", \"#19d3f3\", \"#FF6692\", \"#B6E880\", \"#FF97FF\", \"#FECB52\"], \"font\": {\"color\": \"#2a3f5f\"}, \"geo\": {\"bgcolor\": \"white\", \"lakecolor\": \"white\", \"landcolor\": \"#E5ECF6\", \"showlakes\": true, \"showland\": true, \"subunitcolor\": \"white\"}, \"hoverlabel\": {\"align\": \"left\"}, \"hovermode\": \"closest\", \"mapbox\": {\"style\": \"light\"}, \"paper_bgcolor\": \"white\", \"plot_bgcolor\": \"#E5ECF6\", \"polar\": {\"angularaxis\": {\"gridcolor\": \"white\", \"linecolor\": \"white\", \"ticks\": \"\"}, \"bgcolor\": \"#E5ECF6\", \"radialaxis\": {\"gridcolor\": \"white\", \"linecolor\": \"white\", \"ticks\": \"\"}}, \"scene\": {\"xaxis\": {\"backgroundcolor\": \"#E5ECF6\", \"gridcolor\": \"white\", \"gridwidth\": 2, \"linecolor\": \"white\", \"showbackground\": true, \"ticks\": \"\", \"zerolinecolor\": \"white\"}, \"yaxis\": {\"backgroundcolor\": \"#E5ECF6\", \"gridcolor\": \"white\", \"gridwidth\": 2, \"linecolor\": \"white\", \"showbackground\": true, \"ticks\": \"\", \"zerolinecolor\": \"white\"}, \"zaxis\": {\"backgroundcolor\": \"#E5ECF6\", \"gridcolor\": \"white\", \"gridwidth\": 2, \"linecolor\": \"white\", \"showbackground\": true, \"ticks\": \"\", \"zerolinecolor\": \"white\"}}, \"shapedefaults\": {\"line\": {\"color\": \"#2a3f5f\"}}, \"ternary\": {\"aaxis\": {\"gridcolor\": \"white\", \"linecolor\": \"white\", \"ticks\": \"\"}, \"baxis\": {\"gridcolor\": \"white\", \"linecolor\": \"white\", \"ticks\": \"\"}, \"bgcolor\": \"#E5ECF6\", \"caxis\": {\"gridcolor\": \"white\", \"linecolor\": \"white\", \"ticks\": \"\"}}, \"title\": {\"x\": 0.05}, \"xaxis\": {\"automargin\": true, \"gridcolor\": \"white\", \"linecolor\": \"white\", \"ticks\": \"\", \"title\": {\"standoff\": 15}, \"zerolinecolor\": \"white\", \"zerolinewidth\": 2}, \"yaxis\": {\"automargin\": true, \"gridcolor\": \"white\", \"linecolor\": \"white\", \"ticks\": \"\", \"title\": {\"standoff\": 15}, \"zerolinecolor\": \"white\", \"zerolinewidth\": 2}}}, \"xaxis\": {\"anchor\": \"y\", \"domain\": [0.0, 1.0], \"title\": {\"text\": \"Age\"}}, \"xaxis2\": {\"anchor\": \"y2\", \"domain\": [0.0, 1.0], \"matches\": \"x\", \"showgrid\": true, \"showticklabels\": false}, \"yaxis\": {\"anchor\": \"x\", \"domain\": [0.0, 0.7326], \"title\": {\"text\": \"count of Salary\"}}, \"yaxis2\": {\"anchor\": \"x2\", \"domain\": [0.7426, 1.0], \"matches\": \"y2\", \"showgrid\": false, \"showline\": false, \"showticklabels\": false, \"ticks\": \"\"}},\n",
              "                        {\"responsive\": true}\n",
              "                    ).then(function(){\n",
              "                            \n",
              "var gd = document.getElementById('30fa78c6-be08-4c9d-8257-8dc999752048');\n",
              "var x = new MutationObserver(function (mutations, observer) {{\n",
              "        var display = window.getComputedStyle(gd).display;\n",
              "        if (!display || display === 'none') {{\n",
              "            console.log([gd, 'removed!']);\n",
              "            Plotly.purge(gd);\n",
              "            observer.disconnect();\n",
              "        }}\n",
              "}});\n",
              "\n",
              "// Listen for the removal of the full notebook cells\n",
              "var notebookContainer = gd.closest('#notebook-container');\n",
              "if (notebookContainer) {{\n",
              "    x.observe(notebookContainer, {childList: true});\n",
              "}}\n",
              "\n",
              "// Listen for the clearing of the current output cell\n",
              "var outputEl = gd.closest('.output');\n",
              "if (outputEl) {{\n",
              "    x.observe(outputEl, {childList: true});\n",
              "}}\n",
              "\n",
              "                        })\n",
              "                };\n",
              "                \n",
              "            </script>\n",
              "        </div>\n",
              "</body>\n",
              "</html>"
            ]
          },
          "metadata": {
            "tags": []
          }
        }
      ]
    },
    {
      "cell_type": "markdown",
      "metadata": {
        "id": "MZFgSRK5xf_T"
      },
      "source": [
        "Up to the age of 26, more players have a salary below the median salary than those with a high salary.\n",
        "After age 26, most players have a salary above the median."
      ]
    },
    {
      "cell_type": "markdown",
      "metadata": {
        "id": "oGpL6bgm3mUh"
      },
      "source": [
        "## Variable correlation"
      ]
    },
    {
      "cell_type": "code",
      "metadata": {
        "id": "f8GXzryFxNo7"
      },
      "source": [
        "columns_t_analyze = df.select_dtypes([\"float64\", \"int64\"])\n",
        "transformer =  PowerTransformer(method='yeo-johnson').fit(columns_t_analyze)"
      ],
      "execution_count": null,
      "outputs": []
    },
    {
      "cell_type": "code",
      "metadata": {
        "id": "yMhAQRp55wFQ"
      },
      "source": [
        "columns_transformed = PowerTransformer(method='yeo-johnson').fit_transform(columns_t_analyze)"
      ],
      "execution_count": null,
      "outputs": []
    },
    {
      "cell_type": "code",
      "metadata": {
        "id": "z0_Vzwmm9jMk"
      },
      "source": [
        "columns_transformed = pd.DataFrame(columns_transformed)\n",
        "columns_transformed.columns = columns_t_analyze.columns"
      ],
      "execution_count": null,
      "outputs": []
    },
    {
      "cell_type": "code",
      "metadata": {
        "id": "IHHHMy9W9kVO",
        "outputId": "0da9c0b5-f911-4385-9b48-a8d19e5c83dc",
        "colab": {
          "base_uri": "https://localhost:8080/",
          "height": 542
        }
      },
      "source": [
        "fig = go.Figure(data=go.Heatmap(\n",
        "                   z=round(columns_transformed.corr(),2),\n",
        "                   x=columns_transformed.columns,\n",
        "                   y=columns_transformed.columns,\n",
        "                   hoverongaps = False))\n",
        "fig.show()"
      ],
      "execution_count": null,
      "outputs": [
        {
          "output_type": "display_data",
          "data": {
            "text/html": [
              "<html>\n",
              "<head><meta charset=\"utf-8\" /></head>\n",
              "<body>\n",
              "    <div>\n",
              "            <script src=\"https://cdnjs.cloudflare.com/ajax/libs/mathjax/2.7.5/MathJax.js?config=TeX-AMS-MML_SVG\"></script><script type=\"text/javascript\">if (window.MathJax) {MathJax.Hub.Config({SVG: {font: \"STIX-Web\"}});}</script>\n",
              "                <script type=\"text/javascript\">window.PlotlyConfig = {MathJaxConfig: 'local'};</script>\n",
              "        <script src=\"https://cdn.plot.ly/plotly-latest.min.js\"></script>    \n",
              "            <div id=\"ffea1834-f4c6-47f7-925d-fb039a06907d\" class=\"plotly-graph-div\" style=\"height:525px; width:100%;\"></div>\n",
              "            <script type=\"text/javascript\">\n",
              "                \n",
              "                    window.PLOTLYENV=window.PLOTLYENV || {};\n",
              "                    \n",
              "                if (document.getElementById(\"ffea1834-f4c6-47f7-925d-fb039a06907d\")) {\n",
              "                    Plotly.newPlot(\n",
              "                        'ffea1834-f4c6-47f7-925d-fb039a06907d',\n",
              "                        [{\"hoverongaps\": false, \"type\": \"heatmap\", \"x\": [\"Salary\", \"NBA_DraftNumber\", \"Age\", \"G\", \"MP\", \"PER\", \"TS%\", \"3PAr\", \"FTr\", \"ORB%\", \"DRB%\", \"TRB%\", \"AST%\", \"STL%\", \"BLK%\", \"TOV%\", \"USG%\", \"OWS\", \"DWS\", \"WS\", \"WS/48\", \"OBPM\", \"DBPM\", \"BPM\", \"VORP\", \"High Salary\"], \"y\": [\"Salary\", \"NBA_DraftNumber\", \"Age\", \"G\", \"MP\", \"PER\", \"TS%\", \"3PAr\", \"FTr\", \"ORB%\", \"DRB%\", \"TRB%\", \"AST%\", \"STL%\", \"BLK%\", \"TOV%\", \"USG%\", \"OWS\", \"DWS\", \"WS\", \"WS/48\", \"OBPM\", \"DBPM\", \"BPM\", \"VORP\", \"High Salary\"], \"z\": [[1.0, -0.49, 0.36, 0.46, 0.58, 0.23, 0.19, -0.08, 0.17, 0.08, 0.22, 0.16, 0.27, 0.12, 0.16, -0.02, 0.22, 0.47, 0.56, 0.56, 0.19, 0.28, 0.24, 0.32, 0.43, 0.81], [-0.49, 1.0, 0.03, -0.28, -0.37, -0.23, -0.12, 0.19, -0.11, -0.13, -0.22, -0.18, -0.2, -0.1, -0.21, 0.06, -0.26, -0.23, -0.39, -0.33, -0.16, -0.21, -0.2, -0.24, -0.24, -0.39], [0.36, 0.03, 1.0, 0.07, 0.09, 0.02, 0.08, 0.08, -0.06, -0.09, -0.04, -0.06, 0.09, -0.04, -0.07, 0.05, -0.06, 0.23, 0.08, 0.2, 0.05, 0.09, -0.01, 0.06, 0.14, 0.37], [0.46, -0.28, 0.07, 1.0, 0.92, 0.23, 0.27, -0.01, 0.13, 0.08, 0.18, 0.11, 0.27, 0.18, 0.19, -0.04, 0.07, 0.51, 0.83, 0.74, 0.26, 0.37, 0.34, 0.42, 0.39, 0.33], [0.58, -0.37, 0.09, 0.92, 1.0, 0.29, 0.27, 0.01, 0.15, 0.03, 0.17, 0.08, 0.39, 0.23, 0.17, -0.04, 0.22, 0.59, 0.89, 0.81, 0.27, 0.44, 0.33, 0.48, 0.51, 0.46], [0.23, -0.23, 0.02, 0.23, 0.29, 1.0, 0.79, -0.15, 0.28, 0.21, 0.22, 0.2, 0.23, 0.13, 0.25, -0.09, 0.38, 0.42, 0.34, 0.44, 0.91, 0.89, 0.15, 0.87, 0.39, 0.18], [0.19, -0.12, 0.08, 0.27, 0.27, 0.79, 1.0, -0.08, 0.29, 0.16, 0.1, 0.11, 0.08, -0.02, 0.21, 0.11, 0.12, 0.39, 0.28, 0.41, 0.8, 0.81, 0.09, 0.74, 0.3, 0.13], [-0.08, 0.19, 0.08, -0.01, 0.01, -0.15, -0.08, 1.0, -0.41, -0.62, -0.41, -0.54, -0.05, -0.03, -0.39, -0.26, -0.09, -0.11, -0.12, -0.12, -0.05, 0.13, -0.36, -0.01, -0.1, -0.03], [0.17, -0.11, -0.06, 0.13, 0.15, 0.28, 0.29, -0.41, 1.0, 0.31, 0.32, 0.32, 0.19, 0.09, 0.31, 0.26, 0.09, 0.26, 0.22, 0.27, 0.29, 0.2, 0.31, 0.26, 0.23, 0.1], [0.08, -0.13, -0.09, 0.08, 0.03, 0.21, 0.16, -0.62, 0.31, 1.0, 0.57, 0.82, -0.17, -0.01, 0.54, 0.1, -0.03, 0.19, 0.18, 0.21, 0.15, 0.03, 0.42, 0.16, 0.22, 0.02], [0.22, -0.22, -0.04, 0.18, 0.17, 0.22, 0.1, -0.41, 0.32, 0.57, 1.0, 0.92, -0.09, -0.01, 0.55, 0.07, 0.01, 0.24, 0.36, 0.32, 0.21, 0.03, 0.55, 0.22, 0.31, 0.16], [0.16, -0.18, -0.06, 0.11, 0.08, 0.2, 0.11, -0.54, 0.32, 0.82, 0.92, 1.0, -0.18, -0.05, 0.58, 0.11, 0.0, 0.23, 0.28, 0.28, 0.15, -0.02, 0.51, 0.15, 0.29, 0.1], [0.27, -0.2, 0.09, 0.27, 0.39, 0.23, 0.08, -0.05, 0.19, -0.17, -0.09, -0.18, 1.0, 0.35, -0.09, 0.29, 0.36, 0.21, 0.32, 0.28, 0.16, 0.34, 0.15, 0.33, 0.24, 0.21], [0.12, -0.1, -0.04, 0.18, 0.23, 0.13, -0.02, -0.03, 0.09, -0.01, -0.01, -0.05, 0.35, 1.0, 0.09, 0.04, 0.0, 0.07, 0.28, 0.18, 0.14, 0.2, 0.53, 0.35, 0.22, 0.1], [0.16, -0.21, -0.07, 0.19, 0.17, 0.25, 0.21, -0.39, 0.31, 0.54, 0.55, 0.58, -0.09, 0.09, 1.0, 0.14, -0.04, 0.17, 0.34, 0.27, 0.23, 0.1, 0.64, 0.31, 0.29, 0.08], [-0.02, 0.06, 0.05, -0.04, -0.04, -0.09, 0.11, -0.26, 0.26, 0.1, 0.07, 0.11, 0.29, 0.04, 0.14, 1.0, -0.08, -0.13, 0.01, -0.08, -0.11, -0.14, 0.21, -0.06, -0.01, 0.0], [0.22, -0.26, -0.06, 0.07, 0.22, 0.38, 0.12, -0.09, 0.09, -0.03, 0.01, 0.0, 0.36, 0.0, -0.04, -0.08, 1.0, 0.2, 0.21, 0.21, 0.05, 0.21, -0.26, 0.12, 0.2, 0.19], [0.47, -0.23, 0.23, 0.51, 0.59, 0.42, 0.39, -0.11, 0.26, 0.19, 0.24, 0.23, 0.21, 0.07, 0.17, -0.13, 0.2, 1.0, 0.6, 0.91, 0.38, 0.45, 0.24, 0.47, 0.8, 0.32], [0.56, -0.39, 0.08, 0.83, 0.89, 0.34, 0.28, -0.12, 0.22, 0.18, 0.36, 0.28, 0.32, 0.28, 0.34, 0.01, 0.21, 0.6, 1.0, 0.86, 0.32, 0.39, 0.54, 0.53, 0.66, 0.43], [0.56, -0.33, 0.2, 0.74, 0.81, 0.44, 0.41, -0.12, 0.27, 0.21, 0.32, 0.28, 0.28, 0.18, 0.27, -0.08, 0.21, 0.91, 0.86, 1.0, 0.41, 0.49, 0.41, 0.57, 0.82, 0.41], [0.19, -0.16, 0.05, 0.26, 0.27, 0.91, 0.8, -0.05, 0.29, 0.15, 0.21, 0.15, 0.16, 0.14, 0.23, -0.11, 0.05, 0.38, 0.32, 0.41, 1.0, 0.92, 0.25, 0.91, 0.33, 0.14], [0.28, -0.21, 0.09, 0.37, 0.44, 0.89, 0.81, 0.13, 0.2, 0.03, 0.03, -0.02, 0.34, 0.2, 0.1, -0.14, 0.21, 0.45, 0.39, 0.49, 0.92, 1.0, 0.13, 0.93, 0.38, 0.23], [0.24, -0.2, -0.01, 0.34, 0.33, 0.15, 0.09, -0.36, 0.31, 0.42, 0.55, 0.51, 0.15, 0.53, 0.64, 0.21, -0.26, 0.24, 0.54, 0.41, 0.25, 0.13, 1.0, 0.45, 0.45, 0.15], [0.32, -0.24, 0.06, 0.42, 0.48, 0.87, 0.74, -0.01, 0.26, 0.16, 0.22, 0.15, 0.33, 0.35, 0.31, -0.06, 0.12, 0.47, 0.53, 0.57, 0.91, 0.93, 0.45, 1.0, 0.51, 0.24], [0.43, -0.24, 0.14, 0.39, 0.51, 0.39, 0.3, -0.1, 0.23, 0.22, 0.31, 0.29, 0.24, 0.22, 0.29, -0.01, 0.2, 0.8, 0.66, 0.82, 0.33, 0.38, 0.45, 0.51, 1.0, 0.32], [0.81, -0.39, 0.37, 0.33, 0.46, 0.18, 0.13, -0.03, 0.1, 0.02, 0.16, 0.1, 0.21, 0.1, 0.08, 0.0, 0.19, 0.32, 0.43, 0.41, 0.14, 0.23, 0.15, 0.24, 0.32, 1.0]]}],\n",
              "                        {\"template\": {\"data\": {\"bar\": [{\"error_x\": {\"color\": \"#2a3f5f\"}, \"error_y\": {\"color\": \"#2a3f5f\"}, \"marker\": {\"line\": {\"color\": \"#E5ECF6\", \"width\": 0.5}}, \"type\": \"bar\"}], \"barpolar\": [{\"marker\": {\"line\": {\"color\": \"#E5ECF6\", \"width\": 0.5}}, \"type\": \"barpolar\"}], \"carpet\": [{\"aaxis\": {\"endlinecolor\": \"#2a3f5f\", \"gridcolor\": \"white\", \"linecolor\": \"white\", \"minorgridcolor\": \"white\", \"startlinecolor\": \"#2a3f5f\"}, \"baxis\": {\"endlinecolor\": \"#2a3f5f\", \"gridcolor\": \"white\", \"linecolor\": \"white\", \"minorgridcolor\": \"white\", \"startlinecolor\": \"#2a3f5f\"}, \"type\": \"carpet\"}], \"choropleth\": [{\"colorbar\": {\"outlinewidth\": 0, \"ticks\": \"\"}, \"type\": \"choropleth\"}], \"contour\": [{\"colorbar\": {\"outlinewidth\": 0, \"ticks\": \"\"}, \"colorscale\": [[0.0, \"#0d0887\"], [0.1111111111111111, \"#46039f\"], [0.2222222222222222, \"#7201a8\"], [0.3333333333333333, \"#9c179e\"], [0.4444444444444444, \"#bd3786\"], [0.5555555555555556, \"#d8576b\"], [0.6666666666666666, \"#ed7953\"], [0.7777777777777778, \"#fb9f3a\"], [0.8888888888888888, \"#fdca26\"], [1.0, \"#f0f921\"]], \"type\": \"contour\"}], \"contourcarpet\": [{\"colorbar\": {\"outlinewidth\": 0, \"ticks\": \"\"}, \"type\": \"contourcarpet\"}], \"heatmap\": [{\"colorbar\": {\"outlinewidth\": 0, \"ticks\": \"\"}, \"colorscale\": [[0.0, \"#0d0887\"], [0.1111111111111111, \"#46039f\"], [0.2222222222222222, \"#7201a8\"], [0.3333333333333333, \"#9c179e\"], [0.4444444444444444, \"#bd3786\"], [0.5555555555555556, \"#d8576b\"], [0.6666666666666666, \"#ed7953\"], [0.7777777777777778, \"#fb9f3a\"], [0.8888888888888888, \"#fdca26\"], [1.0, \"#f0f921\"]], \"type\": \"heatmap\"}], \"heatmapgl\": [{\"colorbar\": {\"outlinewidth\": 0, \"ticks\": \"\"}, \"colorscale\": [[0.0, \"#0d0887\"], [0.1111111111111111, \"#46039f\"], [0.2222222222222222, \"#7201a8\"], [0.3333333333333333, \"#9c179e\"], [0.4444444444444444, \"#bd3786\"], [0.5555555555555556, \"#d8576b\"], [0.6666666666666666, \"#ed7953\"], [0.7777777777777778, \"#fb9f3a\"], [0.8888888888888888, \"#fdca26\"], [1.0, \"#f0f921\"]], \"type\": \"heatmapgl\"}], \"histogram\": [{\"marker\": {\"colorbar\": {\"outlinewidth\": 0, \"ticks\": \"\"}}, \"type\": \"histogram\"}], \"histogram2d\": [{\"colorbar\": {\"outlinewidth\": 0, \"ticks\": \"\"}, \"colorscale\": [[0.0, \"#0d0887\"], [0.1111111111111111, \"#46039f\"], [0.2222222222222222, \"#7201a8\"], [0.3333333333333333, \"#9c179e\"], [0.4444444444444444, \"#bd3786\"], [0.5555555555555556, \"#d8576b\"], [0.6666666666666666, \"#ed7953\"], [0.7777777777777778, \"#fb9f3a\"], [0.8888888888888888, \"#fdca26\"], [1.0, \"#f0f921\"]], \"type\": \"histogram2d\"}], \"histogram2dcontour\": [{\"colorbar\": {\"outlinewidth\": 0, \"ticks\": \"\"}, \"colorscale\": [[0.0, \"#0d0887\"], [0.1111111111111111, \"#46039f\"], [0.2222222222222222, \"#7201a8\"], [0.3333333333333333, \"#9c179e\"], [0.4444444444444444, \"#bd3786\"], [0.5555555555555556, \"#d8576b\"], [0.6666666666666666, \"#ed7953\"], [0.7777777777777778, \"#fb9f3a\"], [0.8888888888888888, \"#fdca26\"], [1.0, \"#f0f921\"]], \"type\": \"histogram2dcontour\"}], \"mesh3d\": [{\"colorbar\": {\"outlinewidth\": 0, \"ticks\": \"\"}, \"type\": \"mesh3d\"}], \"parcoords\": [{\"line\": {\"colorbar\": {\"outlinewidth\": 0, \"ticks\": \"\"}}, \"type\": \"parcoords\"}], \"pie\": [{\"automargin\": true, \"type\": \"pie\"}], \"scatter\": [{\"marker\": {\"colorbar\": {\"outlinewidth\": 0, \"ticks\": \"\"}}, \"type\": \"scatter\"}], \"scatter3d\": [{\"line\": {\"colorbar\": {\"outlinewidth\": 0, \"ticks\": \"\"}}, \"marker\": {\"colorbar\": {\"outlinewidth\": 0, \"ticks\": \"\"}}, \"type\": \"scatter3d\"}], \"scattercarpet\": [{\"marker\": {\"colorbar\": {\"outlinewidth\": 0, \"ticks\": \"\"}}, \"type\": \"scattercarpet\"}], \"scattergeo\": [{\"marker\": {\"colorbar\": {\"outlinewidth\": 0, \"ticks\": \"\"}}, \"type\": \"scattergeo\"}], \"scattergl\": [{\"marker\": {\"colorbar\": {\"outlinewidth\": 0, \"ticks\": \"\"}}, \"type\": \"scattergl\"}], \"scattermapbox\": [{\"marker\": {\"colorbar\": {\"outlinewidth\": 0, \"ticks\": \"\"}}, \"type\": \"scattermapbox\"}], \"scatterpolar\": [{\"marker\": {\"colorbar\": {\"outlinewidth\": 0, \"ticks\": \"\"}}, \"type\": \"scatterpolar\"}], \"scatterpolargl\": [{\"marker\": {\"colorbar\": {\"outlinewidth\": 0, \"ticks\": \"\"}}, \"type\": \"scatterpolargl\"}], \"scatterternary\": [{\"marker\": {\"colorbar\": {\"outlinewidth\": 0, \"ticks\": \"\"}}, \"type\": \"scatterternary\"}], \"surface\": [{\"colorbar\": {\"outlinewidth\": 0, \"ticks\": \"\"}, \"colorscale\": [[0.0, \"#0d0887\"], [0.1111111111111111, \"#46039f\"], [0.2222222222222222, \"#7201a8\"], [0.3333333333333333, \"#9c179e\"], [0.4444444444444444, \"#bd3786\"], [0.5555555555555556, \"#d8576b\"], [0.6666666666666666, \"#ed7953\"], [0.7777777777777778, \"#fb9f3a\"], [0.8888888888888888, \"#fdca26\"], [1.0, \"#f0f921\"]], \"type\": \"surface\"}], \"table\": [{\"cells\": {\"fill\": {\"color\": \"#EBF0F8\"}, \"line\": {\"color\": \"white\"}}, \"header\": {\"fill\": {\"color\": \"#C8D4E3\"}, \"line\": {\"color\": \"white\"}}, \"type\": \"table\"}]}, \"layout\": {\"annotationdefaults\": {\"arrowcolor\": \"#2a3f5f\", \"arrowhead\": 0, \"arrowwidth\": 1}, \"coloraxis\": {\"colorbar\": {\"outlinewidth\": 0, \"ticks\": \"\"}}, \"colorscale\": {\"diverging\": [[0, \"#8e0152\"], [0.1, \"#c51b7d\"], [0.2, \"#de77ae\"], [0.3, \"#f1b6da\"], [0.4, \"#fde0ef\"], [0.5, \"#f7f7f7\"], [0.6, \"#e6f5d0\"], [0.7, \"#b8e186\"], [0.8, \"#7fbc41\"], [0.9, \"#4d9221\"], [1, \"#276419\"]], \"sequential\": [[0.0, \"#0d0887\"], [0.1111111111111111, \"#46039f\"], [0.2222222222222222, \"#7201a8\"], [0.3333333333333333, \"#9c179e\"], [0.4444444444444444, \"#bd3786\"], [0.5555555555555556, \"#d8576b\"], [0.6666666666666666, \"#ed7953\"], [0.7777777777777778, \"#fb9f3a\"], [0.8888888888888888, \"#fdca26\"], [1.0, \"#f0f921\"]], \"sequentialminus\": [[0.0, \"#0d0887\"], [0.1111111111111111, \"#46039f\"], [0.2222222222222222, \"#7201a8\"], [0.3333333333333333, \"#9c179e\"], [0.4444444444444444, \"#bd3786\"], [0.5555555555555556, \"#d8576b\"], [0.6666666666666666, \"#ed7953\"], [0.7777777777777778, \"#fb9f3a\"], [0.8888888888888888, \"#fdca26\"], [1.0, \"#f0f921\"]]}, \"colorway\": [\"#636efa\", \"#EF553B\", \"#00cc96\", \"#ab63fa\", \"#FFA15A\", \"#19d3f3\", \"#FF6692\", \"#B6E880\", \"#FF97FF\", \"#FECB52\"], \"font\": {\"color\": \"#2a3f5f\"}, \"geo\": {\"bgcolor\": \"white\", \"lakecolor\": \"white\", \"landcolor\": \"#E5ECF6\", \"showlakes\": true, \"showland\": true, \"subunitcolor\": \"white\"}, \"hoverlabel\": {\"align\": \"left\"}, \"hovermode\": \"closest\", \"mapbox\": {\"style\": \"light\"}, \"paper_bgcolor\": \"white\", \"plot_bgcolor\": \"#E5ECF6\", \"polar\": {\"angularaxis\": {\"gridcolor\": \"white\", \"linecolor\": \"white\", \"ticks\": \"\"}, \"bgcolor\": \"#E5ECF6\", \"radialaxis\": {\"gridcolor\": \"white\", \"linecolor\": \"white\", \"ticks\": \"\"}}, \"scene\": {\"xaxis\": {\"backgroundcolor\": \"#E5ECF6\", \"gridcolor\": \"white\", \"gridwidth\": 2, \"linecolor\": \"white\", \"showbackground\": true, \"ticks\": \"\", \"zerolinecolor\": \"white\"}, \"yaxis\": {\"backgroundcolor\": \"#E5ECF6\", \"gridcolor\": \"white\", \"gridwidth\": 2, \"linecolor\": \"white\", \"showbackground\": true, \"ticks\": \"\", \"zerolinecolor\": \"white\"}, \"zaxis\": {\"backgroundcolor\": \"#E5ECF6\", \"gridcolor\": \"white\", \"gridwidth\": 2, \"linecolor\": \"white\", \"showbackground\": true, \"ticks\": \"\", \"zerolinecolor\": \"white\"}}, \"shapedefaults\": {\"line\": {\"color\": \"#2a3f5f\"}}, \"ternary\": {\"aaxis\": {\"gridcolor\": \"white\", \"linecolor\": \"white\", \"ticks\": \"\"}, \"baxis\": {\"gridcolor\": \"white\", \"linecolor\": \"white\", \"ticks\": \"\"}, \"bgcolor\": \"#E5ECF6\", \"caxis\": {\"gridcolor\": \"white\", \"linecolor\": \"white\", \"ticks\": \"\"}}, \"title\": {\"x\": 0.05}, \"xaxis\": {\"automargin\": true, \"gridcolor\": \"white\", \"linecolor\": \"white\", \"ticks\": \"\", \"title\": {\"standoff\": 15}, \"zerolinecolor\": \"white\", \"zerolinewidth\": 2}, \"yaxis\": {\"automargin\": true, \"gridcolor\": \"white\", \"linecolor\": \"white\", \"ticks\": \"\", \"title\": {\"standoff\": 15}, \"zerolinecolor\": \"white\", \"zerolinewidth\": 2}}}},\n",
              "                        {\"responsive\": true}\n",
              "                    ).then(function(){\n",
              "                            \n",
              "var gd = document.getElementById('ffea1834-f4c6-47f7-925d-fb039a06907d');\n",
              "var x = new MutationObserver(function (mutations, observer) {{\n",
              "        var display = window.getComputedStyle(gd).display;\n",
              "        if (!display || display === 'none') {{\n",
              "            console.log([gd, 'removed!']);\n",
              "            Plotly.purge(gd);\n",
              "            observer.disconnect();\n",
              "        }}\n",
              "}});\n",
              "\n",
              "// Listen for the removal of the full notebook cells\n",
              "var notebookContainer = gd.closest('#notebook-container');\n",
              "if (notebookContainer) {{\n",
              "    x.observe(notebookContainer, {childList: true});\n",
              "}}\n",
              "\n",
              "// Listen for the clearing of the current output cell\n",
              "var outputEl = gd.closest('.output');\n",
              "if (outputEl) {{\n",
              "    x.observe(outputEl, {childList: true});\n",
              "}}\n",
              "\n",
              "                        })\n",
              "                };\n",
              "                \n",
              "            </script>\n",
              "        </div>\n",
              "</body>\n",
              "</html>"
            ]
          },
          "metadata": {
            "tags": []
          }
        }
      ]
    },
    {
      "cell_type": "markdown",
      "metadata": {
        "id": "CHOCWC2pCfYm"
      },
      "source": [
        "There are variables that are strongly correlated such as: OBPM and BPM, WS/48 and BPM, PER and WS/48, etc."
      ]
    }
  ]
}